{
 "cells": [
  {
   "cell_type": "code",
   "execution_count": null,
   "id": "41796226",
   "metadata": {},
   "outputs": [],
   "source": [
    "# | default_exp _components.aiokafka_producer_manager"
   ]
  },
  {
   "cell_type": "code",
   "execution_count": null,
   "id": "a044bd28",
   "metadata": {},
   "outputs": [],
   "source": [
    "# | export\n",
    "from typing import *\n",
    "\n",
    "from contextlib import contextmanager, asynccontextmanager\n",
    "\n",
    "from aiokafka import AIOKafkaProducer\n",
    "import anyio\n",
    "import asyncio\n",
    "\n",
    "from fast_kafka_api._components.logger import get_logger"
   ]
  },
  {
   "cell_type": "code",
   "execution_count": null,
   "id": "9671c23b",
   "metadata": {},
   "outputs": [],
   "source": [
    "from os import environ\n",
    "\n",
    "import unittest.mock\n",
    "\n",
    "from fast_kafka_api._components.logger import supress_timestamps\n",
    "from fast_kafka_api.testing import true_after, create_and_fill_testing_topic, nb_safe_seed"
   ]
  },
  {
   "cell_type": "code",
   "execution_count": null,
   "id": "9f16aa6f",
   "metadata": {},
   "outputs": [],
   "source": [
    "seed = nb_safe_seed(\"_components.aiokafka_producer_loop\")"
   ]
  },
  {
   "cell_type": "code",
   "execution_count": null,
   "id": "0e43a488",
   "metadata": {},
   "outputs": [],
   "source": [
    "# | notest\n",
    "# allows async calls in notebooks\n",
    "\n",
    "import nest_asyncio\n",
    "nest_asyncio.apply()"
   ]
  },
  {
   "cell_type": "code",
   "execution_count": null,
   "id": "59aded0d",
   "metadata": {},
   "outputs": [],
   "source": [
    "# | export\n",
    "\n",
    "logger = get_logger(__name__)"
   ]
  },
  {
   "cell_type": "code",
   "execution_count": null,
   "id": "2bbe6652",
   "metadata": {},
   "outputs": [
    {
     "name": "stdout",
     "output_type": "stream",
     "text": [
      "[INFO] __main__: ok\n"
     ]
    }
   ],
   "source": [
    "supress_timestamps()\n",
    "logger = get_logger(__name__, level=20)\n",
    "logger.info(\"ok\")"
   ]
  },
  {
   "cell_type": "code",
   "execution_count": null,
   "id": "c1146f85",
   "metadata": {},
   "outputs": [],
   "source": [
    "kafka_server_url = environ[\"KAFKA_HOSTNAME\"]\n",
    "kafka_server_port = environ[\"KAFKA_PORT\"]\n",
    "\n",
    "kafka_config = {\n",
    "    \"bootstrap.servers\": f\"{kafka_server_url}:{kafka_server_port}\"\n",
    "}"
   ]
  },
  {
   "cell_type": "code",
   "execution_count": null,
   "id": "570b1f2b",
   "metadata": {},
   "outputs": [],
   "source": [
    "# | export\n",
    "\n",
    "@asynccontextmanager\n",
    "async def _aiokafka_producer_manager(\n",
    "    producer: AIOKafkaProducer,\n",
    "    *,\n",
    "    max_buffer_size: int = 10_000\n",
    "):\n",
    "    \"\"\"Write docs\n",
    "\n",
    "    Todo: add batch size if needed\n",
    "    \"\"\"\n",
    "    \n",
    "    async def send_message(receive_stream):\n",
    "        async with receive_stream:\n",
    "            async for topic, msg in receive_stream:\n",
    "                fut = await producer.send(topic, msg)\n",
    "                msg = await fut\n",
    "    \n",
    "    send_stream, receive_stream = anyio.create_memory_object_stream(\n",
    "        max_buffer_size=max_buffer_size\n",
    "    )\n",
    "    \n",
    "    task_group_generator = anyio.create_task_group()\n",
    "    task_group = await task_group_generator.__aenter__()\n",
    "    task_group.start_soon(send_message, receive_stream)\n",
    "    await send_stream.__aenter__()\n",
    "    yield send_stream\n",
    "    await send_stream.__aexit__(None, None, None)\n",
    "    await task_group_generator.__aexit__(None, None, None)"
   ]
  },
  {
   "cell_type": "code",
   "execution_count": null,
   "id": "81ce58e1",
   "metadata": {},
   "outputs": [],
   "source": [
    "@contextmanager\n",
    "def mock_AIOKafkaProducer_send():\n",
    "    with unittest.mock.patch(\"__main__.AIOKafkaProducer.send\") as mock:\n",
    "\n",
    "        async def _f():\n",
    "            pass\n",
    "\n",
    "        mock.return_value = asyncio.create_task(_f())\n",
    "\n",
    "        yield mock"
   ]
  },
  {
   "cell_type": "code",
   "execution_count": null,
   "id": "8c4c07d4",
   "metadata": {},
   "outputs": [],
   "source": [
    "num_msgs = 1576\n",
    "topic = \"topic\"\n",
    "msg = b\"msg\"\n",
    "msgs = [(topic, msg) for _ in range(num_msgs)]\n",
    "calls = [unittest.mock.call(topic, msg) for _ in range(num_msgs)]\n",
    "\n",
    "with mock_AIOKafkaProducer_send() as send_mock:\n",
    "    producer = AIOKafkaProducer()\n",
    "    producer_loop_generator = _aiokafka_producer_manager(producer)\n",
    "    send_stream = await producer_loop_generator.__aenter__()\n",
    "    \n",
    "    for msg in msgs:\n",
    "        send_stream.send_nowait(msg)\n",
    "    \n",
    "    await producer.stop()\n",
    "    await producer_loop_generator.__aexit__(None, None, None)\n",
    "    \n",
    "    send_mock.assert_has_calls(calls)"
   ]
  },
  {
   "cell_type": "code",
   "execution_count": null,
   "id": "7b73384a",
   "metadata": {},
   "outputs": [],
   "source": [
    "# | export\n",
    "\n",
    "\n",
    "class AIOKafkaProducerManager:\n",
    "    def __init__(\n",
    "        self,\n",
    "        *,\n",
    "        bootstrap_servers: str,\n",
    "        max_buffer_size: int = 10_000,\n",
    "        **kwargs,\n",
    "    ):\n",
    "        self.producer = AIOKafkaProducer(bootstrap_servers=bootstrap_servers)\n",
    "        self.max_buffer_size = max_buffer_size\n",
    "\n",
    "    async def start(self):\n",
    "        self.producer_manager_generator = _aiokafka_producer_manager(self.producer)\n",
    "        self.send_stream = await self.producer_manager_generator.__aenter__()\n",
    "\n",
    "    async def stop(self):\n",
    "        await self.producer.stop()\n",
    "        await self.producer_manager_generator.__aexit__(None, None, None)\n",
    "\n",
    "    def send(self, topic: str, msg: bytes):\n",
    "        self.send_stream.send_nowait((topic, msg))"
   ]
  },
  {
   "cell_type": "raw",
   "id": "1974e194",
   "metadata": {},
   "source": [
    "manager = AIOKafkaProducerManager(bootstrap_servers=kafka_config[\"bootstrap.servers\"])\n",
    "\n",
    "await manager.start()\n",
    "manager.send(\"topic\", b\"msg\")\n",
    "await manager.stop()\n",
    "logger.info(\"Stopped\")"
   ]
  },
  {
   "cell_type": "code",
   "execution_count": null,
   "id": "bd9d3e6b",
   "metadata": {},
   "outputs": [],
   "source": []
  }
 ],
 "metadata": {
  "kernelspec": {
   "display_name": "Python 3 (ipykernel)",
   "language": "python",
   "name": "python3"
  }
 },
 "nbformat": 4,
 "nbformat_minor": 5
}

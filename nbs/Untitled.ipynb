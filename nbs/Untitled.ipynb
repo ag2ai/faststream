{
 "cells": [
  {
   "cell_type": "code",
   "execution_count": null,
   "id": "7ca5dcde",
   "metadata": {},
   "outputs": [],
   "source": [
    "import time\n",
    "\n",
    "from aiokafka import AIOKafkaProducer\n",
    "\n",
    "from fastkafka.testing import ApacheKafkaBroker"
   ]
  },
  {
   "cell_type": "code",
   "execution_count": null,
   "id": "ef5ff827",
   "metadata": {},
   "outputs": [
    {
     "name": "stdout",
     "output_type": "stream",
     "text": [
      "[INFO] fastkafka._testing.apache_kafka_broker: ApacheKafkaBroker.start(): entering...\n",
      "[WARNING] fastkafka._testing.apache_kafka_broker: ApacheKafkaBroker.start(): (<_UnixSelectorEventLoop running=True closed=False debug=False>) is already running!\n",
      "[WARNING] fastkafka._testing.apache_kafka_broker: ApacheKafkaBroker.start(): calling nest_asyncio.apply()\n",
      "[INFO] fastkafka._components.test_dependencies: Java is already installed.\n",
      "[INFO] fastkafka._components.test_dependencies: But not exported to PATH, exporting...\n",
      "[INFO] fastkafka._components.test_dependencies: Kafka is installed.\n",
      "[INFO] fastkafka._components.test_dependencies: But not exported to PATH, exporting...\n",
      "[INFO] fastkafka._testing.apache_kafka_broker: Starting zookeeper...\n",
      "[INFO] fastkafka._testing.apache_kafka_broker: Starting kafka...\n",
      "[INFO] fastkafka._testing.apache_kafka_broker: Local Kafka broker up and running on 127.0.0.1:9092\n",
      "[INFO] fastkafka._testing.apache_kafka_broker: <class 'fastkafka.testing.ApacheKafkaBroker'>.start(): returning 127.0.0.1:9092\n",
      "[INFO] fastkafka._testing.apache_kafka_broker: ApacheKafkaBroker.start(): exited.\n"
     ]
    },
    {
     "data": {
      "text/plain": [
       "'127.0.0.1:9092'"
      ]
     },
     "execution_count": null,
     "metadata": {},
     "output_type": "execute_result"
    }
   ],
   "source": [
    "broker = ApacheKafkaBroker(topics = [\"topic\"], apply_nest_asyncio=True)\n",
    "broker.start()"
   ]
  },
  {
   "cell_type": "code",
   "execution_count": null,
   "id": "546c7b82",
   "metadata": {},
   "outputs": [],
   "source": [
    "producer = AIOKafkaProducer(bootstrap_servers=[\"127.0.0.1:9092\"])\n",
    "batch = producer.create_batch()"
   ]
  },
  {
   "cell_type": "code",
   "execution_count": null,
   "id": "0d5385cd",
   "metadata": {},
   "outputs": [
    {
     "data": {
      "text/plain": [
       "<aiokafka.producer.message_accumulator.BatchBuilder>"
      ]
     },
     "execution_count": null,
     "metadata": {},
     "output_type": "execute_result"
    }
   ],
   "source": [
    "batch"
   ]
  },
  {
   "cell_type": "code",
   "execution_count": null,
   "id": "9406bcfd",
   "metadata": {},
   "outputs": [
    {
     "data": {
      "text/plain": [
       "LegacyRecordMetadata(offset=0, crc=510796226, size=29, timestamp=-1)"
      ]
     },
     "execution_count": null,
     "metadata": {},
     "output_type": "execute_result"
    }
   ],
   "source": [
    "batch.append(key=None, value=b\"msg\", timestamp=int(time.time() * 1000))"
   ]
  },
  {
   "cell_type": "code",
   "execution_count": null,
   "id": "b29939a2",
   "metadata": {},
   "outputs": [
    {
     "data": {
      "text/plain": [
       "bytearray(b'\\x00\\x00\\x00\\x00\\x00\\x00\\x00\\x00\\x00\\x00\\x00\\x11\\x1er!\\xc2\\x00\\x00\\xff\\xff\\xff\\xff\\x00\\x00\\x00\\x03msg')"
      ]
     },
     "execution_count": null,
     "metadata": {},
     "output_type": "execute_result"
    }
   ],
   "source": [
    "batch._builder.build()"
   ]
  },
  {
   "cell_type": "code",
   "execution_count": null,
   "id": "6d2da2c6",
   "metadata": {},
   "outputs": [],
   "source": [
    "partitions = await producer.partitions_for(\"topic\")"
   ]
  },
  {
   "cell_type": "code",
   "execution_count": null,
   "id": "2dc54c8d",
   "metadata": {},
   "outputs": [],
   "source": []
  }
 ],
 "metadata": {
  "kernelspec": {
   "display_name": "python3",
   "language": "python",
   "name": "python3"
  }
 },
 "nbformat": 4,
 "nbformat_minor": 5
}

{
 "cells": [
  {
   "cell_type": "code",
   "execution_count": null,
   "id": "163ff75c",
   "metadata": {},
   "outputs": [],
   "source": [
    "# | default_exp _components.producer_decorator"
   ]
  },
  {
   "cell_type": "code",
   "execution_count": null,
   "id": "d5a7e4fa",
   "metadata": {},
   "outputs": [],
   "source": [
    "# | export\n",
    "\n",
    "import functools\n",
    "import json\n",
    "from asyncio import iscoroutinefunction  # do not use the version from inspect\n",
    "from collections import namedtuple\n",
    "from typing import *\n",
    "\n",
    "from aiokafka import AIOKafkaProducer\n",
    "from pydantic import BaseModel"
   ]
  },
  {
   "cell_type": "code",
   "execution_count": null,
   "id": "01392e82",
   "metadata": {},
   "outputs": [],
   "source": [
    "import asyncio\n",
    "\n",
    "from pydantic import Field\n",
    "\n",
    "from fastkafka._components.aiokafka_producer_manager import \\\n",
    "    AIOKafkaProducerManager\n",
    "from fastkafka._testing.local_broker import LocalKafkaBroker\n",
    "from fastkafka._testing.test_utils import mock_AIOKafkaProducer_send"
   ]
  },
  {
   "cell_type": "code",
   "execution_count": null,
   "id": "21d981cd",
   "metadata": {},
   "outputs": [],
   "source": [
    "# | export\n",
    "\n",
    "\n",
    "ProduceCallable = Callable[..., Union[Awaitable[BaseModel], BaseModel]]"
   ]
  },
  {
   "cell_type": "code",
   "execution_count": null,
   "id": "a66cc7a0",
   "metadata": {},
   "outputs": [],
   "source": [
    "# | export\n",
    "\n",
    "\n",
    "def _to_json_utf8(o: Any) -> bytes:\n",
    "    \"\"\"Converts to JSON and then encodes with UTF-8\"\"\"\n",
    "    if hasattr(o, \"json\"):\n",
    "        return o.json().encode(\"utf-8\")  # type: ignore\n",
    "    else:\n",
    "        return json.dumps(o).encode(\"utf-8\")"
   ]
  },
  {
   "cell_type": "code",
   "execution_count": null,
   "id": "4bd6af9b",
   "metadata": {},
   "outputs": [],
   "source": [
    "assert _to_json_utf8({\"a\": 1, \"b\": [2, 3]}) == b'{\"a\": 1, \"b\": [2, 3]}'\n",
    "\n",
    "\n",
    "class A(BaseModel):\n",
    "    name: str = Field()\n",
    "    age: int\n",
    "\n",
    "\n",
    "assert _to_json_utf8(A(name=\"Davor\", age=12)) == b'{\"name\": \"Davor\", \"age\": 12}'"
   ]
  },
  {
   "cell_type": "code",
   "execution_count": null,
   "id": "d4b4e5e4",
   "metadata": {},
   "outputs": [],
   "source": [
    "# | export\n",
    "\n",
    "\n",
    "Message = namedtuple(\"Message\", \"message, key\", defaults=[None])"
   ]
  },
  {
   "cell_type": "code",
   "execution_count": null,
   "id": "e2e0166e",
   "metadata": {},
   "outputs": [],
   "source": [
    "message = Message(\"Some message\")\n",
    "assert message.message == \"Some message\"\n",
    "assert message.key == None\n",
    "\n",
    "message = Message(\"Some message\", b\"123\")\n",
    "assert message.message == \"Some message\"\n",
    "assert message.key == b\"123\""
   ]
  },
  {
   "cell_type": "code",
   "execution_count": null,
   "id": "4eb9ce04",
   "metadata": {},
   "outputs": [],
   "source": [
    "# | export\n",
    "\n",
    "\n",
    "def _wrap_in_message(message: Union[BaseModel, Message]) -> Message:\n",
    "    return message if type(message) == Message else Message(message)"
   ]
  },
  {
   "cell_type": "code",
   "execution_count": null,
   "id": "50cab521",
   "metadata": {},
   "outputs": [],
   "source": [
    "message = A(name=\"Davor\", age=12)\n",
    "wrapped = _wrap_in_message(message)\n",
    "\n",
    "assert type(wrapped) == Message\n",
    "assert wrapped.message == message\n",
    "assert wrapped.key == None"
   ]
  },
  {
   "cell_type": "code",
   "execution_count": null,
   "id": "d82893da",
   "metadata": {},
   "outputs": [],
   "source": [
    "message = Message(A(name=\"Davor\", age=12), b\"123\")\n",
    "wrapped = _wrap_in_message(message)\n",
    "\n",
    "assert type(wrapped) == Message\n",
    "assert wrapped.message == message.message\n",
    "assert wrapped.key == b\"123\""
   ]
  },
  {
   "cell_type": "code",
   "execution_count": null,
   "id": "4c10d395",
   "metadata": {},
   "outputs": [],
   "source": [
    "# | export\n",
    "\n",
    "\n",
    "def producer_decorator(\n",
    "    producer_store: Dict[str, Any], func: ProduceCallable, topic: str\n",
    ") -> ProduceCallable:\n",
    "    \"\"\"todo: write documentation\"\"\"\n",
    "    print(f\"producer_decorator: {producer_store=}\")\n",
    "    @functools.wraps(func)\n",
    "    async def _produce_async(\n",
    "        *args: List[Any], producer_store=producer_store, **kwargs: Any\n",
    "    ) -> BaseModel:\n",
    "        f: Callable[..., Awaitable[BaseModel]] = func  # type: ignore\n",
    "        return_val = await f(*args, **kwargs)\n",
    "        wrapped_val = _wrap_in_message(return_val)\n",
    "        _, producer, _ = producer_store[topic]\n",
    "        fut = await producer.send(\n",
    "            topic, _to_json_utf8(wrapped_val.message), key=wrapped_val.key\n",
    "        )\n",
    "        msg = await fut\n",
    "        return return_val\n",
    "\n",
    "    @functools.wraps(func)\n",
    "    def _produce_sync(\n",
    "        *args: List[Any], producer_store=producer_store, **kwargs: Dict[str, Any]\n",
    "    ) -> BaseModel:\n",
    "        f: Callable[..., BaseModel] = func  # type: ignore\n",
    "        return_val = f(*args, **kwargs)\n",
    "        wrapped_val = _wrap_in_message(return_val)\n",
    "        _, producer, _ = producer_store[topic]\n",
    "        producer.send(topic, _to_json_utf8(wrapped_val.message), key=wrapped_val.key)\n",
    "        return return_val\n",
    "\n",
    "    return _produce_async if iscoroutinefunction(func) else _produce_sync  # type: ignore"
   ]
  },
  {
   "cell_type": "code",
   "execution_count": null,
   "id": "f6e90c01",
   "metadata": {},
   "outputs": [
    {
     "name": "stdout",
     "output_type": "stream",
     "text": [
      "[INFO] fastkafka._components.helpers: Java is already installed.\n",
      "[INFO] fastkafka._components.helpers: But not exported to PATH, exporting...\n",
      "[INFO] fastkafka._components.helpers: Kafka is installed.\n",
      "[INFO] fastkafka._components.helpers: But not exported to PATH, exporting...\n",
      "[INFO] fastkafka._testing.local_broker: Starting zookeeper...\n",
      "[INFO] fastkafka._testing.local_broker: Starting kafka...\n",
      "[INFO] fastkafka._testing.local_broker: Local Kafka broker up and running on 127.0.0.1:9092\n",
      "[WARNING] aiokafka.cluster: No broker metadata found in MetadataResponse\n",
      "{'test_topic': (None, <aiokafka.producer.producer.AIOKafkaProducer object>, None)}\n",
      "[INFO] fastkafka._components._subprocess: terminate_asyncio_process(): Terminating the process 162436...\n",
      "[INFO] fastkafka._components._subprocess: terminate_asyncio_process(): Process 162436 terminated.\n",
      "[INFO] fastkafka._components._subprocess: terminate_asyncio_process(): Terminating the process 162075...\n",
      "[INFO] fastkafka._components._subprocess: terminate_asyncio_process(): Process 162075 terminated.\n",
      "[INFO] fastkafka._components.helpers: Java is already installed.\n",
      "[INFO] fastkafka._components.helpers: Kafka is installed.\n",
      "[INFO] fastkafka._testing.local_broker: Starting zookeeper...\n",
      "[INFO] fastkafka._testing.local_broker: Starting kafka...\n",
      "[INFO] fastkafka._testing.local_broker: Local Kafka broker up and running on 127.0.0.1:9092\n",
      "[INFO] fastkafka._components.aiokafka_producer_manager: AIOKafkaProducerManager.start(): Entering...\n",
      "[WARNING] aiokafka.cluster: No broker metadata found in MetadataResponse\n",
      "[INFO] fastkafka._components.aiokafka_producer_manager: _aiokafka_producer_manager(): Starting...\n",
      "[INFO] fastkafka._components.aiokafka_producer_manager: _aiokafka_producer_manager(): Starting send_stream\n",
      "[INFO] fastkafka._components.aiokafka_producer_manager: AIOKafkaProducerManager.start(): Finished.\n",
      "{'test_topic': (None, <fastkafka._components.aiokafka_producer_manager.AIOKafkaProducerManager object>, None)}\n",
      "[INFO] fastkafka._components.aiokafka_producer_manager: AIOKafkaProducerManager.stop(): Entering...\n",
      "[INFO] fastkafka._components.aiokafka_producer_manager: _aiokafka_producer_manager(): Exiting send_stream\n",
      "[INFO] fastkafka._components.aiokafka_producer_manager: _aiokafka_producer_manager(): Finished.\n",
      "[INFO] fastkafka._components.aiokafka_producer_manager: AIOKafkaProducerManager.stop(): Stoping producer...\n",
      "[INFO] fastkafka._components.aiokafka_producer_manager: AIOKafkaProducerManager.stop(): Finished\n",
      "[INFO] fastkafka._components._subprocess: terminate_asyncio_process(): Terminating the process 163230...\n",
      "[INFO] fastkafka._components._subprocess: terminate_asyncio_process(): Process 163230 terminated.\n",
      "[INFO] fastkafka._components._subprocess: terminate_asyncio_process(): Terminating the process 162870...\n",
      "[INFO] fastkafka._components._subprocess: terminate_asyncio_process(): Process 162870 terminated.\n",
      "ok\n"
     ]
    }
   ],
   "source": [
    "async def test_me(is_async: bool):\n",
    "    with mock_AIOKafkaProducer_send() as send_mock:\n",
    "        topic = \"test_topic\"\n",
    "\n",
    "        class MockMsg(BaseModel):\n",
    "            name: str = \"Micky Mouse\"\n",
    "            id: int = 123\n",
    "\n",
    "        if is_async:\n",
    "\n",
    "            async def func(mock_msg: MockMsg) -> MockMsg:\n",
    "                return mock_msg\n",
    "\n",
    "        else:\n",
    "\n",
    "            def func(mock_msg: MockMsg) -> MockMsg:\n",
    "                return mock_msg\n",
    "\n",
    "        async with LocalKafkaBroker() as bootstrap_server:\n",
    "            producer = AIOKafkaProducer(bootstrap_servers=bootstrap_server)\n",
    "            if not is_async:\n",
    "                producer = AIOKafkaProducerManager(producer)\n",
    "\n",
    "            await producer.start()\n",
    "            try:\n",
    "                test_func = producer_decorator({topic: (None, producer, None)}, func, topic)\n",
    "                assert iscoroutinefunction(test_func) == is_async\n",
    "\n",
    "                mock_msg = MockMsg()\n",
    "                if not is_async:\n",
    "                    value = test_func(mock_msg)\n",
    "                    await asyncio.sleep(1)\n",
    "                else:\n",
    "                    value = await test_func(mock_msg)\n",
    "\n",
    "                send_mock.assert_called_once_with(\n",
    "                    topic, mock_msg.json().encode(\"utf-8\"), key=None\n",
    "                )\n",
    "                assert value == mock_msg\n",
    "\n",
    "            finally:\n",
    "                await producer.stop()\n",
    "\n",
    "\n",
    "for is_async in [True, False]:\n",
    "    await test_me(is_async)\n",
    "\n",
    "print(\"ok\")"
   ]
  },
  {
   "cell_type": "code",
   "execution_count": null,
   "id": "ff50394c",
   "metadata": {},
   "outputs": [],
   "source": []
  }
 ],
 "metadata": {
  "kernelspec": {
   "display_name": "python3",
   "language": "python",
   "name": "python3"
  }
 },
 "nbformat": 4,
 "nbformat_minor": 5
}

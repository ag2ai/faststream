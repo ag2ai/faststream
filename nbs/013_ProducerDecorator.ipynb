{
 "cells": [
  {
   "cell_type": "code",
   "execution_count": null,
   "id": "163ff75c",
   "metadata": {},
   "outputs": [],
   "source": [
    "# | default_exp _components.producer_decorator"
   ]
  },
  {
   "cell_type": "code",
   "execution_count": null,
   "id": "d5a7e4fa",
   "metadata": {},
   "outputs": [],
   "source": [
    "# | export\n",
    "\n",
    "import functools\n",
    "import json\n",
    "from asyncio import iscoroutinefunction  # do not use the version from inspect\n",
    "from collections import namedtuple\n",
    "from dataclasses import dataclass\n",
    "from typing import *\n",
    "\n",
    "from aiokafka import AIOKafkaProducer\n",
    "from pydantic import BaseModel"
   ]
  },
  {
   "cell_type": "code",
   "execution_count": null,
   "id": "01392e82",
   "metadata": {},
   "outputs": [],
   "source": [
    "import asyncio\n",
    "from contextlib import asynccontextmanager\n",
    "from unittest.mock import Mock\n",
    "\n",
    "from pydantic import Field\n",
    "\n",
    "from fastkafka._components.aiokafka_producer_manager import AIOKafkaProducerManager\n",
    "from fastkafka._components.encoder.avro import avro_encoder\n",
    "from fastkafka._components.encoder.json import json_encoder\n",
    "from fastkafka._testing.apache_kafka_broker import ApacheKafkaBroker\n",
    "from fastkafka._testing.test_utils import mock_AIOKafkaProducer_send"
   ]
  },
  {
   "cell_type": "code",
   "execution_count": null,
   "id": "d4b4e5e4",
   "metadata": {},
   "outputs": [],
   "source": [
    "# | export\n",
    "\n",
    "\n",
    "BaseSubmodel = TypeVar(\"BaseSubmodel\", bound=BaseModel)\n",
    "BaseSubmodel\n",
    "\n",
    "\n",
    "@dataclass\n",
    "class KafkaEvent(Generic[BaseSubmodel]):\n",
    "    \"\"\"\n",
    "    A generic class for representing Kafka events. Based on BaseSubmodel, bound to pydantic.BaseModel\n",
    "\n",
    "    Attributes:\n",
    "        message (BaseSubmodel): The message contained in the Kafka event, can be of type pydantic.BaseModel.\n",
    "        key (bytes, optional): The optional key used to identify the Kafka event.\n",
    "    \"\"\"\n",
    "\n",
    "    message: BaseSubmodel\n",
    "    key: Optional[bytes] = None\n",
    "\n",
    "\n",
    "KafkaEvent.__module__ = \"fastkafka\""
   ]
  },
  {
   "cell_type": "code",
   "execution_count": null,
   "id": "e2e0166e",
   "metadata": {},
   "outputs": [],
   "source": [
    "event = KafkaEvent(\"Some message\")\n",
    "assert event.message == \"Some message\"\n",
    "assert event.key == None\n",
    "\n",
    "event = KafkaEvent(\"Some message\", b\"123\")\n",
    "assert event.message == \"Some message\"\n",
    "assert event.key == b\"123\""
   ]
  },
  {
   "cell_type": "code",
   "execution_count": null,
   "id": "21d981cd",
   "metadata": {},
   "outputs": [],
   "source": [
    "# | export\n",
    "\n",
    "ProduceReturnTypes = Union[BaseModel, KafkaEvent[BaseModel]]\n",
    "\n",
    "ProduceCallable = Union[\n",
    "    Callable[..., ProduceReturnTypes], Callable[..., Awaitable[ProduceReturnTypes]]\n",
    "]"
   ]
  },
  {
   "cell_type": "code",
   "execution_count": null,
   "id": "a66cc7a0",
   "metadata": {},
   "outputs": [],
   "source": [
    "# # | export\n",
    "\n",
    "\n",
    "# def _to_json_utf8(o: Any) -> bytes:\n",
    "#     \"\"\"Converts to JSON and then encodes with UTF-8\"\"\"\n",
    "#     if hasattr(o, \"json\"):\n",
    "#         return o.json().encode(\"utf-8\")  # type: ignore\n",
    "#     else:\n",
    "#         return json.dumps(o).encode(\"utf-8\")"
   ]
  },
  {
   "cell_type": "code",
   "execution_count": null,
   "id": "4bd6af9b",
   "metadata": {},
   "outputs": [],
   "source": [
    "# assert _to_json_utf8({\"a\": 1, \"b\": [2, 3]}) == b'{\"a\": 1, \"b\": [2, 3]}'\n",
    "\n",
    "\n",
    "class A(BaseModel):\n",
    "    name: str = Field()\n",
    "    age: int\n",
    "\n",
    "\n",
    "# assert _to_json_utf8(A(name=\"Davor\", age=12)) == b'{\"name\": \"Davor\", \"age\": 12}'"
   ]
  },
  {
   "cell_type": "code",
   "execution_count": null,
   "id": "4eb9ce04",
   "metadata": {},
   "outputs": [],
   "source": [
    "# | export\n",
    "\n",
    "\n",
    "def _wrap_in_event(message: Union[BaseModel, KafkaEvent]) -> KafkaEvent:\n",
    "    return message if type(message) == KafkaEvent else KafkaEvent(message)"
   ]
  },
  {
   "cell_type": "code",
   "execution_count": null,
   "id": "50cab521",
   "metadata": {},
   "outputs": [],
   "source": [
    "message = A(name=\"Davor\", age=12)\n",
    "wrapped = _wrap_in_event(message)\n",
    "\n",
    "assert type(wrapped) == KafkaEvent\n",
    "assert wrapped.message == message\n",
    "assert wrapped.key == None"
   ]
  },
  {
   "cell_type": "code",
   "execution_count": null,
   "id": "d82893da",
   "metadata": {},
   "outputs": [],
   "source": [
    "message = KafkaEvent(A(name=\"Davor\", age=12), b\"123\")\n",
    "wrapped = _wrap_in_event(message)\n",
    "\n",
    "assert type(wrapped) == KafkaEvent\n",
    "assert wrapped.message == message.message\n",
    "assert wrapped.key == b\"123\""
   ]
  },
  {
   "cell_type": "code",
   "execution_count": null,
   "id": "4c10d395",
   "metadata": {},
   "outputs": [],
   "source": [
    "# | export\n",
    "\n",
    "\n",
    "def producer_decorator(\n",
    "    producer_store: Dict[str, Any],\n",
    "    func: ProduceCallable,\n",
    "    topic: str,\n",
    "    encoder_fn: Callable[[BaseModel], bytes],\n",
    ") -> ProduceCallable:\n",
    "    \"\"\"todo: write documentation\"\"\"\n",
    "\n",
    "    @functools.wraps(func)\n",
    "    async def _produce_async(\n",
    "        *args: List[Any],\n",
    "        producer_store: Dict[str, Any] = producer_store,\n",
    "        f: Callable[..., Awaitable[ProduceReturnTypes]] = func,  # type: ignore\n",
    "        **kwargs: Any\n",
    "    ) -> ProduceReturnTypes:\n",
    "        return_val = await f(*args, **kwargs)\n",
    "        wrapped_val = _wrap_in_event(return_val)\n",
    "        _, producer, _ = producer_store[topic]\n",
    "        fut = await producer.send(\n",
    "            topic, encoder_fn(wrapped_val.message), key=wrapped_val.key\n",
    "        )\n",
    "        msg = await fut\n",
    "        return return_val\n",
    "\n",
    "    @functools.wraps(func)\n",
    "    def _produce_sync(\n",
    "        *args: List[Any],\n",
    "        producer_store: Dict[str, Any] = producer_store,\n",
    "        f: Callable[..., ProduceReturnTypes] = func,  # type: ignore\n",
    "        **kwargs: Any\n",
    "    ) -> ProduceReturnTypes:\n",
    "        return_val = f(*args, **kwargs)\n",
    "        wrapped_val = _wrap_in_event(return_val)\n",
    "        _, producer, _ = producer_store[topic]\n",
    "        producer.send(topic, encoder_fn(wrapped_val.message), key=wrapped_val.key)\n",
    "        return return_val\n",
    "\n",
    "    return _produce_async if iscoroutinefunction(func) else _produce_sync"
   ]
  },
  {
   "cell_type": "code",
   "execution_count": null,
   "id": "e76940b8",
   "metadata": {},
   "outputs": [],
   "source": [
    "class MockMsg(BaseModel):\n",
    "    name: str = \"Micky Mouse\"\n",
    "    id: int = 123\n",
    "\n",
    "\n",
    "mock_msg = MockMsg()\n",
    "\n",
    "topic = \"test_topic\""
   ]
  },
  {
   "cell_type": "code",
   "execution_count": null,
   "id": "4d66e6b0",
   "metadata": {},
   "outputs": [],
   "source": [
    "@asynccontextmanager\n",
    "async def mock_producer_env(\n",
    "    is_sync: bool,\n",
    ") -> AsyncGenerator[\n",
    "    Tuple[Mock, Union[AIOKafkaProducer, AIOKafkaProducerManager]], None\n",
    "]:\n",
    "    try:\n",
    "        with mock_AIOKafkaProducer_send() as send_mock:\n",
    "            async with ApacheKafkaBroker(topics=[topic]) as bootstrap_server:\n",
    "                producer = AIOKafkaProducer(bootstrap_servers=bootstrap_server)\n",
    "                if is_sync:\n",
    "                    producer = AIOKafkaProducerManager(producer)\n",
    "                await producer.start()\n",
    "                yield send_mock, producer\n",
    "    finally:\n",
    "        await producer.stop()"
   ]
  },
  {
   "cell_type": "code",
   "execution_count": null,
   "id": "a6f2fa81",
   "metadata": {},
   "outputs": [
    {
     "name": "stdout",
     "output_type": "stream",
     "text": [
      "[INFO] fastkafka._components.test_dependencies: Java is already installed.\n",
      "[INFO] fastkafka._components.test_dependencies: But not exported to PATH, exporting...\n",
      "[INFO] fastkafka._components.test_dependencies: Kafka is installed.\n",
      "[INFO] fastkafka._components.test_dependencies: But not exported to PATH, exporting...\n",
      "[INFO] fastkafka._testing.apache_kafka_broker: Starting zookeeper...\n",
      "[INFO] fastkafka._testing.apache_kafka_broker: Starting kafka...\n",
      "[INFO] fastkafka._testing.apache_kafka_broker: Local Kafka broker up and running on 127.0.0.1:9092\n",
      "[INFO] fastkafka._components._subprocess: terminate_asyncio_process(): Terminating the process 578631...\n",
      "[INFO] fastkafka._components._subprocess: terminate_asyncio_process(): Process 578631 terminated.\n",
      "[INFO] fastkafka._components._subprocess: terminate_asyncio_process(): Terminating the process 578258...\n",
      "[INFO] fastkafka._components._subprocess: terminate_asyncio_process(): Process 578258 terminated.\n"
     ]
    }
   ],
   "source": [
    "async def func(mock_msg: MockMsg) -> MockMsg:\n",
    "    return mock_msg\n",
    "\n",
    "\n",
    "async with mock_producer_env(is_sync=False) as (send_mock, producer):\n",
    "    test_func = producer_decorator(\n",
    "        {topic: (None, producer, None)}, func, topic, encoder_fn=json_encoder\n",
    "    )\n",
    "\n",
    "    assert iscoroutinefunction(test_func) == True\n",
    "\n",
    "    value = await test_func(mock_msg)\n",
    "\n",
    "    send_mock.assert_called_once_with(topic, mock_msg.json().encode(\"utf-8\"), key=None)\n",
    "\n",
    "    assert value == mock_msg"
   ]
  },
  {
   "cell_type": "code",
   "execution_count": null,
   "id": "81ef0733",
   "metadata": {},
   "outputs": [
    {
     "name": "stdout",
     "output_type": "stream",
     "text": [
      "[INFO] fastkafka._components.test_dependencies: Java is already installed.\n",
      "[INFO] fastkafka._components.test_dependencies: Kafka is installed.\n",
      "[INFO] fastkafka._testing.apache_kafka_broker: Starting zookeeper...\n",
      "[INFO] fastkafka._testing.apache_kafka_broker: Starting kafka...\n",
      "[INFO] fastkafka._testing.apache_kafka_broker: Local Kafka broker up and running on 127.0.0.1:9092\n",
      "[INFO] fastkafka._components._subprocess: terminate_asyncio_process(): Terminating the process 579834...\n",
      "[INFO] fastkafka._components._subprocess: terminate_asyncio_process(): Process 579834 terminated.\n",
      "[INFO] fastkafka._components._subprocess: terminate_asyncio_process(): Terminating the process 579461...\n",
      "[INFO] fastkafka._components._subprocess: terminate_asyncio_process(): Process 579461 terminated.\n"
     ]
    }
   ],
   "source": [
    "# Test with avro_encoder\n",
    "async def func(mock_msg: MockMsg) -> MockMsg:\n",
    "    return mock_msg\n",
    "\n",
    "\n",
    "async with mock_producer_env(is_sync=False) as (send_mock, producer):\n",
    "    test_func = producer_decorator(\n",
    "        {topic: (None, producer, None)}, func, topic, encoder_fn=avro_encoder\n",
    "    )\n",
    "\n",
    "    assert iscoroutinefunction(test_func) == True\n",
    "\n",
    "    value = await test_func(mock_msg)\n",
    "\n",
    "    send_mock.assert_called_once_with(topic, avro_encoder(mock_msg), key=None)\n",
    "\n",
    "    assert value == mock_msg"
   ]
  },
  {
   "cell_type": "code",
   "execution_count": null,
   "id": "795635f3",
   "metadata": {},
   "outputs": [
    {
     "name": "stdout",
     "output_type": "stream",
     "text": [
      "[INFO] fastkafka._components.test_dependencies: Java is already installed.\n",
      "[INFO] fastkafka._components.test_dependencies: Kafka is installed.\n",
      "[INFO] fastkafka._testing.apache_kafka_broker: Starting zookeeper...\n",
      "[INFO] fastkafka._testing.apache_kafka_broker: Starting kafka...\n",
      "[INFO] fastkafka._testing.apache_kafka_broker: Local Kafka broker up and running on 127.0.0.1:9092\n",
      "[INFO] fastkafka._components.aiokafka_producer_manager: AIOKafkaProducerManager.start(): Entering...\n",
      "[INFO] fastkafka._components.aiokafka_producer_manager: _aiokafka_producer_manager(): Starting...\n",
      "[INFO] fastkafka._components.aiokafka_producer_manager: _aiokafka_producer_manager(): Starting send_stream\n",
      "[INFO] fastkafka._components.aiokafka_producer_manager: AIOKafkaProducerManager.start(): Finished.\n",
      "[INFO] fastkafka._components._subprocess: terminate_asyncio_process(): Terminating the process 581034...\n",
      "[INFO] fastkafka._components._subprocess: terminate_asyncio_process(): Process 581034 terminated.\n",
      "[INFO] fastkafka._components._subprocess: terminate_asyncio_process(): Terminating the process 580662...\n",
      "[INFO] fastkafka._components._subprocess: terminate_asyncio_process(): Process 580662 terminated.\n",
      "[INFO] fastkafka._components.aiokafka_producer_manager: AIOKafkaProducerManager.stop(): Entering...\n",
      "[INFO] fastkafka._components.aiokafka_producer_manager: _aiokafka_producer_manager(): Exiting send_stream\n",
      "[INFO] fastkafka._components.aiokafka_producer_manager: _aiokafka_producer_manager(): Finished.\n",
      "[INFO] fastkafka._components.aiokafka_producer_manager: AIOKafkaProducerManager.stop(): Stoping producer...\n",
      "[INFO] fastkafka._components.aiokafka_producer_manager: AIOKafkaProducerManager.stop(): Finished\n"
     ]
    }
   ],
   "source": [
    "def func(mock_msg: MockMsg) -> MockMsg:\n",
    "    return mock_msg\n",
    "\n",
    "\n",
    "async with mock_producer_env(is_sync=True) as (send_mock, producer):\n",
    "    test_func = producer_decorator(\n",
    "        {topic: (None, producer, None)}, func, topic, encoder_fn=json_encoder\n",
    "    )\n",
    "\n",
    "    assert iscoroutinefunction(test_func) == False\n",
    "\n",
    "    value = test_func(mock_msg)\n",
    "    await asyncio.sleep(1)\n",
    "\n",
    "    send_mock.assert_called_once_with(topic, mock_msg.json().encode(\"utf-8\"), key=None)\n",
    "\n",
    "    assert value == mock_msg"
   ]
  },
  {
   "cell_type": "code",
   "execution_count": null,
   "id": "35a1fc20",
   "metadata": {},
   "outputs": [
    {
     "name": "stdout",
     "output_type": "stream",
     "text": [
      "[INFO] fastkafka._components.test_dependencies: Java is already installed.\n",
      "[INFO] fastkafka._components.test_dependencies: Kafka is installed.\n",
      "[INFO] fastkafka._testing.apache_kafka_broker: Starting zookeeper...\n",
      "[INFO] fastkafka._testing.apache_kafka_broker: Starting kafka...\n",
      "[INFO] fastkafka._testing.apache_kafka_broker: Local Kafka broker up and running on 127.0.0.1:9092\n",
      "[INFO] fastkafka._components.aiokafka_producer_manager: AIOKafkaProducerManager.start(): Entering...\n",
      "[INFO] fastkafka._components.aiokafka_producer_manager: _aiokafka_producer_manager(): Starting...\n",
      "[INFO] fastkafka._components.aiokafka_producer_manager: _aiokafka_producer_manager(): Starting send_stream\n",
      "[INFO] fastkafka._components.aiokafka_producer_manager: AIOKafkaProducerManager.start(): Finished.\n",
      "[INFO] fastkafka._components._subprocess: terminate_asyncio_process(): Terminating the process 582234...\n",
      "[INFO] fastkafka._components._subprocess: terminate_asyncio_process(): Process 582234 terminated.\n",
      "[INFO] fastkafka._components._subprocess: terminate_asyncio_process(): Terminating the process 581862...\n",
      "[INFO] fastkafka._components._subprocess: terminate_asyncio_process(): Process 581862 terminated.\n",
      "[INFO] fastkafka._components.aiokafka_producer_manager: AIOKafkaProducerManager.stop(): Entering...\n",
      "[INFO] fastkafka._components.aiokafka_producer_manager: _aiokafka_producer_manager(): Exiting send_stream\n",
      "[INFO] fastkafka._components.aiokafka_producer_manager: _aiokafka_producer_manager(): Finished.\n",
      "[INFO] fastkafka._components.aiokafka_producer_manager: AIOKafkaProducerManager.stop(): Stoping producer...\n",
      "[INFO] fastkafka._components.aiokafka_producer_manager: AIOKafkaProducerManager.stop(): Finished\n"
     ]
    }
   ],
   "source": [
    "# Test with avro_encoder\n",
    "def func(mock_msg: MockMsg) -> MockMsg:\n",
    "    return mock_msg\n",
    "\n",
    "\n",
    "async with mock_producer_env(is_sync=True) as (send_mock, producer):\n",
    "    test_func = producer_decorator(\n",
    "        {topic: (None, producer, None)}, func, topic, encoder_fn=avro_encoder\n",
    "    )\n",
    "\n",
    "    assert iscoroutinefunction(test_func) == False\n",
    "\n",
    "    value = test_func(mock_msg)\n",
    "    await asyncio.sleep(1)\n",
    "\n",
    "    send_mock.assert_called_once_with(topic, avro_encoder(mock_msg), key=None)\n",
    "\n",
    "    assert value == mock_msg"
   ]
  },
  {
   "cell_type": "code",
   "execution_count": null,
   "id": "c359e2f7",
   "metadata": {},
   "outputs": [],
   "source": [
    "test_key = b\"some_key\""
   ]
  },
  {
   "cell_type": "code",
   "execution_count": null,
   "id": "c57256fe",
   "metadata": {},
   "outputs": [
    {
     "name": "stdout",
     "output_type": "stream",
     "text": [
      "[INFO] fastkafka._components.test_dependencies: Java is already installed.\n",
      "[INFO] fastkafka._components.test_dependencies: Kafka is installed.\n",
      "[INFO] fastkafka._testing.apache_kafka_broker: Starting zookeeper...\n",
      "[INFO] fastkafka._testing.apache_kafka_broker: Starting kafka...\n",
      "[INFO] fastkafka._testing.apache_kafka_broker: Local Kafka broker up and running on 127.0.0.1:9092\n",
      "[INFO] fastkafka._components._subprocess: terminate_asyncio_process(): Terminating the process 583437...\n",
      "[INFO] fastkafka._components._subprocess: terminate_asyncio_process(): Process 583437 terminated.\n",
      "[INFO] fastkafka._components._subprocess: terminate_asyncio_process(): Terminating the process 583065...\n",
      "[INFO] fastkafka._components._subprocess: terminate_asyncio_process(): Process 583065 terminated.\n"
     ]
    }
   ],
   "source": [
    "async def func(mock_msg: MockMsg) -> KafkaEvent[MockMsg]:\n",
    "    return KafkaEvent(mock_msg, key=test_key)\n",
    "\n",
    "\n",
    "async with mock_producer_env(is_sync=False) as (send_mock, producer):\n",
    "    test_func = producer_decorator(\n",
    "        {topic: (None, producer, None)}, func, topic, encoder_fn=json_encoder\n",
    "    )\n",
    "\n",
    "    assert iscoroutinefunction(test_func) == True\n",
    "\n",
    "    value = await test_func(mock_msg)\n",
    "\n",
    "    send_mock.assert_called_once_with(\n",
    "        topic, mock_msg.json().encode(\"utf-8\"), key=test_key\n",
    "    )\n",
    "\n",
    "    assert value == KafkaEvent(mock_msg, key=test_key)"
   ]
  },
  {
   "cell_type": "code",
   "execution_count": null,
   "id": "f0fd556a",
   "metadata": {},
   "outputs": [
    {
     "name": "stdout",
     "output_type": "stream",
     "text": [
      "[INFO] fastkafka._components.test_dependencies: Java is already installed.\n",
      "[INFO] fastkafka._components.test_dependencies: Kafka is installed.\n",
      "[INFO] fastkafka._testing.apache_kafka_broker: Starting zookeeper...\n",
      "[INFO] fastkafka._testing.apache_kafka_broker: Starting kafka...\n",
      "[INFO] fastkafka._testing.apache_kafka_broker: Local Kafka broker up and running on 127.0.0.1:9092\n",
      "[INFO] fastkafka._components._subprocess: terminate_asyncio_process(): Terminating the process 584635...\n",
      "[INFO] fastkafka._components._subprocess: terminate_asyncio_process(): Process 584635 terminated.\n",
      "[INFO] fastkafka._components._subprocess: terminate_asyncio_process(): Terminating the process 584263...\n",
      "[INFO] fastkafka._components._subprocess: terminate_asyncio_process(): Process 584263 terminated.\n"
     ]
    }
   ],
   "source": [
    "# Test with avro_encoder\n",
    "\n",
    "\n",
    "async def func(mock_msg: MockMsg) -> KafkaEvent[MockMsg]:\n",
    "    return KafkaEvent(mock_msg, key=test_key)\n",
    "\n",
    "\n",
    "async with mock_producer_env(is_sync=False) as (send_mock, producer):\n",
    "    test_func = producer_decorator(\n",
    "        {topic: (None, producer, None)}, func, topic, encoder_fn=avro_encoder\n",
    "    )\n",
    "\n",
    "    assert iscoroutinefunction(test_func) == True\n",
    "\n",
    "    value = await test_func(mock_msg)\n",
    "\n",
    "    send_mock.assert_called_once_with(topic, avro_encoder(mock_msg), key=test_key)\n",
    "\n",
    "    assert value == KafkaEvent(mock_msg, key=test_key)"
   ]
  },
  {
   "cell_type": "code",
   "execution_count": null,
   "id": "ff50394c",
   "metadata": {},
   "outputs": [
    {
     "name": "stdout",
     "output_type": "stream",
     "text": [
      "[INFO] fastkafka._components.test_dependencies: Java is already installed.\n",
      "[INFO] fastkafka._components.test_dependencies: Kafka is installed.\n",
      "[INFO] fastkafka._testing.apache_kafka_broker: Starting zookeeper...\n",
      "[INFO] fastkafka._testing.apache_kafka_broker: Starting kafka...\n",
      "[INFO] fastkafka._testing.apache_kafka_broker: Local Kafka broker up and running on 127.0.0.1:9092\n",
      "[INFO] fastkafka._components._subprocess: terminate_asyncio_process(): Terminating the process 585836...\n",
      "[INFO] fastkafka._components._subprocess: terminate_asyncio_process(): Process 585836 terminated.\n",
      "[INFO] fastkafka._components._subprocess: terminate_asyncio_process(): Terminating the process 585463...\n",
      "[INFO] fastkafka._components._subprocess: terminate_asyncio_process(): Process 585463 terminated.\n"
     ]
    }
   ],
   "source": [
    "async def func(mock_msg: MockMsg) -> KafkaEvent[MockMsg]:\n",
    "    return KafkaEvent(mock_msg, key=test_key)\n",
    "\n",
    "\n",
    "async with mock_producer_env(is_sync=False) as (send_mock, producer):\n",
    "    test_func = producer_decorator(\n",
    "        {topic: (None, producer, None)}, func, topic, encoder_fn=json_encoder\n",
    "    )\n",
    "\n",
    "    assert iscoroutinefunction(test_func) == True\n",
    "\n",
    "    value = await test_func(mock_msg)\n",
    "\n",
    "    send_mock.assert_called_once_with(\n",
    "        topic, mock_msg.json().encode(\"utf-8\"), key=test_key\n",
    "    )\n",
    "\n",
    "    assert value == KafkaEvent(mock_msg, key=test_key)"
   ]
  },
  {
   "cell_type": "code",
   "execution_count": null,
   "id": "066d7488",
   "metadata": {},
   "outputs": [
    {
     "name": "stdout",
     "output_type": "stream",
     "text": [
      "[INFO] fastkafka._components.test_dependencies: Java is already installed.\n",
      "[INFO] fastkafka._components.test_dependencies: Kafka is installed.\n",
      "[INFO] fastkafka._testing.apache_kafka_broker: Starting zookeeper...\n",
      "[INFO] fastkafka._testing.apache_kafka_broker: Starting kafka...\n",
      "[INFO] fastkafka._testing.apache_kafka_broker: Local Kafka broker up and running on 127.0.0.1:9092\n",
      "[INFO] fastkafka._components._subprocess: terminate_asyncio_process(): Terminating the process 587038...\n",
      "[INFO] fastkafka._components._subprocess: terminate_asyncio_process(): Process 587038 terminated.\n",
      "[INFO] fastkafka._components._subprocess: terminate_asyncio_process(): Terminating the process 586665...\n",
      "[INFO] fastkafka._components._subprocess: terminate_asyncio_process(): Process 586665 terminated.\n"
     ]
    }
   ],
   "source": [
    "# Test with avro_encoder\n",
    "\n",
    "\n",
    "async def func(mock_msg: MockMsg) -> KafkaEvent[MockMsg]:\n",
    "    return KafkaEvent(mock_msg, key=test_key)\n",
    "\n",
    "\n",
    "async with mock_producer_env(is_sync=False) as (send_mock, producer):\n",
    "    test_func = producer_decorator(\n",
    "        {topic: (None, producer, None)}, func, topic, encoder_fn=avro_encoder\n",
    "    )\n",
    "\n",
    "    assert iscoroutinefunction(test_func) == True\n",
    "\n",
    "    value = await test_func(mock_msg)\n",
    "\n",
    "    send_mock.assert_called_once_with(topic, avro_encoder(mock_msg), key=test_key)\n",
    "\n",
    "    assert value == KafkaEvent(mock_msg, key=test_key)"
   ]
  },
  {
   "cell_type": "code",
   "execution_count": null,
   "id": "e146d208",
   "metadata": {},
   "outputs": [],
   "source": []
  }
 ],
 "metadata": {
  "kernelspec": {
   "display_name": "python3",
   "language": "python",
   "name": "python3"
  }
 },
 "nbformat": 4,
 "nbformat_minor": 5
}

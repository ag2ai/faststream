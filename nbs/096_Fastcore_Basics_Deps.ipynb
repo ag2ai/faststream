{
 "cells": [
  {
   "cell_type": "code",
   "execution_count": null,
   "id": "61438c62",
   "metadata": {},
   "outputs": [],
   "source": [
    "# | default_exp _components.basics"
   ]
  },
  {
   "cell_type": "code",
   "execution_count": null,
   "id": "4f538d5f",
   "metadata": {},
   "outputs": [],
   "source": [
    "# | export\n",
    "\n",
    "import builtins\n",
    "import copy as cp\n",
    "import functools\n",
    "import types\n",
    "\n",
    "from types import FunctionType, MethodType, UnionType\n",
    "from typing import Union, TypeVar, Any, Callable, Type\n",
    "from functools import partial"
   ]
  },
  {
   "cell_type": "markdown",
   "id": "e49f29f9",
   "metadata": {},
   "source": [
    "# Fastcore dependencies"
   ]
  },
  {
   "cell_type": "code",
   "execution_count": null,
   "id": "9fcc9993",
   "metadata": {},
   "outputs": [],
   "source": [
    "# |exporti\n",
    "\n",
    "\n",
    "def test_eq(a: Any, b: Any) -> None:\n",
    "    \"`test` that `a==b`\"\n",
    "    if a != b:\n",
    "        raise ValueError(f\"{a} != {b}\")"
   ]
  },
  {
   "cell_type": "markdown",
   "id": "3dd42876",
   "metadata": {},
   "source": [
    "## Patching\n",
    "\n",
    "> copied from https://github.com/fastai/fastcore/blob/master/nbs/01_basics.ipynb"
   ]
  },
  {
   "cell_type": "code",
   "execution_count": null,
   "id": "a621b3e2",
   "metadata": {},
   "outputs": [],
   "source": [
    "# |exporti\n",
    "F = TypeVar(\"F\", bound=Callable[..., Any])\n",
    "\n",
    "\n",
    "def copy_func(f: FunctionType) -> FunctionType:\n",
    "    \"Copy a non-builtin function (NB `copy.copy` does not work for this)\"\n",
    "    if not isinstance(f, FunctionType):\n",
    "        return cp.copy(f)\n",
    "    fn = FunctionType(\n",
    "        f.__code__, f.__globals__, f.__name__, f.__defaults__, f.__closure__\n",
    "    )\n",
    "    fn.__kwdefaults__ = f.__kwdefaults__\n",
    "    fn.__dict__.update(f.__dict__)\n",
    "    fn.__annotations__.update(f.__annotations__)\n",
    "    fn.__qualname__ = f.__qualname__\n",
    "    return fn"
   ]
  },
  {
   "cell_type": "code",
   "execution_count": null,
   "id": "859231b9",
   "metadata": {},
   "outputs": [],
   "source": [
    "def foo():\n",
    "    \"\"\" Test doc \"\"\"\n",
    "    pass\n",
    "\n",
    "c = copy_func(foo)"
   ]
  },
  {
   "cell_type": "code",
   "execution_count": null,
   "id": "8d465db0",
   "metadata": {},
   "outputs": [],
   "source": [
    "def foo():\n",
    "    pass\n",
    "\n",
    "\n",
    "a = cp.copy(foo)\n",
    "b = cp.deepcopy(foo)\n",
    "\n",
    "a.someattr = \"hello\"  # since a and b point at the same object, updating a will update b\n",
    "test_eq(b.someattr, \"hello\")\n",
    "\n",
    "assert a is foo and b is foo"
   ]
  },
  {
   "cell_type": "markdown",
   "id": "739b940f",
   "metadata": {},
   "source": [
    "However, with copy_func, you can retrieve a copy of a function without a reference to the original object:"
   ]
  },
  {
   "cell_type": "code",
   "execution_count": null,
   "id": "db9c3670",
   "metadata": {},
   "outputs": [],
   "source": [
    "c = copy_func(foo)  # c is an indpendent object\n",
    "assert c is not foo"
   ]
  },
  {
   "cell_type": "code",
   "execution_count": null,
   "id": "88934909",
   "metadata": {},
   "outputs": [],
   "source": [
    "def g(x, *, y=3):\n",
    "    return x + y\n",
    "\n",
    "\n",
    "test_eq(copy_func(g)(4), 7)"
   ]
  },
  {
   "cell_type": "code",
   "execution_count": null,
   "id": "00f7e9ca",
   "metadata": {},
   "outputs": [],
   "source": [
    "# |exporti\n",
    "\n",
    "\n",
    "def patch_to(cls: Type, as_prop:bool=False, cls_method:bool=False)->Callable[[F], F]:\n",
    "    \"Decorator: add `f` to `cls`\"\n",
    "    if not isinstance(cls, (tuple, list)):\n",
    "        cls = (cls,)\n",
    "\n",
    "    def _inner(f: F)->F:\n",
    "        for c_ in cls:\n",
    "            nf = copy_func(f)\n",
    "            nm = f.__name__\n",
    "            # `functools.update_wrapper` when passing patched function to `Pipeline`, so we do it manually\n",
    "            for o in functools.WRAPPER_ASSIGNMENTS:\n",
    "                setattr(nf, o, getattr(f, o))\n",
    "            nf.__qualname__ = f\"{c_.__name__}.{nm}\"\n",
    "            if cls_method:\n",
    "                setattr(c_, nm, MethodType(nf, c_))\n",
    "            else:\n",
    "                setattr(c_, nm, property(nf) if as_prop else nf)\n",
    "        # Avoid clobbering existing functions\n",
    "        existing_func = globals().get(nm, builtins.__dict__.get(nm, None))\n",
    "        return existing_func\n",
    "\n",
    "    return _inner"
   ]
  },
  {
   "cell_type": "code",
   "execution_count": null,
   "id": "ee9ab22b",
   "metadata": {},
   "outputs": [],
   "source": [
    "class _T3(int):\n",
    "    pass\n",
    "\n",
    "@patch_to(_T3)\n",
    "def foo(self):\n",
    "    \"\"\" Test doc \"\"\"\n",
    "    pass\n",
    "\n",
    "assert _T3(1).foo.__doc__ == \"\"\" Test doc \"\"\", foo.__doc__"
   ]
  },
  {
   "cell_type": "markdown",
   "id": "740507c5",
   "metadata": {},
   "source": [
    "     \n",
    "The @patch_to decorator allows you to monkey patch a function into a class as a method:"
   ]
  },
  {
   "cell_type": "code",
   "execution_count": null,
   "id": "ce7b854a",
   "metadata": {},
   "outputs": [],
   "source": [
    "class _T3(int):\n",
    "    pass\n",
    "\n",
    "\n",
    "@patch_to(_T3)\n",
    "def func1(self, a):\n",
    "    return self + a\n",
    "\n",
    "\n",
    "t = _T3(1)  # we initilized `t` to a type int = 1\n",
    "test_eq(t.func1(2), 3)  # we add 2 to `t`, so 2 + 1 = 3"
   ]
  },
  {
   "cell_type": "markdown",
   "id": "d73911c9",
   "metadata": {},
   "source": [
    "     \n",
    "You can access instance properties in the usual way via self:"
   ]
  },
  {
   "cell_type": "code",
   "execution_count": null,
   "id": "7dfcbf2d",
   "metadata": {},
   "outputs": [],
   "source": [
    "class _T4:\n",
    "    def __init__(self, g):\n",
    "        self.g = g\n",
    "\n",
    "\n",
    "@patch_to(_T4)\n",
    "def greet(self, x):\n",
    "    return self.g + x\n",
    "\n",
    "\n",
    "t = _T4(\"hello \")  # this sets self.g = 'helllo '\n",
    "test_eq(\n",
    "    t.greet(\"world\"), \"hello world\"\n",
    ")  # t.greet('world') will append 'world' to 'hello '"
   ]
  },
  {
   "cell_type": "markdown",
   "id": "5d6df22e",
   "metadata": {},
   "source": [
    "     \n",
    "You can instead specify that the method should be a class method by setting cls_method=True:"
   ]
  },
  {
   "cell_type": "code",
   "execution_count": null,
   "id": "3844687b",
   "metadata": {},
   "outputs": [],
   "source": [
    "class _T5(int):\n",
    "    attr = 3  # attr is a class attribute we will access in a later method\n",
    "\n",
    "\n",
    "@patch_to(_T5, cls_method=True)\n",
    "def func(cls, x):\n",
    "    return cls.attr + x  # you can access class attributes in the normal way\n",
    "\n",
    "\n",
    "test_eq(_T5.func(4), 7)"
   ]
  },
  {
   "cell_type": "code",
   "execution_count": null,
   "id": "d4445ccf",
   "metadata": {},
   "outputs": [],
   "source": [
    "# Additionally you can specify that the function you want to patch should be a class attribute with as_prop=True:\n",
    "\n",
    "\n",
    "@patch_to(_T5, as_prop=True)\n",
    "def add_ten(self):\n",
    "    return self + 10\n",
    "\n",
    "\n",
    "t = _T5(4)\n",
    "test_eq(t.add_ten, 14)"
   ]
  },
  {
   "cell_type": "markdown",
   "id": "4a1b91e7",
   "metadata": {},
   "source": [
    "     \n",
    "Instead of passing one class to the @patch_to decorator, you can pass multiple classes in a tuple to simulteanously patch more than one class with the same method:"
   ]
  },
  {
   "cell_type": "code",
   "execution_count": null,
   "id": "5a626f18",
   "metadata": {},
   "outputs": [],
   "source": [
    "class _T6(int):\n",
    "    pass\n",
    "\n",
    "\n",
    "class _T7(int):\n",
    "    pass\n",
    "\n",
    "\n",
    "@patch_to((_T6, _T7))\n",
    "def func_mult(self, a):\n",
    "    return self * a\n",
    "\n",
    "\n",
    "t = _T6(2)\n",
    "test_eq(t.func_mult(4), 8)\n",
    "t = _T7(2)\n",
    "test_eq(t.func_mult(4), 8)"
   ]
  },
  {
   "cell_type": "code",
   "execution_count": null,
   "id": "89a579b8",
   "metadata": {},
   "outputs": [],
   "source": [
    "# | exporti\n",
    "\n",
    "\n",
    "def eval_type(t, glb, loc):\n",
    "    \"`eval` a type or collection of types, if needed, for annotations in py3.10+\"\n",
    "    if isinstance(t, str):\n",
    "        if \"|\" in t:\n",
    "            return Union[eval_type(tuple(t.split(\"|\")), glb, loc)]\n",
    "        return eval(t, glb, loc)\n",
    "    if isinstance(t, (tuple, list)):\n",
    "        return type(t)([eval_type(c, glb, loc) for c in t])\n",
    "    return t\n",
    "\n",
    "\n",
    "def union2tuple(t):\n",
    "    if getattr(t, \"__origin__\", None) is Union or (\n",
    "        UnionType and isinstance(t, UnionType)\n",
    "    ):\n",
    "        return t.__args__\n",
    "    return t\n",
    "\n",
    "\n",
    "def get_annotations_ex(obj, *, globals=None, locals=None):\n",
    "    \"Backport of py3.10 `get_annotations` that returns globals/locals\"\n",
    "    if isinstance(obj, type):\n",
    "        obj_dict = getattr(obj, \"__dict__\", None)\n",
    "        if obj_dict and hasattr(obj_dict, \"get\"):\n",
    "            ann = obj_dict.get(\"__annotations__\", None)\n",
    "            if isinstance(ann, types.GetSetDescriptorType):\n",
    "                ann = None\n",
    "        else:\n",
    "            ann = None\n",
    "\n",
    "        obj_globals = None\n",
    "        module_name = getattr(obj, \"__module__\", None)\n",
    "        if module_name:\n",
    "            module = sys.modules.get(module_name, None)\n",
    "            if module:\n",
    "                obj_globals = getattr(module, \"__dict__\", None)\n",
    "        obj_locals = dict(vars(obj))\n",
    "        unwrap = obj\n",
    "    elif isinstance(obj, types.ModuleType):\n",
    "        ann = getattr(obj, \"__annotations__\", None)\n",
    "        obj_globals = getattr(obj, \"__dict__\")\n",
    "        obj_locals, unwrap = None, None\n",
    "    elif callable(obj):\n",
    "        ann = getattr(obj, \"__annotations__\", None)\n",
    "        obj_globals = getattr(obj, \"__globals__\", None)\n",
    "        obj_locals, unwrap = None, obj\n",
    "    else:\n",
    "        raise TypeError(f\"{obj!r} is not a module, class, or callable.\")\n",
    "\n",
    "    if ann is None:\n",
    "        ann = {}\n",
    "    if not isinstance(ann, dict):\n",
    "        raise ValueError(f\"{obj!r}.__annotations__ is neither a dict nor None\")\n",
    "    if not ann:\n",
    "        ann = {}\n",
    "\n",
    "    if unwrap is not None:\n",
    "        while True:\n",
    "            if hasattr(unwrap, \"__wrapped__\"):\n",
    "                unwrap = unwrap.__wrapped__\n",
    "                continue\n",
    "            if isinstance(unwrap, functools.partial):\n",
    "                unwrap = unwrap.func\n",
    "                continue\n",
    "            break\n",
    "        if hasattr(unwrap, \"__globals__\"):\n",
    "            obj_globals = unwrap.__globals__\n",
    "\n",
    "    if globals is None:\n",
    "        globals = obj_globals\n",
    "    if locals is None:\n",
    "        locals = obj_locals\n",
    "\n",
    "    return dict(ann), globals, locals"
   ]
  },
  {
   "cell_type": "code",
   "execution_count": null,
   "id": "615f96d9",
   "metadata": {},
   "outputs": [],
   "source": [
    "# | export\n",
    "\n",
    "\n",
    "def patch(f: F = None, *, as_prop: bool = False, cls_method: bool = False) -> F:\n",
    "    \"Decorator: add `f` to the first parameter's class (based on f's type annotations)\"\n",
    "    if f is None:\n",
    "        return partial(patch, as_prop=as_prop, cls_method=cls_method)\n",
    "    ann, glb, loc = get_annotations_ex(f)\n",
    "    cls = union2tuple(\n",
    "        eval_type(ann.pop(\"cls\") if cls_method else next(iter(ann.values())), glb, loc)\n",
    "    )\n",
    "    return patch_to(cls, as_prop=as_prop, cls_method=cls_method)(f)"
   ]
  },
  {
   "cell_type": "code",
   "execution_count": null,
   "id": "83a65ab4",
   "metadata": {},
   "outputs": [
    {
     "data": {
      "text/markdown": [
       "---\n",
       "\n",
       "### _T8.func\n",
       "\n",
       ">      _T8.func (a)\n",
       "\n",
       "Test doc"
      ],
      "text/plain": [
       "---\n",
       "\n",
       "### _T8.func\n",
       "\n",
       ">      _T8.func (a)\n",
       "\n",
       "Test doc"
      ]
     },
     "execution_count": null,
     "metadata": {},
     "output_type": "execute_result"
    }
   ],
   "source": [
    "class _T8(int):\n",
    "    pass\n",
    "\n",
    "\n",
    "@patch\n",
    "def func(self: _T8, a):\n",
    "    \"\"\" Test doc \"\"\"\n",
    "    return self + a\n",
    "\n",
    "assert _T8().func.__doc__ == \"\"\" Test doc \"\"\", func.__doc__"
   ]
  },
  {
   "cell_type": "markdown",
   "id": "e45c054c",
   "metadata": {},
   "source": [
    "     \n",
    "@patch is an alternative to @patch_to that allows you similarly monkey patch class(es) by using type annotations:"
   ]
  },
  {
   "cell_type": "code",
   "execution_count": null,
   "id": "1d5f6b0e",
   "metadata": {},
   "outputs": [],
   "source": [
    "class _T8(int):\n",
    "    pass\n",
    "\n",
    "\n",
    "@patch\n",
    "def func(self: _T8, a):\n",
    "    return self + a\n",
    "\n",
    "\n",
    "t = _T8(1)  # we initilized `t` to a type int = 1\n",
    "test_eq(t.func(3), 4)  # we add 3 to `t`, so 3 + 1 = 4\n",
    "test_eq(t.func.__qualname__, \"_T8.func\")"
   ]
  },
  {
   "cell_type": "markdown",
   "id": "fc07b356",
   "metadata": {},
   "source": [
    "     \n",
    "Similarly to patch_to, you can supply a union of classes instead of a single class in your type annotations to patch multiple classes:"
   ]
  },
  {
   "cell_type": "code",
   "execution_count": null,
   "id": "28cccc84",
   "metadata": {},
   "outputs": [],
   "source": [
    "class _T9(int):\n",
    "    pass\n",
    "\n",
    "\n",
    "@patch\n",
    "def func2(x: _T8 | _T9, a):\n",
    "    return x * a  # will patch both _T8 and _T9\n",
    "\n",
    "\n",
    "t = _T8(2)\n",
    "test_eq(t.func2(4), 8)\n",
    "test_eq(t.func2.__qualname__, \"_T8.func2\")\n",
    "\n",
    "t = _T9(2)\n",
    "test_eq(t.func2(4), 8)\n",
    "test_eq(t.func2.__qualname__, \"_T9.func2\")"
   ]
  },
  {
   "cell_type": "markdown",
   "id": "6dbb3d5a",
   "metadata": {},
   "source": [
    "     \n",
    "Just like patch_to decorator you can use as_prop and cls_method parameters with patch decorator:"
   ]
  },
  {
   "cell_type": "code",
   "execution_count": null,
   "id": "1eed1b2b",
   "metadata": {},
   "outputs": [],
   "source": [
    "@patch(as_prop=True)\n",
    "def add_ten(self: _T5):\n",
    "    return self + 10\n",
    "\n",
    "\n",
    "t = _T5(4)\n",
    "test_eq(t.add_ten, 14)"
   ]
  },
  {
   "cell_type": "code",
   "execution_count": null,
   "id": "7a1a6407",
   "metadata": {},
   "outputs": [],
   "source": [
    "class _T5(int):\n",
    "    attr = 3  # attr is a class attribute we will access in a later method\n",
    "\n",
    "\n",
    "@patch(cls_method=True)\n",
    "def func(cls: _T5, x):\n",
    "    return cls.attr + x  # you can access class attributes in the normal way\n",
    "\n",
    "\n",
    "test_eq(_T5.func(4), 7)"
   ]
  },
  {
   "cell_type": "code",
   "execution_count": null,
   "id": "391aec1c",
   "metadata": {},
   "outputs": [],
   "source": [
    "print(\"ok\")"
   ]
  }
 ],
 "metadata": {
  "kernelspec": {
   "display_name": "python3",
   "language": "python",
   "name": "python3"
  }
 },
 "nbformat": 4,
 "nbformat_minor": 5
}

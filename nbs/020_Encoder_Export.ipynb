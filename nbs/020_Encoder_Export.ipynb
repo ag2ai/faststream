{
 "cells": [
  {
   "cell_type": "code",
   "execution_count": null,
   "id": "287ff107",
   "metadata": {},
   "outputs": [],
   "source": [
    "# | default_exp encoder"
   ]
  },
  {
   "cell_type": "code",
   "execution_count": null,
   "id": "051196f4",
   "metadata": {},
   "outputs": [],
   "source": [
    "# | export\n",
    "\n",
    "from fastkafka._components.encoder.avro import (\n",
    "    AvroBase,\n",
    "    avro_decoder,\n",
    "    avro_encoder,\n",
    "    avsc_to_pydantic,\n",
    ")\n",
    "from fastkafka._components.encoder.json import json_decoder, json_encoder\n",
    "from fastkafka._components.meta import export\n",
    "\n",
    "__all__ = [\n",
    "    \"AvroBase\",\n",
    "    \"avro_decoder\",\n",
    "    \"avro_encoder\",\n",
    "    \"avsc_to_pydantic\",\n",
    "    \"json_decoder\",\n",
    "    \"json_encoder\",\n",
    "]"
   ]
  },
  {
   "cell_type": "code",
   "execution_count": null,
   "id": "d0b3de26",
   "metadata": {},
   "outputs": [],
   "source": [
    "assert AvroBase.__module__ == \"fastkafka.encoder\"\n",
    "assert avro_decoder.__module__ == \"fastkafka.encoder\"\n",
    "assert avro_encoder.__module__ == \"fastkafka.encoder\"\n",
    "assert avsc_to_pydantic.__module__ == \"fastkafka.encoder\"\n",
    "assert json_decoder.__module__ == \"fastkafka.encoder\"\n",
    "assert json_encoder.__module__ == \"fastkafka.encoder\""
   ]
  },
  {
   "cell_type": "code",
   "execution_count": null,
   "id": "98638d2e",
   "metadata": {},
   "outputs": [],
   "source": [
    "# | export\n",
    "\n",
    "\n",
    "@export(\"_dummy\")\n",
    "def dummy() -> None:\n",
    "    pass"
   ]
  },
  {
   "cell_type": "code",
   "execution_count": null,
   "id": "9139b7ec",
   "metadata": {},
   "outputs": [],
   "source": []
  }
 ],
 "metadata": {
  "kernelspec": {
   "display_name": "python3",
   "language": "python",
   "name": "python3"
  }
 },
 "nbformat": 4,
 "nbformat_minor": 5
}

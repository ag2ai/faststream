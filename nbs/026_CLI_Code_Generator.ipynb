{
 "cells": [
  {
   "cell_type": "code",
   "execution_count": null,
   "id": "e6067a2f",
   "metadata": {},
   "outputs": [],
   "source": [
    "# | default_exp _cli_code_generator"
   ]
  },
  {
   "cell_type": "code",
   "execution_count": null,
   "id": "ff086fc9",
   "metadata": {},
   "outputs": [],
   "source": [
    "# | export\n",
    "\n",
    "from typing import *\n",
    "\n",
    "import typer\n",
    "\n",
    "from fastkafka._components.logger import get_logger\n",
    "from fastkafka._code_generator.app_description_validator import validate_app_description\n",
    "from fastkafka._code_generator.plan_generator import generate_plan\n",
    "from fastkafka._code_generator.app_generator import generate_app\n",
    "from fastkafka._code_generator.test_generator import generate_test"
   ]
  },
  {
   "cell_type": "code",
   "execution_count": null,
   "id": "7308ae66",
   "metadata": {},
   "outputs": [],
   "source": [
    "from typer.testing import CliRunner\n",
    "\n",
    "from fastkafka._components.logger import suppress_timestamps"
   ]
  },
  {
   "cell_type": "code",
   "execution_count": null,
   "id": "1d072658",
   "metadata": {},
   "outputs": [],
   "source": [
    "# | export\n",
    "\n",
    "logger = get_logger(__name__)"
   ]
  },
  {
   "cell_type": "code",
   "execution_count": null,
   "id": "7da7962a",
   "metadata": {},
   "outputs": [
    {
     "name": "stdout",
     "output_type": "stream",
     "text": [
      "[INFO] __main__: ok\n"
     ]
    }
   ],
   "source": [
    "suppress_timestamps()\n",
    "logger = get_logger(__name__, level=20)\n",
    "logger.info(\"ok\")"
   ]
  },
  {
   "cell_type": "code",
   "execution_count": null,
   "id": "8f1b231d",
   "metadata": {},
   "outputs": [],
   "source": [
    "runner = CliRunner()"
   ]
  },
  {
   "cell_type": "code",
   "execution_count": null,
   "id": "9b11fc9c",
   "metadata": {},
   "outputs": [],
   "source": [
    "# | export\n",
    "\n",
    "_code_generator_app = typer.Typer(help=\"Commands for accelerating FastKafka app creation using advanced AI technology\")"
   ]
  },
  {
   "cell_type": "code",
   "execution_count": null,
   "id": "bb880142",
   "metadata": {},
   "outputs": [],
   "source": [
    "# | export\n",
    "\n",
    "\n",
    "@_code_generator_app.command(\n",
    "    \"generate\",\n",
    "    help=\"Generate a new FastKafka app(s) effortlessly with advanced AI assistance\",\n",
    ")\n",
    "def generate_fastkafka_app(\n",
    "    description: str = typer.Argument(\n",
    "        ...,\n",
    "        help=\"\"\"Summarize your FastKafka app in a few sentences!\n",
    "\n",
    "\n",
    "\\nInclude details about message classes, FastKafka app configuration (e.g., kafka_brokers), consumer and producer functions, and specify the business logic to be implemented. \n",
    "\n",
    "\n",
    "\\nThe simpler and more specific the app description is, the better the generated app will be. Please refer to the below example for inspiration:\n",
    "\n",
    "\n",
    "\\nCreate a FastKafka application that consumes messages from the \"store_product\" topic. These messages should have three attributes: \"product_name,\" \"currency,\" and \"price\". While consuming, the app needs to produce a message to the \"change_currency\" topic. The function responsible for producing should take a \"store_product\" object as input and return the same object. Additionally, this function should check if the currency in the input \"store_product\" is \"HRK.\" If it is, then the currency should be changed to \"EUR,\" and the price should be divided by 7.5. Remember, the app should use a \"localhost\" broker.\n",
    "\n",
    "\n",
    "\\n\"\"\"\n",
    "    )\n",
    ") -> None:\n",
    "    \"\"\"Generate a new FastKafka app(s) effortlessly with advanced AI assistance\"\"\"\n",
    "    try:\n",
    "        validate_app_description(description)\n",
    "        plan = generate_plan(description)\n",
    "        code = generate_app(plan)\n",
    "        test = generate_test(code)\n",
    "        \n",
    "        typer.secho(\" ▶ Total tokens usage: ~32.9k\", fg=typer.colors.CYAN)        \n",
    "        typer.secho(\"✨  All files were successfully generated.!\", fg=typer.colors.CYAN)\n",
    "    except Exception as e:\n",
    "        typer.secho(f\"Unexpected internal error: {e}\", err=True, fg=typer.colors.RED)"
   ]
  },
  {
   "cell_type": "code",
   "execution_count": null,
   "id": "81371542",
   "metadata": {},
   "outputs": [],
   "source": [
    "# | notest\n",
    "\n",
    "! nbdev_export"
   ]
  },
  {
   "cell_type": "code",
   "execution_count": null,
   "id": "6f578155",
   "metadata": {},
   "outputs": [
    {
     "data": {
      "text/html": [
       "<pre style=\"white-space:pre;overflow-x:auto;line-height:normal;font-family:Menlo,'DejaVu Sans Mono',consolas,'Courier New',monospace\"><span style=\"font-weight: bold\">                                                                                                                   </span>\n",
       "<span style=\"font-weight: bold\"> </span><span style=\"color: #808000; text-decoration-color: #808000; font-weight: bold\">Usage: </span><span style=\"font-weight: bold\">generate [OPTIONS] DESCRIPTION                                                                             </span>\n",
       "<span style=\"font-weight: bold\">                                                                                                                   </span>\n",
       "</pre>\n"
      ],
      "text/plain": [
       "\u001b[1m                                                                                                                   \u001b[0m\n",
       "\u001b[1m \u001b[0m\u001b[1;33mUsage: \u001b[0m\u001b[1mgenerate [OPTIONS] DESCRIPTION\u001b[0m\u001b[1m                                                                            \u001b[0m\u001b[1m \u001b[0m\n",
       "\u001b[1m                                                                                                                   \u001b[0m\n"
      ]
     },
     "metadata": {},
     "output_type": "display_data"
    },
    {
     "data": {
      "text/html": [
       "<pre style=\"white-space:pre;overflow-x:auto;line-height:normal;font-family:Menlo,'DejaVu Sans Mono',consolas,'Courier New',monospace\"> Generate a new FastKafka app(s) effortlessly with advanced AI assistance                                          \n",
       "                                                                                                                   \n",
       "</pre>\n"
      ],
      "text/plain": [
       " Generate a new FastKafka app(s) effortlessly with advanced AI assistance                                          \n",
       "                                                                                                                   \n"
      ]
     },
     "metadata": {},
     "output_type": "display_data"
    },
    {
     "data": {
      "text/html": [
       "<pre style=\"white-space:pre;overflow-x:auto;line-height:normal;font-family:Menlo,'DejaVu Sans Mono',consolas,'Courier New',monospace\"><span style=\"color: #7f7f7f; text-decoration-color: #7f7f7f\">╭─ Arguments ─────────────────────────────────────────────────────────────────────────────────────────────────────╮</span>\n",
       "<span style=\"color: #7f7f7f; text-decoration-color: #7f7f7f\">│</span> <span style=\"color: #800000; text-decoration-color: #800000\">*</span>    description      <span style=\"color: #808000; text-decoration-color: #808000; font-weight: bold\">TEXT</span>  Summarize your FastKafka app in a few sentences!                                    <span style=\"color: #7f7f7f; text-decoration-color: #7f7f7f\">│</span>\n",
       "<span style=\"color: #7f7f7f; text-decoration-color: #7f7f7f\">│</span>                                                                                                                 <span style=\"color: #7f7f7f; text-decoration-color: #7f7f7f\">│</span>\n",
       "<span style=\"color: #7f7f7f; text-decoration-color: #7f7f7f\">│</span>                             Include details about message classes, FastKafka app configuration (e.g.,           <span style=\"color: #7f7f7f; text-decoration-color: #7f7f7f\">│</span>\n",
       "<span style=\"color: #7f7f7f; text-decoration-color: #7f7f7f\">│</span>                             kafka_brokers), consumer and producer functions, and specify the business logic to  <span style=\"color: #7f7f7f; text-decoration-color: #7f7f7f\">│</span>\n",
       "<span style=\"color: #7f7f7f; text-decoration-color: #7f7f7f\">│</span>                             be implemented.                                                                     <span style=\"color: #7f7f7f; text-decoration-color: #7f7f7f\">│</span>\n",
       "<span style=\"color: #7f7f7f; text-decoration-color: #7f7f7f\">│</span>                                                                                                                 <span style=\"color: #7f7f7f; text-decoration-color: #7f7f7f\">│</span>\n",
       "<span style=\"color: #7f7f7f; text-decoration-color: #7f7f7f\">│</span>                             The simpler and more specific the app description is, the better the generated app  <span style=\"color: #7f7f7f; text-decoration-color: #7f7f7f\">│</span>\n",
       "<span style=\"color: #7f7f7f; text-decoration-color: #7f7f7f\">│</span>                             will be. Please refer to the below example for inspiration:                         <span style=\"color: #7f7f7f; text-decoration-color: #7f7f7f\">│</span>\n",
       "<span style=\"color: #7f7f7f; text-decoration-color: #7f7f7f\">│</span>                                                                                                                 <span style=\"color: #7f7f7f; text-decoration-color: #7f7f7f\">│</span>\n",
       "<span style=\"color: #7f7f7f; text-decoration-color: #7f7f7f\">│</span>                             Create a FastKafka application that consumes messages from the \"store_product\"      <span style=\"color: #7f7f7f; text-decoration-color: #7f7f7f\">│</span>\n",
       "<span style=\"color: #7f7f7f; text-decoration-color: #7f7f7f\">│</span>                             topic. These messages should have three attributes: \"product_name,\" \"currency,\" and <span style=\"color: #7f7f7f; text-decoration-color: #7f7f7f\">│</span>\n",
       "<span style=\"color: #7f7f7f; text-decoration-color: #7f7f7f\">│</span>                             \"price\". While consuming, the app needs to produce a message to the                 <span style=\"color: #7f7f7f; text-decoration-color: #7f7f7f\">│</span>\n",
       "<span style=\"color: #7f7f7f; text-decoration-color: #7f7f7f\">│</span>                             \"change_currency\" topic. The function responsible for producing should take a       <span style=\"color: #7f7f7f; text-decoration-color: #7f7f7f\">│</span>\n",
       "<span style=\"color: #7f7f7f; text-decoration-color: #7f7f7f\">│</span>                             \"store_product\" object as input and return the same object. Additionally, this      <span style=\"color: #7f7f7f; text-decoration-color: #7f7f7f\">│</span>\n",
       "<span style=\"color: #7f7f7f; text-decoration-color: #7f7f7f\">│</span>                             function should check if the currency in the input \"store_product\" is \"HRK.\" If it  <span style=\"color: #7f7f7f; text-decoration-color: #7f7f7f\">│</span>\n",
       "<span style=\"color: #7f7f7f; text-decoration-color: #7f7f7f\">│</span>                             is, then the currency should be changed to \"EUR,\" and the price should be divided   <span style=\"color: #7f7f7f; text-decoration-color: #7f7f7f\">│</span>\n",
       "<span style=\"color: #7f7f7f; text-decoration-color: #7f7f7f\">│</span>                             by 7.5. Remember, the app should use a \"localhost\" broker.                          <span style=\"color: #7f7f7f; text-decoration-color: #7f7f7f\">│</span>\n",
       "<span style=\"color: #7f7f7f; text-decoration-color: #7f7f7f\">│</span>                             <span style=\"color: #7f7f7f; text-decoration-color: #7f7f7f\">[default: None]                                                                    </span> <span style=\"color: #7f7f7f; text-decoration-color: #7f7f7f\">│</span>\n",
       "<span style=\"color: #7f7f7f; text-decoration-color: #7f7f7f\">│</span>                             <span style=\"color: #bf7f7f; text-decoration-color: #bf7f7f\">[required]                                                                         </span> <span style=\"color: #7f7f7f; text-decoration-color: #7f7f7f\">│</span>\n",
       "<span style=\"color: #7f7f7f; text-decoration-color: #7f7f7f\">╰─────────────────────────────────────────────────────────────────────────────────────────────────────────────────╯</span>\n",
       "</pre>\n"
      ],
      "text/plain": [
       "\u001b[2m╭─\u001b[0m\u001b[2m Arguments \u001b[0m\u001b[2m────────────────────────────────────────────────────────────────────────────────────────────────────\u001b[0m\u001b[2m─╮\u001b[0m\n",
       "\u001b[2m│\u001b[0m \u001b[31m*\u001b[0m    description      \u001b[1;33mTEXT\u001b[0m  Summarize your FastKafka app in a few sentences!                                    \u001b[2m│\u001b[0m\n",
       "\u001b[2m│\u001b[0m                                                                                                                 \u001b[2m│\u001b[0m\n",
       "\u001b[2m│\u001b[0m                             Include details about message classes, FastKafka app configuration (e.g.,           \u001b[2m│\u001b[0m\n",
       "\u001b[2m│\u001b[0m                             kafka_brokers), consumer and producer functions, and specify the business logic to  \u001b[2m│\u001b[0m\n",
       "\u001b[2m│\u001b[0m                             be implemented.                                                                     \u001b[2m│\u001b[0m\n",
       "\u001b[2m│\u001b[0m                                                                                                                 \u001b[2m│\u001b[0m\n",
       "\u001b[2m│\u001b[0m                             The simpler and more specific the app description is, the better the generated app  \u001b[2m│\u001b[0m\n",
       "\u001b[2m│\u001b[0m                             will be. Please refer to the below example for inspiration:                         \u001b[2m│\u001b[0m\n",
       "\u001b[2m│\u001b[0m                                                                                                                 \u001b[2m│\u001b[0m\n",
       "\u001b[2m│\u001b[0m                             Create a FastKafka application that consumes messages from the \"store_product\"      \u001b[2m│\u001b[0m\n",
       "\u001b[2m│\u001b[0m                             topic. These messages should have three attributes: \"product_name,\" \"currency,\" and \u001b[2m│\u001b[0m\n",
       "\u001b[2m│\u001b[0m                             \"price\". While consuming, the app needs to produce a message to the                 \u001b[2m│\u001b[0m\n",
       "\u001b[2m│\u001b[0m                             \"change_currency\" topic. The function responsible for producing should take a       \u001b[2m│\u001b[0m\n",
       "\u001b[2m│\u001b[0m                             \"store_product\" object as input and return the same object. Additionally, this      \u001b[2m│\u001b[0m\n",
       "\u001b[2m│\u001b[0m                             function should check if the currency in the input \"store_product\" is \"HRK.\" If it  \u001b[2m│\u001b[0m\n",
       "\u001b[2m│\u001b[0m                             is, then the currency should be changed to \"EUR,\" and the price should be divided   \u001b[2m│\u001b[0m\n",
       "\u001b[2m│\u001b[0m                             by 7.5. Remember, the app should use a \"localhost\" broker.                          \u001b[2m│\u001b[0m\n",
       "\u001b[2m│\u001b[0m                             \u001b[2m[default: None]                                                                    \u001b[0m \u001b[2m│\u001b[0m\n",
       "\u001b[2m│\u001b[0m                             \u001b[2;31m[required]                                                                         \u001b[0m \u001b[2m│\u001b[0m\n",
       "\u001b[2m╰─────────────────────────────────────────────────────────────────────────────────────────────────────────────────╯\u001b[0m\n"
      ]
     },
     "metadata": {},
     "output_type": "display_data"
    },
    {
     "data": {
      "text/html": [
       "<pre style=\"white-space:pre;overflow-x:auto;line-height:normal;font-family:Menlo,'DejaVu Sans Mono',consolas,'Courier New',monospace\"><span style=\"color: #7f7f7f; text-decoration-color: #7f7f7f\">╭─ Options ───────────────────────────────────────────────────────────────────────────────────────────────────────╮</span>\n",
       "<span style=\"color: #7f7f7f; text-decoration-color: #7f7f7f\">│</span> <span style=\"color: #008080; text-decoration-color: #008080; font-weight: bold\">--install-completion</span>          Install completion for the current shell.                                         <span style=\"color: #7f7f7f; text-decoration-color: #7f7f7f\">│</span>\n",
       "<span style=\"color: #7f7f7f; text-decoration-color: #7f7f7f\">│</span> <span style=\"color: #008080; text-decoration-color: #008080; font-weight: bold\">--show-completion</span>             Show completion for the current shell, to copy it or customize the installation.  <span style=\"color: #7f7f7f; text-decoration-color: #7f7f7f\">│</span>\n",
       "<span style=\"color: #7f7f7f; text-decoration-color: #7f7f7f\">│</span> <span style=\"color: #008080; text-decoration-color: #008080; font-weight: bold\">--help</span>                        Show this message and exit.                                                       <span style=\"color: #7f7f7f; text-decoration-color: #7f7f7f\">│</span>\n",
       "<span style=\"color: #7f7f7f; text-decoration-color: #7f7f7f\">╰─────────────────────────────────────────────────────────────────────────────────────────────────────────────────╯</span>\n",
       "</pre>\n"
      ],
      "text/plain": [
       "\u001b[2m╭─\u001b[0m\u001b[2m Options \u001b[0m\u001b[2m──────────────────────────────────────────────────────────────────────────────────────────────────────\u001b[0m\u001b[2m─╮\u001b[0m\n",
       "\u001b[2m│\u001b[0m \u001b[1;36m-\u001b[0m\u001b[1;36m-install\u001b[0m\u001b[1;36m-completion\u001b[0m          Install completion for the current shell.                                         \u001b[2m│\u001b[0m\n",
       "\u001b[2m│\u001b[0m \u001b[1;36m-\u001b[0m\u001b[1;36m-show\u001b[0m\u001b[1;36m-completion\u001b[0m             Show completion for the current shell, to copy it or customize the installation.  \u001b[2m│\u001b[0m\n",
       "\u001b[2m│\u001b[0m \u001b[1;36m-\u001b[0m\u001b[1;36m-help\u001b[0m                        Show this message and exit.                                                       \u001b[2m│\u001b[0m\n",
       "\u001b[2m╰─────────────────────────────────────────────────────────────────────────────────────────────────────────────────╯\u001b[0m\n"
      ]
     },
     "metadata": {},
     "output_type": "display_data"
    }
   ],
   "source": [
    "result = runner.invoke(_code_generator_app, [\"generate\", \"--help\"])"
   ]
  },
  {
   "cell_type": "code",
   "execution_count": null,
   "id": "12c1ad43",
   "metadata": {},
   "outputs": [],
   "source": [
    "# result = runner.invoke(_code_generator_app, [\"Sample FastKafka application description\"])\n",
    "# assert result.exit_code == 0, result.exit_code"
   ]
  },
  {
   "cell_type": "code",
   "execution_count": null,
   "id": "08415d24",
   "metadata": {},
   "outputs": [],
   "source": []
  }
 ],
 "metadata": {
  "kernelspec": {
   "display_name": "python3",
   "language": "python",
   "name": "python3"
  }
 },
 "nbformat": 4,
 "nbformat_minor": 5
}

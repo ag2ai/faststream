{
 "cells": [
  {
   "cell_type": "code",
   "execution_count": null,
   "id": "2608dd0d",
   "metadata": {},
   "outputs": [],
   "source": [
    "# | default_exp _code_generator.app_description_validator"
   ]
  },
  {
   "cell_type": "code",
   "execution_count": null,
   "id": "8600647c",
   "metadata": {},
   "outputs": [],
   "source": [
    "# | export\n",
    "\n",
    "from typing import *\n",
    "import time\n",
    "\n",
    "from yaspin import yaspin\n",
    "import typer\n",
    "\n",
    "from fastkafka._components.logger import get_logger\n",
    "from fastkafka._code_generator.helper import CustomAIChat"
   ]
  },
  {
   "cell_type": "code",
   "execution_count": null,
   "id": "f5434f0b",
   "metadata": {},
   "outputs": [],
   "source": [
    "import pytest\n",
    "\n",
    "from fastkafka._components.logger import suppress_timestamps"
   ]
  },
  {
   "cell_type": "code",
   "execution_count": null,
   "id": "4cdfa648",
   "metadata": {},
   "outputs": [],
   "source": [
    "# | export\n",
    "\n",
    "logger = get_logger(__name__)"
   ]
  },
  {
   "cell_type": "code",
   "execution_count": null,
   "id": "595bebd8",
   "metadata": {},
   "outputs": [
    {
     "name": "stdout",
     "output_type": "stream",
     "text": [
      "[INFO] __main__: ok\n"
     ]
    }
   ],
   "source": [
    "suppress_timestamps()\n",
    "logger = get_logger(__name__, level=20)\n",
    "logger.info(\"ok\")"
   ]
  },
  {
   "cell_type": "code",
   "execution_count": null,
   "id": "2c7c23e1",
   "metadata": {},
   "outputs": [],
   "source": [
    "# | export\n",
    "\n",
    "INITIAL_USER_PROMPT = \"\"\"\n",
    "You should respond with 0, 1 or 2 and nothing else. Below are your rules:\n",
    "\n",
    "==== RULES: ====\n",
    "\n",
    "If the ==== APP DESCRIPTION: ==== section is not related to FastKafka or contains violence, self-harm, harassment/threatening or hate/threatening information then you should respond with 0.\n",
    "\n",
    "If the ==== APP DESCRIPTION: ==== section is related to FastKafka but focuses on what is it and its general information then you should respond with 1. \n",
    "\n",
    "If the ==== APP DESCRIPTION: ==== section is related to FastKafka but focuses how to use it and instructions to create a new app then you should respond with 2. \n",
    "\"\"\""
   ]
  },
  {
   "cell_type": "code",
   "execution_count": null,
   "id": "c4fbfdb0",
   "metadata": {},
   "outputs": [],
   "source": [
    "# | export\n",
    "\n",
    "ERROR_RESPONSE = \"I apologize, but I can only respond to queries related to FastKafka code generation. Feel free to ask me about using FastKafka, and I'll do my best to help you with that!\"\n",
    "GENERAL_FASTKAFKA_RESPONSE = \"Great to see your interest in FastKafka! Unfortunately, I can only generate FastKafka code and offer assistance in that area. For general information about FastKafka, please visit https://fastkafka.airt.ai/\""
   ]
  },
  {
   "cell_type": "code",
   "execution_count": null,
   "id": "e9834bd7",
   "metadata": {},
   "outputs": [],
   "source": [
    "# | export\n",
    "\n",
    "\n",
    "def validate_app_description(description: str) -> Tuple[str, str]:\n",
    "    \"\"\"Validate the user's application description\n",
    "\n",
    "    If the description is unrelated to FastKafka or contains insensitive/inappropriate language, show an error\n",
    "    message and exit the program. Otherwise, display the success message in the terminal.\n",
    "\n",
    "    Args:\n",
    "        description: User's application description\n",
    "        \n",
    "    Raises:\n",
    "        ValueError: If the application description is invalid\n",
    "    \"\"\"\n",
    "    \n",
    "    print(\"✨  Generating a new FastKafka application!\")\n",
    "    with yaspin(\n",
    "        text=\"Validating the application description...\", color=\"cyan\", spinner=\"clock\"\n",
    "    ) as sp:\n",
    "        \n",
    "        ai = CustomAIChat(initial_user_prompt=INITIAL_USER_PROMPT)\n",
    "        response, total_tokens = ai(description)\n",
    "        \n",
    "        sp.text = \"\"\n",
    "        if response == \"0\":\n",
    "            raise ValueError(f\"✘ Error: Application description validation failed.\\n{ERROR_RESPONSE}\")\n",
    "        elif response == \"1\":\n",
    "            raise ValueError(f\"✘ Error: Application description validation failed.\\n{GENERAL_FASTKAFKA_RESPONSE}\")\n",
    "        else:\n",
    "            sp.ok(\" ✔ Application description validated\")\n",
    "            return description, total_tokens"
   ]
  },
  {
   "cell_type": "code",
   "execution_count": null,
   "id": "a5b29d73",
   "metadata": {},
   "outputs": [
    {
     "name": "stdout",
     "output_type": "stream",
     "text": [
      "✨  Generating a new FastKafka application!\n",
      "⠹ Validating the application description... "
     ]
    },
    {
     "name": "stderr",
     "output_type": "stream",
     "text": [
      "/home/harish/.local/lib/python3.11/site-packages/yaspin/core.py:59: UserWarning: color, on_color and attrs are not supported when running in jupyter\n",
      "  self._color = self._set_color(color) if color else color\n"
     ]
    },
    {
     "name": "stdout",
     "output_type": "stream",
     "text": [
      "✘ Error: Application description validation failed.\n",
      "Great to see your interest in FastKafka! Unfortunately, I can only generate FastKafka code and offer assistance in that area. For general information about FastKafka, please visit https://fastkafka.airt.ai/\n"
     ]
    }
   ],
   "source": [
    "with pytest.raises(ValueError) as e:\n",
    "    app_description = \"What is FastKafka\"\n",
    "    validate_app_description(app_description)\n",
    "    \n",
    "print(e.value)"
   ]
  },
  {
   "cell_type": "code",
   "execution_count": null,
   "id": "d09b09fc",
   "metadata": {},
   "outputs": [
    {
     "name": "stdout",
     "output_type": "stream",
     "text": [
      "✨  Generating a new FastKafka application!\n",
      " ✔ Application description validated        \n",
      "Generate a simple app for me\n",
      "280\n"
     ]
    }
   ],
   "source": [
    "app_description = \"Generate a simple app for me\"\n",
    "response, token = validate_app_description(app_description)\n",
    "print(response)\n",
    "assert len(response) > 0\n",
    "\n",
    "print(token)\n",
    "assert int(token) > 0"
   ]
  },
  {
   "cell_type": "code",
   "execution_count": null,
   "id": "5642c67e",
   "metadata": {},
   "outputs": [],
   "source": []
  }
 ],
 "metadata": {
  "kernelspec": {
   "display_name": "python3",
   "language": "python",
   "name": "python3"
  }
 },
 "nbformat": 4,
 "nbformat_minor": 5
}

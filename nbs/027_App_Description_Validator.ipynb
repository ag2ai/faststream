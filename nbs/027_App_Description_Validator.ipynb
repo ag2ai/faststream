{
 "cells": [
  {
   "cell_type": "code",
   "execution_count": null,
   "id": "2608dd0d",
   "metadata": {},
   "outputs": [],
   "source": [
    "# | default_exp _code_generator.app_description_validator"
   ]
  },
  {
   "cell_type": "code",
   "execution_count": null,
   "id": "8600647c",
   "metadata": {},
   "outputs": [],
   "source": [
    "# | export\n",
    "\n",
    "from typing import *\n",
    "import time\n",
    "\n",
    "from yaspin import yaspin\n",
    "from fastkafka._components.logger import get_logger"
   ]
  },
  {
   "cell_type": "code",
   "execution_count": null,
   "id": "f5434f0b",
   "metadata": {},
   "outputs": [],
   "source": [
    "from fastkafka._components.logger import suppress_timestamps"
   ]
  },
  {
   "cell_type": "code",
   "execution_count": null,
   "id": "4cdfa648",
   "metadata": {},
   "outputs": [],
   "source": [
    "# | export\n",
    "\n",
    "logger = get_logger(__name__)"
   ]
  },
  {
   "cell_type": "code",
   "execution_count": null,
   "id": "595bebd8",
   "metadata": {},
   "outputs": [
    {
     "name": "stdout",
     "output_type": "stream",
     "text": [
      "[INFO] __main__: ok\n"
     ]
    }
   ],
   "source": [
    "suppress_timestamps()\n",
    "logger = get_logger(__name__, level=20)\n",
    "logger.info(\"ok\")"
   ]
  },
  {
   "cell_type": "code",
   "execution_count": null,
   "id": "e9834bd7",
   "metadata": {},
   "outputs": [],
   "source": [
    "# | export\n",
    "\n",
    "def validate_app_description(description: str) -> None:\n",
    "    \"\"\"Validate the user's application description\n",
    "    \n",
    "    If the description is unrelated to FastKafka or contains insensitive/inappropriate language, show an error \n",
    "    message and exit the program. Otherwise, display the success message in the terminal.\n",
    "    \n",
    "    Args:\n",
    "        description: User's application description\n",
    "    \"\"\"\n",
    "    # TODO: Implement the actual functionality\n",
    "    print(\"✨  Generating a new FastKafka application!\")\n",
    "    time.sleep(1)\n",
    "\n",
    "    with yaspin(text=\"Validating the application description...\", color=\"cyan\", spinner=\"clock\") as sp:\n",
    "\n",
    "        time.sleep(2)\n",
    "        sp.text = \"\"\n",
    "        sp.ok(\" ✔ Application description validated\")"
   ]
  },
  {
   "cell_type": "code",
   "execution_count": null,
   "id": "e4565007",
   "metadata": {},
   "outputs": [
    {
     "name": "stdout",
     "output_type": "stream",
     "text": [
      "★ Generating a new FastKafka application!\n",
      "✔ Application description validated         \n"
     ]
    }
   ],
   "source": [
    "app_description = \"Sample application descrition\"\n",
    "validate_app_description(app_description)"
   ]
  },
  {
   "cell_type": "code",
   "execution_count": null,
   "id": "a5b29d73",
   "metadata": {},
   "outputs": [],
   "source": []
  }
 ],
 "metadata": {
  "kernelspec": {
   "display_name": "python3",
   "language": "python",
   "name": "python3"
  }
 },
 "nbformat": 4,
 "nbformat_minor": 5
}

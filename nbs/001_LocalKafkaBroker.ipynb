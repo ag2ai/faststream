{
 "cells": [
  {
   "cell_type": "code",
   "execution_count": null,
   "id": "4e3e7ac1",
   "metadata": {},
   "outputs": [],
   "source": [
    "# | default_exp _testing.local_kafka_broker"
   ]
  },
  {
   "cell_type": "code",
   "execution_count": null,
   "id": "78dd1499",
   "metadata": {},
   "outputs": [],
   "source": [
    "# | export\n",
    "from unittest.mock import MagicMock\n",
    "\n",
    "from aiokafka import AIOKafkaConsumer, AIOKafkaProducer\n",
    "\n",
    "from fastkafka._components.meta import patch\n",
    "from fastkafka._components.logger import get_logger"
   ]
  },
  {
   "cell_type": "code",
   "execution_count": null,
   "id": "0e65cf05",
   "metadata": {},
   "outputs": [],
   "source": [
    "# | export\n",
    "\n",
    "logger = get_logger(__name__)"
   ]
  },
  {
   "cell_type": "markdown",
   "id": "74e8c6f7",
   "metadata": {},
   "source": [
    "# Local Kafka broker\n",
    "> In-memory mockup of Kafka broker protocol"
   ]
  },
  {
   "cell_type": "code",
   "execution_count": null,
   "id": "5737f99f",
   "metadata": {},
   "outputs": [],
   "source": [
    "class LocalKafkaBroker():\n",
    "    def __init__():\n",
    "        pass\n",
    "    \n",
    "    def connect():\n",
    "        pass\n",
    "    \n",
    "    def dissconnect():\n",
    "        pass\n",
    "    \n",
    "    def produce():\n",
    "        pass\n",
    "    \n",
    "    def consume():\n",
    "        pass"
   ]
  },
  {
   "cell_type": "code",
   "execution_count": null,
   "id": "55ea19e7",
   "metadata": {},
   "outputs": [],
   "source": []
  },
  {
   "cell_type": "code",
   "execution_count": null,
   "id": "ef61e666",
   "metadata": {},
   "outputs": [],
   "source": []
  },
  {
   "cell_type": "code",
   "execution_count": null,
   "id": "83ee313b",
   "metadata": {},
   "outputs": [],
   "source": []
  },
  {
   "cell_type": "code",
   "execution_count": null,
   "id": "7ba8a28f",
   "metadata": {},
   "outputs": [],
   "source": []
  },
  {
   "cell_type": "code",
   "execution_count": null,
   "id": "3763a191",
   "metadata": {},
   "outputs": [],
   "source": []
  },
  {
   "cell_type": "code",
   "execution_count": null,
   "id": "c3b623a5",
   "metadata": {},
   "outputs": [],
   "source": []
  },
  {
   "cell_type": "code",
   "execution_count": null,
   "id": "4de0528f",
   "metadata": {},
   "outputs": [],
   "source": []
  },
  {
   "cell_type": "markdown",
   "id": "88c5b3a9",
   "metadata": {},
   "source": [
    "## Consumer patching\n",
    "\n",
    "We need to patch AIOKafkaConsumer methods so that we can redirect the consumer to our local kafka broker.\n",
    "\n",
    "Patched methods:\n",
    "\n",
    "- [ ] \\_\\_init\\_\\_\n",
    "- [ ] start\n",
    "- [ ] subscribe\n",
    "- [ ] stop\n",
    "- [ ] getmany"
   ]
  },
  {
   "cell_type": "markdown",
   "id": "b9100f78",
   "metadata": {},
   "source": [
    "Patching \\_\\_init\\_\\_ so that we pass the LocalKafkaBroker instance to all instances of AIOKafkaConsumer in the patched namespace"
   ]
  },
  {
   "cell_type": "code",
   "execution_count": null,
   "id": "28f3357d",
   "metadata": {},
   "outputs": [],
   "source": [
    "# | export\n",
    "\n",
    "def _patch_AIOKafkaConsumer_init(broker: LocalKafkaBroker) -> None:\n",
    "    @patch\n",
    "    def __init__(self: AIOKafkaConsumer, broker: LocalKafkaBroker = broker) -> None:\n",
    "        logger.info(\"AIOKafkaConsumer patched __init__() called()\")\n",
    "        self.broker = broker"
   ]
  },
  {
   "cell_type": "code",
   "execution_count": null,
   "id": "99130eda",
   "metadata": {},
   "outputs": [
    {
     "name": "stdout",
     "output_type": "stream",
     "text": [
      "[INFO] __main__: AIOKafkaConsumer patched __init__() called()\n"
     ]
    }
   ],
   "source": [
    "with MagicMock() as broker_mock:\n",
    "    _patch_AIOKafkaConsumer_init(broker_mock)\n",
    "    consumer = AIOKafkaConsumer()"
   ]
  },
  {
   "cell_type": "code",
   "execution_count": null,
   "id": "6f53f9da",
   "metadata": {},
   "outputs": [],
   "source": [
    "# | export\n",
    "\n",
    "def _patch_AIOKafkaConsumer_start() -> None:\n",
    "    @patch\n",
    "    async def start(self: AIOKafkaConsumer) -> None:\n",
    "        logger.info(\"AIOKafkaConsumer patched start() called()\")"
   ]
  },
  {
   "cell_type": "code",
   "execution_count": null,
   "id": "072dd1f0",
   "metadata": {},
   "outputs": [
    {
     "name": "stdout",
     "output_type": "stream",
     "text": [
      "[INFO] __main__: AIOKafkaConsumer patched __init__() called()\n",
      "[INFO] __main__: AIOKafkaConsumer patched start() called()\n"
     ]
    }
   ],
   "source": [
    "with MagicMock() as broker_mock:\n",
    "    _patch_AIOKafkaConsumer_init(broker_mock)\n",
    "    consumer = AIOKafkaConsumer()\n",
    "    \n",
    "    _patch_AIOKafkaConsumer_start()\n",
    "    await consumer.start()"
   ]
  },
  {
   "cell_type": "code",
   "execution_count": null,
   "id": "1de72311",
   "metadata": {},
   "outputs": [],
   "source": [
    "# | export\n",
    "\n",
    "def _patch_AIOKafkaConsumer_subscribe() -> None:\n",
    "    @patch\n",
    "    def subscribe(self: AIOKafkaConsumer) -> None:\n",
    "        logger.info(\"AIOKafkaConsumer patched subscribe() called!\")"
   ]
  },
  {
   "cell_type": "code",
   "execution_count": null,
   "id": "945e08d4",
   "metadata": {},
   "outputs": [
    {
     "name": "stdout",
     "output_type": "stream",
     "text": [
      "[INFO] __main__: AIOKafkaConsumer patched __init__() called()\n",
      "[INFO] __main__: AIOKafkaConsumer patched subscribe() called!\n"
     ]
    }
   ],
   "source": [
    "with MagicMock() as broker_mock:\n",
    "    _patch_AIOKafkaConsumer_init(broker_mock)\n",
    "    consumer = AIOKafkaConsumer()\n",
    "    \n",
    "    _patch_AIOKafkaConsumer_subscribe()\n",
    "    consumer.subscribe()"
   ]
  },
  {
   "cell_type": "code",
   "execution_count": null,
   "id": "dc82405e",
   "metadata": {},
   "outputs": [],
   "source": [
    "# | export\n",
    "\n",
    "def _patch_AIOKafkaConsumer_stop() -> None:\n",
    "    @patch\n",
    "    async def stop(self: AIOKafkaConsumer) -> None:\n",
    "        logger.info(\"AIOKafkaConsumer patched stop() called!\")"
   ]
  },
  {
   "cell_type": "code",
   "execution_count": null,
   "id": "fc667214",
   "metadata": {},
   "outputs": [
    {
     "name": "stdout",
     "output_type": "stream",
     "text": [
      "[INFO] __main__: AIOKafkaConsumer patched __init__() called()\n",
      "[INFO] __main__: AIOKafkaConsumer patched stop() called!\n"
     ]
    }
   ],
   "source": [
    "with MagicMock() as broker_mock:\n",
    "    _patch_AIOKafkaConsumer_init(broker_mock)\n",
    "    consumer = AIOKafkaConsumer()\n",
    "    \n",
    "    _patch_AIOKafkaConsumer_stop()\n",
    "    await consumer.stop()"
   ]
  },
  {
   "cell_type": "code",
   "execution_count": null,
   "id": "0663c9b4",
   "metadata": {},
   "outputs": [],
   "source": [
    "# | export\n",
    "\n",
    "def _patch_AIOKafkaConsumer_getmany() -> None:\n",
    "    @patch\n",
    "    async def getmany(self: AIOKafkaConsumer) -> None:\n",
    "        logger.info(\"AIOKafkaConsumer patched getmany() called!\")"
   ]
  },
  {
   "cell_type": "code",
   "execution_count": null,
   "id": "a4940bac",
   "metadata": {},
   "outputs": [
    {
     "name": "stdout",
     "output_type": "stream",
     "text": [
      "[INFO] __main__: AIOKafkaConsumer patched __init__() called()\n",
      "[INFO] __main__: AIOKafkaConsumer patched getmany() called!\n"
     ]
    }
   ],
   "source": [
    "with MagicMock() as broker_mock:\n",
    "    _patch_AIOKafkaConsumer_init(broker_mock)\n",
    "    consumer = AIOKafkaConsumer()\n",
    "    \n",
    "    _patch_AIOKafkaConsumer_getmany()\n",
    "    await consumer.getmany()"
   ]
  },
  {
   "cell_type": "code",
   "execution_count": null,
   "id": "b9ac264f",
   "metadata": {},
   "outputs": [],
   "source": [
    "# | export\n",
    "\n",
    "def _patch_AIOKafkaConsumer(broker: LocalKafkaBroker) -> None:\n",
    "    _patch_AIOKafkaConsumer_init(broker)\n",
    "    _patch_AIOKafkaConsumer_start()\n",
    "    _patch_AIOKafkaConsumer_subscribe()\n",
    "    _patch_AIOKafkaConsumer_stop()\n",
    "    _patch_AIOKafkaConsumer_getmany()"
   ]
  },
  {
   "cell_type": "code",
   "execution_count": null,
   "id": "9aa9b15c",
   "metadata": {},
   "outputs": [],
   "source": [
    "with MagicMock() as broker_mock:\n",
    "    _patch_AIOKafkaConsumer(broker_mock)"
   ]
  },
  {
   "cell_type": "markdown",
   "id": "723468f0",
   "metadata": {},
   "source": [
    "## Producer patching\n",
    "\n",
    "We need to patch AIOKafkaProducer methods so that we can redirect the producer to our local kafka broker\n",
    "\n",
    "- [ ] \\_\\_init\\_\\_\n",
    "- [ ] start\n",
    "- [ ] stop\n",
    "- [ ] send"
   ]
  },
  {
   "cell_type": "code",
   "execution_count": null,
   "id": "42102f55",
   "metadata": {},
   "outputs": [],
   "source": [
    "# | export\n",
    "\n",
    "def _patch_AIOKafkaProducer_init(broker: LocalKafkaBroker) -> None:\n",
    "    @patch\n",
    "    def __init__(self: AIOKafkaProducer, broker: LocalKafkaBroker = broker) -> None:\n",
    "        logger.info(\"AIOKafkaProducer patched __init__() called()\")\n",
    "        self.broker = broker"
   ]
  },
  {
   "cell_type": "code",
   "execution_count": null,
   "id": "80c91cd7",
   "metadata": {},
   "outputs": [
    {
     "name": "stdout",
     "output_type": "stream",
     "text": [
      "[INFO] __main__: AIOKafkaProducer patched __init__() called()\n"
     ]
    }
   ],
   "source": [
    "with MagicMock() as mock_broker:\n",
    "    _patch_AIOKafkaProducer_init(broker=mock_broker)\n",
    "    producer = AIOKafkaProducer()"
   ]
  },
  {
   "cell_type": "code",
   "execution_count": null,
   "id": "488ac5c3",
   "metadata": {},
   "outputs": [],
   "source": [
    "# | export\n",
    "\n",
    "def _patch_AIOKafkaProducer_start() -> None:\n",
    "    @patch\n",
    "    async def start(self: AIOKafkaProducer) -> None:\n",
    "        logger.info(\"AIOKafkaProducer patched start() called()\")"
   ]
  },
  {
   "cell_type": "code",
   "execution_count": null,
   "id": "f250c614",
   "metadata": {},
   "outputs": [
    {
     "name": "stdout",
     "output_type": "stream",
     "text": [
      "[INFO] __main__: AIOKafkaProducer patched __init__() called()\n",
      "[INFO] __main__: AIOKafkaProducer patched start() called()\n"
     ]
    }
   ],
   "source": [
    "with MagicMock() as mock_broker:\n",
    "    _patch_AIOKafkaProducer_init(broker=mock_broker)\n",
    "    producer = AIOKafkaProducer()\n",
    "    \n",
    "    _patch_AIOKafkaProducer_start()\n",
    "    await producer.start()"
   ]
  },
  {
   "cell_type": "code",
   "execution_count": null,
   "id": "32412969",
   "metadata": {},
   "outputs": [],
   "source": [
    "# | export\n",
    "\n",
    "def _patch_AIOKafkaProducer_stop() -> None:\n",
    "    @patch\n",
    "    async def stop(self: AIOKafkaProducer) -> None:\n",
    "        logger.info(\"AIOKafkaProducer patched stop() called()\")"
   ]
  },
  {
   "cell_type": "code",
   "execution_count": null,
   "id": "9f4a1fbb",
   "metadata": {},
   "outputs": [
    {
     "name": "stdout",
     "output_type": "stream",
     "text": [
      "[INFO] __main__: AIOKafkaProducer patched __init__() called()\n",
      "[INFO] __main__: AIOKafkaProducer patched stop() called()\n"
     ]
    }
   ],
   "source": [
    "with MagicMock() as mock_broker:\n",
    "    _patch_AIOKafkaProducer_init(broker=mock_broker)\n",
    "    producer = AIOKafkaProducer()\n",
    "\n",
    "    _patch_AIOKafkaProducer_stop()\n",
    "    await producer.stop()"
   ]
  },
  {
   "cell_type": "code",
   "execution_count": null,
   "id": "3f42a03e",
   "metadata": {},
   "outputs": [],
   "source": [
    "# | export\n",
    "\n",
    "def _patch_AIOKafkaProducer_send() -> None:\n",
    "    @patch\n",
    "    async def send(self: AIOKafkaProducer) -> None:\n",
    "        logger.info(\"AIOKafkaProducer patched send() called()\")"
   ]
  },
  {
   "cell_type": "code",
   "execution_count": null,
   "id": "9fda1d9b",
   "metadata": {},
   "outputs": [
    {
     "name": "stdout",
     "output_type": "stream",
     "text": [
      "[INFO] __main__: AIOKafkaProducer patched __init__() called()\n",
      "[INFO] __main__: AIOKafkaProducer patched send() called()\n"
     ]
    }
   ],
   "source": [
    "with MagicMock() as mock_broker:\n",
    "    _patch_AIOKafkaProducer_init(broker=mock_broker)\n",
    "    producer = AIOKafkaProducer()\n",
    "\n",
    "    _patch_AIOKafkaProducer_send()\n",
    "    await producer.send()"
   ]
  },
  {
   "cell_type": "code",
   "execution_count": null,
   "id": "e0a2cd58",
   "metadata": {},
   "outputs": [],
   "source": [
    "# | export\n",
    "\n",
    "def _patch_AIOKafkaProducer(broker: LocalKafkaBroker) -> None:\n",
    "    _patch_AIOKafkaProducer_init(broker)\n",
    "    _patch_AIOKafkaProducer_start()\n",
    "    _patch_AIOKafkaProducer_stop()\n",
    "    _patch_AIOKafkaProducer_send()"
   ]
  },
  {
   "cell_type": "code",
   "execution_count": null,
   "id": "abec334b",
   "metadata": {},
   "outputs": [],
   "source": [
    "with MagicMock() as mock_broker:\n",
    "    _patch_AIOKafkaProducer(mock_broker)"
   ]
  },
  {
   "cell_type": "code",
   "execution_count": null,
   "id": "b7163b69",
   "metadata": {},
   "outputs": [],
   "source": []
  }
 ],
 "metadata": {
  "kernelspec": {
   "display_name": "python3",
   "language": "python",
   "name": "python3"
  }
 },
 "nbformat": 4,
 "nbformat_minor": 5
}

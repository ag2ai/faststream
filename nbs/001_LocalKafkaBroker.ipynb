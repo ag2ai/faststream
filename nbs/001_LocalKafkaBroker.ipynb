{
 "cells": [
  {
   "cell_type": "code",
   "execution_count": null,
   "id": "4e3e7ac1",
   "metadata": {},
   "outputs": [],
   "source": [
    "# | default_exp _testing.local_kafka_broker"
   ]
  },
  {
   "cell_type": "code",
   "execution_count": null,
   "id": "78dd1499",
   "metadata": {},
   "outputs": [],
   "source": [
    "# | export\n",
    "import uuid\n",
    "from collections import namedtuple\n",
    "from dataclasses import dataclass\n",
    "\n",
    "from typing import *\n",
    "from aiokafka import AIOKafkaConsumer, AIOKafkaProducer\n",
    "from aiokafka.structs import ConsumerRecord, TopicPartition\n",
    "\n",
    "from fastkafka._components.meta import patch, delegates\n",
    "from fastkafka._components.logger import get_logger"
   ]
  },
  {
   "cell_type": "code",
   "execution_count": null,
   "id": "df56c33b",
   "metadata": {},
   "outputs": [],
   "source": [
    "from contextlib import asynccontextmanager\n",
    "import unittest"
   ]
  },
  {
   "cell_type": "code",
   "execution_count": null,
   "id": "0e65cf05",
   "metadata": {},
   "outputs": [],
   "source": [
    "# | export\n",
    "\n",
    "logger = get_logger(__name__)"
   ]
  },
  {
   "cell_type": "markdown",
   "id": "74e8c6f7",
   "metadata": {},
   "source": [
    "# Local Kafka broker\n",
    "> In-memory mockup of Kafka broker protocol"
   ]
  },
  {
   "cell_type": "code",
   "execution_count": null,
   "id": "d7596402",
   "metadata": {},
   "outputs": [],
   "source": [
    "# | export\n",
    "\n",
    "\n",
    "def create_consumer_record(topic: str, msg: bytes) -> ConsumerRecord: # type: ignore\n",
    "    record = ConsumerRecord(\n",
    "        topic=topic,\n",
    "        partition=0,\n",
    "        offset=0,\n",
    "        timestamp=0,\n",
    "        timestamp_type=0,\n",
    "        key=None,\n",
    "        value=msg,\n",
    "        checksum=0,\n",
    "        serialized_key_size=0,\n",
    "        serialized_value_size=0,\n",
    "        headers=[],\n",
    "    )\n",
    "    return record"
   ]
  },
  {
   "cell_type": "code",
   "execution_count": null,
   "id": "5791221d",
   "metadata": {},
   "outputs": [
    {
     "data": {
      "text/plain": [
       "ConsumerRecord(topic='my_topic', partition=1, offset=0, timestamp=0, timestamp_type=0, key=None, value=b'my_msg', checksum=0, serialized_key_size=0, serialized_value_size=0, headers=[])"
      ]
     },
     "execution_count": null,
     "metadata": {},
     "output_type": "execute_result"
    }
   ],
   "source": [
    "record = create_consumer_record(\"my_topic\", b\"my_msg\")\n",
    "record.partition = 1\n",
    "record"
   ]
  },
  {
   "cell_type": "code",
   "execution_count": null,
   "id": "727d487a",
   "metadata": {},
   "outputs": [],
   "source": [
    "# | export\n",
    "\n",
    "\n",
    "@dataclass\n",
    "class ConsumerMetadata:\n",
    "    topic: str\n",
    "    offset: int"
   ]
  },
  {
   "cell_type": "code",
   "execution_count": null,
   "id": "d6ec35a9",
   "metadata": {},
   "outputs": [],
   "source": [
    "consumer_meta = ConsumerMetadata(\"my_topic\", 0)\n",
    "assert consumer_meta.topic == \"my_topic\"\n",
    "assert consumer_meta.offset == 0"
   ]
  },
  {
   "cell_type": "code",
   "execution_count": null,
   "id": "5737f99f",
   "metadata": {},
   "outputs": [],
   "source": [
    "# | export\n",
    "\n",
    "\n",
    "class LocalKafkaBroker:\n",
    "    def __init__(self, topics: List[str]):\n",
    "        self.data: Dict[str, List[ConsumerRecord]] = {topic: list() for topic in topics} # type: ignore\n",
    "\n",
    "        self.consumers_metadata: Dict[str, List[ConsumerMetadata]] = {}\n",
    "\n",
    "    def connect(self) -> uuid.UUID:\n",
    "        return uuid.uuid4()\n",
    "\n",
    "    def subscribe(self, actor_id: str, *, auto_offest_reset: str, topic: str) -> None:\n",
    "        consumer_metadata = self.consumers_metadata.get(actor_id, list())\n",
    "        consumer_metadata.append(\n",
    "            ConsumerMetadata(\n",
    "                topic, len(self.data[topic]) if auto_offest_reset == \"latest\" else 0\n",
    "            )\n",
    "        )\n",
    "        self.consumers_metadata[actor_id] = consumer_metadata\n",
    "\n",
    "    def unsubscribe(self, actor_id: str) -> None:\n",
    "        try:\n",
    "            del self.consumers_metadata[actor_id]\n",
    "        except KeyError:\n",
    "            logger.warning(f\"No subscription with {actor_id=} found!\")\n",
    "\n",
    "    def produce(\n",
    "        self, actor_id: str, *, topic: str, msg: bytes, key: Optional[bytes]\n",
    "    ) -> None:\n",
    "        record = create_consumer_record(topic, msg)\n",
    "        self.data[topic].append(record)\n",
    "\n",
    "    def consume( # type: ignore\n",
    "        self, actor_id: str\n",
    "    ) -> Dict[TopicPartition, List[ConsumerRecord]]:\n",
    "        msgs: Dict[TopicPartition, List[ConsumerRecord]] = {} # type: ignore\n",
    "\n",
    "        try:\n",
    "            consumer_metadata = self.consumers_metadata[actor_id]\n",
    "        except KeyError:\n",
    "            logger.warn(f\"No subscription with {actor_id=} found!\")\n",
    "            return msgs\n",
    "\n",
    "        for metadata in consumer_metadata:\n",
    "            try:\n",
    "                msgs[TopicPartition(metadata.topic, 0)] = self.data[metadata.topic][\n",
    "                    metadata.offset :\n",
    "                ]\n",
    "                metadata.offset = len(self.data[metadata.topic])\n",
    "            except KeyError:\n",
    "                raise RuntimeError(\n",
    "                    f\"{metadata.topic=} not found, did you pass it to LocalKafkaBroker on init to be created?\"\n",
    "                )\n",
    "        return msgs\n",
    "\n",
    "    def _patch_consumers_and_producers(self) -> None:\n",
    "        pass\n",
    "\n",
    "    def __enter__(self) -> \"LocalKafkaBroker\":\n",
    "        logger.info(\"Local kafka broker starting\")\n",
    "        self._patch_consumers_and_producers()\n",
    "        return self\n",
    "\n",
    "    def __exit__(self, *args: Any) -> None:\n",
    "        logger.info(\"Local kafka broker stopping\")"
   ]
  },
  {
   "cell_type": "code",
   "execution_count": null,
   "id": "55ea19e7",
   "metadata": {},
   "outputs": [],
   "source": [
    "# TODO: Tests"
   ]
  },
  {
   "cell_type": "markdown",
   "id": "88c5b3a9",
   "metadata": {},
   "source": [
    "## Consumer patching\n",
    "\n",
    "We need to patch AIOKafkaConsumer methods so that we can redirect the consumer to our local kafka broker.\n",
    "\n",
    "Patched methods:\n",
    "\n",
    "- [x] \\_\\_init\\_\\_\n",
    "- [x] start\n",
    "- [x] subscribe\n",
    "- [x] stop\n",
    "- [x] getmany"
   ]
  },
  {
   "cell_type": "markdown",
   "id": "b9100f78",
   "metadata": {},
   "source": [
    "Patching \\_\\_init\\_\\_ so that we pass the LocalKafkaBroker instance to all instances of AIOKafkaConsumer in the patched namespace"
   ]
  },
  {
   "cell_type": "code",
   "execution_count": null,
   "id": "28f3357d",
   "metadata": {},
   "outputs": [],
   "source": [
    "# | export\n",
    "\n",
    "\n",
    "def _patch_AIOKafkaConsumer_init(broker: LocalKafkaBroker) -> None:\n",
    "    @patch\n",
    "    @delegates(AIOKafkaConsumer)\n",
    "    def __init__( # type: ignore\n",
    "        self: AIOKafkaConsumer,\n",
    "        broker: LocalKafkaBroker = broker,\n",
    "        auto_offset_reset: str =\"latest\",\n",
    "        **kwargs: Any,\n",
    "    ) -> None:\n",
    "        logger.info(\"AIOKafkaConsumer patched __init__() called()\")\n",
    "        self.broker = broker\n",
    "        self.auto_offset_reset = auto_offset_reset\n",
    "        self.id = None"
   ]
  },
  {
   "cell_type": "code",
   "execution_count": null,
   "id": "99130eda",
   "metadata": {},
   "outputs": [
    {
     "name": "stdout",
     "output_type": "stream",
     "text": [
      "[INFO] __main__: Local kafka broker starting\n",
      "[INFO] __main__: AIOKafkaConsumer patched __init__() called()\n",
      "[INFO] __main__: Local kafka broker stopping\n"
     ]
    }
   ],
   "source": [
    "with LocalKafkaBroker(topics=[\"my_topic\"]) as broker:\n",
    "    _patch_AIOKafkaConsumer_init(broker)\n",
    "    consumer = AIOKafkaConsumer()"
   ]
  },
  {
   "cell_type": "markdown",
   "id": "28e4df06",
   "metadata": {},
   "source": [
    "Patching start so that we don't try to start the real AIOKafkaConsumer instance"
   ]
  },
  {
   "cell_type": "code",
   "execution_count": null,
   "id": "6f53f9da",
   "metadata": {},
   "outputs": [],
   "source": [
    "# | export\n",
    "\n",
    "\n",
    "def _patch_AIOKafkaConsumer_start() -> None:\n",
    "    @patch\n",
    "    @delegates(AIOKafkaConsumer.start)\n",
    "    async def start(self: AIOKafkaConsumer, **kwargs: Any) -> None: # type: ignore\n",
    "        logger.info(\"AIOKafkaConsumer patched start() called()\")\n",
    "        if self.id is not None:\n",
    "            raise RuntimeError(\n",
    "                \"Consumer start() already called! Run consumer stop() before running start() again\"\n",
    "            )\n",
    "        self.id = self.broker.connect()"
   ]
  },
  {
   "cell_type": "code",
   "execution_count": null,
   "id": "072dd1f0",
   "metadata": {},
   "outputs": [
    {
     "name": "stdout",
     "output_type": "stream",
     "text": [
      "[INFO] __main__: Local kafka broker starting\n",
      "[INFO] __main__: AIOKafkaConsumer patched __init__() called()\n",
      "[INFO] __main__: AIOKafkaConsumer patched start() called()\n",
      "[INFO] __main__: Local kafka broker stopping\n"
     ]
    }
   ],
   "source": [
    "with LocalKafkaBroker(topics=[\"my_topic\"]) as broker:\n",
    "    _patch_AIOKafkaConsumer_init(broker)\n",
    "    consumer = AIOKafkaConsumer()\n",
    "\n",
    "    _patch_AIOKafkaConsumer_start()\n",
    "    await consumer.start()"
   ]
  },
  {
   "cell_type": "markdown",
   "id": "21c11cd3",
   "metadata": {},
   "source": [
    "Patching subscribe so that we can connect to our Local, in-memory, Kafka broker"
   ]
  },
  {
   "cell_type": "code",
   "execution_count": null,
   "id": "1de72311",
   "metadata": {},
   "outputs": [],
   "source": [
    "# | export\n",
    "\n",
    "\n",
    "def _patch_AIOKafkaConsumer_subscribe() -> None:\n",
    "    @patch\n",
    "    @delegates(AIOKafkaConsumer.subscribe)\n",
    "    def subscribe(self: AIOKafkaConsumer, topics: List[str], **kwargs: Any) -> None: # type: ignore\n",
    "        logger.info(\"AIOKafkaConsumer patched subscribe() called\")\n",
    "        if self.id is None:\n",
    "            raise RuntimeError(\n",
    "                \"Consumer start() not called! Run consumer start() first\"\n",
    "            )\n",
    "        logger.info(f\"AIOKafkaConsumer.subscribe(), subscribing to: {topics}\")\n",
    "        [\n",
    "            self.broker.subscribe(\n",
    "                self.id, topic=topic, auto_offest_reset=self.auto_offset_reset\n",
    "            )\n",
    "            for topic in topics\n",
    "        ]"
   ]
  },
  {
   "cell_type": "code",
   "execution_count": null,
   "id": "945e08d4",
   "metadata": {},
   "outputs": [
    {
     "name": "stdout",
     "output_type": "stream",
     "text": [
      "[INFO] __main__: Local kafka broker starting\n",
      "[INFO] __main__: AIOKafkaConsumer patched __init__() called()\n",
      "[INFO] __main__: AIOKafkaConsumer patched start() called()\n",
      "[INFO] __main__: AIOKafkaConsumer patched subscribe() called\n",
      "[INFO] __main__: AIOKafkaConsumer.subscribe(), subscribing to: ['my_topic']\n",
      "[INFO] __main__: Local kafka broker stopping\n"
     ]
    }
   ],
   "source": [
    "with LocalKafkaBroker(topics=[\"my_topic\"]) as broker:\n",
    "    _patch_AIOKafkaConsumer_init(broker)\n",
    "    consumer = AIOKafkaConsumer()\n",
    "\n",
    "    _patch_AIOKafkaConsumer_start()\n",
    "    await consumer.start()\n",
    "\n",
    "    _patch_AIOKafkaConsumer_subscribe()\n",
    "    consumer.subscribe([\"my_topic\"])"
   ]
  },
  {
   "cell_type": "markdown",
   "id": "dd80a4d5",
   "metadata": {},
   "source": [
    "Patching stop so that be dont break anything by calling the real AIOKafkaConsumer stop()"
   ]
  },
  {
   "cell_type": "code",
   "execution_count": null,
   "id": "dc82405e",
   "metadata": {},
   "outputs": [],
   "source": [
    "# | export\n",
    "\n",
    "\n",
    "def _patch_AIOKafkaConsumer_stop() -> None:\n",
    "    @patch\n",
    "    @delegates(AIOKafkaConsumer.stop)\n",
    "    async def stop(self: AIOKafkaConsumer, **kwargs: Any) -> None: # type: ignore\n",
    "        logger.info(\"AIOKafkaConsumer patched stop() called\")\n",
    "        if self.id is None:\n",
    "            raise RuntimeError(\n",
    "                \"Consumer start() not called! Run consumer start() first\"\n",
    "            )\n",
    "        self.broker.unsubscribe(self.id)"
   ]
  },
  {
   "cell_type": "code",
   "execution_count": null,
   "id": "fc667214",
   "metadata": {},
   "outputs": [
    {
     "name": "stdout",
     "output_type": "stream",
     "text": [
      "[INFO] __main__: Local kafka broker starting\n",
      "[INFO] __main__: AIOKafkaConsumer patched __init__() called()\n",
      "[INFO] __main__: AIOKafkaConsumer patched start() called()\n",
      "[INFO] __main__: AIOKafkaConsumer patched subscribe() called\n",
      "[INFO] __main__: AIOKafkaConsumer.subscribe(), subscribing to: ['my_topic']\n",
      "[INFO] __main__: AIOKafkaConsumer patched stop() called\n",
      "[INFO] __main__: Local kafka broker stopping\n"
     ]
    }
   ],
   "source": [
    "with LocalKafkaBroker(topics=[\"my_topic\"]) as broker:\n",
    "    _patch_AIOKafkaConsumer_init(broker)\n",
    "    consumer = AIOKafkaConsumer()\n",
    "\n",
    "    _patch_AIOKafkaConsumer_start()\n",
    "    _patch_AIOKafkaConsumer_subscribe()\n",
    "    _patch_AIOKafkaConsumer_stop()\n",
    "\n",
    "    await consumer.start()\n",
    "    consumer.subscribe([\"my_topic\"])\n",
    "    await consumer.stop()"
   ]
  },
  {
   "cell_type": "markdown",
   "id": "a0c733b4",
   "metadata": {},
   "source": [
    "Patching getmany so that the messages are pulled from our Local, in-memory, Kafka broker"
   ]
  },
  {
   "cell_type": "code",
   "execution_count": null,
   "id": "0663c9b4",
   "metadata": {},
   "outputs": [],
   "source": [
    "# | export\n",
    "\n",
    "\n",
    "def _patch_AIOKafkaConsumer_getmany() -> None:\n",
    "    @patch\n",
    "    @delegates(AIOKafkaConsumer.getmany)\n",
    "    async def getmany( # type: ignore\n",
    "        self: AIOKafkaConsumer, **kwargs: Any\n",
    "    ) -> Dict[TopicPartition, List[ConsumerRecord]]:\n",
    "        logger.info(\"AIOKafkaConsumer patched getmany() called!\")\n",
    "        return self.broker.consume(self.id) # type: ignore"
   ]
  },
  {
   "cell_type": "code",
   "execution_count": null,
   "id": "a4940bac",
   "metadata": {},
   "outputs": [
    {
     "name": "stdout",
     "output_type": "stream",
     "text": [
      "[INFO] __main__: Local kafka broker starting\n",
      "[INFO] __main__: AIOKafkaConsumer patched __init__() called()\n",
      "[INFO] __main__: AIOKafkaConsumer patched getmany() called!\n",
      "[WARNING] __main__: No subscription with actor_id=None found!\n",
      "[INFO] __main__: Local kafka broker stopping\n"
     ]
    },
    {
     "name": "stderr",
     "output_type": "stream",
     "text": [
      "/tmp/ipykernel_2384/3375269831.py:42: DeprecationWarning: The 'warn' method is deprecated, use 'warning' instead\n",
      "  logger.warn(f\"No subscription with {actor_id=} found!\")\n"
     ]
    }
   ],
   "source": [
    "with LocalKafkaBroker(topics=[\"my_topic\"]) as broker:\n",
    "    _patch_AIOKafkaConsumer_init(broker)\n",
    "    consumer = AIOKafkaConsumer()\n",
    "\n",
    "    _patch_AIOKafkaConsumer_getmany()\n",
    "    await consumer.getmany()"
   ]
  },
  {
   "cell_type": "markdown",
   "id": "fe590a6a",
   "metadata": {},
   "source": [
    "General patch for consumers:"
   ]
  },
  {
   "cell_type": "code",
   "execution_count": null,
   "id": "b9ac264f",
   "metadata": {},
   "outputs": [],
   "source": [
    "# | export\n",
    "\n",
    "\n",
    "def _patch_AIOKafkaConsumer(broker: LocalKafkaBroker) -> None:\n",
    "    _patch_AIOKafkaConsumer_init(broker)\n",
    "    _patch_AIOKafkaConsumer_start()\n",
    "    _patch_AIOKafkaConsumer_subscribe()\n",
    "    _patch_AIOKafkaConsumer_stop()\n",
    "    _patch_AIOKafkaConsumer_getmany()"
   ]
  },
  {
   "cell_type": "code",
   "execution_count": null,
   "id": "9aa9b15c",
   "metadata": {},
   "outputs": [
    {
     "name": "stdout",
     "output_type": "stream",
     "text": [
      "[INFO] __main__: Local kafka broker starting\n",
      "[INFO] __main__: Local kafka broker stopping\n"
     ]
    }
   ],
   "source": [
    "with LocalKafkaBroker(topics=[\"my_topic\"]) as broker:\n",
    "    _patch_AIOKafkaConsumer(broker)"
   ]
  },
  {
   "cell_type": "markdown",
   "id": "723468f0",
   "metadata": {},
   "source": [
    "## Producer patching\n",
    "\n",
    "We need to patch AIOKafkaProducer methods so that we can redirect the producer to our local kafka broker\n",
    "\n",
    "- [x] \\_\\_init\\_\\_\n",
    "- [x] start\n",
    "- [x] stop\n",
    "- [x] send"
   ]
  },
  {
   "cell_type": "markdown",
   "id": "9bfdc5f7",
   "metadata": {},
   "source": [
    "Patching \\_\\_init\\_\\_ so that we pass the LocalKafkaBroker instance to all instances of AIOKafkaProducer in the patched namespace"
   ]
  },
  {
   "cell_type": "code",
   "execution_count": null,
   "id": "42102f55",
   "metadata": {},
   "outputs": [],
   "source": [
    "# | export\n",
    "\n",
    "\n",
    "def _patch_AIOKafkaProducer_init(broker: LocalKafkaBroker) -> None:\n",
    "    @patch\n",
    "    @delegates(AIOKafkaProducer)\n",
    "    def __init__( # type: ignore\n",
    "        self: AIOKafkaProducer, broker: LocalKafkaBroker = broker, **kwargs: Any\n",
    "    ) -> None:\n",
    "        logger.info(\"AIOKafkaProducer patched __init__() called()\")\n",
    "        self.broker = broker\n",
    "        self.id = None"
   ]
  },
  {
   "cell_type": "code",
   "execution_count": null,
   "id": "80c91cd7",
   "metadata": {},
   "outputs": [
    {
     "name": "stdout",
     "output_type": "stream",
     "text": [
      "[INFO] __main__: Local kafka broker starting\n",
      "[INFO] __main__: AIOKafkaProducer patched __init__() called()\n",
      "[INFO] __main__: Local kafka broker stopping\n"
     ]
    }
   ],
   "source": [
    "with LocalKafkaBroker(topics=[\"my_topic\"]) as mock:\n",
    "    _patch_AIOKafkaProducer_init(broker=mock)\n",
    "    producer = AIOKafkaProducer()"
   ]
  },
  {
   "cell_type": "markdown",
   "id": "bedf322a",
   "metadata": {},
   "source": [
    "Patching AIOKafkaProducer start so that we don't unintentionally try to start a real instance of AIOKafkaProducer"
   ]
  },
  {
   "cell_type": "code",
   "execution_count": null,
   "id": "488ac5c3",
   "metadata": {},
   "outputs": [],
   "source": [
    "# | export\n",
    "\n",
    "\n",
    "def _patch_AIOKafkaProducer_start() -> None:\n",
    "    @patch\n",
    "    @delegates(AIOKafkaProducer.start)\n",
    "    async def start(self: AIOKafkaProducer, **kwargs: Any) -> None: # type: ignore\n",
    "        logger.info(\"AIOKafkaProducer patched start() called()\")\n",
    "        if self.id is not None:\n",
    "            raise RuntimeError(\n",
    "                \"Producer start() already called! Run producer stop() before running start() again\"\n",
    "            )\n",
    "        self.id = self.broker.connect()"
   ]
  },
  {
   "cell_type": "code",
   "execution_count": null,
   "id": "f250c614",
   "metadata": {},
   "outputs": [
    {
     "name": "stdout",
     "output_type": "stream",
     "text": [
      "[INFO] __main__: Local kafka broker starting\n",
      "[INFO] __main__: AIOKafkaProducer patched __init__() called()\n",
      "[INFO] __main__: AIOKafkaProducer patched start() called()\n",
      "[INFO] __main__: Local kafka broker stopping\n"
     ]
    }
   ],
   "source": [
    "with LocalKafkaBroker(topics=[\"my_topic\"]) as broker:\n",
    "    _patch_AIOKafkaProducer_init(broker=broker)\n",
    "    producer = AIOKafkaProducer()\n",
    "\n",
    "    _patch_AIOKafkaProducer_start()\n",
    "    await producer.start()"
   ]
  },
  {
   "cell_type": "markdown",
   "id": "1f9e9be9",
   "metadata": {},
   "source": [
    "Patching AIOKafkaProducerStop so that we don't uniintentionally try to stop a real instance of AIOKafkaProducer"
   ]
  },
  {
   "cell_type": "code",
   "execution_count": null,
   "id": "32412969",
   "metadata": {},
   "outputs": [],
   "source": [
    "# | export\n",
    "\n",
    "\n",
    "def _patch_AIOKafkaProducer_stop() -> None:\n",
    "    @patch\n",
    "    @delegates(AIOKafkaProducer.stop)\n",
    "    async def stop(self: AIOKafkaProducer, **kwargs: Any) -> None: # type: ignore\n",
    "        logger.info(\"AIOKafkaProducer patched stop() called\")\n",
    "        if self.id is None:\n",
    "            raise RuntimeError(\n",
    "                \"Producer start() not called! Run producer start() first\"\n",
    "            )"
   ]
  },
  {
   "cell_type": "code",
   "execution_count": null,
   "id": "9f4a1fbb",
   "metadata": {},
   "outputs": [
    {
     "name": "stdout",
     "output_type": "stream",
     "text": [
      "[INFO] __main__: Local kafka broker starting\n",
      "[INFO] __main__: AIOKafkaProducer patched __init__() called()\n",
      "[INFO] __main__: AIOKafkaProducer patched start() called()\n",
      "[INFO] __main__: AIOKafkaProducer patched stop() called\n",
      "[INFO] __main__: Local kafka broker stopping\n"
     ]
    }
   ],
   "source": [
    "with LocalKafkaBroker(topics=[\"my_topic\"]) as broker:\n",
    "    _patch_AIOKafkaProducer_init(broker=broker)\n",
    "    producer = AIOKafkaProducer()\n",
    "\n",
    "    _patch_AIOKafkaProducer_start()\n",
    "    await producer.start()\n",
    "\n",
    "    _patch_AIOKafkaProducer_stop()\n",
    "    await producer.stop()"
   ]
  },
  {
   "cell_type": "markdown",
   "id": "b2c77a56",
   "metadata": {},
   "source": [
    "Patching AIOKafkaProducer send so that we redirect sent messages to Local, in-memory, Kafka broker"
   ]
  },
  {
   "cell_type": "code",
   "execution_count": null,
   "id": "3f42a03e",
   "metadata": {},
   "outputs": [],
   "source": [
    "# | export\n",
    "\n",
    "\n",
    "def _patch_AIOKafkaProducer_send() -> None:\n",
    "    @patch\n",
    "    @delegates(AIOKafkaProducer.send)\n",
    "    async def send( # type: ignore\n",
    "        self: AIOKafkaProducer,\n",
    "        topic: str,\n",
    "        msg: bytes,\n",
    "        key: Optional[bytes] = None,\n",
    "        **kwargs: Any,\n",
    "    ) -> None:\n",
    "        # logger.info(\"AIOKafkaProducer patched send() called()\")\n",
    "        if self.id is None:\n",
    "            raise RuntimeError(\n",
    "                \"Producer start() not called! Run producer start() first\"\n",
    "            )\n",
    "        self.broker.produce(self.id, topic=topic, msg=msg, key=key)"
   ]
  },
  {
   "cell_type": "code",
   "execution_count": null,
   "id": "9fda1d9b",
   "metadata": {},
   "outputs": [
    {
     "name": "stdout",
     "output_type": "stream",
     "text": [
      "[INFO] __main__: Local kafka broker starting\n",
      "[INFO] __main__: AIOKafkaProducer patched __init__() called()\n",
      "[INFO] __main__: AIOKafkaProducer patched start() called()\n",
      "[INFO] __main__: Local kafka broker stopping\n"
     ]
    }
   ],
   "source": [
    "with LocalKafkaBroker(topics=[\"my_topic\"]) as broker:\n",
    "    _patch_AIOKafkaProducer_init(broker=broker)\n",
    "    producer = AIOKafkaProducer()\n",
    "\n",
    "    _patch_AIOKafkaProducer_start()\n",
    "    await producer.start()\n",
    "\n",
    "    _patch_AIOKafkaProducer_send()\n",
    "    await producer.send(\"my_topic\", b\"some_msg\")"
   ]
  },
  {
   "cell_type": "markdown",
   "id": "da2ae91a",
   "metadata": {},
   "source": [
    "General patch for producers:"
   ]
  },
  {
   "cell_type": "code",
   "execution_count": null,
   "id": "e0a2cd58",
   "metadata": {},
   "outputs": [],
   "source": [
    "# | export\n",
    "\n",
    "\n",
    "def _patch_AIOKafkaProducer(broker: LocalKafkaBroker) -> None:\n",
    "    _patch_AIOKafkaProducer_init(broker)\n",
    "    _patch_AIOKafkaProducer_start()\n",
    "    _patch_AIOKafkaProducer_stop()\n",
    "    _patch_AIOKafkaProducer_send()"
   ]
  },
  {
   "cell_type": "code",
   "execution_count": null,
   "id": "abec334b",
   "metadata": {},
   "outputs": [
    {
     "name": "stdout",
     "output_type": "stream",
     "text": [
      "[INFO] __main__: Local kafka broker starting\n",
      "[INFO] __main__: Local kafka broker stopping\n"
     ]
    }
   ],
   "source": [
    "with LocalKafkaBroker(topics=[\"my_topic\"]) as broker:\n",
    "    _patch_AIOKafkaProducer(broker)"
   ]
  },
  {
   "cell_type": "markdown",
   "id": "20e4d12b",
   "metadata": {},
   "source": [
    "## Add patching to LocalKafkaBroker"
   ]
  },
  {
   "cell_type": "code",
   "execution_count": null,
   "id": "446e0a24",
   "metadata": {},
   "outputs": [],
   "source": [
    "@patch\n",
    "def _patch_consumers_and_producers(self: LocalKafkaBroker) -> None:\n",
    "    logger.info(\n",
    "        \"LocalKafkaProducer._patch_consumers_and_producers(): Patching consumers and producers!\"\n",
    "    )\n",
    "    _patch_AIOKafkaConsumer(self)\n",
    "    _patch_AIOKafkaProducer(self)"
   ]
  },
  {
   "cell_type": "code",
   "execution_count": null,
   "id": "dc55ccb2",
   "metadata": {},
   "outputs": [
    {
     "name": "stdout",
     "output_type": "stream",
     "text": [
      "[INFO] __main__: Local kafka broker starting\n",
      "[INFO] __main__: LocalKafkaProducer._patch_consumers_and_producers(): Patching consumers and producers!\n",
      "[INFO] __main__: AIOKafkaConsumer patched __init__() called()\n",
      "[INFO] __main__: AIOKafkaProducer patched __init__() called()\n",
      "[INFO] __main__: Local kafka broker stopping\n"
     ]
    }
   ],
   "source": [
    "with LocalKafkaBroker([\"topic\"]) as broker:\n",
    "    assert AIOKafkaConsumer().broker == broker\n",
    "    assert AIOKafkaProducer().broker == broker"
   ]
  },
  {
   "cell_type": "markdown",
   "id": "5335aea0",
   "metadata": {},
   "source": [
    "## Broker, consumer and producer integration tests"
   ]
  },
  {
   "cell_type": "code",
   "execution_count": null,
   "id": "4275bf97",
   "metadata": {},
   "outputs": [],
   "source": [
    "@asynccontextmanager\n",
    "async def create_consumer_and_producer(\n",
    "    auto_offset_reset: str = \"latest\",\n",
    ") -> AsyncIterator[Tuple[AIOKafkaConsumer, AIOKafkaProducer]]:\n",
    "    consumer = AIOKafkaConsumer(auto_offset_reset=auto_offset_reset)\n",
    "    producer = AIOKafkaProducer()\n",
    "\n",
    "    await consumer.start()\n",
    "    await producer.start()\n",
    "\n",
    "    yield (consumer, producer)\n",
    "\n",
    "    await consumer.stop()\n",
    "    await producer.stop()"
   ]
  },
  {
   "cell_type": "code",
   "execution_count": null,
   "id": "e7a43bb9",
   "metadata": {},
   "outputs": [
    {
     "name": "stdout",
     "output_type": "stream",
     "text": [
      "[INFO] __main__: AIOKafkaConsumer patched __init__() called()\n",
      "[INFO] __main__: AIOKafkaProducer patched __init__() called()\n",
      "[INFO] __main__: AIOKafkaConsumer patched start() called()\n",
      "[INFO] __main__: AIOKafkaProducer patched start() called()\n",
      "[INFO] __main__: AIOKafkaConsumer patched stop() called\n",
      "[WARNING] __main__: No subscription with actor_id=UUID('95a0eac1-3d63-4fd6-8f32-e6da219c8b06') found!\n",
      "[INFO] __main__: AIOKafkaProducer patched stop() called\n"
     ]
    }
   ],
   "source": [
    "async with create_consumer_and_producer() as (consumer, producer):\n",
    "    assert isinstance(consumer, AIOKafkaConsumer)\n",
    "    assert isinstance(producer, AIOKafkaProducer)"
   ]
  },
  {
   "cell_type": "code",
   "execution_count": null,
   "id": "0a7688d2",
   "metadata": {},
   "outputs": [],
   "source": [
    "def checkEqual(L1, L2):\n",
    "    return len(L1) == len(L2) and sorted(L1) == sorted(L2)"
   ]
  },
  {
   "cell_type": "code",
   "execution_count": null,
   "id": "800d6a47",
   "metadata": {},
   "outputs": [],
   "source": [
    "assert checkEqual([1, 2], [3]) == False\n",
    "assert checkEqual([1, 2, 3], [3, 2, 1]) == True"
   ]
  },
  {
   "cell_type": "markdown",
   "id": "ebc21a6e",
   "metadata": {},
   "source": [
    "Sanity check, let's see if the messages are sent to broker and received by the consumer"
   ]
  },
  {
   "cell_type": "code",
   "execution_count": null,
   "id": "f90249e0",
   "metadata": {},
   "outputs": [
    {
     "name": "stdout",
     "output_type": "stream",
     "text": [
      "[INFO] __main__: Local kafka broker starting\n",
      "[INFO] __main__: LocalKafkaProducer._patch_consumers_and_producers(): Patching consumers and producers!\n",
      "[INFO] __main__: AIOKafkaConsumer patched __init__() called()\n",
      "[INFO] __main__: AIOKafkaProducer patched __init__() called()\n",
      "[INFO] __main__: AIOKafkaConsumer patched start() called()\n",
      "[INFO] __main__: AIOKafkaProducer patched start() called()\n",
      "[INFO] __main__: AIOKafkaConsumer patched subscribe() called\n",
      "[INFO] __main__: AIOKafkaConsumer.subscribe(), subscribing to: ['test_topic']\n",
      "[INFO] __main__: AIOKafkaConsumer patched getmany() called!\n",
      "[INFO] __main__: AIOKafkaConsumer patched stop() called\n",
      "[INFO] __main__: AIOKafkaProducer patched stop() called\n",
      "[INFO] __main__: Local kafka broker stopping\n"
     ]
    }
   ],
   "source": [
    "topic = \"test_topic\"\n",
    "sent_msgs = [f\"msg{i}\".encode(\"UTF-8\") for i in range(320)]\n",
    "\n",
    "with LocalKafkaBroker([topic]) as broker:\n",
    "    async with create_consumer_and_producer(auto_offset_reset=\"earliest\") as (\n",
    "        consumer,\n",
    "        producer,\n",
    "    ):\n",
    "        [await producer.send(topic, msg) for msg in sent_msgs]\n",
    "        consumer.subscribe([topic])\n",
    "        received = await consumer.getmany()\n",
    "        received_msgs = [msg.value for _, msgs in received.items() for msg in msgs]\n",
    "        data = [msg.value for msg in broker.data[topic]]\n",
    "    assert checkEqual(\n",
    "        received_msgs, sent_msgs\n",
    "    ), f\"{sent_msgs=}\\n{received_msgs=}\\n{data=}\""
   ]
  },
  {
   "cell_type": "markdown",
   "id": "f40fa9ed",
   "metadata": {},
   "source": [
    "Check if only subscribed topic messages are received by the consumer"
   ]
  },
  {
   "cell_type": "code",
   "execution_count": null,
   "id": "839a6755",
   "metadata": {},
   "outputs": [
    {
     "name": "stdout",
     "output_type": "stream",
     "text": [
      "[INFO] __main__: Local kafka broker starting\n",
      "[INFO] __main__: LocalKafkaProducer._patch_consumers_and_producers(): Patching consumers and producers!\n",
      "[INFO] __main__: AIOKafkaConsumer patched __init__() called()\n",
      "[INFO] __main__: AIOKafkaProducer patched __init__() called()\n",
      "[INFO] __main__: AIOKafkaConsumer patched start() called()\n",
      "[INFO] __main__: AIOKafkaProducer patched start() called()\n",
      "[INFO] __main__: AIOKafkaConsumer patched subscribe() called\n",
      "[INFO] __main__: AIOKafkaConsumer.subscribe(), subscribing to: ['test_topic1']\n",
      "[INFO] __main__: AIOKafkaConsumer patched getmany() called!\n",
      "[INFO] __main__: AIOKafkaConsumer patched stop() called\n",
      "[INFO] __main__: AIOKafkaProducer patched stop() called\n",
      "[INFO] __main__: Local kafka broker stopping\n"
     ]
    }
   ],
   "source": [
    "topic1 = \"test_topic1\"\n",
    "topic2 = \"test_topic2\"\n",
    "sent_msgs_1 = [(f\"msg{i}\" + topic1).encode(\"UTF-8\") for i in range(32)]\n",
    "sent_msgs_2 = [(f\"msg{i}\" + topic2).encode(\"UTF-8\") for i in range(32)]\n",
    "\n",
    "with LocalKafkaBroker([topic1, topic2]) as broker:\n",
    "    async with create_consumer_and_producer(auto_offset_reset=\"earliest\") as (\n",
    "        consumer,\n",
    "        producer,\n",
    "    ):\n",
    "        [await producer.send(topic1, msg) for msg in sent_msgs_1]\n",
    "        [await producer.send(topic2, msg) for msg in sent_msgs_2]\n",
    "\n",
    "        consumer.subscribe([topic1])\n",
    "        received = await consumer.getmany()\n",
    "        received_msgs = [msg.value for _, msgs in received.items() for msg in msgs]\n",
    "\n",
    "    assert checkEqual(sent_msgs_1, received_msgs)"
   ]
  },
  {
   "cell_type": "markdown",
   "id": "9bb1c5c5",
   "metadata": {},
   "source": [
    "Check if msgs are received only after subscribing when auto_offset_reset is set to \"latest\""
   ]
  },
  {
   "cell_type": "code",
   "execution_count": null,
   "id": "ed6bba51",
   "metadata": {},
   "outputs": [
    {
     "name": "stdout",
     "output_type": "stream",
     "text": [
      "[INFO] __main__: Local kafka broker starting\n",
      "[INFO] __main__: LocalKafkaProducer._patch_consumers_and_producers(): Patching consumers and producers!\n",
      "[INFO] __main__: AIOKafkaConsumer patched __init__() called()\n",
      "[INFO] __main__: AIOKafkaProducer patched __init__() called()\n",
      "[INFO] __main__: AIOKafkaConsumer patched start() called()\n",
      "[INFO] __main__: AIOKafkaProducer patched start() called()\n",
      "[INFO] __main__: AIOKafkaConsumer patched subscribe() called\n",
      "[INFO] __main__: AIOKafkaConsumer.subscribe(), subscribing to: ['test_topic']\n",
      "[INFO] __main__: AIOKafkaConsumer patched getmany() called!\n",
      "[INFO] __main__: AIOKafkaConsumer patched stop() called\n",
      "[INFO] __main__: AIOKafkaProducer patched stop() called\n",
      "[INFO] __main__: Local kafka broker stopping\n"
     ]
    }
   ],
   "source": [
    "topic = \"test_topic\"\n",
    "sent_msgs_before = [f\"msg{i}\".encode(\"UTF-8\") for i in range(32)]\n",
    "sent_msgs_after = [f\"msg{i}\".encode(\"UTF-8\") for i in range(32, 64)]\n",
    "\n",
    "with LocalKafkaBroker([topic]) as broker:\n",
    "    async with create_consumer_and_producer() as (consumer, producer):\n",
    "        [await producer.send(topic, msg) for msg in sent_msgs_before]\n",
    "\n",
    "        consumer.subscribe([topic])\n",
    "        [await producer.send(topic, msg) for msg in sent_msgs_after]\n",
    "        received = await consumer.getmany()\n",
    "        received_msgs = [msg.value for _, msgs in received.items() for msg in msgs]\n",
    "\n",
    "    assert checkEqual(sent_msgs_after, received_msgs)"
   ]
  }
 ],
 "metadata": {
  "kernelspec": {
   "display_name": "python3",
   "language": "python",
   "name": "python3"
  }
 },
 "nbformat": 4,
 "nbformat_minor": 5
}

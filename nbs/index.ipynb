{
 "cells": [
  {
   "cell_type": "code",
   "execution_count": null,
   "metadata": {},
   "outputs": [],
   "source": [
    "# | hide\n",
    "\n",
    "import os\n",
    "import shutil\n",
    "from pathlib import Path\n",
    "from tempfile import TemporaryDirectory\n",
    "\n",
    "from aiokafka import AIOKafkaProducer\n",
    "\n",
    "from fast_kafka_api.testing import mock_AIOKafkaProducer_send"
   ]
  },
  {
   "cell_type": "markdown",
   "metadata": {},
   "source": [
    "# FastKafkaAPI"
   ]
  },
  {
   "cell_type": "markdown",
   "metadata": {},
   "source": [
    "<b>Effortless Kafka integration for your web services</b>\n",
    "\n",
    "---\n",
    "\n",
    "![PyPI](https://img.shields.io/pypi/v/fast-kafka-api)\n",
    "![PyPI - Downloads](https://img.shields.io/pypi/dm/fast-kafka-api)\n",
    "![PyPI - Python Version](https://img.shields.io/pypi/pyversions/fast-kafka-api)\n",
    "\n",
    "![GitHub Workflow Status](https://img.shields.io/github/actions/workflow/status/airtai/fast-kafka-api/test.yaml)\n",
    "![CodeQL](https://github.com/airtai/fast-kafka-api//actions/workflows/codeql.yml/badge.svg)\n",
    "![Dependency Review](https://github.com/airtai/fast-kafka-api//actions/workflows/dependency-review.yml/badge.svg)\n",
    "\n",
    "![GitHub](https://img.shields.io/github/license/airtai/fast-kafka-api)\n",
    "\n",
    "---\n",
    "\n",
    "FastKafkaAPI is a powerful and easy-to-use Python library for building asynchronous web services that interact with Kafka topics. Built on top of FastAPI, Starlette, Pydantic, and AIOKafka, FastKafkaAPI simplifies the process of writing producers and consumers for Kafka topics, handling all the parsing, networking, and task scheduling automatically. With FastKafkaAPI, you can quickly prototype and develop high-performance Kafka-based services with minimal code, making it an ideal choice for developers looking to streamline their workflow and accelerate their projects."
   ]
  },
  {
   "cell_type": "markdown",
   "metadata": {},
   "source": [
    "## Install\n",
    "\n",
    "This command installs the FastKafkaAPI package from the Python Package Index (PyPI) using the pip package manager.\n",
    "\n",
    "`pip` is a command-line tool that allows you to install and manage Python packages, including FastKafkaAPI. When you run the `pip install` command with the name of a package (in this case, \"fast-kafka-api\"), pip will download the package from PyPI, along with any dependencies that the package requires, and install it on your system.\n",
    "\n",
    "After running this command, you will be able to import and use the FastKafkaAPI package in your Python code. For example, you might use it to initialize a FastKafkaAPI application, as shown in the example bellow, and to use the `@consumes` and `@produces` decorators to define Kafka consumers and producers in your application.\n",
    "\n",
    "Installing FastKafkaAPI from PyPI using `pip` is the recommended way to install the package, as it makes it easy to manage the package and its dependencies. If you prefer, you can also install FastKafkaAPI from the source code by cloning the repository and running `pip install .` in the root directory of the project."
   ]
  },
  {
   "cell_type": "markdown",
   "metadata": {},
   "source": [
    "```sh\n",
    "pip install fast-kafka-api\n",
    "```"
   ]
  },
  {
   "cell_type": "markdown",
   "metadata": {},
   "source": [
    "## How to use\n",
    "\n",
    "Here is an example python script using FastKafkaAPI that takes data from an input Kafka topic, makes a prediction using a predictive model, and outputs the prediction to an output Kafka topic."
   ]
  },
  {
   "cell_type": "markdown",
   "metadata": {},
   "source": [
    "### Messages\n",
    "\n",
    "FastKafkaAPI uses Pydantic to parse input JSON-encoded data into Python objects, making it easy to work with structured data in your Kafka-based applications. Pydantic's `BaseModel` class allows you to define messages using a declarative syntax, making it easy to specify the fields and types of your messages.\n",
    "\n",
    "This example defines two message classes for use in a FastKafkaAPI application: `InputData` and `Prediction`.\n",
    "\n",
    "The `InputData` class is used to represent input data for a predictive model. It has three fields: `user_id`, `feature_1`, and `feature_2`. The `user_id` field is of type `NonNegativeInt`, which is a subclass of int that only allows non-negative integers. The `feature_1` and `feature_2` fields are both lists of floating-point numbers and integers, respectively. These fields are used to represent input features for the predictive model.\n",
    "\n",
    "The `Prediction` class is used to represent the output of the predictive model. It has two fields: `user_id` and `score`. The `user_id` field is of type `NonNegativeInt`, and the `score` field is a floating-point number. The `score` field represents the prediction made by the model, such as the probability of churn in the next 28 days.\n",
    "\n",
    "These message classes will be used to parse and validate incoming data in Kafka consumers and producers. Using these message classes in combination with FastKafkaAPI makes it easy to work with structured data in your Kafka-based applications.\n"
   ]
  },
  {
   "cell_type": "code",
   "execution_count": null,
   "metadata": {},
   "outputs": [],
   "source": [
    "from typing import List\n",
    "\n",
    "from pydantic import BaseModel, Field, NonNegativeInt\n",
    "\n",
    "\n",
    "class InputData(BaseModel):\n",
    "    user_id: NonNegativeInt = Field(..., example=202020, description=\"ID of a user\")\n",
    "    feature_1: List[float] = Field(\n",
    "        ...,\n",
    "        example=[1.2, 2.3, 4.5, 6.7, 0.1],\n",
    "        description=\"input feature 1\",\n",
    "    )\n",
    "    feature_2: List[int] = Field(\n",
    "        ...,\n",
    "        example=[2, 4, 3, 1, 0],\n",
    "        description=\"input feature 2\",\n",
    "    )\n",
    "\n",
    "\n",
    "class Prediction(BaseModel):\n",
    "    user_id: NonNegativeInt = Field(..., example=202020, description=\"ID of a user\")\n",
    "    score: float = Field(\n",
    "        ...,\n",
    "        example=0.4321,\n",
    "        description=\"Prediction score (e.g. the probability of churn in the next 28 days)\",\n",
    "        ge=0.0,\n",
    "        le=1.0,\n",
    "    )"
   ]
  },
  {
   "cell_type": "markdown",
   "metadata": {},
   "source": [
    "These message classes will be used to parse and validate incoming data in a Kafka consumer and to produce a JSON-encoded message in a producer. Using Pydantic's BaseModel in combination with FastKafkaAPI makes it easy to work with structured data in your Kafka-based applications."
   ]
  },
  {
   "cell_type": "markdown",
   "metadata": {},
   "source": [
    "### Application\n",
    "\n",
    "This example shows how to initialize a FastKafkaAPI application. It starts by defining two environment variables: `KAFKA_HOSTNAME` and `KAFKA_PORT`, which are used to specify the hostname and port of the Kafka broker.\n",
    "\n",
    "Next, it defines a dictionary called `kafka_brokers`, which contains two entries: \"localhost\" and \"production\". Each entry specifies the URL, port, and other details of a Kafka broker. This dictionary is used to define the available Kafka brokers that can be used in the application.\n",
    "\n",
    "The `kafka_config` dictionary specifies the configuration options for the Kafka broker, such as the `bootstrap_servers` setting, which specifies the hostname and port of the Kafka broker.\n",
    "\n",
    "Finally, the FastKafkaAPI class is initialized with several arguments: `title`, `contact`, `version`, `description`, `kafka_brokers`, and `kafka_config`. These arguments are used to configure various aspects of the application, such as the title, version, and description of the application, as well as the available Kafka brokers and the Kafka configuration options. The resulting `FastKafkaAPI` object, which is stored in the `app`\n",
    " variable, represents the initialized FastKafkaAPI application."
   ]
  },
  {
   "cell_type": "code",
   "execution_count": null,
   "metadata": {},
   "outputs": [],
   "source": [
    "from os import environ\n",
    "\n",
    "from fastapi import FastAPI\n",
    "from fast_kafka_api.application import FastKafkaAPI\n",
    "\n",
    "kafka_server_url = environ[\"KAFKA_HOSTNAME\"]\n",
    "kafka_server_port = environ[\"KAFKA_PORT\"]\n",
    "\n",
    "kafka_brokers = {\n",
    "    \"localhost\": {\n",
    "        \"url\": \"kafka\",\n",
    "        \"description\": \"local development kafka broker\",\n",
    "        \"port\": 9092,\n",
    "    },\n",
    "    \"production\": {\n",
    "        \"url\": \"kafka.acme.com\",\n",
    "        \"description\": \"production kafka broker\",\n",
    "        \"port\": 9092,\n",
    "        \"protocol\": \"kafka-secure\",\n",
    "        \"security\": {\"type\": \"plain\"},\n",
    "    },\n",
    "}\n",
    "\n",
    "kafka_config = {\n",
    "    \"bootstrap_servers\": f\"{kafka_server_url}:{kafka_server_port}\",\n",
    "}\n",
    "\n",
    "app = FastAPI(\n",
    "    title=\"FastKafkaAPI Example\",\n",
    "    contact={\"name\": \"airt.ai\", \"url\": \"https://airt.ai\", \"email\": \"info@airt.ai\"},\n",
    "    version=\"0.0.1\",\n",
    "    description=\"A simple example on how to use FastKafkaAPI\",\n",
    ")\n",
    "\n",
    "kafka_app = FastKafkaAPI(\n",
    "    app,\n",
    "    kafka_brokers=kafka_brokers,\n",
    "    **kafka_config,\n",
    ")"
   ]
  },
  {
   "cell_type": "code",
   "execution_count": null,
   "metadata": {},
   "outputs": [],
   "source": [
    "# | hide\n",
    "import unittest.mock\n",
    "\n",
    "model = unittest.mock.MagicMock()\n",
    "model.predict = unittest.mock.AsyncMock(return_value=0.87)"
   ]
  },
  {
   "cell_type": "markdown",
   "metadata": {},
   "source": [
    "### Function decorators\n",
    "\n",
    "FastKafkaAPI provides convenient function decorators called `@consumes` and `@produces` to allow you to delegate the actual processing of data to user-defined functions. These decorators make it easy to specify the processing logic for your Kafka consumers and producers, allowing you to focus on the core business logic of your application without worrying about the underlying Kafka integration.\n",
    "\n",
    "This example shows how to use the `@consumes` and `@produces` decorators in a FastKafkaAPI application.\n",
    "\n",
    "The `@consumes` decorator is applied to the `on_input_data` function, which specifies that this function should be called whenever a message is received on the \"input_data\" Kafka topic. The `on_input_data` function takes a single argument, `msg`, which is expected to be an instance of the `InputData` message class.\n",
    "\n",
    "Inside the `on_input_data` function, the `model.predict` function is called with the `feature_1` and `feature_2` fields from the `msg` argument. This function returns a prediction score, which is then passed to the `to_predictions` function along with the `user_id` field from the `msg` argument.\n",
    "\n",
    "The `@produces` decorator is applied to the `to_predictions` function, which specifies that this function should produce a message to the \"predictions\" Kafka topic whenever it is called. The `to_predictions` function takes two arguments: `user_id` and `score`. It creates a new `Prediction` message with these values and then returns it.\n",
    "\n",
    "In summary, this example shows how to use the `@consumes` and `@produces` decorators to specify the processing logic for Kafka consumers and producers in a FastKafkaAPI application. The `@consumes` decorator is applied to functions that should be called when a message is received on a Kafka topic, and the `@produces` decorator is applied to functions that should produce a message to a Kafka topic. These decorators make it easy to specify the processing logic for your Kafka consumers and producers, allowing you to focus on the core business logic of your application without worrying about the underlying Kafka integration."
   ]
  },
  {
   "cell_type": "code",
   "execution_count": null,
   "metadata": {},
   "outputs": [],
   "source": [
    "@kafka_app.consumes(topic=\"input_data\")\n",
    "async def on_input_data(msg: InputData):\n",
    "    print(f\"msg={msg}\")\n",
    "    score = await model.predict(feature_1=msg.feature_1, feature_2=msg.feature_2)\n",
    "    await to_predictions(user_id=msg.user_id, score=score)\n",
    "\n",
    "\n",
    "@kafka_app.produces(topic=\"predictions\")\n",
    "async def to_predictions(user_id: int, score: float) -> Prediction:\n",
    "    prediction = Prediction(user_id=user_id, score=score)\n",
    "    print(f\"prediction={prediction}\")\n",
    "    return prediction"
   ]
  },
  {
   "cell_type": "code",
   "execution_count": null,
   "metadata": {},
   "outputs": [
    {
     "name": "stdout",
     "output_type": "stream",
     "text": [
      "[INFO] fast_kafka_api._components.asyncapi: Old async specifications at '/work/fast-kafka-api/nbs/asyncapi/spec/asyncapi.yml' does not exist.\n",
      "[INFO] fast_kafka_api._components.asyncapi: New async specifications generated at: 'asyncapi/spec/asyncapi.yml'\n",
      "[INFO] fast_kafka_api._components.asyncapi: Async docs generated at 'asyncapi/docs'\n",
      "[INFO] fast_kafka_api._components.asyncapi: Output of '$ npx -y -p @asyncapi/generator ag asyncapi/spec/asyncapi.yml @asyncapi/html-template -o asyncapi/docs --force-write'\u001b[32m\n",
      "\n",
      "Done! ✨\u001b[0m\n",
      "\u001b[33mCheck out your shiny new generated files at \u001b[0m\u001b[35m/work/fast-kafka-api/nbs/asyncapi/docs\u001b[0m\u001b[33m.\u001b[0m\n",
      "\n",
      "\n",
      "msg=user_id=202020 feature_1=[1.2, 2.3, 4.5, 6.7, 0.1] feature_2=[2, 4, 3, 1, 0]\n",
      "prediction=user_id=202020 score=0.87\n",
      "[INFO] fast_kafka_api._components.aiokafka_consumer_loop: aiokafka_consumer_loop() starting..\n",
      "[INFO] fast_kafka_api._components.aiokafka_consumer_loop: aiokafka_consumer_loop(): Consumer created.\n",
      "[INFO] fast_kafka_api._components.aiokafka_consumer_loop: aiokafka_consumer_loop(): Consumer started.\n",
      "[INFO] aiokafka.consumer.subscription_state: Updating subscribed topics to: frozenset({'input_data'})\n",
      "[INFO] aiokafka.consumer.consumer: Subscribed to topic(s): {'input_data'}\n",
      "[INFO] fast_kafka_api._components.aiokafka_consumer_loop: aiokafka_consumer_loop(): Consumer subscribed.\n",
      "[INFO] fast_kafka_api._components.aiokafka_consumer_loop: aiokafka_consumer_loop(): Consumer stopped.\n",
      "[INFO] fast_kafka_api._components.aiokafka_consumer_loop: aiokafka_consumer_loop() finished.\n"
     ]
    }
   ],
   "source": [
    "# | hide\n",
    "\n",
    "with mock_AIOKafkaProducer_send() as mock:\n",
    "    try:\n",
    "        await kafka_app._on_startup()\n",
    "        input_data = InputData(\n",
    "            user_id=202020,\n",
    "            feature_1=[1.2, 2.3, 4.5, 6.7, 0.1],\n",
    "            feature_2=[2, 4, 3, 1, 0],\n",
    "        )\n",
    "\n",
    "        await on_input_data(input_data)\n",
    "\n",
    "        await kafka_app._on_shutdown()\n",
    "    finally:\n",
    "        if Path(\"asyncapi\").exists():\n",
    "            shutil.rmtree(Path(\"asyncapi\"))"
   ]
  },
  {
   "cell_type": "code",
   "execution_count": null,
   "metadata": {},
   "outputs": [],
   "source": [
    "# | notest\n",
    "# | hide\n",
    "\n",
    "import nest_asyncio"
   ]
  },
  {
   "cell_type": "code",
   "execution_count": null,
   "metadata": {},
   "outputs": [],
   "source": [
    "# | notest\n",
    "# | hide\n",
    "\n",
    "nest_asyncio.apply()"
   ]
  },
  {
   "cell_type": "markdown",
   "metadata": {},
   "source": [
    "### Running the service\n",
    "\n",
    "This example shows how to start the FastKafkaAPI service using the uvicorn library. The `uvicorn.run` function is called with the `app` argument (which represents the FastKafkaAPI application) and the `host` and `port` arguments, which specify the hostname and port on which the service should listen for incoming requests.\n",
    "\n",
    "When the service is started, several log messages are printed to the console, including information about the application startup, AsyncAPI specification generation, and consumer loop status.\n",
    "\n",
    "During the lifetime of the service, incoming requests will be processed by the FastKafkaAPI application and appropriate actions will be taken based on the defined Kafka consumers and producers. For example, if a message is received on the \"input_data\" Kafka topic, the `on_input_data` function will be called to process the message, and if the `to_predictions` function is called, it will produce a message to the \"predictions\" Kafka topic. The service will continue to run until it is shut down, at which point the application shutdown process will be initiated and the service will stop."
   ]
  },
  {
   "cell_type": "code",
   "execution_count": null,
   "metadata": {},
   "outputs": [
    {
     "name": "stderr",
     "output_type": "stream",
     "text": [
      "INFO:     Started server process [32157]\n",
      "INFO:     Waiting for application startup.\n"
     ]
    },
    {
     "name": "stdout",
     "output_type": "stream",
     "text": [
      "[INFO] fast_kafka_api._components.asyncapi: Old async specifications at '/work/fast-kafka-api/nbs/asyncapi/spec/asyncapi.yml' does not exist.\n",
      "[INFO] fast_kafka_api._components.asyncapi: New async specifications generated at: 'asyncapi/spec/asyncapi.yml'\n",
      "[INFO] fast_kafka_api._components.asyncapi: Async docs generated at 'asyncapi/docs'\n",
      "[INFO] fast_kafka_api._components.asyncapi: Output of '$ npx -y -p @asyncapi/generator ag asyncapi/spec/asyncapi.yml @asyncapi/html-template -o asyncapi/docs --force-write'\u001b[32m\n",
      "\n",
      "Done! ✨\u001b[0m\n",
      "\u001b[33mCheck out your shiny new generated files at \u001b[0m\u001b[35m/work/fast-kafka-api/nbs/asyncapi/docs\u001b[0m\u001b[33m.\u001b[0m\n",
      "\n",
      "\n",
      "[INFO] fast_kafka_api._components.aiokafka_consumer_loop: aiokafka_consumer_loop() starting..\n",
      "[INFO] fast_kafka_api._components.aiokafka_consumer_loop: aiokafka_consumer_loop(): Consumer created.\n"
     ]
    },
    {
     "name": "stderr",
     "output_type": "stream",
     "text": [
      "INFO:     Application startup complete.\n",
      "INFO:     Uvicorn running on http://0.0.0.0:4000 (Press CTRL+C to quit)\n"
     ]
    },
    {
     "name": "stdout",
     "output_type": "stream",
     "text": [
      "[INFO] fast_kafka_api._components.aiokafka_consumer_loop: aiokafka_consumer_loop(): Consumer started.\n",
      "[INFO] aiokafka.consumer.subscription_state: Updating subscribed topics to: frozenset({'input_data'})\n",
      "[INFO] aiokafka.consumer.consumer: Subscribed to topic(s): {'input_data'}\n",
      "[INFO] fast_kafka_api._components.aiokafka_consumer_loop: aiokafka_consumer_loop(): Consumer subscribed.\n",
      "[INFO] aiokafka.consumer.group_coordinator: Metadata for topic has changed from {} to {'input_data': 1}. \n"
     ]
    },
    {
     "name": "stderr",
     "output_type": "stream",
     "text": [
      "INFO:     Shutting down\n",
      "INFO:     Waiting for application shutdown.\n"
     ]
    },
    {
     "name": "stdout",
     "output_type": "stream",
     "text": [
      "[INFO] fast_kafka_api._components.aiokafka_consumer_loop: aiokafka_consumer_loop(): Consumer stopped.\n",
      "[INFO] fast_kafka_api._components.aiokafka_consumer_loop: aiokafka_consumer_loop() finished.\n"
     ]
    },
    {
     "name": "stderr",
     "output_type": "stream",
     "text": [
      "INFO:     Application shutdown complete.\n",
      "INFO:     Finished server process [32157]\n"
     ]
    }
   ],
   "source": [
    "# | notest\n",
    "\n",
    "import uvicorn\n",
    "\n",
    "uvicorn.run(app, host=\"0.0.0.0\", port=4000)"
   ]
  },
  {
   "cell_type": "markdown",
   "metadata": {},
   "source": []
  },
  {
   "cell_type": "code",
   "execution_count": null,
   "metadata": {},
   "outputs": [],
   "source": []
  }
 ],
 "metadata": {
  "kernelspec": {
   "display_name": "Python 3 (ipykernel)",
   "language": "python",
   "name": "python3"
  }
 },
 "nbformat": 4,
 "nbformat_minor": 4
}

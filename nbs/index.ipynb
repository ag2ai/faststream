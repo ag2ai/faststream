{
 "cells": [
  {
   "cell_type": "code",
   "execution_count": null,
   "metadata": {},
   "outputs": [],
   "source": [
    "# | hide\n",
    "\n",
    "from IPython.display import Markdown"
   ]
  },
  {
   "cell_type": "code",
   "execution_count": null,
   "metadata": {},
   "outputs": [
    {
     "data": {
      "text/markdown": [
       "\n",
       "# When in Colab...\n",
       "This notebook is exported to README of FastKafka. \n",
       "\n",
       "Some cells are hidden or not necessary to run in tests when exporting to README. Those cells start with \"# | hide\" and \"# | notest\" comments.\n",
       "\n",
       "When running in Colab, you can ignore those comments.\n"
      ],
      "text/plain": [
       "<IPython.core.display.Markdown object>"
      ]
     },
     "execution_count": null,
     "metadata": {},
     "output_type": "execute_result"
    }
   ],
   "source": [
    "# | hide\n",
    "\n",
    "Markdown(\"\"\"\n",
    "# When in Colab...\n",
    "This notebook is exported to README of FastKafka. \n",
    "\n",
    "Some cells are hidden or not necessary to run in tests when exporting to README. Those cells start with \"# | hide\" and \"# | notest\" comments.\n",
    "\n",
    "When running in Colab, you can ignore those comments.\n",
    "\"\"\")"
   ]
  },
  {
   "cell_type": "code",
   "execution_count": null,
   "metadata": {},
   "outputs": [],
   "source": [
    "# | notest\n",
    "# | hide\n",
    "\n",
    "# nest_asyncio step is necessary to be able to run FastKafka inside jupyter notebooks and Google Colab loops\n",
    "\n",
    "import nest_asyncio"
   ]
  },
  {
   "cell_type": "code",
   "execution_count": null,
   "metadata": {},
   "outputs": [],
   "source": [
    "# | notest\n",
    "# | hide\n",
    "\n",
    "nest_asyncio.apply()"
   ]
  },
  {
   "cell_type": "markdown",
   "metadata": {},
   "source": [
    "# FastKafka\n"
   ]
  },
  {
   "cell_type": "markdown",
   "metadata": {},
   "source": [
    "<b>Effortless Kafka integration for your web services</b>"
   ]
  },
  {
   "cell_type": "markdown",
   "metadata": {},
   "source": [
    "\n",
    "---\n",
    "\n",
    "![PyPI](https://img.shields.io/pypi/v/fastkafka)\n",
    "![PyPI - Downloads](https://img.shields.io/pypi/dm/fastkafka)\n",
    "![PyPI - Python Version](https://img.shields.io/pypi/pyversions/fastkafka)\n",
    "\n",
    "![GitHub Workflow Status](https://img.shields.io/github/actions/workflow/status/airtai/fastkafka/test.yaml)\n",
    "![CodeQL](https://github.com/airtai/fastkafka//actions/workflows/codeql.yml/badge.svg)\n",
    "![Dependency Review](https://github.com/airtai/fastkafka//actions/workflows/dependency-review.yml/badge.svg)\n",
    "\n",
    "![GitHub](https://img.shields.io/github/license/airtai/fastkafka)\n",
    "\n",
    "---\n"
   ]
  },
  {
   "cell_type": "markdown",
   "metadata": {},
   "source": [
    "[FastKafka](https://fastkafka.airt.ai/) is a powerful and easy-to-use Python library for building asynchronous services that interact with Kafka topics. Built on top of [Pydantic](https://docs.pydantic.dev/), [AIOKafka](https://github.com/aio-libs/aiokafka) and [AsyncAPI](https://www.asyncapi.com/), FastKafka simplifies the process of writing producers and consumers for Kafka topics, handling all the parsing, networking, task scheduling and data generation automatically. With FastKafka, you can quickly prototype and develop high-performance Kafka-based services with minimal code, making it an ideal choice for developers looking to streamline their workflow and accelerate their projects.\n",
    "\n",
    "---\n",
    "\n",
    "#### ⭐⭐⭐ Stay in touch ⭐⭐⭐\n",
    "\n",
    "Please show your support and stay in touch by:\n",
    "\n",
    "- giving our [GitHub repository](https://github.com/airtai/fastkafka/) a star, and\n",
    "\n",
    "- joining our [Discord server](https://discord.gg/CJWmYpyFbc).\n",
    "\n",
    "Your support helps us to stay in touch with you and encourages us to continue developing and improving the library. Thank you for your support!\n",
    "\n",
    "---\n",
    "\n",
    "#### 🐝🐝🐝 We were busy lately 🐝🐝🐝\n",
    "\n",
    "![Activity](https://repobeats.axiom.co/api/embed/21f36049093d5eb8e5fdad18c3c5d8df5428ca30.svg \"Repobeats analytics image\")"
   ]
  },
  {
   "cell_type": "markdown",
   "metadata": {},
   "source": [
    "## Install\n",
    "\n",
    "FastKafka works on macOS, Linux, and most Unix-style operating systems. You can install base version of `fastkafka` with `pip` as usual:\n",
    "\n",
    "```sh\n",
    "pip install fastkafka\n",
    "```\n",
    "\n",
    "To install fastkafka with testing features please use:\n",
    "```sh\n",
    "pip install fastkafka[test]\n",
    "```\n",
    "\n",
    "To install fastkafka with asyncapi docs please use:\n",
    "```sh\n",
    "pip install fastkafka[docs]\n",
    "```\n",
    "\n",
    "To install fastkafka with all the features please use:\n",
    "```sh\n",
    "pip install fastkafka[test,docs]\n",
    "```"
   ]
  },
  {
   "cell_type": "code",
   "execution_count": null,
   "metadata": {},
   "outputs": [
    {
     "name": "stdout",
     "output_type": "stream",
     "text": [
      "Defaulting to user installation because normal site-packages is not writeable\n",
      "Requirement already satisfied: fastkafka[docs,test] in /work/fastkafka (0.7.0rc1)\n",
      "Requirement already satisfied: aiokafka>=0.8.0 in /home/tvrtko/.local/lib/python3.11/site-packages (from fastkafka[docs,test]) (0.8.0)\n",
      "Requirement already satisfied: anyio>=3.0 in /usr/local/lib/python3.11/dist-packages (from fastkafka[docs,test]) (3.6.2)\n",
      "Requirement already satisfied: asyncer>=0.0.2 in /home/tvrtko/.local/lib/python3.11/site-packages (from fastkafka[docs,test]) (0.0.2)\n",
      "Requirement already satisfied: docstring-parser>=0.15 in /home/tvrtko/.local/lib/python3.11/site-packages (from fastkafka[docs,test]) (0.15)\n",
      "Requirement already satisfied: nest-asyncio>=1.5.6 in /usr/local/lib/python3.11/dist-packages (from fastkafka[docs,test]) (1.5.6)\n",
      "Requirement already satisfied: pydantic>=1.9 in /home/tvrtko/.local/lib/python3.11/site-packages (from fastkafka[docs,test]) (1.10.8)\n",
      "Requirement already satisfied: tqdm>=4.62 in /home/tvrtko/.local/lib/python3.11/site-packages (from fastkafka[docs,test]) (4.65.0)\n",
      "Requirement already satisfied: typer>=0.7.0 in /home/tvrtko/.local/lib/python3.11/site-packages (from fastkafka[docs,test]) (0.9.0)\n",
      "Requirement already satisfied: PyYAML>=5.3.1 in /usr/local/lib/python3.11/dist-packages (from fastkafka[docs,test]) (6.0)\n",
      "Requirement already satisfied: aiohttp>=3.8.4 in /home/tvrtko/.local/lib/python3.11/site-packages (from fastkafka[docs,test]) (3.8.4)\n",
      "Requirement already satisfied: install-jdk==0.3.0 in /home/tvrtko/.local/lib/python3.11/site-packages (from fastkafka[docs,test]) (0.3.0)\n",
      "Requirement already satisfied: ipywidgets<=8.0.4,>=8.0 in /home/tvrtko/.local/lib/python3.11/site-packages (from fastkafka[docs,test]) (8.0.4)\n",
      "Requirement already satisfied: requests>=2.20 in /usr/local/lib/python3.11/dist-packages (from fastkafka[docs,test]) (2.30.0)\n",
      "Requirement already satisfied: attrs>=17.3.0 in /usr/local/lib/python3.11/dist-packages (from aiohttp>=3.8.4->fastkafka[docs,test]) (23.1.0)\n",
      "Requirement already satisfied: charset-normalizer<4.0,>=2.0 in /usr/local/lib/python3.11/dist-packages (from aiohttp>=3.8.4->fastkafka[docs,test]) (3.1.0)\n",
      "Requirement already satisfied: multidict<7.0,>=4.5 in /home/tvrtko/.local/lib/python3.11/site-packages (from aiohttp>=3.8.4->fastkafka[docs,test]) (6.0.4)\n",
      "Requirement already satisfied: async-timeout<5.0,>=4.0.0a3 in /home/tvrtko/.local/lib/python3.11/site-packages (from aiohttp>=3.8.4->fastkafka[docs,test]) (4.0.2)\n",
      "Requirement already satisfied: yarl<2.0,>=1.0 in /home/tvrtko/.local/lib/python3.11/site-packages (from aiohttp>=3.8.4->fastkafka[docs,test]) (1.9.2)\n",
      "Requirement already satisfied: frozenlist>=1.1.1 in /home/tvrtko/.local/lib/python3.11/site-packages (from aiohttp>=3.8.4->fastkafka[docs,test]) (1.3.3)\n",
      "Requirement already satisfied: aiosignal>=1.1.2 in /home/tvrtko/.local/lib/python3.11/site-packages (from aiohttp>=3.8.4->fastkafka[docs,test]) (1.3.1)\n",
      "Requirement already satisfied: kafka-python>=2.0.2 in /home/tvrtko/.local/lib/python3.11/site-packages (from aiokafka>=0.8.0->fastkafka[docs,test]) (2.0.2)\n",
      "Requirement already satisfied: packaging in /usr/local/lib/python3.11/dist-packages (from aiokafka>=0.8.0->fastkafka[docs,test]) (23.1)\n",
      "Requirement already satisfied: idna>=2.8 in /usr/local/lib/python3.11/dist-packages (from anyio>=3.0->fastkafka[docs,test]) (3.4)\n",
      "Requirement already satisfied: sniffio>=1.1 in /usr/local/lib/python3.11/dist-packages (from anyio>=3.0->fastkafka[docs,test]) (1.3.0)\n",
      "Requirement already satisfied: ipykernel>=4.5.1 in /usr/local/lib/python3.11/dist-packages (from ipywidgets<=8.0.4,>=8.0->fastkafka[docs,test]) (6.23.1)\n",
      "Requirement already satisfied: ipython>=6.1.0 in /home/tvrtko/.local/lib/python3.11/site-packages (from ipywidgets<=8.0.4,>=8.0->fastkafka[docs,test]) (8.12.2)\n",
      "Requirement already satisfied: traitlets>=4.3.1 in /usr/local/lib/python3.11/dist-packages (from ipywidgets<=8.0.4,>=8.0->fastkafka[docs,test]) (5.9.0)\n",
      "Requirement already satisfied: widgetsnbextension~=4.0 in /home/tvrtko/.local/lib/python3.11/site-packages (from ipywidgets<=8.0.4,>=8.0->fastkafka[docs,test]) (4.0.7)\n",
      "Requirement already satisfied: jupyterlab-widgets~=3.0 in /home/tvrtko/.local/lib/python3.11/site-packages (from ipywidgets<=8.0.4,>=8.0->fastkafka[docs,test]) (3.0.7)\n",
      "Requirement already satisfied: typing-extensions>=4.2.0 in /home/tvrtko/.local/lib/python3.11/site-packages (from pydantic>=1.9->fastkafka[docs,test]) (4.6.2)\n",
      "Requirement already satisfied: urllib3<3,>=1.21.1 in /home/tvrtko/.local/lib/python3.11/site-packages (from requests>=2.20->fastkafka[docs,test]) (1.26.16)\n",
      "Requirement already satisfied: certifi>=2017.4.17 in /usr/local/lib/python3.11/dist-packages (from requests>=2.20->fastkafka[docs,test]) (2023.5.7)\n",
      "Requirement already satisfied: click<9.0.0,>=7.1.1 in /home/tvrtko/.local/lib/python3.11/site-packages (from typer>=0.7.0->fastkafka[docs,test]) (8.1.3)\n",
      "Requirement already satisfied: comm>=0.1.1 in /usr/local/lib/python3.11/dist-packages (from ipykernel>=4.5.1->ipywidgets<=8.0.4,>=8.0->fastkafka[docs,test]) (0.1.3)\n",
      "Requirement already satisfied: debugpy>=1.6.5 in /usr/local/lib/python3.11/dist-packages (from ipykernel>=4.5.1->ipywidgets<=8.0.4,>=8.0->fastkafka[docs,test]) (1.6.7)\n",
      "Requirement already satisfied: jupyter-client>=6.1.12 in /usr/local/lib/python3.11/dist-packages (from ipykernel>=4.5.1->ipywidgets<=8.0.4,>=8.0->fastkafka[docs,test]) (8.2.0)\n",
      "Requirement already satisfied: jupyter-core!=5.0.*,>=4.12 in /usr/local/lib/python3.11/dist-packages (from ipykernel>=4.5.1->ipywidgets<=8.0.4,>=8.0->fastkafka[docs,test]) (5.3.0)\n",
      "Requirement already satisfied: matplotlib-inline>=0.1 in /usr/local/lib/python3.11/dist-packages (from ipykernel>=4.5.1->ipywidgets<=8.0.4,>=8.0->fastkafka[docs,test]) (0.1.6)\n",
      "Requirement already satisfied: psutil in /usr/local/lib/python3.11/dist-packages (from ipykernel>=4.5.1->ipywidgets<=8.0.4,>=8.0->fastkafka[docs,test]) (5.9.5)\n",
      "Requirement already satisfied: pyzmq>=20 in /usr/local/lib/python3.11/dist-packages (from ipykernel>=4.5.1->ipywidgets<=8.0.4,>=8.0->fastkafka[docs,test]) (25.0.2)\n",
      "Requirement already satisfied: tornado>=6.1 in /usr/local/lib/python3.11/dist-packages (from ipykernel>=4.5.1->ipywidgets<=8.0.4,>=8.0->fastkafka[docs,test]) (6.3.2)\n",
      "Requirement already satisfied: backcall in /usr/local/lib/python3.11/dist-packages (from ipython>=6.1.0->ipywidgets<=8.0.4,>=8.0->fastkafka[docs,test]) (0.2.0)\n",
      "Requirement already satisfied: decorator in /usr/local/lib/python3.11/dist-packages (from ipython>=6.1.0->ipywidgets<=8.0.4,>=8.0->fastkafka[docs,test]) (5.1.1)\n",
      "Requirement already satisfied: jedi>=0.16 in /usr/local/lib/python3.11/dist-packages (from ipython>=6.1.0->ipywidgets<=8.0.4,>=8.0->fastkafka[docs,test]) (0.18.2)\n",
      "Requirement already satisfied: pickleshare in /usr/local/lib/python3.11/dist-packages (from ipython>=6.1.0->ipywidgets<=8.0.4,>=8.0->fastkafka[docs,test]) (0.7.5)\n",
      "Requirement already satisfied: prompt-toolkit!=3.0.37,<3.1.0,>=3.0.30 in /usr/local/lib/python3.11/dist-packages (from ipython>=6.1.0->ipywidgets<=8.0.4,>=8.0->fastkafka[docs,test]) (3.0.38)\n",
      "Requirement already satisfied: pygments>=2.4.0 in /usr/local/lib/python3.11/dist-packages (from ipython>=6.1.0->ipywidgets<=8.0.4,>=8.0->fastkafka[docs,test]) (2.15.1)\n",
      "Requirement already satisfied: stack-data in /usr/local/lib/python3.11/dist-packages (from ipython>=6.1.0->ipywidgets<=8.0.4,>=8.0->fastkafka[docs,test]) (0.6.2)\n",
      "Requirement already satisfied: pexpect>4.3 in /usr/local/lib/python3.11/dist-packages (from ipython>=6.1.0->ipywidgets<=8.0.4,>=8.0->fastkafka[docs,test]) (4.8.0)\n",
      "Requirement already satisfied: parso<0.9.0,>=0.8.0 in /usr/local/lib/python3.11/dist-packages (from jedi>=0.16->ipython>=6.1.0->ipywidgets<=8.0.4,>=8.0->fastkafka[docs,test]) (0.8.3)\n",
      "Requirement already satisfied: python-dateutil>=2.8.2 in /usr/local/lib/python3.11/dist-packages (from jupyter-client>=6.1.12->ipykernel>=4.5.1->ipywidgets<=8.0.4,>=8.0->fastkafka[docs,test]) (2.8.2)\n",
      "Requirement already satisfied: platformdirs>=2.5 in /usr/local/lib/python3.11/dist-packages (from jupyter-core!=5.0.*,>=4.12->ipykernel>=4.5.1->ipywidgets<=8.0.4,>=8.0->fastkafka[docs,test]) (3.5.1)\n",
      "Requirement already satisfied: ptyprocess>=0.5 in /usr/local/lib/python3.11/dist-packages (from pexpect>4.3->ipython>=6.1.0->ipywidgets<=8.0.4,>=8.0->fastkafka[docs,test]) (0.7.0)\n"
     ]
    },
    {
     "name": "stdout",
     "output_type": "stream",
     "text": [
      "Requirement already satisfied: wcwidth in /usr/local/lib/python3.11/dist-packages (from prompt-toolkit!=3.0.37,<3.1.0,>=3.0.30->ipython>=6.1.0->ipywidgets<=8.0.4,>=8.0->fastkafka[docs,test]) (0.2.6)\n",
      "Requirement already satisfied: executing>=1.2.0 in /usr/local/lib/python3.11/dist-packages (from stack-data->ipython>=6.1.0->ipywidgets<=8.0.4,>=8.0->fastkafka[docs,test]) (1.2.0)\n",
      "Requirement already satisfied: asttokens>=2.1.0 in /usr/local/lib/python3.11/dist-packages (from stack-data->ipython>=6.1.0->ipywidgets<=8.0.4,>=8.0->fastkafka[docs,test]) (2.2.1)\n",
      "Requirement already satisfied: pure-eval in /usr/local/lib/python3.11/dist-packages (from stack-data->ipython>=6.1.0->ipywidgets<=8.0.4,>=8.0->fastkafka[docs,test]) (0.2.2)\n",
      "Requirement already satisfied: six in /usr/lib/python3/dist-packages (from asttokens>=2.1.0->stack-data->ipython>=6.1.0->ipywidgets<=8.0.4,>=8.0->fastkafka[docs,test]) (1.16.0)\n"
     ]
    }
   ],
   "source": [
    "# | hide\n",
    "# | notest\n",
    "\n",
    "# Let's install FastKafka with testing and documentation dependencies\n",
    "\n",
    "! pip install fastkafka[test,docs]"
   ]
  },
  {
   "cell_type": "markdown",
   "metadata": {},
   "source": [
    "## Tutorial\n",
    "\n",
    "You can start this README as an interactive tutorial in Google Colab by clicking the button below:\n",
    "\n",
    "<a href=\"https://colab.research.google.com/github/airtai/fastkafka/blob/main/nbs/index.ipynb\" target=”_blank”>\n",
    "  <img src=\"https://colab.research.google.com/assets/colab-badge.svg\" alt=\"Open In Colab\" />\n",
    "</a>"
   ]
  },
  {
   "cell_type": "markdown",
   "metadata": {},
   "source": [
    "## Writing server code\n",
    "\n",
    "To demonstrate FastKafka simplicity of using `@produces` and `@consumes` decorators, we will focus on a simple app.\n",
    "\n",
    "The app will consume jsons containig positive floats from one topic, log them and then produce incremented values to another topic."
   ]
  },
  {
   "cell_type": "markdown",
   "metadata": {},
   "source": [
    "### Messages\n",
    "\n",
    "FastKafka uses [Pydantic](https://docs.pydantic.dev/) to parse input JSON-encoded data into Python objects, making it easy to work with structured data in your Kafka-based applications. Pydantic's [`BaseModel`](https://docs.pydantic.dev/usage/models/) class allows you to define messages using a declarative syntax, making it easy to specify the fields and types of your messages.\n",
    "\n",
    "This example defines one `Data` mesage class. This Class will model the consumed and produced data in our app demo, it contains one `NonNegativeFloat` field `data` that will be logged and \"processed\" before being produced to another topic.\n",
    "\n",
    "These message class will be used to parse and validate incoming data in Kafka consumers and producers."
   ]
  },
  {
   "cell_type": "code",
   "execution_count": null,
   "metadata": {},
   "outputs": [],
   "source": [
    "from pydantic import BaseModel, Field, NonNegativeFloat\n",
    "\n",
    "\n",
    "class Data(BaseModel):\n",
    "    data: NonNegativeFloat = Field(\n",
    "        ..., example=0.5, description=\"Float data example\"\n",
    "    )"
   ]
  },
  {
   "cell_type": "markdown",
   "metadata": {},
   "source": [
    "### Application\n",
    "\n",
    "This example shows how to initialize a FastKafka application.\n",
    "\n",
    "It starts by defining  a dictionary called `kafka_brokers`, which contains two entries: `\"localhost\"` and `\"production\"`, specifying local development and production Kafka brokers. Each entry specifies the URL, port, and other details of a Kafka broker. This dictionary is used for both generating the documentation and later to run the actual server against one of the given kafka broker.\n",
    "\n",
    "Next, an object of the `FastKafka` class is initialized with the minimum set of arguments:\n",
    "\n",
    "- `kafka_brokers`: a dictionary used for generation of documentation\n",
    "\n",
    "We will also import and create a logger so that we can log the incoming data in our consuming function."
   ]
  },
  {
   "cell_type": "code",
   "execution_count": null,
   "metadata": {},
   "outputs": [],
   "source": [
    "from fastkafka import FastKafka\n",
    "from fastkafka._components.logger import get_logger\n",
    "\n",
    "logger = get_logger(__name__)\n",
    "\n",
    "kafka_brokers = {\n",
    "    \"localhost\": {\n",
    "        \"url\": \"localhost\",\n",
    "        \"description\": \"local development kafka broker\",\n",
    "        \"port\": 9092,\n",
    "    },\n",
    "    \"production\": {\n",
    "        \"url\": \"kafka.airt.ai\",\n",
    "        \"description\": \"production kafka broker\",\n",
    "        \"port\": 9092,\n",
    "        \"protocol\": \"kafka-secure\",\n",
    "        \"security\": {\"type\": \"plain\"},\n",
    "    },\n",
    "}\n",
    "\n",
    "kafka_app = FastKafka(\n",
    "    title=\"Demo Kafka app\",\n",
    "    kafka_brokers=kafka_brokers,\n",
    ")"
   ]
  },
  {
   "cell_type": "markdown",
   "metadata": {},
   "source": [
    "### Function decorators\n",
    "\n",
    "FastKafka provides convenient function decorators `@kafka_app.consumes` and `@kafka_app.produces` to allow you to delegate the actual process of\n",
    "\n",
    "- consuming and producing data to Kafka, and\n",
    "\n",
    "- decoding and encoding JSON encode messages\n",
    "\n",
    "from user defined functions to the framework. The FastKafka framework delegates these jobs to AIOKafka and Pydantic libraries.\n",
    "\n",
    "These decorators make it easy to specify the processing logic for your Kafka consumers and producers, allowing you to focus on the core business logic of your application without worrying about the underlying Kafka integration."
   ]
  },
  {
   "cell_type": "markdown",
   "metadata": {},
   "source": [
    "This following example shows how to use the `@kafka_app.consumes` and `@kafka_app.produces` decorators in a FastKafka application:\n",
    "\n",
    "- The `@kafka_app.consumes` decorator is applied to the `on_input_data` function, which specifies that this function should be called whenever a message is received on the \"input_data\" Kafka topic. The `on_input_data` function takes a single argument which is expected to be an instance of the `Data` message class. Specifying the type of the single argument is instructing the Pydantic to use `Data.parse_raw()` on the consumed message before passing it to the user defined function `on_input_data`.\n",
    "\n",
    "- The `@produces` decorator is applied to the `to_output_data` function, which specifies that this function should produce a message to the \"output_data\" Kafka topic whenever it is called. The `to_output_data` function takes a single float argument `data`. It it increments the data returns it wrapped in a `Data` object. The framework will call the `Data.json().encode(\"utf-8\")` function on the returned value and produce it to the specified topic."
   ]
  },
  {
   "cell_type": "code",
   "execution_count": null,
   "metadata": {},
   "outputs": [],
   "source": [
    "@kafka_app.consumes(topic=\"input_data\", auto_offset_reset=\"latest\")\n",
    "async def on_input_data(msg: Data):\n",
    "    logger.info(f\"Got data: {msg.data}\")\n",
    "    await to_output_data(msg.data)\n",
    "\n",
    "\n",
    "@kafka_app.produces(topic=\"output_data\")\n",
    "async def to_output_data(data: float) -> Data:\n",
    "    processed_data = Data(data=data+1.0)\n",
    "    return processed_data"
   ]
  },
  {
   "cell_type": "markdown",
   "metadata": {},
   "source": [
    "## Testing the service\n",
    "\n",
    "The service can be tested using the `Tester` instances which internally starts InMemory implementation of Kafka broker.\n",
    "\n",
    "The Tester will redirect your consumes and produces decorated functions to the InMemory Kafka broker so that you can quickly test your app without the need for a running Kafka broker and all its dependencies."
   ]
  },
  {
   "cell_type": "code",
   "execution_count": null,
   "metadata": {},
   "outputs": [
    {
     "name": "stdout",
     "output_type": "stream",
     "text": [
      "23-05-31 09:05:47.409 [INFO] fastkafka._testing.in_memory_broker: InMemoryBroker._start() called\n",
      "23-05-31 09:05:47.410 [INFO] fastkafka._testing.in_memory_broker: InMemoryBroker._patch_consumers_and_producers(): Patching consumers and producers!\n",
      "23-05-31 09:05:47.410 [INFO] fastkafka._testing.in_memory_broker: InMemoryBroker starting\n",
      "23-05-31 09:05:47.411 [INFO] fastkafka._application.app: _create_producer() : created producer using the config: '{'bootstrap_servers': 'localhost:9092'}'\n",
      "23-05-31 09:05:47.412 [INFO] fastkafka._testing.in_memory_broker: AIOKafkaProducer patched start() called()\n",
      "23-05-31 09:05:47.425 [INFO] fastkafka._application.app: _create_producer() : created producer using the config: '{'bootstrap_servers': 'localhost:9092'}'\n",
      "23-05-31 09:05:47.426 [INFO] fastkafka._testing.in_memory_broker: AIOKafkaProducer patched start() called()\n",
      "23-05-31 09:05:47.426 [INFO] fastkafka._components.aiokafka_consumer_loop: aiokafka_consumer_loop() starting...\n",
      "23-05-31 09:05:47.427 [INFO] fastkafka._components.aiokafka_consumer_loop: aiokafka_consumer_loop(): Consumer created using the following parameters: {'auto_offset_reset': 'latest', 'max_poll_records': 100, 'bootstrap_servers': 'localhost:9092'}\n",
      "23-05-31 09:05:47.428 [INFO] fastkafka._testing.in_memory_broker: AIOKafkaConsumer patched start() called()\n",
      "23-05-31 09:05:47.428 [INFO] fastkafka._components.aiokafka_consumer_loop: aiokafka_consumer_loop(): Consumer started.\n",
      "23-05-31 09:05:47.429 [INFO] fastkafka._testing.in_memory_broker: AIOKafkaConsumer patched subscribe() called\n",
      "23-05-31 09:05:47.429 [INFO] fastkafka._testing.in_memory_broker: AIOKafkaConsumer.subscribe(), subscribing to: ['input_data']\n",
      "23-05-31 09:05:47.429 [INFO] fastkafka._components.aiokafka_consumer_loop: aiokafka_consumer_loop(): Consumer subscribed.\n",
      "23-05-31 09:05:47.435 [INFO] fastkafka._components.aiokafka_consumer_loop: aiokafka_consumer_loop() starting...\n",
      "23-05-31 09:05:47.436 [INFO] fastkafka._components.aiokafka_consumer_loop: aiokafka_consumer_loop(): Consumer created using the following parameters: {'auto_offset_reset': 'earliest', 'max_poll_records': 100, 'bootstrap_servers': 'localhost:9092'}\n",
      "23-05-31 09:05:47.436 [INFO] fastkafka._testing.in_memory_broker: AIOKafkaConsumer patched start() called()\n",
      "23-05-31 09:05:47.436 [INFO] fastkafka._components.aiokafka_consumer_loop: aiokafka_consumer_loop(): Consumer started.\n",
      "23-05-31 09:05:47.437 [INFO] fastkafka._testing.in_memory_broker: AIOKafkaConsumer patched subscribe() called\n",
      "23-05-31 09:05:47.437 [INFO] fastkafka._testing.in_memory_broker: AIOKafkaConsumer.subscribe(), subscribing to: ['output_data']\n",
      "23-05-31 09:05:47.438 [INFO] fastkafka._components.aiokafka_consumer_loop: aiokafka_consumer_loop(): Consumer subscribed.\n",
      "23-05-31 09:05:50.427 [INFO] __main__: Got data: 0.1\n",
      "23-05-31 09:05:51.427 [INFO] fastkafka._testing.in_memory_broker: AIOKafkaConsumer patched stop() called\n",
      "23-05-31 09:05:51.427 [INFO] fastkafka._components.aiokafka_consumer_loop: aiokafka_consumer_loop(): Consumer stopped.\n",
      "23-05-31 09:05:51.428 [INFO] fastkafka._components.aiokafka_consumer_loop: aiokafka_consumer_loop() finished.\n",
      "23-05-31 09:05:51.428 [INFO] fastkafka._testing.in_memory_broker: AIOKafkaProducer patched stop() called\n",
      "23-05-31 09:05:51.429 [INFO] fastkafka._testing.in_memory_broker: AIOKafkaConsumer patched stop() called\n",
      "23-05-31 09:05:51.430 [INFO] fastkafka._components.aiokafka_consumer_loop: aiokafka_consumer_loop(): Consumer stopped.\n",
      "23-05-31 09:05:51.430 [INFO] fastkafka._components.aiokafka_consumer_loop: aiokafka_consumer_loop() finished.\n",
      "23-05-31 09:05:51.431 [INFO] fastkafka._testing.in_memory_broker: AIOKafkaProducer patched stop() called\n",
      "23-05-31 09:05:51.431 [INFO] fastkafka._testing.in_memory_broker: InMemoryBroker._stop() called\n",
      "23-05-31 09:05:51.431 [INFO] fastkafka._testing.in_memory_broker: InMemoryBroker stopping\n"
     ]
    }
   ],
   "source": [
    "from fastkafka.testing import Tester\n",
    "\n",
    "msg = Data(\n",
    "    data=0.1,\n",
    ")\n",
    "\n",
    "# Start Tester app and create InMemory Kafka broker for testing\n",
    "async with Tester(kafka_app) as tester:\n",
    "    # Send Data message to input_data topic\n",
    "    await tester.to_input_data(msg)\n",
    "\n",
    "    # Assert that the kafka_app responded with incremented data in output_data topic\n",
    "    await tester.awaited_mocks.on_output_data.assert_awaited_with(\n",
    "        Data(data=1.1), timeout=2\n",
    "    )"
   ]
  },
  {
   "cell_type": "markdown",
   "metadata": {},
   "source": [
    "### Recap\n",
    "\n",
    "We have created a simple fastkafka application.\n",
    "The app will consume the `Data` from the `input_data` topic, log it and produce the incremented data to `output_data` topic.\n",
    "\n",
    "To test the app we have:\n",
    "\n",
    "1. Created the app\n",
    "\n",
    "2. Started our Tester class which mirrors the developed app topics for testing purposes\n",
    "\n",
    "3. Sent Data message to `input_data` topic\n",
    "\n",
    "4. Asserted and checked that the developed service has reacted to Data message "
   ]
  },
  {
   "cell_type": "markdown",
   "metadata": {},
   "source": [
    "## Running the service\n",
    "\n",
    "The service can be started using builtin faskafka run CLI command. Before we can do that, we will concatenate the code snippets from above and save them in a file `\"application.py\"`"
   ]
  },
  {
   "cell_type": "code",
   "execution_count": null,
   "metadata": {},
   "outputs": [
    {
     "data": {
      "text/markdown": [
       "\n",
       "```python\n",
       "# content of the \"application.py\" file\n",
       "\n",
       "from pydantic import BaseModel, Field, NonNegativeFloat\n",
       "\n",
       "from fastkafka import FastKafka\n",
       "from fastkafka._components.logger import get_logger\n",
       "\n",
       "logger = get_logger(__name__)\n",
       "\n",
       "class Data(BaseModel):\n",
       "    data: NonNegativeFloat = Field(\n",
       "        ..., example=0.5, description=\"Float data example\"\n",
       "    )\n",
       "\n",
       "kafka_brokers = {\n",
       "    \"localhost\": {\n",
       "        \"url\": \"localhost\",\n",
       "        \"description\": \"local development kafka broker\",\n",
       "        \"port\": 9092,\n",
       "    },\n",
       "    \"production\": {\n",
       "        \"url\": \"kafka.airt.ai\",\n",
       "        \"description\": \"production kafka broker\",\n",
       "        \"port\": 9092,\n",
       "        \"protocol\": \"kafka-secure\",\n",
       "        \"security\": {\"type\": \"plain\"},\n",
       "    },\n",
       "}\n",
       "\n",
       "kafka_app = FastKafka(\n",
       "    title=\"Demo Kafka app\",\n",
       "    kafka_brokers=kafka_brokers,\n",
       ")\n",
       "\n",
       "@kafka_app.consumes(topic=\"input_data\", auto_offset_reset=\"latest\")\n",
       "async def on_input_data(msg: Data):\n",
       "    logger.info(f\"Got data: {msg.data}\")\n",
       "    await to_output_data(msg.data)\n",
       "\n",
       "\n",
       "@kafka_app.produces(topic=\"output_data\")\n",
       "async def to_output_data(data: float) -> Data:\n",
       "    processed_data = Data(data=data+1.0)\n",
       "    return processed_data\n",
       "\n",
       "```\n"
      ],
      "text/plain": [
       "<IPython.core.display.Markdown object>"
      ]
     },
     "execution_count": null,
     "metadata": {},
     "output_type": "execute_result"
    }
   ],
   "source": [
    "# | echo: false\n",
    "\n",
    "kafka_app_source = \"\"\"\n",
    "from pydantic import BaseModel, Field, NonNegativeFloat\n",
    "\n",
    "from fastkafka import FastKafka\n",
    "from fastkafka._components.logger import get_logger\n",
    "\n",
    "logger = get_logger(__name__)\n",
    "\n",
    "class Data(BaseModel):\n",
    "    data: NonNegativeFloat = Field(\n",
    "        ..., example=0.5, description=\"Float data example\"\n",
    "    )\n",
    "\n",
    "kafka_brokers = {\n",
    "    \"localhost\": {\n",
    "        \"url\": \"localhost\",\n",
    "        \"description\": \"local development kafka broker\",\n",
    "        \"port\": 9092,\n",
    "    },\n",
    "    \"production\": {\n",
    "        \"url\": \"kafka.airt.ai\",\n",
    "        \"description\": \"production kafka broker\",\n",
    "        \"port\": 9092,\n",
    "        \"protocol\": \"kafka-secure\",\n",
    "        \"security\": {\"type\": \"plain\"},\n",
    "    },\n",
    "}\n",
    "\n",
    "kafka_app = FastKafka(\n",
    "    title=\"Demo Kafka app\",\n",
    "    kafka_brokers=kafka_brokers,\n",
    ")\n",
    "\n",
    "@kafka_app.consumes(topic=\"input_data\", auto_offset_reset=\"latest\")\n",
    "async def on_input_data(msg: Data):\n",
    "    logger.info(f\"Got data: {msg.data}\")\n",
    "    await to_output_data(msg.data)\n",
    "\n",
    "\n",
    "@kafka_app.produces(topic=\"output_data\")\n",
    "async def to_output_data(data: float) -> Data:\n",
    "    processed_data = Data(data=data+1.0)\n",
    "    return processed_data\n",
    "\"\"\"\n",
    "\n",
    "with open(\"application.py\", \"w\") as source:\n",
    "    source.write(kafka_app_source)\n",
    "\n",
    "Markdown(\n",
    "    f\"\"\"\n",
    "```python\n",
    "# content of the \"application.py\" file\n",
    "{kafka_app_source}\n",
    "```\n",
    "\"\"\"\n",
    ")"
   ]
  },
  {
   "cell_type": "code",
   "execution_count": null,
   "metadata": {},
   "outputs": [
    {
     "name": "stdout",
     "output_type": "stream",
     "text": [
      "23-05-31 09:06:08.030 [INFO] fastkafka._components.test_dependencies: Java is already installed.\r\n",
      "23-05-31 09:06:08.030 [INFO] fastkafka._components.test_dependencies: But not exported to PATH, exporting...\r\n",
      "23-05-31 09:06:08.060 [INFO] fastkafka._components.test_dependencies: Kafka is installed.\r\n",
      "23-05-31 09:06:08.060 [INFO] fastkafka._components.test_dependencies: But not exported to PATH, exporting...\r\n"
     ]
    }
   ],
   "source": [
    "# | notest\n",
    "# | hide\n",
    "\n",
    "# We need to start a local Apache Kafka broker so that our service can connect to it\n",
    "\n",
    "# To do that, we need JRE and Kafka toolkit installed.\n",
    "# We can easily do the installation by running \"fastkafka testing install_deps\"\n",
    "\n",
    "! fastkafka testing install_deps"
   ]
  },
  {
   "cell_type": "code",
   "execution_count": null,
   "metadata": {},
   "outputs": [
    {
     "name": "stdout",
     "output_type": "stream",
     "text": [
      "23-05-31 09:06:09.066 [INFO] fastkafka._testing.apache_kafka_broker: ApacheKafkaBroker.start(): entering...\n",
      "23-05-31 09:06:09.067 [WARNING] fastkafka._testing.apache_kafka_broker: ApacheKafkaBroker.start(): (<_UnixSelectorEventLoop running=True closed=False debug=False>) is already running!\n",
      "23-05-31 09:06:09.068 [WARNING] fastkafka._testing.apache_kafka_broker: ApacheKafkaBroker.start(): calling nest_asyncio.apply()\n",
      "23-05-31 09:06:09.069 [INFO] fastkafka._components.test_dependencies: Java is already installed.\n",
      "23-05-31 09:06:09.070 [INFO] fastkafka._components.test_dependencies: But not exported to PATH, exporting...\n",
      "23-05-31 09:06:09.070 [INFO] fastkafka._components.test_dependencies: Kafka is installed.\n",
      "23-05-31 09:06:09.071 [INFO] fastkafka._components.test_dependencies: But not exported to PATH, exporting...\n",
      "23-05-31 09:06:09.072 [INFO] fastkafka._testing.apache_kafka_broker: Starting zookeeper...\n",
      "23-05-31 09:06:09.945 [INFO] fastkafka._testing.apache_kafka_broker: Starting kafka...\n",
      "23-05-31 09:06:12.346 [INFO] fastkafka._testing.apache_kafka_broker: Local Kafka broker up and running on 127.0.0.1:9092\n",
      "23-05-31 09:06:12.348 [INFO] fastkafka._testing.apache_kafka_broker: <class 'fastkafka.testing.ApacheKafkaBroker'>.start(): returning 127.0.0.1:9092\n",
      "23-05-31 09:06:12.350 [INFO] fastkafka._testing.apache_kafka_broker: ApacheKafkaBroker.start(): exited.\n"
     ]
    },
    {
     "data": {
      "text/plain": [
       "'127.0.0.1:9092'"
      ]
     },
     "execution_count": null,
     "metadata": {},
     "output_type": "execute_result"
    }
   ],
   "source": [
    "# | notest\n",
    "# | hide\n",
    "\n",
    "# Let's start the local Apache Kafka broker\n",
    "\n",
    "from fastkafka.testing import ApacheKafkaBroker\n",
    "\n",
    "broker = ApacheKafkaBroker(apply_nest_asyncio=True)\n",
    "\n",
    "broker.start()"
   ]
  },
  {
   "cell_type": "markdown",
   "metadata": {},
   "source": [
    "To run the service, use the FastKafka CLI command and pass the module (in this case, the file where the app implementation is located) and the app simbol to the command.\n",
    "\n",
    "```shell fastkafka run --num-workers=1 --kafka-broker localhost application:kafka_app```\n",
    "\n",
    "After running the command, you should see the following output in your command line:"
   ]
  },
  {
   "cell_type": "code",
   "execution_count": null,
   "metadata": {},
   "outputs": [
    {
     "name": "stdout",
     "output_type": "stream",
     "text": [
      "[4653]: 23-05-31 09:06:13.545 [INFO] fastkafka._application.app: _create_producer() : created producer using the config: '{'bootstrap_servers': 'localhost:9092'}'\n",
      "[4651]: 23-05-31 09:06:13.562 [INFO] fastkafka._application.app: _create_producer() : created producer using the config: '{'bootstrap_servers': 'localhost:9092'}'\n",
      "[4653]: 23-05-31 09:06:13.571 [INFO] fastkafka._components.aiokafka_consumer_loop: aiokafka_consumer_loop() starting...\n",
      "[4653]: 23-05-31 09:06:13.572 [INFO] fastkafka._components.aiokafka_consumer_loop: aiokafka_consumer_loop(): Consumer created using the following parameters: {'auto_offset_reset': 'latest', 'max_poll_records': 100, 'bootstrap_servers': 'localhost:9092'}\n",
      "[4651]: 23-05-31 09:06:13.574 [INFO] fastkafka._components.aiokafka_consumer_loop: aiokafka_consumer_loop() starting...\n",
      "[4651]: 23-05-31 09:06:13.574 [INFO] fastkafka._components.aiokafka_consumer_loop: aiokafka_consumer_loop(): Consumer created using the following parameters: {'auto_offset_reset': 'latest', 'max_poll_records': 100, 'bootstrap_servers': 'localhost:9092'}\n",
      "[4651]: 23-05-31 09:06:13.580 [INFO] fastkafka._components.aiokafka_consumer_loop: aiokafka_consumer_loop(): Consumer started.\n",
      "[4651]: 23-05-31 09:06:13.580 [INFO] aiokafka.consumer.subscription_state: Updating subscribed topics to: frozenset({'input_data'})\n",
      "[4653]: 23-05-31 09:06:13.581 [INFO] fastkafka._components.aiokafka_consumer_loop: aiokafka_consumer_loop(): Consumer started.\n",
      "[4651]: 23-05-31 09:06:13.581 [INFO] aiokafka.consumer.consumer: Subscribed to topic(s): {'input_data'}\n",
      "[4651]: 23-05-31 09:06:13.581 [INFO] fastkafka._components.aiokafka_consumer_loop: aiokafka_consumer_loop(): Consumer subscribed.\n",
      "[4653]: 23-05-31 09:06:13.581 [INFO] aiokafka.consumer.subscription_state: Updating subscribed topics to: frozenset({'input_data'})\n",
      "[4653]: 23-05-31 09:06:13.581 [INFO] aiokafka.consumer.consumer: Subscribed to topic(s): {'input_data'}\n",
      "[4653]: 23-05-31 09:06:13.581 [INFO] fastkafka._components.aiokafka_consumer_loop: aiokafka_consumer_loop(): Consumer subscribed.\n",
      "[4651]: 23-05-31 09:06:13.595 [ERROR] aiokafka.cluster: Topic input_data not found in cluster metadata\n",
      "[4651]: 23-05-31 09:06:13.595 [INFO] aiokafka.consumer.group_coordinator: Metadata for topic has changed from {} to {'input_data': 0}. \n",
      "[4653]: 23-05-31 09:06:13.637 [WARNING] aiokafka.cluster: Topic input_data is not available during auto-create initialization\n",
      "[4653]: 23-05-31 09:06:13.637 [INFO] aiokafka.consumer.group_coordinator: Metadata for topic has changed from {} to {'input_data': 0}. \n"
     ]
    }
   ],
   "source": [
    "# | notest\n",
    "# | echo: false\n",
    "\n",
    "# This cell will run indefinitely, you need to stop it manually\n",
    "\n",
    "!fastkafka run --num-workers=2 --kafka-broker localhost application:kafka_app"
   ]
  },
  {
   "cell_type": "code",
   "execution_count": null,
   "metadata": {},
   "outputs": [],
   "source": [
    "# | notest\n",
    "# | hide\n",
    "\n",
    "# Stop the local broker to keep the runtime clean\n",
    "\n",
    "broker.stop()"
   ]
  },
  {
   "cell_type": "markdown",
   "metadata": {},
   "source": [
    "## Documentation\n",
    "\n",
    "The kafka app comes with builtin documentation generation using [AsyncApi HTML generator](https://www.asyncapi.com/tools/generator).\n",
    "\n",
    "AsyncApi requires Node.js to be installed and we provide the following convenience command line for it:\n",
    "\n",
    "```sh\n",
    "fastkafka docs install_deps\n",
    "```"
   ]
  },
  {
   "cell_type": "code",
   "execution_count": null,
   "metadata": {},
   "outputs": [],
   "source": [
    "# | notest\n",
    "# | hide\n",
    "\n",
    "Markdown(\"\"\"\n",
    "# When in Colab...\n",
    "When running in Colab, we need to update Node.js first:\n",
    "\"\"\")"
   ]
  },
  {
   "cell_type": "code",
   "execution_count": null,
   "metadata": {},
   "outputs": [],
   "source": [
    "# | notest\n",
    "# | hide\n",
    "\n",
    "try:\n",
    "    import google.colab\n",
    "\n",
    "    !npm install -g n\n",
    "    !n lts\n",
    "except:\n",
    "    pass"
   ]
  },
  {
   "cell_type": "code",
   "execution_count": null,
   "metadata": {},
   "outputs": [],
   "source": [
    "# | notest\n",
    "# | echo: false\n",
    "\n",
    "! fastkafka docs install_deps"
   ]
  },
  {
   "cell_type": "markdown",
   "metadata": {},
   "source": [
    "To generate the documentation programatically you just need to call the folloving command:\n",
    "\n",
    "```sh\n",
    "fastkafka docs generate application:kafka_app\n",
    "```"
   ]
  },
  {
   "cell_type": "code",
   "execution_count": null,
   "metadata": {},
   "outputs": [],
   "source": [
    "# | notest\n",
    "# | echo: false\n",
    "\n",
    "! fastkafka docs generate application:kafka_app"
   ]
  },
  {
   "cell_type": "markdown",
   "metadata": {},
   "source": [
    "This will generate the *asyncapi* folder in relative path where all your documentation will be saved. You can check out the content of it with:\n",
    "\n",
    "```sh\n",
    "ls -l asyncapi\n",
    "```"
   ]
  },
  {
   "cell_type": "code",
   "execution_count": null,
   "metadata": {},
   "outputs": [],
   "source": [
    "# | notest\n",
    "# | echo: false\n",
    "\n",
    "! ls -l asyncapi"
   ]
  },
  {
   "cell_type": "markdown",
   "metadata": {},
   "source": [
    "In docs folder you will find the servable static html file of your documentation. This can also be served using our `fastkafka docs serve` CLI command (more on that in our guides).\n",
    "\n",
    "In spec folder you will find a asyncapi.yml file containing the async API specification of your application. "
   ]
  },
  {
   "cell_type": "markdown",
   "metadata": {},
   "source": [
    "We can locally preview the generated documentation by running the following command:\n",
    "\n",
    "```sh\n",
    "fastkafka docs serve application:kafka_app\n",
    "```"
   ]
  },
  {
   "cell_type": "code",
   "execution_count": null,
   "metadata": {},
   "outputs": [],
   "source": [
    "# | notest\n",
    "# | hide\n",
    "\n",
    "try:\n",
    "    import google.colab\n",
    "\n",
    "    port_proxy = google.colab.output.eval_js(f\"google.colab.kernel.proxyPort({8000})\")\n",
    "\n",
    "    display(Markdown(f\"\"\"\n",
    "# When in Colab...\n",
    "To acces your documentation when serving in Colab, you can use [this link]({port_proxy}) \n",
    "(after you have run the fastkafka docs serve application:kafka_app command)\n",
    "\"\"\"))\n",
    "except:\n",
    "    pass"
   ]
  },
  {
   "cell_type": "code",
   "execution_count": null,
   "metadata": {},
   "outputs": [],
   "source": [
    "# | notest\n",
    "# | echo: false\n",
    "\n",
    "# This cell will serve docs indefinitely, you need to stop it manually\n",
    "\n",
    "!fastkafka docs serve application:kafka_app"
   ]
  },
  {
   "cell_type": "markdown",
   "metadata": {},
   "source": [
    "From the parameters passed to the application constructor, we get the documentation bellow:\n",
    "```python\n",
    "from fastkafka import FastKafka\n",
    "\n",
    "kafka_brokers = {\n",
    "    \"localhost\": {\n",
    "        \"url\": \"localhost\",\n",
    "        \"description\": \"local development kafka broker\",\n",
    "        \"port\": 9092,\n",
    "    },\n",
    "    \"production\": {\n",
    "        \"url\": \"kafka.airt.ai\",\n",
    "        \"description\": \"production kafka broker\",\n",
    "        \"port\": 9092,\n",
    "        \"protocol\": \"kafka-secure\",\n",
    "        \"security\": {\"type\": \"plain\"},\n",
    "    },\n",
    "}\n",
    "\n",
    "kafka_app = FastKafka(\n",
    "    title=\"Demo Kafka app\",\n",
    "    kafka_brokers=kafka_brokers,\n",
    ")\n",
    "```"
   ]
  },
  {
   "cell_type": "markdown",
   "metadata": {},
   "source": [
    "![Kafka_servers](https://raw.githubusercontent.com/airtai/fastkafka/main/nbs/images/screenshot-kafka-servers.png)"
   ]
  },
  {
   "cell_type": "markdown",
   "metadata": {},
   "source": [
    "The following documentation snippet are for the consumer as specified in the code above:"
   ]
  },
  {
   "cell_type": "markdown",
   "metadata": {},
   "source": [
    "\n",
    "![Kafka_consumer](https://raw.githubusercontent.com/airtai/fastkafka/main/nbs/images/screenshot-kafka-consumer.png)"
   ]
  },
  {
   "cell_type": "markdown",
   "metadata": {},
   "source": [
    "The following documentation snippet are for the producer as specified in the code above:"
   ]
  },
  {
   "cell_type": "markdown",
   "metadata": {},
   "source": [
    "\n",
    "![Kafka_producer](https://raw.githubusercontent.com/airtai/fastkafka/main/nbs/images/screenshot-kafka-producer.png)"
   ]
  },
  {
   "cell_type": "markdown",
   "metadata": {},
   "source": [
    "Finally, all messages as defined as subclasses of *BaseModel* are documented as well: "
   ]
  },
  {
   "cell_type": "markdown",
   "metadata": {},
   "source": [
    "\n",
    "![Kafka_![Kafka_servers](https://raw.githubusercontent.com/airtai/fastkafka/main/nbs/images/screenshot-kafka-messages.png)](https://raw.githubusercontent.com/airtai/fastkafka/main/nbs/images/screenshot-kafka-messages.png)"
   ]
  },
  {
   "cell_type": "markdown",
   "metadata": {},
   "source": [
    "## License\n",
    "\n",
    "FastKafka is licensed under the Apache License 2.0\n",
    "\n",
    "A permissive license whose main conditions require preservation of copyright and license notices. Contributors provide an express grant of patent rights. Licensed works, modifications, and larger works may be distributed under different terms and without source code.\n",
    "\n",
    "The full text of the license can be found [here](https://raw.githubusercontent.com/airtai/fastkafka/main/LICENSE)."
   ]
  }
 ],
 "metadata": {
  "kernelspec": {
   "display_name": "python3",
   "language": "python",
   "name": "python3"
  }
 },
 "nbformat": 4,
 "nbformat_minor": 1
}

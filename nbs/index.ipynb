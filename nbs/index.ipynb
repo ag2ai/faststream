{
 "cells": [
  {
   "cell_type": "code",
   "execution_count": null,
   "metadata": {},
   "outputs": [],
   "source": [
    "# | hide\n",
    "from fast_kafka_api.testing import mock_AIOKafkaProducer_send"
   ]
  },
  {
   "cell_type": "markdown",
   "metadata": {},
   "source": [
    "# FastKafkaAPI\n",
    "\n",
    "> Extension of FastAPI with Kafka event handlers"
   ]
  },
  {
   "cell_type": "markdown",
   "metadata": {},
   "source": [
    "## Install"
   ]
  },
  {
   "cell_type": "markdown",
   "metadata": {},
   "source": [
    "```sh\n",
    "pip install fast-kafka-api\n",
    "```"
   ]
  },
  {
   "cell_type": "markdown",
   "metadata": {},
   "source": [
    "## How to use\n",
    "\n",
    "We'll create a simple example of using FastKafkaAPI to consume input data from a topic and produce \n",
    "predictions using it into an another topic.\n",
    "\n",
    "First, we define message types used in Kafka topic as follows:"
   ]
  },
  {
   "cell_type": "code",
   "execution_count": null,
   "metadata": {},
   "outputs": [],
   "source": [
    "from typing import List\n",
    "from pydantic import BaseModel, Field, NonNegativeInt\n",
    "\n",
    "class InputData(BaseModel):\n",
    "    user_id: NonNegativeInt = Field(\n",
    "        ..., example=202020, description=\"ID of a user\"\n",
    "    )\n",
    "    feature_1: List[float] = Field(\n",
    "        ...,\n",
    "        example=[1.2, 2.3, 4.5, 6.7, 0.1],\n",
    "        description=\"input feature 1\",\n",
    "    )\n",
    "    feature_2: List[int] = Field(\n",
    "        ...,\n",
    "        example=[2, 4, 3, 1, 0],\n",
    "        description=\"input feature 2\",\n",
    "    )\n",
    "\n",
    "class Prediction(BaseModel):\n",
    "    user_id: NonNegativeInt = Field(\n",
    "        ..., example=202020, description=\"ID of a user\"\n",
    "    )\n",
    "    score: float = Field(\n",
    "        ...,\n",
    "        example=0.4321,\n",
    "        description=\"Prediction score (e.g. the probability of churn in the next 28 days)\",\n",
    "        ge=0.0,\n",
    "        le=1.0,\n",
    "    )"
   ]
  },
  {
   "cell_type": "markdown",
   "metadata": {},
   "source": [
    "Next, we create an FastKafkaAPI object initialized to use Kafka brokers:"
   ]
  },
  {
   "cell_type": "code",
   "execution_count": null,
   "metadata": {},
   "outputs": [
    {
     "name": "stdout",
     "output_type": "stream",
     "text": [
      "[INFO] fast_kafka_api._components.asyncapi: ok\n"
     ]
    }
   ],
   "source": [
    "from os import environ\n",
    "from fast_kafka_api.application import FastKafkaAPI\n",
    "\n",
    "title = \"Example for FastKafkaAPI\"\n",
    "description = \"A simple example on how to use FastKafkaAPI\"\n",
    "version = \"0.0.1\"\n",
    "openapi_url = \"/openapi.json\"\n",
    "\n",
    "contact = dict(name=\"airt.ai\", url=\"https://airt.ai\", email=\"info@airt.ai\")\n",
    "\n",
    "kafka_brokers = {\n",
    "    \"localhost\": {\n",
    "        \"url\": \"kafka\",\n",
    "        \"description\": \"local development kafka\",\n",
    "        \"port\": 9092,\n",
    "    },\n",
    "    \"production\": {\n",
    "        \"url\": \"kafka.acme.com\",\n",
    "        \"description\": \"production kafka\",\n",
    "        \"port\": 9092,\n",
    "        \"protocol\": \"kafka-secure\",\n",
    "        \"security\": {\"type\": \"plain\"},\n",
    "    },\n",
    "}\n",
    "\n",
    "kafka_server_url = environ[\"KAFKA_HOSTNAME\"]\n",
    "kafka_server_port = environ[\"KAFKA_PORT\"]\n",
    "kafka_config = {\n",
    "    \"bootstrap_servers\": f\"{kafka_server_url}:{kafka_server_port}\",\n",
    "}\n",
    "\n",
    "app = FastKafkaAPI(\n",
    "    title=title,\n",
    "    contact=contact,\n",
    "    version=version,\n",
    "    kafka_brokers=kafka_brokers,\n",
    "    kafka_config=kafka_config,\n",
    "    description=description,\n",
    "    docs_url=None,\n",
    "    redoc_url=None,\n",
    ")"
   ]
  },
  {
   "cell_type": "code",
   "execution_count": null,
   "metadata": {},
   "outputs": [],
   "source": [
    "#| hide\n",
    "import unittest.mock\n",
    "\n",
    "model = unittest.mock.MagicMock()\n",
    "model.predict = unittest.mock.AsyncMock(return_value=0.87)\n"
   ]
  },
  {
   "cell_type": "markdown",
   "metadata": {},
   "source": [
    "Next, we use decorators to define which functions are called in input data (consuming data) and which functions are producing messages (producing data):"
   ]
  },
  {
   "cell_type": "code",
   "execution_count": null,
   "metadata": {},
   "outputs": [],
   "source": [
    "@app.consumes(topic=\"input_data\")\n",
    "async def on_input_data(msg: InputData):\n",
    "    print(f\"msg={msg}\")\n",
    "    score = await model.predict(feature_1=msg.feature_1, feature_2=msg.feature_2)\n",
    "    await to_predictions(user_id=msg.user_id, score=score)\n",
    "\n",
    "@app.produces(topic=\"predictions\")\n",
    "async def to_predictions(user_id: int, score: float) -> Prediction:\n",
    "    prediction = Prediction(user_id=user_id, score=score)\n",
    "    print(f\"prediction={prediction}\")\n",
    "    return prediction"
   ]
  },
  {
   "cell_type": "code",
   "execution_count": null,
   "metadata": {},
   "outputs": [
    {
     "name": "stdout",
     "output_type": "stream",
     "text": [
      "[INFO] fast_kafka_api._components.asyncapi: Async specifications generated at: 'asyncapi/spec/asyncapi.yml'\n",
      "[INFO] fast_kafka_api._components.asyncapi: Async docs generated at 'asyncapi/docs'\n",
      "[INFO] fast_kafka_api._components.asyncapi: Output of '$ npx -y -p @asyncapi/generator ag asyncapi/spec/asyncapi.yml @asyncapi/html-template -o asyncapi/docs --force-write'\u001b[32m\n",
      "\n",
      "Done! ✨\u001b[0m\n",
      "\u001b[33mCheck out your shiny new generated files at \u001b[0m\u001b[35m/work/fast-kafka-api/nbs/asyncapi/docs\u001b[0m\u001b[33m.\u001b[0m\n",
      "\n",
      "\n",
      "msg=user_id=202020 feature_1=[1.2, 2.3, 4.5, 6.7, 0.1] feature_2=[2, 4, 3, 1, 0]\n",
      "prediction=user_id=202020 score=0.87\n",
      "[INFO] fast_kafka_api._components.aiokafka_loop: aiokafka_consumer_loop() starting..\n",
      "[INFO] fast_kafka_api._components.aiokafka_loop: aiokafka_consumer_loop(): Consumer created.\n",
      "[INFO] fast_kafka_api._components.aiokafka_loop: aiokafka_consumer_loop(): Consumer started.\n",
      "[INFO] aiokafka.consumer.subscription_state: Updating subscribed topics to: frozenset({'input_data'})\n",
      "[INFO] aiokafka.consumer.consumer: Subscribed to topic(s): {'input_data'}\n",
      "[INFO] fast_kafka_api._components.aiokafka_loop: aiokafka_consumer_loop(): Consumer subscribed.\n",
      "[INFO] fast_kafka_api._components.aiokafka_loop: aiokafka_consumer_loop(): Consumer stopped.\n",
      "[INFO] fast_kafka_api._components.aiokafka_loop: aiokafka_consumer_loop() finished.\n"
     ]
    }
   ],
   "source": [
    "# | hide\n",
    "\n",
    "from aiokafka import AIOKafkaProducer\n",
    "from tempfile import TemporaryDirectory\n",
    "import os\n",
    "\n",
    "with mock_AIOKafkaProducer_send() as mock:\n",
    "    await app._on_startup()\n",
    "    input_data = InputData(\n",
    "        user_id=202020, feature_1=[1.2, 2.3, 4.5, 6.7, 0.1], feature_2=[2, 4, 3, 1, 0]\n",
    "    )\n",
    "\n",
    "    await on_input_data(input_data)\n",
    "\n",
    "    await app._on_shutdown()\n"
   ]
  },
  {
   "cell_type": "code",
   "execution_count": null,
   "metadata": {},
   "outputs": [],
   "source": [
    "#| notest\n",
    "#| hide \n",
    "import nest_asyncio\n",
    "\n",
    "nest_asyncio.apply()\n"
   ]
  },
  {
   "cell_type": "markdown",
   "metadata": {},
   "source": [
    "Finally, start the service using uvicorn:"
   ]
  },
  {
   "cell_type": "code",
   "execution_count": null,
   "metadata": {},
   "outputs": [
    {
     "name": "stderr",
     "output_type": "stream",
     "text": [
      "INFO:     Started server process [4860]\n",
      "INFO:     Waiting for application startup.\n"
     ]
    },
    {
     "name": "stdout",
     "output_type": "stream",
     "text": [
      "[INFO] fast_kafka_api._components.asyncapi: Async specifications generated at: 'asyncapi/spec/asyncapi.yml'\n",
      "[INFO] fast_kafka_api._components.asyncapi: Async docs generated at 'asyncapi/docs'\n",
      "[INFO] fast_kafka_api._components.asyncapi: Output of '$ npx -y -p @asyncapi/generator ag asyncapi/spec/asyncapi.yml @asyncapi/html-template -o asyncapi/docs --force-write'\u001b[32m\n",
      "\n",
      "Done! ✨\u001b[0m\n",
      "\u001b[33mCheck out your shiny new generated files at \u001b[0m\u001b[35m/work/fast-kafka-api/nbs/asyncapi/docs\u001b[0m\u001b[33m.\u001b[0m\n",
      "\n",
      "\n",
      "[INFO] fast_kafka_api._components.aiokafka_loop: aiokafka_consumer_loop() starting..\n",
      "[INFO] fast_kafka_api._components.aiokafka_loop: aiokafka_consumer_loop(): Consumer created.\n"
     ]
    },
    {
     "name": "stderr",
     "output_type": "stream",
     "text": [
      "INFO:     Application startup complete.\n",
      "INFO:     Uvicorn running on http://0.0.0.0:4000 (Press CTRL+C to quit)\n"
     ]
    },
    {
     "name": "stdout",
     "output_type": "stream",
     "text": [
      "[INFO] fast_kafka_api._components.aiokafka_loop: aiokafka_consumer_loop(): Consumer started.\n",
      "[INFO] aiokafka.consumer.subscription_state: Updating subscribed topics to: frozenset({'input_data'})\n",
      "[INFO] aiokafka.consumer.consumer: Subscribed to topic(s): {'input_data'}\n",
      "[INFO] fast_kafka_api._components.aiokafka_loop: aiokafka_consumer_loop(): Consumer subscribed.\n",
      "[INFO] aiokafka.consumer.group_coordinator: Metadata for topic has changed from {} to {'input_data': 1}. \n"
     ]
    },
    {
     "name": "stderr",
     "output_type": "stream",
     "text": [
      "INFO:     Shutting down\n",
      "INFO:     Waiting for application shutdown.\n"
     ]
    },
    {
     "name": "stdout",
     "output_type": "stream",
     "text": [
      "[INFO] fast_kafka_api._components.aiokafka_loop: aiokafka_consumer_loop(): Consumer stopped.\n",
      "[INFO] fast_kafka_api._components.aiokafka_loop: aiokafka_consumer_loop() finished.\n"
     ]
    },
    {
     "name": "stderr",
     "output_type": "stream",
     "text": [
      "INFO:     Application shutdown complete.\n",
      "INFO:     Finished server process [4860]\n"
     ]
    }
   ],
   "source": [
    "#| notest\n",
    "\n",
    "import uvicorn\n",
    "\n",
    "uvicorn.run(app, host=\"0.0.0.0\", port=4000)"
   ]
  },
  {
   "cell_type": "code",
   "execution_count": null,
   "metadata": {},
   "outputs": [],
   "source": []
  }
 ],
 "metadata": {
  "kernelspec": {
   "display_name": "Python 3 (ipykernel)",
   "language": "python",
   "name": "python3"
  }
 },
 "nbformat": 4,
 "nbformat_minor": 4
}

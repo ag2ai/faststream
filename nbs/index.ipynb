{
 "cells": [
  {
   "cell_type": "code",
   "execution_count": null,
   "metadata": {},
   "outputs": [],
   "source": [
    "# | hide\n",
    "\n",
    "import inspect\n",
    "import os\n",
    "import shutil\n",
    "from pathlib import Path\n",
    "from pprint import pprint\n",
    "from tempfile import TemporaryDirectory\n",
    "from typing import *\n",
    "\n",
    "import pytest\n",
    "from aiokafka import AIOKafkaProducer\n",
    "from fastcore.basics import patch\n",
    "from IPython.display import Markdown\n",
    "\n",
    "from fast_kafka_api.helpers import (\n",
    "    get_collapsible_admonition,\n",
    "    in_notebook,\n",
    "    source2markdown,\n",
    ")\n",
    "from fast_kafka_api.testing import (\n",
    "    mock_AIOKafkaProducer_send,\n",
    "    run_on_uvicorn,\n",
    "    run_script_and_cancel,\n",
    ")"
   ]
  },
  {
   "cell_type": "code",
   "execution_count": null,
   "metadata": {},
   "outputs": [],
   "source": [
    "# | notest\n",
    "# | hide\n",
    "\n",
    "import nest_asyncio"
   ]
  },
  {
   "cell_type": "code",
   "execution_count": null,
   "metadata": {},
   "outputs": [],
   "source": [
    "# | notest\n",
    "# | hide\n",
    "\n",
    "nest_asyncio.apply()"
   ]
  },
  {
   "cell_type": "code",
   "execution_count": null,
   "metadata": {},
   "outputs": [],
   "source": [
    "# | hide\n",
    "\n",
    "\n",
    "# def get_last_cell_source(*, must_contain: Optional[str] = None):\n",
    "#     \"\"\"Get source of the last cell in Jupyter notebook\n",
    "\n",
    "#     Args:\n",
    "#         must_contain: a string that must be contained in the last cell, other raises ValueError\n",
    "\n",
    "#     Raises:\n",
    "#         ValuesError: if `must_contain` is not contained in the last cell\n",
    "#     \"\"\"\n",
    "#     retval = _i  # type: ignore\n",
    "#     if must_contain is not None:\n",
    "#         if must_contain not in retval:\n",
    "#             raise ValueError(f\"'{must_contain}' not in '{retval}'\")\n",
    "\n",
    "#     return retval"
   ]
  },
  {
   "cell_type": "code",
   "execution_count": null,
   "metadata": {},
   "outputs": [],
   "source": [
    "# | hide# print(get_last_cell_source())\n",
    "\n",
    "# get_last_cell_source(must_contain=\"def get_last_cell_source(*, must_contain: Optional[str] = None):\\n\")\n",
    "\n",
    "# with pytest.raises(Exception) as e:\n",
    "#     get_last_cell_source(must_contain=\"random string 87281276t4e8132t\")"
   ]
  },
  {
   "cell_type": "markdown",
   "metadata": {},
   "source": [
    "# FastKafka"
   ]
  },
  {
   "cell_type": "markdown",
   "metadata": {},
   "source": [
    "<b>Effortless Kafka integration for your web services</b>\n",
    "\n",
    "---\n",
    "\n",
    "![PyPI](https://img.shields.io/pypi/v/fast-kafka-api)\n",
    "![PyPI - Downloads](https://img.shields.io/pypi/dm/fast-kafka-api)\n",
    "![PyPI - Python Version](https://img.shields.io/pypi/pyversions/fast-kafka-api)\n",
    "\n",
    "![GitHub Workflow Status](https://img.shields.io/github/actions/workflow/status/airtai/fast-kafka-api/test.yaml)\n",
    "![CodeQL](https://github.com/airtai/fast-kafka-api//actions/workflows/codeql.yml/badge.svg)\n",
    "![Dependency Review](https://github.com/airtai/fast-kafka-api//actions/workflows/dependency-review.yml/badge.svg)\n",
    "\n",
    "![GitHub](https://img.shields.io/github/license/airtai/fast-kafka-api)\n",
    "\n",
    "---\n"
   ]
  },
  {
   "cell_type": "markdown",
   "metadata": {},
   "source": [
    "[FastKafka](fast-kafka-api.airt.ai) is a powerful and easy-to-use Python library for building asynchronous web services that interact with Kafka topics. Built on top of [FastAPI](https://fastapi.tiangolo.com/), [Starlette](https://www.starlette.io/), [Pydantic](https://docs.pydantic.dev/), [AIOKafka](https://github.com/aio-libs/aiokafka) and [AsyncAPI](https://www.asyncapi.com/), FastKafka simplifies the process of writing producers and consumers for Kafka topics, handling all the parsing, networking, task scheduling and data generation automatically. With FastKafka, you can quickly prototype and develop high-performance Kafka-based services with minimal code, making it an ideal choice for developers looking to streamline their workflow and accelerate their projects."
   ]
  },
  {
   "cell_type": "markdown",
   "metadata": {},
   "source": [
    "## Install\n",
    "\n",
    "FastKafka works on macOS, Linux, and most Unix-style operating systems. You can install it with `pip` as usual:"
   ]
  },
  {
   "cell_type": "markdown",
   "metadata": {},
   "source": [
    "```sh\n",
    "pip install fastkafka\n",
    "```"
   ]
  },
  {
   "cell_type": "markdown",
   "metadata": {},
   "source": [
    "## Writing server code\n",
    "\n",
    "Here is an example python script using FastKafka that takes data from a Kafka topic, makes a prediction using a predictive model, and outputs the prediction to another Kafka topic."
   ]
  },
  {
   "cell_type": "markdown",
   "metadata": {},
   "source": [
    "### Messages\n",
    "\n",
    "FastKafka uses [Pydantic](https://docs.pydantic.dev/) to parse input JSON-encoded data into Python objects, making it easy to work with structured data in your Kafka-based applications. Pydantic's [`BaseModel`](https://docs.pydantic.dev/usage/models/) class allows you to define messages using a declarative syntax, making it easy to specify the fields and types of your messages.\n",
    "\n",
    "This example defines two message classes for use in a FastKafka application:\n",
    "\n",
    "- The `InputData` class is used to represent input data for a predictive model. It has three fields: `user_id`, `feature_1`, and `feature_2`. The `user_id` field is of type [`NonNegativeInt`](https://docs.pydantic.dev/usage/types/#constrained-types), which is a subclass of int that only allows non-negative integers. The `feature_1` and `feature_2` fields are both lists of floating-point numbers and integers, respectively.\n",
    "\n",
    "- The `Prediction` class is used to represent the output of the predictive model. It has two fields: `user_id` and `score`. The `score` field is a floating-point number and it represents the prediction made by the model, such as the probability of churn in the next 28 days.\n",
    "\n",
    "These message classes will be used to parse and validate incoming data in Kafka consumers and producers.\n"
   ]
  },
  {
   "cell_type": "code",
   "execution_count": null,
   "metadata": {},
   "outputs": [
    {
     "data": {
      "text/markdown": [
       "\n",
       "```python\n",
       "from typing import List\n",
       "from pydantic import BaseModel, Field, NonNegativeInt\n",
       "\n",
       "class InputData(BaseModel):\n",
       "    user_id: NonNegativeInt = Field(..., example=202020, description=\"ID of a user\")\n",
       "    feature_1: List[float] = Field(\n",
       "        ...,\n",
       "        example=[1.2, 2.3, 4.5, 6.7, 0.1],\n",
       "        description=\"input feature 1\",\n",
       "    )\n",
       "    feature_2: List[int] = Field(\n",
       "        ...,\n",
       "        example=[2, 4, 3, 1, 0],\n",
       "        description=\"input feature 2\",\n",
       "    )\n",
       "\n",
       "class Prediction(BaseModel):\n",
       "    user_id: NonNegativeInt = Field(..., example=202020, description=\"ID of a user\")\n",
       "    score: float = Field(\n",
       "        ...,\n",
       "        example=0.4321,\n",
       "        description=\"Prediction score (e.g. the probability of churn in the next 28 days)\",\n",
       "        ge=0.0,\n",
       "        le=1.0,\n",
       "    )\n",
       "\n",
       "```\n"
      ],
      "text/plain": [
       "<IPython.core.display.Markdown object>"
      ]
     },
     "execution_count": null,
     "metadata": {},
     "output_type": "execute_result"
    }
   ],
   "source": [
    "# | echo: false\n",
    "\n",
    "message_defs_str = \"\"\"from typing import List\n",
    "from pydantic import BaseModel, Field, NonNegativeInt\n",
    "\n",
    "class InputData(BaseModel):\n",
    "    user_id: NonNegativeInt = Field(..., example=202020, description=\"ID of a user\")\n",
    "    feature_1: List[float] = Field(\n",
    "        ...,\n",
    "        example=[1.2, 2.3, 4.5, 6.7, 0.1],\n",
    "        description=\"input feature 1\",\n",
    "    )\n",
    "    feature_2: List[int] = Field(\n",
    "        ...,\n",
    "        example=[2, 4, 3, 1, 0],\n",
    "        description=\"input feature 2\",\n",
    "    )\n",
    "\n",
    "class Prediction(BaseModel):\n",
    "    user_id: NonNegativeInt = Field(..., example=202020, description=\"ID of a user\")\n",
    "    score: float = Field(\n",
    "        ...,\n",
    "        example=0.4321,\n",
    "        description=\"Prediction score (e.g. the probability of churn in the next 28 days)\",\n",
    "        ge=0.0,\n",
    "        le=1.0,\n",
    "    )\n",
    "\"\"\"\n",
    "await run_script_and_cancel(message_defs_str, cancel_after=2)\n",
    "source2markdown(message_defs_str)"
   ]
  },
  {
   "cell_type": "markdown",
   "metadata": {},
   "source": [
    "These message classes will be used to parse and validate incoming data in a Kafka consumer and to produce a JSON-encoded message in a producer. Using Pydantic's BaseModel in combination with FastKafka makes it easy to work with structured data in your Kafka-based applications."
   ]
  },
  {
   "cell_type": "markdown",
   "metadata": {},
   "source": [
    "### Application\n",
    "\n",
    "This example shows how to initialize a FastKafka application.\n",
    "\n",
    "It starts by defining  a dictionary called `kafka_brokers`, which contains two entries: `\"localhost\"` and `\"production\"`, specifying local development and production Kafka brokers. Each entry specifies the URL, port, and other details of a Kafka broker. This dictionary is used for generating the documentation only and it is not being checked by the actual server.\n",
    "\n",
    "Next, an object of the `FastAPI` class is created. It role is to serve the documentation and to start and shutdown `FastKafka`.\n",
    "\n",
    "Finally, an object of the `FastKafka` class is initialized with the minimum set of arguments:\n",
    "\n",
    "- `app`: an `FastAPI` application used for serving the documentation and starting/shutting down the service\n",
    "\n",
    "- `kafka_brokers`: a dictionary used for generation of documentation\n",
    "\n",
    "- `bootstrap_servers`: a ``host[:port]`` string or list of ``host[:port]`` strings that a consumer or a producer should contact to bootstrap initial cluster metadata\n"
   ]
  },
  {
   "cell_type": "code",
   "execution_count": null,
   "metadata": {},
   "outputs": [
    {
     "data": {
      "text/markdown": [
       "\n",
       "```python\n",
       "\n",
       "from os import environ\n",
       "\n",
       "from fastapi import FastAPI\n",
       "from fast_kafka_api.application import FastKafka\n",
       "\n",
       "kafka_brokers = {\n",
       "    \"localhost\": {\n",
       "        \"url\": \"localhost\",\n",
       "        \"description\": \"local development kafka broker\",\n",
       "        \"port\": 9092,\n",
       "    },\n",
       "    \"production\": {\n",
       "        \"url\": \"kafka.airt.ai\",\n",
       "        \"description\": \"production kafka broker\",\n",
       "        \"port\": 9092,\n",
       "        \"protocol\": \"kafka-secure\",\n",
       "        \"security\": {\"type\": \"plain\"},\n",
       "    },\n",
       "}\n",
       "\n",
       "app = FastAPI(\n",
       "    title=\"FastKafka Example\",\n",
       "    contact={\"name\": \"airt.ai\", \"url\": \"https://airt.ai\", \"email\": \"info@airt.ai\"},\n",
       "    version=\"0.0.1\",\n",
       "    description=\"A simple example on how to use FastKafka\",\n",
       ")\n",
       "\n",
       "bootstrap_servers = f\"{environ['KAFKA_HOSTNAME']}:{environ['KAFKA_PORT']}\"\n",
       "\n",
       "kafka_app = FastKafka(\n",
       "    app,\n",
       "    kafka_brokers=kafka_brokers,\n",
       "    bootstrap_servers=bootstrap_servers,\n",
       ")\n",
       "\n",
       "```\n"
      ],
      "text/plain": [
       "<IPython.core.display.Markdown object>"
      ]
     },
     "execution_count": null,
     "metadata": {},
     "output_type": "execute_result"
    }
   ],
   "source": [
    "# | echo: false\n",
    "\n",
    "app_creation_str = \"\"\"\n",
    "from os import environ\n",
    "\n",
    "from fastapi import FastAPI\n",
    "from fast_kafka_api.application import FastKafka\n",
    "\n",
    "kafka_brokers = {\n",
    "    \"localhost\": {\n",
    "        \"url\": \"localhost\",\n",
    "        \"description\": \"local development kafka broker\",\n",
    "        \"port\": 9092,\n",
    "    },\n",
    "    \"production\": {\n",
    "        \"url\": \"kafka.airt.ai\",\n",
    "        \"description\": \"production kafka broker\",\n",
    "        \"port\": 9092,\n",
    "        \"protocol\": \"kafka-secure\",\n",
    "        \"security\": {\"type\": \"plain\"},\n",
    "    },\n",
    "}\n",
    "\n",
    "app = FastAPI(\n",
    "    title=\"FastKafka Example\",\n",
    "    contact={\"name\": \"airt.ai\", \"url\": \"https://airt.ai\", \"email\": \"info@airt.ai\"},\n",
    "    version=\"0.0.1\",\n",
    "    description=\"A simple example on how to use FastKafka\",\n",
    ")\n",
    "\n",
    "bootstrap_servers = f\"{environ['KAFKA_HOSTNAME']}:{environ['KAFKA_PORT']}\"\n",
    "\n",
    "kafka_app = FastKafka(\n",
    "    app,\n",
    "    kafka_brokers=kafka_brokers,\n",
    "    bootstrap_servers=bootstrap_servers,\n",
    ")\n",
    "\"\"\"\n",
    "\n",
    "await run_script_and_cancel(app_creation_str, cancel_after=2)\n",
    "source2markdown(app_creation_str)"
   ]
  },
  {
   "cell_type": "markdown",
   "metadata": {},
   "source": [
    "### Function decorators\n",
    "\n",
    "FastKafka provides convenient function decorators `@kafka_app.consumes` and `@kafka_app.produces` to allow you to delegate the actual process of\n",
    "\n",
    "- consuming and producing data to Kafka, and\n",
    "\n",
    "- decoding and encoding JSON encode messages\n",
    "\n",
    "from user defined functions to the framework. The FastKafka framework delegates these jobs to AIOKafka and Pydantic libraries.\n",
    "\n",
    "These decorators make it easy to specify the processing logic for your Kafka consumers and producers, allowing you to focus on the core business logic of your application without worrying about the underlying Kafka integration."
   ]
  },
  {
   "cell_type": "markdown",
   "metadata": {},
   "source": [
    "This following example shows how to use the `@kafka_app.consumes` and `@kafka_app.produces` decorators in a FastKafka application:\n",
    "\n",
    "- The `@kafka_app.consumes` decorator is applied to the `on_input_data` function, which specifies that this function should be called whenever a message is received on the \"input_data\" Kafka topic. The `on_input_data` function takes a single argument which is expected to be an instance of the `InputData` message class. Specifying the type of the single argument is instructing the Pydantic to use `InputData.parse_raw()` on the consumed message before passing it to the user defined function `on_input_data`.\n",
    "\n",
    "- The `@produces` decorator is applied to the `to_predictions` function, which specifies that this function should produce a message to the \"predictions\" Kafka topic whenever it is called. The `to_predictions` function takes two arguments: `user_id` and `score`. It creates a new `Prediction` message with these values and then returns it. The framework will call the `Prediction.json().encode(\"utf-8\")` function on the returned value and produce it to the specified topic."
   ]
  },
  {
   "cell_type": "code",
   "execution_count": null,
   "metadata": {},
   "outputs": [
    {
     "data": {
      "text/markdown": [
       "\n",
       "```python\n",
       "\n",
       "@kafka_app.consumes(topic=\"input_data\", auto_offset_reset=\"latest\", group_id=\"my_group\")\n",
       "async def on_input_data(msg: InputData):\n",
       "    global model\n",
       "    score = await model.predict(feature_1=msg.feature_1, feature_2=msg.feature_2)\n",
       "    await to_predictions(user_id=msg.user_id, score=score)\n",
       "\n",
       "\n",
       "@kafka_app.produces(topic=\"predictions\")\n",
       "async def to_predictions(user_id: int, score: float) -> Prediction:\n",
       "    prediction = Prediction(user_id=user_id, score=score)\n",
       "    return prediction\n",
       "\n",
       "\n",
       "# this is a mock up for testing, should be replaced with the real model\n",
       "class Model:\n",
       "    async def predict(self, feature_1: List[int], feature_2: List[float]) -> float:\n",
       "        return 0.87\n",
       "\n",
       "\n",
       "model = Model()\n",
       "\n",
       "```\n"
      ],
      "text/plain": [
       "<IPython.core.display.Markdown object>"
      ]
     },
     "execution_count": null,
     "metadata": {},
     "output_type": "execute_result"
    }
   ],
   "source": [
    "# | echo: false\n",
    "\n",
    "decorators_str = \"\"\"\n",
    "@kafka_app.consumes(topic=\"input_data\", auto_offset_reset=\"latest\", group_id=\"my_group\")\n",
    "async def on_input_data(msg: InputData):\n",
    "    global model\n",
    "    score = await model.predict(feature_1=msg.feature_1, feature_2=msg.feature_2)\n",
    "    await to_predictions(user_id=msg.user_id, score=score)\n",
    "\n",
    "\n",
    "@kafka_app.produces(topic=\"predictions\")\n",
    "async def to_predictions(user_id: int, score: float) -> Prediction:\n",
    "    prediction = Prediction(user_id=user_id, score=score)\n",
    "    return prediction\n",
    "\n",
    "\n",
    "# this is a mock up for testing, should be replaced with the real model\n",
    "class Model:\n",
    "    async def predict(self, feature_1: List[int], feature_2: List[float]) -> float:\n",
    "        return 0.87\n",
    "\n",
    "\n",
    "model = Model()\n",
    "\"\"\"\n",
    "\n",
    "# await run_script_and_cancel(decorators_str, cancel_after=2)\n",
    "source2markdown(decorators_str)"
   ]
  },
  {
   "cell_type": "markdown",
   "metadata": {},
   "source": [
    "## Running the service\n",
    "\n",
    "The service can be started using any ASGI web server such as [Uvicorn](https://www.uvicorn.org/) in the same way as starting the FastAPI application.\n",
    "\n",
    "### Starting the service using Uvicorn\n",
    "\n",
    "This example shows how to start the FastKafka service using [Uvicorn](https://www.uvicorn.org/). We will concatenate the code snippets from above and save them in a file `\"server.py\"`"
   ]
  },
  {
   "cell_type": "code",
   "execution_count": null,
   "metadata": {},
   "outputs": [
    {
     "data": {
      "text/markdown": [
       "??? Example \n",
       "\n",
       "    This example contains the content of the file \"server.py\":\n",
       "\n",
       "    ```python\n",
       "\n",
       "    from typing import List\n",
       "    from pydantic import BaseModel, Field, NonNegativeInt\n",
       "\n",
       "    class InputData(BaseModel):\n",
       "        user_id: NonNegativeInt = Field(..., example=202020, description=\"ID of a user\")\n",
       "        feature_1: List[float] = Field(\n",
       "            ...,\n",
       "            example=[1.2, 2.3, 4.5, 6.7, 0.1],\n",
       "            description=\"input feature 1\",\n",
       "        )\n",
       "        feature_2: List[int] = Field(\n",
       "            ...,\n",
       "            example=[2, 4, 3, 1, 0],\n",
       "            description=\"input feature 2\",\n",
       "        )\n",
       "\n",
       "    class Prediction(BaseModel):\n",
       "        user_id: NonNegativeInt = Field(..., example=202020, description=\"ID of a user\")\n",
       "        score: float = Field(\n",
       "            ...,\n",
       "            example=0.4321,\n",
       "            description=\"Prediction score (e.g. the probability of churn in the next 28 days)\",\n",
       "            ge=0.0,\n",
       "            le=1.0,\n",
       "        )\n",
       "\n",
       "\n",
       "\n",
       "    from os import environ\n",
       "\n",
       "    from fastapi import FastAPI\n",
       "    from fast_kafka_api.application import FastKafka\n",
       "\n",
       "    kafka_brokers = {\n",
       "        \"localhost\": {\n",
       "            \"url\": \"localhost\",\n",
       "            \"description\": \"local development kafka broker\",\n",
       "            \"port\": 9092,\n",
       "        },\n",
       "        \"production\": {\n",
       "            \"url\": \"kafka.airt.ai\",\n",
       "            \"description\": \"production kafka broker\",\n",
       "            \"port\": 9092,\n",
       "            \"protocol\": \"kafka-secure\",\n",
       "            \"security\": {\"type\": \"plain\"},\n",
       "        },\n",
       "    }\n",
       "\n",
       "    app = FastAPI(\n",
       "        title=\"FastKafka Example\",\n",
       "        contact={\"name\": \"airt.ai\", \"url\": \"https://airt.ai\", \"email\": \"info@airt.ai\"},\n",
       "        version=\"0.0.1\",\n",
       "        description=\"A simple example on how to use FastKafka\",\n",
       "    )\n",
       "\n",
       "    bootstrap_servers = f\"{environ['KAFKA_HOSTNAME']}:{environ['KAFKA_PORT']}\"\n",
       "\n",
       "    kafka_app = FastKafka(\n",
       "        app,\n",
       "        kafka_brokers=kafka_brokers,\n",
       "        bootstrap_servers=bootstrap_servers,\n",
       "    )\n",
       "\n",
       "\n",
       "\n",
       "    @kafka_app.consumes(topic=\"input_data\", auto_offset_reset=\"latest\", group_id=\"my_group\")\n",
       "    async def on_input_data(msg: InputData):\n",
       "        global model\n",
       "        score = await model.predict(feature_1=msg.feature_1, feature_2=msg.feature_2)\n",
       "        await to_predictions(user_id=msg.user_id, score=score)\n",
       "\n",
       "\n",
       "    @kafka_app.produces(topic=\"predictions\")\n",
       "    async def to_predictions(user_id: int, score: float) -> Prediction:\n",
       "        prediction = Prediction(user_id=user_id, score=score)\n",
       "        return prediction\n",
       "\n",
       "\n",
       "    # this is a mock up for testing, should be replaced with the real model\n",
       "    class Model:\n",
       "        async def predict(self, feature_1: List[int], feature_2: List[float]) -> float:\n",
       "            return 0.87\n",
       "\n",
       "\n",
       "    model = Model()\n",
       "\n",
       "\n",
       "    ```"
      ],
      "text/plain": [
       "<IPython.core.display.Markdown object>"
      ]
     },
     "execution_count": null,
     "metadata": {},
     "output_type": "execute_result"
    }
   ],
   "source": [
    "# | echo: false\n",
    "\n",
    "script = f\"\"\"\n",
    "{message_defs_str}\n",
    "\n",
    "{app_creation_str}\n",
    "\n",
    "{decorators_str}\n",
    "\"\"\"\n",
    "\n",
    "get_collapsible_admonition(script, name=\"server.py\")"
   ]
  },
  {
   "cell_type": "markdown",
   "metadata": {},
   "source": [
    "We start by generating the documentation for the FastKafka service by running the following command:\n",
    "```sh\n",
    "fastkafka generate-docs server:kafka_app\n",
    "```\n",
    "\n",
    "Next, we start the Uvicorn server by running:\n",
    "\n",
    "```sh\n",
    "uvicorn server:app\n",
    "```\n",
    "\n",
    "The meaning of the `server:app` notation is to import the symbol `app` from the module `\"server\"`, typically from a file named `\"server.py\"`."
   ]
  },
  {
   "cell_type": "code",
   "execution_count": null,
   "metadata": {},
   "outputs": [
    {
     "name": "stdout",
     "output_type": "stream",
     "text": [
      "[INFO] fast_kafka_api._components.asyncapi: Old async specifications at '/tmp/tmp1n9sg64h/asyncapi/spec/asyncapi.yml' does not exist.\n",
      "[INFO] fast_kafka_api._components.asyncapi: New async specifications generated at: '/tmp/tmp1n9sg64h/asyncapi/spec/asyncapi.yml'\n",
      "[INFO] fast_kafka_api._components.asyncapi: Async docs generated at 'asyncapi/docs'\n",
      "[INFO] fast_kafka_api._components.asyncapi: Output of '$ npx -y -p @asyncapi/generator ag asyncapi/spec/asyncapi.yml @asyncapi/html-template -o asyncapi/docs --force-write'\u001b[32m\n",
      "\n",
      "Done! ✨\u001b[0m\n",
      "\u001b[33mCheck out your shiny new generated files at \u001b[0m\u001b[35m/tmp/tmp1n9sg64h/asyncapi/docs\u001b[0m\u001b[33m.\u001b[0m\n",
      "\n",
      "\n",
      "INFO:     Uvicorn running on http://127.0.0.1:8000 (Press CTRL+C to quit)\n",
      "INFO:     Started parent process [33399]\n",
      "INFO:     Started server process [33402]\n",
      "INFO:     Waiting for application startup.\n",
      "INFO:     Started server process [33401]\n",
      "INFO:     Waiting for application startup.\n",
      "[INFO] fast_kafka_api._components.asyncapi: Keeping the old async specifications at: '/tmp/tmp1n9sg64h/asyncapi/spec/asyncapi.yml'\n",
      "[INFO] fast_kafka_api._components.asyncapi: Skipping generating async documentation in '/tmp/tmp1n9sg64h/asyncapi/docs'\n",
      "[INFO] fast_kafka_api.application: _create_producer() : created producer using the config: '{'bootstrap_servers': 'davor-fast-kafka-api-kafka-1:9092'}'\n",
      "[INFO] fast_kafka_api._components.asyncapi: Keeping the old async specifications at: '/tmp/tmp1n9sg64h/asyncapi/spec/asyncapi.yml'\n",
      "[INFO] fast_kafka_api._components.asyncapi: Skipping generating async documentation in '/tmp/tmp1n9sg64h/asyncapi/docs'\n",
      "[INFO] fast_kafka_api.application: _create_producer() : created producer using the config: '{'bootstrap_servers': 'davor-fast-kafka-api-kafka-1:9092'}'\n",
      "[INFO] fast_kafka_api._components.aiokafka_consumer_loop: aiokafka_consumer_loop() starting...\n",
      "[INFO] fast_kafka_api._components.aiokafka_consumer_loop: aiokafka_consumer_loop(): Consumer created using the following parameters: {'bootstrap_servers': 'davor-fast-kafka-api-kafka-1:9092', 'auto_offset_reset': 'latest', 'max_poll_records': 100, 'group_id': 'my_group'}\n",
      "INFO:     Application startup complete.\n",
      "[INFO] fast_kafka_api._components.aiokafka_consumer_loop: aiokafka_consumer_loop() starting...\n",
      "[INFO] fast_kafka_api._components.aiokafka_consumer_loop: aiokafka_consumer_loop(): Consumer created using the following parameters: {'bootstrap_servers': 'davor-fast-kafka-api-kafka-1:9092', 'auto_offset_reset': 'latest', 'max_poll_records': 100, 'group_id': 'my_group'}\n",
      "INFO:     Application startup complete.\n",
      "[INFO] fast_kafka_api._components.aiokafka_consumer_loop: aiokafka_consumer_loop(): Consumer started.\n",
      "[INFO] aiokafka.consumer.subscription_state: Updating subscribed topics to: frozenset({'input_data'})\n",
      "[INFO] aiokafka.consumer.consumer: Subscribed to topic(s): {'input_data'}\n",
      "[INFO] fast_kafka_api._components.aiokafka_consumer_loop: aiokafka_consumer_loop(): Consumer subscribed.\n",
      "[INFO] aiokafka.consumer.group_coordinator: Discovered coordinator 1002 for group my_group\n",
      "[INFO] aiokafka.consumer.group_coordinator: Revoking previously assigned partitions set() for group my_group\n",
      "[INFO] aiokafka.consumer.group_coordinator: (Re-)joining group my_group\n",
      "[INFO] fast_kafka_api._components.aiokafka_consumer_loop: aiokafka_consumer_loop(): Consumer started.\n",
      "[INFO] aiokafka.consumer.subscription_state: Updating subscribed topics to: frozenset({'input_data'})\n",
      "[INFO] aiokafka.consumer.consumer: Subscribed to topic(s): {'input_data'}\n",
      "[INFO] fast_kafka_api._components.aiokafka_consumer_loop: aiokafka_consumer_loop(): Consumer subscribed.\n",
      "[INFO] aiokafka.consumer.group_coordinator: Joined group 'my_group' (generation 34) with member_id aiokafka-0.8.0-0ba406c7-6ba2-4be8-bdc5-54dce2c63faa\n",
      "[INFO] aiokafka.consumer.group_coordinator: Elected group leader -- performing partition assignments using roundrobin\n",
      "[INFO] aiokafka.consumer.group_coordinator: Successfully synced group my_group with generation 34\n",
      "[INFO] aiokafka.consumer.group_coordinator: Setting newly assigned partitions {TopicPartition(topic='input_data', partition=0)} for group my_group\n",
      "[INFO] aiokafka.consumer.group_coordinator: Discovered coordinator 1002 for group my_group\n",
      "[INFO] aiokafka.consumer.group_coordinator: Revoking previously assigned partitions set() for group my_group\n",
      "[INFO] aiokafka.consumer.group_coordinator: (Re-)joining group my_group\n",
      "[WARNING] aiokafka.consumer.group_coordinator: Heartbeat failed for group my_group because it is rebalancing\n",
      "[INFO] aiokafka.consumer.group_coordinator: Revoking previously assigned partitions frozenset({TopicPartition(topic='input_data', partition=0)}) for group my_group\n",
      "[INFO] aiokafka.consumer.group_coordinator: (Re-)joining group my_group\n",
      "[INFO] aiokafka.consumer.group_coordinator: Joined group 'my_group' (generation 35) with member_id aiokafka-0.8.0-0ba406c7-6ba2-4be8-bdc5-54dce2c63faa\n",
      "[INFO] aiokafka.consumer.group_coordinator: Elected group leader -- performing partition assignments using roundrobin\n",
      "[INFO] aiokafka.consumer.group_coordinator: Joined group 'my_group' (generation 35) with member_id aiokafka-0.8.0-78e74df7-c7ce-4e46-9c43-93ff166a7135\n",
      "[INFO] aiokafka.consumer.group_coordinator: Successfully synced group my_group with generation 35\n",
      "[INFO] aiokafka.consumer.group_coordinator: Setting newly assigned partitions {TopicPartition(topic='input_data', partition=0)} for group my_group\n",
      "[INFO] aiokafka.consumer.group_coordinator: Successfully synced group my_group with generation 35\n",
      "[INFO] aiokafka.consumer.group_coordinator: Setting newly assigned partitions set() for group my_group\n",
      "INFO:     Shutting down\n",
      "INFO:     Waiting for application shutdown.\n",
      "[INFO] aiokafka.consumer.group_coordinator: LeaveGroup request succeeded\n",
      "[INFO] fast_kafka_api._components.aiokafka_consumer_loop: aiokafka_consumer_loop(): Consumer stopped.\n",
      "[INFO] fast_kafka_api._components.aiokafka_consumer_loop: aiokafka_consumer_loop() finished.\n",
      "INFO:     Application shutdown complete.\n",
      "INFO:     Finished server process [33401]\n",
      "INFO:     Shutting down\n",
      "INFO:     Waiting for application shutdown.\n",
      "[INFO] aiokafka.consumer.group_coordinator: LeaveGroup request succeeded\n",
      "[INFO] fast_kafka_api._components.aiokafka_consumer_loop: aiokafka_consumer_loop(): Consumer stopped.\n",
      "[INFO] fast_kafka_api._components.aiokafka_consumer_loop: aiokafka_consumer_loop() finished.\n",
      "INFO:     Application shutdown complete.\n",
      "INFO:     Finished server process [33402]\n",
      "INFO:     Stopping parent process [33399]\n",
      "\n"
     ]
    }
   ],
   "source": [
    "# | echo: false\n",
    "\n",
    "exit_code = await run_on_uvicorn(script, cancel_after=5, workers=2)"
   ]
  },
  {
   "cell_type": "markdown",
   "metadata": {},
   "source": [
    "When the service is started, several log messages are printed to the console, including information about the application startup, AsyncAPI specification generation, and consumer loop status.\n",
    "\n",
    "During the lifetime of the service, incoming requests will be processed by the FastKafka application and appropriate actions will be taken based on the defined Kafka consumers and producers. For example, if a message is received on the \"input_data\" Kafka topic, the `on_input_data` function will be called to process the message, and if the `to_predictions` function is called, it will produce a message to the \"predictions\" Kafka topic. The service will continue to run until it is shut down, at which point the application shutdown process will be initiated and the service will stop."
   ]
  },
  {
   "cell_type": "markdown",
   "metadata": {},
   "source": [
    "### Checking out the documentation"
   ]
  },
  {
   "cell_type": "markdown",
   "metadata": {},
   "source": [
    "FastKafka automatically generates documentation from functions decorated with `@kafka_app.consumes` and `@kafka_app.produces` decorators using `AsyncAPI` and then uses `FastAPI` for serving it. When started with Uvicorn in the example above, you will see the following lines logging the generation of the docs:\n",
    "```\n",
    "Done! ✨\n",
    "Check out your shiny new generated files at //tmp/tmp********/asyncapi/docs.\n",
    "```\n",
    "and for starting the web service for serving them:\n",
    "```\n",
    "INFO:     Uvicorn running on http://127.0.0.1:8000 (Press CTRL+C to quit)\n",
    "```\n",
    "\n",
    "Clicking on the link above redirects to the following url:\n",
    "```\n",
    "http://127.0.0.1:8000/asyncapi/index.html\n",
    "```\n",
    "and opens the web page with the documentation.\n",
    "\n",
    "The first section of the documentation relates to servers and it is generated from the `kafka_brokers` parameter passed to the constructor of `FastKafka` object:\n"
   ]
  },
  {
   "cell_type": "code",
   "execution_count": null,
   "metadata": {},
   "outputs": [
    {
     "name": "stdout",
     "output_type": "stream",
     "text": [
      "{'localhost': {'description': 'local development kafka broker',\n",
      "               'port': 9092,\n",
      "               'url': 'localhost'},\n",
      " 'production': {'description': 'production kafka broker',\n",
      "                'port': 9092,\n",
      "                'protocol': 'kafka-secure',\n",
      "                'security': {'type': 'plain'},\n",
      "                'url': 'kafka.airt.ai'}}\n"
     ]
    }
   ],
   "source": [
    "# | echo: false\n",
    "kafka_brokers = {\n",
    "    \"localhost\": {\n",
    "        \"url\": \"localhost\",\n",
    "        \"description\": \"local development kafka broker\",\n",
    "        \"port\": 9092,\n",
    "    },\n",
    "    \"production\": {\n",
    "        \"url\": \"kafka.airt.ai\",\n",
    "        \"description\": \"production kafka broker\",\n",
    "        \"port\": 9092,\n",
    "        \"protocol\": \"kafka-secure\",\n",
    "        \"security\": {\"type\": \"plain\"},\n",
    "    },\n",
    "}\n",
    "\n",
    "pprint(kafka_brokers)"
   ]
  },
  {
   "cell_type": "markdown",
   "metadata": {},
   "source": [
    "The generated documentation is as follows:\n",
    "\n",
    "![Kafka_servers](images/screenshot-kafka-servers.png)"
   ]
  },
  {
   "cell_type": "markdown",
   "metadata": {},
   "source": [
    "Next, you can see the documentation generated from the `@consumes` decorator when used on the function `on_input_data` with a single parameter of type `InputData`:"
   ]
  },
  {
   "cell_type": "markdown",
   "metadata": {},
   "source": [
    "```python\n",
    "class InputData(BaseModel):\n",
    "    user_id: NonNegativeInt = Field(..., example=202020, description=\"ID of a user\")\n",
    "    feature_1: List[float] = Field(\n",
    "        ...,\n",
    "        example=[1.2, 2.3, 4.5, 6.7, 0.1],\n",
    "        description=\"input feature 1\",\n",
    "    )\n",
    "    feature_2: List[int] = Field(\n",
    "        ...,\n",
    "        example=[2, 4, 3, 1, 0],\n",
    "        description=\"input feature 2\",\n",
    "    )\n",
    "\n",
    "```\n"
   ]
  },
  {
   "cell_type": "markdown",
   "metadata": {},
   "source": [
    "```python\n",
    "@kafka_app.consumes(topic=\"input_data\", auto_offset_reset=\"latest\", group_id=\"my_group\")\n",
    "async def on_input_data(msg: InputData):\n",
    "    global model\n",
    "    score = await model.predict(feature_1=msg.feature_1, feature_2=msg.feature_2)\n",
    "    await to_predictions(user_id=msg.user_id, score=score)\n",
    "```"
   ]
  },
  {
   "cell_type": "markdown",
   "metadata": {},
   "source": [
    "The resulting documentation is generated as follows:\n",
    "\n",
    "![Kafka_consumer](images/screenshot-kafka-consumer.png)"
   ]
  },
  {
   "cell_type": "markdown",
   "metadata": {},
   "source": [
    "## Testing the service"
   ]
  },
  {
   "cell_type": "code",
   "execution_count": null,
   "metadata": {},
   "outputs": [],
   "source": [
    "from os import environ\n",
    "\n",
    "import anyio\n",
    "import asyncer\n",
    "from tqdm.notebook import tqdm, trange\n",
    "\n",
    "from fast_kafka_api.helpers import (\n",
    "    consumes_messages,\n",
    "    create_missing_topics,\n",
    "    produce_messages,\n",
    "    wait_for_get_url,\n",
    ")"
   ]
  },
  {
   "cell_type": "code",
   "execution_count": null,
   "metadata": {},
   "outputs": [],
   "source": [
    "bootstrap_servers = f\"{environ['KAFKA_HOSTNAME']}:{environ['KAFKA_PORT']}\"\n",
    "\n",
    "create_missing_topics(\n",
    "    [\"input_data\", \"predictions\"],\n",
    "    bootstrap_servers=bootstrap_servers,\n",
    ")"
   ]
  },
  {
   "cell_type": "code",
   "execution_count": null,
   "metadata": {},
   "outputs": [
    {
     "data": {
      "application/vnd.jupyter.widget-view+json": {
       "model_id": "9bbe19f48940449e90bb35f6023f9fdd",
       "version_major": 2,
       "version_minor": 0
      },
      "text/plain": [
       "generating messages:   0%|          | 0/100000 [00:00<?, ?it/s]"
      ]
     },
     "metadata": {},
     "output_type": "display_data"
    },
    {
     "data": {
      "application/vnd.jupyter.widget-view+json": {
       "model_id": "046681f908844fdcb368c7f82f23743c",
       "version_major": 2,
       "version_minor": 0
      },
      "text/plain": [
       "waiting for uvicorn:   0%|          | 0/30 [00:00<?, ?it/s]"
      ]
     },
     "metadata": {},
     "output_type": "display_data"
    },
    {
     "name": "stdout",
     "output_type": "stream",
     "text": [
      "[INFO] fast_kafka_api._components.asyncapi: Old async specifications at '/tmp/tmpb_2ut4yp/asyncapi/spec/asyncapi.yml' does not exist.\n",
      "[INFO] fast_kafka_api._components.asyncapi: New async specifications generated at: '/tmp/tmpb_2ut4yp/asyncapi/spec/asyncapi.yml'\n",
      "[INFO] fast_kafka_api._components.asyncapi: Async docs generated at 'asyncapi/docs'\n",
      "[INFO] fast_kafka_api._components.asyncapi: Output of '$ npx -y -p @asyncapi/generator ag asyncapi/spec/asyncapi.yml @asyncapi/html-template -o asyncapi/docs --force-write'\u001b[32m\n",
      "\n",
      "Done! ✨\u001b[0m\n",
      "\u001b[33mCheck out your shiny new generated files at \u001b[0m\u001b[35m/tmp/tmpb_2ut4yp/asyncapi/docs\u001b[0m\u001b[33m.\u001b[0m\n",
      "\n",
      "\n",
      "[INFO] aiokafka.consumer.subscription_state: Updating subscribed topics to: frozenset({'predictions'})\n",
      "[INFO] aiokafka.consumer.group_coordinator: Metadata for topic has changed from {} to {'predictions': 3}. \n"
     ]
    },
    {
     "data": {
      "application/vnd.jupyter.widget-view+json": {
       "model_id": "88ea38050edf4190ac2f9fcc17a5e9c3",
       "version_major": 2,
       "version_minor": 0
      },
      "text/plain": [
       "consuming from 'predictions':   0%|          | 0/100000 [00:00<?, ?it/s]"
      ]
     },
     "metadata": {},
     "output_type": "display_data"
    },
    {
     "data": {
      "application/vnd.jupyter.widget-view+json": {
       "model_id": "faf1858ed75441039c165054714f1cb9",
       "version_major": 2,
       "version_minor": 0
      },
      "text/plain": [
       "producing to 'input_data':   0%|          | 0/100000 [00:00<?, ?it/s]"
      ]
     },
     "metadata": {},
     "output_type": "display_data"
    },
    {
     "name": "stdout",
     "output_type": "stream",
     "text": [
      "INFO:     Uvicorn running on http://127.0.0.1:8000 (Press CTRL+C to quit)\n",
      "INFO:     Started parent process [33439]\n",
      "INFO:     Started server process [33442]\n",
      "INFO:     Waiting for application startup.\n",
      "INFO:     Started server process [33443]\n",
      "INFO:     Waiting for application startup.\n",
      "INFO:     Started server process [33441]\n",
      "INFO:     Waiting for application startup.\n",
      "INFO:     Started server process [33444]\n",
      "INFO:     Waiting for application startup.\n",
      "[INFO] fast_kafka_api._components.asyncapi: Keeping the old async specifications at: '/tmp/tmpb_2ut4yp/asyncapi/spec/asyncapi.yml'\n",
      "[INFO] fast_kafka_api._components.asyncapi: Skipping generating async documentation in '/tmp/tmpb_2ut4yp/asyncapi/docs'\n",
      "[INFO] fast_kafka_api.application: _create_producer() : created producer using the config: '{'bootstrap_servers': 'davor-fast-kafka-api-kafka-1:9092'}'\n",
      "[INFO] fast_kafka_api._components.asyncapi: Keeping the old async specifications at: '/tmp/tmpb_2ut4yp/asyncapi/spec/asyncapi.yml'\n",
      "[INFO] fast_kafka_api._components.asyncapi: Skipping generating async documentation in '/tmp/tmpb_2ut4yp/asyncapi/docs'\n",
      "[INFO] fast_kafka_api._components.asyncapi: Keeping the old async specifications at: '/tmp/tmpb_2ut4yp/asyncapi/spec/asyncapi.yml'\n",
      "[INFO] fast_kafka_api._components.asyncapi: Keeping the old async specifications at: '/tmp/tmpb_2ut4yp/asyncapi/spec/asyncapi.yml'\n",
      "[INFO] fast_kafka_api.application: _create_producer() : created producer using the config: '{'bootstrap_servers': 'davor-fast-kafka-api-kafka-1:9092'}'\n",
      "[INFO] fast_kafka_api._components.asyncapi: Skipping generating async documentation in '/tmp/tmpb_2ut4yp/asyncapi/docs'\n",
      "[INFO] fast_kafka_api._components.asyncapi: Skipping generating async documentation in '/tmp/tmpb_2ut4yp/asyncapi/docs'\n",
      "[INFO] fast_kafka_api.application: _create_producer() : created producer using the config: '{'bootstrap_servers': 'davor-fast-kafka-api-kafka-1:9092'}'\n",
      "[INFO] fast_kafka_api.application: _create_producer() : created producer using the config: '{'bootstrap_servers': 'davor-fast-kafka-api-kafka-1:9092'}'\n",
      "[INFO] fast_kafka_api._components.aiokafka_consumer_loop: aiokafka_consumer_loop() starting...\n",
      "[INFO] fast_kafka_api._components.aiokafka_consumer_loop: aiokafka_consumer_loop(): Consumer created using the following parameters: {'bootstrap_servers': 'davor-fast-kafka-api-kafka-1:9092', 'auto_offset_reset': 'latest', 'max_poll_records': 100, 'group_id': 'my_group'}\n",
      "INFO:     Application startup complete.\n",
      "[INFO] fast_kafka_api._components.aiokafka_consumer_loop: aiokafka_consumer_loop() starting...\n",
      "[INFO] fast_kafka_api._components.aiokafka_consumer_loop: aiokafka_consumer_loop(): Consumer created using the following parameters: {'bootstrap_servers': 'davor-fast-kafka-api-kafka-1:9092', 'auto_offset_reset': 'latest', 'max_poll_records': 100, 'group_id': 'my_group'}\n",
      "INFO:     Application startup complete.\n",
      "[INFO] fast_kafka_api._components.aiokafka_consumer_loop: aiokafka_consumer_loop() starting...\n",
      "[INFO] fast_kafka_api._components.aiokafka_consumer_loop: aiokafka_consumer_loop(): Consumer created using the following parameters: {'bootstrap_servers': 'davor-fast-kafka-api-kafka-1:9092', 'auto_offset_reset': 'latest', 'max_poll_records': 100, 'group_id': 'my_group'}\n",
      "[INFO] fast_kafka_api._components.aiokafka_consumer_loop: aiokafka_consumer_loop() starting...\n",
      "[INFO] fast_kafka_api._components.aiokafka_consumer_loop: aiokafka_consumer_loop(): Consumer created using the following parameters: {'bootstrap_servers': 'davor-fast-kafka-api-kafka-1:9092', 'auto_offset_reset': 'latest', 'max_poll_records': 100, 'group_id': 'my_group'}\n",
      "INFO:     Application startup complete.\n",
      "INFO:     Application startup complete.\n",
      "[INFO] fast_kafka_api._components.aiokafka_consumer_loop: aiokafka_consumer_loop(): Consumer started.\n",
      "[INFO] aiokafka.consumer.subscription_state: Updating subscribed topics to: frozenset({'input_data'})\n",
      "[INFO] aiokafka.consumer.consumer: Subscribed to topic(s): {'input_data'}\n",
      "[INFO] fast_kafka_api._components.aiokafka_consumer_loop: aiokafka_consumer_loop(): Consumer subscribed.\n",
      "[INFO] fast_kafka_api._components.aiokafka_consumer_loop: aiokafka_consumer_loop(): Consumer started.\n",
      "[INFO] aiokafka.consumer.subscription_state: Updating subscribed topics to: frozenset({'input_data'})\n",
      "[INFO] aiokafka.consumer.consumer: Subscribed to topic(s): {'input_data'}\n",
      "[INFO] fast_kafka_api._components.aiokafka_consumer_loop: aiokafka_consumer_loop(): Consumer subscribed.\n",
      "[INFO] fast_kafka_api._components.aiokafka_consumer_loop: aiokafka_consumer_loop(): Consumer started.\n",
      "[INFO] aiokafka.consumer.subscription_state: Updating subscribed topics to: frozenset({'input_data'})\n",
      "[INFO] aiokafka.consumer.consumer: Subscribed to topic(s): {'input_data'}\n",
      "[INFO] fast_kafka_api._components.aiokafka_consumer_loop: aiokafka_consumer_loop(): Consumer subscribed.\n",
      "[INFO] fast_kafka_api._components.aiokafka_consumer_loop: aiokafka_consumer_loop(): Consumer started.\n",
      "[INFO] aiokafka.consumer.group_coordinator: Discovered coordinator 1002 for group my_group\n",
      "[INFO] aiokafka.consumer.subscription_state: Updating subscribed topics to: frozenset({'input_data'})\n",
      "[INFO] aiokafka.consumer.group_coordinator: Revoking previously assigned partitions set() for group my_group\n",
      "[INFO] aiokafka.consumer.consumer: Subscribed to topic(s): {'input_data'}\n",
      "[INFO] aiokafka.consumer.group_coordinator: (Re-)joining group my_group\n",
      "[INFO] fast_kafka_api._components.aiokafka_consumer_loop: aiokafka_consumer_loop(): Consumer subscribed.\n",
      "[INFO] aiokafka.consumer.group_coordinator: Joined group 'my_group' (generation 37) with member_id aiokafka-0.8.0-07d782e7-a3e8-4211-a6af-462ed0f14a2d\n",
      "[INFO] aiokafka.consumer.group_coordinator: Elected group leader -- performing partition assignments using roundrobin\n",
      "[INFO] aiokafka.consumer.group_coordinator: Discovered coordinator 1002 for group my_group\n",
      "[INFO] aiokafka.consumer.group_coordinator: Revoking previously assigned partitions set() for group my_group\n",
      "[INFO] aiokafka.consumer.group_coordinator: Discovered coordinator 1002 for group my_group\n",
      "[INFO] aiokafka.consumer.group_coordinator: Discovered coordinator 1002 for group my_group\n",
      "[INFO] aiokafka.consumer.group_coordinator: (Re-)joining group my_group\n",
      "[INFO] aiokafka.consumer.group_coordinator: Revoking previously assigned partitions set() for group my_group\n",
      "[INFO] aiokafka.consumer.group_coordinator: Revoking previously assigned partitions set() for group my_group\n",
      "[INFO] aiokafka.consumer.group_coordinator: (Re-)joining group my_group\n",
      "[INFO] aiokafka.consumer.group_coordinator: (Re-)joining group my_group\n",
      "[INFO] aiokafka.consumer.group_coordinator: Successfully synced group my_group with generation 37\n",
      "[INFO] aiokafka.consumer.group_coordinator: Setting newly assigned partitions {TopicPartition(topic='input_data', partition=0)} for group my_group\n",
      "INFO:     127.0.0.1:44760 - \"GET / HTTP/1.1\" 307 Temporary Redirect\n",
      "INFO:     127.0.0.1:44760 - \"GET /asyncapi HTTP/1.1\" 307 Temporary Redirect\n",
      "INFO:     127.0.0.1:44760 - \"GET /index.html HTTP/1.1\" 200 OK\n",
      "[WARNING] aiokafka.consumer.group_coordinator: Heartbeat failed for group my_group because it is rebalancing\n",
      "[INFO] aiokafka.consumer.group_coordinator: Revoking previously assigned partitions frozenset({TopicPartition(topic='input_data', partition=0)}) for group my_group\n",
      "[INFO] aiokafka.consumer.group_coordinator: (Re-)joining group my_group\n",
      "[INFO] aiokafka.consumer.group_coordinator: Joined group 'my_group' (generation 38) with member_id aiokafka-0.8.0-07d782e7-a3e8-4211-a6af-462ed0f14a2d\n",
      "[INFO] aiokafka.consumer.group_coordinator: Elected group leader -- performing partition assignments using roundrobin\n",
      "[INFO] aiokafka.consumer.group_coordinator: Joined group 'my_group' (generation 38) with member_id aiokafka-0.8.0-9ab6bb20-d35f-4c9b-8ad4-00649d3c0eda\n",
      "[INFO] aiokafka.consumer.group_coordinator: Joined group 'my_group' (generation 38) with member_id aiokafka-0.8.0-81e7aa13-9401-4cb1-9392-67b68cc6d908\n",
      "[INFO] aiokafka.consumer.group_coordinator: Joined group 'my_group' (generation 38) with member_id aiokafka-0.8.0-b6cd97a0-e611-4a14-b80b-b1a422d148d1\n",
      "[INFO] aiokafka.consumer.group_coordinator: Successfully synced group my_group with generation 38\n",
      "[INFO] aiokafka.consumer.group_coordinator: Successfully synced group my_group with generation 38\n",
      "[INFO] aiokafka.consumer.group_coordinator: Successfully synced group my_group with generation 38\n",
      "[INFO] aiokafka.consumer.group_coordinator: Setting newly assigned partitions {TopicPartition(topic='input_data', partition=0)} for group my_group\n",
      "[INFO] aiokafka.consumer.group_coordinator: Setting newly assigned partitions set() for group my_group\n",
      "[INFO] aiokafka.consumer.group_coordinator: Setting newly assigned partitions set() for group my_group\n",
      "[INFO] aiokafka.consumer.group_coordinator: Successfully synced group my_group with generation 38\n",
      "[INFO] aiokafka.consumer.group_coordinator: Setting newly assigned partitions set() for group my_group\n",
      "INFO:     Shutting down\n",
      "INFO:     Waiting for application shutdown.\n",
      "[INFO] aiokafka.consumer.group_coordinator: LeaveGroup request succeeded\n",
      "[INFO] fast_kafka_api._components.aiokafka_consumer_loop: aiokafka_consumer_loop(): Consumer stopped.\n",
      "[INFO] fast_kafka_api._components.aiokafka_consumer_loop: aiokafka_consumer_loop() finished.\n",
      "INFO:     Application shutdown complete.\n",
      "INFO:     Finished server process [33441]\n",
      "INFO:     Shutting down\n",
      "[WARNING] aiokafka.consumer.group_coordinator: Heartbeat failed for group my_group because it is rebalancing\n",
      "[INFO] aiokafka.consumer.group_coordinator: Revoking previously assigned partitions frozenset({TopicPartition(topic='input_data', partition=0)}) for group my_group\n",
      "[INFO] aiokafka.consumer.group_coordinator: (Re-)joining group my_group\n",
      "[WARNING] aiokafka.consumer.group_coordinator: Heartbeat failed for group my_group because it is rebalancing\n",
      "[INFO] aiokafka.consumer.group_coordinator: Revoking previously assigned partitions frozenset() for group my_group\n",
      "[INFO] aiokafka.consumer.group_coordinator: (Re-)joining group my_group\n",
      "[WARNING] aiokafka.consumer.group_coordinator: Heartbeat failed for group my_group because it is rebalancing\n",
      "[INFO] aiokafka.consumer.group_coordinator: Revoking previously assigned partitions frozenset() for group my_group\n",
      "[INFO] aiokafka.consumer.group_coordinator: (Re-)joining group my_group\n",
      "[INFO] aiokafka.consumer.group_coordinator: Joined group 'my_group' (generation 39) with member_id aiokafka-0.8.0-07d782e7-a3e8-4211-a6af-462ed0f14a2d\n",
      "[INFO] aiokafka.consumer.group_coordinator: Joined group 'my_group' (generation 39) with member_id aiokafka-0.8.0-81e7aa13-9401-4cb1-9392-67b68cc6d908\n",
      "[INFO] aiokafka.consumer.group_coordinator: Elected group leader -- performing partition assignments using roundrobin\n",
      "[INFO] aiokafka.consumer.group_coordinator: Joined group 'my_group' (generation 39) with member_id aiokafka-0.8.0-b6cd97a0-e611-4a14-b80b-b1a422d148d1\n",
      "[INFO] aiokafka.consumer.group_coordinator: Successfully synced group my_group with generation 39\n",
      "[INFO] aiokafka.consumer.group_coordinator: Successfully synced group my_group with generation 39\n",
      "[INFO] aiokafka.consumer.group_coordinator: Successfully synced group my_group with generation 39\n",
      "[INFO] aiokafka.consumer.group_coordinator: Setting newly assigned partitions {TopicPartition(topic='input_data', partition=0)} for group my_group\n",
      "[INFO] aiokafka.consumer.group_coordinator: Setting newly assigned partitions set() for group my_group\n",
      "[INFO] aiokafka.consumer.group_coordinator: Setting newly assigned partitions set() for group my_group\n",
      "INFO:     Waiting for application shutdown.\n",
      "[INFO] aiokafka.consumer.group_coordinator: LeaveGroup request succeeded\n",
      "[INFO] fast_kafka_api._components.aiokafka_consumer_loop: aiokafka_consumer_loop(): Consumer stopped.\n",
      "[INFO] fast_kafka_api._components.aiokafka_consumer_loop: aiokafka_consumer_loop() finished.\n",
      "INFO:     Application shutdown complete.\n",
      "INFO:     Finished server process [33442]\n",
      "INFO:     Shutting down\n",
      "INFO:     Waiting for application shutdown.\n",
      "[INFO] aiokafka.consumer.group_coordinator: LeaveGroup request succeeded\n",
      "[INFO] fast_kafka_api._components.aiokafka_consumer_loop: aiokafka_consumer_loop(): Consumer stopped.\n",
      "[INFO] fast_kafka_api._components.aiokafka_consumer_loop: aiokafka_consumer_loop() finished.\n",
      "INFO:     Application shutdown complete.\n",
      "INFO:     Finished server process [33443]\n",
      "INFO:     Shutting down\n",
      "INFO:     Waiting for application shutdown.\n",
      "[INFO] aiokafka.consumer.group_coordinator: LeaveGroup request succeeded\n",
      "[INFO] fast_kafka_api._components.aiokafka_consumer_loop: aiokafka_consumer_loop(): Consumer stopped.\n",
      "[INFO] fast_kafka_api._components.aiokafka_consumer_loop: aiokafka_consumer_loop() finished.\n",
      "INFO:     Application shutdown complete.\n",
      "INFO:     Finished server process [33444]\n",
      "INFO:     Stopping parent process [33439]\n",
      "\n"
     ]
    }
   ],
   "source": [
    "msgs = [\n",
    "    dict(user_id=i, feature_1=[(i / 1_000) ** 2], feature_2=[i % 177])\n",
    "    for i in trange(100_000, desc=\"generating messages\")\n",
    "]\n",
    "\n",
    "async with asyncer.create_task_group() as tg:\n",
    "\n",
    "    tg.soonify(run_on_uvicorn)(script, cancel_after=45, workers=4)\n",
    "\n",
    "    await wait_for_get_url(\n",
    "        \"http://127.0.0.1:8000\", timeout=30, desc=\"waiting for uvicorn\"\n",
    "    )\n",
    "\n",
    "    tg.soonify(consumes_messages)(\n",
    "        msgs_count=len(msgs), topic=\"predictions\", bootstrap_servers=bootstrap_servers\n",
    "    )\n",
    "\n",
    "    await anyio.sleep(2)\n",
    "\n",
    "    tg.soonify(produce_messages)(\n",
    "        msgs=msgs, topic=\"input_data\", bootstrap_servers=bootstrap_servers\n",
    "    )"
   ]
  },
  {
   "cell_type": "code",
   "execution_count": null,
   "metadata": {},
   "outputs": [],
   "source": []
  },
  {
   "cell_type": "code",
   "execution_count": null,
   "metadata": {},
   "outputs": [],
   "source": []
  }
 ],
 "metadata": {
  "kernelspec": {
   "display_name": "Python 3 (ipykernel)",
   "language": "python",
   "name": "python3"
  }
 },
 "nbformat": 4,
 "nbformat_minor": 4
}

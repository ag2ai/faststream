{
 "cells": [
  {
   "cell_type": "code",
   "execution_count": null,
   "metadata": {},
   "outputs": [
    {
     "name": "stdout",
     "output_type": "stream",
     "text": [
      "[INFO] fast_kafka_api.asyncapi: ok\n"
     ]
    }
   ],
   "source": [
    "# | hide\n",
    "from fast_kafka_api.application import FastKafkaAPI"
   ]
  },
  {
   "cell_type": "markdown",
   "metadata": {},
   "source": [
    "# fast-kafka-api\n",
    "\n",
    "> Extension of FastAPI with Kafka event handlers"
   ]
  },
  {
   "cell_type": "markdown",
   "metadata": {},
   "source": [
    "This file will become your README and also the index of your documentation."
   ]
  },
  {
   "cell_type": "markdown",
   "metadata": {},
   "source": [
    "## Install"
   ]
  },
  {
   "cell_type": "markdown",
   "metadata": {},
   "source": [
    "```sh\n",
    "pip install fast_kafka_api\n",
    "```"
   ]
  },
  {
   "cell_type": "markdown",
   "metadata": {},
   "source": [
    "## How to use"
   ]
  },
  {
   "cell_type": "markdown",
   "metadata": {},
   "source": [
    "Fill me in please! Don't forget code examples:"
   ]
  },
  {
   "cell_type": "code",
   "execution_count": null,
   "metadata": {},
   "outputs": [],
   "source": [
    "from os import environ\n",
    "\n",
    "title = \"Example for FastKafkaAPI\"\n",
    "description = \"A simple example on how to use FastKafkaAPI\"\n",
    "version = \"0.0.1\"\n",
    "openapi_url = \"/openapi.json\"\n",
    "favicon_url = \"/assets/images/favicon.ico\"\n",
    "\n",
    "contact = dict(name=\"airt.ai\", url=\"https://airt.ai\", email=\"info@airt.ai\")\n",
    "\n",
    "kafka_brokers = {\n",
    "    \"localhost\": {\n",
    "        \"url\": \"kafka\",\n",
    "        \"description\": \"local development kafka\",\n",
    "        \"port\": 9092,\n",
    "    },\n",
    "    \"staging\": {\n",
    "        \"url\": \"kafka.staging.acme.com\",\n",
    "        \"description\": \"staging kafka\",\n",
    "        \"port\": 9092,\n",
    "        \"protocol\": \"kafka-secure\",\n",
    "        \"security\": {\"type\": \"plain\"},\n",
    "    },\n",
    "    \"production\": {\n",
    "        \"url\": \"kafka.acme.com\",\n",
    "        \"description\": \"production kafka\",\n",
    "        \"port\": 9092,\n",
    "        \"protocol\": \"kafka-secure\",\n",
    "        \"security\": {\"type\": \"plain\"},\n",
    "    },\n",
    "}\n",
    "\n",
    "kafka_server_url = \"kafka\"\n",
    "kafka_server_port = \"9092\"\n",
    "\n",
    "kafka_config = {\n",
    "    \"bootstrap.servers\": f\"{kafka_server_url}:{kafka_server_port}\",\n",
    "    \"group.id\": f\"{kafka_server_url}:{kafka_server_port}_group\",\n",
    "    \"auto.offset.reset\": \"earliest\",\n",
    "}\n",
    "if \"KAFKA_API_KEY\" in environ:\n",
    "    kafka_config = {\n",
    "        **kafka_config,\n",
    "        **{\n",
    "            \"security.protocol\": \"SASL_SSL\",\n",
    "            \"sasl.mechanisms\": \"PLAIN\",\n",
    "            \"sasl.username\": environ[\"KAFKA_API_KEY\"],\n",
    "            \"sasl.password\": environ[\"KAFKA_API_SECRET\"],\n",
    "        },\n",
    "    }\n",
    "\n",
    "app = FastKafkaAPI(\n",
    "    title=title,\n",
    "    contact=contact,\n",
    "    kafka_brokers=kafka_brokers,\n",
    "    kafka_config=kafka_config,\n",
    "    description=description,\n",
    "    version=version,\n",
    "    docs_url=None,\n",
    "    redoc_url=None,\n",
    ")"
   ]
  },
  {
   "cell_type": "code",
   "execution_count": null,
   "metadata": {},
   "outputs": [],
   "source": [
    "from typing import *\n",
    "from datetime import datetime\n",
    "from fast_kafka_api.application import KafkaMessage\n",
    "from pydantic import NonNegativeInt, Field\n",
    "\n",
    "class EventData(KafkaMessage):\n",
    "    definition_id: str = Field(\n",
    "        ...,\n",
    "        example=\"appLaunch\",\n",
    "        description=\"name of the event\",\n",
    "        min_length=1,\n",
    "    )\n",
    "    occurred_time: datetime = Field(\n",
    "        ...,\n",
    "        example=\"2021-03-28T00:34:08\",\n",
    "        description=\"local time of the event\",\n",
    "    )\n",
    "    user_id: NonNegativeInt = Field(\n",
    "        ..., example=12345678, description=\"ID of a person\"\n",
    "    )\n",
    "        \n",
    "class TrainingDataStatus(KafkaMessage):\n",
    "    no_of_records: NonNegativeInt = Field(\n",
    "        ...,\n",
    "        example=12_345,\n",
    "        description=\"number of records (rows) ingested\",\n",
    "    )\n",
    "    total_no_of_records: NonNegativeInt = Field(\n",
    "        ...,\n",
    "        example=1_000_000,\n",
    "        description=\"total number of records (rows) to be ingested\",\n",
    "    )\n",
    "        \n",
    "_total_no_of_records = 0\n",
    "_no_of_records_received = 0\n",
    "\n",
    "@app.consumes(\"training_data\")  # type: ignore\n",
    "async def on_training_data(msg: EventData, produce: Callable[[str, TrainingDataStatus], None]) -> None:\n",
    "    global _total_no_of_records\n",
    "    global _no_of_records_received\n",
    "    _no_of_records_received = _no_of_records_received + 1\n",
    "\n",
    "    if _no_of_records_received % 100 == 0:\n",
    "        training_data_status = TrainingDataStatus(\n",
    "            no_of_records=_no_of_records_received,\n",
    "            total_no_of_records=_total_no_of_records,\n",
    "        )\n",
    "        produce(topic=\"training_data_status\", msg=training_data_status)"
   ]
  },
  {
   "cell_type": "code",
   "execution_count": null,
   "metadata": {},
   "outputs": [],
   "source": []
  }
 ],
 "metadata": {
  "kernelspec": {
   "display_name": "Python 3",
   "language": "python",
   "name": "python3"
  }
 },
 "nbformat": 4,
 "nbformat_minor": 4
}

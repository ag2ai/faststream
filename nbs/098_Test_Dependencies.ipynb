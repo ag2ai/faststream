{
 "cells": [
  {
   "cell_type": "code",
   "execution_count": null,
   "id": "7427cbb3",
   "metadata": {},
   "outputs": [],
   "source": [
    "# | default_exp _components.test_dependencies"
   ]
  },
  {
   "cell_type": "markdown",
   "id": "5ea7e8b8",
   "metadata": {},
   "source": [
    "# Install Test Dependencies"
   ]
  },
  {
   "cell_type": "code",
   "execution_count": null,
   "id": "f96418b5",
   "metadata": {},
   "outputs": [],
   "source": [
    "# | export\n",
    "import shutil\n",
    "import tarfile\n",
    "from os import environ\n",
    "from pathlib import Path\n",
    "from typing import *\n",
    "\n",
    "import jdk\n",
    "import requests\n",
    "\n",
    "from fastkafka._components.helpers import in_notebook\n",
    "from fastkafka._components.logger import get_logger\n",
    "\n",
    "if in_notebook():\n",
    "    from tqdm.notebook import tqdm\n",
    "else:\n",
    "    from tqdm import tqdm"
   ]
  },
  {
   "cell_type": "code",
   "execution_count": null,
   "id": "19b144a5",
   "metadata": {},
   "outputs": [],
   "source": [
    "from fastkafka._components.logger import supress_timestamps"
   ]
  },
  {
   "cell_type": "code",
   "execution_count": null,
   "id": "68b5eebe",
   "metadata": {},
   "outputs": [],
   "source": [
    "# | export\n",
    "\n",
    "logger = get_logger(__name__)"
   ]
  },
  {
   "cell_type": "code",
   "execution_count": null,
   "id": "cd7f23f5",
   "metadata": {},
   "outputs": [
    {
     "name": "stdout",
     "output_type": "stream",
     "text": [
      "[INFO] __main__: ok\n"
     ]
    }
   ],
   "source": [
    "supress_timestamps()\n",
    "logger = get_logger(__name__, level=20)\n",
    "logger.info(\"ok\")"
   ]
  },
  {
   "cell_type": "code",
   "execution_count": null,
   "id": "d3337f8e",
   "metadata": {},
   "outputs": [],
   "source": [
    "# | export\n",
    "\n",
    "\n",
    "def check_java(*, potential_jdk_path: Optional[List[Path]] = None) -> bool:\n",
    "    if potential_jdk_path is None:\n",
    "        potential_jdk_path = list(Path(environ[\"HOME\"] + \"/.jdk\").glob(\"jdk-11*\"))\n",
    "\n",
    "    if potential_jdk_path != []:\n",
    "        logger.info(\"Java is already installed.\")\n",
    "        if not shutil.which(\"java\"):\n",
    "            logger.info(\"But not exported to PATH, exporting...\")\n",
    "            environ[\"PATH\"] = environ[\"PATH\"] + f\":{potential_jdk_path[0]}/bin\"\n",
    "        return True\n",
    "    return False"
   ]
  },
  {
   "cell_type": "code",
   "execution_count": null,
   "id": "1d8daf9f",
   "metadata": {},
   "outputs": [
    {
     "name": "stdout",
     "output_type": "stream",
     "text": [
      "[INFO] __main__: Java is already installed.\n",
      "[INFO] __main__: But not exported to PATH, exporting...\n"
     ]
    }
   ],
   "source": [
    "assert check_java()"
   ]
  },
  {
   "cell_type": "code",
   "execution_count": null,
   "id": "374f061d",
   "metadata": {},
   "outputs": [],
   "source": [
    "# | export\n",
    "\n",
    "\n",
    "def _install_java() -> None:\n",
    "    \"\"\"Checks if jdk-11 is installed on the machine and installs it if not\n",
    "    Returns:\n",
    "       None\n",
    "    \"\"\"\n",
    "    if not check_java():\n",
    "        logger.info(\"Installing Java...\")\n",
    "        logger.info(\" - installing jdk...\")\n",
    "        jdk_bin_path = jdk.install(\"11\")\n",
    "        logger.info(f\" - jdk path: {jdk_bin_path}\")\n",
    "        environ[\"PATH\"] = environ[\"PATH\"] + f\":{jdk_bin_path}/bin\"\n",
    "        logger.info(\"Java installed.\")"
   ]
  },
  {
   "cell_type": "code",
   "execution_count": null,
   "id": "69a5925a",
   "metadata": {},
   "outputs": [
    {
     "name": "stdout",
     "output_type": "stream",
     "text": [
      "[INFO] __main__: Java is already installed.\n",
      "[INFO] __main__: Java is already installed.\n"
     ]
    }
   ],
   "source": [
    "# | notest\n",
    "\n",
    "_install_java()\n",
    "assert shutil.which(\"java\")\n",
    "_install_java()\n",
    "assert shutil.which(\"java\")"
   ]
  },
  {
   "cell_type": "code",
   "execution_count": null,
   "id": "a015d2c2",
   "metadata": {},
   "outputs": [],
   "source": [
    "# | export\n",
    "\n",
    "# ToDo: move it somewhere\n",
    "kafka_version = \"3.3.2\"\n",
    "kafka_fname = f\"kafka_2.13-{kafka_version}\"\n",
    "kafka_url = f\"https://dlcdn.apache.org/kafka/{kafka_version}/{kafka_fname}.tgz\"\n",
    "local_path = Path(environ[\"HOME\"]) / \".local\"\n",
    "tgz_path = local_path / f\"{kafka_fname}.tgz\"\n",
    "kafka_path = local_path / f\"{kafka_fname}\"\n",
    "\n",
    "\n",
    "def check_kafka(kafka_path: Path = kafka_path) -> bool:\n",
    "    if (kafka_path / \"bin\").exists():\n",
    "        logger.info(\"Kafka is installed.\")\n",
    "        if not shutil.which(\"kafka-server-start.sh\"):\n",
    "            logger.info(\"But not exported to PATH, exporting...\")\n",
    "            environ[\"PATH\"] = environ[\"PATH\"] + f\":{kafka_path}/bin\"\n",
    "        return True\n",
    "    return False"
   ]
  },
  {
   "cell_type": "code",
   "execution_count": null,
   "id": "9d1dcfa4",
   "metadata": {},
   "outputs": [],
   "source": [
    "# | export\n",
    "\n",
    "\n",
    "def _install_kafka(\n",
    "    *,\n",
    "    kafka_url: str = kafka_url,\n",
    "    local_path: Path = local_path,\n",
    "    tgz_path: Path = tgz_path,\n",
    ") -> None:\n",
    "    \"\"\"Checks if kafka is installed on the machine and installs it if not\n",
    "    Returns:\n",
    "       None\n",
    "    \"\"\"\n",
    "    if not check_kafka():\n",
    "        logger.info(\"Installing Kafka...\")\n",
    "        local_path.mkdir(exist_ok=True, parents=True)\n",
    "        response = requests.get(\n",
    "            kafka_url,\n",
    "            stream=True,\n",
    "        )\n",
    "        try:\n",
    "            total = response.raw.length_remaining // 128\n",
    "        except Exception:\n",
    "            total = None\n",
    "\n",
    "        with open(tgz_path, \"wb\") as f:\n",
    "            for data in tqdm(response.iter_content(chunk_size=128), total=total):\n",
    "                f.write(data)\n",
    "\n",
    "        with tarfile.open(tgz_path) as tar:\n",
    "            for tarinfo in tar:\n",
    "                tar.extract(tarinfo, local_path)\n",
    "\n",
    "        environ[\"PATH\"] = environ[\"PATH\"] + f\":{kafka_path}/bin\"\n",
    "        logger.info(f\"Kafka installed in {kafka_path}.\")"
   ]
  },
  {
   "cell_type": "code",
   "execution_count": null,
   "id": "0417b349",
   "metadata": {},
   "outputs": [
    {
     "name": "stdout",
     "output_type": "stream",
     "text": [
      "[INFO] __main__: Kafka is installed.\n",
      "[INFO] __main__: But not exported to PATH, exporting...\n",
      "[INFO] __main__: Kafka is installed.\n"
     ]
    }
   ],
   "source": [
    "# | notest\n",
    "\n",
    "_install_kafka()\n",
    "assert shutil.which(\"kafka-server-start.sh\")\n",
    "_install_kafka()\n",
    "assert shutil.which(\"kafka-server-start.sh\")"
   ]
  },
  {
   "cell_type": "code",
   "execution_count": null,
   "id": "eb3faa78",
   "metadata": {},
   "outputs": [],
   "source": [
    "# | export\n",
    "\n",
    "\n",
    "def _install_testing_deps() -> None:\n",
    "    _install_java()\n",
    "    _install_kafka()"
   ]
  },
  {
   "cell_type": "code",
   "execution_count": null,
   "id": "21cd9601",
   "metadata": {},
   "outputs": [
    {
     "name": "stdout",
     "output_type": "stream",
     "text": [
      "[INFO] __main__: Java is already installed.\n",
      "[INFO] __main__: Kafka is installed.\n"
     ]
    }
   ],
   "source": [
    "_install_testing_deps()\n",
    "assert shutil.which(\"java\")\n",
    "assert shutil.which(\"kafka-server-start.sh\")"
   ]
  },
  {
   "cell_type": "code",
   "execution_count": null,
   "id": "99ce89c4",
   "metadata": {},
   "outputs": [],
   "source": []
  }
 ],
 "metadata": {
  "kernelspec": {
   "display_name": "python3",
   "language": "python",
   "name": "python3"
  }
 },
 "nbformat": 4,
 "nbformat_minor": 5
}

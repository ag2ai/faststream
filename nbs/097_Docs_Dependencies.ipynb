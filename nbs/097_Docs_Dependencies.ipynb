{
 "cells": [
  {
   "cell_type": "code",
   "execution_count": null,
   "id": "c5d84ff9",
   "metadata": {},
   "outputs": [],
   "source": [
    "# | default_exp _components.docs_dependencies"
   ]
  },
  {
   "cell_type": "markdown",
   "id": "b4b0e6c8",
   "metadata": {},
   "source": [
    "# Install docs dependencies"
   ]
  },
  {
   "cell_type": "code",
   "execution_count": null,
   "id": "16950f9d",
   "metadata": {},
   "outputs": [],
   "source": [
    "# | export\n",
    "\n",
    "import asyncio\n",
    "from tempfile import TemporaryDirectory\n",
    "import shutil\n",
    "import sys\n",
    "\n",
    "from fastkafka._components.logger import get_logger"
   ]
  },
  {
   "cell_type": "code",
   "execution_count": null,
   "id": "2f57c397",
   "metadata": {},
   "outputs": [],
   "source": [
    "import os\n",
    "from contextlib import contextmanager\n",
    "\n",
    "import pytest"
   ]
  },
  {
   "cell_type": "code",
   "execution_count": null,
   "id": "991a4c6e",
   "metadata": {},
   "outputs": [],
   "source": [
    "# | export\n",
    "\n",
    "logger = get_logger(__name__)"
   ]
  },
  {
   "cell_type": "code",
   "execution_count": null,
   "id": "7637df53",
   "metadata": {},
   "outputs": [],
   "source": [
    "# | export\n",
    "\n",
    "\n",
    "async def _check_npx(required_major_version: int = 9) -> None:\n",
    "    if shutil.which(\"npx\") is not None:\n",
    "        cmd = \"npx --version\"\n",
    "        proc = await asyncio.create_subprocess_shell(\n",
    "            cmd, stdout=asyncio.subprocess.PIPE, stderr=asyncio.subprocess.PIPE\n",
    "        )\n",
    "        output, _ = await proc.communicate()\n",
    "        major_version = int(output.decode(\"UTF-8\").split(\".\")[0])\n",
    "        if major_version < required_major_version:\n",
    "            raise RuntimeError(\n",
    "                f\"Found installed npx major version: {major_version}, required npx major version: {required_major_version}. To use documentation features of FastKafka, please update npx\"\n",
    "            ) \n",
    "    else:\n",
    "        raise RuntimeError(\n",
    "            f\"npx not found, to use documentation generation features of FastKafka, you must have npx >= {required_major_version} installed\"\n",
    "        )"
   ]
  },
  {
   "cell_type": "code",
   "execution_count": null,
   "id": "fe7da20a",
   "metadata": {},
   "outputs": [],
   "source": [
    "@contextmanager\n",
    "def _clean_path():\n",
    "    path = os.environ[\"PATH\"]\n",
    "    try:\n",
    "        os.environ[\"PATH\"] = \"\"\n",
    "        yield\n",
    "    finally:\n",
    "        os.environ[\"PATH\"] = path"
   ]
  },
  {
   "cell_type": "code",
   "execution_count": null,
   "id": "f37a6e80",
   "metadata": {},
   "outputs": [],
   "source": [
    "await _check_npx()"
   ]
  },
  {
   "cell_type": "code",
   "execution_count": null,
   "id": "363f428b",
   "metadata": {},
   "outputs": [],
   "source": [
    "with _clean_path():\n",
    "    with pytest.raises(RuntimeError) as e:\n",
    "        await _check_npx()\n",
    "        \n",
    "assert e.value.args[0] == \"npx not found, to use documentation generation features of FastKafka, you must have npx >= 9 installed\""
   ]
  },
  {
   "cell_type": "code",
   "execution_count": null,
   "id": "996288e9",
   "metadata": {},
   "outputs": [],
   "source": [
    "with pytest.raises(RuntimeError) as e:\n",
    "    await _check_npx(required_major_version=999)\n",
    "        \n",
    "assert e.value.args[0] == \"Found installed npx major version: 9, required npx major version: 999. To use documentation features of FastKafka, please update npx\", e.value.args[0]"
   ]
  },
  {
   "cell_type": "code",
   "execution_count": null,
   "id": "51056070",
   "metadata": {},
   "outputs": [],
   "source": [
    "# | export\n",
    "\n",
    "\n",
    "async def _install_docs_deps() -> None:\n",
    "    with TemporaryDirectory() as d:\n",
    "        cmd = (\n",
    "            \"npx -y -p @asyncapi/generator ag https://raw.githubusercontent.com/asyncapi/asyncapi/master/examples/simple.yml @asyncapi/html-template -o \"\n",
    "            + d\n",
    "        )\n",
    "\n",
    "        proc = await asyncio.create_subprocess_shell(\n",
    "            cmd, stdout=asyncio.subprocess.PIPE, stderr=asyncio.subprocess.PIPE\n",
    "        )\n",
    "        stdout, stderr = await proc.communicate()\n",
    "\n",
    "        if proc.returncode == 0:\n",
    "            logger.info(\"AsyncAPI generator installed\")\n",
    "        else:\n",
    "            logger.error(\"AsyncAPI generator NOT installed!\")\n",
    "            logger.info(\n",
    "                f\"stdout of '$ {cmd}'{stdout.decode('UTF-8')} \\n return_code={proc.returncode}\"\n",
    "            )\n",
    "            logger.info(\n",
    "                f\"stderr of '$ {cmd}'{stderr.decode('UTF-8')} \\n return_code={proc.returncode}\"\n",
    "            )\n",
    "            raise ValueError(\n",
    "                f\"\"\"AsyncAPI generator NOT installed, used '$ {cmd}'\n",
    "----------------------------------------\n",
    "stdout:\n",
    "{stdout.decode(\"UTF-8\")}\n",
    "----------------------------------------\n",
    "stderr:\n",
    "{stderr.decode(\"UTF-8\")}\n",
    "----------------------------------------\n",
    "return_code={proc.returncode}\"\"\"\n",
    "            )"
   ]
  },
  {
   "cell_type": "code",
   "execution_count": null,
   "id": "2a498aa8",
   "metadata": {},
   "outputs": [
    {
     "name": "stdout",
     "output_type": "stream",
     "text": [
      "[ERROR] __main__: AsyncAPI generator NOT installed!\n",
      "[INFO] __main__: stdout of '$ npx -y -p @asyncapi/generator ag https://raw.githubusercontent.com/asyncapi/asyncapi/master/examples/simple.yml @asyncapi/html-template -o /tmp/tmp0bdul8m6'\u001b[32m\n",
      "\n",
      "Done! ✨\u001b[0m\n",
      "\u001b[33mCheck out your shiny new generated files at \u001b[0m\u001b[35m/tmp/tmp0bdul8m6\u001b[0m\u001b[33m.\u001b[0m\n",
      "\n",
      " \n",
      " return_code=0\n",
      "[INFO] __main__: stderr of '$ npx -y -p @asyncapi/generator ag https://raw.githubusercontent.com/asyncapi/asyncapi/master/examples/simple.yml @asyncapi/html-template -o /tmp/tmp0bdul8m6' \n",
      " return_code=0\n"
     ]
    },
    {
     "ename": "ValueError",
     "evalue": "AsyncAPI generator NOT installed, used '$ npx -y -p @asyncapi/generator ag https://raw.githubusercontent.com/asyncapi/asyncapi/master/examples/simple.yml @asyncapi/html-template -o /tmp/tmp0bdul8m6'\n--------------------\nstdout:\n\u001b[32m\n\nDone! ✨\u001b[0m\n\u001b[33mCheck out your shiny new generated files at \u001b[0m\u001b[35m/tmp/tmp0bdul8m6\u001b[0m\u001b[33m.\u001b[0m\n\n\n--------------------\nstderr:\n\n--------------------\nreturn_code=0",
     "output_type": "error",
     "traceback": [
      "\u001b[0;31m---------------------------------------------------------------------------\u001b[0m",
      "\u001b[0;31mValueError\u001b[0m                                Traceback (most recent call last)",
      "Cell \u001b[0;32mIn[13], line 1\u001b[0m\n\u001b[0;32m----> 1\u001b[0m \u001b[38;5;28;01mawait\u001b[39;00m _install_docs_deps()\n",
      "Cell \u001b[0;32mIn[12], line 26\u001b[0m, in \u001b[0;36m_install_docs_deps\u001b[0;34m()\u001b[0m\n\u001b[1;32m     20\u001b[0m             logger\u001b[38;5;241m.\u001b[39minfo(\n\u001b[1;32m     21\u001b[0m                 \u001b[38;5;124mf\u001b[39m\u001b[38;5;124m\"\u001b[39m\u001b[38;5;124mstdout of \u001b[39m\u001b[38;5;124m'\u001b[39m\u001b[38;5;124m$ \u001b[39m\u001b[38;5;132;01m{\u001b[39;00mcmd\u001b[38;5;132;01m}\u001b[39;00m\u001b[38;5;124m'\u001b[39m\u001b[38;5;132;01m{\u001b[39;00mstdout\u001b[38;5;241m.\u001b[39mdecode(\u001b[38;5;124m'\u001b[39m\u001b[38;5;124mUTF-8\u001b[39m\u001b[38;5;124m'\u001b[39m)\u001b[38;5;132;01m}\u001b[39;00m\u001b[38;5;124m \u001b[39m\u001b[38;5;130;01m\\n\u001b[39;00m\u001b[38;5;124m return_code=\u001b[39m\u001b[38;5;132;01m{\u001b[39;00mproc\u001b[38;5;241m.\u001b[39mreturncode\u001b[38;5;132;01m}\u001b[39;00m\u001b[38;5;124m\"\u001b[39m\n\u001b[1;32m     22\u001b[0m             )\n\u001b[1;32m     23\u001b[0m             logger\u001b[38;5;241m.\u001b[39minfo(\n\u001b[1;32m     24\u001b[0m                 \u001b[38;5;124mf\u001b[39m\u001b[38;5;124m\"\u001b[39m\u001b[38;5;124mstderr of \u001b[39m\u001b[38;5;124m'\u001b[39m\u001b[38;5;124m$ \u001b[39m\u001b[38;5;132;01m{\u001b[39;00mcmd\u001b[38;5;132;01m}\u001b[39;00m\u001b[38;5;124m'\u001b[39m\u001b[38;5;132;01m{\u001b[39;00mstderr\u001b[38;5;241m.\u001b[39mdecode(\u001b[38;5;124m'\u001b[39m\u001b[38;5;124mUTF-8\u001b[39m\u001b[38;5;124m'\u001b[39m)\u001b[38;5;132;01m}\u001b[39;00m\u001b[38;5;124m \u001b[39m\u001b[38;5;130;01m\\n\u001b[39;00m\u001b[38;5;124m return_code=\u001b[39m\u001b[38;5;132;01m{\u001b[39;00mproc\u001b[38;5;241m.\u001b[39mreturncode\u001b[38;5;132;01m}\u001b[39;00m\u001b[38;5;124m\"\u001b[39m\n\u001b[1;32m     25\u001b[0m             )\n\u001b[0;32m---> 26\u001b[0m             \u001b[38;5;28;01mraise\u001b[39;00m \u001b[38;5;167;01mValueError\u001b[39;00m(\n\u001b[1;32m     27\u001b[0m                 \u001b[38;5;124mf\u001b[39m\u001b[38;5;124m\"\"\"\u001b[39m\u001b[38;5;124mAsyncAPI generator NOT installed, used \u001b[39m\u001b[38;5;124m'\u001b[39m\u001b[38;5;124m$ \u001b[39m\u001b[38;5;132;01m{\u001b[39;00mcmd\u001b[38;5;132;01m}\u001b[39;00m\u001b[38;5;124m'\u001b[39m\n\u001b[1;32m     28\u001b[0m \u001b[38;5;124m--------------------\u001b[39m\n\u001b[1;32m     29\u001b[0m \u001b[38;5;124mstdout:\u001b[39m\n\u001b[1;32m     30\u001b[0m \u001b[38;5;132;01m{\u001b[39;00mstdout\u001b[38;5;241m.\u001b[39mdecode(\u001b[38;5;124m\"\u001b[39m\u001b[38;5;124mUTF-8\u001b[39m\u001b[38;5;124m\"\u001b[39m)\u001b[38;5;132;01m}\u001b[39;00m\n\u001b[1;32m     31\u001b[0m \u001b[38;5;124m--------------------\u001b[39m\n\u001b[1;32m     32\u001b[0m \u001b[38;5;124mstderr:\u001b[39m\n\u001b[1;32m     33\u001b[0m \u001b[38;5;132;01m{\u001b[39;00mstderr\u001b[38;5;241m.\u001b[39mdecode(\u001b[38;5;124m\"\u001b[39m\u001b[38;5;124mUTF-8\u001b[39m\u001b[38;5;124m\"\u001b[39m)\u001b[38;5;132;01m}\u001b[39;00m\n\u001b[1;32m     34\u001b[0m \u001b[38;5;124m--------------------\u001b[39m\n\u001b[1;32m     35\u001b[0m \u001b[38;5;124mreturn_code=\u001b[39m\u001b[38;5;132;01m{\u001b[39;00mproc\u001b[38;5;241m.\u001b[39mreturncode\u001b[38;5;132;01m}\u001b[39;00m\u001b[38;5;124m\"\"\"\u001b[39m\n\u001b[1;32m     36\u001b[0m             )\n",
      "\u001b[0;31mValueError\u001b[0m: AsyncAPI generator NOT installed, used '$ npx -y -p @asyncapi/generator ag https://raw.githubusercontent.com/asyncapi/asyncapi/master/examples/simple.yml @asyncapi/html-template -o /tmp/tmp0bdul8m6'\n--------------------\nstdout:\n\u001b[32m\n\nDone! ✨\u001b[0m\n\u001b[33mCheck out your shiny new generated files at \u001b[0m\u001b[35m/tmp/tmp0bdul8m6\u001b[0m\u001b[33m.\u001b[0m\n\n\n--------------------\nstderr:\n\n--------------------\nreturn_code=0"
     ]
    }
   ],
   "source": [
    "await _install_docs_deps()"
   ]
  },
  {
   "cell_type": "code",
   "execution_count": null,
   "id": "532a53b9",
   "metadata": {},
   "outputs": [],
   "source": []
  }
 ],
 "metadata": {
  "kernelspec": {
   "display_name": "Python 3 (ipykernel)",
   "language": "python",
   "name": "python3"
  },
  "language_info": {
   "codemirror_mode": {
    "name": "ipython",
    "version": 3
   },
   "file_extension": ".py",
   "mimetype": "text/x-python",
   "name": "python",
   "nbconvert_exporter": "python",
   "pygments_lexer": "ipython3",
   "version": "3.10.6"
  }
 },
 "nbformat": 4,
 "nbformat_minor": 5
}

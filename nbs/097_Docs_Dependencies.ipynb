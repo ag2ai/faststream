{
 "cells": [
  {
   "cell_type": "code",
   "execution_count": null,
   "id": "c5d84ff9",
   "metadata": {},
   "outputs": [],
   "source": [
    "# | default_exp _components.docs_dependencies"
   ]
  },
  {
   "cell_type": "markdown",
   "id": "b4b0e6c8",
   "metadata": {},
   "source": [
    "# Install docs dependencies"
   ]
  },
  {
   "cell_type": "code",
   "execution_count": null,
   "id": "16950f9d",
   "metadata": {},
   "outputs": [],
   "source": [
    "# | export\n",
    "\n",
    "import asyncio\n",
    "from tempfile import TemporaryDirectory\n",
    "import shutil\n",
    "import sys\n",
    "\n",
    "from fastkafka._components.logger import get_logger"
   ]
  },
  {
   "cell_type": "code",
   "execution_count": null,
   "id": "2f57c397",
   "metadata": {},
   "outputs": [],
   "source": [
    "import os\n",
    "from contextlib import contextmanager\n",
    "\n",
    "import pytest"
   ]
  },
  {
   "cell_type": "code",
   "execution_count": null,
   "id": "991a4c6e",
   "metadata": {},
   "outputs": [],
   "source": [
    "# | export\n",
    "\n",
    "logger = get_logger(__name__)"
   ]
  },
  {
   "cell_type": "code",
   "execution_count": null,
   "id": "7637df53",
   "metadata": {},
   "outputs": [],
   "source": [
    "# | export\n",
    "\n",
    "\n",
    "async def _check_npx(required_major_version: int = 9) -> None:\n",
    "    if shutil.which(\"npx\") is not None:\n",
    "        cmd = \"npx --version\"\n",
    "        proc = await asyncio.create_subprocess_shell(\n",
    "            cmd, stdout=asyncio.subprocess.PIPE, stderr=asyncio.subprocess.PIPE\n",
    "        )\n",
    "        output, _ = await proc.communicate()\n",
    "        major_version = int(output.decode(\"UTF-8\").split(\".\")[0])\n",
    "        if major_version < required_major_version:\n",
    "            raise RuntimeError(\n",
    "                f\"Found installed npx major version: {major_version}, required npx major version: {required_major_version}. To use documentation features of FastKafka, please update npx\"\n",
    "            ) \n",
    "    else:\n",
    "        raise RuntimeError(\n",
    "            f\"npx not found, to use documentation generation features of FastKafka, you must have npx >= {required_major_version} installed\"\n",
    "        )"
   ]
  },
  {
   "cell_type": "code",
   "execution_count": null,
   "id": "fe7da20a",
   "metadata": {},
   "outputs": [],
   "source": [
    "@contextmanager\n",
    "def _clean_path():\n",
    "    path = os.environ[\"PATH\"]\n",
    "    try:\n",
    "        os.environ[\"PATH\"] = \"\"\n",
    "        yield\n",
    "    finally:\n",
    "        os.environ[\"PATH\"] = path"
   ]
  },
  {
   "cell_type": "code",
   "execution_count": null,
   "id": "f37a6e80",
   "metadata": {},
   "outputs": [],
   "source": [
    "await _check_npx()"
   ]
  },
  {
   "cell_type": "code",
   "execution_count": null,
   "id": "363f428b",
   "metadata": {},
   "outputs": [],
   "source": [
    "with _clean_path():\n",
    "    with pytest.raises(RuntimeError) as e:\n",
    "        await _check_npx()\n",
    "        \n",
    "assert e.value.args[0] == \"npx not found, to use documentation generation features of FastKafka, you must have npx >= 9 installed\""
   ]
  },
  {
   "cell_type": "code",
   "execution_count": null,
   "id": "996288e9",
   "metadata": {},
   "outputs": [],
   "source": [
    "with pytest.raises(RuntimeError) as e:\n",
    "    await _check_npx(required_major_version=999)\n",
    "        \n",
    "assert e.value.args[0] == \"Found installed npx major version: 9, required npx major version: 999. To use documentation features of FastKafka, please update npx\", e.value.args[0]"
   ]
  },
  {
   "cell_type": "code",
   "execution_count": null,
   "id": "51056070",
   "metadata": {},
   "outputs": [],
   "source": [
    "# | export\n",
    "\n",
    "\n",
    "async def _install_docs_deps() -> None:\n",
    "    with TemporaryDirectory() as d:\n",
    "        cmd = (\n",
    "            \"npx -y -p @asyncapi/generator ag https://raw.githubusercontent.com/asyncapi/asyncapi/master/examples/simple.yml @asyncapi/html-template -o \"\n",
    "            + d\n",
    "        )\n",
    "\n",
    "        proc = await asyncio.create_subprocess_shell(\n",
    "            cmd, stdout=asyncio.subprocess.PIPE, stderr=asyncio.subprocess.PIPE\n",
    "        )\n",
    "        output, return_code_bytes = await proc.communicate()\n",
    "        output_decoded = output.decode(\"UTF-8\")\n",
    "\n",
    "        return_code = int.from_bytes(return_code_bytes, sys.byteorder) # type: ignore\n",
    "        \n",
    "        if return_code == 0:\n",
    "            logger.info(\"AsyncAPI generator installed\")\n",
    "        else:\n",
    "            logger.error(\"AsyncAPI generator NOT installed!\")\n",
    "            logger.info(\n",
    "                f\"Output of '$ {cmd}'{output_decoded} \\n return_code={return_code}\"\n",
    "            )\n",
    "            raise ValueError(\n",
    "                f\"AsyncAPI generator NOT installed, used '$ {cmd}'{output_decoded} \\n return_code={return_code}\"\n",
    "            )"
   ]
  },
  {
   "cell_type": "code",
   "execution_count": null,
   "id": "2a498aa8",
   "metadata": {},
   "outputs": [
    {
     "name": "stdout",
     "output_type": "stream",
     "text": [
      "[INFO] __main__: AsyncAPI generator installed\n"
     ]
    }
   ],
   "source": [
    "await _install_docs_deps()"
   ]
  }
 ],
 "metadata": {
  "kernelspec": {
   "display_name": "python3",
   "language": "python",
   "name": "python3"
  }
 },
 "nbformat": 4,
 "nbformat_minor": 5
}

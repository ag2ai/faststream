{
 "cells": [
  {
   "cell_type": "code",
   "execution_count": null,
   "id": "90b702dd",
   "metadata": {},
   "outputs": [],
   "source": [
    "# | default_exp __init__"
   ]
  },
  {
   "cell_type": "code",
   "execution_count": null,
   "id": "94e92657",
   "metadata": {},
   "outputs": [],
   "source": [
    "# | export\n",
    "\n",
    "from fastkafka._application.app import FastKafka\n",
    "from fastkafka._components.producer_decorator import KafkaEvent\n",
    "\n",
    "__all__ = [\n",
    "    \"FastKafka\",\n",
    "    \"KafkaEvent\",\n",
    "]"
   ]
  },
  {
   "cell_type": "code",
   "execution_count": null,
   "id": "253f85c7",
   "metadata": {},
   "outputs": [],
   "source": [
    "# | export\n",
    "\n",
    "\n",
    "def dummy() -> None:\n",
    "    pass\n",
    "\n",
    "\n",
    "dummy.__module__ = \"_dummy\""
   ]
  }
 ],
 "metadata": {
  "kernelspec": {
   "display_name": "python3",
   "language": "python",
   "name": "python3"
  }
 },
 "nbformat": 4,
 "nbformat_minor": 5
}

{
 "cells": [
  {
   "cell_type": "code",
   "execution_count": null,
   "id": "d2a8e928",
   "metadata": {},
   "outputs": [],
   "source": [
    "# | default_exp _components.helpers"
   ]
  },
  {
   "cell_type": "markdown",
   "id": "d3d7d267",
   "metadata": {},
   "source": [
    "# Internal helpers"
   ]
  },
  {
   "cell_type": "code",
   "execution_count": null,
   "id": "b84d16ae",
   "metadata": {},
   "outputs": [],
   "source": [
    "# | export\n",
    "\n",
    "\n",
    "def in_notebook() -> bool:\n",
    "    try:\n",
    "        from IPython import get_ipython\n",
    "\n",
    "        if \"IPKernelApp\" not in get_ipython().config:\n",
    "            return False\n",
    "    except ImportError:\n",
    "        return False\n",
    "    except AttributeError:\n",
    "        return False\n",
    "    return True"
   ]
  },
  {
   "cell_type": "code",
   "execution_count": null,
   "id": "9930711d",
   "metadata": {},
   "outputs": [],
   "source": [
    "in_notebook()"
   ]
  },
  {
   "cell_type": "code",
   "execution_count": null,
   "id": "5d91bc9a",
   "metadata": {},
   "outputs": [],
   "source": [
    "# | export\n",
    "\n",
    "import importlib\n",
    "import sys\n",
    "import textwrap\n",
    "from functools import wraps\n",
    "from inspect import signature\n",
    "from pathlib import Path\n",
    "from tempfile import TemporaryDirectory\n",
    "from typing import *\n",
    "\n",
    "import docstring_parser\n",
    "import typer\n",
    "from fastcore.meta import delegates\n",
    "\n",
    "if in_notebook():\n",
    "    from tqdm.notebook import tqdm, trange\n",
    "else:\n",
    "    from tqdm import tqdm, trange\n",
    "\n",
    "import nbformat\n",
    "from nbconvert import PythonExporter\n",
    "\n",
    "from fastkafka._components.logger import get_logger, supress_timestamps"
   ]
  },
  {
   "cell_type": "code",
   "execution_count": null,
   "id": "d6fbde84",
   "metadata": {},
   "outputs": [],
   "source": [
    "from aiokafka import AIOKafkaConsumer, AIOKafkaProducer\n",
    "from nbdev_mkdocs.docstring import run_examples_from_docstring\n",
    "\n",
    "from fastkafka.application import FastKafka\n",
    "from fastkafka.testing import change_dir"
   ]
  },
  {
   "cell_type": "code",
   "execution_count": null,
   "id": "26f04ba0",
   "metadata": {},
   "outputs": [],
   "source": [
    "# | export\n",
    "\n",
    "logger = get_logger(__name__)"
   ]
  },
  {
   "cell_type": "code",
   "execution_count": null,
   "id": "f94b463c",
   "metadata": {},
   "outputs": [],
   "source": [
    "supress_timestamps()\n",
    "logger = get_logger(__name__, level=20)\n",
    "logger.info(\"ok\")"
   ]
  },
  {
   "cell_type": "code",
   "execution_count": null,
   "id": "c5072aa2",
   "metadata": {},
   "outputs": [],
   "source": [
    "# | export\n",
    "\n",
    "F = TypeVar(\"F\", bound=Callable[..., Any])\n",
    "\n",
    "\n",
    "def _format_args(xs: List[docstring_parser.DocstringParam]) -> str:\n",
    "    return \"\\nArgs:\\n - \" + \"\\n - \".join(\n",
    "        [f\"{x.arg_name} ({x.type_name}): {x.description}\" for x in xs]\n",
    "    )\n",
    "\n",
    "\n",
    "def combine_params(f: F, o: Union[Type, Callable[..., Any]]) -> F:\n",
    "    \"\"\"Combines docstring arguments of a function and another object or function\n",
    "\n",
    "    Args:\n",
    "        f: destination functions where combined arguments will end up\n",
    "        o: source function from which arguments are taken from\n",
    "\n",
    "    Returns:\n",
    "        Function f with augumented docstring including arguments from both functions/objects\n",
    "    \"\"\"\n",
    "    src_params = docstring_parser.parse_from_object(o).params\n",
    "    #     logger.info(f\"combine_params(): source:{_format_args(src_params)}\")\n",
    "    docs = docstring_parser.parse_from_object(f)\n",
    "    #     logger.info(f\"combine_params(): destination:{_format_args(docs.params)}\")\n",
    "    dst_params_names = [p.arg_name for p in docs.params]\n",
    "\n",
    "    combined_params = docs.params + [\n",
    "        x for x in src_params if not x.arg_name in dst_params_names\n",
    "    ]\n",
    "    #     logger.info(f\"combine_params(): combined:{_format_args(combined_params)}\")\n",
    "\n",
    "    docs.meta = [\n",
    "        x for x in docs.meta if not isinstance(x, docstring_parser.DocstringParam)\n",
    "    ] + combined_params  # type: ignore\n",
    "\n",
    "    f.__doc__ = docstring_parser.compose(\n",
    "        docs, style=docstring_parser.DocstringStyle.GOOGLE\n",
    "    )\n",
    "    return f"
   ]
  },
  {
   "cell_type": "code",
   "execution_count": null,
   "id": "530648f0",
   "metadata": {},
   "outputs": [],
   "source": [
    "def f2(a: int, b: str):\n",
    "    \"\"\"\n",
    "    Args:\n",
    "        a: parameter a\n",
    "        b: parameter bbbb\n",
    "    \"\"\"\n",
    "\n",
    "\n",
    "def f1(b: str, c: int):\n",
    "    \"\"\"Function f1\n",
    "    Args:\n",
    "        b: parameter b\n",
    "        c: parameter c\n",
    "\n",
    "    Raises:\n",
    "        ValueError: sometimes\n",
    "    \"\"\"\n",
    "\n",
    "\n",
    "combine_params(f1, f2).__doc__\n",
    "\n",
    "expected = \"\"\"Function f1\n",
    "Args:\n",
    "    b: parameter b\n",
    "    c: parameter c\n",
    "    a: parameter a\n",
    "\n",
    "Raises:\n",
    "    ValueError: sometimes\"\"\"\n",
    "\n",
    "assert f1.__doc__ == expected"
   ]
  },
  {
   "cell_type": "code",
   "execution_count": null,
   "id": "7c15dc69",
   "metadata": {},
   "outputs": [],
   "source": [
    "# | export\n",
    "\n",
    "\n",
    "def delegates_using_docstring(o: Union[Type, Callable[..., Any]]) -> Callable[[F], F]:\n",
    "    def _delegates_using_docstring(f: F) -> F:\n",
    "        def _combine_params(o: Union[Type, Callable[..., Any]]) -> Callable[[F], F]:\n",
    "            def __combine_params(f: F, o: Union[Type, Callable[..., Any]] = o) -> F:\n",
    "                return combine_params(f=f, o=o)\n",
    "\n",
    "            return __combine_params\n",
    "\n",
    "        @_combine_params(o)\n",
    "        @delegates(o)  # type: ignore\n",
    "        @wraps(f)\n",
    "        def _f(*args: Any, **kwargs: Any) -> Any:\n",
    "            return f(*args, **kwargs)\n",
    "\n",
    "        return _f\n",
    "\n",
    "    return _delegates_using_docstring"
   ]
  },
  {
   "cell_type": "code",
   "execution_count": null,
   "id": "4f2166b6",
   "metadata": {},
   "outputs": [],
   "source": [
    "def f2(a: str, d: int) -> None:\n",
    "    \"\"\"\n",
    "    Args:\n",
    "        a: parameter a\n",
    "        b: parameter bbbb\n",
    "    \"\"\"\n",
    "    pass\n",
    "\n",
    "\n",
    "@delegates_using_docstring(f2)\n",
    "def f1(b: str, c: int, **kwargs):\n",
    "    \"\"\"Function f1\n",
    "    Args:\n",
    "        b: parameter b\n",
    "        c: parameter c\n",
    "\n",
    "    Raises:\n",
    "        ValueError: sometimes\n",
    "    \"\"\"\n",
    "    pass\n",
    "\n",
    "\n",
    "expected = \"\"\"Function f1\n",
    "Args:\n",
    "    b: parameter b\n",
    "    c: parameter c\n",
    "    a: parameter a\n",
    "\n",
    "Raises:\n",
    "    ValueError: sometimes\"\"\"\n",
    "assert f1.__doc__ == expected"
   ]
  },
  {
   "cell_type": "code",
   "execution_count": null,
   "id": "23721f44",
   "metadata": {},
   "outputs": [],
   "source": [
    "signature(f1).parameters, signature(f2).parameters"
   ]
  },
  {
   "cell_type": "code",
   "execution_count": null,
   "id": "132fad2b",
   "metadata": {},
   "outputs": [],
   "source": [
    "@delegates(f2)\n",
    "def f3(b: str, c: int, **kwargs):\n",
    "    \"\"\"Function f1\n",
    "    Args:\n",
    "        b: parameter b\n",
    "        c: parameter c\n",
    "\n",
    "    Raises:\n",
    "        ValueError: sometimes\n",
    "    \"\"\"\n",
    "    pass\n",
    "\n",
    "\n",
    "signature(f3).parameters"
   ]
  },
  {
   "cell_type": "code",
   "execution_count": null,
   "id": "34c95fba",
   "metadata": {},
   "outputs": [],
   "source": [
    "@delegates_using_docstring(AIOKafkaConsumer)\n",
    "def f(a: int, **kwargs) -> str:\n",
    "    \"\"\"function a\n",
    "    Args:\n",
    "        a: parameter a\n",
    "\n",
    "    Returns:\n",
    "        stuff\n",
    "    \"\"\"\n",
    "    print(f\"{a=}\")"
   ]
  },
  {
   "cell_type": "code",
   "execution_count": null,
   "id": "b1f04611",
   "metadata": {},
   "outputs": [],
   "source": [
    "print(f.__doc__)"
   ]
  },
  {
   "cell_type": "code",
   "execution_count": null,
   "id": "d3422da0",
   "metadata": {},
   "outputs": [],
   "source": [
    "signature(f).parameters"
   ]
  },
  {
   "cell_type": "code",
   "execution_count": null,
   "id": "acc25785",
   "metadata": {},
   "outputs": [],
   "source": [
    "# | export\n",
    "\n",
    "\n",
    "def use_parameters_of(\n",
    "    o: Union[Type, Callable[..., Any]], **kwargs: Dict[str, Any]\n",
    ") -> Dict[str, Any]:\n",
    "    \"\"\"Restrict parameters passwed as keyword arguments to parameters from the signature of ``o``\n",
    "\n",
    "    Args:\n",
    "        o: object or callable which signature is used for restricting keyword arguments\n",
    "        kwargs: keyword arguments\n",
    "\n",
    "    Returns:\n",
    "        restricted keyword arguments\n",
    "\n",
    "    \"\"\"\n",
    "    allowed_keys = set(signature(o).parameters.keys())\n",
    "    return {k: v for k, v in kwargs.items() if k in allowed_keys}"
   ]
  },
  {
   "cell_type": "code",
   "execution_count": null,
   "id": "ad7db3e6",
   "metadata": {},
   "outputs": [],
   "source": [
    "assert use_parameters_of(AIOKafkaConsumer, api_version=0.1, radnom_param=\"random\") == {\n",
    "    \"api_version\": 0.1\n",
    "}"
   ]
  },
  {
   "cell_type": "code",
   "execution_count": null,
   "id": "5544a68d",
   "metadata": {},
   "outputs": [],
   "source": [
    "# | export\n",
    "\n",
    "\n",
    "def generate_app_src(out_path: Union[Path, str]) -> None:\n",
    "    path = Path(\"099_Test_Service.ipynb\")\n",
    "    if not path.exists():\n",
    "        path = Path(\"..\") / \"099_Test_Service.ipynb\"\n",
    "    if not path.exists():\n",
    "        raise ValueError(f\"Path '{path.resolve()}' does not exists.\")\n",
    "\n",
    "    with open(path, \"r\") as f:\n",
    "        notebook = nbformat.reads(f.read(), nbformat.NO_CONVERT)\n",
    "        exporter = PythonExporter()\n",
    "        source, _ = exporter.from_notebook_node(notebook)\n",
    "\n",
    "    with open(out_path, \"w\") as f:\n",
    "        f.write(source)"
   ]
  },
  {
   "cell_type": "code",
   "execution_count": null,
   "id": "bf5cd63e",
   "metadata": {},
   "outputs": [],
   "source": [
    "with TemporaryDirectory() as d:\n",
    "    generate_app_src((Path(d) / \"main.py\"))\n",
    "    !ls -al {d}\n",
    "    !cat {d}/main.py | grep @kafka_app"
   ]
  },
  {
   "cell_type": "code",
   "execution_count": null,
   "id": "22ff9e03",
   "metadata": {},
   "outputs": [],
   "source": [
    "# | export\n",
    "\n",
    "\n",
    "class ImportFromStringError(Exception):\n",
    "    pass\n",
    "\n",
    "\n",
    "def _import_from_string(import_str: str) -> Any:\n",
    "    \"\"\"Imports library from string\n",
    "\n",
    "    Note:\n",
    "        copied from https://github.com/encode/uvicorn/blob/master/uvicorn/importer.py\n",
    "\n",
    "    Args:\n",
    "        import_str: input string in form 'main:app'\n",
    "\n",
    "    \"\"\"\n",
    "    sys.path.append(\".\")\n",
    "\n",
    "    if not isinstance(import_str, str):\n",
    "        return import_str\n",
    "\n",
    "    module_str, _, attrs_str = import_str.partition(\":\")\n",
    "    if not module_str or not attrs_str:\n",
    "        message = (\n",
    "            'Import string \"{import_str}\" must be in format \"<module>:<attribute>\".'\n",
    "        )\n",
    "        typer.secho(f\"{message}\", err=True, fg=typer.colors.RED)\n",
    "        raise ImportFromStringError(message.format(import_str=import_str))\n",
    "\n",
    "    try:\n",
    "        # nosemgrep: python.lang.security.audit.non-literal-import.non-literal-import\n",
    "        module = importlib.import_module(module_str)\n",
    "    except ImportError as exc:\n",
    "        if exc.name != module_str:\n",
    "            raise exc from None\n",
    "        message = 'Could not import module \"{module_str}\".'\n",
    "        raise ImportFromStringError(message.format(module_str=module_str))\n",
    "\n",
    "    instance = module\n",
    "    try:\n",
    "        for attr_str in attrs_str.split(\".\"):\n",
    "            instance = getattr(instance, attr_str)\n",
    "    except AttributeError:\n",
    "        message = 'Attribute \"{attrs_str}\" not found in module \"{module_str}\".'\n",
    "        raise ImportFromStringError(\n",
    "            message.format(attrs_str=attrs_str, module_str=module_str)\n",
    "        )\n",
    "\n",
    "    return instance"
   ]
  },
  {
   "cell_type": "code",
   "execution_count": null,
   "id": "85e14aa3",
   "metadata": {},
   "outputs": [],
   "source": [
    "with TemporaryDirectory() as d:\n",
    "    src_path = Path(d) / \"main.py\"\n",
    "    generate_app_src(src_path)\n",
    "    with change_dir(d):\n",
    "        kafka_app = _import_from_string(f\"{src_path.stem}:kafka_app\")\n",
    "        assert isinstance(kafka_app, FastKafka)"
   ]
  },
  {
   "cell_type": "code",
   "execution_count": null,
   "id": "e338a8a2",
   "metadata": {},
   "outputs": [],
   "source": [
    "# | export\n",
    "\n",
    "\n",
    "def filter_using_signature(f: Callable, **kwargs: Dict[str, Any]) -> Dict[str, Any]:\n",
    "    \"\"\"todo: write docs\"\"\"\n",
    "    param_names = list(signature(f).parameters.keys())\n",
    "    return {k: v for k, v in kwargs.items() if k in param_names}"
   ]
  },
  {
   "cell_type": "code",
   "execution_count": null,
   "id": "3bab208c",
   "metadata": {},
   "outputs": [],
   "source": [
    "def f(a: int, *, b: str):\n",
    "    pass\n",
    "\n",
    "\n",
    "assert filter_using_signature(f, a=1, c=3) == {\"a\": 1}"
   ]
  }
 ],
 "metadata": {
  "kernelspec": {
   "display_name": "python3",
   "language": "python",
   "name": "python3"
  }
 },
 "nbformat": 4,
 "nbformat_minor": 5
}

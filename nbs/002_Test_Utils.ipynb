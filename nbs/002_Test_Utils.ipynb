{
 "cells": [
  {
   "cell_type": "code",
   "execution_count": null,
   "id": "cc959176",
   "metadata": {},
   "outputs": [],
   "source": [
    "# | default_exp _testing.test_utils"
   ]
  },
  {
   "cell_type": "code",
   "execution_count": null,
   "id": "a39bc80a",
   "metadata": {},
   "outputs": [],
   "source": [
    "# | export\n",
    "\n",
    "import asyncio\n",
    "import contextlib\n",
    "import functools\n",
    "import glob\n",
    "import hashlib\n",
    "import multiprocessing\n",
    "import os\n",
    "import random\n",
    "import shlex\n",
    "import shutil\n",
    "import signal\n",
    "import socket\n",
    "import subprocess  # nosec\n",
    "import tarfile\n",
    "import textwrap\n",
    "import time\n",
    "import unittest\n",
    "import unittest.mock\n",
    "from collections import namedtuple\n",
    "from contextlib import asynccontextmanager, contextmanager\n",
    "from datetime import datetime, timedelta\n",
    "from pathlib import Path\n",
    "from tempfile import TemporaryDirectory\n",
    "from typing import *\n",
    "from unittest.mock import AsyncMock, MagicMock\n",
    "from IPython.display import IFrame\n",
    "\n",
    "import asyncer\n",
    "import nest_asyncio\n",
    "import posix_ipc\n",
    "\n",
    "# [B404:blacklist] Consider possible security implications associated with the subprocess module.\n",
    "import requests\n",
    "import typer\n",
    "from aiokafka import AIOKafkaConsumer, AIOKafkaProducer\n",
    "from confluent_kafka.admin import AdminClient, NewTopic\n",
    "from fastcore.foundation import patch\n",
    "from fastcore.meta import delegates\n",
    "from pydantic import BaseModel, Field\n",
    "from tqdm import tqdm\n",
    "\n",
    "from fastkafka._components._subprocess import terminate_asyncio_process\n",
    "\n",
    "from fastkafka._components.helpers import (\n",
    "    _import_from_string,\n",
    "    combine_params,\n",
    "    filter_using_signature,\n",
    "    use_parameters_of,\n",
    "    change_dir,\n",
    ")\n",
    "from fastkafka._components.logger import get_logger, supress_timestamps\n",
    "from fastkafka._application.app import FastKafka\n",
    "from fastkafka.helpers import (\n",
    "    consumes_messages,\n",
    "    in_notebook,\n",
    "    produce_messages,\n",
    "    tqdm,\n",
    "    trange,\n",
    ")"
   ]
  },
  {
   "cell_type": "code",
   "execution_count": null,
   "id": "484ce24e",
   "metadata": {},
   "outputs": [],
   "source": [
    "# | export\n",
    "\n",
    "if in_notebook():\n",
    "    from tqdm.notebook import tqdm, trange\n",
    "else:\n",
    "    from tqdm import tqdm, trange"
   ]
  },
  {
   "cell_type": "code",
   "execution_count": null,
   "id": "911a1ccc",
   "metadata": {},
   "outputs": [],
   "source": [
    "from inspect import signature\n",
    "\n",
    "import anyio\n",
    "import pytest\n",
    "from nbdev_mkdocs.docstring import run_examples_from_docstring\n",
    "from tqdm.notebook import tqdm, trange\n",
    "\n",
    "from fastkafka.helpers import consumes_messages, produce_messages\n",
    "from fastkafka._testing.local_broker import LocalKafkaBroker"
   ]
  },
  {
   "cell_type": "code",
   "execution_count": null,
   "id": "7c64116e",
   "metadata": {},
   "outputs": [],
   "source": [
    "# | notest\n",
    "\n",
    "# allows async calls in notebooks\n",
    "\n",
    "nest_asyncio.apply()"
   ]
  },
  {
   "cell_type": "code",
   "execution_count": null,
   "id": "7a2eb08b",
   "metadata": {},
   "outputs": [],
   "source": [
    "# | export\n",
    "\n",
    "logger = get_logger(__name__)"
   ]
  },
  {
   "cell_type": "code",
   "execution_count": null,
   "id": "1f3eee37",
   "metadata": {},
   "outputs": [
    {
     "name": "stdout",
     "output_type": "stream",
     "text": [
      "[INFO] __main__: ok\n"
     ]
    }
   ],
   "source": [
    "supress_timestamps()\n",
    "logger = get_logger(__name__, level=20)\n",
    "logger.info(\"ok\")"
   ]
  },
  {
   "cell_type": "code",
   "execution_count": null,
   "id": "48f69103",
   "metadata": {},
   "outputs": [],
   "source": [
    "# | export\n",
    "\n",
    "\n",
    "def nb_safe_seed(s: str) -> Callable[[int], int]:\n",
    "    \"\"\"Gets a unique seed function for a notebook\n",
    "\n",
    "    Params:\n",
    "        s: name of the notebook used to initialize the seed function\n",
    "\n",
    "    Returns:\n",
    "        A unique seed function\n",
    "    \"\"\"\n",
    "    init_seed = int(hashlib.sha256(s.encode(\"utf-8\")).hexdigest(), 16) % (10**8)\n",
    "\n",
    "    def _get_seed(x: int = 0, *, init_seed: int = init_seed) -> int:\n",
    "        return init_seed + x\n",
    "\n",
    "    return _get_seed"
   ]
  },
  {
   "cell_type": "code",
   "execution_count": null,
   "id": "dfba6520",
   "metadata": {},
   "outputs": [],
   "source": [
    "seed = nb_safe_seed(\"999_test_utils\")\n",
    "\n",
    "assert seed() == seed(0)\n",
    "assert seed() + 1 == seed(1)"
   ]
  },
  {
   "cell_type": "code",
   "execution_count": null,
   "id": "bdf46a4e",
   "metadata": {},
   "outputs": [],
   "source": [
    "# | export\n",
    "\n",
    "\n",
    "def true_after(seconds: float) -> Callable[[], bool]:\n",
    "    \"\"\"Function returning True after a given number of seconds\"\"\"\n",
    "    t = datetime.now()\n",
    "\n",
    "    def _true_after(seconds: float = seconds, t: datetime = t) -> bool:\n",
    "        return (datetime.now() - t) > timedelta(seconds=seconds)\n",
    "\n",
    "    return _true_after"
   ]
  },
  {
   "cell_type": "code",
   "execution_count": null,
   "id": "ac939ba9",
   "metadata": {},
   "outputs": [],
   "source": [
    "f = true_after(1.1)\n",
    "assert not f()\n",
    "time.sleep(1)\n",
    "assert not f()\n",
    "time.sleep(0.1)\n",
    "assert f()"
   ]
  },
  {
   "cell_type": "code",
   "execution_count": null,
   "id": "9b04d73d",
   "metadata": {},
   "outputs": [],
   "source": [
    "# | export\n",
    "\n",
    "\n",
    "@contextmanager\n",
    "def mock_AIOKafkaProducer_send() -> Generator[unittest.mock.Mock, None, None]:\n",
    "    \"\"\"Mocks **send** method of **AIOKafkaProducer**\"\"\"\n",
    "    with unittest.mock.patch(\"__main__.AIOKafkaProducer.send\") as mock:\n",
    "\n",
    "        async def _f() -> None:\n",
    "            pass\n",
    "\n",
    "        mock.return_value = asyncio.create_task(_f())\n",
    "\n",
    "        yield mock"
   ]
  },
  {
   "cell_type": "code",
   "execution_count": null,
   "id": "85420005",
   "metadata": {},
   "outputs": [],
   "source": [
    "# | export\n",
    "\n",
    "\n",
    "async def run_script_and_cancel(\n",
    "    script: str,\n",
    "    *,\n",
    "    script_file: Optional[str] = None,\n",
    "    cmd: Optional[str] = None,\n",
    "    cancel_after: int = 10,\n",
    "    app_name: str = \"app\",\n",
    "    kafka_app_name: str = \"kafka_app\",\n",
    "    generate_docs: bool = False,\n",
    ") -> Tuple[int, bytes]:\n",
    "    \"\"\"Run script and cancel after predefined time\n",
    "\n",
    "    Args:\n",
    "        script: a python source code to be executed in a separate subprocess\n",
    "        script_file: name of the script where script source will be saved\n",
    "        cmd: command to execute. If None, it will be set to 'python3 -m {Path(script_file).stem}'\n",
    "        cancel_after: number of seconds before sending SIGTERM signal\n",
    "\n",
    "    Returns:\n",
    "        A tuple containing exit code and combined stdout and stderr as a binary string\n",
    "    \"\"\"\n",
    "    if script_file is None:\n",
    "        script_file = \"script.py\"\n",
    "\n",
    "    if cmd is None:\n",
    "        cmd = f\"python3 -m {Path(script_file).stem}\"\n",
    "\n",
    "    with TemporaryDirectory() as d:\n",
    "        consumer_script = Path(d) / script_file\n",
    "\n",
    "        with open(consumer_script, \"w\") as file:\n",
    "            file.write(script)\n",
    "\n",
    "        if generate_docs:\n",
    "            logger.info(\n",
    "                f\"Generating docs for: {Path(script_file).stem}:{kafka_app_name}\"\n",
    "            )\n",
    "            try:\n",
    "                kafka_app: FastKafka = _import_from_string(\n",
    "                    f\"{Path(script_file).stem}:{kafka_app_name}\"\n",
    "                )\n",
    "                await asyncer.asyncify(kafka_app.create_docs)()\n",
    "            except Exception as e:\n",
    "                logger.warning(\n",
    "                    f\"Generating docs failed for: {Path(script_file).stem}:{kafka_app_name}, ignoring it for now.\"\n",
    "                )\n",
    "\n",
    "        proc = subprocess.Popen(  # nosec: [B603:subprocess_without_shell_equals_true] subprocess call - check for execution of untrusted input.\n",
    "            shlex.split(cmd), stdout=subprocess.PIPE, stderr=subprocess.STDOUT, cwd=d\n",
    "        )\n",
    "        await asyncio.sleep(cancel_after)\n",
    "        proc.terminate()\n",
    "        output, _ = proc.communicate()\n",
    "\n",
    "        return (proc.returncode, output)"
   ]
  },
  {
   "cell_type": "code",
   "execution_count": null,
   "id": "09054da6",
   "metadata": {},
   "outputs": [],
   "source": [
    "# Check exit code 0\n",
    "script = \"\"\"\n",
    "from time import sleep\n",
    "print(\"hello\")\n",
    "sleep({t})\n",
    "\"\"\"\n",
    "\n",
    "exit_code, output = await run_script_and_cancel(script.format(t=0), cancel_after=2)\n",
    "assert exit_code == 0, exit_code\n",
    "assert output.decode(\"utf-8\") == \"hello\\n\", output.decode(\"utf-8\")\n",
    "\n",
    "exit_code, output = await run_script_and_cancel(script.format(t=5), cancel_after=2)\n",
    "assert exit_code < 0, exit_code"
   ]
  },
  {
   "cell_type": "code",
   "execution_count": null,
   "id": "0c8484fa",
   "metadata": {},
   "outputs": [],
   "source": [
    "# Check exit code 1\n",
    "script = \"exit(1)\"\n",
    "\n",
    "exit_code, output = await run_script_and_cancel(script, cancel_after=1)\n",
    "\n",
    "assert exit_code == 1\n",
    "assert output.decode(\"utf-8\") == \"\""
   ]
  },
  {
   "cell_type": "code",
   "execution_count": null,
   "id": "40aaf329",
   "metadata": {},
   "outputs": [],
   "source": [
    "# Check exit code 0 and output to stdout and stderr\n",
    "script = \"\"\"\n",
    "import sys\n",
    "sys.stderr.write(\"hello from stderr\\\\n\")\n",
    "sys.stderr.flush()\n",
    "print(\"hello, exiting with exit code 0\")\n",
    "exit(0)\n",
    "\"\"\"\n",
    "\n",
    "exit_code, output = await run_script_and_cancel(script, cancel_after=1)\n",
    "\n",
    "assert exit_code == 0, exit_code\n",
    "assert (\n",
    "    output.decode(\"utf-8\") == \"hello from stderr\\nhello, exiting with exit code 0\\n\"\n",
    "), output.decode(\"utf-8\")"
   ]
  },
  {
   "cell_type": "code",
   "execution_count": null,
   "id": "b346af63",
   "metadata": {},
   "outputs": [
    {
     "name": "stdout",
     "output_type": "stream",
     "text": [
      "ok\n"
     ]
    }
   ],
   "source": [
    "# Check random exit code and output\n",
    "script = \"\"\"\n",
    "print(\"hello\\\\nexiting with exit code 143\")\n",
    "exit(143)\n",
    "\"\"\"\n",
    "\n",
    "exit_code, output = await run_script_and_cancel(script, cancel_after=1)\n",
    "\n",
    "assert exit_code == 143\n",
    "assert output.decode(\"utf-8\") == \"hello\\nexiting with exit code 143\\n\"\n",
    "\n",
    "print(\"ok\")"
   ]
  },
  {
   "cell_type": "code",
   "execution_count": null,
   "id": "7ef6219a",
   "metadata": {},
   "outputs": [],
   "source": [
    "# | export\n",
    "\n",
    "\n",
    "async def display_docs(docs_path: str, port: int = 4000) -> None:\n",
    "    with change_dir(docs_path):\n",
    "        process = await asyncio.create_subprocess_exec(\n",
    "            \"python3\",\n",
    "            \"-m\",\n",
    "            \"http.server\",\n",
    "            f\"{port}\",\n",
    "            stdout=asyncio.subprocess.PIPE,\n",
    "            stderr=asyncio.subprocess.PIPE,\n",
    "        )\n",
    "        try:\n",
    "            from google.colab.output import eval_js\n",
    "\n",
    "            proxy = eval_js(f\"google.colab.kernel.proxyPort({port})\")\n",
    "            logger.info(\"Google colab detected! Proxy adjusted.\")\n",
    "        except:\n",
    "            proxy = f\"http://localhost:{port}\"\n",
    "        finally:\n",
    "            await asyncio.sleep(2)\n",
    "            display(IFrame(f\"{proxy}\", 1000, 700))  # type: ignore\n",
    "            await asyncio.sleep(2)\n",
    "            await terminate_asyncio_process(process)"
   ]
  },
  {
   "cell_type": "code",
   "execution_count": null,
   "id": "5ebe5474",
   "metadata": {},
   "outputs": [
    {
     "data": {
      "text/html": [
       "\n",
       "        <iframe\n",
       "            width=\"1000\"\n",
       "            height=\"700\"\n",
       "            src=\"http://localhost:4000\"\n",
       "            frameborder=\"0\"\n",
       "            allowfullscreen\n",
       "            \n",
       "        ></iframe>\n",
       "        "
      ],
      "text/plain": [
       "<IPython.lib.display.IFrame>"
      ]
     },
     "metadata": {},
     "output_type": "display_data"
    },
    {
     "name": "stdout",
     "output_type": "stream",
     "text": [
      "[INFO] fastkafka._components._subprocess: terminate_asyncio_process(): Terminating the process 2028...\n",
      "[INFO] fastkafka._components._subprocess: terminate_asyncio_process(): Process 2028 terminated.\n"
     ]
    }
   ],
   "source": [
    "example_html = \"\"\"\n",
    "\n",
    "\n",
    "    \n",
    "        Example\n",
    "    \n",
    "    \n",
    "        This is an example of a simple HTML page with one paragraph.\n",
    "    \n",
    "\n",
    "\"\"\"\n",
    "\n",
    "with TemporaryDirectory() as tmp:\n",
    "    with change_dir(tmp):\n",
    "        with open(Path(tmp) / \"index.html\", \"w\") as index_file:\n",
    "            index_file.write(example_html)\n",
    "        await display_docs(docs_path=tmp, port=4000)"
   ]
  }
 ],
 "metadata": {
  "kernelspec": {
   "display_name": "python3",
   "language": "python",
   "name": "python3"
  }
 },
 "nbformat": 4,
 "nbformat_minor": 5
}

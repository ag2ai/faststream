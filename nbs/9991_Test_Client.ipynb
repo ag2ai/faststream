{
 "cells": [
  {
   "cell_type": "code",
   "execution_count": null,
   "id": "2b49585a",
   "metadata": {},
   "outputs": [],
   "source": [
    "# | default_exp testing.client"
   ]
  },
  {
   "cell_type": "code",
   "execution_count": null,
   "id": "066eedbe",
   "metadata": {},
   "outputs": [],
   "source": [
    "# | export\n",
    "\n",
    "from collections import namedtuple\n",
    "from unittest.mock import AsyncMock, MagicMock\n",
    "from typing import *\n",
    "import inspect\n",
    "import functools\n",
    "\n",
    "from fastcore.foundation import patch\n",
    "\n",
    "from fastkafka.application import FastKafka"
   ]
  },
  {
   "cell_type": "code",
   "execution_count": null,
   "id": "0d59706d",
   "metadata": {},
   "outputs": [],
   "source": [
    "import pytest\n",
    "import asyncio\n",
    "\n",
    "from pydantic import BaseModel, Field\n",
    "\n",
    "from fastkafka.helpers import create_missing_topics\n",
    "from fastkafka.testing import LocalKafkaBroker"
   ]
  },
  {
   "cell_type": "code",
   "execution_count": null,
   "id": "70b54b2f",
   "metadata": {},
   "outputs": [],
   "source": [
    "# | export\n",
    "\n",
    "@patch\n",
    "def create_mocks(self: FastKafka) -> None:\n",
    "    app_methods = [f for f, _ in self._consumers_store.values()] + [\n",
    "        f for f, _, _ in self._producers_store.values()\n",
    "    ]\n",
    "    self.AppMocks = namedtuple(\n",
    "        f\"{self.__class__.__name__}Mocks\", [f.__name__ for f in app_methods]\n",
    "    )\n",
    "    # todo: create Magicmock if needed\n",
    "    self.mocks = self.AppMocks(**{f.__name__: AsyncMock() for f in app_methods})\n",
    "\n",
    "    def add_mock(f: Callable[[...], Any], mock: AsyncMock) -> Callable[[...], Any]:\n",
    "        @functools.wraps(f)\n",
    "        async def async_inner(\n",
    "            *args, f: Callable[[...], Any] = f, mock: AsyncMock = mock, **kwargs\n",
    "        ) -> Any:\n",
    "            await mock(*args, **kwargs)\n",
    "            return await f(*args, **kwargs)\n",
    "\n",
    "        return async_inner\n",
    "\n",
    "    self._consumers_store = {\n",
    "        name: (\n",
    "            add_mock(f, getattr(self.mocks, f.__name__)),\n",
    "            kwargs,\n",
    "        )\n",
    "        for name, (f, kwargs) in self._consumers_store.items()\n",
    "    }\n",
    "    self._producers_store = {\n",
    "        name: (\n",
    "            add_mock(f, getattr(self.mocks, f.__name__)),\n",
    "            producer,\n",
    "            kwargs,\n",
    "        )\n",
    "        for name, (f, producer, kwargs) in self._producers_store.items()\n",
    "    }"
   ]
  },
  {
   "cell_type": "code",
   "execution_count": null,
   "id": "8eb00bb6",
   "metadata": {},
   "outputs": [],
   "source": [
    "class TestMsg(BaseModel):\n",
    "    msg: str = Field(...)\n",
    "\n",
    "def create_app(bootstrap_servers: str) -> FastKafka:\n",
    "    app = FastKafka(bootstrap_servers=bootstrap_servers)\n",
    "\n",
    "    @app.consumes()\n",
    "    async def on_preprocessed_signals(msg: TestMsg):\n",
    "        await to_predictions(TestMsg(msg=\"prediction\"))\n",
    "\n",
    "\n",
    "    @app.produces()\n",
    "    async def to_predictions(prediction: TestMsg) -> TestMsg:\n",
    "        print(f\"Sending prediction: {prediction}\")\n",
    "        return prediction\n",
    "    \n",
    "    return app"
   ]
  },
  {
   "cell_type": "code",
   "execution_count": null,
   "id": "baea5bb5",
   "metadata": {},
   "outputs": [],
   "source": [
    "app = create_app(\"localhost:9092\")\n",
    "\n",
    "app.create_mocks()\n",
    "app.mocks.on_preprocessed_signals.assert_not_awaited()\n",
    "app.mocks.to_predictions.assert_not_awaited()\n",
    "app.create_mocks()\n",
    "app.mocks.on_preprocessed_signals.assert_not_awaited()\n",
    "app.mocks.to_predictions.assert_not_awaited()"
   ]
  },
  {
   "cell_type": "code",
   "execution_count": null,
   "id": "e71d8282",
   "metadata": {},
   "outputs": [],
   "source": [
    "# | export\n",
    "\n",
    "class Tester(FastKafka):\n",
    "    def __init__(self, apps: List[FastKafka]):\n",
    "        self.apps = apps\n",
    "        super().__init__(bootstrap_servers=self.apps[0]._kafka_config[\"bootstrap_servers\"])\n",
    "        self.create_mirror()\n",
    "\n",
    "    async def startup(self):\n",
    "        for app in self.apps:\n",
    "            app.create_mocks()\n",
    "            await app.startup()\n",
    "        \n",
    "        self.create_mocks()\n",
    "        await super().startup()\n",
    "        await asyncio.sleep(3)\n",
    "\n",
    "    async def shutdown(self):\n",
    "        await super().shutdown()\n",
    "        for app in self.apps[::-1]:\n",
    "            await app.shutdown()\n",
    "        \n",
    "    def create_mirror(self):\n",
    "        pass"
   ]
  },
  {
   "cell_type": "code",
   "execution_count": null,
   "id": "854735b2",
   "metadata": {},
   "outputs": [],
   "source": [
    "tester = Tester([create_app(\"localhost:9092\")])\n",
    "\n",
    "with pytest.raises(AttributeError) as e:\n",
    "    tester.mocks"
   ]
  },
  {
   "cell_type": "code",
   "execution_count": null,
   "id": "075f9455",
   "metadata": {},
   "outputs": [
    {
     "name": "stdout",
     "output_type": "stream",
     "text": [
      "[INFO] fastkafka.testing: Java is already installed.\n",
      "[INFO] fastkafka.testing: But not exported to PATH, exporting...\n",
      "[INFO] fastkafka.testing: Kafka is already installed.\n",
      "[INFO] fastkafka.testing: But not exported to PATH, exporting...\n",
      "[INFO] fastkafka.testing: Starting zookeeper...\n",
      "[INFO] fastkafka.testing: Zookeeper started, sleeping for 5 seconds...\n",
      "[INFO] fastkafka.testing: Starting Kafka broker...\n",
      "[INFO] fastkafka.testing: Kafka broker started, sleeping for 5 seconds...\n",
      "[INFO] fastkafka.testing: Local Kafka broker up and running on 127.0.0.1:9789\n",
      "[INFO] fastkafka.helpers: create_missing_topics(['preprocessed_signals', 'predictions']): new_topics = [NewTopic(topic=preprocessed_signals,num_partitions=1), NewTopic(topic=predictions,num_partitions=1)]\n",
      "[INFO] fastkafka.application: _create_producer() : created producer using the config: '{'bootstrap_servers': '127.0.0.1:9789'}'\n",
      "[INFO] fastkafka.application: _create_producer() : created producer using the config: '{'bootstrap_servers': '127.0.0.1:9789'}'\n",
      "[INFO] fastkafka._components.aiokafka_consumer_loop: aiokafka_consumer_loop() starting...\n",
      "[INFO] fastkafka._components.aiokafka_consumer_loop: aiokafka_consumer_loop(): Consumer created using the following parameters: {'bootstrap_servers': '127.0.0.1:9789', 'auto_offset_reset': 'earliest', 'max_poll_records': 100}\n",
      "[INFO] fastkafka._components.aiokafka_consumer_loop: aiokafka_consumer_loop(): Consumer started.\n",
      "[INFO] aiokafka.consumer.subscription_state: Updating subscribed topics to: frozenset({'preprocessed_signals'})\n",
      "[INFO] aiokafka.consumer.consumer: Subscribed to topic(s): {'preprocessed_signals'}\n",
      "[INFO] fastkafka._components.aiokafka_consumer_loop: aiokafka_consumer_loop(): Consumer subscribed.\n",
      "[INFO] fastkafka._components.aiokafka_consumer_loop: aiokafka_consumer_loop() starting...\n",
      "[INFO] fastkafka._components.aiokafka_consumer_loop: aiokafka_consumer_loop(): Consumer created using the following parameters: {'bootstrap_servers': '127.0.0.1:9789', 'auto_offset_reset': 'latest', 'max_poll_records': 100}\n",
      "[INFO] aiokafka.consumer.group_coordinator: Metadata for topic has changed from {} to {'preprocessed_signals': 1}. \n",
      "[INFO] fastkafka._components.aiokafka_consumer_loop: aiokafka_consumer_loop(): Consumer started.\n",
      "[INFO] aiokafka.consumer.subscription_state: Updating subscribed topics to: frozenset({'predictions'})\n",
      "[INFO] aiokafka.consumer.consumer: Subscribed to topic(s): {'predictions'}\n",
      "[INFO] fastkafka._components.aiokafka_consumer_loop: aiokafka_consumer_loop(): Consumer subscribed.\n",
      "[INFO] aiokafka.consumer.group_coordinator: Metadata for topic has changed from {} to {'predictions': 1}. \n",
      "Producing msg msg='signal'\n",
      "Sending prediction: msg='prediction'\n",
      "[INFO] fastkafka._components.aiokafka_consumer_loop: aiokafka_consumer_loop(): Consumer stopped.\n",
      "[INFO] fastkafka._components.aiokafka_consumer_loop: aiokafka_consumer_loop() finished.\n",
      "[INFO] fastkafka._components.aiokafka_consumer_loop: aiokafka_consumer_loop(): Consumer stopped.\n",
      "[INFO] fastkafka._components.aiokafka_consumer_loop: aiokafka_consumer_loop() finished.\n",
      "[INFO] fastkafka._components._subprocess: terminate_asyncio_process(): Terminating the process 10387...\n",
      "[INFO] fastkafka._components._subprocess: terminate_asyncio_process(): Process 10387 terminated.\n",
      "[INFO] fastkafka._components._subprocess: terminate_asyncio_process(): Terminating the process 10022...\n",
      "[INFO] fastkafka._components._subprocess: terminate_asyncio_process(): Process 10022 terminated.\n",
      "ok\n"
     ]
    }
   ],
   "source": [
    "async with LocalKafkaBroker(zookeeper_port=9998, listener_port=9789) as bootstrap_server:\n",
    "    create_missing_topics(\n",
    "        [\"preprocessed_signals\", \"predictions\"],\n",
    "        bootstrap_servers=bootstrap_server,\n",
    "        num_partitions=1,\n",
    "    )\n",
    "    tester = Tester([create_app(bootstrap_servers=bootstrap_server)])\n",
    "    \n",
    "    @tester.produces()\n",
    "    async def to_preprocessed_signals(msg: TestMsg) -> TestMsg:\n",
    "        print(f\"Producing msg {msg}\")\n",
    "        return msg\n",
    "    tester.to_preprocessed_signals = to_preprocessed_signals\n",
    "\n",
    "    @tester.consumes(auto_offset_reset=\"latest\")\n",
    "    async def on_predictions(msg: TestMsg):\n",
    "        pass\n",
    "\n",
    "    async with tester:\n",
    "        await tester.to_preprocessed_signals(TestMsg(msg=\"signal\"))\n",
    "        await asyncio.sleep(5)\n",
    "        tester.mocks.on_predictions.assert_called()\n",
    "\n",
    "print(\"ok\")"
   ]
  },
  {
   "cell_type": "code",
   "execution_count": null,
   "id": "775e3e57",
   "metadata": {},
   "outputs": [],
   "source": [
    "# | export\n",
    "\n",
    "\n",
    "def mirror_producer(\n",
    "    topic: str, producer_f: Callable[[...], Any]\n",
    ") -> Callable[[...], Any]:\n",
    "    msg_type = inspect.signature(producer_f).return_annotation\n",
    "    print(msg_type)\n",
    "\n",
    "    def skeleton_func(msg):\n",
    "        pass\n",
    "\n",
    "    mirror_func = skeleton_func\n",
    "    sig = inspect.signature(skeleton_func)\n",
    "\n",
    "    # adjust name\n",
    "    mirror_func.__name__ = \"on_\" + topic\n",
    "\n",
    "    # adjust arg and return val\n",
    "    sig = sig.replace(\n",
    "        parameters=[\n",
    "            inspect.Parameter(\n",
    "                name=\"msg\",\n",
    "                annotation=msg_type,\n",
    "                kind=inspect.Parameter.POSITIONAL_OR_KEYWORD,\n",
    "            )\n",
    "        ]\n",
    "    )\n",
    "\n",
    "    mirror_func.__signature__ = sig\n",
    "    return mirror_func"
   ]
  },
  {
   "cell_type": "code",
   "execution_count": null,
   "id": "9110b7d6",
   "metadata": {},
   "outputs": [
    {
     "name": "stdout",
     "output_type": "stream",
     "text": [
      "{'predictions': (<function create_app.<locals>.to_predictions>, None, {})}\n",
      "<class '__main__.TestMsg'>\n",
      "on_predictions\n",
      "(msg: __main__.TestMsg)\n"
     ]
    }
   ],
   "source": [
    "app = create_app(\"localhost:9092\")\n",
    "print(app._producers_store)\n",
    "for topic, (producer_f, _, _) in app._producers_store.items():\n",
    "    \n",
    "    mirror = mirror_producer(topic, producer_f)\n",
    "    print(mirror.__name__)\n",
    "    print(inspect.signature(mirror))"
   ]
  },
  {
   "cell_type": "code",
   "execution_count": null,
   "id": "fcf39de7",
   "metadata": {},
   "outputs": [],
   "source": [
    "# | export\n",
    "\n",
    "\n",
    "def mirror_consumer(topic: str, consumer_f: Callable[[...], Any]) -> Callable[[...], Any]:\n",
    "    msg_type=inspect.signature(consumer_f).parameters[\"msg\"]\n",
    "    \n",
    "    def skeleton_func(msg):\n",
    "        return msg\n",
    "    \n",
    "    mirror_func = skeleton_func\n",
    "    sig = inspect.signature(skeleton_func)\n",
    "    \n",
    "    # adjust name\n",
    "    mirror_func.__name__ = \"to_\"+topic\n",
    "\n",
    "    # adjust arg and return val\n",
    "    sig=sig.replace(parameters=[msg_type], return_annotation=msg_type.annotation)\n",
    "    \n",
    "    mirror_func.__signature__=sig\n",
    "    return mirror_func"
   ]
  },
  {
   "cell_type": "code",
   "execution_count": null,
   "id": "383a2229",
   "metadata": {},
   "outputs": [
    {
     "name": "stdout",
     "output_type": "stream",
     "text": [
      "{'preprocessed_signals': (<function create_app.<locals>.on_preprocessed_signals>, {})}\n",
      "to_preprocessed_signals\n",
      "(msg: __main__.TestMsg) -> __main__.TestMsg\n"
     ]
    }
   ],
   "source": [
    "app = create_app(\"localhost:9092\")\n",
    "print(app._consumers_store)\n",
    "for topic, (consumer_f, _) in app._consumers_store.items():\n",
    "    mirror = mirror_consumer(topic, consumer_f)\n",
    "    print(mirror.__name__)\n",
    "    print(inspect.signature(mirror))"
   ]
  },
  {
   "cell_type": "code",
   "execution_count": null,
   "id": "4892049e",
   "metadata": {},
   "outputs": [
    {
     "data": {
      "text/plain": [
       "<Signature (msg: __main__.TestMsg) -> __main__.TestMsg>"
      ]
     },
     "execution_count": null,
     "metadata": {},
     "output_type": "execute_result"
    }
   ],
   "source": [
    "def true_mirror(msg: TestMsg) -> TestMsg:\n",
    "    return msg\n",
    "\n",
    "inspect.signature(true_mirror)"
   ]
  },
  {
   "cell_type": "code",
   "execution_count": null,
   "id": "e92cdd0c",
   "metadata": {},
   "outputs": [
    {
     "data": {
      "text/plain": [
       "__main__.TestMsg"
      ]
     },
     "execution_count": null,
     "metadata": {},
     "output_type": "execute_result"
    }
   ],
   "source": [
    "inspect.signature(true_mirror).return_annotation"
   ]
  },
  {
   "cell_type": "code",
   "execution_count": null,
   "id": "b9805156",
   "metadata": {},
   "outputs": [],
   "source": [
    "# | export\n",
    "\n",
    "@patch\n",
    "def create_mirror(self: Tester):\n",
    "    pass\n",
    "        "
   ]
  },
  {
   "cell_type": "code",
   "execution_count": null,
   "id": "041f1a63",
   "metadata": {},
   "outputs": [],
   "source": []
  }
 ],
 "metadata": {
  "kernelspec": {
   "display_name": "Python 3 (ipykernel)",
   "language": "python",
   "name": "python3"
  }
 },
 "nbformat": 4,
 "nbformat_minor": 5
}

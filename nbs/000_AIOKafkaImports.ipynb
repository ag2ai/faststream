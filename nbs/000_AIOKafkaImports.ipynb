{
 "cells": [
  {
   "cell_type": "code",
   "execution_count": null,
   "id": "c55da358",
   "metadata": {},
   "outputs": [],
   "source": [
    "# | default_exp _aiokafka_imports"
   ]
  },
  {
   "cell_type": "code",
   "execution_count": null,
   "id": "a049b3f5",
   "metadata": {},
   "outputs": [],
   "source": [
    "# | export\n",
    "\n",
    "from aiokafka import AIOKafkaConsumer, AIOKafkaProducer\n",
    "\n",
    "from fastkafka._components.meta import export\n",
    "\n",
    "__all__ = [\n",
    "    \"AIOKafkaConsumer\", \"AIOKafkaProducer\",\n",
    "]"
   ]
  },
  {
   "cell_type": "code",
   "execution_count": null,
   "id": "f2af47ba",
   "metadata": {},
   "outputs": [],
   "source": [
    "# | export\n",
    "\n",
    "\n",
    "@export(\"_dummy\")\n",
    "def dummy() -> None:\n",
    "    pass"
   ]
  }
 ],
 "metadata": {
  "kernelspec": {
   "display_name": "python3",
   "language": "python",
   "name": "python3"
  }
 },
 "nbformat": 4,
 "nbformat_minor": 5
}

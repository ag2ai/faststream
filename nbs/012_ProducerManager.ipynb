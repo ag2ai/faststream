{
 "cells": [
  {
   "cell_type": "code",
   "execution_count": null,
   "id": "41796226",
   "metadata": {},
   "outputs": [],
   "source": [
    "# | default_exp _components.aiokafka_producer_manager"
   ]
  },
  {
   "cell_type": "code",
   "execution_count": null,
   "id": "a044bd28",
   "metadata": {},
   "outputs": [],
   "source": [
    "# | export\n",
    "\n",
    "import asyncio\n",
    "from contextlib import asynccontextmanager\n",
    "from typing import *\n",
    "\n",
    "import anyio\n",
    "from aiokafka import AIOKafkaProducer\n",
    "from anyio.streams.memory import MemoryObjectReceiveStream, MemoryObjectSendStream\n",
    "\n",
    "from fastkafka._components.logger import get_logger"
   ]
  },
  {
   "cell_type": "code",
   "execution_count": null,
   "id": "9671c23b",
   "metadata": {},
   "outputs": [],
   "source": [
    "import unittest.mock\n",
    "from contextlib import contextmanager\n",
    "from os import environ\n",
    "\n",
    "import nest_asyncio\n",
    "\n",
    "from fastkafka._components.logger import supress_timestamps\n",
    "from fastkafka.testing import LocalKafkaBroker"
   ]
  },
  {
   "cell_type": "code",
   "execution_count": null,
   "id": "18214ce2",
   "metadata": {},
   "outputs": [],
   "source": [
    "# | notest\n",
    "\n",
    "# allows async calls in notebooks\n",
    "nest_asyncio.apply()"
   ]
  },
  {
   "cell_type": "code",
   "execution_count": null,
   "id": "59aded0d",
   "metadata": {},
   "outputs": [],
   "source": [
    "# | export\n",
    "\n",
    "logger = get_logger(__name__)"
   ]
  },
  {
   "cell_type": "code",
   "execution_count": null,
   "id": "2bbe6652",
   "metadata": {},
   "outputs": [
    {
     "name": "stdout",
     "output_type": "stream",
     "text": [
      "[INFO] __main__: ok\n"
     ]
    }
   ],
   "source": [
    "supress_timestamps()\n",
    "logger = get_logger(__name__, level=1)\n",
    "logger.info(\"ok\")"
   ]
  },
  {
   "cell_type": "code",
   "execution_count": null,
   "id": "570b1f2b",
   "metadata": {},
   "outputs": [],
   "source": [
    "# | export\n",
    "\n",
    "\n",
    "@asynccontextmanager\n",
    "async def _aiokafka_producer_manager(  # type: ignore # Argument 1 to \"_aiokafka_producer_manager\" becomes \"Any\" due to an unfollowed import  [no-any-unimported]\n",
    "    producer: AIOKafkaProducer,\n",
    "    *,\n",
    "    max_buffer_size: int = 10_000,\n",
    ") -> AsyncGenerator[MemoryObjectSendStream[Any], None]:\n",
    "    \"\"\"Write docs\n",
    "\n",
    "    Todo: add batch size if needed\n",
    "\n",
    "    \"\"\"\n",
    "\n",
    "    logger.info(\"_aiokafka_producer_manager(): Starting...\")\n",
    "\n",
    "    async def send_message(receive_stream: MemoryObjectReceiveStream) -> Any:\n",
    "        async with receive_stream:\n",
    "            async for topic, msg, key in receive_stream:\n",
    "                fut = await producer.send(topic, msg, key=key)\n",
    "                msg = await fut\n",
    "\n",
    "    send_stream, receive_stream = anyio.create_memory_object_stream(\n",
    "        max_buffer_size=max_buffer_size\n",
    "    )\n",
    "\n",
    "    logger.info(\"_aiokafka_producer_manager(): Starting send_stream\")\n",
    "    asyncio.create_task(send_message(receive_stream))\n",
    "    async with send_stream:\n",
    "        yield send_stream\n",
    "        logger.info(\"_aiokafka_producer_manager(): Exiting send_stream\")\n",
    "\n",
    "    logger.info(\"_aiokafka_producer_manager(): Finished.\")"
   ]
  },
  {
   "cell_type": "code",
   "execution_count": null,
   "id": "81ce58e1",
   "metadata": {},
   "outputs": [],
   "source": [
    "@contextmanager\n",
    "def mock_AIOKafkaProducer_send():\n",
    "    with unittest.mock.patch(\"__main__.AIOKafkaProducer.send\") as mock:\n",
    "\n",
    "        async def _f():\n",
    "            pass\n",
    "\n",
    "        mock.return_value = asyncio.create_task(_f())\n",
    "\n",
    "        yield mock"
   ]
  },
  {
   "cell_type": "code",
   "execution_count": null,
   "id": "8c4c07d4",
   "metadata": {},
   "outputs": [
    {
     "name": "stdout",
     "output_type": "stream",
     "text": [
      "[INFO] __main__: _aiokafka_producer_manager(): Starting...\n",
      "[INFO] __main__: _aiokafka_producer_manager(): Starting send_stream\n",
      "[DEBUG] aiokafka.producer.producer: The Kafka producer has closed.\n",
      "[INFO] __main__: _aiokafka_producer_manager(): Exiting send_stream\n",
      "[INFO] __main__: _aiokafka_producer_manager(): Finished.\n"
     ]
    }
   ],
   "source": [
    "num_msgs = 15\n",
    "topic = \"topic\"\n",
    "msg = b\"msg\"\n",
    "key = None\n",
    "msgs = [(topic, msg, key) for _ in range(num_msgs)]\n",
    "calls = [unittest.mock.call(topic, msg, key=key) for _ in range(num_msgs)]\n",
    "\n",
    "with mock_AIOKafkaProducer_send() as send_mock:\n",
    "    producer = AIOKafkaProducer()\n",
    "    async with _aiokafka_producer_manager(producer) as send_stream:\n",
    "        for msg in msgs:\n",
    "            send_stream.send_nowait(msg)\n",
    "\n",
    "        await asyncio.sleep(10)\n",
    "\n",
    "        await producer.stop()\n",
    "\n",
    "    send_mock.assert_has_calls(calls)"
   ]
  },
  {
   "cell_type": "code",
   "execution_count": null,
   "id": "7b73384a",
   "metadata": {},
   "outputs": [],
   "source": [
    "# | export\n",
    "\n",
    "\n",
    "class AIOKafkaProducerManager:\n",
    "    def __init__(self, producer: AIOKafkaProducer, *, max_buffer_size: int = 1_000):  # type: ignore\n",
    "        self.producer = producer\n",
    "        self.max_buffer_size = max_buffer_size\n",
    "\n",
    "    async def start(self) -> None:\n",
    "        logger.info(\"AIOKafkaProducerManager.start(): Entering...\")\n",
    "        await self.producer.start()\n",
    "        self.producer_manager_generator = _aiokafka_producer_manager(self.producer)\n",
    "        self.send_stream = await self.producer_manager_generator.__aenter__()\n",
    "        logger.info(\"AIOKafkaProducerManager.start(): Finished.\")\n",
    "\n",
    "    async def stop(self) -> None:\n",
    "        # todo: try to flush messages before you exit\n",
    "        logger.info(\"AIOKafkaProducerManager.stop(): Entering...\")\n",
    "        await self.producer_manager_generator.__aexit__(None, None, None)\n",
    "        logger.info(\"AIOKafkaProducerManager.stop(): Stoping producer...\")\n",
    "        await self.producer.stop()\n",
    "        logger.info(\"AIOKafkaProducerManager.stop(): Finished\")\n",
    "\n",
    "    def send(self, topic: str, msg: bytes, key: Optional[bytes] = None) -> None:\n",
    "        self.send_stream.send_nowait((topic, msg, key))"
   ]
  },
  {
   "cell_type": "code",
   "execution_count": null,
   "id": "aff250ba",
   "metadata": {},
   "outputs": [
    {
     "name": "stdout",
     "output_type": "stream",
     "text": [
      "[INFO] fastkafka._components.helpers: Java is already installed.\n",
      "[INFO] fastkafka._components.helpers: But not exported to PATH, exporting...\n",
      "[INFO] fastkafka._components.helpers: Kafka is installed.\n",
      "[INFO] fastkafka._components.helpers: But not exported to PATH, exporting...\n",
      "[INFO] fastkafka._testing.local_broker: Starting zookeeper...\n",
      "[INFO] fastkafka._testing.local_broker: Starting kafka...\n",
      "[INFO] fastkafka._testing.local_broker: Local Kafka broker up and running on 127.0.0.1:9092\n",
      "[INFO] __main__: AIOKafkaProducerManager.start(): Entering...\n",
      "[DEBUG] aiokafka.producer.producer: Starting the Kafka producer\n",
      "[DEBUG] aiokafka: Attempting to bootstrap via node at 127.0.0.1:9092\n",
      "[DEBUG] aiokafka.conn: <AIOKafkaConnection host=127.0.0.1 port=9092> Request 1: MetadataRequest_v0(topics=[])\n",
      "[DEBUG] aiokafka.conn: <AIOKafkaConnection host=127.0.0.1 port=9092> Response 1: MetadataResponse_v0(brokers=[(node_id=0, host='tvrtko-fastkafka-devel', port=9092)], topics=[])\n",
      "[DEBUG] aiokafka.cluster: Updated cluster metadata to ClusterMetadata(brokers: 1, topics: 0, groups: 0)\n",
      "[DEBUG] aiokafka.conn: Closing connection at 127.0.0.1:9092\n",
      "[DEBUG] aiokafka: Received cluster metadata: ClusterMetadata(brokers: 1, topics: 0, groups: 0)\n",
      "[DEBUG] aiokafka: Initiating connection to node 0 at tvrtko-fastkafka-devel:9092\n",
      "[DEBUG] aiokafka.conn: <AIOKafkaConnection host=tvrtko-fastkafka-devel port=9092> Request 1: ApiVersionRequest_v0()\n",
      "[DEBUG] aiokafka.conn: <AIOKafkaConnection host=tvrtko-fastkafka-devel port=9092> Response 1: ApiVersionResponse_v0(error_code=0, api_versions=[(api_key=0, min_version=0, max_version=9), (api_key=1, min_version=0, max_version=13), (api_key=2, min_version=0, max_version=7), (api_key=3, min_version=0, max_version=12), (api_key=4, min_version=0, max_version=6), (api_key=5, min_version=0, max_version=3), (api_key=6, min_version=0, max_version=7), (api_key=7, min_version=0, max_version=3), (api_key=8, min_version=0, max_version=8), (api_key=9, min_version=0, max_version=8), (api_key=10, min_version=0, max_version=4), (api_key=11, min_version=0, max_version=9), (api_key=12, min_version=0, max_version=4), (api_key=13, min_version=0, max_version=5), (api_key=14, min_version=0, max_version=5), (api_key=15, min_version=0, max_version=5), (api_key=16, min_version=0, max_version=4), (api_key=17, min_version=0, max_version=1), (api_key=18, min_version=0, max_version=3), (api_key=19, min_version=0, max_version=7), (api_key=20, min_version=0, max_version=6), (api_key=21, min_version=0, max_version=2), (api_key=22, min_version=0, max_version=4), (api_key=23, min_version=0, max_version=4), (api_key=24, min_version=0, max_version=3), (api_key=25, min_version=0, max_version=3), (api_key=26, min_version=0, max_version=3), (api_key=27, min_version=0, max_version=1), (api_key=28, min_version=0, max_version=3), (api_key=29, min_version=0, max_version=3), (api_key=30, min_version=0, max_version=3), (api_key=31, min_version=0, max_version=3), (api_key=32, min_version=0, max_version=4), (api_key=33, min_version=0, max_version=2), (api_key=34, min_version=0, max_version=2), (api_key=35, min_version=0, max_version=4), (api_key=36, min_version=0, max_version=2), (api_key=37, min_version=0, max_version=3), (api_key=38, min_version=0, max_version=3), (api_key=39, min_version=0, max_version=2), (api_key=40, min_version=0, max_version=2), (api_key=41, min_version=0, max_version=3), (api_key=42, min_version=0, max_version=2), (api_key=43, min_version=0, max_version=2), (api_key=44, min_version=0, max_version=1), (api_key=45, min_version=0, max_version=0), (api_key=46, min_version=0, max_version=0), (api_key=47, min_version=0, max_version=0), (api_key=48, min_version=0, max_version=1), (api_key=49, min_version=0, max_version=1), (api_key=50, min_version=0, max_version=0), (api_key=51, min_version=0, max_version=0), (api_key=56, min_version=0, max_version=2), (api_key=57, min_version=0, max_version=1), (api_key=60, min_version=0, max_version=0), (api_key=61, min_version=0, max_version=0), (api_key=65, min_version=0, max_version=0), (api_key=66, min_version=0, max_version=0), (api_key=67, min_version=0, max_version=0)])\n",
      "[DEBUG] aiokafka.conn: <AIOKafkaConnection host=tvrtko-fastkafka-devel port=9092> Request 2: MetadataRequest_v0(topics=[])\n",
      "[DEBUG] aiokafka.conn: <AIOKafkaConnection host=tvrtko-fastkafka-devel port=9092> Response 2: MetadataResponse_v0(brokers=[(node_id=0, host='tvrtko-fastkafka-devel', port=9092)], topics=[])\n",
      "[DEBUG] aiokafka.conn: Closing connection at tvrtko-fastkafka-devel:9092\n",
      "[DEBUG] aiokafka.producer.producer: Kafka producer started\n",
      "[INFO] __main__: _aiokafka_producer_manager(): Starting...\n",
      "[INFO] __main__: _aiokafka_producer_manager(): Starting send_stream\n",
      "[INFO] __main__: AIOKafkaProducerManager.start(): Finished.\n",
      "[INFO] __main__: AIOKafkaProducerManager.stop(): Entering...\n",
      "[INFO] __main__: _aiokafka_producer_manager(): Exiting send_stream\n",
      "[INFO] __main__: _aiokafka_producer_manager(): Finished.\n",
      "[INFO] __main__: AIOKafkaProducerManager.stop(): Stoping producer...\n",
      "[DEBUG] aiokafka: Initiating connection to node 0 at tvrtko-fastkafka-devel:9092\n",
      "[DEBUG] aiokafka.producer.producer: The Kafka producer has closed.\n",
      "[INFO] __main__: AIOKafkaProducerManager.stop(): Finished\n",
      "[INFO] __main__: Stopped\n",
      "[INFO] fastkafka._components._subprocess: terminate_asyncio_process(): Terminating the process 104383...\n",
      "[INFO] fastkafka._components._subprocess: terminate_asyncio_process(): Process 104383 terminated.\n",
      "[INFO] fastkafka._components._subprocess: terminate_asyncio_process(): Terminating the process 104022...\n",
      "[INFO] fastkafka._components._subprocess: terminate_asyncio_process(): Process 104022 terminated.\n"
     ]
    }
   ],
   "source": [
    "async with LocalKafkaBroker() as bootstrap_server:\n",
    "    producer = AIOKafkaProducer(bootstrap_servers=bootstrap_server)\n",
    "    manager = AIOKafkaProducerManager(producer)\n",
    "    await manager.start()\n",
    "    manager.send(\"topic\", b\"msg\")\n",
    "    await manager.stop()\n",
    "    logger.info(\"Stopped\")"
   ]
  },
  {
   "cell_type": "code",
   "execution_count": null,
   "id": "416de516",
   "metadata": {},
   "outputs": [],
   "source": []
  }
 ],
 "metadata": {
  "kernelspec": {
   "display_name": "python3",
   "language": "python",
   "name": "python3"
  }
 },
 "nbformat": 4,
 "nbformat_minor": 5
}

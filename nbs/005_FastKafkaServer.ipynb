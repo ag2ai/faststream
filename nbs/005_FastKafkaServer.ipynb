{
 "cells": [
  {
   "cell_type": "code",
   "execution_count": null,
   "id": "28d8fbc7",
   "metadata": {},
   "outputs": [],
   "source": [
    "# | default_exp server"
   ]
  },
  {
   "cell_type": "code",
   "execution_count": null,
   "id": "7fcc07a5",
   "metadata": {},
   "outputs": [],
   "source": [
    "# | export\n",
    "\n",
    "import importlib\n",
    "import sys\n",
    "import asyncio\n",
    "from typing import *\n",
    "from contextlib import contextmanager\n",
    "from pathlib import Path\n",
    "import threading\n",
    "import signal\n",
    "\n",
    "import multiprocessing\n",
    "\n",
    "from fastkafka.application import FastKafka\n",
    "from fastkafka.testing import change_dir\n",
    "from fastkafka._components.helpers import generate_app_src, _import_from_string"
   ]
  },
  {
   "cell_type": "code",
   "execution_count": null,
   "id": "170ddd1c",
   "metadata": {},
   "outputs": [],
   "source": [
    "import os\n",
    "from contextlib import contextmanager\n",
    "from tempfile import TemporaryDirectory\n",
    "from time import sleep"
   ]
  },
  {
   "cell_type": "code",
   "execution_count": null,
   "id": "ced70e01",
   "metadata": {},
   "outputs": [],
   "source": [
    "# | export\n",
    "\n",
    "class FastKafkaServer():\n",
    "    \n",
    "    def __init__(self, app: FastKafka):\n",
    "        self.app = app\n",
    "        self.should_exit = False\n",
    "    \n",
    "    \n",
    "    def run(self) -> None:\n",
    "        return asyncio.run(self._serve())\n",
    "\n",
    "    async def _serve(self) -> None:\n",
    "        self._install_signal_handlers()\n",
    "\n",
    "#         async with self.app:\n",
    "        await self.app.startup()\n",
    "        await self._main_loop()\n",
    "        await self.app.shutdown()\n",
    "\n",
    "    def _install_signal_handlers(self) -> None:\n",
    "        if threading.current_thread() is not threading.main_thread():\n",
    "            # Signals can only be listened to from the main thread.\n",
    "            return\n",
    "\n",
    "        loop = asyncio.get_event_loop()\n",
    "\n",
    "        HANDLED_SIGNALS = (\n",
    "            signal.SIGINT,  # Unix signal 2. Sent by Ctrl+C.\n",
    "            signal.SIGTERM,  # Unix signal 15. Sent by `kill <pid>`.\n",
    "        )\n",
    "        \n",
    "        def handle_exit(sig: int) -> None:\n",
    "            self.should_exit = True\n",
    "        \n",
    "        for sig in HANDLED_SIGNALS:\n",
    "            loop.add_signal_handler(sig, handle_exit, sig)\n",
    "            \n",
    "            \n",
    "    async def _main_loop(self) -> None:\n",
    "        while not self.should_exit:\n",
    "            await asyncio.sleep(0.1)"
   ]
  },
  {
   "cell_type": "code",
   "execution_count": null,
   "id": "c8809f03",
   "metadata": {},
   "outputs": [
    {
     "name": "stdout",
     "output_type": "stream",
     "text": [
      "[INFO] fastkafka._components.asyncapi: Old async specifications at '/tmp/tmpymzjpnnx/asyncapi/spec/asyncapi.yml' does not exist.\n",
      "[INFO] fastkafka._components.asyncapi: New async specifications generated at: '/tmp/tmpymzjpnnx/asyncapi/spec/asyncapi.yml'\n",
      "[INFO] fastkafka._components.aiokafka_consumer_loop: aiokafka_consumer_loop() starting...\n",
      "[INFO] fastkafka._components.aiokafka_consumer_loop: aiokafka_consumer_loop(): Consumer created using the following parameters: {'bootstrap_servers': 'tvrtko-fastkafka-kafka-1:9092', 'group_id': 'tvrtko-fastkafka-kafka-1:9092_group', 'auto_offset_reset': 'earliest', 'max_poll_records': 100}\n",
      "[INFO] fastkafka._components.aiokafka_consumer_loop: aiokafka_consumer_loop() starting...\n",
      "[INFO] fastkafka._components.aiokafka_consumer_loop: aiokafka_consumer_loop(): Consumer created using the following parameters: {'bootstrap_servers': 'tvrtko-fastkafka-kafka-1:9092', 'group_id': 'tvrtko-fastkafka-kafka-1:9092_group', 'auto_offset_reset': 'earliest', 'max_poll_records': 100}\n",
      "[INFO] fastkafka._components.aiokafka_consumer_loop: aiokafka_consumer_loop(): Consumer started.\n",
      "[INFO] aiokafka.consumer.subscription_state: Updating subscribed topics to: frozenset({'training_data'})\n",
      "[INFO] aiokafka.consumer.consumer: Subscribed to topic(s): {'training_data'}\n",
      "[INFO] fastkafka._components.aiokafka_consumer_loop: aiokafka_consumer_loop(): Consumer subscribed.\n",
      "[INFO] fastkafka._components.aiokafka_consumer_loop: aiokafka_consumer_loop(): Consumer started.\n",
      "[INFO] aiokafka.consumer.subscription_state: Updating subscribed topics to: frozenset({'realitime_data'})\n",
      "[INFO] aiokafka.consumer.consumer: Subscribed to topic(s): {'realitime_data'}\n",
      "[INFO] fastkafka._components.aiokafka_consumer_loop: aiokafka_consumer_loop(): Consumer subscribed.\n",
      "[INFO] aiokafka.consumer.group_coordinator: Discovered coordinator 1003 for group tvrtko-fastkafka-kafka-1:9092_group\n",
      "[INFO] aiokafka.consumer.group_coordinator: Revoking previously assigned partitions set() for group tvrtko-fastkafka-kafka-1:9092_group\n",
      "[INFO] aiokafka.consumer.group_coordinator: (Re-)joining group tvrtko-fastkafka-kafka-1:9092_group\n",
      "[INFO] aiokafka.consumer.group_coordinator: Discovered coordinator 1003 for group tvrtko-fastkafka-kafka-1:9092_group\n",
      "[INFO] aiokafka.consumer.group_coordinator: Revoking previously assigned partitions set() for group tvrtko-fastkafka-kafka-1:9092_group\n",
      "[INFO] aiokafka.consumer.group_coordinator: (Re-)joining group tvrtko-fastkafka-kafka-1:9092_group\n",
      "[INFO] aiokafka.consumer.group_coordinator: Joined group 'tvrtko-fastkafka-kafka-1:9092_group' (generation 23) with member_id aiokafka-0.8.0-5bb092b5-31da-466d-a7d4-e4e6771f6db5\n",
      "[INFO] aiokafka.consumer.group_coordinator: Elected group leader -- performing partition assignments using roundrobin\n",
      "[INFO] aiokafka.consumer.group_coordinator: Joined group 'tvrtko-fastkafka-kafka-1:9092_group' (generation 24) with member_id aiokafka-0.8.0-ffd51fa0-d479-4602-bbf9-983604ecc6b9\n",
      "[INFO] aiokafka.consumer.group_coordinator: Elected group leader -- performing partition assignments using roundrobin\n",
      "[INFO] aiokafka.consumer.group_coordinator: LeaveGroup request succeeded\n",
      "[INFO] fastkafka._components.aiokafka_consumer_loop: aiokafka_consumer_loop(): Consumer stopped.\n",
      "[INFO] fastkafka._components.aiokafka_consumer_loop: aiokafka_consumer_loop() finished.\n",
      "[INFO] aiokafka.consumer.group_coordinator: Successfully synced group tvrtko-fastkafka-kafka-1:9092_group with generation 24\n",
      "[INFO] aiokafka.consumer.group_coordinator: Setting newly assigned partitions {TopicPartition(topic='training_data', partition=0)} for group tvrtko-fastkafka-kafka-1:9092_group\n",
      "[INFO] aiokafka.consumer.group_coordinator: LeaveGroup request succeeded\n",
      "[INFO] fastkafka._components.aiokafka_consumer_loop: aiokafka_consumer_loop(): Consumer stopped.\n",
      "[INFO] fastkafka._components.aiokafka_consumer_loop: aiokafka_consumer_loop() finished.\n"
     ]
    }
   ],
   "source": [
    "with TemporaryDirectory() as d:\n",
    "    src_path = Path(d) / \"main.py\"\n",
    "    generate_app_src(src_path)\n",
    "    with change_dir(d):\n",
    "        import_str = f\"{src_path.stem}:kafka_app\"\n",
    "        app = _import_from_string(import_str)\n",
    "        async with app:\n",
    "            sleep(1)\n",
    "        # Patch _main_loop to last x seconds, patch fastkafka \n",
    "        # startup and shutdown and assert startup and shutdown called"
   ]
  },
  {
   "cell_type": "code",
   "execution_count": null,
   "id": "a8f985e8",
   "metadata": {},
   "outputs": [],
   "source": [
    "#| export\n",
    "\n",
    "@contextmanager\n",
    "def run_fastkafka_server(app: FastKafka) -> Generator[None, None, None]:\n",
    "    app = app\n",
    "    \n",
    "    def run(app=app):\n",
    "        server = FastKafkaServer(app=app)\n",
    "        server.run()\n",
    "        \n",
    "    p = multiprocessing.Process(target=run)\n",
    "    try:\n",
    "        p.start()\n",
    "        yield\n",
    "    except Exception as e:\n",
    "        print(f\"Exception raised {e=}\")\n",
    "    finally:\n",
    "        p.terminate()\n",
    "        p.join()\n",
    "        p.close()\n"
   ]
  },
  {
   "cell_type": "code",
   "execution_count": null,
   "id": "15e90f39",
   "metadata": {},
   "outputs": [
    {
     "name": "stdout",
     "output_type": "stream",
     "text": [
      "[INFO] fastkafka._components.asyncapi: Old async specifications at '/tmp/tmp9tmixebw/asyncapi/spec/asyncapi.yml' does not exist.\n",
      "[INFO] fastkafka._components.asyncapi: Old async specifications at '/tmp/tmp9tmixebw/asyncapi/spec/asyncapi.yml' does not exist.\n",
      "[INFO] fastkafka._components.asyncapi: New async specifications generated at: '/tmp/tmp9tmixebw/asyncapi/spec/asyncapi.yml'\n"
     ]
    },
    {
     "name": "stderr",
     "output_type": "stream",
     "text": [
      "Process Process-3:\n",
      "Traceback (most recent call last):\n",
      "  File \"/usr/lib/python3.10/multiprocessing/process.py\", line 314, in _bootstrap\n",
      "    self.run()\n",
      "  File \"/usr/lib/python3.10/multiprocessing/process.py\", line 108, in run\n",
      "    self._target(*self._args, **self._kwargs)\n",
      "  File \"/tmp/ipykernel_881/1447747746.py\", line 9, in run\n",
      "    server.run()\n",
      "  File \"/tmp/ipykernel_881/378879156.py\", line 11, in run\n",
      "    return asyncio.run(self._serve())\n",
      "  File \"/usr/lib/python3.10/asyncio/runners.py\", line 44, in run\n",
      "    return loop.run_until_complete(main)\n",
      "  File \"/usr/lib/python3.10/asyncio/base_events.py\", line 646, in run_until_complete\n",
      "    return future.result()\n",
      "  File \"/tmp/ipykernel_881/378879156.py\", line 17, in _serve\n",
      "    await self.app.startup()\n",
      "  File \"/work/fastkafka/fastkafka/application.py\", line 1395, in startup\n",
      "    await self._populate_producers()\n",
      "  File \"/work/fastkafka/fastkafka/application.py\", line 1327, in _populate_producers\n",
      "    self._producers_store = {\n",
      "  File \"/work/fastkafka/fastkafka/application.py\", line 1330, in <dictcomp>\n",
      "    await _create_producer(\n",
      "  File \"/work/fastkafka/fastkafka/application.py\", line 1305, in _create_producer\n",
      "    await producer.start()\n",
      "AssertionError: Please create objects with the same loop as running with\n",
      "  File \"/home/tvrtko/.local/lib/python3.10/site-packages/aiokafka/producer/producer.py\", line 303, in start\n",
      "    assert self._loop is get_running_loop(), (\n"
     ]
    },
    {
     "name": "stdout",
     "output_type": "stream",
     "text": [
      "[INFO] fastkafka._components.asyncapi: Keeping the old async specifications at: '/tmp/tmp9tmixebw/asyncapi/spec/asyncapi.yml'\n"
     ]
    },
    {
     "name": "stderr",
     "output_type": "stream",
     "text": [
      "Process Process-4:\n",
      "Traceback (most recent call last):\n",
      "  File \"/usr/lib/python3.10/multiprocessing/process.py\", line 314, in _bootstrap\n",
      "    self.run()\n",
      "  File \"/usr/lib/python3.10/multiprocessing/process.py\", line 108, in run\n",
      "    self._target(*self._args, **self._kwargs)\n",
      "  File \"/tmp/ipykernel_881/1447747746.py\", line 9, in run\n",
      "    server.run()\n",
      "  File \"/tmp/ipykernel_881/378879156.py\", line 11, in run\n",
      "    return asyncio.run(self._serve())\n",
      "  File \"/usr/lib/python3.10/asyncio/runners.py\", line 44, in run\n",
      "    return loop.run_until_complete(main)\n",
      "  File \"/usr/lib/python3.10/asyncio/base_events.py\", line 646, in run_until_complete\n",
      "    return future.result()\n",
      "  File \"/tmp/ipykernel_881/378879156.py\", line 17, in _serve\n",
      "    await self.app.startup()\n",
      "  File \"/work/fastkafka/fastkafka/application.py\", line 1395, in startup\n",
      "    await self._populate_producers()\n",
      "  File \"/work/fastkafka/fastkafka/application.py\", line 1327, in _populate_producers\n",
      "    self._producers_store = {\n",
      "  File \"/work/fastkafka/fastkafka/application.py\", line 1330, in <dictcomp>\n",
      "    await _create_producer(\n",
      "  File \"/work/fastkafka/fastkafka/application.py\", line 1305, in _create_producer\n",
      "    await producer.start()\n",
      "  File \"/home/tvrtko/.local/lib/python3.10/site-packages/aiokafka/producer/producer.py\", line 303, in start\n",
      "    assert self._loop is get_running_loop(), (\n",
      "AssertionError: Please create objects with the same loop as running with\n"
     ]
    }
   ],
   "source": [
    "with TemporaryDirectory() as d:\n",
    "    src_path = Path(d) / \"main.py\"\n",
    "    generate_app_src(src_path)\n",
    "    with change_dir(d):\n",
    "        import_str = f\"{src_path.stem}:kafka_app\"\n",
    "        app = _import_from_string(import_str)\n",
    "        with run_fastkafka_server(app), run_fastkafka_server(app):\n",
    "            sleep(10)"
   ]
  },
  {
   "cell_type": "code",
   "execution_count": null,
   "id": "093b4979",
   "metadata": {},
   "outputs": [],
   "source": []
  }
 ],
 "metadata": {
  "kernelspec": {
   "display_name": "Python 3 (ipykernel)",
   "language": "python",
   "name": "python3"
  }
 },
 "nbformat": 4,
 "nbformat_minor": 5
}

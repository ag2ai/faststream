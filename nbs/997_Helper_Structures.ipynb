{
 "cells": [
  {
   "cell_type": "code",
   "execution_count": 1,
   "id": "2934706f",
   "metadata": {},
   "outputs": [],
   "source": [
    "# | default_exp _components.helper_structs"
   ]
  },
  {
   "cell_type": "code",
   "execution_count": 2,
   "id": "66b86144",
   "metadata": {},
   "outputs": [],
   "source": [
    "# | export \n",
    "\n",
    "import asyncio\n",
    "from asyncio import Task\n",
    "from contextlib import asynccontextmanager\n",
    "import anyio\n",
    "from typing import Set, AsyncGenerator, Callable"
   ]
  },
  {
   "cell_type": "code",
   "execution_count": 3,
   "id": "777beaa2",
   "metadata": {},
   "outputs": [],
   "source": [
    "from anyio import create_task_group, create_memory_object_stream\n",
    "from unittest.mock import Mock, MagicMock\n",
    "import asyncer\n",
    "from pydantic import BaseModel, Field, HttpUrl, NonNegativeInt\n",
    "from aiokafka import ConsumerRecord, TopicPartition"
   ]
  },
  {
   "cell_type": "code",
   "execution_count": 4,
   "id": "4b255e4f",
   "metadata": {},
   "outputs": [],
   "source": [
    "# | export\n",
    "\n",
    "class TaskPool():\n",
    "    \n",
    "    def __init__(self, pool_size: int = 100_000):\n",
    "        self.pool_size = pool_size\n",
    "        self.pool: Set[Task] = set()\n",
    "        \n",
    "    async def add(self, item: Task) -> None:\n",
    "        while len(self.pool) >= self.pool_size:\n",
    "            await asyncio.sleep(0.1)\n",
    "        self.pool.add(item)\n",
    "        item.add_done_callback(self.pool.discard)\n",
    "        \n",
    "    def __len__(self) -> int:\n",
    "        return len(self.pool)   "
   ]
  },
  {
   "cell_type": "code",
   "execution_count": 5,
   "id": "ce06ffff",
   "metadata": {},
   "outputs": [],
   "source": [
    "# | export\n",
    "\n",
    "@asynccontextmanager\n",
    "async def pool_guard(pool: TaskPool) -> AsyncGenerator[TaskPool, None]:\n",
    "    try:\n",
    "        yield pool\n",
    "    finally:\n",
    "        while len(pool) > 0:\n",
    "            await asyncio.sleep(1)"
   ]
  },
  {
   "cell_type": "code",
   "execution_count": 6,
   "id": "b0625abf",
   "metadata": {},
   "outputs": [
    {
     "name": "stdout",
     "output_type": "stream",
     "text": [
      "<Task finished name='Task-5' coro=<f() done, defined at /tmp/ipykernel_691689/1873161791.py:1> result=None>\n"
     ]
    }
   ],
   "source": [
    "async def f():\n",
    "    await asyncio.sleep(5)\n",
    "\n",
    "pool = TaskPool()\n",
    "assert len(pool) == 0\n",
    "\n",
    "async with pool_guard(pool):\n",
    "    task = asyncio.create_task(f())\n",
    "    await pool.add(task)\n",
    "    task.add_done_callback(print)\n",
    "    assert len(pool) == 1\n",
    "    \n",
    "\n",
    "assert len(pool) == 0, len(pool)"
   ]
  },
  {
   "cell_type": "code",
   "execution_count": 7,
   "id": "f931de1e",
   "metadata": {},
   "outputs": [
    {
     "name": "stderr",
     "output_type": "stream",
     "text": [
      "Exception in callback <lambda>(<Task finishe...untimeError()>) at /tmp/ipykernel_691689/1509985980.py:11\n",
      "handle: <Handle <lambda>(<Task finishe...untimeError()>) at /tmp/ipykernel_691689/1509985980.py:11>\n",
      "Traceback (most recent call last):\n",
      "  File \"/usr/lib/python3.11/asyncio/events.py\", line 80, in _run\n",
      "    self._context.run(self._callback, *self._args)\n",
      "  File \"/tmp/ipykernel_691689/1509985980.py\", line 11, in <lambda>\n",
      "    task.add_done_callback(lambda task: task.result())\n",
      "                                        ^^^^^^^^^^^^^\n",
      "  File \"/tmp/ipykernel_691689/1509985980.py\", line 3, in f\n",
      "    raise RuntimeError\n",
      "RuntimeError\n"
     ]
    },
    {
     "name": "stdout",
     "output_type": "stream",
     "text": [
      "This should not print\n"
     ]
    }
   ],
   "source": [
    "async def f():\n",
    "    await asyncio.sleep(5)\n",
    "    raise RuntimeError\n",
    "\n",
    "pool = TaskPool()\n",
    "assert len(pool) == 0\n",
    "\n",
    "async with pool_guard(pool):\n",
    "    task = asyncio.create_task(f())\n",
    "    await pool.add(task)\n",
    "    task.add_done_callback(lambda task: task.result())\n",
    "    assert len(pool) == 1\n",
    "    \n",
    "\n",
    "assert len(pool) == 0, len(pool)\n",
    "print(\"This should not print\")"
   ]
  },
  {
   "cell_type": "code",
   "execution_count": 8,
   "id": "8ac5c907",
   "metadata": {},
   "outputs": [],
   "source": [
    "mock = Mock()\n",
    "async_mock = asyncer.asyncify(mock)\n",
    "\n",
    "\n",
    "async def process_items(receive_stream):\n",
    "    async with receive_stream:\n",
    "        async for item in receive_stream:\n",
    "            task = asyncio.create_task(async_mock(item))\n",
    "            await pool.add(task)\n",
    "\n",
    "\n",
    "send_stream, receive_stream = create_memory_object_stream()\n",
    "\n",
    "async with pool_guard(pool):\n",
    "    async with create_task_group() as tg:\n",
    "        tg.start_soon(process_items, receive_stream)\n",
    "        async with send_stream:\n",
    "            await send_stream.send(f\"hi\")\n",
    "\n",
    "mock.assert_called()"
   ]
  },
  {
   "cell_type": "code",
   "execution_count": 19,
   "id": "4fa7d6b8",
   "metadata": {},
   "outputs": [
    {
     "name": "stdout",
     "output_type": "stream",
     "text": [
      "ok\n"
     ]
    }
   ],
   "source": [
    "def is_shutting_down_f(mock_func: Mock, num_calls: int = 1) -> Callable[[], bool]:\n",
    "    def _is_shutting_down_f():\n",
    "        return mock_func.call_count == num_calls\n",
    "\n",
    "    return _is_shutting_down_f\n",
    "\n",
    "msgs = {TopicPartition(\"topic\", 0): [\"record\"]}\n",
    "\n",
    "f = asyncio.Future()\n",
    "f.set_result(msgs)\n",
    "mock_consumer = MagicMock()\n",
    "mock_consumer.configure_mock(**{\"getmany.return_value\": f})\n",
    "mock_callback = Mock()\n",
    "\n",
    "shutting_down = is_shutting_down_f(mock_consumer.getmany)\n",
    "\n",
    "# async def async_mock(item):\n",
    "#     mock(item)\n",
    "\n",
    "async_mock = asyncer.asyncify(mock_callback)\n",
    "\n",
    "async def process_items(receive_stream):\n",
    "    async with receive_stream:\n",
    "        async for item in receive_stream:\n",
    "            task = asyncio.create_task(async_mock(item))\n",
    "            await pool.add(task)\n",
    "\n",
    "\n",
    "send_stream, receive_stream = create_memory_object_stream()\n",
    "\n",
    "async with create_task_group() as tg:\n",
    "    tg.start_soon(process_items, receive_stream)\n",
    "    async with pool_guard(pool), send_stream:\n",
    "        while not shutting_down():\n",
    "            msgs = await mock_consumer.getmany()\n",
    "            await send_stream.send(msgs.values())\n",
    "\n",
    "mock.assert_called()\n",
    "\n",
    "print(\"ok\")"
   ]
  },
  {
   "cell_type": "code",
   "execution_count": 13,
   "id": "117f6226",
   "metadata": {},
   "outputs": [
    {
     "data": {
      "text/plain": [
       "<Future finished result={TopicPartitio..., partition=0): ['record']}>"
      ]
     },
     "execution_count": 13,
     "metadata": {},
     "output_type": "execute_result"
    }
   ],
   "source": [
    "mock_consumer.getmany()"
   ]
  },
  {
   "cell_type": "code",
   "execution_count": null,
   "id": "f2d56403",
   "metadata": {},
   "outputs": [],
   "source": []
  }
 ],
 "metadata": {
  "kernelspec": {
   "display_name": "Python 3 (ipykernel)",
   "language": "python",
   "name": "python3"
  },
  "language_info": {
   "codemirror_mode": {
    "name": "ipython",
    "version": 3
   },
   "file_extension": ".py",
   "mimetype": "text/x-python",
   "name": "python",
   "nbconvert_exporter": "python",
   "pygments_lexer": "ipython3",
   "version": "3.11.2"
  }
 },
 "nbformat": 4,
 "nbformat_minor": 5
}

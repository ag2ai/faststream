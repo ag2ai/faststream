{
 "cells": [
  {
   "cell_type": "code",
   "execution_count": null,
   "id": "79dfbe1f",
   "metadata": {},
   "outputs": [],
   "source": [
    "# | default_exp _components.aiokafka_loop"
   ]
  },
  {
   "cell_type": "code",
   "execution_count": null,
   "id": "0aaf843a",
   "metadata": {},
   "outputs": [],
   "source": [
    "# | export\n",
    "from typing import *\n",
    "\n",
    "from os import environ\n",
    "import asyncio\n",
    "\n",
    "from aiokafka import AIOKafkaConsumer\n",
    "\n",
    "from fast_kafka_api.logger import get_logger\n",
    "from fast_kafka_api.testing import true_after, create_and_fill_testing_topic"
   ]
  },
  {
   "cell_type": "code",
   "execution_count": null,
   "id": "d0e9e4c9",
   "metadata": {},
   "outputs": [],
   "source": [
    "# | eval: false\n",
    "# allows async calls in notebooks\n",
    "\n",
    "import nest_asyncio\n",
    "nest_asyncio.apply()"
   ]
  },
  {
   "cell_type": "code",
   "execution_count": null,
   "id": "af85a823",
   "metadata": {},
   "outputs": [],
   "source": [
    "# | export\n",
    "\n",
    "logger = get_logger(__name__)"
   ]
  },
  {
   "cell_type": "code",
   "execution_count": null,
   "id": "92feb585",
   "metadata": {},
   "outputs": [],
   "source": [
    "logger = get_logger(__name__, level=20)\n",
    "logger.debug(\"ok\")"
   ]
  },
  {
   "cell_type": "code",
   "execution_count": null,
   "id": "95a41c38",
   "metadata": {},
   "outputs": [],
   "source": [
    "kafka_server_url = environ[\"KAFKA_HOSTNAME\"]\n",
    "kafka_server_port = environ[\"KAFKA_PORT\"]\n",
    "\n",
    "kafka_config = {\n",
    "    \"bootstrap.servers\": f\"{kafka_server_url}:{kafka_server_port}\",\n",
    "    \"group.id\": f\"{kafka_server_url}:{kafka_server_port}_group\"\n",
    "}"
   ]
  },
  {
   "cell_type": "code",
   "execution_count": null,
   "id": "e365c430",
   "metadata": {},
   "outputs": [
    {
     "name": "stdout",
     "output_type": "stream",
     "text": [
      "22-12-14 09:56:38.375 [INFO] fast_kafka_api.testing: create_missing_topics(['my_topic_9611984893']): new_topics = [NewTopic(topic=my_topic_9611984893,num_partitions=3)]\n"
     ]
    },
    {
     "name": "stderr",
     "output_type": "stream",
     "text": [
      "%4|1671011798.369|CONFWARN|rdkafka#producer-2| [thrd:app]: Configuration property group.id is a consumer property and will be ignored by this producer instance\n"
     ]
    },
    {
     "name": "stdout",
     "output_type": "stream",
     "text": [
      "22-12-14 09:56:39.382 [INFO] fast_kafka_api.testing: Producer <aiokafka.producer.producer.AIOKafkaProducer object> created.\n",
      "22-12-14 09:56:39.405 [INFO] fast_kafka_api.testing: Producer <aiokafka.producer.producer.AIOKafkaProducer object> stared.\n",
      "22-12-14 09:56:39.925 [INFO] fast_kafka_api.testing: Sent messages: len(sent_msgs)=317\n",
      "22-12-14 09:56:39.926 [INFO] aiokafka.consumer.subscription_state: Updating subscribed topics to: frozenset({'my_topic_9611984893'})\n",
      "22-12-14 09:56:39.926 [INFO] __main__: Consumer <aiokafka.consumer.consumer.AIOKafkaConsumer object> created.\n",
      "22-12-14 09:56:39.938 [INFO] aiokafka.consumer.group_coordinator: Metadata for topic has changed from {} to {'my_topic_9611984893': 3}. \n",
      "22-12-14 09:56:39.946 [INFO] __main__: Consumer <aiokafka.consumer.consumer.AIOKafkaConsumer object> started.\n",
      "total received: 100\n",
      "total received: 112\n",
      "total received: 212\n",
      "total received: 223\n",
      "total received: 317\n",
      "Total messages received: 317\n",
      "22-12-14 09:56:43.389 [INFO] __main__: Consumer <aiokafka.consumer.consumer.AIOKafkaConsumer object> stopped.\n",
      "22-12-14 09:56:43.392 [INFO] fast_kafka_api.testing: Producer <aiokafka.producer.producer.AIOKafkaProducer object> stoped.\n"
     ]
    }
   ],
   "source": [
    "async def test_create_and_fill_testing_topic(\n",
    "    *,\n",
    "    kafka_config: Dict[str, str] = kafka_config,\n",
    "    is_shutting_down_f: Optional[Callable[[], bool]] = None,\n",
    "    seed: int = 42,\n",
    "):\n",
    "    msgs_sent = 317\n",
    "    msgs = [f\"Hello world {i:05d}\".encode(\"utf-8\") for i in range(msgs_sent)]\n",
    "    \n",
    "    async with create_and_fill_testing_topic(msgs, seed=seed) as topic:\n",
    "        consumer = AIOKafkaConsumer(\n",
    "            topic,\n",
    "            bootstrap_servers=kafka_config[\"bootstrap.servers\"],\n",
    "            auto_offset_reset=\"earliest\",\n",
    "            max_poll_records=100,\n",
    "        )\n",
    "        logger.info(f\"Consumer {consumer} created.\")\n",
    "        await consumer.start()\n",
    "        logger.info(f\"Consumer {consumer} started.\")\n",
    "        msgs_received = 0\n",
    "        try:\n",
    "            while True:\n",
    "                msgs = await consumer.getmany(timeout_ms=100)\n",
    "                for k, v in msgs.items():\n",
    "                    msgs_received = msgs_received + len(v)\n",
    "                    if len(v) > 0:\n",
    "                        print(f\"total received: {msgs_received}\")\n",
    "                if is_shutting_down_f and is_shutting_down_f():\n",
    "                    break\n",
    "                    \n",
    "        finally:\n",
    "            assert msgs_received == msgs_sent\n",
    "            print(f\"Total messages received: {msgs_received}\")\n",
    "            await consumer.stop()\n",
    "            logger.info(f\"Consumer {consumer} stopped.\")\n",
    "\n",
    "\n",
    "# asyncio.run(test_create_and_produce_testing_topic())\n",
    "await test_create_and_fill_testing_topic(is_shutting_down_f=true_after(5), seed=3)"
   ]
  },
  {
   "cell_type": "code",
   "execution_count": null,
   "id": "aeaf0d5f",
   "metadata": {},
   "outputs": [],
   "source": []
  }
 ],
 "metadata": {
  "kernelspec": {
   "display_name": "Python 3 (ipykernel)",
   "language": "python",
   "name": "python3"
  }
 },
 "nbformat": 4,
 "nbformat_minor": 5
}

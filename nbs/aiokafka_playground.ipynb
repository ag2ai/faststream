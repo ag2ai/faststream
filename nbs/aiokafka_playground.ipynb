{
 "cells": [
  {
   "cell_type": "code",
   "execution_count": null,
   "id": "79dfbe1f",
   "metadata": {},
   "outputs": [],
   "source": [
    "# | default_exp _components.aiokafka_loop"
   ]
  },
  {
   "cell_type": "code",
   "execution_count": null,
   "id": "0aaf843a",
   "metadata": {},
   "outputs": [],
   "source": [
    "# | export\n",
    "\n",
    "from typing import *\n",
    "\n",
    "from os import environ\n",
    "import asyncio\n",
    "from contextlib import asynccontextmanager, contextmanager\n",
    "\n",
    "import aiokafka\n",
    "\n",
    "from fast_kafka_api.confluent_kafka import create_testing_topic\n",
    "from fast_kafka_api.logger import get_logger"
   ]
  },
  {
   "cell_type": "code",
   "execution_count": null,
   "id": "77293690",
   "metadata": {},
   "outputs": [],
   "source": [
    "from fast_kafka_api.testing import true_after"
   ]
  },
  {
   "cell_type": "code",
   "execution_count": null,
   "id": "d0e9e4c9",
   "metadata": {},
   "outputs": [],
   "source": [
    "import nest_asyncio\n",
    "\n",
    "nest_asyncio.apply()"
   ]
  },
  {
   "cell_type": "code",
   "execution_count": null,
   "id": "af85a823",
   "metadata": {},
   "outputs": [],
   "source": [
    "# | export\n",
    "\n",
    "logger = get_logger(__name__)"
   ]
  },
  {
   "cell_type": "code",
   "execution_count": null,
   "id": "92feb585",
   "metadata": {},
   "outputs": [],
   "source": [
    "logger = get_logger(__name__, level=20)\n",
    "logger.debug(\"ok\")"
   ]
  },
  {
   "cell_type": "code",
   "execution_count": null,
   "id": "ac3735b3",
   "metadata": {},
   "outputs": [],
   "source": []
  },
  {
   "cell_type": "code",
   "execution_count": null,
   "id": "95a41c38",
   "metadata": {},
   "outputs": [],
   "source": [
    "kafka_server_url = environ[\"KAFKA_HOSTNAME\"]\n",
    "kafka_server_port = environ[\"KAFKA_PORT\"]\n",
    "\n",
    "kafka_config = {\n",
    "    \"bootstrap.servers\": f\"{kafka_server_url}:{kafka_server_port}\",\n",
    "    \"group.id\": f\"{kafka_server_url}:{kafka_server_port}_group\",  # ToDo: Figure out msg deletion from kafka after consuming once\n",
    "    \"auto.offset.reset\": \"earliest\",\n",
    "}"
   ]
  },
  {
   "cell_type": "code",
   "execution_count": null,
   "id": "ef26d87c",
   "metadata": {},
   "outputs": [],
   "source": [
    "# | export\n",
    "\n",
    "\n",
    "@asynccontextmanager\n",
    "async def create_and_produce_testing_topic(\n",
    "    msgs: List[bytes], kafka_config: Dict[str, str] = kafka_config, *, seed: int = 42\n",
    ") -> str:\n",
    "\n",
    "    with create_testing_topic(kafka_config, \"my_topic_\", seed=seed) as (topic, _, _):\n",
    "\n",
    "        producer = aiokafka.AIOKafkaProducer(\n",
    "            bootstrap_servers=kafka_config[\"bootstrap.servers\"]\n",
    "        )\n",
    "        logger.info(f\"Producer {producer} created.\")\n",
    "\n",
    "        await producer.start()\n",
    "        logger.info(f\"Producer {producer} stared.\")\n",
    "        try:\n",
    "            fx = [\n",
    "                producer.send_and_wait(topic, msg, key=f\"{i % 17}\".encode(\"utf-8\"), )\n",
    "                for i, msg in enumerate(msgs)\n",
    "            ]\n",
    "            await producer.flush()\n",
    "            sent_msgs = [await f for f in fx]\n",
    "            logger.info(f\"Sent messages: {len(sent_msgs)=}\")\n",
    "\n",
    "            yield topic\n",
    "        finally:\n",
    "            await producer.stop()\n",
    "            logger.info(f\"Producer {producer} stoped.\")"
   ]
  },
  {
   "cell_type": "code",
   "execution_count": null,
   "id": "e365c430",
   "metadata": {},
   "outputs": [
    {
     "name": "stdout",
     "output_type": "stream",
     "text": [
      "[INFO] fast_kafka_api.confluent_kafka: create_missing_topics(['my_topic_vcegeuwpbc']): new_topics = [NewTopic(topic=my_topic_vcegeuwpbc,num_partitions=3)]\n"
     ]
    },
    {
     "name": "stderr",
     "output_type": "stream",
     "text": [
      "%4|1670943129.522|CONFWARN|rdkafka#producer-10| [thrd:app]: Configuration property group.id is a consumer property and will be ignored by this producer instance\n",
      "%4|1670943129.522|CONFWARN|rdkafka#producer-10| [thrd:app]: Configuration property auto.offset.reset is a consumer property and will be ignored by this producer instance\n"
     ]
    },
    {
     "name": "stdout",
     "output_type": "stream",
     "text": [
      "[INFO] __main__: Producer <aiokafka.producer.producer.AIOKafkaProducer object> created.\n",
      "[INFO] __main__: Producer <aiokafka.producer.producer.AIOKafkaProducer object> stared.\n"
     ]
    },
    {
     "name": "stderr",
     "output_type": "stream",
     "text": [
      "%4|1670943130.642|CONFWARN|rdkafka#producer-12| [thrd:app]: Configuration property group.id is a consumer property and will be ignored by this producer instance\n",
      "%4|1670943130.642|CONFWARN|rdkafka#producer-12| [thrd:app]: Configuration property auto.offset.reset is a consumer property and will be ignored by this producer instance\n"
     ]
    },
    {
     "name": "stdout",
     "output_type": "stream",
     "text": [
      "[INFO] __main__: Sent messages: len(sent_msgs)=317\n",
      "[INFO] aiokafka.consumer.subscription_state: Updating subscribed topics to: frozenset({'my_topic_vcegeuwpbc'})\n",
      "[INFO] __main__: Consumer <aiokafka.consumer.consumer.AIOKafkaConsumer object> created.\n",
      "[INFO] aiokafka.consumer.group_coordinator: Metadata for topic has changed from {} to {'my_topic_vcegeuwpbc': 3}. \n",
      "[INFO] __main__: Consumer <aiokafka.consumer.consumer.AIOKafkaConsumer object> started.\n",
      "total received: 100\n",
      "total received: 112\n",
      "total received: 212\n",
      "total received: 223\n",
      "total received: 317\n",
      "Total messages received: 317\n",
      "[INFO] __main__: Consumer <aiokafka.consumer.consumer.AIOKafkaConsumer object> stopped.\n",
      "[INFO] __main__: Producer <aiokafka.producer.producer.AIOKafkaProducer object> stoped.\n",
      "[INFO] fast_kafka_api.confluent_kafka: Topic 'my_topic_vcegeuwpbc' deleted.\n"
     ]
    }
   ],
   "source": [
    "async def test_create_and_produce_testing_topic(\n",
    "    *,\n",
    "    kafka_config: Dict[str, str] = kafka_config,\n",
    "    is_shutting_down_f: Optional[Callable[[], bool]] = None,\n",
    "    seed: int = 42,\n",
    "):\n",
    "    msgs_sent = 317\n",
    "    msgs = [f\"Hello world {i:05d}\".encode(\"utf-8\") for i in range(msgs_sent)]\n",
    "    \n",
    "    async with create_and_produce_testing_topic(msgs, seed=seed) as topic:\n",
    "        consumer = aiokafka.AIOKafkaConsumer(\n",
    "            topic,\n",
    "            bootstrap_servers=kafka_config[\"bootstrap.servers\"],\n",
    "            auto_offset_reset=\"earliest\",\n",
    "            max_poll_records=100,\n",
    "        )\n",
    "        logger.info(f\"Consumer {consumer} created.\")\n",
    "        await consumer.start()\n",
    "        logger.info(f\"Consumer {consumer} started.\")\n",
    "        msgs_received = 0\n",
    "        try:\n",
    "            while True:\n",
    "                msgs = await consumer.getmany(timeout_ms=100)\n",
    "                for k, v in msgs.items():\n",
    "                    msgs_received = msgs_received + len(v)\n",
    "                    if len(v) > 0:\n",
    "                        print(f\"total received: {msgs_received}\")\n",
    "#                     for msg in v:\n",
    "#                         print(\n",
    "#                             \"topic={}   partition{:03d}   offset={:05d}   key={:5s}   value={} timestamp_ms={}\".format(\n",
    "#                                 msg.topic,\n",
    "#                                 msg.partition,\n",
    "#                                 msg.offset,\n",
    "#                                 msg.key.decode(\"utf-8\"),\n",
    "#                                 msg.value,\n",
    "#                                 msg.timestamp,\n",
    "#                             )\n",
    "#                         )\n",
    "                if is_shutting_down_f and is_shutting_down_f():\n",
    "                    break\n",
    "                    \n",
    "        finally:\n",
    "            assert msgs_received == msgs_sent\n",
    "            print(f\"Total messages received: {msgs_received}\")\n",
    "            await consumer.stop()\n",
    "            logger.info(f\"Consumer {consumer} stopped.\")\n",
    "\n",
    "\n",
    "# asyncio.run(test_create_and_produce_testing_topic())\n",
    "await test_create_and_produce_testing_topic(is_shutting_down_f=true_after(5), seed=3)"
   ]
  },
  {
   "cell_type": "code",
   "execution_count": null,
   "id": "aeaf0d5f",
   "metadata": {},
   "outputs": [],
   "source": []
  }
 ],
 "metadata": {
  "kernelspec": {
   "display_name": "Python 3 (ipykernel)",
   "language": "python",
   "name": "python3"
  }
 },
 "nbformat": 4,
 "nbformat_minor": 5
}

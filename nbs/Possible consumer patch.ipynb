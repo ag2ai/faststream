{
 "cells": [
  {
   "cell_type": "code",
   "execution_count": null,
   "id": "e62057ba",
   "metadata": {},
   "outputs": [],
   "source": [
    "import anyio\n",
    "from tqdm.notebook import tqdm\n",
    "import asyncio"
   ]
  },
  {
   "cell_type": "code",
   "execution_count": null,
   "id": "25fe751b",
   "metadata": {},
   "outputs": [],
   "source": [
    "# | notest\n",
    "\n",
    "num_msgs = 10_000_000\n",
    "\n",
    "send_pbar = tqdm(total=num_msgs)\n",
    "receive_pbar = tqdm(total=num_msgs*2)\n",
    "\n",
    "async def latency_task():\n",
    "    receive_pbar.update(1)\n",
    "    await asyncio.sleep(15)\n",
    "    receive_pbar.update(1)\n",
    "\n",
    "async def process_message_callback(\n",
    "        receive_stream,\n",
    ") -> None:\n",
    "    async with receive_stream:\n",
    "        async for msgs in receive_stream:\n",
    "            pass\n",
    "            #await msgs\n",
    "\n",
    "send_stream, receive_stream = anyio.create_memory_object_stream(\n",
    "    max_buffer_size=num_msgs\n",
    ")\n",
    "\n",
    "async with anyio.create_task_group() as tg:\n",
    "    tg.start_soon(process_message_callback, receive_stream)\n",
    "    async with send_stream:\n",
    "        for i in range(num_msgs):\n",
    "            await send_stream.send(latency_task())\n",
    "            send_pbar.update(1)\n",
    "            if i%1000 == 999:\n",
    "                send_pbar.refresh()"
   ]
  },
  {
   "cell_type": "code",
   "execution_count": null,
   "id": "bf7f2425",
   "metadata": {},
   "outputs": [
    {
     "data": {
      "application/vnd.jupyter.widget-view+json": {
       "model_id": "c59cbd6e0abe42b6865bb7ccb2c181ac",
       "version_major": 2,
       "version_minor": 0
      },
      "text/plain": [
       "  0%|          | 0/100 [00:00<?, ?it/s]"
      ]
     },
     "metadata": {},
     "output_type": "display_data"
    }
   ],
   "source": [
    "for i in tqdm(range(100)):\n",
    "    pass"
   ]
  },
  {
   "cell_type": "code",
   "execution_count": null,
   "id": "95f62ba8",
   "metadata": {},
   "outputs": [],
   "source": [
    "async def _streamed_records(\n",
    "    receive_stream,\n",
    "):\n",
    "    async for records_per_topic in receive_stream:\n",
    "        for records in records_per_topic:\n",
    "            for record in records:\n",
    "                yield record"
   ]
  },
  {
   "cell_type": "code",
   "execution_count": null,
   "id": "28452195",
   "metadata": {},
   "outputs": [],
   "source": [
    "# | notest\n",
    "\n",
    "num_msgs = 100_000\n",
    "\n",
    "send_pbar = tqdm(total=num_msgs)\n",
    "receive_pbar = tqdm(total=num_msgs*2)\n",
    "\n",
    "async def process_message_callback(\n",
    "        receive_stream,\n",
    ") -> None:\n",
    "    async with receive_stream:\n",
    "        async for msgs in _streamed_records(receive_stream):\n",
    "            receive_pbar.update(1)\n",
    "            await asyncio.sleep(15)\n",
    "\n",
    "send_stream, receive_stream = anyio.create_memory_object_stream(\n",
    "    max_buffer_size=num_msgs\n",
    ")\n",
    "\n",
    "async with anyio.create_task_group() as tg:\n",
    "    tg.start_soon(process_message_callback, receive_stream)\n",
    "    async with send_stream:\n",
    "        for i in range(num_msgs):\n",
    "            await send_stream.send([[\"Hello\"]*2])\n",
    "            send_pbar.update(1)\n",
    "            "
   ]
  },
  {
   "cell_type": "code",
   "execution_count": null,
   "id": "359fb149",
   "metadata": {},
   "outputs": [],
   "source": [
    "def callback(task):\n",
    "    print(task)\n",
    "#     print(task.exception())\n",
    "#     task.result()\n",
    "#     print(\"Done?\")\n",
    "\n",
    "async def throws_exception():\n",
    "    raise RuntimeError(\"My runtime error!\")\n",
    "    \n",
    "task = asyncio.create_task(throws_exception())\n",
    "task.add_done_callback(callback)"
   ]
  },
  {
   "cell_type": "markdown",
   "id": "7ac6be4e",
   "metadata": {},
   "source": [
    "### Task reference handling"
   ]
  },
  {
   "cell_type": "code",
   "execution_count": null,
   "id": "306f4dc9",
   "metadata": {},
   "outputs": [],
   "source": []
  },
  {
   "cell_type": "code",
   "execution_count": null,
   "id": "429d7882",
   "metadata": {},
   "outputs": [],
   "source": []
  },
  {
   "cell_type": "code",
   "execution_count": null,
   "id": "f825edd9",
   "metadata": {},
   "outputs": [],
   "source": []
  },
  {
   "cell_type": "code",
   "execution_count": null,
   "id": "0e64b767",
   "metadata": {},
   "outputs": [],
   "source": []
  }
 ],
 "metadata": {
  "kernelspec": {
   "display_name": "python3",
   "language": "python",
   "name": "python3"
  }
 },
 "nbformat": 4,
 "nbformat_minor": 5
}

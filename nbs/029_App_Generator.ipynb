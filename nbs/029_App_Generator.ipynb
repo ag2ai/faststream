{
 "cells": [
  {
   "cell_type": "code",
   "execution_count": null,
   "id": "21705b2f",
   "metadata": {},
   "outputs": [],
   "source": [
    "# | default_exp _code_generator.app_generator"
   ]
  },
  {
   "cell_type": "code",
   "execution_count": null,
   "id": "792d665d",
   "metadata": {},
   "outputs": [],
   "source": [
    "# | export\n",
    "\n",
    "from typing import *\n",
    "import time\n",
    "\n",
    "from yaspin import yaspin\n",
    "from fastkafka._components.logger import get_logger"
   ]
  },
  {
   "cell_type": "code",
   "execution_count": null,
   "id": "381bd805",
   "metadata": {},
   "outputs": [],
   "source": [
    "from fastkafka._components.logger import suppress_timestamps"
   ]
  },
  {
   "cell_type": "code",
   "execution_count": null,
   "id": "19863bab",
   "metadata": {},
   "outputs": [],
   "source": [
    "# | export\n",
    "\n",
    "logger = get_logger(__name__)"
   ]
  },
  {
   "cell_type": "code",
   "execution_count": null,
   "id": "2c0b5c72",
   "metadata": {},
   "outputs": [
    {
     "name": "stdout",
     "output_type": "stream",
     "text": [
      "[INFO] __main__: ok\n"
     ]
    }
   ],
   "source": [
    "suppress_timestamps()\n",
    "logger = get_logger(__name__, level=20)\n",
    "logger.info(\"ok\")"
   ]
  },
  {
   "cell_type": "code",
   "execution_count": null,
   "id": "550b5e67",
   "metadata": {},
   "outputs": [],
   "source": [
    "# | export\n",
    "\n",
    "SAMPLE_CODE = \"\"\"\n",
    "from pydantic import BaseModel, Field, NonNegativeFloat\n",
    "\n",
    "from fastkafka import FastKafka\n",
    "from fastkafka._components.logger import get_logger\n",
    "\n",
    "logger = get_logger(__name__)\n",
    "\n",
    "class Data(BaseModel):\n",
    "    data: NonNegativeFloat = Field(\n",
    "        ..., example=0.5, description=\"Float data example\"\n",
    "    )\n",
    "\n",
    "kafka_brokers = {\n",
    "    \"localhost\": {\n",
    "        \"url\": \"localhost\",\n",
    "        \"description\": \"local development kafka broker\",\n",
    "        \"port\": 9092,\n",
    "    },\n",
    "    \"production\": {\n",
    "        \"url\": \"kafka.airt.ai\",\n",
    "        \"description\": \"production kafka broker\",\n",
    "        \"port\": 9092,\n",
    "        \"protocol\": \"kafka-secure\",\n",
    "        \"security\": {\"type\": \"plain\"},\n",
    "    },\n",
    "}\n",
    "\n",
    "kafka_app = FastKafka(\n",
    "    title=\"Demo Kafka app\",\n",
    "    kafka_brokers=kafka_brokers,\n",
    ")\n",
    "\n",
    "@kafka_app.consumes(topic=\"input_data\", auto_offset_reset=\"latest\")\n",
    "async def on_input_data(msg: Data):\n",
    "    logger.info(f\"Got data: {msg.data}\")\n",
    "    await to_output_data(msg.data)\n",
    "\n",
    "\n",
    "@kafka_app.produces(topic=\"output_data\")\n",
    "async def to_output_data(data: float) -> Data:\n",
    "    processed_data = Data(data=data+1.0)\n",
    "    return processed_data\n",
    "\"\"\""
   ]
  },
  {
   "cell_type": "code",
   "execution_count": null,
   "id": "88d6fb9f",
   "metadata": {},
   "outputs": [],
   "source": [
    "# | export\n",
    "\n",
    "def generate_app(plan: str) -> str:\n",
    "    \"\"\"Generate code for the new FastKafka app from the validated plan\n",
    "    \n",
    "    Args:\n",
    "        plan: The plan generated from the user's application description\n",
    "        \n",
    "    Returns:\n",
    "        The generated FastKafka code\n",
    "    \"\"\"\n",
    "    # TODO: Implement the actual functionality\n",
    "    with yaspin(text=\"Generating FastKafka app...\", color=\"cyan\", spinner=\"clock\") as sp:\n",
    "\n",
    "        time.sleep(3)\n",
    "        sp.text = \"\"\n",
    "        sp.ok(\" ✔ FastKafka app generated and saved at: /some_dir/application.py\")\n",
    "        return SAMPLE_CODE"
   ]
  },
  {
   "cell_type": "code",
   "execution_count": null,
   "id": "ad577186",
   "metadata": {},
   "outputs": [
    {
     "name": "stdout",
     "output_type": "stream",
     "text": [
      "⠹ Generating FastKafka app... "
     ]
    },
    {
     "name": "stderr",
     "output_type": "stream",
     "text": [
      "/home/harish/.local/lib/python3.11/site-packages/yaspin/core.py:59: UserWarning: color, on_color and attrs are not supported when running in jupyter\n",
      "  self._color = self._set_color(color) if color else color\n"
     ]
    },
    {
     "name": "stdout",
     "output_type": "stream",
     "text": [
      " ✔ FastKafka app generated and saved at: /some_dir/application.py \n",
      "\n",
      "from pydantic import BaseModel, Field, NonNegativeFloat\n",
      "\n",
      "from fastkafka import FastKafka\n",
      "from fastkafka._components.logger import get_logger\n",
      "\n",
      "logger = get_logger(__name__)\n",
      "\n",
      "class Data(BaseModel):\n",
      "    data: NonNegativeFloat = Field(\n",
      "        ..., example=0.5, description=\"Float data example\"\n",
      "    )\n",
      "\n",
      "kafka_brokers = {\n",
      "    \"localhost\": {\n",
      "        \"url\": \"localhost\",\n",
      "        \"description\": \"local development kafka broker\",\n",
      "        \"port\": 9092,\n",
      "    },\n",
      "    \"production\": {\n",
      "        \"url\": \"kafka.airt.ai\",\n",
      "        \"description\": \"production kafka broker\",\n",
      "        \"port\": 9092,\n",
      "        \"protocol\": \"kafka-secure\",\n",
      "        \"security\": {\"type\": \"plain\"},\n",
      "    },\n",
      "}\n",
      "\n",
      "kafka_app = FastKafka(\n",
      "    title=\"Demo Kafka app\",\n",
      "    kafka_brokers=kafka_brokers,\n",
      ")\n",
      "\n",
      "@kafka_app.consumes(topic=\"input_data\", auto_offset_reset=\"latest\")\n",
      "async def on_input_data(msg: Data):\n",
      "    logger.info(f\"Got data: {msg.data}\")\n",
      "    await to_output_data(msg.data)\n",
      "\n",
      "\n",
      "@kafka_app.produces(topic=\"output_data\")\n",
      "async def to_output_data(data: float) -> Data:\n",
      "    processed_data = Data(data=data+1.0)\n",
      "    return processed_data\n",
      "\n"
     ]
    }
   ],
   "source": [
    "plan = '''\n",
    "{\n",
    "    \"entities\": [\n",
    "        {\n",
    "            \"name\": \"StoreProduct\",\n",
    "            \"arguments\": {\"product_name\": \"str\", \"currency\": \"str\", \"price\": \"float\"},\n",
    "        }\n",
    "    ],\n",
    "    \"apps\": [\n",
    "        {\n",
    "            \"appName\": \"app\",\n",
    "            \"kafka_brokers\": None,\n",
    "            \"title\": \"FastKafka App\",\n",
    "            \"consumes_functions\": {\n",
    "                \"on_store_product\": {\n",
    "                    \"topic\": \"store_product\",\n",
    "                    \"prefix\": \"on\",\n",
    "                    \"input_parameters\": [{\"msg\": \"StoreProduct\"}],\n",
    "                }\n",
    "            },\n",
    "            \"produces_functions\": {\n",
    "                \"to_change_currency\": {\n",
    "                    \"topic\": \"change_currency\",\n",
    "                    \"prefix\": \"to\",\n",
    "                    \"input_parameters\": [{\"store_product\": \"StoreProduct\"}],\n",
    "                    \"returns\": \"StoreProduct\",\n",
    "                }\n",
    "            },\n",
    "        }\n",
    "    ],\n",
    "}\n",
    "'''\n",
    "\n",
    "code = generate_app(plan)\n",
    "print(code)"
   ]
  },
  {
   "cell_type": "code",
   "execution_count": null,
   "id": "4d00fc7c",
   "metadata": {},
   "outputs": [],
   "source": []
  }
 ],
 "metadata": {
  "kernelspec": {
   "display_name": "python3",
   "language": "python",
   "name": "python3"
  }
 },
 "nbformat": 4,
 "nbformat_minor": 5
}

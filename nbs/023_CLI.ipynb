{
 "cells": [
  {
   "cell_type": "code",
   "execution_count": null,
   "id": "a520a022",
   "metadata": {},
   "outputs": [],
   "source": [
    "# | default_exp _cli"
   ]
  },
  {
   "cell_type": "code",
   "execution_count": null,
   "id": "3f5a4483",
   "metadata": {},
   "outputs": [],
   "source": [
    "# | export\n",
    "\n",
    "import asyncio\n",
    "import multiprocessing\n",
    "from typing import *\n",
    "\n",
    "import typer\n",
    "\n",
    "from fastkafka import _cli_docs, _cli_testing\n",
    "from fastkafka._components.logger import get_logger\n",
    "from fastkafka._server import run_fastkafka_server"
   ]
  },
  {
   "cell_type": "code",
   "execution_count": null,
   "id": "347594e0",
   "metadata": {},
   "outputs": [],
   "source": [
    "import os\n",
    "import time\n",
    "\n",
    "from typer.testing import CliRunner\n",
    "\n",
    "from fastkafka._components.logger import supress_timestamps\n",
    "from fastkafka._components.test_dependencies import generate_app_in_tmp\n",
    "from fastkafka._server import terminate_asyncio_process\n",
    "from fastkafka.testing import ApacheKafkaBroker"
   ]
  },
  {
   "cell_type": "code",
   "execution_count": null,
   "id": "6babc3b9",
   "metadata": {},
   "outputs": [],
   "source": [
    "# | notest\n",
    "\n",
    "# allows async calls in notebooks\n",
    "\n",
    "import nest_asyncio"
   ]
  },
  {
   "cell_type": "code",
   "execution_count": null,
   "id": "44a4e2d5",
   "metadata": {},
   "outputs": [],
   "source": [
    "# | notest\n",
    "\n",
    "nest_asyncio.apply()"
   ]
  },
  {
   "cell_type": "code",
   "execution_count": null,
   "id": "ae202a18",
   "metadata": {},
   "outputs": [],
   "source": [
    "# | export\n",
    "\n",
    "logger = get_logger(__name__)"
   ]
  },
  {
   "cell_type": "code",
   "execution_count": null,
   "id": "a5ec0fba",
   "metadata": {},
   "outputs": [
    {
     "name": "stdout",
     "output_type": "stream",
     "text": [
      "[INFO] __main__: ok\n"
     ]
    }
   ],
   "source": [
    "supress_timestamps()\n",
    "logger = get_logger(__name__, level=20)\n",
    "logger.info(\"ok\")"
   ]
  },
  {
   "cell_type": "code",
   "execution_count": null,
   "id": "a2bfc60c",
   "metadata": {},
   "outputs": [],
   "source": [
    "runner = CliRunner()"
   ]
  },
  {
   "cell_type": "code",
   "execution_count": null,
   "id": "bf57b082",
   "metadata": {},
   "outputs": [],
   "source": [
    "# | export\n",
    "\n",
    "_app = typer.Typer(help=\"\")"
   ]
  },
  {
   "cell_type": "code",
   "execution_count": null,
   "id": "b4830f45",
   "metadata": {},
   "outputs": [],
   "source": [
    "# | export\n",
    "\n",
    "\n",
    "@_app.command(\n",
    "    help=\"Runs Fast Kafka API application\",\n",
    ")\n",
    "def run(\n",
    "    num_workers: int = typer.Option(\n",
    "        multiprocessing.cpu_count(),\n",
    "        help=\"Number of FastKafka instances to run, defaults to number of CPU cores.\",\n",
    "    ),\n",
    "    app: str = typer.Argument(\n",
    "        ...,\n",
    "        help=\"input in the form of 'path:app', where **path** is the path to a python file and **app** is an object of type **FastKafka**.\",\n",
    "    ),\n",
    "    kafka_broker: str = typer.Option(\n",
    "        ...,\n",
    "        help=\"kafka_broker, one of the keys of the kafka_brokers dictionary passed in the constructor of FastaKafka class.\",\n",
    "    ),\n",
    ") -> None:\n",
    "    try:\n",
    "        asyncio.run(\n",
    "            run_fastkafka_server(\n",
    "                num_workers=num_workers, app=app, kafka_broker=kafka_broker\n",
    "            )\n",
    "        )\n",
    "    except Exception as e:\n",
    "        typer.secho(f\"Unexpected internal error: {e}\", err=True, fg=typer.colors.RED)\n",
    "        raise typer.Exit(1)"
   ]
  },
  {
   "cell_type": "code",
   "execution_count": null,
   "id": "e3328d21",
   "metadata": {},
   "outputs": [],
   "source": [
    "# | notest\n",
    "\n",
    "! nbdev_export"
   ]
  },
  {
   "cell_type": "code",
   "execution_count": null,
   "id": "f47cd927",
   "metadata": {},
   "outputs": [
    {
     "data": {
      "text/html": [
       "<pre style=\"white-space:pre;overflow-x:auto;line-height:normal;font-family:Menlo,'DejaVu Sans Mono',consolas,'Courier New',monospace\"><span style=\"font-weight: bold\">                                                                                                                   </span>\n",
       "<span style=\"font-weight: bold\"> </span><span style=\"color: #808000; text-decoration-color: #808000; font-weight: bold\">Usage: </span><span style=\"font-weight: bold\">run [OPTIONS] APP                                                                                          </span>\n",
       "<span style=\"font-weight: bold\">                                                                                                                   </span>\n",
       "</pre>\n"
      ],
      "text/plain": [
       "\u001b[1m                                                                                                                   \u001b[0m\n",
       "\u001b[1m \u001b[0m\u001b[1;33mUsage: \u001b[0m\u001b[1mrun [OPTIONS] APP\u001b[0m\u001b[1m                                                                                         \u001b[0m\u001b[1m \u001b[0m\n",
       "\u001b[1m                                                                                                                   \u001b[0m\n"
      ]
     },
     "metadata": {},
     "output_type": "display_data"
    },
    {
     "data": {
      "text/html": [
       "<pre style=\"white-space:pre;overflow-x:auto;line-height:normal;font-family:Menlo,'DejaVu Sans Mono',consolas,'Courier New',monospace\"> Runs Fast Kafka API application                                                                                   \n",
       "                                                                                                                   \n",
       "</pre>\n"
      ],
      "text/plain": [
       " Runs Fast Kafka API application                                                                                   \n",
       "                                                                                                                   \n"
      ]
     },
     "metadata": {},
     "output_type": "display_data"
    },
    {
     "data": {
      "text/html": [
       "<pre style=\"white-space:pre;overflow-x:auto;line-height:normal;font-family:Menlo,'DejaVu Sans Mono',consolas,'Courier New',monospace\"><span style=\"color: #7f7f7f; text-decoration-color: #7f7f7f\">╭─ Arguments ─────────────────────────────────────────────────────────────────────────────────────────────────────╮</span>\n",
       "<span style=\"color: #7f7f7f; text-decoration-color: #7f7f7f\">│</span> <span style=\"color: #800000; text-decoration-color: #800000\">*</span>    app      <span style=\"color: #808000; text-decoration-color: #808000; font-weight: bold\">TEXT</span>  input in the form of 'path:app', where **path** is the path to a python file and **app** is <span style=\"color: #7f7f7f; text-decoration-color: #7f7f7f\">│</span>\n",
       "<span style=\"color: #7f7f7f; text-decoration-color: #7f7f7f\">│</span>                     an object of type **FastKafka**.                                                            <span style=\"color: #7f7f7f; text-decoration-color: #7f7f7f\">│</span>\n",
       "<span style=\"color: #7f7f7f; text-decoration-color: #7f7f7f\">│</span>                     <span style=\"color: #7f7f7f; text-decoration-color: #7f7f7f\">[default: None]                                                                            </span> <span style=\"color: #7f7f7f; text-decoration-color: #7f7f7f\">│</span>\n",
       "<span style=\"color: #7f7f7f; text-decoration-color: #7f7f7f\">│</span>                     <span style=\"color: #bf7f7f; text-decoration-color: #bf7f7f\">[required]                                                                                 </span> <span style=\"color: #7f7f7f; text-decoration-color: #7f7f7f\">│</span>\n",
       "<span style=\"color: #7f7f7f; text-decoration-color: #7f7f7f\">╰─────────────────────────────────────────────────────────────────────────────────────────────────────────────────╯</span>\n",
       "</pre>\n"
      ],
      "text/plain": [
       "\u001b[2m╭─\u001b[0m\u001b[2m Arguments \u001b[0m\u001b[2m────────────────────────────────────────────────────────────────────────────────────────────────────\u001b[0m\u001b[2m─╮\u001b[0m\n",
       "\u001b[2m│\u001b[0m \u001b[31m*\u001b[0m    app      \u001b[1;33mTEXT\u001b[0m  input in the form of 'path:app', where **path** is the path to a python file and **app** is \u001b[2m│\u001b[0m\n",
       "\u001b[2m│\u001b[0m                     an object of type **FastKafka**.                                                            \u001b[2m│\u001b[0m\n",
       "\u001b[2m│\u001b[0m                     \u001b[2m[default: None]                                                                            \u001b[0m \u001b[2m│\u001b[0m\n",
       "\u001b[2m│\u001b[0m                     \u001b[2;31m[required]                                                                                 \u001b[0m \u001b[2m│\u001b[0m\n",
       "\u001b[2m╰─────────────────────────────────────────────────────────────────────────────────────────────────────────────────╯\u001b[0m\n"
      ]
     },
     "metadata": {},
     "output_type": "display_data"
    },
    {
     "data": {
      "text/html": [
       "<pre style=\"white-space:pre;overflow-x:auto;line-height:normal;font-family:Menlo,'DejaVu Sans Mono',consolas,'Courier New',monospace\"><span style=\"color: #7f7f7f; text-decoration-color: #7f7f7f\">╭─ Options ───────────────────────────────────────────────────────────────────────────────────────────────────────╮</span>\n",
       "<span style=\"color: #7f7f7f; text-decoration-color: #7f7f7f\">│</span>    <span style=\"color: #008080; text-decoration-color: #008080; font-weight: bold\">--num-workers</span>               <span style=\"color: #808000; text-decoration-color: #808000; font-weight: bold\">INTEGER</span>  Number of FastKafka instances to run, defaults to number of CPU cores.  <span style=\"color: #7f7f7f; text-decoration-color: #7f7f7f\">│</span>\n",
       "<span style=\"color: #7f7f7f; text-decoration-color: #7f7f7f\">│</span>                                         <span style=\"color: #7f7f7f; text-decoration-color: #7f7f7f\">[default: 16]                                                         </span>  <span style=\"color: #7f7f7f; text-decoration-color: #7f7f7f\">│</span>\n",
       "<span style=\"color: #7f7f7f; text-decoration-color: #7f7f7f\">│</span> <span style=\"color: #800000; text-decoration-color: #800000\">*</span>  <span style=\"color: #008080; text-decoration-color: #008080; font-weight: bold\">--kafka-broker</span>              <span style=\"color: #808000; text-decoration-color: #808000; font-weight: bold\">TEXT   </span>  kafka_broker, one of the keys of the kafka_brokers dictionary passed in <span style=\"color: #7f7f7f; text-decoration-color: #7f7f7f\">│</span>\n",
       "<span style=\"color: #7f7f7f; text-decoration-color: #7f7f7f\">│</span>                                         the constructor of FastaKafka class.                                    <span style=\"color: #7f7f7f; text-decoration-color: #7f7f7f\">│</span>\n",
       "<span style=\"color: #7f7f7f; text-decoration-color: #7f7f7f\">│</span>                                         <span style=\"color: #7f7f7f; text-decoration-color: #7f7f7f\">[default: None]                                                        </span> <span style=\"color: #7f7f7f; text-decoration-color: #7f7f7f\">│</span>\n",
       "<span style=\"color: #7f7f7f; text-decoration-color: #7f7f7f\">│</span>                                         <span style=\"color: #bf7f7f; text-decoration-color: #bf7f7f\">[required]                                                             </span> <span style=\"color: #7f7f7f; text-decoration-color: #7f7f7f\">│</span>\n",
       "<span style=\"color: #7f7f7f; text-decoration-color: #7f7f7f\">│</span>    <span style=\"color: #008080; text-decoration-color: #008080; font-weight: bold\">--install-completion</span>        <span style=\"color: #808000; text-decoration-color: #808000; font-weight: bold\">       </span>  Install completion for the current shell.                               <span style=\"color: #7f7f7f; text-decoration-color: #7f7f7f\">│</span>\n",
       "<span style=\"color: #7f7f7f; text-decoration-color: #7f7f7f\">│</span>    <span style=\"color: #008080; text-decoration-color: #008080; font-weight: bold\">--show-completion</span>           <span style=\"color: #808000; text-decoration-color: #808000; font-weight: bold\">       </span>  Show completion for the current shell, to copy it or customize the      <span style=\"color: #7f7f7f; text-decoration-color: #7f7f7f\">│</span>\n",
       "<span style=\"color: #7f7f7f; text-decoration-color: #7f7f7f\">│</span>                                         installation.                                                           <span style=\"color: #7f7f7f; text-decoration-color: #7f7f7f\">│</span>\n",
       "<span style=\"color: #7f7f7f; text-decoration-color: #7f7f7f\">│</span>    <span style=\"color: #008080; text-decoration-color: #008080; font-weight: bold\">--help</span>                      <span style=\"color: #808000; text-decoration-color: #808000; font-weight: bold\">       </span>  Show this message and exit.                                             <span style=\"color: #7f7f7f; text-decoration-color: #7f7f7f\">│</span>\n",
       "<span style=\"color: #7f7f7f; text-decoration-color: #7f7f7f\">╰─────────────────────────────────────────────────────────────────────────────────────────────────────────────────╯</span>\n",
       "</pre>\n"
      ],
      "text/plain": [
       "\u001b[2m╭─\u001b[0m\u001b[2m Options \u001b[0m\u001b[2m──────────────────────────────────────────────────────────────────────────────────────────────────────\u001b[0m\u001b[2m─╮\u001b[0m\n",
       "\u001b[2m│\u001b[0m    \u001b[1;36m-\u001b[0m\u001b[1;36m-num\u001b[0m\u001b[1;36m-workers\u001b[0m               \u001b[1;33mINTEGER\u001b[0m  Number of FastKafka instances to run, defaults to number of CPU cores.  \u001b[2m│\u001b[0m\n",
       "\u001b[2m│\u001b[0m                                         \u001b[2m[default: 16]                                                         \u001b[0m  \u001b[2m│\u001b[0m\n",
       "\u001b[2m│\u001b[0m \u001b[31m*\u001b[0m  \u001b[1;36m-\u001b[0m\u001b[1;36m-kafka\u001b[0m\u001b[1;36m-broker\u001b[0m              \u001b[1;33mTEXT   \u001b[0m  kafka_broker, one of the keys of the kafka_brokers dictionary passed in \u001b[2m│\u001b[0m\n",
       "\u001b[2m│\u001b[0m                                         the constructor of FastaKafka class.                                    \u001b[2m│\u001b[0m\n",
       "\u001b[2m│\u001b[0m                                         \u001b[2m[default: None]                                                        \u001b[0m \u001b[2m│\u001b[0m\n",
       "\u001b[2m│\u001b[0m                                         \u001b[2;31m[required]                                                             \u001b[0m \u001b[2m│\u001b[0m\n",
       "\u001b[2m│\u001b[0m    \u001b[1;36m-\u001b[0m\u001b[1;36m-install\u001b[0m\u001b[1;36m-completion\u001b[0m        \u001b[1;33m       \u001b[0m  Install completion for the current shell.                               \u001b[2m│\u001b[0m\n",
       "\u001b[2m│\u001b[0m    \u001b[1;36m-\u001b[0m\u001b[1;36m-show\u001b[0m\u001b[1;36m-completion\u001b[0m           \u001b[1;33m       \u001b[0m  Show completion for the current shell, to copy it or customize the      \u001b[2m│\u001b[0m\n",
       "\u001b[2m│\u001b[0m                                         installation.                                                           \u001b[2m│\u001b[0m\n",
       "\u001b[2m│\u001b[0m    \u001b[1;36m-\u001b[0m\u001b[1;36m-help\u001b[0m                      \u001b[1;33m       \u001b[0m  Show this message and exit.                                             \u001b[2m│\u001b[0m\n",
       "\u001b[2m╰─────────────────────────────────────────────────────────────────────────────────────────────────────────────────╯\u001b[0m\n"
      ]
     },
     "metadata": {},
     "output_type": "display_data"
    }
   ],
   "source": [
    "result = runner.invoke(_app, [\"run\", \"--help\"])"
   ]
  },
  {
   "cell_type": "code",
   "execution_count": null,
   "id": "46a27557",
   "metadata": {},
   "outputs": [
    {
     "name": "stdout",
     "output_type": "stream",
     "text": [
      "[INFO] fastkafka._components.test_dependencies: Java is already installed.\n",
      "[INFO] fastkafka._components.test_dependencies: But not exported to PATH, exporting...\n",
      "[INFO] fastkafka._components.test_dependencies: Kafka is installed.\n",
      "[INFO] fastkafka._components.test_dependencies: But not exported to PATH, exporting...\n",
      "[INFO] fastkafka._testing.apache_kafka_broker: Starting zookeeper...\n",
      "[INFO] fastkafka._testing.apache_kafka_broker: Starting kafka...\n",
      "[INFO] fastkafka._testing.apache_kafka_broker: Local Kafka broker up and running on 127.0.0.1:9092\n",
      "[INFO] fastkafka._server: terminate_asyncio_process(): Terminating the process 822642...\n",
      "[INFO] fastkafka._server: terminate_asyncio_process(): Process 822642 terminated.\n",
      "[822645]: [INFO] fastkafka._application.app: set_kafka_broker() : Setting bootstrap_servers value to '127.0.0.1:9092'\n",
      "[822645]: [INFO] fastkafka._application.app: _create_producer() : created producer using the config: '{'bootstrap_servers': '127.0.0.1:9092'}'\n",
      "[822647]: [INFO] fastkafka._application.app: set_kafka_broker() : Setting bootstrap_servers value to '127.0.0.1:9092'\n",
      "[822647]: [INFO] fastkafka._application.app: _create_producer() : created producer using the config: '{'bootstrap_servers': '127.0.0.1:9092'}'\n",
      "[822645]: [INFO] fastkafka._application.app: _create_producer() : created producer using the config: '{'bootstrap_servers': '127.0.0.1:9092'}'\n",
      "[822647]: [INFO] fastkafka._application.app: _create_producer() : created producer using the config: '{'bootstrap_servers': '127.0.0.1:9092'}'\n",
      "[822645]: [INFO] fastkafka._application.app: _create_producer() : created producer using the config: '{'bootstrap_servers': '127.0.0.1:9092'}'\n",
      "[822647]: [INFO] fastkafka._application.app: _create_producer() : created producer using the config: '{'bootstrap_servers': '127.0.0.1:9092'}'\n",
      "[822645]: [INFO] fastkafka._application.app: _create_producer() : created producer using the config: '{'bootstrap_servers': '127.0.0.1:9092'}'\n",
      "[822647]: [INFO] fastkafka._application.app: _create_producer() : created producer using the config: '{'bootstrap_servers': '127.0.0.1:9092'}'\n",
      "[822645]: [INFO] fastkafka._components.aiokafka_consumer_loop: aiokafka_consumer_loop() starting...\n",
      "[822645]: [INFO] fastkafka._components.aiokafka_consumer_loop: aiokafka_consumer_loop(): Consumer created using the following parameters: {'bootstrap_servers': '127.0.0.1:9092', 'group_id': '127.0.0.1:9092_group', 'auto_offset_reset': 'earliest', 'max_poll_records': 100}\n",
      "[822645]: [INFO] fastkafka._components.aiokafka_consumer_loop: aiokafka_consumer_loop() starting...\n",
      "[822645]: [INFO] fastkafka._components.aiokafka_consumer_loop: aiokafka_consumer_loop(): Consumer created using the following parameters: {'bootstrap_servers': '127.0.0.1:9092', 'group_id': '127.0.0.1:9092_group', 'auto_offset_reset': 'earliest', 'max_poll_records': 100}\n",
      "[822647]: [INFO] fastkafka._components.aiokafka_consumer_loop: aiokafka_consumer_loop() starting...\n",
      "[822647]: [INFO] fastkafka._components.aiokafka_consumer_loop: aiokafka_consumer_loop(): Consumer created using the following parameters: {'bootstrap_servers': '127.0.0.1:9092', 'group_id': '127.0.0.1:9092_group', 'auto_offset_reset': 'earliest', 'max_poll_records': 100}\n",
      "[822647]: [INFO] fastkafka._components.aiokafka_consumer_loop: aiokafka_consumer_loop() starting...\n",
      "[822647]: [INFO] fastkafka._components.aiokafka_consumer_loop: aiokafka_consumer_loop(): Consumer created using the following parameters: {'bootstrap_servers': '127.0.0.1:9092', 'group_id': '127.0.0.1:9092_group', 'auto_offset_reset': 'earliest', 'max_poll_records': 100}\n",
      "[822645]: [INFO] fastkafka._components.aiokafka_consumer_loop: aiokafka_consumer_loop(): Consumer started.\n",
      "[822645]: [INFO] aiokafka.consumer.subscription_state: Updating subscribed topics to: frozenset({'training_data'})\n",
      "[822645]: [INFO] aiokafka.consumer.consumer: Subscribed to topic(s): {'training_data'}\n",
      "[822645]: [INFO] fastkafka._components.aiokafka_consumer_loop: aiokafka_consumer_loop(): Consumer subscribed.\n",
      "[822647]: [INFO] fastkafka._components.aiokafka_consumer_loop: aiokafka_consumer_loop(): Consumer started.\n",
      "[822647]: [INFO] aiokafka.consumer.subscription_state: Updating subscribed topics to: frozenset({'realitime_data'})\n",
      "[822647]: [INFO] aiokafka.consumer.consumer: Subscribed to topic(s): {'realitime_data'}\n",
      "[822647]: [INFO] fastkafka._components.aiokafka_consumer_loop: aiokafka_consumer_loop(): Consumer subscribed.\n",
      "[822645]: [INFO] fastkafka._components.aiokafka_consumer_loop: aiokafka_consumer_loop(): Consumer started.\n",
      "[822645]: [INFO] aiokafka.consumer.subscription_state: Updating subscribed topics to: frozenset({'realitime_data'})\n",
      "[822645]: [INFO] aiokafka.consumer.consumer: Subscribed to topic(s): {'realitime_data'}\n",
      "[822645]: [INFO] fastkafka._components.aiokafka_consumer_loop: aiokafka_consumer_loop(): Consumer subscribed.\n",
      "[822647]: [INFO] fastkafka._components.aiokafka_consumer_loop: aiokafka_consumer_loop(): Consumer started.\n",
      "[822647]: [INFO] aiokafka.consumer.subscription_state: Updating subscribed topics to: frozenset({'training_data'})\n",
      "[822647]: [INFO] aiokafka.consumer.consumer: Subscribed to topic(s): {'training_data'}\n",
      "[822647]: [INFO] fastkafka._components.aiokafka_consumer_loop: aiokafka_consumer_loop(): Consumer subscribed.\n",
      "[822645]: [ERROR] aiokafka.consumer.group_coordinator: Group Coordinator Request failed: [Error 15] CoordinatorNotAvailableError\n",
      "[822647]: [ERROR] aiokafka.consumer.group_coordinator: Group Coordinator Request failed: [Error 15] CoordinatorNotAvailableError\n",
      "[822647]: [ERROR] aiokafka.consumer.group_coordinator: Group Coordinator Request failed: [Error 15] CoordinatorNotAvailableError\n",
      "[822645]: [ERROR] aiokafka.consumer.group_coordinator: Group Coordinator Request failed: [Error 15] CoordinatorNotAvailableError\n",
      "[822647]: [ERROR] aiokafka.consumer.group_coordinator: Group Coordinator Request failed: [Error 15] CoordinatorNotAvailableError\n",
      "[822645]: [ERROR] aiokafka.consumer.group_coordinator: Group Coordinator Request failed: [Error 15] CoordinatorNotAvailableError\n",
      "[822647]: [ERROR] aiokafka.consumer.group_coordinator: Group Coordinator Request failed: [Error 15] CoordinatorNotAvailableError\n",
      "[822645]: [ERROR] aiokafka.consumer.group_coordinator: Group Coordinator Request failed: [Error 15] CoordinatorNotAvailableError\n",
      "[822647]: [ERROR] aiokafka.consumer.group_coordinator: Group Coordinator Request failed: [Error 15] CoordinatorNotAvailableError\n",
      "[822647]: [ERROR] aiokafka.consumer.group_coordinator: Group Coordinator Request failed: [Error 15] CoordinatorNotAvailableError\n",
      "[822645]: [ERROR] aiokafka.consumer.group_coordinator: Group Coordinator Request failed: [Error 15] CoordinatorNotAvailableError\n",
      "[822645]: [ERROR] aiokafka.consumer.group_coordinator: Group Coordinator Request failed: [Error 15] CoordinatorNotAvailableError\n",
      "[822647]: [INFO] aiokafka.consumer.group_coordinator: Discovered coordinator 0 for group 127.0.0.1:9092_group\n",
      "[822647]: [INFO] aiokafka.consumer.group_coordinator: Revoking previously assigned partitions set() for group 127.0.0.1:9092_group\n",
      "[822647]: [INFO] aiokafka.consumer.group_coordinator: (Re-)joining group 127.0.0.1:9092_group\n",
      "[822645]: [INFO] aiokafka.consumer.group_coordinator: Discovered coordinator 0 for group 127.0.0.1:9092_group\n",
      "[822645]: [INFO] aiokafka.consumer.group_coordinator: Revoking previously assigned partitions set() for group 127.0.0.1:9092_group\n",
      "[822645]: [INFO] aiokafka.consumer.group_coordinator: (Re-)joining group 127.0.0.1:9092_group\n",
      "[822647]: [INFO] aiokafka.consumer.group_coordinator: Discovered coordinator 0 for group 127.0.0.1:9092_group\n",
      "[822647]: [INFO] aiokafka.consumer.group_coordinator: Revoking previously assigned partitions set() for group 127.0.0.1:9092_group\n",
      "[822647]: [INFO] aiokafka.consumer.group_coordinator: (Re-)joining group 127.0.0.1:9092_group\n",
      "[822647]: [WARNING] aiokafka.consumer.group_coordinator: Marking the coordinator dead (node 0)for group 127.0.0.1:9092_group.\n",
      "[822647]: [WARNING] aiokafka.consumer.group_coordinator: Marking the coordinator dead (node 0)for group 127.0.0.1:9092_group.\n",
      "[822645]: [WARNING] aiokafka.consumer.group_coordinator: Marking the coordinator dead (node 0)for group 127.0.0.1:9092_group.\n",
      "[822645]: [INFO] aiokafka.consumer.group_coordinator: Discovered coordinator 0 for group 127.0.0.1:9092_group\n",
      "[822645]: [INFO] aiokafka.consumer.group_coordinator: Revoking previously assigned partitions set() for group 127.0.0.1:9092_group\n",
      "[822645]: [INFO] aiokafka.consumer.group_coordinator: (Re-)joining group 127.0.0.1:9092_group\n",
      "[822645]: [WARNING] aiokafka.consumer.group_coordinator: Marking the coordinator dead (node 0)for group 127.0.0.1:9092_group.\n",
      "[822647]: [INFO] aiokafka.consumer.group_coordinator: Discovered coordinator 0 for group 127.0.0.1:9092_group\n",
      "[822645]: [INFO] aiokafka.consumer.group_coordinator: Discovered coordinator 0 for group 127.0.0.1:9092_group\n",
      "[822645]: [INFO] aiokafka.consumer.group_coordinator: (Re-)joining group 127.0.0.1:9092_group\n",
      "[822647]: [INFO] aiokafka.consumer.group_coordinator: (Re-)joining group 127.0.0.1:9092_group\n",
      "[822645]: [INFO] aiokafka.consumer.group_coordinator: Discovered coordinator 0 for group 127.0.0.1:9092_group\n",
      "[822645]: [INFO] aiokafka.consumer.group_coordinator: (Re-)joining group 127.0.0.1:9092_group\n",
      "[822647]: [INFO] aiokafka.consumer.group_coordinator: Discovered coordinator 0 for group 127.0.0.1:9092_group\n",
      "[822647]: [INFO] aiokafka.consumer.group_coordinator: (Re-)joining group 127.0.0.1:9092_group\n",
      "[822647]: [WARNING] aiokafka.consumer.group_coordinator: Marking the coordinator dead (node 0)for group 127.0.0.1:9092_group.\n",
      "[822645]: [WARNING] aiokafka.consumer.group_coordinator: Marking the coordinator dead (node 0)for group 127.0.0.1:9092_group.\n",
      "[822647]: [WARNING] aiokafka.consumer.group_coordinator: Marking the coordinator dead (node 0)for group 127.0.0.1:9092_group.\n",
      "[822645]: [WARNING] aiokafka.consumer.group_coordinator: Marking the coordinator dead (node 0)for group 127.0.0.1:9092_group.\n",
      "[822647]: [INFO] aiokafka.consumer.group_coordinator: Discovered coordinator 0 for group 127.0.0.1:9092_group\n",
      "[822647]: [INFO] aiokafka.consumer.group_coordinator: (Re-)joining group 127.0.0.1:9092_group\n",
      "[822645]: [INFO] aiokafka.consumer.group_coordinator: Discovered coordinator 0 for group 127.0.0.1:9092_group\n",
      "[822645]: [INFO] aiokafka.consumer.group_coordinator: (Re-)joining group 127.0.0.1:9092_group\n",
      "[822647]: [INFO] aiokafka.consumer.group_coordinator: Discovered coordinator 0 for group 127.0.0.1:9092_group\n",
      "[822647]: [INFO] aiokafka.consumer.group_coordinator: (Re-)joining group 127.0.0.1:9092_group\n",
      "[822645]: [INFO] aiokafka.consumer.group_coordinator: Discovered coordinator 0 for group 127.0.0.1:9092_group\n",
      "[822645]: [INFO] aiokafka.consumer.group_coordinator: (Re-)joining group 127.0.0.1:9092_group\n",
      "[822647]: [WARNING] aiokafka.consumer.group_coordinator: Marking the coordinator dead (node 0)for group 127.0.0.1:9092_group.\n",
      "[822645]: [WARNING] aiokafka.consumer.group_coordinator: Marking the coordinator dead (node 0)for group 127.0.0.1:9092_group.\n",
      "[822647]: [WARNING] aiokafka.consumer.group_coordinator: Marking the coordinator dead (node 0)for group 127.0.0.1:9092_group.\n",
      "[822645]: [WARNING] aiokafka.consumer.group_coordinator: Marking the coordinator dead (node 0)for group 127.0.0.1:9092_group.\n",
      "[822647]: [INFO] aiokafka.consumer.group_coordinator: Discovered coordinator 0 for group 127.0.0.1:9092_group\n",
      "[822647]: [INFO] aiokafka.consumer.group_coordinator: (Re-)joining group 127.0.0.1:9092_group\n",
      "[822645]: [INFO] aiokafka.consumer.group_coordinator: Discovered coordinator 0 for group 127.0.0.1:9092_group\n",
      "[822645]: [INFO] aiokafka.consumer.group_coordinator: (Re-)joining group 127.0.0.1:9092_group\n",
      "[822647]: [INFO] aiokafka.consumer.group_coordinator: Discovered coordinator 0 for group 127.0.0.1:9092_group\n",
      "[822647]: [INFO] aiokafka.consumer.group_coordinator: (Re-)joining group 127.0.0.1:9092_group\n",
      "[822645]: [INFO] aiokafka.consumer.group_coordinator: Discovered coordinator 0 for group 127.0.0.1:9092_group\n",
      "[822645]: [INFO] aiokafka.consumer.group_coordinator: (Re-)joining group 127.0.0.1:9092_group\n",
      "[822647]: [WARNING] aiokafka.consumer.group_coordinator: Marking the coordinator dead (node 0)for group 127.0.0.1:9092_group.\n",
      "[822645]: [WARNING] aiokafka.consumer.group_coordinator: Marking the coordinator dead (node 0)for group 127.0.0.1:9092_group.\n",
      "[822647]: [WARNING] aiokafka.consumer.group_coordinator: Marking the coordinator dead (node 0)for group 127.0.0.1:9092_group.\n",
      "[822645]: [WARNING] aiokafka.consumer.group_coordinator: Marking the coordinator dead (node 0)for group 127.0.0.1:9092_group.\n",
      "[822645]: [INFO] aiokafka.consumer.group_coordinator: Discovered coordinator 0 for group 127.0.0.1:9092_group\n",
      "[822645]: [INFO] aiokafka.consumer.group_coordinator: (Re-)joining group 127.0.0.1:9092_group\n",
      "[822647]: [INFO] aiokafka.consumer.group_coordinator: Discovered coordinator 0 for group 127.0.0.1:9092_group\n",
      "[822647]: [INFO] aiokafka.consumer.group_coordinator: (Re-)joining group 127.0.0.1:9092_group\n",
      "[822645]: [INFO] aiokafka.consumer.group_coordinator: Discovered coordinator 0 for group 127.0.0.1:9092_group\n",
      "[822647]: [INFO] aiokafka.consumer.group_coordinator: Discovered coordinator 0 for group 127.0.0.1:9092_group\n",
      "[822647]: [INFO] aiokafka.consumer.group_coordinator: (Re-)joining group 127.0.0.1:9092_group\n",
      "[822645]: [INFO] aiokafka.consumer.group_coordinator: (Re-)joining group 127.0.0.1:9092_group\n",
      "[822645]: [WARNING] aiokafka.consumer.group_coordinator: Marking the coordinator dead (node 0)for group 127.0.0.1:9092_group.\n",
      "[822647]: [WARNING] aiokafka.consumer.group_coordinator: Marking the coordinator dead (node 0)for group 127.0.0.1:9092_group.\n",
      "[822647]: [WARNING] aiokafka.consumer.group_coordinator: Marking the coordinator dead (node 0)for group 127.0.0.1:9092_group.\n",
      "[822645]: [WARNING] aiokafka.consumer.group_coordinator: Marking the coordinator dead (node 0)for group 127.0.0.1:9092_group.\n",
      "[822647]: [INFO] aiokafka.consumer.group_coordinator: Discovered coordinator 0 for group 127.0.0.1:9092_group\n",
      "[822647]: [INFO] aiokafka.consumer.group_coordinator: (Re-)joining group 127.0.0.1:9092_group\n",
      "[822645]: [INFO] aiokafka.consumer.group_coordinator: Discovered coordinator 0 for group 127.0.0.1:9092_group\n",
      "[822645]: [INFO] aiokafka.consumer.group_coordinator: (Re-)joining group 127.0.0.1:9092_group\n",
      "[822647]: [INFO] aiokafka.consumer.group_coordinator: Discovered coordinator 0 for group 127.0.0.1:9092_group\n",
      "[822647]: [INFO] aiokafka.consumer.group_coordinator: (Re-)joining group 127.0.0.1:9092_group\n",
      "[822645]: [INFO] aiokafka.consumer.group_coordinator: Discovered coordinator 0 for group 127.0.0.1:9092_group\n",
      "[822645]: [INFO] aiokafka.consumer.group_coordinator: (Re-)joining group 127.0.0.1:9092_group\n",
      "[822645]: [WARNING] aiokafka.consumer.group_coordinator: Marking the coordinator dead (node 0)for group 127.0.0.1:9092_group.\n",
      "[822647]: [WARNING] aiokafka.consumer.group_coordinator: Marking the coordinator dead (node 0)for group 127.0.0.1:9092_group.\n",
      "[822645]: [WARNING] aiokafka.consumer.group_coordinator: Marking the coordinator dead (node 0)for group 127.0.0.1:9092_group.\n",
      "[822647]: [WARNING] aiokafka.consumer.group_coordinator: Marking the coordinator dead (node 0)for group 127.0.0.1:9092_group.\n",
      "[822645]: [INFO] aiokafka.consumer.group_coordinator: Discovered coordinator 0 for group 127.0.0.1:9092_group\n",
      "[822645]: [INFO] aiokafka.consumer.group_coordinator: (Re-)joining group 127.0.0.1:9092_group\n",
      "[822647]: [INFO] aiokafka.consumer.group_coordinator: Discovered coordinator 0 for group 127.0.0.1:9092_group\n",
      "[822647]: [INFO] aiokafka.consumer.group_coordinator: (Re-)joining group 127.0.0.1:9092_group\n",
      "[822645]: [INFO] aiokafka.consumer.group_coordinator: Discovered coordinator 0 for group 127.0.0.1:9092_group\n",
      "[822647]: [INFO] aiokafka.consumer.group_coordinator: Discovered coordinator 0 for group 127.0.0.1:9092_group\n",
      "[822645]: [INFO] aiokafka.consumer.group_coordinator: (Re-)joining group 127.0.0.1:9092_group\n",
      "[822647]: [INFO] aiokafka.consumer.group_coordinator: (Re-)joining group 127.0.0.1:9092_group\n",
      "[822647]: [WARNING] aiokafka.consumer.group_coordinator: Marking the coordinator dead (node 0)for group 127.0.0.1:9092_group.\n",
      "[822645]: [WARNING] aiokafka.consumer.group_coordinator: Marking the coordinator dead (node 0)for group 127.0.0.1:9092_group.\n",
      "[822647]: [WARNING] aiokafka.consumer.group_coordinator: Marking the coordinator dead (node 0)for group 127.0.0.1:9092_group.\n",
      "[822645]: [WARNING] aiokafka.consumer.group_coordinator: Marking the coordinator dead (node 0)for group 127.0.0.1:9092_group.\n",
      "[822645]: [INFO] aiokafka.consumer.group_coordinator: Discovered coordinator 0 for group 127.0.0.1:9092_group\n",
      "[822647]: [INFO] aiokafka.consumer.group_coordinator: Discovered coordinator 0 for group 127.0.0.1:9092_group\n",
      "[822647]: [INFO] aiokafka.consumer.group_coordinator: (Re-)joining group 127.0.0.1:9092_group\n",
      "[822645]: [INFO] aiokafka.consumer.group_coordinator: (Re-)joining group 127.0.0.1:9092_group\n",
      "[822647]: [INFO] aiokafka.consumer.group_coordinator: Discovered coordinator 0 for group 127.0.0.1:9092_group\n",
      "[822647]: [INFO] aiokafka.consumer.group_coordinator: (Re-)joining group 127.0.0.1:9092_group\n",
      "[822645]: [INFO] aiokafka.consumer.group_coordinator: Discovered coordinator 0 for group 127.0.0.1:9092_group\n",
      "[822645]: [INFO] aiokafka.consumer.group_coordinator: (Re-)joining group 127.0.0.1:9092_group\n",
      "[822647]: [WARNING] aiokafka.consumer.group_coordinator: Marking the coordinator dead (node 0)for group 127.0.0.1:9092_group.\n",
      "[822645]: [WARNING] aiokafka.consumer.group_coordinator: Marking the coordinator dead (node 0)for group 127.0.0.1:9092_group.\n",
      "[822647]: [WARNING] aiokafka.consumer.group_coordinator: Marking the coordinator dead (node 0)for group 127.0.0.1:9092_group.\n",
      "[822645]: [WARNING] aiokafka.consumer.group_coordinator: Marking the coordinator dead (node 0)for group 127.0.0.1:9092_group.\n",
      "[822647]: [INFO] aiokafka.consumer.group_coordinator: Discovered coordinator 0 for group 127.0.0.1:9092_group\n",
      "[822647]: [INFO] aiokafka.consumer.group_coordinator: (Re-)joining group 127.0.0.1:9092_group\n",
      "[822645]: [INFO] aiokafka.consumer.group_coordinator: Discovered coordinator 0 for group 127.0.0.1:9092_group\n",
      "[822645]: [INFO] aiokafka.consumer.group_coordinator: (Re-)joining group 127.0.0.1:9092_group\n",
      "[822647]: [INFO] aiokafka.consumer.group_coordinator: Discovered coordinator 0 for group 127.0.0.1:9092_group\n",
      "[822647]: [INFO] aiokafka.consumer.group_coordinator: (Re-)joining group 127.0.0.1:9092_group\n",
      "[822645]: [INFO] aiokafka.consumer.group_coordinator: Discovered coordinator 0 for group 127.0.0.1:9092_group\n",
      "[822645]: [INFO] aiokafka.consumer.group_coordinator: (Re-)joining group 127.0.0.1:9092_group\n",
      "[822647]: [WARNING] aiokafka.consumer.group_coordinator: Marking the coordinator dead (node 0)for group 127.0.0.1:9092_group.\n",
      "[822645]: [WARNING] aiokafka.consumer.group_coordinator: Marking the coordinator dead (node 0)for group 127.0.0.1:9092_group.\n",
      "[822647]: [WARNING] aiokafka.consumer.group_coordinator: Marking the coordinator dead (node 0)for group 127.0.0.1:9092_group.\n",
      "[822645]: [WARNING] aiokafka.consumer.group_coordinator: Marking the coordinator dead (node 0)for group 127.0.0.1:9092_group.\n",
      "[822647]: [INFO] aiokafka.consumer.group_coordinator: Discovered coordinator 0 for group 127.0.0.1:9092_group\n",
      "[822647]: [INFO] aiokafka.consumer.group_coordinator: (Re-)joining group 127.0.0.1:9092_group\n",
      "[822647]: [INFO] aiokafka.consumer.group_coordinator: Discovered coordinator 0 for group 127.0.0.1:9092_group\n",
      "[822647]: [INFO] aiokafka.consumer.group_coordinator: (Re-)joining group 127.0.0.1:9092_group\n",
      "[822647]: [WARNING] aiokafka.consumer.group_coordinator: Marking the coordinator dead (node 0)for group 127.0.0.1:9092_group.\n",
      "[822645]: [INFO] aiokafka.consumer.group_coordinator: Discovered coordinator 0 for group 127.0.0.1:9092_group\n",
      "[822645]: [INFO] aiokafka.consumer.group_coordinator: (Re-)joining group 127.0.0.1:9092_group\n",
      "[822647]: [WARNING] aiokafka.consumer.group_coordinator: Marking the coordinator dead (node 0)for group 127.0.0.1:9092_group.\n",
      "[822645]: [INFO] aiokafka.consumer.group_coordinator: Discovered coordinator 0 for group 127.0.0.1:9092_group\n",
      "[822645]: [INFO] aiokafka.consumer.group_coordinator: (Re-)joining group 127.0.0.1:9092_group\n",
      "[822645]: [WARNING] aiokafka.consumer.group_coordinator: Marking the coordinator dead (node 0)for group 127.0.0.1:9092_group.\n",
      "[822645]: [WARNING] aiokafka.consumer.group_coordinator: Marking the coordinator dead (node 0)for group 127.0.0.1:9092_group.\n",
      "[822647]: [INFO] aiokafka.consumer.group_coordinator: Discovered coordinator 0 for group 127.0.0.1:9092_group\n",
      "[822647]: [INFO] aiokafka.consumer.group_coordinator: (Re-)joining group 127.0.0.1:9092_group\n",
      "[822647]: [INFO] aiokafka.consumer.group_coordinator: Discovered coordinator 0 for group 127.0.0.1:9092_group\n",
      "[822647]: [INFO] aiokafka.consumer.group_coordinator: (Re-)joining group 127.0.0.1:9092_group\n",
      "[822647]: [WARNING] aiokafka.consumer.group_coordinator: Marking the coordinator dead (node 0)for group 127.0.0.1:9092_group.\n",
      "[822647]: [WARNING] aiokafka.consumer.group_coordinator: Marking the coordinator dead (node 0)for group 127.0.0.1:9092_group.\n",
      "[822645]: [INFO] aiokafka.consumer.group_coordinator: Discovered coordinator 0 for group 127.0.0.1:9092_group\n",
      "[822645]: [INFO] aiokafka.consumer.group_coordinator: (Re-)joining group 127.0.0.1:9092_group\n",
      "[822645]: [INFO] aiokafka.consumer.group_coordinator: Discovered coordinator 0 for group 127.0.0.1:9092_group\n",
      "[822645]: [INFO] aiokafka.consumer.group_coordinator: (Re-)joining group 127.0.0.1:9092_group\n",
      "[822645]: [WARNING] aiokafka.consumer.group_coordinator: Marking the coordinator dead (node 0)for group 127.0.0.1:9092_group.\n",
      "[822645]: [WARNING] aiokafka.consumer.group_coordinator: Marking the coordinator dead (node 0)for group 127.0.0.1:9092_group.\n",
      "[822645]: [INFO] aiokafka.consumer.group_coordinator: Discovered coordinator 0 for group 127.0.0.1:9092_group\n",
      "[822647]: [INFO] aiokafka.consumer.group_coordinator: Discovered coordinator 0 for group 127.0.0.1:9092_group\n",
      "[822647]: [INFO] aiokafka.consumer.group_coordinator: (Re-)joining group 127.0.0.1:9092_group\n",
      "[822645]: [INFO] aiokafka.consumer.group_coordinator: (Re-)joining group 127.0.0.1:9092_group\n",
      "[822647]: [INFO] aiokafka.consumer.group_coordinator: Discovered coordinator 0 for group 127.0.0.1:9092_group\n",
      "[822645]: [INFO] aiokafka.consumer.group_coordinator: Discovered coordinator 0 for group 127.0.0.1:9092_group\n",
      "[822645]: [INFO] aiokafka.consumer.group_coordinator: (Re-)joining group 127.0.0.1:9092_group\n",
      "[822647]: [INFO] aiokafka.consumer.group_coordinator: (Re-)joining group 127.0.0.1:9092_group\n",
      "[822647]: [WARNING] aiokafka.consumer.group_coordinator: Marking the coordinator dead (node 0)for group 127.0.0.1:9092_group.\n",
      "[822645]: [WARNING] aiokafka.consumer.group_coordinator: Marking the coordinator dead (node 0)for group 127.0.0.1:9092_group.\n",
      "[822645]: [WARNING] aiokafka.consumer.group_coordinator: Marking the coordinator dead (node 0)for group 127.0.0.1:9092_group.\n",
      "[822647]: [WARNING] aiokafka.consumer.group_coordinator: Marking the coordinator dead (node 0)for group 127.0.0.1:9092_group.\n",
      "[822645]: [INFO] aiokafka.consumer.group_coordinator: Discovered coordinator 0 for group 127.0.0.1:9092_group\n",
      "[822645]: [INFO] aiokafka.consumer.group_coordinator: (Re-)joining group 127.0.0.1:9092_group\n",
      "[822645]: [INFO] aiokafka.consumer.group_coordinator: Discovered coordinator 0 for group 127.0.0.1:9092_group\n",
      "[822645]: [INFO] aiokafka.consumer.group_coordinator: (Re-)joining group 127.0.0.1:9092_group\n",
      "[822647]: [INFO] aiokafka.consumer.group_coordinator: Discovered coordinator 0 for group 127.0.0.1:9092_group\n",
      "[822647]: [INFO] aiokafka.consumer.group_coordinator: (Re-)joining group 127.0.0.1:9092_group\n",
      "[822645]: [WARNING] aiokafka.consumer.group_coordinator: Marking the coordinator dead (node 0)for group 127.0.0.1:9092_group.\n",
      "[822647]: [INFO] aiokafka.consumer.group_coordinator: Discovered coordinator 0 for group 127.0.0.1:9092_group\n",
      "[822647]: [INFO] aiokafka.consumer.group_coordinator: (Re-)joining group 127.0.0.1:9092_group\n",
      "[822645]: [WARNING] aiokafka.consumer.group_coordinator: Marking the coordinator dead (node 0)for group 127.0.0.1:9092_group.\n",
      "[822647]: [WARNING] aiokafka.consumer.group_coordinator: Marking the coordinator dead (node 0)for group 127.0.0.1:9092_group.\n",
      "[822647]: [WARNING] aiokafka.consumer.group_coordinator: Marking the coordinator dead (node 0)for group 127.0.0.1:9092_group.\n",
      "[822647]: [INFO] aiokafka.consumer.group_coordinator: Discovered coordinator 0 for group 127.0.0.1:9092_group\n",
      "[822647]: [INFO] aiokafka.consumer.group_coordinator: (Re-)joining group 127.0.0.1:9092_group\n",
      "[822645]: [INFO] aiokafka.consumer.group_coordinator: Discovered coordinator 0 for group 127.0.0.1:9092_group\n",
      "[822645]: [INFO] aiokafka.consumer.group_coordinator: (Re-)joining group 127.0.0.1:9092_group\n",
      "[822647]: [INFO] aiokafka.consumer.group_coordinator: Discovered coordinator 0 for group 127.0.0.1:9092_group\n",
      "[822647]: [INFO] aiokafka.consumer.group_coordinator: (Re-)joining group 127.0.0.1:9092_group\n",
      "[822645]: [INFO] aiokafka.consumer.group_coordinator: Discovered coordinator 0 for group 127.0.0.1:9092_group\n",
      "[822645]: [INFO] aiokafka.consumer.group_coordinator: (Re-)joining group 127.0.0.1:9092_group\n",
      "[822647]: [WARNING] aiokafka.consumer.group_coordinator: Marking the coordinator dead (node 0)for group 127.0.0.1:9092_group.\n",
      "[822645]: [WARNING] aiokafka.consumer.group_coordinator: Marking the coordinator dead (node 0)for group 127.0.0.1:9092_group.\n",
      "[822647]: [WARNING] aiokafka.consumer.group_coordinator: Marking the coordinator dead (node 0)for group 127.0.0.1:9092_group.\n",
      "[822645]: [WARNING] aiokafka.consumer.group_coordinator: Marking the coordinator dead (node 0)for group 127.0.0.1:9092_group.\n",
      "[822645]: [INFO] aiokafka.consumer.group_coordinator: Discovered coordinator 0 for group 127.0.0.1:9092_group\n",
      "[822645]: [INFO] aiokafka.consumer.group_coordinator: (Re-)joining group 127.0.0.1:9092_group\n",
      "[822647]: [INFO] aiokafka.consumer.group_coordinator: Discovered coordinator 0 for group 127.0.0.1:9092_group\n",
      "[822647]: [INFO] aiokafka.consumer.group_coordinator: (Re-)joining group 127.0.0.1:9092_group\n",
      "[822647]: [INFO] aiokafka.consumer.group_coordinator: Discovered coordinator 0 for group 127.0.0.1:9092_group\n",
      "[822647]: [INFO] aiokafka.consumer.group_coordinator: (Re-)joining group 127.0.0.1:9092_group\n",
      "[822645]: [INFO] aiokafka.consumer.group_coordinator: Discovered coordinator 0 for group 127.0.0.1:9092_group\n",
      "[822645]: [INFO] aiokafka.consumer.group_coordinator: (Re-)joining group 127.0.0.1:9092_group\n",
      "[822647]: [WARNING] aiokafka.consumer.group_coordinator: Marking the coordinator dead (node 0)for group 127.0.0.1:9092_group.\n",
      "[822645]: [WARNING] aiokafka.consumer.group_coordinator: Marking the coordinator dead (node 0)for group 127.0.0.1:9092_group.\n",
      "[822647]: [WARNING] aiokafka.consumer.group_coordinator: Marking the coordinator dead (node 0)for group 127.0.0.1:9092_group.\n",
      "[822645]: [WARNING] aiokafka.consumer.group_coordinator: Marking the coordinator dead (node 0)for group 127.0.0.1:9092_group.\n",
      "[822645]: [INFO] aiokafka.consumer.group_coordinator: Discovered coordinator 0 for group 127.0.0.1:9092_group\n",
      "[822645]: [INFO] aiokafka.consumer.group_coordinator: (Re-)joining group 127.0.0.1:9092_group\n",
      "[822645]: [INFO] aiokafka.consumer.group_coordinator: Discovered coordinator 0 for group 127.0.0.1:9092_group\n",
      "[822645]: [INFO] aiokafka.consumer.group_coordinator: (Re-)joining group 127.0.0.1:9092_group\n",
      "[822645]: [WARNING] aiokafka.consumer.group_coordinator: Marking the coordinator dead (node 0)for group 127.0.0.1:9092_group.\n",
      "[822645]: [WARNING] aiokafka.consumer.group_coordinator: Marking the coordinator dead (node 0)for group 127.0.0.1:9092_group.\n",
      "[822647]: [INFO] aiokafka.consumer.group_coordinator: Discovered coordinator 0 for group 127.0.0.1:9092_group\n",
      "[822647]: [INFO] aiokafka.consumer.group_coordinator: (Re-)joining group 127.0.0.1:9092_group\n",
      "[822647]: [INFO] aiokafka.consumer.group_coordinator: Discovered coordinator 0 for group 127.0.0.1:9092_group\n",
      "[822647]: [INFO] aiokafka.consumer.group_coordinator: (Re-)joining group 127.0.0.1:9092_group\n",
      "[822647]: [WARNING] aiokafka.consumer.group_coordinator: Marking the coordinator dead (node 0)for group 127.0.0.1:9092_group.\n",
      "[822647]: [WARNING] aiokafka.consumer.group_coordinator: Marking the coordinator dead (node 0)for group 127.0.0.1:9092_group.\n",
      "[822645]: [INFO] aiokafka.consumer.group_coordinator: Discovered coordinator 0 for group 127.0.0.1:9092_group\n",
      "[822645]: [INFO] aiokafka.consumer.group_coordinator: (Re-)joining group 127.0.0.1:9092_group\n",
      "[822645]: [INFO] aiokafka.consumer.group_coordinator: Discovered coordinator 0 for group 127.0.0.1:9092_group\n",
      "[822645]: [INFO] aiokafka.consumer.group_coordinator: (Re-)joining group 127.0.0.1:9092_group\n",
      "[822647]: [INFO] aiokafka.consumer.group_coordinator: Discovered coordinator 0 for group 127.0.0.1:9092_group\n",
      "[822647]: [INFO] aiokafka.consumer.group_coordinator: (Re-)joining group 127.0.0.1:9092_group\n",
      "[822645]: [WARNING] aiokafka.consumer.group_coordinator: Marking the coordinator dead (node 0)for group 127.0.0.1:9092_group.\n",
      "[822645]: [WARNING] aiokafka.consumer.group_coordinator: Marking the coordinator dead (node 0)for group 127.0.0.1:9092_group.\n",
      "[822647]: [INFO] aiokafka.consumer.group_coordinator: Discovered coordinator 0 for group 127.0.0.1:9092_group\n",
      "[822647]: [INFO] aiokafka.consumer.group_coordinator: (Re-)joining group 127.0.0.1:9092_group\n",
      "[822647]: [WARNING] aiokafka.consumer.group_coordinator: Marking the coordinator dead (node 0)for group 127.0.0.1:9092_group.\n",
      "[822647]: [WARNING] aiokafka.consumer.group_coordinator: Marking the coordinator dead (node 0)for group 127.0.0.1:9092_group.\n",
      "[822647]: [INFO] aiokafka.consumer.group_coordinator: Discovered coordinator 0 for group 127.0.0.1:9092_group\n",
      "[822647]: [INFO] aiokafka.consumer.group_coordinator: (Re-)joining group 127.0.0.1:9092_group\n",
      "[822645]: [INFO] aiokafka.consumer.group_coordinator: Discovered coordinator 0 for group 127.0.0.1:9092_group\n",
      "[822645]: [INFO] aiokafka.consumer.group_coordinator: (Re-)joining group 127.0.0.1:9092_group\n",
      "[822647]: [INFO] aiokafka.consumer.group_coordinator: Discovered coordinator 0 for group 127.0.0.1:9092_group\n",
      "[822647]: [INFO] aiokafka.consumer.group_coordinator: (Re-)joining group 127.0.0.1:9092_group\n",
      "[822645]: [INFO] aiokafka.consumer.group_coordinator: Discovered coordinator 0 for group 127.0.0.1:9092_group\n",
      "[822645]: [INFO] aiokafka.consumer.group_coordinator: (Re-)joining group 127.0.0.1:9092_group\n",
      "[822647]: [WARNING] aiokafka.consumer.group_coordinator: Marking the coordinator dead (node 0)for group 127.0.0.1:9092_group.\n",
      "[822645]: [WARNING] aiokafka.consumer.group_coordinator: Marking the coordinator dead (node 0)for group 127.0.0.1:9092_group.\n",
      "[822647]: [WARNING] aiokafka.consumer.group_coordinator: Marking the coordinator dead (node 0)for group 127.0.0.1:9092_group.\n",
      "[822645]: [WARNING] aiokafka.consumer.group_coordinator: Marking the coordinator dead (node 0)for group 127.0.0.1:9092_group.\n",
      "[822645]: [INFO] aiokafka.consumer.group_coordinator: Discovered coordinator 0 for group 127.0.0.1:9092_group\n",
      "[822645]: [INFO] aiokafka.consumer.group_coordinator: (Re-)joining group 127.0.0.1:9092_group\n",
      "[822647]: [INFO] aiokafka.consumer.group_coordinator: Discovered coordinator 0 for group 127.0.0.1:9092_group\n",
      "[822647]: [INFO] aiokafka.consumer.group_coordinator: (Re-)joining group 127.0.0.1:9092_group\n",
      "[822645]: [INFO] aiokafka.consumer.group_coordinator: Discovered coordinator 0 for group 127.0.0.1:9092_group\n",
      "[822647]: [INFO] aiokafka.consumer.group_coordinator: Discovered coordinator 0 for group 127.0.0.1:9092_group\n",
      "[822645]: [INFO] aiokafka.consumer.group_coordinator: (Re-)joining group 127.0.0.1:9092_group\n",
      "[822647]: [INFO] aiokafka.consumer.group_coordinator: (Re-)joining group 127.0.0.1:9092_group\n",
      "[822645]: [WARNING] aiokafka.consumer.group_coordinator: Marking the coordinator dead (node 0)for group 127.0.0.1:9092_group.\n",
      "[822647]: [WARNING] aiokafka.consumer.group_coordinator: Marking the coordinator dead (node 0)for group 127.0.0.1:9092_group.\n",
      "[822645]: [WARNING] aiokafka.consumer.group_coordinator: Marking the coordinator dead (node 0)for group 127.0.0.1:9092_group.\n",
      "[822647]: [WARNING] aiokafka.consumer.group_coordinator: Marking the coordinator dead (node 0)for group 127.0.0.1:9092_group.\n",
      "[822645]: [INFO] aiokafka.consumer.group_coordinator: Discovered coordinator 0 for group 127.0.0.1:9092_group\n",
      "[822645]: [INFO] aiokafka.consumer.group_coordinator: (Re-)joining group 127.0.0.1:9092_group\n",
      "[822647]: [INFO] aiokafka.consumer.group_coordinator: Discovered coordinator 0 for group 127.0.0.1:9092_group\n",
      "[822647]: [INFO] aiokafka.consumer.group_coordinator: (Re-)joining group 127.0.0.1:9092_group\n",
      "[822645]: [INFO] aiokafka.consumer.group_coordinator: Discovered coordinator 0 for group 127.0.0.1:9092_group\n",
      "[822645]: [INFO] aiokafka.consumer.group_coordinator: (Re-)joining group 127.0.0.1:9092_group\n",
      "[822647]: [INFO] aiokafka.consumer.group_coordinator: Discovered coordinator 0 for group 127.0.0.1:9092_group\n",
      "[822647]: [INFO] aiokafka.consumer.group_coordinator: (Re-)joining group 127.0.0.1:9092_group\n",
      "[822645]: [WARNING] aiokafka.consumer.group_coordinator: Marking the coordinator dead (node 0)for group 127.0.0.1:9092_group.\n",
      "[822647]: [WARNING] aiokafka.consumer.group_coordinator: Marking the coordinator dead (node 0)for group 127.0.0.1:9092_group.\n",
      "[822645]: [WARNING] aiokafka.consumer.group_coordinator: Marking the coordinator dead (node 0)for group 127.0.0.1:9092_group.\n",
      "[822647]: [WARNING] aiokafka.consumer.group_coordinator: Marking the coordinator dead (node 0)for group 127.0.0.1:9092_group.\n",
      "[822647]: [INFO] aiokafka.consumer.group_coordinator: Discovered coordinator 0 for group 127.0.0.1:9092_group\n",
      "[822647]: [INFO] aiokafka.consumer.group_coordinator: (Re-)joining group 127.0.0.1:9092_group\n",
      "[822647]: [INFO] aiokafka.consumer.group_coordinator: Discovered coordinator 0 for group 127.0.0.1:9092_group\n",
      "[822647]: [INFO] aiokafka.consumer.group_coordinator: (Re-)joining group 127.0.0.1:9092_group\n",
      "[822647]: [WARNING] aiokafka.consumer.group_coordinator: Marking the coordinator dead (node 0)for group 127.0.0.1:9092_group.\n",
      "[822647]: [WARNING] aiokafka.consumer.group_coordinator: Marking the coordinator dead (node 0)for group 127.0.0.1:9092_group.\n",
      "[822645]: [INFO] aiokafka.consumer.group_coordinator: Discovered coordinator 0 for group 127.0.0.1:9092_group\n",
      "[822645]: [INFO] aiokafka.consumer.group_coordinator: (Re-)joining group 127.0.0.1:9092_group\n",
      "[822645]: [INFO] aiokafka.consumer.group_coordinator: Discovered coordinator 0 for group 127.0.0.1:9092_group\n",
      "[822645]: [INFO] aiokafka.consumer.group_coordinator: (Re-)joining group 127.0.0.1:9092_group\n",
      "[822645]: [WARNING] aiokafka.consumer.group_coordinator: Marking the coordinator dead (node 0)for group 127.0.0.1:9092_group.\n",
      "[822645]: [WARNING] aiokafka.consumer.group_coordinator: Marking the coordinator dead (node 0)for group 127.0.0.1:9092_group.\n",
      "[822647]: [INFO] aiokafka.consumer.group_coordinator: Discovered coordinator 0 for group 127.0.0.1:9092_group\n",
      "[822647]: [INFO] aiokafka.consumer.group_coordinator: (Re-)joining group 127.0.0.1:9092_group\n",
      "[822645]: [INFO] aiokafka.consumer.group_coordinator: Discovered coordinator 0 for group 127.0.0.1:9092_group\n",
      "[822645]: [INFO] aiokafka.consumer.group_coordinator: (Re-)joining group 127.0.0.1:9092_group\n",
      "[822647]: [INFO] aiokafka.consumer.group_coordinator: Discovered coordinator 0 for group 127.0.0.1:9092_group\n",
      "[822647]: [INFO] aiokafka.consumer.group_coordinator: (Re-)joining group 127.0.0.1:9092_group\n",
      "[822645]: [INFO] aiokafka.consumer.group_coordinator: Discovered coordinator 0 for group 127.0.0.1:9092_group\n",
      "[822645]: [INFO] aiokafka.consumer.group_coordinator: (Re-)joining group 127.0.0.1:9092_group\n",
      "[822645]: [WARNING] aiokafka.consumer.group_coordinator: Marking the coordinator dead (node 0)for group 127.0.0.1:9092_group.\n",
      "[822647]: [WARNING] aiokafka.consumer.group_coordinator: Marking the coordinator dead (node 0)for group 127.0.0.1:9092_group.\n",
      "[822645]: [WARNING] aiokafka.consumer.group_coordinator: Marking the coordinator dead (node 0)for group 127.0.0.1:9092_group.\n",
      "[822647]: [WARNING] aiokafka.consumer.group_coordinator: Marking the coordinator dead (node 0)for group 127.0.0.1:9092_group.\n",
      "[822645]: [INFO] aiokafka.consumer.group_coordinator: Discovered coordinator 0 for group 127.0.0.1:9092_group\n",
      "[822645]: [INFO] aiokafka.consumer.group_coordinator: (Re-)joining group 127.0.0.1:9092_group\n",
      "[822647]: [INFO] aiokafka.consumer.group_coordinator: Discovered coordinator 0 for group 127.0.0.1:9092_group\n",
      "[822647]: [INFO] aiokafka.consumer.group_coordinator: (Re-)joining group 127.0.0.1:9092_group\n",
      "[822645]: [INFO] aiokafka.consumer.group_coordinator: Discovered coordinator 0 for group 127.0.0.1:9092_group\n",
      "[822645]: [INFO] aiokafka.consumer.group_coordinator: (Re-)joining group 127.0.0.1:9092_group\n",
      "[822647]: [INFO] aiokafka.consumer.group_coordinator: Discovered coordinator 0 for group 127.0.0.1:9092_group\n",
      "[822647]: [INFO] aiokafka.consumer.group_coordinator: (Re-)joining group 127.0.0.1:9092_group\n",
      "[822645]: [WARNING] aiokafka.consumer.group_coordinator: Marking the coordinator dead (node 0)for group 127.0.0.1:9092_group.\n",
      "[822647]: [WARNING] aiokafka.consumer.group_coordinator: Marking the coordinator dead (node 0)for group 127.0.0.1:9092_group.\n",
      "[822645]: [WARNING] aiokafka.consumer.group_coordinator: Marking the coordinator dead (node 0)for group 127.0.0.1:9092_group.\n",
      "[822647]: [WARNING] aiokafka.consumer.group_coordinator: Marking the coordinator dead (node 0)for group 127.0.0.1:9092_group.\n",
      "[822645]: [INFO] aiokafka.consumer.group_coordinator: Discovered coordinator 0 for group 127.0.0.1:9092_group\n",
      "[822645]: [INFO] aiokafka.consumer.group_coordinator: (Re-)joining group 127.0.0.1:9092_group\n",
      "[822647]: [INFO] aiokafka.consumer.group_coordinator: Discovered coordinator 0 for group 127.0.0.1:9092_group\n",
      "[822647]: [INFO] aiokafka.consumer.group_coordinator: (Re-)joining group 127.0.0.1:9092_group\n",
      "[822645]: [INFO] aiokafka.consumer.group_coordinator: Discovered coordinator 0 for group 127.0.0.1:9092_group\n",
      "[822647]: [INFO] aiokafka.consumer.group_coordinator: Discovered coordinator 0 for group 127.0.0.1:9092_group\n",
      "[822647]: [INFO] aiokafka.consumer.group_coordinator: (Re-)joining group 127.0.0.1:9092_group\n",
      "[822645]: [INFO] aiokafka.consumer.group_coordinator: (Re-)joining group 127.0.0.1:9092_group\n",
      "[822645]: [WARNING] aiokafka.consumer.group_coordinator: Marking the coordinator dead (node 0)for group 127.0.0.1:9092_group.\n",
      "[822647]: [WARNING] aiokafka.consumer.group_coordinator: Marking the coordinator dead (node 0)for group 127.0.0.1:9092_group.\n",
      "[822645]: [WARNING] aiokafka.consumer.group_coordinator: Marking the coordinator dead (node 0)for group 127.0.0.1:9092_group.\n",
      "[822647]: [WARNING] aiokafka.consumer.group_coordinator: Marking the coordinator dead (node 0)for group 127.0.0.1:9092_group.\n",
      "[822645]: [INFO] aiokafka.consumer.group_coordinator: Discovered coordinator 0 for group 127.0.0.1:9092_group\n",
      "[822645]: [INFO] aiokafka.consumer.group_coordinator: (Re-)joining group 127.0.0.1:9092_group\n",
      "[822647]: [INFO] aiokafka.consumer.group_coordinator: Discovered coordinator 0 for group 127.0.0.1:9092_group\n",
      "[822647]: [INFO] aiokafka.consumer.group_coordinator: (Re-)joining group 127.0.0.1:9092_group\n",
      "[822645]: [INFO] aiokafka.consumer.group_coordinator: Discovered coordinator 0 for group 127.0.0.1:9092_group\n",
      "[822647]: [INFO] aiokafka.consumer.group_coordinator: Discovered coordinator 0 for group 127.0.0.1:9092_group\n",
      "[822645]: [INFO] aiokafka.consumer.group_coordinator: (Re-)joining group 127.0.0.1:9092_group\n",
      "[822647]: [INFO] aiokafka.consumer.group_coordinator: (Re-)joining group 127.0.0.1:9092_group\n",
      "[822645]: [WARNING] aiokafka.consumer.group_coordinator: Marking the coordinator dead (node 0)for group 127.0.0.1:9092_group.\n",
      "[822647]: [WARNING] aiokafka.consumer.group_coordinator: Marking the coordinator dead (node 0)for group 127.0.0.1:9092_group.\n",
      "[822645]: [WARNING] aiokafka.consumer.group_coordinator: Marking the coordinator dead (node 0)for group 127.0.0.1:9092_group.\n",
      "[822647]: [WARNING] aiokafka.consumer.group_coordinator: Marking the coordinator dead (node 0)for group 127.0.0.1:9092_group.\n",
      "[822647]: [INFO] aiokafka.consumer.group_coordinator: Discovered coordinator 0 for group 127.0.0.1:9092_group\n",
      "[822647]: [INFO] aiokafka.consumer.group_coordinator: (Re-)joining group 127.0.0.1:9092_group\n",
      "[822645]: [INFO] aiokafka.consumer.group_coordinator: Discovered coordinator 0 for group 127.0.0.1:9092_group\n",
      "[822645]: [INFO] aiokafka.consumer.group_coordinator: (Re-)joining group 127.0.0.1:9092_group\n",
      "[822647]: [INFO] aiokafka.consumer.group_coordinator: Discovered coordinator 0 for group 127.0.0.1:9092_group\n",
      "[822647]: [INFO] aiokafka.consumer.group_coordinator: (Re-)joining group 127.0.0.1:9092_group\n",
      "[822645]: [INFO] aiokafka.consumer.group_coordinator: Discovered coordinator 0 for group 127.0.0.1:9092_group\n",
      "[822645]: [INFO] aiokafka.consumer.group_coordinator: (Re-)joining group 127.0.0.1:9092_group\n",
      "[822645]: [WARNING] aiokafka.consumer.group_coordinator: Marking the coordinator dead (node 0)for group 127.0.0.1:9092_group.\n",
      "[822647]: [WARNING] aiokafka.consumer.group_coordinator: Marking the coordinator dead (node 0)for group 127.0.0.1:9092_group.\n",
      "[822645]: [WARNING] aiokafka.consumer.group_coordinator: Marking the coordinator dead (node 0)for group 127.0.0.1:9092_group.\n",
      "[822647]: [WARNING] aiokafka.consumer.group_coordinator: Marking the coordinator dead (node 0)for group 127.0.0.1:9092_group.\n",
      "[822645]: [INFO] aiokafka.consumer.group_coordinator: Discovered coordinator 0 for group 127.0.0.1:9092_group\n",
      "[822645]: [INFO] aiokafka.consumer.group_coordinator: (Re-)joining group 127.0.0.1:9092_group\n",
      "[822645]: [INFO] aiokafka.consumer.group_coordinator: Discovered coordinator 0 for group 127.0.0.1:9092_group\n",
      "[822645]: [INFO] aiokafka.consumer.group_coordinator: (Re-)joining group 127.0.0.1:9092_group\n",
      "[822645]: [WARNING] aiokafka.consumer.group_coordinator: Marking the coordinator dead (node 0)for group 127.0.0.1:9092_group.\n",
      "[822647]: [INFO] aiokafka.consumer.group_coordinator: Discovered coordinator 0 for group 127.0.0.1:9092_group\n",
      "[822647]: [INFO] aiokafka.consumer.group_coordinator: (Re-)joining group 127.0.0.1:9092_group\n",
      "[822645]: [WARNING] aiokafka.consumer.group_coordinator: Marking the coordinator dead (node 0)for group 127.0.0.1:9092_group.\n",
      "[822647]: [INFO] aiokafka.consumer.group_coordinator: Discovered coordinator 0 for group 127.0.0.1:9092_group\n",
      "[822647]: [INFO] aiokafka.consumer.group_coordinator: (Re-)joining group 127.0.0.1:9092_group\n",
      "[822647]: [WARNING] aiokafka.consumer.group_coordinator: Marking the coordinator dead (node 0)for group 127.0.0.1:9092_group.\n",
      "[822647]: [WARNING] aiokafka.consumer.group_coordinator: Marking the coordinator dead (node 0)for group 127.0.0.1:9092_group.\n",
      "[822645]: [INFO] aiokafka.consumer.group_coordinator: Discovered coordinator 0 for group 127.0.0.1:9092_group\n",
      "[822645]: [INFO] aiokafka.consumer.group_coordinator: (Re-)joining group 127.0.0.1:9092_group\n",
      "[822645]: [INFO] aiokafka.consumer.group_coordinator: Discovered coordinator 0 for group 127.0.0.1:9092_group\n",
      "[822645]: [INFO] aiokafka.consumer.group_coordinator: (Re-)joining group 127.0.0.1:9092_group\n",
      "[822647]: [INFO] aiokafka.consumer.group_coordinator: Discovered coordinator 0 for group 127.0.0.1:9092_group\n",
      "[822647]: [INFO] aiokafka.consumer.group_coordinator: (Re-)joining group 127.0.0.1:9092_group\n",
      "[822645]: [WARNING] aiokafka.consumer.group_coordinator: Marking the coordinator dead (node 0)for group 127.0.0.1:9092_group.\n",
      "[822645]: [WARNING] aiokafka.consumer.group_coordinator: Marking the coordinator dead (node 0)for group 127.0.0.1:9092_group.\n",
      "[822647]: [INFO] aiokafka.consumer.group_coordinator: Discovered coordinator 0 for group 127.0.0.1:9092_group\n",
      "[822647]: [INFO] aiokafka.consumer.group_coordinator: (Re-)joining group 127.0.0.1:9092_group\n",
      "[822647]: [WARNING] aiokafka.consumer.group_coordinator: Marking the coordinator dead (node 0)for group 127.0.0.1:9092_group.\n",
      "[822647]: [WARNING] aiokafka.consumer.group_coordinator: Marking the coordinator dead (node 0)for group 127.0.0.1:9092_group.\n",
      "[822647]: [INFO] aiokafka.consumer.group_coordinator: Discovered coordinator 0 for group 127.0.0.1:9092_group\n",
      "[822647]: [INFO] aiokafka.consumer.group_coordinator: (Re-)joining group 127.0.0.1:9092_group\n",
      "[822645]: [INFO] aiokafka.consumer.group_coordinator: Discovered coordinator 0 for group 127.0.0.1:9092_group\n",
      "[822645]: [INFO] aiokafka.consumer.group_coordinator: (Re-)joining group 127.0.0.1:9092_group\n",
      "[822647]: [INFO] aiokafka.consumer.group_coordinator: Discovered coordinator 0 for group 127.0.0.1:9092_group\n",
      "[822647]: [INFO] aiokafka.consumer.group_coordinator: (Re-)joining group 127.0.0.1:9092_group\n",
      "[822645]: [INFO] aiokafka.consumer.group_coordinator: Discovered coordinator 0 for group 127.0.0.1:9092_group\n",
      "[822645]: [INFO] aiokafka.consumer.group_coordinator: (Re-)joining group 127.0.0.1:9092_group\n",
      "[822645]: [WARNING] aiokafka.consumer.group_coordinator: Marking the coordinator dead (node 0)for group 127.0.0.1:9092_group.\n",
      "[822647]: [WARNING] aiokafka.consumer.group_coordinator: Marking the coordinator dead (node 0)for group 127.0.0.1:9092_group.\n",
      "[822647]: [WARNING] aiokafka.consumer.group_coordinator: Marking the coordinator dead (node 0)for group 127.0.0.1:9092_group.\n",
      "[822645]: [WARNING] aiokafka.consumer.group_coordinator: Marking the coordinator dead (node 0)for group 127.0.0.1:9092_group.\n",
      "[822645]: [INFO] aiokafka.consumer.group_coordinator: Discovered coordinator 0 for group 127.0.0.1:9092_group\n",
      "[822645]: [INFO] aiokafka.consumer.group_coordinator: (Re-)joining group 127.0.0.1:9092_group\n",
      "[822647]: [INFO] aiokafka.consumer.group_coordinator: Discovered coordinator 0 for group 127.0.0.1:9092_group\n",
      "[822647]: [INFO] aiokafka.consumer.group_coordinator: (Re-)joining group 127.0.0.1:9092_group\n",
      "[822645]: [INFO] aiokafka.consumer.group_coordinator: Discovered coordinator 0 for group 127.0.0.1:9092_group\n",
      "[822645]: [INFO] aiokafka.consumer.group_coordinator: (Re-)joining group 127.0.0.1:9092_group\n",
      "[822647]: [INFO] aiokafka.consumer.group_coordinator: Discovered coordinator 0 for group 127.0.0.1:9092_group\n",
      "[822647]: [INFO] aiokafka.consumer.group_coordinator: (Re-)joining group 127.0.0.1:9092_group\n",
      "[822645]: [WARNING] aiokafka.consumer.group_coordinator: Marking the coordinator dead (node 0)for group 127.0.0.1:9092_group.\n",
      "[822645]: [WARNING] aiokafka.consumer.group_coordinator: Marking the coordinator dead (node 0)for group 127.0.0.1:9092_group.\n",
      "[822647]: [WARNING] aiokafka.consumer.group_coordinator: Marking the coordinator dead (node 0)for group 127.0.0.1:9092_group.\n",
      "[822647]: [WARNING] aiokafka.consumer.group_coordinator: Marking the coordinator dead (node 0)for group 127.0.0.1:9092_group.\n",
      "[822647]: [INFO] aiokafka.consumer.group_coordinator: Discovered coordinator 0 for group 127.0.0.1:9092_group\n",
      "[822647]: [INFO] aiokafka.consumer.group_coordinator: (Re-)joining group 127.0.0.1:9092_group\n",
      "[822645]: [INFO] aiokafka.consumer.group_coordinator: Discovered coordinator 0 for group 127.0.0.1:9092_group\n",
      "[822645]: [INFO] aiokafka.consumer.group_coordinator: (Re-)joining group 127.0.0.1:9092_group\n",
      "[822647]: [INFO] aiokafka.consumer.group_coordinator: Discovered coordinator 0 for group 127.0.0.1:9092_group\n",
      "[822647]: [INFO] aiokafka.consumer.group_coordinator: (Re-)joining group 127.0.0.1:9092_group\n",
      "[822645]: [INFO] aiokafka.consumer.group_coordinator: Discovered coordinator 0 for group 127.0.0.1:9092_group\n",
      "[822645]: [INFO] aiokafka.consumer.group_coordinator: (Re-)joining group 127.0.0.1:9092_group\n",
      "[822645]: [WARNING] aiokafka.consumer.group_coordinator: Marking the coordinator dead (node 0)for group 127.0.0.1:9092_group.\n",
      "[822647]: [WARNING] aiokafka.consumer.group_coordinator: Marking the coordinator dead (node 0)for group 127.0.0.1:9092_group.\n",
      "[822645]: [WARNING] aiokafka.consumer.group_coordinator: Marking the coordinator dead (node 0)for group 127.0.0.1:9092_group.\n",
      "[822647]: [WARNING] aiokafka.consumer.group_coordinator: Marking the coordinator dead (node 0)for group 127.0.0.1:9092_group.\n",
      "[822647]: [INFO] aiokafka.consumer.group_coordinator: Discovered coordinator 0 for group 127.0.0.1:9092_group\n",
      "[822647]: [INFO] aiokafka.consumer.group_coordinator: (Re-)joining group 127.0.0.1:9092_group\n",
      "[822645]: [INFO] aiokafka.consumer.group_coordinator: Discovered coordinator 0 for group 127.0.0.1:9092_group\n",
      "[822645]: [INFO] aiokafka.consumer.group_coordinator: (Re-)joining group 127.0.0.1:9092_group\n",
      "[822647]: [INFO] aiokafka.consumer.group_coordinator: Discovered coordinator 0 for group 127.0.0.1:9092_group\n",
      "[822647]: [INFO] aiokafka.consumer.group_coordinator: (Re-)joining group 127.0.0.1:9092_group\n",
      "[822645]: [INFO] aiokafka.consumer.group_coordinator: Discovered coordinator 0 for group 127.0.0.1:9092_group\n",
      "[822645]: [INFO] aiokafka.consumer.group_coordinator: (Re-)joining group 127.0.0.1:9092_group\n",
      "[822647]: [WARNING] aiokafka.consumer.group_coordinator: Marking the coordinator dead (node 0)for group 127.0.0.1:9092_group.\n",
      "[822645]: [WARNING] aiokafka.consumer.group_coordinator: Marking the coordinator dead (node 0)for group 127.0.0.1:9092_group.\n",
      "[822647]: [WARNING] aiokafka.consumer.group_coordinator: Marking the coordinator dead (node 0)for group 127.0.0.1:9092_group.\n",
      "[822645]: [WARNING] aiokafka.consumer.group_coordinator: Marking the coordinator dead (node 0)for group 127.0.0.1:9092_group.\n",
      "[822645]: [INFO] aiokafka.consumer.group_coordinator: Discovered coordinator 0 for group 127.0.0.1:9092_group\n",
      "[822645]: [INFO] aiokafka.consumer.group_coordinator: (Re-)joining group 127.0.0.1:9092_group\n",
      "[822647]: [INFO] aiokafka.consumer.group_coordinator: Discovered coordinator 0 for group 127.0.0.1:9092_group\n",
      "[822647]: [INFO] aiokafka.consumer.group_coordinator: (Re-)joining group 127.0.0.1:9092_group\n",
      "[822645]: [INFO] aiokafka.consumer.group_coordinator: Discovered coordinator 0 for group 127.0.0.1:9092_group\n",
      "[822647]: [INFO] aiokafka.consumer.group_coordinator: Discovered coordinator 0 for group 127.0.0.1:9092_group\n",
      "[822647]: [INFO] aiokafka.consumer.group_coordinator: (Re-)joining group 127.0.0.1:9092_group\n",
      "[822645]: [INFO] aiokafka.consumer.group_coordinator: (Re-)joining group 127.0.0.1:9092_group\n",
      "[822645]: [WARNING] aiokafka.consumer.group_coordinator: Marking the coordinator dead (node 0)for group 127.0.0.1:9092_group.\n",
      "[822647]: [WARNING] aiokafka.consumer.group_coordinator: Marking the coordinator dead (node 0)for group 127.0.0.1:9092_group.\n",
      "[822645]: [WARNING] aiokafka.consumer.group_coordinator: Marking the coordinator dead (node 0)for group 127.0.0.1:9092_group.\n",
      "[822647]: [WARNING] aiokafka.consumer.group_coordinator: Marking the coordinator dead (node 0)for group 127.0.0.1:9092_group.\n",
      "[822645]: [INFO] aiokafka.consumer.group_coordinator: Discovered coordinator 0 for group 127.0.0.1:9092_group\n",
      "[822645]: [INFO] aiokafka.consumer.group_coordinator: (Re-)joining group 127.0.0.1:9092_group\n",
      "[822647]: [INFO] aiokafka.consumer.group_coordinator: Discovered coordinator 0 for group 127.0.0.1:9092_group\n",
      "[822647]: [INFO] aiokafka.consumer.group_coordinator: (Re-)joining group 127.0.0.1:9092_group\n",
      "[822647]: [INFO] aiokafka.consumer.group_coordinator: Discovered coordinator 0 for group 127.0.0.1:9092_group\n",
      "[822645]: [INFO] aiokafka.consumer.group_coordinator: Discovered coordinator 0 for group 127.0.0.1:9092_group\n",
      "[822647]: [INFO] aiokafka.consumer.group_coordinator: (Re-)joining group 127.0.0.1:9092_group\n",
      "[822645]: [INFO] aiokafka.consumer.group_coordinator: (Re-)joining group 127.0.0.1:9092_group\n",
      "[822647]: [WARNING] aiokafka.consumer.group_coordinator: Marking the coordinator dead (node 0)for group 127.0.0.1:9092_group.\n",
      "[822645]: [WARNING] aiokafka.consumer.group_coordinator: Marking the coordinator dead (node 0)for group 127.0.0.1:9092_group.\n",
      "[822647]: [WARNING] aiokafka.consumer.group_coordinator: Marking the coordinator dead (node 0)for group 127.0.0.1:9092_group.\n",
      "[822645]: [WARNING] aiokafka.consumer.group_coordinator: Marking the coordinator dead (node 0)for group 127.0.0.1:9092_group.\n",
      "[822645]: [INFO] aiokafka.consumer.group_coordinator: Discovered coordinator 0 for group 127.0.0.1:9092_group\n",
      "[822645]: [INFO] aiokafka.consumer.group_coordinator: (Re-)joining group 127.0.0.1:9092_group\n",
      "[822647]: [INFO] aiokafka.consumer.group_coordinator: Discovered coordinator 0 for group 127.0.0.1:9092_group\n",
      "[822647]: [INFO] aiokafka.consumer.group_coordinator: (Re-)joining group 127.0.0.1:9092_group\n",
      "[822647]: [INFO] aiokafka.consumer.group_coordinator: Discovered coordinator 0 for group 127.0.0.1:9092_group\n",
      "[822647]: [INFO] aiokafka.consumer.group_coordinator: (Re-)joining group 127.0.0.1:9092_group\n",
      "[822645]: [INFO] aiokafka.consumer.group_coordinator: Discovered coordinator 0 for group 127.0.0.1:9092_group\n",
      "[822645]: [INFO] aiokafka.consumer.group_coordinator: (Re-)joining group 127.0.0.1:9092_group\n",
      "[822645]: [WARNING] aiokafka.consumer.group_coordinator: Marking the coordinator dead (node 0)for group 127.0.0.1:9092_group.\n",
      "[822647]: [WARNING] aiokafka.consumer.group_coordinator: Marking the coordinator dead (node 0)for group 127.0.0.1:9092_group.\n",
      "[822645]: [WARNING] aiokafka.consumer.group_coordinator: Marking the coordinator dead (node 0)for group 127.0.0.1:9092_group.\n",
      "[822647]: [WARNING] aiokafka.consumer.group_coordinator: Marking the coordinator dead (node 0)for group 127.0.0.1:9092_group.\n",
      "[822647]: [INFO] aiokafka.consumer.group_coordinator: Discovered coordinator 0 for group 127.0.0.1:9092_group\n",
      "[822647]: [INFO] aiokafka.consumer.group_coordinator: (Re-)joining group 127.0.0.1:9092_group\n",
      "[822645]: [INFO] aiokafka.consumer.group_coordinator: Discovered coordinator 0 for group 127.0.0.1:9092_group\n",
      "[822645]: [INFO] aiokafka.consumer.group_coordinator: (Re-)joining group 127.0.0.1:9092_group\n",
      "[822647]: [INFO] aiokafka.consumer.group_coordinator: Discovered coordinator 0 for group 127.0.0.1:9092_group\n",
      "[822647]: [INFO] aiokafka.consumer.group_coordinator: (Re-)joining group 127.0.0.1:9092_group\n",
      "[822645]: [INFO] aiokafka.consumer.group_coordinator: Discovered coordinator 0 for group 127.0.0.1:9092_group\n",
      "[822645]: [INFO] aiokafka.consumer.group_coordinator: (Re-)joining group 127.0.0.1:9092_group\n",
      "[822647]: [WARNING] aiokafka.consumer.group_coordinator: Marking the coordinator dead (node 0)for group 127.0.0.1:9092_group.\n",
      "[822645]: [WARNING] aiokafka.consumer.group_coordinator: Marking the coordinator dead (node 0)for group 127.0.0.1:9092_group.\n",
      "[822647]: [WARNING] aiokafka.consumer.group_coordinator: Marking the coordinator dead (node 0)for group 127.0.0.1:9092_group.\n",
      "[822645]: [WARNING] aiokafka.consumer.group_coordinator: Marking the coordinator dead (node 0)for group 127.0.0.1:9092_group.\n",
      "[822647]: [INFO] aiokafka.consumer.group_coordinator: Discovered coordinator 0 for group 127.0.0.1:9092_group\n",
      "[822647]: [INFO] aiokafka.consumer.group_coordinator: (Re-)joining group 127.0.0.1:9092_group\n",
      "[822647]: [INFO] aiokafka.consumer.group_coordinator: Discovered coordinator 0 for group 127.0.0.1:9092_group\n",
      "[822645]: [INFO] aiokafka.consumer.group_coordinator: Discovered coordinator 0 for group 127.0.0.1:9092_group\n",
      "[822647]: [INFO] aiokafka.consumer.group_coordinator: (Re-)joining group 127.0.0.1:9092_group\n",
      "[822645]: [INFO] aiokafka.consumer.group_coordinator: (Re-)joining group 127.0.0.1:9092_group\n",
      "[822645]: [INFO] aiokafka.consumer.group_coordinator: Discovered coordinator 0 for group 127.0.0.1:9092_group\n",
      "[822647]: [WARNING] aiokafka.consumer.group_coordinator: Marking the coordinator dead (node 0)for group 127.0.0.1:9092_group.\n",
      "[822645]: [INFO] aiokafka.consumer.group_coordinator: (Re-)joining group 127.0.0.1:9092_group\n",
      "[822647]: [WARNING] aiokafka.consumer.group_coordinator: Marking the coordinator dead (node 0)for group 127.0.0.1:9092_group.\n",
      "[822645]: [WARNING] aiokafka.consumer.group_coordinator: Marking the coordinator dead (node 0)for group 127.0.0.1:9092_group.\n",
      "[822645]: [WARNING] aiokafka.consumer.group_coordinator: Marking the coordinator dead (node 0)for group 127.0.0.1:9092_group.\n",
      "[822645]: [INFO] aiokafka.consumer.group_coordinator: Discovered coordinator 0 for group 127.0.0.1:9092_group\n",
      "[822645]: [INFO] aiokafka.consumer.group_coordinator: (Re-)joining group 127.0.0.1:9092_group\n",
      "[822647]: [INFO] aiokafka.consumer.group_coordinator: Discovered coordinator 0 for group 127.0.0.1:9092_group\n",
      "[822647]: [INFO] aiokafka.consumer.group_coordinator: (Re-)joining group 127.0.0.1:9092_group\n",
      "[822645]: [INFO] aiokafka.consumer.group_coordinator: Discovered coordinator 0 for group 127.0.0.1:9092_group\n",
      "[822645]: [INFO] aiokafka.consumer.group_coordinator: (Re-)joining group 127.0.0.1:9092_group\n",
      "[822647]: [INFO] aiokafka.consumer.group_coordinator: Discovered coordinator 0 for group 127.0.0.1:9092_group\n",
      "[822647]: [INFO] aiokafka.consumer.group_coordinator: (Re-)joining group 127.0.0.1:9092_group\n",
      "[822647]: [WARNING] aiokafka.consumer.group_coordinator: Marking the coordinator dead (node 0)for group 127.0.0.1:9092_group.\n",
      "[822645]: [WARNING] aiokafka.consumer.group_coordinator: Marking the coordinator dead (node 0)for group 127.0.0.1:9092_group.\n",
      "[822647]: [WARNING] aiokafka.consumer.group_coordinator: Marking the coordinator dead (node 0)for group 127.0.0.1:9092_group.\n",
      "[822645]: [WARNING] aiokafka.consumer.group_coordinator: Marking the coordinator dead (node 0)for group 127.0.0.1:9092_group.\n",
      "[822645]: [INFO] aiokafka.consumer.group_coordinator: Discovered coordinator 0 for group 127.0.0.1:9092_group\n",
      "[822645]: [INFO] aiokafka.consumer.group_coordinator: (Re-)joining group 127.0.0.1:9092_group\n",
      "[822647]: [INFO] aiokafka.consumer.group_coordinator: Discovered coordinator 0 for group 127.0.0.1:9092_group\n",
      "[822647]: [INFO] aiokafka.consumer.group_coordinator: (Re-)joining group 127.0.0.1:9092_group\n",
      "[822645]: [INFO] aiokafka.consumer.group_coordinator: Discovered coordinator 0 for group 127.0.0.1:9092_group\n",
      "[822647]: [INFO] aiokafka.consumer.group_coordinator: Discovered coordinator 0 for group 127.0.0.1:9092_group\n",
      "[822645]: [INFO] aiokafka.consumer.group_coordinator: (Re-)joining group 127.0.0.1:9092_group\n",
      "[822647]: [INFO] aiokafka.consumer.group_coordinator: (Re-)joining group 127.0.0.1:9092_group\n",
      "[822647]: [WARNING] aiokafka.consumer.group_coordinator: Marking the coordinator dead (node 0)for group 127.0.0.1:9092_group.\n",
      "[822645]: [WARNING] aiokafka.consumer.group_coordinator: Marking the coordinator dead (node 0)for group 127.0.0.1:9092_group.\n",
      "[822647]: [WARNING] aiokafka.consumer.group_coordinator: Marking the coordinator dead (node 0)for group 127.0.0.1:9092_group.\n",
      "[822645]: [WARNING] aiokafka.consumer.group_coordinator: Marking the coordinator dead (node 0)for group 127.0.0.1:9092_group.\n",
      "[822647]: [INFO] aiokafka.consumer.group_coordinator: Discovered coordinator 0 for group 127.0.0.1:9092_group\n",
      "[822647]: [INFO] aiokafka.consumer.group_coordinator: (Re-)joining group 127.0.0.1:9092_group\n",
      "[822645]: [INFO] aiokafka.consumer.group_coordinator: Discovered coordinator 0 for group 127.0.0.1:9092_group\n",
      "[822645]: [INFO] aiokafka.consumer.group_coordinator: (Re-)joining group 127.0.0.1:9092_group\n",
      "[822647]: [INFO] aiokafka.consumer.group_coordinator: Discovered coordinator 0 for group 127.0.0.1:9092_group\n",
      "[822647]: [INFO] aiokafka.consumer.group_coordinator: (Re-)joining group 127.0.0.1:9092_group\n",
      "[822645]: [INFO] aiokafka.consumer.group_coordinator: Discovered coordinator 0 for group 127.0.0.1:9092_group\n",
      "[822645]: [INFO] aiokafka.consumer.group_coordinator: (Re-)joining group 127.0.0.1:9092_group\n",
      "[822647]: [WARNING] aiokafka.consumer.group_coordinator: Marking the coordinator dead (node 0)for group 127.0.0.1:9092_group.\n",
      "[822645]: [WARNING] aiokafka.consumer.group_coordinator: Marking the coordinator dead (node 0)for group 127.0.0.1:9092_group.\n",
      "[822647]: [WARNING] aiokafka.consumer.group_coordinator: Marking the coordinator dead (node 0)for group 127.0.0.1:9092_group.\n",
      "[822645]: [WARNING] aiokafka.consumer.group_coordinator: Marking the coordinator dead (node 0)for group 127.0.0.1:9092_group.\n",
      "[822647]: [INFO] aiokafka.consumer.group_coordinator: Discovered coordinator 0 for group 127.0.0.1:9092_group\n",
      "[822647]: [INFO] aiokafka.consumer.group_coordinator: (Re-)joining group 127.0.0.1:9092_group\n",
      "[822645]: [INFO] aiokafka.consumer.group_coordinator: Discovered coordinator 0 for group 127.0.0.1:9092_group\n",
      "[822645]: [INFO] aiokafka.consumer.group_coordinator: (Re-)joining group 127.0.0.1:9092_group\n",
      "[822647]: [INFO] aiokafka.consumer.group_coordinator: Discovered coordinator 0 for group 127.0.0.1:9092_group\n",
      "[822647]: [INFO] aiokafka.consumer.group_coordinator: (Re-)joining group 127.0.0.1:9092_group\n",
      "[822645]: [INFO] aiokafka.consumer.group_coordinator: Discovered coordinator 0 for group 127.0.0.1:9092_group\n",
      "[822645]: [INFO] aiokafka.consumer.group_coordinator: (Re-)joining group 127.0.0.1:9092_group\n",
      "[822647]: [WARNING] aiokafka.consumer.group_coordinator: Marking the coordinator dead (node 0)for group 127.0.0.1:9092_group.\n",
      "[822645]: [WARNING] aiokafka.consumer.group_coordinator: Marking the coordinator dead (node 0)for group 127.0.0.1:9092_group.\n",
      "[822647]: [WARNING] aiokafka.consumer.group_coordinator: Marking the coordinator dead (node 0)for group 127.0.0.1:9092_group.\n",
      "[822645]: [WARNING] aiokafka.consumer.group_coordinator: Marking the coordinator dead (node 0)for group 127.0.0.1:9092_group.\n",
      "[822645]: [INFO] aiokafka.consumer.group_coordinator: Discovered coordinator 0 for group 127.0.0.1:9092_group\n",
      "[822645]: [INFO] aiokafka.consumer.group_coordinator: (Re-)joining group 127.0.0.1:9092_group\n",
      "[822647]: [INFO] aiokafka.consumer.group_coordinator: Discovered coordinator 0 for group 127.0.0.1:9092_group\n",
      "[822647]: [INFO] aiokafka.consumer.group_coordinator: (Re-)joining group 127.0.0.1:9092_group\n",
      "[822645]: [INFO] aiokafka.consumer.group_coordinator: Discovered coordinator 0 for group 127.0.0.1:9092_group\n",
      "[822645]: [INFO] aiokafka.consumer.group_coordinator: (Re-)joining group 127.0.0.1:9092_group\n",
      "[822647]: [INFO] aiokafka.consumer.group_coordinator: Discovered coordinator 0 for group 127.0.0.1:9092_group\n",
      "[822647]: [INFO] aiokafka.consumer.group_coordinator: (Re-)joining group 127.0.0.1:9092_group\n",
      "[822647]: [INFO] aiokafka.consumer.group_coordinator: Joined group '127.0.0.1:9092_group' (generation 1) with member_id aiokafka-0.8.0-752bc1df-3be9-4f23-8f3c-a2e4a3f66935\n",
      "[822645]: [INFO] aiokafka.consumer.group_coordinator: Joined group '127.0.0.1:9092_group' (generation 1) with member_id aiokafka-0.8.0-2b91c90f-aae2-4802-a438-226417b049fc\n",
      "[822647]: [INFO] aiokafka.consumer.group_coordinator: Joined group '127.0.0.1:9092_group' (generation 1) with member_id aiokafka-0.8.0-c1b50b4f-d530-42a4-b9cb-c39c9e18cc3d\n",
      "[822645]: [INFO] aiokafka.consumer.group_coordinator: Joined group '127.0.0.1:9092_group' (generation 1) with member_id aiokafka-0.8.0-ad913212-cd9d-4789-ac5f-14e65519203f\n",
      "[822645]: [INFO] aiokafka.consumer.group_coordinator: Elected group leader -- performing partition assignments using roundrobin\n",
      "[822645]: [INFO] aiokafka.consumer.group_coordinator: Metadata for topic has changed from {} to {'training_data': 1, 'realitime_data': 1}. \n",
      "[822647]: [INFO] aiokafka.consumer.group_coordinator: Successfully synced group 127.0.0.1:9092_group with generation 1\n",
      "[822647]: [INFO] aiokafka.consumer.group_coordinator: Setting newly assigned partitions {TopicPartition(topic='realitime_data', partition=0)} for group 127.0.0.1:9092_group\n",
      "[822645]: [INFO] aiokafka.consumer.group_coordinator: Successfully synced group 127.0.0.1:9092_group with generation 1\n",
      "[822645]: [INFO] aiokafka.consumer.group_coordinator: Setting newly assigned partitions set() for group 127.0.0.1:9092_group\n",
      "[822647]: [INFO] aiokafka.consumer.group_coordinator: Successfully synced group 127.0.0.1:9092_group with generation 1\n",
      "[822647]: [INFO] aiokafka.consumer.group_coordinator: Setting newly assigned partitions {TopicPartition(topic='training_data', partition=0)} for group 127.0.0.1:9092_group\n",
      "[822645]: [INFO] aiokafka.consumer.group_coordinator: Successfully synced group 127.0.0.1:9092_group with generation 1\n",
      "[822645]: [INFO] aiokafka.consumer.group_coordinator: Setting newly assigned partitions set() for group 127.0.0.1:9092_group\n",
      "Starting process cleanup, this may take a few seconds...\n",
      "[INFO] fastkafka._server: terminate_asyncio_process(): Terminating the process 822645...\n",
      "[INFO] fastkafka._server: terminate_asyncio_process(): Terminating the process 822647...\n",
      "[822645]: [INFO] aiokafka.consumer.group_coordinator: LeaveGroup request succeeded\n",
      "[822645]: [INFO] fastkafka._components.aiokafka_consumer_loop: aiokafka_consumer_loop(): Consumer stopped.\n",
      "[822645]: [INFO] fastkafka._components.aiokafka_consumer_loop: aiokafka_consumer_loop() finished.\n",
      "[822647]: [INFO] aiokafka.consumer.group_coordinator: LeaveGroup request succeeded\n",
      "[822645]: [INFO] aiokafka.consumer.group_coordinator: LeaveGroup request succeeded\n",
      "[822647]: [INFO] fastkafka._components.aiokafka_consumer_loop: aiokafka_consumer_loop(): Consumer stopped.\n",
      "[822647]: [INFO] fastkafka._components.aiokafka_consumer_loop: aiokafka_consumer_loop() finished.\n",
      "[822645]: [INFO] fastkafka._components.aiokafka_consumer_loop: aiokafka_consumer_loop(): Consumer stopped.\n",
      "[822645]: [INFO] fastkafka._components.aiokafka_consumer_loop: aiokafka_consumer_loop() finished.\n",
      "[822647]: [INFO] aiokafka.consumer.group_coordinator: LeaveGroup request succeeded\n",
      "[822647]: [INFO] fastkafka._components.aiokafka_consumer_loop: aiokafka_consumer_loop(): Consumer stopped.\n",
      "[822647]: [INFO] fastkafka._components.aiokafka_consumer_loop: aiokafka_consumer_loop() finished.\n",
      "[INFO] fastkafka._server: terminate_asyncio_process(): Process 822647 terminated.\n",
      "[INFO] fastkafka._server: terminate_asyncio_process(): Process 822645 terminated.\n",
      "\n",
      "[INFO] fastkafka._components._subprocess: terminate_asyncio_process(): Terminating the process 822179...\n"
     ]
    },
    {
     "name": "stdout",
     "output_type": "stream",
     "text": [
      "[INFO] fastkafka._components._subprocess: terminate_asyncio_process(): Process 822179 terminated.\n",
      "[INFO] fastkafka._components._subprocess: terminate_asyncio_process(): Terminating the process 821806...\n",
      "[INFO] fastkafka._components._subprocess: terminate_asyncio_process(): Process 821806 terminated.\n"
     ]
    }
   ],
   "source": [
    "async with ApacheKafkaBroker() as bootstrap_server:\n",
    "    os.environ[\"KAFKA_HOSTNAME\"], os.environ[\"KAFKA_PORT\"] = bootstrap_server.split(\":\")\n",
    "\n",
    "    with generate_app_in_tmp() as app:\n",
    "        proc = await asyncio.create_subprocess_exec(\n",
    "            \"fastkafka\",\n",
    "            \"run\",\n",
    "            \"--num-workers\",\n",
    "            f\"{2}\",\n",
    "            \"--kafka-broker\",\n",
    "            \"localhost\",\n",
    "            app,\n",
    "            stdout=asyncio.subprocess.PIPE,\n",
    "        )\n",
    "        time.sleep(5)\n",
    "        await terminate_asyncio_process(proc)\n",
    "        outputs, errs = await proc.communicate()\n",
    "\n",
    "        print(outputs.decode(\"utf-8\"))\n",
    "        assert proc.returncode == 0, proc.returncode"
   ]
  },
  {
   "cell_type": "code",
   "execution_count": null,
   "id": "942f780d",
   "metadata": {},
   "outputs": [],
   "source": [
    "# | export\n",
    "\n",
    "\n",
    "_app.add_typer(_cli_docs._docs_app, name=\"docs\")"
   ]
  },
  {
   "cell_type": "code",
   "execution_count": null,
   "id": "5fc53859",
   "metadata": {},
   "outputs": [],
   "source": [
    "# | notest\n",
    "\n",
    "! nbdev_export"
   ]
  },
  {
   "cell_type": "code",
   "execution_count": null,
   "id": "557347c7",
   "metadata": {},
   "outputs": [
    {
     "data": {
      "text/html": [
       "<pre style=\"white-space:pre;overflow-x:auto;line-height:normal;font-family:Menlo,'DejaVu Sans Mono',consolas,'Courier New',monospace\"><span style=\"font-weight: bold\">                                                                                                                   </span>\n",
       "<span style=\"font-weight: bold\"> </span><span style=\"color: #808000; text-decoration-color: #808000; font-weight: bold\">Usage: </span><span style=\"font-weight: bold\">root docs install_deps [OPTIONS]                                                                           </span>\n",
       "<span style=\"font-weight: bold\">                                                                                                                   </span>\n",
       "</pre>\n"
      ],
      "text/plain": [
       "\u001b[1m                                                                                                                   \u001b[0m\n",
       "\u001b[1m \u001b[0m\u001b[1;33mUsage: \u001b[0m\u001b[1mroot docs install_deps [OPTIONS]\u001b[0m\u001b[1m                                                                          \u001b[0m\u001b[1m \u001b[0m\n",
       "\u001b[1m                                                                                                                   \u001b[0m\n"
      ]
     },
     "metadata": {},
     "output_type": "display_data"
    },
    {
     "data": {
      "text/html": [
       "<pre style=\"white-space:pre;overflow-x:auto;line-height:normal;font-family:Menlo,'DejaVu Sans Mono',consolas,'Courier New',monospace\"> Installs dependencies for FastKafka documentation generation                                                      \n",
       "                                                                                                                   \n",
       "</pre>\n"
      ],
      "text/plain": [
       " Installs dependencies for FastKafka documentation generation                                                      \n",
       "                                                                                                                   \n"
      ]
     },
     "metadata": {},
     "output_type": "display_data"
    },
    {
     "data": {
      "text/html": [
       "<pre style=\"white-space:pre;overflow-x:auto;line-height:normal;font-family:Menlo,'DejaVu Sans Mono',consolas,'Courier New',monospace\"><span style=\"color: #7f7f7f; text-decoration-color: #7f7f7f\">╭─ Options ───────────────────────────────────────────────────────────────────────────────────────────────────────╮</span>\n",
       "<span style=\"color: #7f7f7f; text-decoration-color: #7f7f7f\">│</span> <span style=\"color: #008080; text-decoration-color: #008080; font-weight: bold\">--help</span>          Show this message and exit.                                                                     <span style=\"color: #7f7f7f; text-decoration-color: #7f7f7f\">│</span>\n",
       "<span style=\"color: #7f7f7f; text-decoration-color: #7f7f7f\">╰─────────────────────────────────────────────────────────────────────────────────────────────────────────────────╯</span>\n",
       "</pre>\n"
      ],
      "text/plain": [
       "\u001b[2m╭─\u001b[0m\u001b[2m Options \u001b[0m\u001b[2m──────────────────────────────────────────────────────────────────────────────────────────────────────\u001b[0m\u001b[2m─╮\u001b[0m\n",
       "\u001b[2m│\u001b[0m \u001b[1;36m-\u001b[0m\u001b[1;36m-help\u001b[0m          Show this message and exit.                                                                     \u001b[2m│\u001b[0m\n",
       "\u001b[2m╰─────────────────────────────────────────────────────────────────────────────────────────────────────────────────╯\u001b[0m\n"
      ]
     },
     "metadata": {},
     "output_type": "display_data"
    }
   ],
   "source": [
    "result = runner.invoke(_app, [\"docs\", \"install_deps\", \"--help\"])"
   ]
  },
  {
   "cell_type": "code",
   "execution_count": null,
   "id": "7ed5d781",
   "metadata": {},
   "outputs": [
    {
     "name": "stdout",
     "output_type": "stream",
     "text": [
      "[INFO] fastkafka._components.asyncapi: AsyncAPI generator installed\n"
     ]
    }
   ],
   "source": [
    "result = runner.invoke(_app, [\"docs\", \"install_deps\"])\n",
    "assert result.exit_code == 0"
   ]
  },
  {
   "cell_type": "code",
   "execution_count": null,
   "id": "1cc8e68a",
   "metadata": {},
   "outputs": [
    {
     "data": {
      "text/html": [
       "<pre style=\"white-space:pre;overflow-x:auto;line-height:normal;font-family:Menlo,'DejaVu Sans Mono',consolas,'Courier New',monospace\"><span style=\"font-weight: bold\">                                                                                                                   </span>\n",
       "<span style=\"font-weight: bold\"> </span><span style=\"color: #808000; text-decoration-color: #808000; font-weight: bold\">Usage: </span><span style=\"font-weight: bold\">root docs generate [OPTIONS] APP                                                                           </span>\n",
       "<span style=\"font-weight: bold\">                                                                                                                   </span>\n",
       "</pre>\n"
      ],
      "text/plain": [
       "\u001b[1m                                                                                                                   \u001b[0m\n",
       "\u001b[1m \u001b[0m\u001b[1;33mUsage: \u001b[0m\u001b[1mroot docs generate [OPTIONS] APP\u001b[0m\u001b[1m                                                                          \u001b[0m\u001b[1m \u001b[0m\n",
       "\u001b[1m                                                                                                                   \u001b[0m\n"
      ]
     },
     "metadata": {},
     "output_type": "display_data"
    },
    {
     "data": {
      "text/html": [
       "<pre style=\"white-space:pre;overflow-x:auto;line-height:normal;font-family:Menlo,'DejaVu Sans Mono',consolas,'Courier New',monospace\"> Generates documentation for a FastKafka application                                                               \n",
       "                                                                                                                   \n",
       "</pre>\n"
      ],
      "text/plain": [
       " Generates documentation for a FastKafka application                                                               \n",
       "                                                                                                                   \n"
      ]
     },
     "metadata": {},
     "output_type": "display_data"
    },
    {
     "data": {
      "text/html": [
       "<pre style=\"white-space:pre;overflow-x:auto;line-height:normal;font-family:Menlo,'DejaVu Sans Mono',consolas,'Courier New',monospace\"><span style=\"color: #7f7f7f; text-decoration-color: #7f7f7f\">╭─ Arguments ─────────────────────────────────────────────────────────────────────────────────────────────────────╮</span>\n",
       "<span style=\"color: #7f7f7f; text-decoration-color: #7f7f7f\">│</span> <span style=\"color: #800000; text-decoration-color: #800000\">*</span>    app      <span style=\"color: #808000; text-decoration-color: #808000; font-weight: bold\">TEXT</span>  input in the form of 'path:app', where **path** is the path to a python file and **app** is <span style=\"color: #7f7f7f; text-decoration-color: #7f7f7f\">│</span>\n",
       "<span style=\"color: #7f7f7f; text-decoration-color: #7f7f7f\">│</span>                     an object of type **FastKafka**.                                                            <span style=\"color: #7f7f7f; text-decoration-color: #7f7f7f\">│</span>\n",
       "<span style=\"color: #7f7f7f; text-decoration-color: #7f7f7f\">│</span>                     <span style=\"color: #7f7f7f; text-decoration-color: #7f7f7f\">[default: None]                                                                            </span> <span style=\"color: #7f7f7f; text-decoration-color: #7f7f7f\">│</span>\n",
       "<span style=\"color: #7f7f7f; text-decoration-color: #7f7f7f\">│</span>                     <span style=\"color: #bf7f7f; text-decoration-color: #bf7f7f\">[required]                                                                                 </span> <span style=\"color: #7f7f7f; text-decoration-color: #7f7f7f\">│</span>\n",
       "<span style=\"color: #7f7f7f; text-decoration-color: #7f7f7f\">╰─────────────────────────────────────────────────────────────────────────────────────────────────────────────────╯</span>\n",
       "</pre>\n"
      ],
      "text/plain": [
       "\u001b[2m╭─\u001b[0m\u001b[2m Arguments \u001b[0m\u001b[2m────────────────────────────────────────────────────────────────────────────────────────────────────\u001b[0m\u001b[2m─╮\u001b[0m\n",
       "\u001b[2m│\u001b[0m \u001b[31m*\u001b[0m    app      \u001b[1;33mTEXT\u001b[0m  input in the form of 'path:app', where **path** is the path to a python file and **app** is \u001b[2m│\u001b[0m\n",
       "\u001b[2m│\u001b[0m                     an object of type **FastKafka**.                                                            \u001b[2m│\u001b[0m\n",
       "\u001b[2m│\u001b[0m                     \u001b[2m[default: None]                                                                            \u001b[0m \u001b[2m│\u001b[0m\n",
       "\u001b[2m│\u001b[0m                     \u001b[2;31m[required]                                                                                 \u001b[0m \u001b[2m│\u001b[0m\n",
       "\u001b[2m╰─────────────────────────────────────────────────────────────────────────────────────────────────────────────────╯\u001b[0m\n"
      ]
     },
     "metadata": {},
     "output_type": "display_data"
    },
    {
     "data": {
      "text/html": [
       "<pre style=\"white-space:pre;overflow-x:auto;line-height:normal;font-family:Menlo,'DejaVu Sans Mono',consolas,'Courier New',monospace\"><span style=\"color: #7f7f7f; text-decoration-color: #7f7f7f\">╭─ Options ───────────────────────────────────────────────────────────────────────────────────────────────────────╮</span>\n",
       "<span style=\"color: #7f7f7f; text-decoration-color: #7f7f7f\">│</span> <span style=\"color: #008080; text-decoration-color: #008080; font-weight: bold\">--root-path</span>        <span style=\"color: #808000; text-decoration-color: #808000; font-weight: bold\">TEXT</span>  root path under which documentation will be created <span style=\"color: #7f7f7f; text-decoration-color: #7f7f7f\">[default: .]</span>                       <span style=\"color: #7f7f7f; text-decoration-color: #7f7f7f\">│</span>\n",
       "<span style=\"color: #7f7f7f; text-decoration-color: #7f7f7f\">│</span> <span style=\"color: #008080; text-decoration-color: #008080; font-weight: bold\">--help</span>             <span style=\"color: #808000; text-decoration-color: #808000; font-weight: bold\">    </span>  Show this message and exit.                                                            <span style=\"color: #7f7f7f; text-decoration-color: #7f7f7f\">│</span>\n",
       "<span style=\"color: #7f7f7f; text-decoration-color: #7f7f7f\">╰─────────────────────────────────────────────────────────────────────────────────────────────────────────────────╯</span>\n",
       "</pre>\n"
      ],
      "text/plain": [
       "\u001b[2m╭─\u001b[0m\u001b[2m Options \u001b[0m\u001b[2m──────────────────────────────────────────────────────────────────────────────────────────────────────\u001b[0m\u001b[2m─╮\u001b[0m\n",
       "\u001b[2m│\u001b[0m \u001b[1;36m-\u001b[0m\u001b[1;36m-root\u001b[0m\u001b[1;36m-path\u001b[0m        \u001b[1;33mTEXT\u001b[0m  root path under which documentation will be created \u001b[2m[default: .]\u001b[0m                       \u001b[2m│\u001b[0m\n",
       "\u001b[2m│\u001b[0m \u001b[1;36m-\u001b[0m\u001b[1;36m-help\u001b[0m             \u001b[1;33m    \u001b[0m  Show this message and exit.                                                            \u001b[2m│\u001b[0m\n",
       "\u001b[2m╰─────────────────────────────────────────────────────────────────────────────────────────────────────────────────╯\u001b[0m\n"
      ]
     },
     "metadata": {},
     "output_type": "display_data"
    }
   ],
   "source": [
    "result = runner.invoke(_app, [\"docs\", \"generate\", \"--help\"])"
   ]
  },
  {
   "cell_type": "code",
   "execution_count": null,
   "id": "4a759342",
   "metadata": {},
   "outputs": [
    {
     "name": "stdout",
     "output_type": "stream",
     "text": [
      "[INFO] fastkafka._components.asyncapi: Old async specifications at '/tmp/tmply00u6q0/asyncapi/spec/asyncapi.yml' does not exist.\n",
      "[INFO] fastkafka._components.asyncapi: New async specifications generated at: '/tmp/tmply00u6q0/asyncapi/spec/asyncapi.yml'\n",
      "[INFO] fastkafka._components.asyncapi: Async docs generated at 'asyncapi/docs'\n",
      "[INFO] fastkafka._components.asyncapi: Output of '$ npx -y -p @asyncapi/generator ag asyncapi/spec/asyncapi.yml @asyncapi/html-template -o asyncapi/docs --force-write'\u001b[32m\n",
      "\n",
      "Done! ✨\u001b[0m\n",
      "\u001b[33mCheck out your shiny new generated files at \u001b[0m\u001b[35m/tmp/tmply00u6q0/asyncapi/docs\u001b[0m\u001b[33m.\u001b[0m\n",
      "\n",
      "\n",
      "\n",
      "\n"
     ]
    }
   ],
   "source": [
    "with generate_app_in_tmp() as import_str:\n",
    "    result = runner.invoke(_app, [\"docs\", \"generate\", import_str])\n",
    "    typer.echo(result.output)\n",
    "    assert result.exit_code == 0\n",
    "\n",
    "    result = runner.invoke(_app, [\"docs\", \"generate\", import_str])\n",
    "    typer.echo(result.output)\n",
    "    assert result.exit_code == 0"
   ]
  },
  {
   "cell_type": "code",
   "execution_count": null,
   "id": "e81b95fe",
   "metadata": {},
   "outputs": [
    {
     "data": {
      "text/html": [
       "<pre style=\"white-space:pre;overflow-x:auto;line-height:normal;font-family:Menlo,'DejaVu Sans Mono',consolas,'Courier New',monospace\"><span style=\"font-weight: bold\">                                                                                                                   </span>\n",
       "<span style=\"font-weight: bold\"> </span><span style=\"color: #808000; text-decoration-color: #808000; font-weight: bold\">Usage: </span><span style=\"font-weight: bold\">root docs serve [OPTIONS] APP                                                                              </span>\n",
       "<span style=\"font-weight: bold\">                                                                                                                   </span>\n",
       "</pre>\n"
      ],
      "text/plain": [
       "\u001b[1m                                                                                                                   \u001b[0m\n",
       "\u001b[1m \u001b[0m\u001b[1;33mUsage: \u001b[0m\u001b[1mroot docs serve [OPTIONS] APP\u001b[0m\u001b[1m                                                                             \u001b[0m\u001b[1m \u001b[0m\n",
       "\u001b[1m                                                                                                                   \u001b[0m\n"
      ]
     },
     "metadata": {},
     "output_type": "display_data"
    },
    {
     "data": {
      "text/html": [
       "<pre style=\"white-space:pre;overflow-x:auto;line-height:normal;font-family:Menlo,'DejaVu Sans Mono',consolas,'Courier New',monospace\"> Generates and serves documentation for a FastKafka application                                                    \n",
       "                                                                                                                   \n",
       "</pre>\n"
      ],
      "text/plain": [
       " Generates and serves documentation for a FastKafka application                                                    \n",
       "                                                                                                                   \n"
      ]
     },
     "metadata": {},
     "output_type": "display_data"
    },
    {
     "data": {
      "text/html": [
       "<pre style=\"white-space:pre;overflow-x:auto;line-height:normal;font-family:Menlo,'DejaVu Sans Mono',consolas,'Courier New',monospace\"><span style=\"color: #7f7f7f; text-decoration-color: #7f7f7f\">╭─ Arguments ─────────────────────────────────────────────────────────────────────────────────────────────────────╮</span>\n",
       "<span style=\"color: #7f7f7f; text-decoration-color: #7f7f7f\">│</span> <span style=\"color: #800000; text-decoration-color: #800000\">*</span>    app      <span style=\"color: #808000; text-decoration-color: #808000; font-weight: bold\">TEXT</span>  input in the form of 'path:app', where **path** is the path to a python file and **app** is <span style=\"color: #7f7f7f; text-decoration-color: #7f7f7f\">│</span>\n",
       "<span style=\"color: #7f7f7f; text-decoration-color: #7f7f7f\">│</span>                     an object of type **FastKafka**.                                                            <span style=\"color: #7f7f7f; text-decoration-color: #7f7f7f\">│</span>\n",
       "<span style=\"color: #7f7f7f; text-decoration-color: #7f7f7f\">│</span>                     <span style=\"color: #7f7f7f; text-decoration-color: #7f7f7f\">[default: None]                                                                            </span> <span style=\"color: #7f7f7f; text-decoration-color: #7f7f7f\">│</span>\n",
       "<span style=\"color: #7f7f7f; text-decoration-color: #7f7f7f\">│</span>                     <span style=\"color: #bf7f7f; text-decoration-color: #bf7f7f\">[required]                                                                                 </span> <span style=\"color: #7f7f7f; text-decoration-color: #7f7f7f\">│</span>\n",
       "<span style=\"color: #7f7f7f; text-decoration-color: #7f7f7f\">╰─────────────────────────────────────────────────────────────────────────────────────────────────────────────────╯</span>\n",
       "</pre>\n"
      ],
      "text/plain": [
       "\u001b[2m╭─\u001b[0m\u001b[2m Arguments \u001b[0m\u001b[2m────────────────────────────────────────────────────────────────────────────────────────────────────\u001b[0m\u001b[2m─╮\u001b[0m\n",
       "\u001b[2m│\u001b[0m \u001b[31m*\u001b[0m    app      \u001b[1;33mTEXT\u001b[0m  input in the form of 'path:app', where **path** is the path to a python file and **app** is \u001b[2m│\u001b[0m\n",
       "\u001b[2m│\u001b[0m                     an object of type **FastKafka**.                                                            \u001b[2m│\u001b[0m\n",
       "\u001b[2m│\u001b[0m                     \u001b[2m[default: None]                                                                            \u001b[0m \u001b[2m│\u001b[0m\n",
       "\u001b[2m│\u001b[0m                     \u001b[2;31m[required]                                                                                 \u001b[0m \u001b[2m│\u001b[0m\n",
       "\u001b[2m╰─────────────────────────────────────────────────────────────────────────────────────────────────────────────────╯\u001b[0m\n"
      ]
     },
     "metadata": {},
     "output_type": "display_data"
    },
    {
     "data": {
      "text/html": [
       "<pre style=\"white-space:pre;overflow-x:auto;line-height:normal;font-family:Menlo,'DejaVu Sans Mono',consolas,'Courier New',monospace\"><span style=\"color: #7f7f7f; text-decoration-color: #7f7f7f\">╭─ Options ───────────────────────────────────────────────────────────────────────────────────────────────────────╮</span>\n",
       "<span style=\"color: #7f7f7f; text-decoration-color: #7f7f7f\">│</span> <span style=\"color: #008080; text-decoration-color: #008080; font-weight: bold\">--root-path</span>        <span style=\"color: #808000; text-decoration-color: #808000; font-weight: bold\">TEXT   </span>  root path under which documentation will be created <span style=\"color: #7f7f7f; text-decoration-color: #7f7f7f\">[default: .]</span>                    <span style=\"color: #7f7f7f; text-decoration-color: #7f7f7f\">│</span>\n",
       "<span style=\"color: #7f7f7f; text-decoration-color: #7f7f7f\">│</span> <span style=\"color: #008080; text-decoration-color: #008080; font-weight: bold\">--bind</span>             <span style=\"color: #808000; text-decoration-color: #808000; font-weight: bold\">TEXT   </span>  Some info <span style=\"color: #7f7f7f; text-decoration-color: #7f7f7f\">[default: 127.0.0.1]</span>                                                      <span style=\"color: #7f7f7f; text-decoration-color: #7f7f7f\">│</span>\n",
       "<span style=\"color: #7f7f7f; text-decoration-color: #7f7f7f\">│</span> <span style=\"color: #008080; text-decoration-color: #008080; font-weight: bold\">--port</span>             <span style=\"color: #808000; text-decoration-color: #808000; font-weight: bold\">INTEGER</span>  Some info <span style=\"color: #7f7f7f; text-decoration-color: #7f7f7f\">[default: 8000]</span>                                                           <span style=\"color: #7f7f7f; text-decoration-color: #7f7f7f\">│</span>\n",
       "<span style=\"color: #7f7f7f; text-decoration-color: #7f7f7f\">│</span> <span style=\"color: #008080; text-decoration-color: #008080; font-weight: bold\">--help</span>             <span style=\"color: #808000; text-decoration-color: #808000; font-weight: bold\">       </span>  Show this message and exit.                                                         <span style=\"color: #7f7f7f; text-decoration-color: #7f7f7f\">│</span>\n",
       "<span style=\"color: #7f7f7f; text-decoration-color: #7f7f7f\">╰─────────────────────────────────────────────────────────────────────────────────────────────────────────────────╯</span>\n",
       "</pre>\n"
      ],
      "text/plain": [
       "\u001b[2m╭─\u001b[0m\u001b[2m Options \u001b[0m\u001b[2m──────────────────────────────────────────────────────────────────────────────────────────────────────\u001b[0m\u001b[2m─╮\u001b[0m\n",
       "\u001b[2m│\u001b[0m \u001b[1;36m-\u001b[0m\u001b[1;36m-root\u001b[0m\u001b[1;36m-path\u001b[0m        \u001b[1;33mTEXT   \u001b[0m  root path under which documentation will be created \u001b[2m[default: .]\u001b[0m                    \u001b[2m│\u001b[0m\n",
       "\u001b[2m│\u001b[0m \u001b[1;36m-\u001b[0m\u001b[1;36m-bind\u001b[0m             \u001b[1;33mTEXT   \u001b[0m  Some info \u001b[2m[default: 127.0.0.1]\u001b[0m                                                      \u001b[2m│\u001b[0m\n",
       "\u001b[2m│\u001b[0m \u001b[1;36m-\u001b[0m\u001b[1;36m-port\u001b[0m             \u001b[1;33mINTEGER\u001b[0m  Some info \u001b[2m[default: 8000]\u001b[0m                                                           \u001b[2m│\u001b[0m\n",
       "\u001b[2m│\u001b[0m \u001b[1;36m-\u001b[0m\u001b[1;36m-help\u001b[0m             \u001b[1;33m       \u001b[0m  Show this message and exit.                                                         \u001b[2m│\u001b[0m\n",
       "\u001b[2m╰─────────────────────────────────────────────────────────────────────────────────────────────────────────────────╯\u001b[0m\n"
      ]
     },
     "metadata": {},
     "output_type": "display_data"
    }
   ],
   "source": [
    "result = runner.invoke(_app, [\"docs\", \"serve\", \"--help\"])"
   ]
  },
  {
   "cell_type": "code",
   "execution_count": null,
   "id": "d2a20790",
   "metadata": {},
   "outputs": [
    {
     "name": "stdout",
     "output_type": "stream",
     "text": [
      "[INFO] fastkafka._components.asyncapi: Old async specifications at '/tmp/tmpiiimgrc9/asyncapi/spec/asyncapi.yml' does not exist.\n",
      "[INFO] fastkafka._components.asyncapi: New async specifications generated at: '/tmp/tmpiiimgrc9/asyncapi/spec/asyncapi.yml'\n",
      "[INFO] fastkafka._components.asyncapi: Async docs generated at 'asyncapi/docs'\n",
      "[INFO] fastkafka._components.asyncapi: Output of '$ npx -y -p @asyncapi/generator ag asyncapi/spec/asyncapi.yml @asyncapi/html-template -o asyncapi/docs --force-write'\u001b[32m\n",
      "\n",
      "Done! ✨\u001b[0m\n",
      "\u001b[33mCheck out your shiny new generated files at \u001b[0m\u001b[35m/tmp/tmpiiimgrc9/asyncapi/docs\u001b[0m\u001b[33m.\u001b[0m\n",
      "\n",
      "\n",
      "Serving documentation on http://127.0.0.1:48000\n",
      "Interupting serving of documentation and cleaning up...\n",
      "\n"
     ]
    }
   ],
   "source": [
    "with generate_app_in_tmp() as app:\n",
    "    proc = await asyncio.create_subprocess_exec(\n",
    "        \"fastkafka\",\n",
    "        \"docs\",\n",
    "        \"serve\",\n",
    "        \"--port=48000\",\n",
    "        app,\n",
    "        stdout=asyncio.subprocess.PIPE,\n",
    "    )\n",
    "    time.sleep(30)\n",
    "    await terminate_asyncio_process(proc)\n",
    "    outputs, errs = await proc.communicate()\n",
    "    assert proc.returncode == 0, proc.returncode\n",
    "    print(outputs.decode(\"utf-8\"))"
   ]
  },
  {
   "cell_type": "code",
   "execution_count": null,
   "id": "9f1ec310",
   "metadata": {},
   "outputs": [],
   "source": [
    "# | export\n",
    "\n",
    "\n",
    "_app.add_typer(_cli_testing._testing_app, name=\"testing\")"
   ]
  },
  {
   "cell_type": "code",
   "execution_count": null,
   "id": "447b94f1",
   "metadata": {},
   "outputs": [
    {
     "data": {
      "text/html": [
       "<pre style=\"white-space:pre;overflow-x:auto;line-height:normal;font-family:Menlo,'DejaVu Sans Mono',consolas,'Courier New',monospace\"><span style=\"font-weight: bold\">                                                                                                                   </span>\n",
       "<span style=\"font-weight: bold\"> </span><span style=\"color: #808000; text-decoration-color: #808000; font-weight: bold\">Usage: </span><span style=\"font-weight: bold\">root testing install_deps [OPTIONS]                                                                        </span>\n",
       "<span style=\"font-weight: bold\">                                                                                                                   </span>\n",
       "</pre>\n"
      ],
      "text/plain": [
       "\u001b[1m                                                                                                                   \u001b[0m\n",
       "\u001b[1m \u001b[0m\u001b[1;33mUsage: \u001b[0m\u001b[1mroot testing install_deps [OPTIONS]\u001b[0m\u001b[1m                                                                       \u001b[0m\u001b[1m \u001b[0m\n",
       "\u001b[1m                                                                                                                   \u001b[0m\n"
      ]
     },
     "metadata": {},
     "output_type": "display_data"
    },
    {
     "data": {
      "text/html": [
       "<pre style=\"white-space:pre;overflow-x:auto;line-height:normal;font-family:Menlo,'DejaVu Sans Mono',consolas,'Courier New',monospace\"> Installs dependencies for FastKafka app testing                                                                   \n",
       "                                                                                                                   \n",
       "</pre>\n"
      ],
      "text/plain": [
       " Installs dependencies for FastKafka app testing                                                                   \n",
       "                                                                                                                   \n"
      ]
     },
     "metadata": {},
     "output_type": "display_data"
    },
    {
     "data": {
      "text/html": [
       "<pre style=\"white-space:pre;overflow-x:auto;line-height:normal;font-family:Menlo,'DejaVu Sans Mono',consolas,'Courier New',monospace\"><span style=\"color: #7f7f7f; text-decoration-color: #7f7f7f\">╭─ Options ───────────────────────────────────────────────────────────────────────────────────────────────────────╮</span>\n",
       "<span style=\"color: #7f7f7f; text-decoration-color: #7f7f7f\">│</span> <span style=\"color: #008080; text-decoration-color: #008080; font-weight: bold\">--help</span>          Show this message and exit.                                                                     <span style=\"color: #7f7f7f; text-decoration-color: #7f7f7f\">│</span>\n",
       "<span style=\"color: #7f7f7f; text-decoration-color: #7f7f7f\">╰─────────────────────────────────────────────────────────────────────────────────────────────────────────────────╯</span>\n",
       "</pre>\n"
      ],
      "text/plain": [
       "\u001b[2m╭─\u001b[0m\u001b[2m Options \u001b[0m\u001b[2m──────────────────────────────────────────────────────────────────────────────────────────────────────\u001b[0m\u001b[2m─╮\u001b[0m\n",
       "\u001b[2m│\u001b[0m \u001b[1;36m-\u001b[0m\u001b[1;36m-help\u001b[0m          Show this message and exit.                                                                     \u001b[2m│\u001b[0m\n",
       "\u001b[2m╰─────────────────────────────────────────────────────────────────────────────────────────────────────────────────╯\u001b[0m\n"
      ]
     },
     "metadata": {},
     "output_type": "display_data"
    }
   ],
   "source": [
    "result = runner.invoke(_app, [\"testing\", \"install_deps\", \"--help\"])"
   ]
  },
  {
   "cell_type": "code",
   "execution_count": null,
   "id": "a5a0b955",
   "metadata": {},
   "outputs": [],
   "source": [
    "result = runner.invoke(_app, [\"testing\", \"install_deps\"])\n",
    "assert result.exit_code == 0"
   ]
  }
 ],
 "metadata": {
  "kernelspec": {
   "display_name": "python3",
   "language": "python",
   "name": "python3"
  }
 },
 "nbformat": 4,
 "nbformat_minor": 5
}

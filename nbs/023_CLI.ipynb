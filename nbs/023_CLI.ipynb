{
 "cells": [
  {
   "cell_type": "code",
   "execution_count": null,
   "id": "a520a022",
   "metadata": {},
   "outputs": [],
   "source": [
    "# | default_exp _cli"
   ]
  },
  {
   "cell_type": "code",
   "execution_count": null,
   "id": "3f5a4483",
   "metadata": {},
   "outputs": [],
   "source": [
    "# | export\n",
    "\n",
    "import asyncio\n",
    "import multiprocessing\n",
    "from typing import *\n",
    "\n",
    "import typer\n",
    "\n",
    "from fastkafka import _cli_docs, _cli_testing\n",
    "from fastkafka._components.logger import get_logger\n",
    "from fastkafka._server import run_fastkafka_server"
   ]
  },
  {
   "cell_type": "code",
   "execution_count": null,
   "id": "347594e0",
   "metadata": {},
   "outputs": [],
   "source": [
    "import os\n",
    "import time\n",
    "\n",
    "from typer.testing import CliRunner\n",
    "\n",
    "from fastkafka._components.logger import supress_timestamps\n",
    "from fastkafka._components.test_dependencies import generate_app_in_tmp\n",
    "from fastkafka._server import terminate_asyncio_process\n",
    "from fastkafka.testing import LocalKafkaBroker"
   ]
  },
  {
   "cell_type": "code",
   "execution_count": null,
   "id": "6babc3b9",
   "metadata": {},
   "outputs": [],
   "source": [
    "# | notest\n",
    "\n",
    "# allows async calls in notebooks\n",
    "\n",
    "import nest_asyncio"
   ]
  },
  {
   "cell_type": "code",
   "execution_count": null,
   "id": "44a4e2d5",
   "metadata": {},
   "outputs": [],
   "source": [
    "# | notest\n",
    "\n",
    "nest_asyncio.apply()"
   ]
  },
  {
   "cell_type": "code",
   "execution_count": null,
   "id": "ae202a18",
   "metadata": {},
   "outputs": [],
   "source": [
    "# | export\n",
    "\n",
    "logger = get_logger(__name__)"
   ]
  },
  {
   "cell_type": "code",
   "execution_count": null,
   "id": "a5ec0fba",
   "metadata": {},
   "outputs": [
    {
     "name": "stdout",
     "output_type": "stream",
     "text": [
      "[INFO] __main__: ok\n"
     ]
    }
   ],
   "source": [
    "supress_timestamps()\n",
    "logger = get_logger(__name__, level=20)\n",
    "logger.info(\"ok\")"
   ]
  },
  {
   "cell_type": "code",
   "execution_count": null,
   "id": "a2bfc60c",
   "metadata": {},
   "outputs": [],
   "source": [
    "runner = CliRunner()"
   ]
  },
  {
   "cell_type": "code",
   "execution_count": null,
   "id": "bf57b082",
   "metadata": {},
   "outputs": [],
   "source": [
    "# | export\n",
    "\n",
    "_app = typer.Typer(help=\"\")"
   ]
  },
  {
   "cell_type": "code",
   "execution_count": null,
   "id": "b4830f45",
   "metadata": {},
   "outputs": [],
   "source": [
    "# | export\n",
    "\n",
    "\n",
    "@_app.command(\n",
    "    help=\"Runs Fast Kafka API application\",\n",
    ")\n",
    "def run(\n",
    "    num_workers: int = typer.Option(\n",
    "        multiprocessing.cpu_count(),\n",
    "        help=\"Number of FastKafka instances to run, defaults to number of CPU cores.\",\n",
    "    ),\n",
    "    app: str = typer.Argument(\n",
    "        ...,\n",
    "        help=\"input in the form of 'path:app', where **path** is the path to a python file and **app** is an object of type **FastKafka**.\",\n",
    "    ),\n",
    ") -> None:\n",
    "    try:\n",
    "        asyncio.run(run_fastkafka_server(num_workers=num_workers, app=app))\n",
    "    except Exception as e:\n",
    "        typer.secho(f\"Unexpected internal error: {e}\", err=True, fg=typer.colors.RED)\n",
    "        raise typer.Exit(1)"
   ]
  },
  {
   "cell_type": "code",
   "execution_count": null,
   "id": "e3328d21",
   "metadata": {},
   "outputs": [],
   "source": [
    "# | notest\n",
    "\n",
    "! nbdev_export"
   ]
  },
  {
   "cell_type": "code",
   "execution_count": null,
   "id": "f47cd927",
   "metadata": {},
   "outputs": [
    {
     "data": {
      "text/html": [
       "<pre style=\"white-space:pre;overflow-x:auto;line-height:normal;font-family:Menlo,'DejaVu Sans Mono',consolas,'Courier New',monospace\"><span style=\"font-weight: bold\">                                                                                                                   </span>\n",
       "<span style=\"font-weight: bold\"> </span><span style=\"color: #808000; text-decoration-color: #808000; font-weight: bold\">Usage: </span><span style=\"font-weight: bold\">run [OPTIONS] APP                                                                                          </span>\n",
       "<span style=\"font-weight: bold\">                                                                                                                   </span>\n",
       "</pre>\n"
      ],
      "text/plain": [
       "\u001b[1m                                                                                                                   \u001b[0m\n",
       "\u001b[1m \u001b[0m\u001b[1;33mUsage: \u001b[0m\u001b[1mrun [OPTIONS] APP\u001b[0m\u001b[1m                                                                                         \u001b[0m\u001b[1m \u001b[0m\n",
       "\u001b[1m                                                                                                                   \u001b[0m\n"
      ]
     },
     "metadata": {},
     "output_type": "display_data"
    },
    {
     "data": {
      "text/html": [
       "<pre style=\"white-space:pre;overflow-x:auto;line-height:normal;font-family:Menlo,'DejaVu Sans Mono',consolas,'Courier New',monospace\"> Runs Fast Kafka API application                                                                                   \n",
       "                                                                                                                   \n",
       "</pre>\n"
      ],
      "text/plain": [
       " Runs Fast Kafka API application                                                                                   \n",
       "                                                                                                                   \n"
      ]
     },
     "metadata": {},
     "output_type": "display_data"
    },
    {
     "data": {
      "text/html": [
       "<pre style=\"white-space:pre;overflow-x:auto;line-height:normal;font-family:Menlo,'DejaVu Sans Mono',consolas,'Courier New',monospace\"><span style=\"color: #7f7f7f; text-decoration-color: #7f7f7f\">╭─ Arguments ─────────────────────────────────────────────────────────────────────────────────────────────────────╮</span>\n",
       "<span style=\"color: #7f7f7f; text-decoration-color: #7f7f7f\">│</span> <span style=\"color: #800000; text-decoration-color: #800000\">*</span>    app      <span style=\"color: #808000; text-decoration-color: #808000; font-weight: bold\">TEXT</span>  input in the form of 'path:app', where **path** is the path to a python file and **app** is <span style=\"color: #7f7f7f; text-decoration-color: #7f7f7f\">│</span>\n",
       "<span style=\"color: #7f7f7f; text-decoration-color: #7f7f7f\">│</span>                     an object of type **FastKafka**.                                                            <span style=\"color: #7f7f7f; text-decoration-color: #7f7f7f\">│</span>\n",
       "<span style=\"color: #7f7f7f; text-decoration-color: #7f7f7f\">│</span>                     <span style=\"color: #7f7f7f; text-decoration-color: #7f7f7f\">[default: None]                                                                            </span> <span style=\"color: #7f7f7f; text-decoration-color: #7f7f7f\">│</span>\n",
       "<span style=\"color: #7f7f7f; text-decoration-color: #7f7f7f\">│</span>                     <span style=\"color: #bf7f7f; text-decoration-color: #bf7f7f\">[required]                                                                                 </span> <span style=\"color: #7f7f7f; text-decoration-color: #7f7f7f\">│</span>\n",
       "<span style=\"color: #7f7f7f; text-decoration-color: #7f7f7f\">╰─────────────────────────────────────────────────────────────────────────────────────────────────────────────────╯</span>\n",
       "</pre>\n"
      ],
      "text/plain": [
       "\u001b[2m╭─\u001b[0m\u001b[2m Arguments \u001b[0m\u001b[2m────────────────────────────────────────────────────────────────────────────────────────────────────\u001b[0m\u001b[2m─╮\u001b[0m\n",
       "\u001b[2m│\u001b[0m \u001b[31m*\u001b[0m    app      \u001b[1;33mTEXT\u001b[0m  input in the form of 'path:app', where **path** is the path to a python file and **app** is \u001b[2m│\u001b[0m\n",
       "\u001b[2m│\u001b[0m                     an object of type **FastKafka**.                                                            \u001b[2m│\u001b[0m\n",
       "\u001b[2m│\u001b[0m                     \u001b[2m[default: None]                                                                            \u001b[0m \u001b[2m│\u001b[0m\n",
       "\u001b[2m│\u001b[0m                     \u001b[2;31m[required]                                                                                 \u001b[0m \u001b[2m│\u001b[0m\n",
       "\u001b[2m╰─────────────────────────────────────────────────────────────────────────────────────────────────────────────────╯\u001b[0m\n"
      ]
     },
     "metadata": {},
     "output_type": "display_data"
    },
    {
     "data": {
      "text/html": [
       "<pre style=\"white-space:pre;overflow-x:auto;line-height:normal;font-family:Menlo,'DejaVu Sans Mono',consolas,'Courier New',monospace\"><span style=\"color: #7f7f7f; text-decoration-color: #7f7f7f\">╭─ Options ───────────────────────────────────────────────────────────────────────────────────────────────────────╮</span>\n",
       "<span style=\"color: #7f7f7f; text-decoration-color: #7f7f7f\">│</span> <span style=\"color: #008080; text-decoration-color: #008080; font-weight: bold\">--num-workers</span>               <span style=\"color: #808000; text-decoration-color: #808000; font-weight: bold\">INTEGER</span>  Number of FastKafka instances to run, defaults to number of CPU cores.     <span style=\"color: #7f7f7f; text-decoration-color: #7f7f7f\">│</span>\n",
       "<span style=\"color: #7f7f7f; text-decoration-color: #7f7f7f\">│</span>                                      <span style=\"color: #7f7f7f; text-decoration-color: #7f7f7f\">[default: 64]                                                         </span>     <span style=\"color: #7f7f7f; text-decoration-color: #7f7f7f\">│</span>\n",
       "<span style=\"color: #7f7f7f; text-decoration-color: #7f7f7f\">│</span> <span style=\"color: #008080; text-decoration-color: #008080; font-weight: bold\">--install-completion</span>        <span style=\"color: #808000; text-decoration-color: #808000; font-weight: bold\">       </span>  Install completion for the current shell.                                  <span style=\"color: #7f7f7f; text-decoration-color: #7f7f7f\">│</span>\n",
       "<span style=\"color: #7f7f7f; text-decoration-color: #7f7f7f\">│</span> <span style=\"color: #008080; text-decoration-color: #008080; font-weight: bold\">--show-completion</span>           <span style=\"color: #808000; text-decoration-color: #808000; font-weight: bold\">       </span>  Show completion for the current shell, to copy it or customize the         <span style=\"color: #7f7f7f; text-decoration-color: #7f7f7f\">│</span>\n",
       "<span style=\"color: #7f7f7f; text-decoration-color: #7f7f7f\">│</span>                                      installation.                                                              <span style=\"color: #7f7f7f; text-decoration-color: #7f7f7f\">│</span>\n",
       "<span style=\"color: #7f7f7f; text-decoration-color: #7f7f7f\">│</span> <span style=\"color: #008080; text-decoration-color: #008080; font-weight: bold\">--help</span>                      <span style=\"color: #808000; text-decoration-color: #808000; font-weight: bold\">       </span>  Show this message and exit.                                                <span style=\"color: #7f7f7f; text-decoration-color: #7f7f7f\">│</span>\n",
       "<span style=\"color: #7f7f7f; text-decoration-color: #7f7f7f\">╰─────────────────────────────────────────────────────────────────────────────────────────────────────────────────╯</span>\n",
       "</pre>\n"
      ],
      "text/plain": [
       "\u001b[2m╭─\u001b[0m\u001b[2m Options \u001b[0m\u001b[2m──────────────────────────────────────────────────────────────────────────────────────────────────────\u001b[0m\u001b[2m─╮\u001b[0m\n",
       "\u001b[2m│\u001b[0m \u001b[1;36m-\u001b[0m\u001b[1;36m-num\u001b[0m\u001b[1;36m-workers\u001b[0m               \u001b[1;33mINTEGER\u001b[0m  Number of FastKafka instances to run, defaults to number of CPU cores.     \u001b[2m│\u001b[0m\n",
       "\u001b[2m│\u001b[0m                                      \u001b[2m[default: 64]                                                         \u001b[0m     \u001b[2m│\u001b[0m\n",
       "\u001b[2m│\u001b[0m \u001b[1;36m-\u001b[0m\u001b[1;36m-install\u001b[0m\u001b[1;36m-completion\u001b[0m        \u001b[1;33m       \u001b[0m  Install completion for the current shell.                                  \u001b[2m│\u001b[0m\n",
       "\u001b[2m│\u001b[0m \u001b[1;36m-\u001b[0m\u001b[1;36m-show\u001b[0m\u001b[1;36m-completion\u001b[0m           \u001b[1;33m       \u001b[0m  Show completion for the current shell, to copy it or customize the         \u001b[2m│\u001b[0m\n",
       "\u001b[2m│\u001b[0m                                      installation.                                                              \u001b[2m│\u001b[0m\n",
       "\u001b[2m│\u001b[0m \u001b[1;36m-\u001b[0m\u001b[1;36m-help\u001b[0m                      \u001b[1;33m       \u001b[0m  Show this message and exit.                                                \u001b[2m│\u001b[0m\n",
       "\u001b[2m╰─────────────────────────────────────────────────────────────────────────────────────────────────────────────────╯\u001b[0m\n"
      ]
     },
     "metadata": {},
     "output_type": "display_data"
    }
   ],
   "source": [
    "result = runner.invoke(_app, [\"run\", \"--help\"])"
   ]
  },
  {
   "cell_type": "code",
   "execution_count": null,
   "id": "46a27557",
   "metadata": {},
   "outputs": [
    {
     "name": "stdout",
     "output_type": "stream",
     "text": [
      "[INFO] fastkafka._components.test_dependencies: Java is already installed.\n",
      "[INFO] fastkafka._components.test_dependencies: But not exported to PATH, exporting...\n",
      "[INFO] fastkafka._components.test_dependencies: Kafka is installed.\n",
      "[INFO] fastkafka._components.test_dependencies: But not exported to PATH, exporting...\n",
      "[INFO] fastkafka._testing.local_broker: Starting zookeeper...\n",
      "[INFO] fastkafka._testing.local_broker: Starting kafka...\n",
      "[INFO] fastkafka._testing.local_broker: Local Kafka broker up and running on 127.0.0.1:9092\n",
      "[INFO] fastkafka._server: terminate_asyncio_process(): Terminating the process 48460...\n",
      "[INFO] fastkafka._server: terminate_asyncio_process(): Process 48460 terminated.\n",
      "[48462]: [INFO] fastkafka._application.app: _create_producer() : created producer using the config: '{'bootstrap_servers': '127.0.0.1:9092'}'\n",
      "[48464]: [INFO] fastkafka._application.app: _create_producer() : created producer using the config: '{'bootstrap_servers': '127.0.0.1:9092'}'\n",
      "[48462]: [INFO] fastkafka._application.app: _create_producer() : created producer using the config: '{'bootstrap_servers': '127.0.0.1:9092'}'\n",
      "[48464]: [INFO] fastkafka._application.app: _create_producer() : created producer using the config: '{'bootstrap_servers': '127.0.0.1:9092'}'\n",
      "[48462]: [INFO] fastkafka._application.app: _create_producer() : created producer using the config: '{'bootstrap_servers': '127.0.0.1:9092'}'\n",
      "[48464]: [INFO] fastkafka._application.app: _create_producer() : created producer using the config: '{'bootstrap_servers': '127.0.0.1:9092'}'\n",
      "[48462]: [INFO] fastkafka._application.app: _create_producer() : created producer using the config: '{'bootstrap_servers': '127.0.0.1:9092'}'\n",
      "[48464]: [INFO] fastkafka._application.app: _create_producer() : created producer using the config: '{'bootstrap_servers': '127.0.0.1:9092'}'\n",
      "[48462]: [INFO] fastkafka._components.aiokafka_consumer_loop: aiokafka_consumer_loop() starting...\n",
      "[48462]: [INFO] fastkafka._components.aiokafka_consumer_loop: aiokafka_consumer_loop(): Consumer created using the following parameters: {'bootstrap_servers': '127.0.0.1:9092', 'group_id': '127.0.0.1:9092_group', 'auto_offset_reset': 'earliest', 'max_poll_records': 100}\n",
      "[48462]: [INFO] fastkafka._components.aiokafka_consumer_loop: aiokafka_consumer_loop() starting...\n",
      "[48462]: [INFO] fastkafka._components.aiokafka_consumer_loop: aiokafka_consumer_loop(): Consumer created using the following parameters: {'bootstrap_servers': '127.0.0.1:9092', 'group_id': '127.0.0.1:9092_group', 'auto_offset_reset': 'earliest', 'max_poll_records': 100}\n",
      "[48464]: [INFO] fastkafka._components.aiokafka_consumer_loop: aiokafka_consumer_loop() starting...\n",
      "[48464]: [INFO] fastkafka._components.aiokafka_consumer_loop: aiokafka_consumer_loop(): Consumer created using the following parameters: {'bootstrap_servers': '127.0.0.1:9092', 'group_id': '127.0.0.1:9092_group', 'auto_offset_reset': 'earliest', 'max_poll_records': 100}\n",
      "[48464]: [INFO] fastkafka._components.aiokafka_consumer_loop: aiokafka_consumer_loop() starting...\n",
      "[48464]: [INFO] fastkafka._components.aiokafka_consumer_loop: aiokafka_consumer_loop(): Consumer created using the following parameters: {'bootstrap_servers': '127.0.0.1:9092', 'group_id': '127.0.0.1:9092_group', 'auto_offset_reset': 'earliest', 'max_poll_records': 100}\n",
      "[48462]: [INFO] fastkafka._components.aiokafka_consumer_loop: aiokafka_consumer_loop(): Consumer started.\n",
      "[48462]: [INFO] aiokafka.consumer.subscription_state: Updating subscribed topics to: frozenset({'training_data'})\n",
      "[48462]: [INFO] aiokafka.consumer.consumer: Subscribed to topic(s): {'training_data'}\n",
      "[48462]: [INFO] fastkafka._components.aiokafka_consumer_loop: aiokafka_consumer_loop(): Consumer subscribed.\n",
      "[48464]: [INFO] fastkafka._components.aiokafka_consumer_loop: aiokafka_consumer_loop(): Consumer started.\n",
      "[48464]: [INFO] aiokafka.consumer.subscription_state: Updating subscribed topics to: frozenset({'realitime_data'})\n",
      "[48464]: [INFO] aiokafka.consumer.consumer: Subscribed to topic(s): {'realitime_data'}\n",
      "[48464]: [INFO] fastkafka._components.aiokafka_consumer_loop: aiokafka_consumer_loop(): Consumer subscribed.\n",
      "[48462]: [INFO] fastkafka._components.aiokafka_consumer_loop: aiokafka_consumer_loop(): Consumer started.\n",
      "[48462]: [INFO] aiokafka.consumer.subscription_state: Updating subscribed topics to: frozenset({'realitime_data'})\n",
      "[48462]: [INFO] aiokafka.consumer.consumer: Subscribed to topic(s): {'realitime_data'}\n",
      "[48462]: [INFO] fastkafka._components.aiokafka_consumer_loop: aiokafka_consumer_loop(): Consumer subscribed.\n",
      "[48464]: [INFO] fastkafka._components.aiokafka_consumer_loop: aiokafka_consumer_loop(): Consumer started.\n",
      "[48464]: [INFO] aiokafka.consumer.subscription_state: Updating subscribed topics to: frozenset({'training_data'})\n",
      "[48464]: [INFO] aiokafka.consumer.consumer: Subscribed to topic(s): {'training_data'}\n",
      "[48464]: [INFO] fastkafka._components.aiokafka_consumer_loop: aiokafka_consumer_loop(): Consumer subscribed.\n",
      "[48464]: [ERROR] aiokafka.consumer.group_coordinator: Group Coordinator Request failed: [Error 15] CoordinatorNotAvailableError\n",
      "[48462]: [ERROR] aiokafka.consumer.group_coordinator: Group Coordinator Request failed: [Error 15] CoordinatorNotAvailableError\n",
      "[48462]: [ERROR] aiokafka.consumer.group_coordinator: Group Coordinator Request failed: [Error 15] CoordinatorNotAvailableError\n",
      "[48464]: [ERROR] aiokafka.cluster: Topic realitime_data not found in cluster metadata\n",
      "[48464]: [ERROR] aiokafka.consumer.group_coordinator: Group Coordinator Request failed: [Error 15] CoordinatorNotAvailableError\n",
      "[48462]: [WARNING] aiokafka.cluster: Topic realitime_data is not available during auto-create initialization\n",
      "[48462]: [WARNING] aiokafka.cluster: Topic training_data is not available during auto-create initialization\n",
      "[48464]: [WARNING] aiokafka.cluster: Topic training_data is not available during auto-create initialization\n",
      "[48464]: [ERROR] aiokafka.consumer.group_coordinator: Group Coordinator Request failed: [Error 15] CoordinatorNotAvailableError\n",
      "[48464]: [WARNING] aiokafka.cluster: Topic realitime_data is not available during auto-create initialization\n",
      "[48462]: [ERROR] aiokafka.consumer.group_coordinator: Group Coordinator Request failed: [Error 15] CoordinatorNotAvailableError\n",
      "[48462]: [ERROR] aiokafka.consumer.group_coordinator: Group Coordinator Request failed: [Error 15] CoordinatorNotAvailableError\n",
      "[48462]: [WARNING] aiokafka.cluster: Topic training_data is not available during auto-create initialization\n",
      "[48462]: [WARNING] aiokafka.cluster: Topic realitime_data is not available during auto-create initialization\n",
      "[48464]: [ERROR] aiokafka.consumer.group_coordinator: Group Coordinator Request failed: [Error 15] CoordinatorNotAvailableError\n",
      "[48464]: [WARNING] aiokafka.cluster: Topic training_data is not available during auto-create initialization\n",
      "[48464]: [ERROR] aiokafka.consumer.group_coordinator: Group Coordinator Request failed: [Error 15] CoordinatorNotAvailableError\n",
      "[48464]: [WARNING] aiokafka.cluster: Topic realitime_data is not available during auto-create initialization\n",
      "[48462]: [ERROR] aiokafka.consumer.group_coordinator: Group Coordinator Request failed: [Error 15] CoordinatorNotAvailableError\n",
      "[48462]: [ERROR] aiokafka.consumer.group_coordinator: Group Coordinator Request failed: [Error 15] CoordinatorNotAvailableError\n",
      "[48462]: [WARNING] aiokafka.cluster: Topic training_data is not available during auto-create initialization\n",
      "[48462]: [WARNING] aiokafka.cluster: Topic realitime_data is not available during auto-create initialization\n",
      "[48464]: [ERROR] aiokafka.consumer.group_coordinator: Group Coordinator Request failed: [Error 15] CoordinatorNotAvailableError\n",
      "[48464]: [WARNING] aiokafka.cluster: Topic training_data is not available during auto-create initialization\n",
      "[48464]: [ERROR] aiokafka.consumer.group_coordinator: Group Coordinator Request failed: [Error 15] CoordinatorNotAvailableError\n",
      "[48464]: [WARNING] aiokafka.cluster: Topic realitime_data is not available during auto-create initialization\n",
      "[48462]: [ERROR] aiokafka.consumer.group_coordinator: Group Coordinator Request failed: [Error 15] CoordinatorNotAvailableError\n",
      "[48462]: [WARNING] aiokafka.cluster: Topic training_data is not available during auto-create initialization\n",
      "[48462]: [ERROR] aiokafka.consumer.group_coordinator: Group Coordinator Request failed: [Error 15] CoordinatorNotAvailableError\n",
      "[48462]: [WARNING] aiokafka.cluster: Topic realitime_data is not available during auto-create initialization\n",
      "[48464]: [ERROR] aiokafka.consumer.group_coordinator: Group Coordinator Request failed: [Error 15] CoordinatorNotAvailableError\n",
      "[48464]: [WARNING] aiokafka.cluster: Topic training_data is not available during auto-create initialization\n",
      "[48464]: [ERROR] aiokafka.consumer.group_coordinator: Group Coordinator Request failed: [Error 15] CoordinatorNotAvailableError\n",
      "[48464]: [WARNING] aiokafka.cluster: Topic realitime_data is not available during auto-create initialization\n",
      "[48462]: [ERROR] aiokafka.consumer.group_coordinator: Group Coordinator Request failed: [Error 15] CoordinatorNotAvailableError\n",
      "[48462]: [ERROR] aiokafka.consumer.group_coordinator: Group Coordinator Request failed: [Error 15] CoordinatorNotAvailableError\n",
      "[48462]: [WARNING] aiokafka.cluster: Topic training_data is not available during auto-create initialization\n",
      "[48462]: [WARNING] aiokafka.cluster: Topic realitime_data is not available during auto-create initialization\n",
      "[48464]: [ERROR] aiokafka.consumer.group_coordinator: Group Coordinator Request failed: [Error 15] CoordinatorNotAvailableError\n",
      "[48464]: [WARNING] aiokafka.cluster: Topic training_data is not available during auto-create initialization\n",
      "[48464]: [ERROR] aiokafka.consumer.group_coordinator: Group Coordinator Request failed: [Error 15] CoordinatorNotAvailableError\n",
      "[48464]: [WARNING] aiokafka.cluster: Topic realitime_data is not available during auto-create initialization\n",
      "[48462]: [ERROR] aiokafka.consumer.group_coordinator: Group Coordinator Request failed: [Error 15] CoordinatorNotAvailableError\n",
      "[48462]: [ERROR] aiokafka.consumer.group_coordinator: Group Coordinator Request failed: [Error 15] CoordinatorNotAvailableError\n",
      "[48462]: [WARNING] aiokafka.cluster: Topic realitime_data is not available during auto-create initialization\n",
      "[48462]: [WARNING] aiokafka.cluster: Topic training_data is not available during auto-create initialization\n",
      "[48464]: [ERROR] aiokafka.consumer.group_coordinator: Group Coordinator Request failed: [Error 15] CoordinatorNotAvailableError\n",
      "[48464]: [WARNING] aiokafka.cluster: Topic training_data is not available during auto-create initialization\n",
      "[48464]: [ERROR] aiokafka.consumer.group_coordinator: Group Coordinator Request failed: [Error 15] CoordinatorNotAvailableError\n",
      "[48464]: [WARNING] aiokafka.cluster: Topic realitime_data is not available during auto-create initialization\n",
      "[48462]: [ERROR] aiokafka.consumer.group_coordinator: Group Coordinator Request failed: [Error 15] CoordinatorNotAvailableError\n",
      "[48462]: [ERROR] aiokafka.consumer.group_coordinator: Group Coordinator Request failed: [Error 15] CoordinatorNotAvailableError\n",
      "[48462]: [WARNING] aiokafka.cluster: Topic training_data is not available during auto-create initialization\n",
      "[48462]: [WARNING] aiokafka.cluster: Topic realitime_data is not available during auto-create initialization\n",
      "[48464]: [ERROR] aiokafka.consumer.group_coordinator: Group Coordinator Request failed: [Error 15] CoordinatorNotAvailableError\n",
      "[48464]: [WARNING] aiokafka.cluster: Topic training_data is not available during auto-create initialization\n",
      "[48464]: [ERROR] aiokafka.consumer.group_coordinator: Group Coordinator Request failed: [Error 15] CoordinatorNotAvailableError\n",
      "[48464]: [WARNING] aiokafka.cluster: Topic realitime_data is not available during auto-create initialization\n",
      "[48462]: [ERROR] aiokafka.consumer.group_coordinator: Group Coordinator Request failed: [Error 15] CoordinatorNotAvailableError\n",
      "[48462]: [ERROR] aiokafka.consumer.group_coordinator: Group Coordinator Request failed: [Error 15] CoordinatorNotAvailableError\n",
      "[48462]: [WARNING] aiokafka.cluster: Topic realitime_data is not available during auto-create initialization\n",
      "[48462]: [WARNING] aiokafka.cluster: Topic training_data is not available during auto-create initialization\n",
      "[48464]: [ERROR] aiokafka.consumer.group_coordinator: Group Coordinator Request failed: [Error 15] CoordinatorNotAvailableError\n",
      "[48464]: [WARNING] aiokafka.cluster: Topic training_data is not available during auto-create initialization\n",
      "[48464]: [ERROR] aiokafka.consumer.group_coordinator: Group Coordinator Request failed: [Error 15] CoordinatorNotAvailableError\n",
      "[48464]: [WARNING] aiokafka.cluster: Topic realitime_data is not available during auto-create initialization\n",
      "[48462]: [ERROR] aiokafka.consumer.group_coordinator: Group Coordinator Request failed: [Error 15] CoordinatorNotAvailableError\n",
      "[48462]: [ERROR] aiokafka.consumer.group_coordinator: Group Coordinator Request failed: [Error 15] CoordinatorNotAvailableError\n",
      "[48462]: [WARNING] aiokafka.cluster: Topic training_data is not available during auto-create initialization\n",
      "[48462]: [WARNING] aiokafka.cluster: Topic realitime_data is not available during auto-create initialization\n",
      "[48464]: [ERROR] aiokafka.consumer.group_coordinator: Group Coordinator Request failed: [Error 15] CoordinatorNotAvailableError\n",
      "[48464]: [WARNING] aiokafka.cluster: Topic training_data is not available during auto-create initialization\n",
      "[48464]: [ERROR] aiokafka.consumer.group_coordinator: Group Coordinator Request failed: [Error 15] CoordinatorNotAvailableError\n",
      "[48464]: [WARNING] aiokafka.cluster: Topic realitime_data is not available during auto-create initialization\n",
      "[48462]: [ERROR] aiokafka.consumer.group_coordinator: Group Coordinator Request failed: [Error 15] CoordinatorNotAvailableError\n",
      "[48462]: [ERROR] aiokafka.consumer.group_coordinator: Group Coordinator Request failed: [Error 15] CoordinatorNotAvailableError\n",
      "[48462]: [WARNING] aiokafka.cluster: Topic training_data is not available during auto-create initialization\n",
      "[48462]: [WARNING] aiokafka.cluster: Topic realitime_data is not available during auto-create initialization\n",
      "[48464]: [ERROR] aiokafka.consumer.group_coordinator: Group Coordinator Request failed: [Error 15] CoordinatorNotAvailableError\n",
      "[48464]: [WARNING] aiokafka.cluster: Topic training_data is not available during auto-create initialization\n",
      "[48464]: [ERROR] aiokafka.consumer.group_coordinator: Group Coordinator Request failed: [Error 15] CoordinatorNotAvailableError\n",
      "[48464]: [WARNING] aiokafka.cluster: Topic realitime_data is not available during auto-create initialization\n",
      "[48462]: [ERROR] aiokafka.consumer.group_coordinator: Group Coordinator Request failed: [Error 15] CoordinatorNotAvailableError\n",
      "[48462]: [ERROR] aiokafka.consumer.group_coordinator: Group Coordinator Request failed: [Error 15] CoordinatorNotAvailableError\n",
      "[48462]: [WARNING] aiokafka.cluster: Topic realitime_data is not available during auto-create initialization\n",
      "[48462]: [WARNING] aiokafka.cluster: Topic training_data is not available during auto-create initialization\n",
      "[48464]: [ERROR] aiokafka.consumer.group_coordinator: Group Coordinator Request failed: [Error 15] CoordinatorNotAvailableError\n",
      "[48464]: [WARNING] aiokafka.cluster: Topic training_data is not available during auto-create initialization\n",
      "[48464]: [ERROR] aiokafka.consumer.group_coordinator: Group Coordinator Request failed: [Error 15] CoordinatorNotAvailableError\n",
      "[48464]: [WARNING] aiokafka.cluster: Topic realitime_data is not available during auto-create initialization\n",
      "[48462]: [ERROR] aiokafka.consumer.group_coordinator: Group Coordinator Request failed: [Error 15] CoordinatorNotAvailableError\n",
      "[48462]: [ERROR] aiokafka.consumer.group_coordinator: Group Coordinator Request failed: [Error 15] CoordinatorNotAvailableError\n",
      "[48462]: [WARNING] aiokafka.cluster: Topic training_data is not available during auto-create initialization\n",
      "[48462]: [WARNING] aiokafka.cluster: Topic realitime_data is not available during auto-create initialization\n",
      "[48464]: [ERROR] aiokafka.consumer.group_coordinator: Group Coordinator Request failed: [Error 15] CoordinatorNotAvailableError\n",
      "[48464]: [WARNING] aiokafka.cluster: Topic training_data is not available during auto-create initialization\n",
      "[48464]: [ERROR] aiokafka.consumer.group_coordinator: Group Coordinator Request failed: [Error 15] CoordinatorNotAvailableError\n",
      "[48464]: [WARNING] aiokafka.cluster: Topic realitime_data is not available during auto-create initialization\n",
      "[48462]: [ERROR] aiokafka.consumer.group_coordinator: Group Coordinator Request failed: [Error 15] CoordinatorNotAvailableError\n",
      "[48462]: [ERROR] aiokafka.consumer.group_coordinator: Group Coordinator Request failed: [Error 15] CoordinatorNotAvailableError\n",
      "[48462]: [WARNING] aiokafka.cluster: Topic realitime_data is not available during auto-create initialization\n",
      "[48462]: [WARNING] aiokafka.cluster: Topic training_data is not available during auto-create initialization\n",
      "[48464]: [ERROR] aiokafka.consumer.group_coordinator: Group Coordinator Request failed: [Error 15] CoordinatorNotAvailableError\n",
      "[48464]: [WARNING] aiokafka.cluster: Topic training_data is not available during auto-create initialization\n",
      "[48464]: [ERROR] aiokafka.consumer.group_coordinator: Group Coordinator Request failed: [Error 15] CoordinatorNotAvailableError\n",
      "[48464]: [WARNING] aiokafka.cluster: Topic realitime_data is not available during auto-create initialization\n",
      "[48462]: [ERROR] aiokafka.consumer.group_coordinator: Group Coordinator Request failed: [Error 15] CoordinatorNotAvailableError\n",
      "[48462]: [ERROR] aiokafka.consumer.group_coordinator: Group Coordinator Request failed: [Error 15] CoordinatorNotAvailableError\n",
      "[48462]: [WARNING] aiokafka.cluster: Topic training_data is not available during auto-create initialization\n",
      "[48462]: [WARNING] aiokafka.cluster: Topic realitime_data is not available during auto-create initialization\n",
      "[48464]: [ERROR] aiokafka.consumer.group_coordinator: Group Coordinator Request failed: [Error 15] CoordinatorNotAvailableError\n",
      "[48464]: [WARNING] aiokafka.cluster: Topic training_data is not available during auto-create initialization\n",
      "[48464]: [ERROR] aiokafka.consumer.group_coordinator: Group Coordinator Request failed: [Error 15] CoordinatorNotAvailableError\n",
      "[48464]: [WARNING] aiokafka.cluster: Topic realitime_data is not available during auto-create initialization\n",
      "[48462]: [ERROR] aiokafka.consumer.group_coordinator: Group Coordinator Request failed: [Error 15] CoordinatorNotAvailableError\n",
      "[48462]: [ERROR] aiokafka.consumer.group_coordinator: Group Coordinator Request failed: [Error 15] CoordinatorNotAvailableError\n",
      "[48462]: [WARNING] aiokafka.cluster: Topic training_data is not available during auto-create initialization\n",
      "[48462]: [WARNING] aiokafka.cluster: Topic realitime_data is not available during auto-create initialization\n",
      "[48464]: [ERROR] aiokafka.consumer.group_coordinator: Group Coordinator Request failed: [Error 15] CoordinatorNotAvailableError\n",
      "[48464]: [WARNING] aiokafka.cluster: Topic training_data is not available during auto-create initialization\n",
      "[48464]: [ERROR] aiokafka.consumer.group_coordinator: Group Coordinator Request failed: [Error 15] CoordinatorNotAvailableError\n",
      "[48464]: [WARNING] aiokafka.cluster: Topic realitime_data is not available during auto-create initialization\n",
      "[48462]: [ERROR] aiokafka.consumer.group_coordinator: Group Coordinator Request failed: [Error 15] CoordinatorNotAvailableError\n",
      "[48462]: [ERROR] aiokafka.consumer.group_coordinator: Group Coordinator Request failed: [Error 15] CoordinatorNotAvailableError\n",
      "[48462]: [WARNING] aiokafka.cluster: Topic training_data is not available during auto-create initialization\n",
      "[48462]: [WARNING] aiokafka.cluster: Topic realitime_data is not available during auto-create initialization\n",
      "[48464]: [ERROR] aiokafka.consumer.group_coordinator: Group Coordinator Request failed: [Error 15] CoordinatorNotAvailableError\n",
      "[48464]: [WARNING] aiokafka.cluster: Topic training_data is not available during auto-create initialization\n",
      "[48464]: [ERROR] aiokafka.consumer.group_coordinator: Group Coordinator Request failed: [Error 15] CoordinatorNotAvailableError\n",
      "[48464]: [WARNING] aiokafka.cluster: Topic realitime_data is not available during auto-create initialization\n",
      "[48462]: [ERROR] aiokafka.consumer.group_coordinator: Group Coordinator Request failed: [Error 15] CoordinatorNotAvailableError\n",
      "[48462]: [ERROR] aiokafka.consumer.group_coordinator: Group Coordinator Request failed: [Error 15] CoordinatorNotAvailableError\n",
      "[48462]: [WARNING] aiokafka.cluster: Topic training_data is not available during auto-create initialization\n",
      "[48462]: [WARNING] aiokafka.cluster: Topic realitime_data is not available during auto-create initialization\n",
      "[48464]: [ERROR] aiokafka.consumer.group_coordinator: Group Coordinator Request failed: [Error 15] CoordinatorNotAvailableError\n",
      "[48464]: [WARNING] aiokafka.cluster: Topic training_data is not available during auto-create initialization\n",
      "[48464]: [INFO] aiokafka.consumer.group_coordinator: Discovered coordinator 0 for group 127.0.0.1:9092_group\n",
      "[48464]: [INFO] aiokafka.consumer.group_coordinator: Revoking previously assigned partitions set() for group 127.0.0.1:9092_group\n",
      "[48464]: [INFO] aiokafka.consumer.group_coordinator: (Re-)joining group 127.0.0.1:9092_group\n",
      "[48464]: [WARNING] aiokafka.consumer.group_coordinator: Marking the coordinator dead (node 0)for group 127.0.0.1:9092_group.\n",
      "[48462]: [INFO] aiokafka.consumer.group_coordinator: Discovered coordinator 0 for group 127.0.0.1:9092_group\n",
      "[48462]: [INFO] aiokafka.consumer.group_coordinator: Revoking previously assigned partitions set() for group 127.0.0.1:9092_group\n",
      "[48462]: [INFO] aiokafka.consumer.group_coordinator: (Re-)joining group 127.0.0.1:9092_group\n",
      "[48462]: [INFO] aiokafka.consumer.group_coordinator: Discovered coordinator 0 for group 127.0.0.1:9092_group\n",
      "[48462]: [INFO] aiokafka.consumer.group_coordinator: Revoking previously assigned partitions set() for group 127.0.0.1:9092_group\n",
      "[48462]: [INFO] aiokafka.consumer.group_coordinator: (Re-)joining group 127.0.0.1:9092_group\n",
      "[48462]: [WARNING] aiokafka.consumer.group_coordinator: Marking the coordinator dead (node 0)for group 127.0.0.1:9092_group.\n",
      "[48462]: [WARNING] aiokafka.consumer.group_coordinator: Marking the coordinator dead (node 0)for group 127.0.0.1:9092_group.\n",
      "[48464]: [INFO] aiokafka.consumer.group_coordinator: Discovered coordinator 0 for group 127.0.0.1:9092_group\n",
      "[48464]: [INFO] aiokafka.consumer.group_coordinator: Revoking previously assigned partitions set() for group 127.0.0.1:9092_group\n",
      "[48464]: [INFO] aiokafka.consumer.group_coordinator: (Re-)joining group 127.0.0.1:9092_group\n",
      "[48464]: [WARNING] aiokafka.consumer.group_coordinator: Marking the coordinator dead (node 0)for group 127.0.0.1:9092_group.\n",
      "[48464]: [INFO] aiokafka.consumer.group_coordinator: Discovered coordinator 0 for group 127.0.0.1:9092_group\n",
      "[48464]: [INFO] aiokafka.consumer.group_coordinator: (Re-)joining group 127.0.0.1:9092_group\n",
      "[48464]: [WARNING] aiokafka.consumer.group_coordinator: Marking the coordinator dead (node 0)for group 127.0.0.1:9092_group.\n",
      "[48462]: [INFO] aiokafka.consumer.group_coordinator: Discovered coordinator 0 for group 127.0.0.1:9092_group\n",
      "[48462]: [INFO] aiokafka.consumer.group_coordinator: (Re-)joining group 127.0.0.1:9092_group\n",
      "[48462]: [INFO] aiokafka.consumer.group_coordinator: Discovered coordinator 0 for group 127.0.0.1:9092_group\n",
      "[48462]: [INFO] aiokafka.consumer.group_coordinator: (Re-)joining group 127.0.0.1:9092_group\n",
      "[48462]: [WARNING] aiokafka.consumer.group_coordinator: Marking the coordinator dead (node 0)for group 127.0.0.1:9092_group.\n",
      "[48462]: [WARNING] aiokafka.consumer.group_coordinator: Marking the coordinator dead (node 0)for group 127.0.0.1:9092_group.\n",
      "[48464]: [INFO] aiokafka.consumer.group_coordinator: Discovered coordinator 0 for group 127.0.0.1:9092_group\n",
      "[48464]: [INFO] aiokafka.consumer.group_coordinator: (Re-)joining group 127.0.0.1:9092_group\n",
      "[48464]: [WARNING] aiokafka.consumer.group_coordinator: Marking the coordinator dead (node 0)for group 127.0.0.1:9092_group.\n",
      "[48462]: [INFO] aiokafka.consumer.group_coordinator: Discovered coordinator 0 for group 127.0.0.1:9092_group\n",
      "[48462]: [INFO] aiokafka.consumer.group_coordinator: (Re-)joining group 127.0.0.1:9092_group\n",
      "[48464]: [INFO] aiokafka.consumer.group_coordinator: Discovered coordinator 0 for group 127.0.0.1:9092_group\n",
      "[48464]: [INFO] aiokafka.consumer.group_coordinator: (Re-)joining group 127.0.0.1:9092_group\n",
      "[48462]: [INFO] aiokafka.consumer.group_coordinator: Discovered coordinator 0 for group 127.0.0.1:9092_group\n",
      "[48462]: [INFO] aiokafka.consumer.group_coordinator: (Re-)joining group 127.0.0.1:9092_group\n",
      "[48462]: [WARNING] aiokafka.consumer.group_coordinator: Marking the coordinator dead (node 0)for group 127.0.0.1:9092_group.\n",
      "[48462]: [WARNING] aiokafka.consumer.group_coordinator: Marking the coordinator dead (node 0)for group 127.0.0.1:9092_group.\n",
      "[48464]: [WARNING] aiokafka.consumer.group_coordinator: Marking the coordinator dead (node 0)for group 127.0.0.1:9092_group.\n",
      "[48464]: [INFO] aiokafka.consumer.group_coordinator: Discovered coordinator 0 for group 127.0.0.1:9092_group\n",
      "[48464]: [INFO] aiokafka.consumer.group_coordinator: (Re-)joining group 127.0.0.1:9092_group\n",
      "[48464]: [WARNING] aiokafka.consumer.group_coordinator: Marking the coordinator dead (node 0)for group 127.0.0.1:9092_group.\n",
      "[48462]: [INFO] aiokafka.consumer.group_coordinator: Discovered coordinator 0 for group 127.0.0.1:9092_group\n",
      "[48462]: [INFO] aiokafka.consumer.group_coordinator: (Re-)joining group 127.0.0.1:9092_group\n",
      "[48464]: [INFO] aiokafka.consumer.group_coordinator: Discovered coordinator 0 for group 127.0.0.1:9092_group\n",
      "[48462]: [INFO] aiokafka.consumer.group_coordinator: Discovered coordinator 0 for group 127.0.0.1:9092_group\n",
      "[48464]: [INFO] aiokafka.consumer.group_coordinator: (Re-)joining group 127.0.0.1:9092_group\n",
      "[48462]: [INFO] aiokafka.consumer.group_coordinator: (Re-)joining group 127.0.0.1:9092_group\n",
      "[48462]: [WARNING] aiokafka.consumer.group_coordinator: Marking the coordinator dead (node 0)for group 127.0.0.1:9092_group.\n",
      "[48464]: [WARNING] aiokafka.consumer.group_coordinator: Marking the coordinator dead (node 0)for group 127.0.0.1:9092_group.\n",
      "[48462]: [WARNING] aiokafka.consumer.group_coordinator: Marking the coordinator dead (node 0)for group 127.0.0.1:9092_group.\n",
      "[48464]: [INFO] aiokafka.consumer.group_coordinator: Discovered coordinator 0 for group 127.0.0.1:9092_group\n",
      "[48464]: [INFO] aiokafka.consumer.group_coordinator: (Re-)joining group 127.0.0.1:9092_group\n",
      "[48464]: [WARNING] aiokafka.consumer.group_coordinator: Marking the coordinator dead (node 0)for group 127.0.0.1:9092_group.\n",
      "[48462]: [INFO] aiokafka.consumer.group_coordinator: Discovered coordinator 0 for group 127.0.0.1:9092_group\n",
      "[48462]: [INFO] aiokafka.consumer.group_coordinator: (Re-)joining group 127.0.0.1:9092_group\n",
      "[48464]: [INFO] aiokafka.consumer.group_coordinator: Discovered coordinator 0 for group 127.0.0.1:9092_group\n",
      "[48464]: [INFO] aiokafka.consumer.group_coordinator: (Re-)joining group 127.0.0.1:9092_group\n",
      "[48462]: [INFO] aiokafka.consumer.group_coordinator: Discovered coordinator 0 for group 127.0.0.1:9092_group\n",
      "[48462]: [INFO] aiokafka.consumer.group_coordinator: (Re-)joining group 127.0.0.1:9092_group\n",
      "[48462]: [WARNING] aiokafka.consumer.group_coordinator: Marking the coordinator dead (node 0)for group 127.0.0.1:9092_group.\n",
      "[48464]: [WARNING] aiokafka.consumer.group_coordinator: Marking the coordinator dead (node 0)for group 127.0.0.1:9092_group.\n",
      "[48464]: [INFO] aiokafka.consumer.group_coordinator: Discovered coordinator 0 for group 127.0.0.1:9092_group\n",
      "[48462]: [WARNING] aiokafka.consumer.group_coordinator: Marking the coordinator dead (node 0)for group 127.0.0.1:9092_group.\n",
      "[48464]: [INFO] aiokafka.consumer.group_coordinator: (Re-)joining group 127.0.0.1:9092_group\n",
      "[48464]: [WARNING] aiokafka.consumer.group_coordinator: Marking the coordinator dead (node 0)for group 127.0.0.1:9092_group.\n",
      "[48464]: [INFO] aiokafka.consumer.group_coordinator: Discovered coordinator 0 for group 127.0.0.1:9092_group\n",
      "[48464]: [INFO] aiokafka.consumer.group_coordinator: (Re-)joining group 127.0.0.1:9092_group\n",
      "[48462]: [INFO] aiokafka.consumer.group_coordinator: Discovered coordinator 0 for group 127.0.0.1:9092_group\n",
      "[48462]: [INFO] aiokafka.consumer.group_coordinator: (Re-)joining group 127.0.0.1:9092_group\n",
      "[48462]: [INFO] aiokafka.consumer.group_coordinator: Discovered coordinator 0 for group 127.0.0.1:9092_group\n",
      "[48464]: [WARNING] aiokafka.consumer.group_coordinator: Marking the coordinator dead (node 0)for group 127.0.0.1:9092_group.\n",
      "[48462]: [INFO] aiokafka.consumer.group_coordinator: (Re-)joining group 127.0.0.1:9092_group\n",
      "[48464]: [INFO] aiokafka.consumer.group_coordinator: Discovered coordinator 0 for group 127.0.0.1:9092_group\n",
      "[48464]: [INFO] aiokafka.consumer.group_coordinator: (Re-)joining group 127.0.0.1:9092_group\n",
      "[48462]: [WARNING] aiokafka.consumer.group_coordinator: Marking the coordinator dead (node 0)for group 127.0.0.1:9092_group.\n",
      "[48462]: [WARNING] aiokafka.consumer.group_coordinator: Marking the coordinator dead (node 0)for group 127.0.0.1:9092_group.\n",
      "[48464]: [WARNING] aiokafka.consumer.group_coordinator: Marking the coordinator dead (node 0)for group 127.0.0.1:9092_group.\n",
      "[48462]: [INFO] aiokafka.consumer.group_coordinator: Discovered coordinator 0 for group 127.0.0.1:9092_group\n",
      "[48462]: [INFO] aiokafka.consumer.group_coordinator: (Re-)joining group 127.0.0.1:9092_group\n",
      "[48462]: [INFO] aiokafka.consumer.group_coordinator: Discovered coordinator 0 for group 127.0.0.1:9092_group\n",
      "[48462]: [INFO] aiokafka.consumer.group_coordinator: (Re-)joining group 127.0.0.1:9092_group\n",
      "[48464]: [INFO] aiokafka.consumer.group_coordinator: Discovered coordinator 0 for group 127.0.0.1:9092_group\n",
      "[48464]: [INFO] aiokafka.consumer.group_coordinator: (Re-)joining group 127.0.0.1:9092_group\n",
      "[48462]: [WARNING] aiokafka.consumer.group_coordinator: Marking the coordinator dead (node 0)for group 127.0.0.1:9092_group.\n",
      "[48464]: [INFO] aiokafka.consumer.group_coordinator: Discovered coordinator 0 for group 127.0.0.1:9092_group\n",
      "[48464]: [INFO] aiokafka.consumer.group_coordinator: (Re-)joining group 127.0.0.1:9092_group\n",
      "[48464]: [WARNING] aiokafka.consumer.group_coordinator: Marking the coordinator dead (node 0)for group 127.0.0.1:9092_group.\n",
      "[48462]: [WARNING] aiokafka.consumer.group_coordinator: Marking the coordinator dead (node 0)for group 127.0.0.1:9092_group.\n",
      "[48464]: [WARNING] aiokafka.consumer.group_coordinator: Marking the coordinator dead (node 0)for group 127.0.0.1:9092_group.\n",
      "[48462]: [INFO] aiokafka.consumer.group_coordinator: Discovered coordinator 0 for group 127.0.0.1:9092_group\n",
      "[48462]: [INFO] aiokafka.consumer.group_coordinator: (Re-)joining group 127.0.0.1:9092_group\n",
      "[48464]: [INFO] aiokafka.consumer.group_coordinator: Discovered coordinator 0 for group 127.0.0.1:9092_group\n",
      "[48462]: [INFO] aiokafka.consumer.group_coordinator: Discovered coordinator 0 for group 127.0.0.1:9092_group\n",
      "[48464]: [INFO] aiokafka.consumer.group_coordinator: (Re-)joining group 127.0.0.1:9092_group\n",
      "[48462]: [INFO] aiokafka.consumer.group_coordinator: (Re-)joining group 127.0.0.1:9092_group\n",
      "[48464]: [INFO] aiokafka.consumer.group_coordinator: Discovered coordinator 0 for group 127.0.0.1:9092_group\n",
      "[48464]: [INFO] aiokafka.consumer.group_coordinator: (Re-)joining group 127.0.0.1:9092_group\n",
      "[48462]: [WARNING] aiokafka.consumer.group_coordinator: Marking the coordinator dead (node 0)for group 127.0.0.1:9092_group.\n",
      "[48462]: [WARNING] aiokafka.consumer.group_coordinator: Marking the coordinator dead (node 0)for group 127.0.0.1:9092_group.\n",
      "[48464]: [WARNING] aiokafka.consumer.group_coordinator: Marking the coordinator dead (node 0)for group 127.0.0.1:9092_group.\n",
      "[48464]: [WARNING] aiokafka.consumer.group_coordinator: Marking the coordinator dead (node 0)for group 127.0.0.1:9092_group.\n",
      "[48462]: [INFO] aiokafka.consumer.group_coordinator: Discovered coordinator 0 for group 127.0.0.1:9092_group\n",
      "[48462]: [INFO] aiokafka.consumer.group_coordinator: (Re-)joining group 127.0.0.1:9092_group\n",
      "[48464]: [INFO] aiokafka.consumer.group_coordinator: Discovered coordinator 0 for group 127.0.0.1:9092_group\n",
      "[48464]: [INFO] aiokafka.consumer.group_coordinator: (Re-)joining group 127.0.0.1:9092_group\n",
      "[48462]: [INFO] aiokafka.consumer.group_coordinator: Discovered coordinator 0 for group 127.0.0.1:9092_group\n",
      "[48464]: [INFO] aiokafka.consumer.group_coordinator: Discovered coordinator 0 for group 127.0.0.1:9092_group\n",
      "[48464]: [INFO] aiokafka.consumer.group_coordinator: (Re-)joining group 127.0.0.1:9092_group\n",
      "[48462]: [INFO] aiokafka.consumer.group_coordinator: (Re-)joining group 127.0.0.1:9092_group\n",
      "[48462]: [WARNING] aiokafka.consumer.group_coordinator: Marking the coordinator dead (node 0)for group 127.0.0.1:9092_group.\n",
      "[48464]: [WARNING] aiokafka.consumer.group_coordinator: Marking the coordinator dead (node 0)for group 127.0.0.1:9092_group.\n",
      "[48464]: [WARNING] aiokafka.consumer.group_coordinator: Marking the coordinator dead (node 0)for group 127.0.0.1:9092_group.\n",
      "[48462]: [WARNING] aiokafka.consumer.group_coordinator: Marking the coordinator dead (node 0)for group 127.0.0.1:9092_group.\n",
      "[48462]: [INFO] aiokafka.consumer.group_coordinator: Discovered coordinator 0 for group 127.0.0.1:9092_group\n",
      "[48462]: [INFO] aiokafka.consumer.group_coordinator: (Re-)joining group 127.0.0.1:9092_group\n",
      "[48464]: [INFO] aiokafka.consumer.group_coordinator: Discovered coordinator 0 for group 127.0.0.1:9092_group\n",
      "[48464]: [INFO] aiokafka.consumer.group_coordinator: (Re-)joining group 127.0.0.1:9092_group\n",
      "[48462]: [INFO] aiokafka.consumer.group_coordinator: Discovered coordinator 0 for group 127.0.0.1:9092_group\n",
      "[48462]: [INFO] aiokafka.consumer.group_coordinator: (Re-)joining group 127.0.0.1:9092_group\n",
      "[48464]: [INFO] aiokafka.consumer.group_coordinator: Discovered coordinator 0 for group 127.0.0.1:9092_group\n",
      "[48464]: [INFO] aiokafka.consumer.group_coordinator: (Re-)joining group 127.0.0.1:9092_group\n",
      "[48462]: [WARNING] aiokafka.consumer.group_coordinator: Marking the coordinator dead (node 0)for group 127.0.0.1:9092_group.\n",
      "[48462]: [WARNING] aiokafka.consumer.group_coordinator: Marking the coordinator dead (node 0)for group 127.0.0.1:9092_group.\n",
      "[48464]: [WARNING] aiokafka.consumer.group_coordinator: Marking the coordinator dead (node 0)for group 127.0.0.1:9092_group.\n",
      "[48464]: [WARNING] aiokafka.consumer.group_coordinator: Marking the coordinator dead (node 0)for group 127.0.0.1:9092_group.\n",
      "[48464]: [INFO] aiokafka.consumer.group_coordinator: Discovered coordinator 0 for group 127.0.0.1:9092_group\n",
      "[48464]: [INFO] aiokafka.consumer.group_coordinator: (Re-)joining group 127.0.0.1:9092_group\n",
      "[48462]: [INFO] aiokafka.consumer.group_coordinator: Discovered coordinator 0 for group 127.0.0.1:9092_group\n",
      "[48462]: [INFO] aiokafka.consumer.group_coordinator: (Re-)joining group 127.0.0.1:9092_group\n",
      "[48464]: [INFO] aiokafka.consumer.group_coordinator: Discovered coordinator 0 for group 127.0.0.1:9092_group\n",
      "[48464]: [INFO] aiokafka.consumer.group_coordinator: (Re-)joining group 127.0.0.1:9092_group\n",
      "[48462]: [INFO] aiokafka.consumer.group_coordinator: Discovered coordinator 0 for group 127.0.0.1:9092_group\n",
      "[48462]: [INFO] aiokafka.consumer.group_coordinator: (Re-)joining group 127.0.0.1:9092_group\n",
      "[48464]: [WARNING] aiokafka.consumer.group_coordinator: Marking the coordinator dead (node 0)for group 127.0.0.1:9092_group.\n",
      "[48462]: [WARNING] aiokafka.consumer.group_coordinator: Marking the coordinator dead (node 0)for group 127.0.0.1:9092_group.\n",
      "[48464]: [WARNING] aiokafka.consumer.group_coordinator: Marking the coordinator dead (node 0)for group 127.0.0.1:9092_group.\n",
      "[48462]: [WARNING] aiokafka.consumer.group_coordinator: Marking the coordinator dead (node 0)for group 127.0.0.1:9092_group.\n",
      "[48464]: [INFO] aiokafka.consumer.group_coordinator: Discovered coordinator 0 for group 127.0.0.1:9092_group\n",
      "[48464]: [INFO] aiokafka.consumer.group_coordinator: (Re-)joining group 127.0.0.1:9092_group\n",
      "[48462]: [INFO] aiokafka.consumer.group_coordinator: Discovered coordinator 0 for group 127.0.0.1:9092_group\n",
      "[48462]: [INFO] aiokafka.consumer.group_coordinator: (Re-)joining group 127.0.0.1:9092_group\n",
      "[48464]: [INFO] aiokafka.consumer.group_coordinator: Discovered coordinator 0 for group 127.0.0.1:9092_group\n",
      "[48464]: [INFO] aiokafka.consumer.group_coordinator: (Re-)joining group 127.0.0.1:9092_group\n",
      "[48462]: [INFO] aiokafka.consumer.group_coordinator: Discovered coordinator 0 for group 127.0.0.1:9092_group\n",
      "[48462]: [INFO] aiokafka.consumer.group_coordinator: (Re-)joining group 127.0.0.1:9092_group\n",
      "[48464]: [WARNING] aiokafka.consumer.group_coordinator: Marking the coordinator dead (node 0)for group 127.0.0.1:9092_group.\n",
      "[48462]: [WARNING] aiokafka.consumer.group_coordinator: Marking the coordinator dead (node 0)for group 127.0.0.1:9092_group.\n",
      "[48464]: [WARNING] aiokafka.consumer.group_coordinator: Marking the coordinator dead (node 0)for group 127.0.0.1:9092_group.\n",
      "[48462]: [WARNING] aiokafka.consumer.group_coordinator: Marking the coordinator dead (node 0)for group 127.0.0.1:9092_group.\n",
      "[48462]: [INFO] aiokafka.consumer.group_coordinator: Discovered coordinator 0 for group 127.0.0.1:9092_group\n",
      "[48462]: [INFO] aiokafka.consumer.group_coordinator: (Re-)joining group 127.0.0.1:9092_group\n",
      "[48464]: [INFO] aiokafka.consumer.group_coordinator: Discovered coordinator 0 for group 127.0.0.1:9092_group\n",
      "[48464]: [INFO] aiokafka.consumer.group_coordinator: (Re-)joining group 127.0.0.1:9092_group\n",
      "[48464]: [INFO] aiokafka.consumer.group_coordinator: Discovered coordinator 0 for group 127.0.0.1:9092_group\n",
      "[48464]: [INFO] aiokafka.consumer.group_coordinator: (Re-)joining group 127.0.0.1:9092_group\n",
      "[48462]: [INFO] aiokafka.consumer.group_coordinator: Discovered coordinator 0 for group 127.0.0.1:9092_group\n",
      "[48462]: [INFO] aiokafka.consumer.group_coordinator: (Re-)joining group 127.0.0.1:9092_group\n",
      "[48464]: [WARNING] aiokafka.consumer.group_coordinator: Marking the coordinator dead (node 0)for group 127.0.0.1:9092_group.\n",
      "[48462]: [WARNING] aiokafka.consumer.group_coordinator: Marking the coordinator dead (node 0)for group 127.0.0.1:9092_group.\n",
      "[48464]: [WARNING] aiokafka.consumer.group_coordinator: Marking the coordinator dead (node 0)for group 127.0.0.1:9092_group.\n",
      "[48462]: [WARNING] aiokafka.consumer.group_coordinator: Marking the coordinator dead (node 0)for group 127.0.0.1:9092_group.\n",
      "[48462]: [INFO] aiokafka.consumer.group_coordinator: Discovered coordinator 0 for group 127.0.0.1:9092_group\n",
      "[48462]: [INFO] aiokafka.consumer.group_coordinator: (Re-)joining group 127.0.0.1:9092_group\n",
      "[48464]: [INFO] aiokafka.consumer.group_coordinator: Discovered coordinator 0 for group 127.0.0.1:9092_group\n",
      "[48464]: [INFO] aiokafka.consumer.group_coordinator: (Re-)joining group 127.0.0.1:9092_group\n",
      "[48462]: [INFO] aiokafka.consumer.group_coordinator: Discovered coordinator 0 for group 127.0.0.1:9092_group\n",
      "[48464]: [INFO] aiokafka.consumer.group_coordinator: Discovered coordinator 0 for group 127.0.0.1:9092_group\n",
      "[48464]: [INFO] aiokafka.consumer.group_coordinator: (Re-)joining group 127.0.0.1:9092_group\n",
      "[48462]: [INFO] aiokafka.consumer.group_coordinator: (Re-)joining group 127.0.0.1:9092_group\n",
      "[48462]: [WARNING] aiokafka.consumer.group_coordinator: Marking the coordinator dead (node 0)for group 127.0.0.1:9092_group.\n",
      "[48464]: [WARNING] aiokafka.consumer.group_coordinator: Marking the coordinator dead (node 0)for group 127.0.0.1:9092_group.\n",
      "[48462]: [WARNING] aiokafka.consumer.group_coordinator: Marking the coordinator dead (node 0)for group 127.0.0.1:9092_group.\n",
      "[48464]: [WARNING] aiokafka.consumer.group_coordinator: Marking the coordinator dead (node 0)for group 127.0.0.1:9092_group.\n",
      "[48464]: [INFO] aiokafka.consumer.group_coordinator: Discovered coordinator 0 for group 127.0.0.1:9092_group\n",
      "[48464]: [INFO] aiokafka.consumer.group_coordinator: (Re-)joining group 127.0.0.1:9092_group\n",
      "[48462]: [INFO] aiokafka.consumer.group_coordinator: Discovered coordinator 0 for group 127.0.0.1:9092_group\n",
      "[48462]: [INFO] aiokafka.consumer.group_coordinator: (Re-)joining group 127.0.0.1:9092_group\n",
      "[48464]: [INFO] aiokafka.consumer.group_coordinator: Discovered coordinator 0 for group 127.0.0.1:9092_group\n",
      "[48462]: [INFO] aiokafka.consumer.group_coordinator: Discovered coordinator 0 for group 127.0.0.1:9092_group\n",
      "[48464]: [INFO] aiokafka.consumer.group_coordinator: (Re-)joining group 127.0.0.1:9092_group\n",
      "[48462]: [INFO] aiokafka.consumer.group_coordinator: (Re-)joining group 127.0.0.1:9092_group\n",
      "[48462]: [WARNING] aiokafka.consumer.group_coordinator: Marking the coordinator dead (node 0)for group 127.0.0.1:9092_group.\n",
      "[48464]: [WARNING] aiokafka.consumer.group_coordinator: Marking the coordinator dead (node 0)for group 127.0.0.1:9092_group.\n",
      "[48462]: [WARNING] aiokafka.consumer.group_coordinator: Marking the coordinator dead (node 0)for group 127.0.0.1:9092_group.\n",
      "[48464]: [WARNING] aiokafka.consumer.group_coordinator: Marking the coordinator dead (node 0)for group 127.0.0.1:9092_group.\n",
      "[48464]: [INFO] aiokafka.consumer.group_coordinator: Discovered coordinator 0 for group 127.0.0.1:9092_group\n",
      "[48464]: [INFO] aiokafka.consumer.group_coordinator: (Re-)joining group 127.0.0.1:9092_group\n",
      "[48462]: [INFO] aiokafka.consumer.group_coordinator: Discovered coordinator 0 for group 127.0.0.1:9092_group\n",
      "[48462]: [INFO] aiokafka.consumer.group_coordinator: (Re-)joining group 127.0.0.1:9092_group\n",
      "[48464]: [INFO] aiokafka.consumer.group_coordinator: Discovered coordinator 0 for group 127.0.0.1:9092_group\n",
      "[48464]: [INFO] aiokafka.consumer.group_coordinator: (Re-)joining group 127.0.0.1:9092_group\n",
      "[48462]: [INFO] aiokafka.consumer.group_coordinator: Discovered coordinator 0 for group 127.0.0.1:9092_group\n",
      "[48462]: [INFO] aiokafka.consumer.group_coordinator: (Re-)joining group 127.0.0.1:9092_group\n",
      "[48462]: [WARNING] aiokafka.consumer.group_coordinator: Marking the coordinator dead (node 0)for group 127.0.0.1:9092_group.\n",
      "[48464]: [WARNING] aiokafka.consumer.group_coordinator: Marking the coordinator dead (node 0)for group 127.0.0.1:9092_group.\n",
      "[48462]: [WARNING] aiokafka.consumer.group_coordinator: Marking the coordinator dead (node 0)for group 127.0.0.1:9092_group.\n",
      "[48464]: [WARNING] aiokafka.consumer.group_coordinator: Marking the coordinator dead (node 0)for group 127.0.0.1:9092_group.\n",
      "[48462]: [INFO] aiokafka.consumer.group_coordinator: Discovered coordinator 0 for group 127.0.0.1:9092_group\n",
      "[48462]: [INFO] aiokafka.consumer.group_coordinator: (Re-)joining group 127.0.0.1:9092_group\n",
      "[48464]: [INFO] aiokafka.consumer.group_coordinator: Discovered coordinator 0 for group 127.0.0.1:9092_group\n",
      "[48464]: [INFO] aiokafka.consumer.group_coordinator: (Re-)joining group 127.0.0.1:9092_group\n",
      "[48462]: [INFO] aiokafka.consumer.group_coordinator: Discovered coordinator 0 for group 127.0.0.1:9092_group\n",
      "[48462]: [INFO] aiokafka.consumer.group_coordinator: (Re-)joining group 127.0.0.1:9092_group\n",
      "[48464]: [INFO] aiokafka.consumer.group_coordinator: Discovered coordinator 0 for group 127.0.0.1:9092_group\n",
      "[48464]: [INFO] aiokafka.consumer.group_coordinator: (Re-)joining group 127.0.0.1:9092_group\n",
      "[48462]: [WARNING] aiokafka.consumer.group_coordinator: Marking the coordinator dead (node 0)for group 127.0.0.1:9092_group.\n",
      "[48464]: [WARNING] aiokafka.consumer.group_coordinator: Marking the coordinator dead (node 0)for group 127.0.0.1:9092_group.\n",
      "[48462]: [WARNING] aiokafka.consumer.group_coordinator: Marking the coordinator dead (node 0)for group 127.0.0.1:9092_group.\n",
      "[48464]: [WARNING] aiokafka.consumer.group_coordinator: Marking the coordinator dead (node 0)for group 127.0.0.1:9092_group.\n",
      "[48464]: [INFO] aiokafka.consumer.group_coordinator: Discovered coordinator 0 for group 127.0.0.1:9092_group\n",
      "[48464]: [INFO] aiokafka.consumer.group_coordinator: (Re-)joining group 127.0.0.1:9092_group\n",
      "[48462]: [INFO] aiokafka.consumer.group_coordinator: Discovered coordinator 0 for group 127.0.0.1:9092_group\n",
      "[48464]: [INFO] aiokafka.consumer.group_coordinator: Discovered coordinator 0 for group 127.0.0.1:9092_group\n",
      "[48464]: [INFO] aiokafka.consumer.group_coordinator: (Re-)joining group 127.0.0.1:9092_group\n",
      "[48462]: [INFO] aiokafka.consumer.group_coordinator: (Re-)joining group 127.0.0.1:9092_group\n",
      "[48462]: [INFO] aiokafka.consumer.group_coordinator: Discovered coordinator 0 for group 127.0.0.1:9092_group\n",
      "[48462]: [INFO] aiokafka.consumer.group_coordinator: (Re-)joining group 127.0.0.1:9092_group\n",
      "[48464]: [WARNING] aiokafka.consumer.group_coordinator: Marking the coordinator dead (node 0)for group 127.0.0.1:9092_group.\n",
      "[48464]: [WARNING] aiokafka.consumer.group_coordinator: Marking the coordinator dead (node 0)for group 127.0.0.1:9092_group.\n",
      "[48462]: [WARNING] aiokafka.consumer.group_coordinator: Marking the coordinator dead (node 0)for group 127.0.0.1:9092_group.\n",
      "[48462]: [WARNING] aiokafka.consumer.group_coordinator: Marking the coordinator dead (node 0)for group 127.0.0.1:9092_group.\n",
      "[48464]: [INFO] aiokafka.consumer.group_coordinator: Discovered coordinator 0 for group 127.0.0.1:9092_group\n",
      "[48464]: [INFO] aiokafka.consumer.group_coordinator: (Re-)joining group 127.0.0.1:9092_group\n",
      "[48462]: [INFO] aiokafka.consumer.group_coordinator: Discovered coordinator 0 for group 127.0.0.1:9092_group\n",
      "[48462]: [INFO] aiokafka.consumer.group_coordinator: (Re-)joining group 127.0.0.1:9092_group\n",
      "[48464]: [INFO] aiokafka.consumer.group_coordinator: Discovered coordinator 0 for group 127.0.0.1:9092_group\n",
      "[48464]: [INFO] aiokafka.consumer.group_coordinator: (Re-)joining group 127.0.0.1:9092_group\n",
      "[48462]: [INFO] aiokafka.consumer.group_coordinator: Discovered coordinator 0 for group 127.0.0.1:9092_group\n",
      "[48462]: [INFO] aiokafka.consumer.group_coordinator: (Re-)joining group 127.0.0.1:9092_group\n",
      "[48462]: [WARNING] aiokafka.consumer.group_coordinator: Marking the coordinator dead (node 0)for group 127.0.0.1:9092_group.\n",
      "[48464]: [WARNING] aiokafka.consumer.group_coordinator: Marking the coordinator dead (node 0)for group 127.0.0.1:9092_group.\n",
      "[48464]: [WARNING] aiokafka.consumer.group_coordinator: Marking the coordinator dead (node 0)for group 127.0.0.1:9092_group.\n",
      "[48462]: [WARNING] aiokafka.consumer.group_coordinator: Marking the coordinator dead (node 0)for group 127.0.0.1:9092_group.\n",
      "[48464]: [INFO] aiokafka.consumer.group_coordinator: Discovered coordinator 0 for group 127.0.0.1:9092_group\n",
      "[48464]: [INFO] aiokafka.consumer.group_coordinator: (Re-)joining group 127.0.0.1:9092_group\n",
      "[48462]: [INFO] aiokafka.consumer.group_coordinator: Discovered coordinator 0 for group 127.0.0.1:9092_group\n",
      "[48462]: [INFO] aiokafka.consumer.group_coordinator: (Re-)joining group 127.0.0.1:9092_group\n",
      "[48464]: [INFO] aiokafka.consumer.group_coordinator: Discovered coordinator 0 for group 127.0.0.1:9092_group\n",
      "[48464]: [INFO] aiokafka.consumer.group_coordinator: (Re-)joining group 127.0.0.1:9092_group\n",
      "[48462]: [INFO] aiokafka.consumer.group_coordinator: Discovered coordinator 0 for group 127.0.0.1:9092_group\n",
      "[48462]: [INFO] aiokafka.consumer.group_coordinator: (Re-)joining group 127.0.0.1:9092_group\n",
      "[48464]: [WARNING] aiokafka.consumer.group_coordinator: Marking the coordinator dead (node 0)for group 127.0.0.1:9092_group.\n",
      "[48462]: [WARNING] aiokafka.consumer.group_coordinator: Marking the coordinator dead (node 0)for group 127.0.0.1:9092_group.\n",
      "[48464]: [WARNING] aiokafka.consumer.group_coordinator: Marking the coordinator dead (node 0)for group 127.0.0.1:9092_group.\n",
      "[48462]: [WARNING] aiokafka.consumer.group_coordinator: Marking the coordinator dead (node 0)for group 127.0.0.1:9092_group.\n",
      "[48462]: [INFO] aiokafka.consumer.group_coordinator: Discovered coordinator 0 for group 127.0.0.1:9092_group\n",
      "[48462]: [INFO] aiokafka.consumer.group_coordinator: (Re-)joining group 127.0.0.1:9092_group\n",
      "[48464]: [INFO] aiokafka.consumer.group_coordinator: Discovered coordinator 0 for group 127.0.0.1:9092_group\n",
      "[48464]: [INFO] aiokafka.consumer.group_coordinator: (Re-)joining group 127.0.0.1:9092_group\n",
      "[48462]: [INFO] aiokafka.consumer.group_coordinator: Discovered coordinator 0 for group 127.0.0.1:9092_group\n",
      "[48462]: [INFO] aiokafka.consumer.group_coordinator: (Re-)joining group 127.0.0.1:9092_group\n",
      "[48464]: [INFO] aiokafka.consumer.group_coordinator: Discovered coordinator 0 for group 127.0.0.1:9092_group\n",
      "[48464]: [INFO] aiokafka.consumer.group_coordinator: (Re-)joining group 127.0.0.1:9092_group\n",
      "[48462]: [WARNING] aiokafka.consumer.group_coordinator: Marking the coordinator dead (node 0)for group 127.0.0.1:9092_group.\n",
      "[48464]: [WARNING] aiokafka.consumer.group_coordinator: Marking the coordinator dead (node 0)for group 127.0.0.1:9092_group.\n",
      "[48462]: [WARNING] aiokafka.consumer.group_coordinator: Marking the coordinator dead (node 0)for group 127.0.0.1:9092_group.\n",
      "[48464]: [WARNING] aiokafka.consumer.group_coordinator: Marking the coordinator dead (node 0)for group 127.0.0.1:9092_group.\n",
      "[48462]: [INFO] aiokafka.consumer.group_coordinator: Discovered coordinator 0 for group 127.0.0.1:9092_group\n",
      "[48462]: [INFO] aiokafka.consumer.group_coordinator: (Re-)joining group 127.0.0.1:9092_group\n",
      "[48462]: [INFO] aiokafka.consumer.group_coordinator: Discovered coordinator 0 for group 127.0.0.1:9092_group\n",
      "[48462]: [INFO] aiokafka.consumer.group_coordinator: (Re-)joining group 127.0.0.1:9092_group\n",
      "[48464]: [INFO] aiokafka.consumer.group_coordinator: Discovered coordinator 0 for group 127.0.0.1:9092_group\n",
      "[48464]: [INFO] aiokafka.consumer.group_coordinator: (Re-)joining group 127.0.0.1:9092_group\n",
      "[48462]: [WARNING] aiokafka.consumer.group_coordinator: Marking the coordinator dead (node 0)for group 127.0.0.1:9092_group.\n",
      "[48462]: [WARNING] aiokafka.consumer.group_coordinator: Marking the coordinator dead (node 0)for group 127.0.0.1:9092_group.\n",
      "[48464]: [INFO] aiokafka.consumer.group_coordinator: Discovered coordinator 0 for group 127.0.0.1:9092_group\n",
      "[48464]: [INFO] aiokafka.consumer.group_coordinator: (Re-)joining group 127.0.0.1:9092_group\n",
      "[48464]: [WARNING] aiokafka.consumer.group_coordinator: Marking the coordinator dead (node 0)for group 127.0.0.1:9092_group.\n",
      "[48464]: [WARNING] aiokafka.consumer.group_coordinator: Marking the coordinator dead (node 0)for group 127.0.0.1:9092_group.\n",
      "[48464]: [INFO] aiokafka.consumer.group_coordinator: Discovered coordinator 0 for group 127.0.0.1:9092_group\n",
      "[48464]: [INFO] aiokafka.consumer.group_coordinator: (Re-)joining group 127.0.0.1:9092_group\n",
      "[48464]: [INFO] aiokafka.consumer.group_coordinator: Discovered coordinator 0 for group 127.0.0.1:9092_group\n",
      "[48464]: [INFO] aiokafka.consumer.group_coordinator: (Re-)joining group 127.0.0.1:9092_group\n",
      "[48462]: [INFO] aiokafka.consumer.group_coordinator: Discovered coordinator 0 for group 127.0.0.1:9092_group\n",
      "[48462]: [INFO] aiokafka.consumer.group_coordinator: (Re-)joining group 127.0.0.1:9092_group\n",
      "[48462]: [INFO] aiokafka.consumer.group_coordinator: Discovered coordinator 0 for group 127.0.0.1:9092_group\n",
      "[48462]: [INFO] aiokafka.consumer.group_coordinator: (Re-)joining group 127.0.0.1:9092_group\n",
      "[48464]: [WARNING] aiokafka.consumer.group_coordinator: Marking the coordinator dead (node 0)for group 127.0.0.1:9092_group.\n",
      "[48464]: [WARNING] aiokafka.consumer.group_coordinator: Marking the coordinator dead (node 0)for group 127.0.0.1:9092_group.\n",
      "[48462]: [WARNING] aiokafka.consumer.group_coordinator: Marking the coordinator dead (node 0)for group 127.0.0.1:9092_group.\n",
      "[48462]: [WARNING] aiokafka.consumer.group_coordinator: Marking the coordinator dead (node 0)for group 127.0.0.1:9092_group.\n",
      "[48462]: [INFO] aiokafka.consumer.group_coordinator: Discovered coordinator 0 for group 127.0.0.1:9092_group\n",
      "[48462]: [INFO] aiokafka.consumer.group_coordinator: (Re-)joining group 127.0.0.1:9092_group\n",
      "[48464]: [INFO] aiokafka.consumer.group_coordinator: Discovered coordinator 0 for group 127.0.0.1:9092_group\n",
      "[48464]: [INFO] aiokafka.consumer.group_coordinator: (Re-)joining group 127.0.0.1:9092_group\n",
      "[48464]: [INFO] aiokafka.consumer.group_coordinator: Discovered coordinator 0 for group 127.0.0.1:9092_group\n",
      "[48462]: [INFO] aiokafka.consumer.group_coordinator: Discovered coordinator 0 for group 127.0.0.1:9092_group\n",
      "[48464]: [INFO] aiokafka.consumer.group_coordinator: (Re-)joining group 127.0.0.1:9092_group\n",
      "[48462]: [INFO] aiokafka.consumer.group_coordinator: (Re-)joining group 127.0.0.1:9092_group\n",
      "[48464]: [WARNING] aiokafka.consumer.group_coordinator: Marking the coordinator dead (node 0)for group 127.0.0.1:9092_group.\n",
      "[48462]: [WARNING] aiokafka.consumer.group_coordinator: Marking the coordinator dead (node 0)for group 127.0.0.1:9092_group.\n",
      "[48462]: [WARNING] aiokafka.consumer.group_coordinator: Marking the coordinator dead (node 0)for group 127.0.0.1:9092_group.\n",
      "[48464]: [WARNING] aiokafka.consumer.group_coordinator: Marking the coordinator dead (node 0)for group 127.0.0.1:9092_group.\n",
      "[48462]: [INFO] aiokafka.consumer.group_coordinator: Discovered coordinator 0 for group 127.0.0.1:9092_group\n",
      "[48462]: [INFO] aiokafka.consumer.group_coordinator: (Re-)joining group 127.0.0.1:9092_group\n",
      "[48464]: [INFO] aiokafka.consumer.group_coordinator: Discovered coordinator 0 for group 127.0.0.1:9092_group\n",
      "[48464]: [INFO] aiokafka.consumer.group_coordinator: (Re-)joining group 127.0.0.1:9092_group\n",
      "[48462]: [INFO] aiokafka.consumer.group_coordinator: Discovered coordinator 0 for group 127.0.0.1:9092_group\n",
      "[48462]: [INFO] aiokafka.consumer.group_coordinator: (Re-)joining group 127.0.0.1:9092_group\n",
      "[48464]: [INFO] aiokafka.consumer.group_coordinator: Discovered coordinator 0 for group 127.0.0.1:9092_group\n",
      "[48464]: [INFO] aiokafka.consumer.group_coordinator: (Re-)joining group 127.0.0.1:9092_group\n",
      "[48462]: [WARNING] aiokafka.consumer.group_coordinator: Marking the coordinator dead (node 0)for group 127.0.0.1:9092_group.\n",
      "[48464]: [WARNING] aiokafka.consumer.group_coordinator: Marking the coordinator dead (node 0)for group 127.0.0.1:9092_group.\n",
      "[48462]: [WARNING] aiokafka.consumer.group_coordinator: Marking the coordinator dead (node 0)for group 127.0.0.1:9092_group.\n",
      "[48464]: [WARNING] aiokafka.consumer.group_coordinator: Marking the coordinator dead (node 0)for group 127.0.0.1:9092_group.\n",
      "[48464]: [INFO] aiokafka.consumer.group_coordinator: Discovered coordinator 0 for group 127.0.0.1:9092_group\n",
      "[48464]: [INFO] aiokafka.consumer.group_coordinator: (Re-)joining group 127.0.0.1:9092_group\n",
      "[48464]: [INFO] aiokafka.consumer.group_coordinator: Discovered coordinator 0 for group 127.0.0.1:9092_group\n",
      "[48464]: [INFO] aiokafka.consumer.group_coordinator: (Re-)joining group 127.0.0.1:9092_group\n",
      "[48462]: [INFO] aiokafka.consumer.group_coordinator: Discovered coordinator 0 for group 127.0.0.1:9092_group\n",
      "[48462]: [INFO] aiokafka.consumer.group_coordinator: (Re-)joining group 127.0.0.1:9092_group\n",
      "[48462]: [INFO] aiokafka.consumer.group_coordinator: Discovered coordinator 0 for group 127.0.0.1:9092_group\n",
      "[48462]: [INFO] aiokafka.consumer.group_coordinator: (Re-)joining group 127.0.0.1:9092_group\n",
      "[48464]: [INFO] aiokafka.consumer.group_coordinator: Joined group '127.0.0.1:9092_group' (generation 1) with member_id aiokafka-0.8.0-4c021148-033e-43b7-a97a-b8b4688c1fc8\n",
      "[48464]: [INFO] aiokafka.consumer.group_coordinator: Joined group '127.0.0.1:9092_group' (generation 1) with member_id aiokafka-0.8.0-bbee4cc0-a9d8-403c-a606-c3dfc73abd15\n",
      "[48462]: [INFO] aiokafka.consumer.group_coordinator: Joined group '127.0.0.1:9092_group' (generation 1) with member_id aiokafka-0.8.0-682e369f-7ed1-4185-9127-1e04a57ab315\n",
      "[48462]: [INFO] aiokafka.consumer.group_coordinator: Joined group '127.0.0.1:9092_group' (generation 1) with member_id aiokafka-0.8.0-a42c115a-931d-4dd5-8e9c-72cc848e9021\n",
      "[48462]: [INFO] aiokafka.consumer.group_coordinator: Elected group leader -- performing partition assignments using roundrobin\n",
      "[48462]: [INFO] aiokafka.consumer.group_coordinator: Metadata for topic has changed from {} to {'realitime_data': 1, 'training_data': 1}. \n",
      "[48464]: [INFO] aiokafka.consumer.group_coordinator: Successfully synced group 127.0.0.1:9092_group with generation 1\n",
      "[48464]: [INFO] aiokafka.consumer.group_coordinator: Setting newly assigned partitions {TopicPartition(topic='realitime_data', partition=0)} for group 127.0.0.1:9092_group\n",
      "[48462]: [INFO] aiokafka.consumer.group_coordinator: Successfully synced group 127.0.0.1:9092_group with generation 1\n",
      "[48462]: [INFO] aiokafka.consumer.group_coordinator: Setting newly assigned partitions set() for group 127.0.0.1:9092_group\n",
      "[48462]: [INFO] aiokafka.consumer.group_coordinator: Successfully synced group 127.0.0.1:9092_group with generation 1\n",
      "[48462]: [INFO] aiokafka.consumer.group_coordinator: Setting newly assigned partitions {TopicPartition(topic='training_data', partition=0)} for group 127.0.0.1:9092_group\n",
      "[48464]: [INFO] aiokafka.consumer.group_coordinator: Successfully synced group 127.0.0.1:9092_group with generation 1\n",
      "[48464]: [INFO] aiokafka.consumer.group_coordinator: Setting newly assigned partitions set() for group 127.0.0.1:9092_group\n",
      "Starting process cleanup, this may take a few seconds...\n",
      "[INFO] fastkafka._server: terminate_asyncio_process(): Terminating the process 48462...\n",
      "[INFO] fastkafka._server: terminate_asyncio_process(): Terminating the process 48464...\n",
      "[48464]: [INFO] aiokafka.consumer.group_coordinator: LeaveGroup request succeeded\n",
      "[48462]: [INFO] aiokafka.consumer.group_coordinator: LeaveGroup request succeeded\n",
      "[48464]: [INFO] fastkafka._components.aiokafka_consumer_loop: aiokafka_consumer_loop(): Consumer stopped.\n",
      "[48464]: [INFO] fastkafka._components.aiokafka_consumer_loop: aiokafka_consumer_loop() finished.\n",
      "[48462]: [INFO] fastkafka._components.aiokafka_consumer_loop: aiokafka_consumer_loop(): Consumer stopped.\n",
      "[48462]: [INFO] fastkafka._components.aiokafka_consumer_loop: aiokafka_consumer_loop() finished.\n",
      "[48464]: [INFO] aiokafka.consumer.group_coordinator: LeaveGroup request succeeded\n",
      "[48464]: [INFO] fastkafka._components.aiokafka_consumer_loop: aiokafka_consumer_loop(): Consumer stopped.\n",
      "[48464]: [INFO] fastkafka._components.aiokafka_consumer_loop: aiokafka_consumer_loop() finished.\n",
      "[48462]: [INFO] aiokafka.consumer.group_coordinator: LeaveGroup request succeeded\n",
      "[48462]: [INFO] fastkafka._components.aiokafka_consumer_loop: aiokafka_consumer_loop(): Consumer stopped.\n",
      "[48462]: [INFO] fastkafka._components.aiokafka_consumer_loop: aiokafka_consumer_loop() finished.\n",
      "[INFO] fastkafka._server: terminate_asyncio_process(): Process 48464 terminated.\n",
      "[INFO] fastkafka._server: terminate_asyncio_process(): Process 48462 terminated.\n",
      "\n",
      "[INFO] fastkafka._components._subprocess: terminate_asyncio_process(): Terminating the process 47865...\n"
     ]
    },
    {
     "name": "stdout",
     "output_type": "stream",
     "text": [
      "[INFO] fastkafka._components._subprocess: terminate_asyncio_process(): Process 47865 terminated.\n",
      "[INFO] fastkafka._components._subprocess: terminate_asyncio_process(): Terminating the process 47486...\n",
      "[INFO] fastkafka._components._subprocess: terminate_asyncio_process(): Process 47486 terminated.\n"
     ]
    }
   ],
   "source": [
    "async with LocalKafkaBroker() as bootstrap_server:\n",
    "    host_port = bootstrap_server.split(\":\")\n",
    "    os.environ[\"KAFKA_HOSTNAME\"] = host_port[0]\n",
    "    os.environ[\"KAFKA_PORT\"] = host_port[1]\n",
    "\n",
    "    with generate_app_in_tmp() as app:\n",
    "        proc = await asyncio.create_subprocess_exec(\n",
    "            \"fastkafka\",\n",
    "            \"run\",\n",
    "            \"--num-workers\",\n",
    "            f\"{2}\",\n",
    "            app,\n",
    "            stdout=asyncio.subprocess.PIPE,\n",
    "        )\n",
    "        time.sleep(5)\n",
    "        await terminate_asyncio_process(proc)\n",
    "        outputs, errs = await proc.communicate()\n",
    "\n",
    "        print(outputs.decode(\"utf-8\"))\n",
    "        assert proc.returncode == 0, proc.returncode"
   ]
  },
  {
   "cell_type": "code",
   "execution_count": null,
   "id": "942f780d",
   "metadata": {},
   "outputs": [],
   "source": [
    "# | export\n",
    "\n",
    "\n",
    "_app.add_typer(_cli_docs._docs_app, name=\"docs\")"
   ]
  },
  {
   "cell_type": "code",
   "execution_count": null,
   "id": "5fc53859",
   "metadata": {},
   "outputs": [],
   "source": [
    "# | notest\n",
    "\n",
    "! nbdev_export"
   ]
  },
  {
   "cell_type": "code",
   "execution_count": null,
   "id": "557347c7",
   "metadata": {},
   "outputs": [
    {
     "data": {
      "text/html": [
       "<pre style=\"white-space:pre;overflow-x:auto;line-height:normal;font-family:Menlo,'DejaVu Sans Mono',consolas,'Courier New',monospace\"><span style=\"font-weight: bold\">                                                                                                                   </span>\n",
       "<span style=\"font-weight: bold\"> </span><span style=\"color: #808000; text-decoration-color: #808000; font-weight: bold\">Usage: </span><span style=\"font-weight: bold\">root docs install_deps [OPTIONS]                                                                           </span>\n",
       "<span style=\"font-weight: bold\">                                                                                                                   </span>\n",
       "</pre>\n"
      ],
      "text/plain": [
       "\u001b[1m                                                                                                                   \u001b[0m\n",
       "\u001b[1m \u001b[0m\u001b[1;33mUsage: \u001b[0m\u001b[1mroot docs install_deps [OPTIONS]\u001b[0m\u001b[1m                                                                          \u001b[0m\u001b[1m \u001b[0m\n",
       "\u001b[1m                                                                                                                   \u001b[0m\n"
      ]
     },
     "metadata": {},
     "output_type": "display_data"
    },
    {
     "data": {
      "text/html": [
       "<pre style=\"white-space:pre;overflow-x:auto;line-height:normal;font-family:Menlo,'DejaVu Sans Mono',consolas,'Courier New',monospace\"> Installs dependencies for FastKafka documentation generation                                                      \n",
       "                                                                                                                   \n",
       "</pre>\n"
      ],
      "text/plain": [
       " Installs dependencies for FastKafka documentation generation                                                      \n",
       "                                                                                                                   \n"
      ]
     },
     "metadata": {},
     "output_type": "display_data"
    },
    {
     "data": {
      "text/html": [
       "<pre style=\"white-space:pre;overflow-x:auto;line-height:normal;font-family:Menlo,'DejaVu Sans Mono',consolas,'Courier New',monospace\"><span style=\"color: #7f7f7f; text-decoration-color: #7f7f7f\">╭─ Options ───────────────────────────────────────────────────────────────────────────────────────────────────────╮</span>\n",
       "<span style=\"color: #7f7f7f; text-decoration-color: #7f7f7f\">│</span> <span style=\"color: #008080; text-decoration-color: #008080; font-weight: bold\">--help</span>          Show this message and exit.                                                                     <span style=\"color: #7f7f7f; text-decoration-color: #7f7f7f\">│</span>\n",
       "<span style=\"color: #7f7f7f; text-decoration-color: #7f7f7f\">╰─────────────────────────────────────────────────────────────────────────────────────────────────────────────────╯</span>\n",
       "</pre>\n"
      ],
      "text/plain": [
       "\u001b[2m╭─\u001b[0m\u001b[2m Options \u001b[0m\u001b[2m──────────────────────────────────────────────────────────────────────────────────────────────────────\u001b[0m\u001b[2m─╮\u001b[0m\n",
       "\u001b[2m│\u001b[0m \u001b[1;36m-\u001b[0m\u001b[1;36m-help\u001b[0m          Show this message and exit.                                                                     \u001b[2m│\u001b[0m\n",
       "\u001b[2m╰─────────────────────────────────────────────────────────────────────────────────────────────────────────────────╯\u001b[0m\n"
      ]
     },
     "metadata": {},
     "output_type": "display_data"
    }
   ],
   "source": [
    "result = runner.invoke(_app, [\"docs\", \"install_deps\", \"--help\"])"
   ]
  },
  {
   "cell_type": "code",
   "execution_count": null,
   "id": "7ed5d781",
   "metadata": {},
   "outputs": [
    {
     "name": "stdout",
     "output_type": "stream",
     "text": [
      "[INFO] fastkafka._components.asyncapi: AsyncAPI generator installed\n"
     ]
    }
   ],
   "source": [
    "result = runner.invoke(_app, [\"docs\", \"install_deps\"])\n",
    "assert result.exit_code == 0"
   ]
  },
  {
   "cell_type": "code",
   "execution_count": null,
   "id": "1cc8e68a",
   "metadata": {},
   "outputs": [
    {
     "data": {
      "text/html": [
       "<pre style=\"white-space:pre;overflow-x:auto;line-height:normal;font-family:Menlo,'DejaVu Sans Mono',consolas,'Courier New',monospace\"><span style=\"font-weight: bold\">                                                                                                                   </span>\n",
       "<span style=\"font-weight: bold\"> </span><span style=\"color: #808000; text-decoration-color: #808000; font-weight: bold\">Usage: </span><span style=\"font-weight: bold\">root docs generate [OPTIONS] APP                                                                           </span>\n",
       "<span style=\"font-weight: bold\">                                                                                                                   </span>\n",
       "</pre>\n"
      ],
      "text/plain": [
       "\u001b[1m                                                                                                                   \u001b[0m\n",
       "\u001b[1m \u001b[0m\u001b[1;33mUsage: \u001b[0m\u001b[1mroot docs generate [OPTIONS] APP\u001b[0m\u001b[1m                                                                          \u001b[0m\u001b[1m \u001b[0m\n",
       "\u001b[1m                                                                                                                   \u001b[0m\n"
      ]
     },
     "metadata": {},
     "output_type": "display_data"
    },
    {
     "data": {
      "text/html": [
       "<pre style=\"white-space:pre;overflow-x:auto;line-height:normal;font-family:Menlo,'DejaVu Sans Mono',consolas,'Courier New',monospace\"> Generates documentation for a FastKafka application                                                               \n",
       "                                                                                                                   \n",
       "</pre>\n"
      ],
      "text/plain": [
       " Generates documentation for a FastKafka application                                                               \n",
       "                                                                                                                   \n"
      ]
     },
     "metadata": {},
     "output_type": "display_data"
    },
    {
     "data": {
      "text/html": [
       "<pre style=\"white-space:pre;overflow-x:auto;line-height:normal;font-family:Menlo,'DejaVu Sans Mono',consolas,'Courier New',monospace\"><span style=\"color: #7f7f7f; text-decoration-color: #7f7f7f\">╭─ Arguments ─────────────────────────────────────────────────────────────────────────────────────────────────────╮</span>\n",
       "<span style=\"color: #7f7f7f; text-decoration-color: #7f7f7f\">│</span> <span style=\"color: #800000; text-decoration-color: #800000\">*</span>    app      <span style=\"color: #808000; text-decoration-color: #808000; font-weight: bold\">TEXT</span>  input in the form of 'path:app', where **path** is the path to a python file and **app** is <span style=\"color: #7f7f7f; text-decoration-color: #7f7f7f\">│</span>\n",
       "<span style=\"color: #7f7f7f; text-decoration-color: #7f7f7f\">│</span>                     an object of type **FastKafka**.                                                            <span style=\"color: #7f7f7f; text-decoration-color: #7f7f7f\">│</span>\n",
       "<span style=\"color: #7f7f7f; text-decoration-color: #7f7f7f\">│</span>                     <span style=\"color: #7f7f7f; text-decoration-color: #7f7f7f\">[default: None]                                                                            </span> <span style=\"color: #7f7f7f; text-decoration-color: #7f7f7f\">│</span>\n",
       "<span style=\"color: #7f7f7f; text-decoration-color: #7f7f7f\">│</span>                     <span style=\"color: #bf7f7f; text-decoration-color: #bf7f7f\">[required]                                                                                 </span> <span style=\"color: #7f7f7f; text-decoration-color: #7f7f7f\">│</span>\n",
       "<span style=\"color: #7f7f7f; text-decoration-color: #7f7f7f\">╰─────────────────────────────────────────────────────────────────────────────────────────────────────────────────╯</span>\n",
       "</pre>\n"
      ],
      "text/plain": [
       "\u001b[2m╭─\u001b[0m\u001b[2m Arguments \u001b[0m\u001b[2m────────────────────────────────────────────────────────────────────────────────────────────────────\u001b[0m\u001b[2m─╮\u001b[0m\n",
       "\u001b[2m│\u001b[0m \u001b[31m*\u001b[0m    app      \u001b[1;33mTEXT\u001b[0m  input in the form of 'path:app', where **path** is the path to a python file and **app** is \u001b[2m│\u001b[0m\n",
       "\u001b[2m│\u001b[0m                     an object of type **FastKafka**.                                                            \u001b[2m│\u001b[0m\n",
       "\u001b[2m│\u001b[0m                     \u001b[2m[default: None]                                                                            \u001b[0m \u001b[2m│\u001b[0m\n",
       "\u001b[2m│\u001b[0m                     \u001b[2;31m[required]                                                                                 \u001b[0m \u001b[2m│\u001b[0m\n",
       "\u001b[2m╰─────────────────────────────────────────────────────────────────────────────────────────────────────────────────╯\u001b[0m\n"
      ]
     },
     "metadata": {},
     "output_type": "display_data"
    },
    {
     "data": {
      "text/html": [
       "<pre style=\"white-space:pre;overflow-x:auto;line-height:normal;font-family:Menlo,'DejaVu Sans Mono',consolas,'Courier New',monospace\"><span style=\"color: #7f7f7f; text-decoration-color: #7f7f7f\">╭─ Options ───────────────────────────────────────────────────────────────────────────────────────────────────────╮</span>\n",
       "<span style=\"color: #7f7f7f; text-decoration-color: #7f7f7f\">│</span> <span style=\"color: #008080; text-decoration-color: #008080; font-weight: bold\">--root-path</span>        <span style=\"color: #808000; text-decoration-color: #808000; font-weight: bold\">TEXT</span>  root path under which documentation will be created <span style=\"color: #7f7f7f; text-decoration-color: #7f7f7f\">[default: .]</span>                       <span style=\"color: #7f7f7f; text-decoration-color: #7f7f7f\">│</span>\n",
       "<span style=\"color: #7f7f7f; text-decoration-color: #7f7f7f\">│</span> <span style=\"color: #008080; text-decoration-color: #008080; font-weight: bold\">--help</span>             <span style=\"color: #808000; text-decoration-color: #808000; font-weight: bold\">    </span>  Show this message and exit.                                                            <span style=\"color: #7f7f7f; text-decoration-color: #7f7f7f\">│</span>\n",
       "<span style=\"color: #7f7f7f; text-decoration-color: #7f7f7f\">╰─────────────────────────────────────────────────────────────────────────────────────────────────────────────────╯</span>\n",
       "</pre>\n"
      ],
      "text/plain": [
       "\u001b[2m╭─\u001b[0m\u001b[2m Options \u001b[0m\u001b[2m──────────────────────────────────────────────────────────────────────────────────────────────────────\u001b[0m\u001b[2m─╮\u001b[0m\n",
       "\u001b[2m│\u001b[0m \u001b[1;36m-\u001b[0m\u001b[1;36m-root\u001b[0m\u001b[1;36m-path\u001b[0m        \u001b[1;33mTEXT\u001b[0m  root path under which documentation will be created \u001b[2m[default: .]\u001b[0m                       \u001b[2m│\u001b[0m\n",
       "\u001b[2m│\u001b[0m \u001b[1;36m-\u001b[0m\u001b[1;36m-help\u001b[0m             \u001b[1;33m    \u001b[0m  Show this message and exit.                                                            \u001b[2m│\u001b[0m\n",
       "\u001b[2m╰─────────────────────────────────────────────────────────────────────────────────────────────────────────────────╯\u001b[0m\n"
      ]
     },
     "metadata": {},
     "output_type": "display_data"
    }
   ],
   "source": [
    "result = runner.invoke(_app, [\"docs\", \"generate\", \"--help\"])"
   ]
  },
  {
   "cell_type": "code",
   "execution_count": null,
   "id": "4a759342",
   "metadata": {},
   "outputs": [
    {
     "name": "stdout",
     "output_type": "stream",
     "text": [
      "[INFO] fastkafka._components.asyncapi: Old async specifications at '/tmp/tmpg2d20yjl/asyncapi/spec/asyncapi.yml' does not exist.\n",
      "[INFO] fastkafka._components.asyncapi: New async specifications generated at: '/tmp/tmpg2d20yjl/asyncapi/spec/asyncapi.yml'\n",
      "[INFO] fastkafka._components.asyncapi: Async docs generated at 'asyncapi/docs'\n",
      "[INFO] fastkafka._components.asyncapi: Output of '$ npx -y -p @asyncapi/generator ag asyncapi/spec/asyncapi.yml @asyncapi/html-template -o asyncapi/docs --force-write'\u001b[32m\n",
      "\n",
      "Done! ✨\u001b[0m\n",
      "\u001b[33mCheck out your shiny new generated files at \u001b[0m\u001b[35m/tmp/tmpg2d20yjl/asyncapi/docs\u001b[0m\u001b[33m.\u001b[0m\n",
      "\n",
      "\n",
      "\n",
      "\n"
     ]
    }
   ],
   "source": [
    "with generate_app_in_tmp() as import_str:\n",
    "    result = runner.invoke(_app, [\"docs\", \"generate\", import_str])\n",
    "    typer.echo(result.output)\n",
    "    assert result.exit_code == 0\n",
    "\n",
    "    result = runner.invoke(_app, [\"docs\", \"generate\", import_str])\n",
    "    typer.echo(result.output)\n",
    "    assert result.exit_code == 0"
   ]
  },
  {
   "cell_type": "code",
   "execution_count": null,
   "id": "e81b95fe",
   "metadata": {},
   "outputs": [
    {
     "data": {
      "text/html": [
       "<pre style=\"white-space:pre;overflow-x:auto;line-height:normal;font-family:Menlo,'DejaVu Sans Mono',consolas,'Courier New',monospace\"><span style=\"font-weight: bold\">                                                                                                                   </span>\n",
       "<span style=\"font-weight: bold\"> </span><span style=\"color: #808000; text-decoration-color: #808000; font-weight: bold\">Usage: </span><span style=\"font-weight: bold\">root docs serve [OPTIONS] APP                                                                              </span>\n",
       "<span style=\"font-weight: bold\">                                                                                                                   </span>\n",
       "</pre>\n"
      ],
      "text/plain": [
       "\u001b[1m                                                                                                                   \u001b[0m\n",
       "\u001b[1m \u001b[0m\u001b[1;33mUsage: \u001b[0m\u001b[1mroot docs serve [OPTIONS] APP\u001b[0m\u001b[1m                                                                             \u001b[0m\u001b[1m \u001b[0m\n",
       "\u001b[1m                                                                                                                   \u001b[0m\n"
      ]
     },
     "metadata": {},
     "output_type": "display_data"
    },
    {
     "data": {
      "text/html": [
       "<pre style=\"white-space:pre;overflow-x:auto;line-height:normal;font-family:Menlo,'DejaVu Sans Mono',consolas,'Courier New',monospace\"> Generates and serves documentation for a FastKafka application                                                    \n",
       "                                                                                                                   \n",
       "</pre>\n"
      ],
      "text/plain": [
       " Generates and serves documentation for a FastKafka application                                                    \n",
       "                                                                                                                   \n"
      ]
     },
     "metadata": {},
     "output_type": "display_data"
    },
    {
     "data": {
      "text/html": [
       "<pre style=\"white-space:pre;overflow-x:auto;line-height:normal;font-family:Menlo,'DejaVu Sans Mono',consolas,'Courier New',monospace\"><span style=\"color: #7f7f7f; text-decoration-color: #7f7f7f\">╭─ Arguments ─────────────────────────────────────────────────────────────────────────────────────────────────────╮</span>\n",
       "<span style=\"color: #7f7f7f; text-decoration-color: #7f7f7f\">│</span> <span style=\"color: #800000; text-decoration-color: #800000\">*</span>    app      <span style=\"color: #808000; text-decoration-color: #808000; font-weight: bold\">TEXT</span>  input in the form of 'path:app', where **path** is the path to a python file and **app** is <span style=\"color: #7f7f7f; text-decoration-color: #7f7f7f\">│</span>\n",
       "<span style=\"color: #7f7f7f; text-decoration-color: #7f7f7f\">│</span>                     an object of type **FastKafka**.                                                            <span style=\"color: #7f7f7f; text-decoration-color: #7f7f7f\">│</span>\n",
       "<span style=\"color: #7f7f7f; text-decoration-color: #7f7f7f\">│</span>                     <span style=\"color: #7f7f7f; text-decoration-color: #7f7f7f\">[default: None]                                                                            </span> <span style=\"color: #7f7f7f; text-decoration-color: #7f7f7f\">│</span>\n",
       "<span style=\"color: #7f7f7f; text-decoration-color: #7f7f7f\">│</span>                     <span style=\"color: #bf7f7f; text-decoration-color: #bf7f7f\">[required]                                                                                 </span> <span style=\"color: #7f7f7f; text-decoration-color: #7f7f7f\">│</span>\n",
       "<span style=\"color: #7f7f7f; text-decoration-color: #7f7f7f\">╰─────────────────────────────────────────────────────────────────────────────────────────────────────────────────╯</span>\n",
       "</pre>\n"
      ],
      "text/plain": [
       "\u001b[2m╭─\u001b[0m\u001b[2m Arguments \u001b[0m\u001b[2m────────────────────────────────────────────────────────────────────────────────────────────────────\u001b[0m\u001b[2m─╮\u001b[0m\n",
       "\u001b[2m│\u001b[0m \u001b[31m*\u001b[0m    app      \u001b[1;33mTEXT\u001b[0m  input in the form of 'path:app', where **path** is the path to a python file and **app** is \u001b[2m│\u001b[0m\n",
       "\u001b[2m│\u001b[0m                     an object of type **FastKafka**.                                                            \u001b[2m│\u001b[0m\n",
       "\u001b[2m│\u001b[0m                     \u001b[2m[default: None]                                                                            \u001b[0m \u001b[2m│\u001b[0m\n",
       "\u001b[2m│\u001b[0m                     \u001b[2;31m[required]                                                                                 \u001b[0m \u001b[2m│\u001b[0m\n",
       "\u001b[2m╰─────────────────────────────────────────────────────────────────────────────────────────────────────────────────╯\u001b[0m\n"
      ]
     },
     "metadata": {},
     "output_type": "display_data"
    },
    {
     "data": {
      "text/html": [
       "<pre style=\"white-space:pre;overflow-x:auto;line-height:normal;font-family:Menlo,'DejaVu Sans Mono',consolas,'Courier New',monospace\"><span style=\"color: #7f7f7f; text-decoration-color: #7f7f7f\">╭─ Options ───────────────────────────────────────────────────────────────────────────────────────────────────────╮</span>\n",
       "<span style=\"color: #7f7f7f; text-decoration-color: #7f7f7f\">│</span> <span style=\"color: #008080; text-decoration-color: #008080; font-weight: bold\">--root-path</span>        <span style=\"color: #808000; text-decoration-color: #808000; font-weight: bold\">TEXT   </span>  root path under which documentation will be created <span style=\"color: #7f7f7f; text-decoration-color: #7f7f7f\">[default: .]</span>                    <span style=\"color: #7f7f7f; text-decoration-color: #7f7f7f\">│</span>\n",
       "<span style=\"color: #7f7f7f; text-decoration-color: #7f7f7f\">│</span> <span style=\"color: #008080; text-decoration-color: #008080; font-weight: bold\">--bind</span>             <span style=\"color: #808000; text-decoration-color: #808000; font-weight: bold\">TEXT   </span>  Some info <span style=\"color: #7f7f7f; text-decoration-color: #7f7f7f\">[default: 127.0.0.1]</span>                                                      <span style=\"color: #7f7f7f; text-decoration-color: #7f7f7f\">│</span>\n",
       "<span style=\"color: #7f7f7f; text-decoration-color: #7f7f7f\">│</span> <span style=\"color: #008080; text-decoration-color: #008080; font-weight: bold\">--port</span>             <span style=\"color: #808000; text-decoration-color: #808000; font-weight: bold\">INTEGER</span>  Some info <span style=\"color: #7f7f7f; text-decoration-color: #7f7f7f\">[default: 8000]</span>                                                           <span style=\"color: #7f7f7f; text-decoration-color: #7f7f7f\">│</span>\n",
       "<span style=\"color: #7f7f7f; text-decoration-color: #7f7f7f\">│</span> <span style=\"color: #008080; text-decoration-color: #008080; font-weight: bold\">--help</span>             <span style=\"color: #808000; text-decoration-color: #808000; font-weight: bold\">       </span>  Show this message and exit.                                                         <span style=\"color: #7f7f7f; text-decoration-color: #7f7f7f\">│</span>\n",
       "<span style=\"color: #7f7f7f; text-decoration-color: #7f7f7f\">╰─────────────────────────────────────────────────────────────────────────────────────────────────────────────────╯</span>\n",
       "</pre>\n"
      ],
      "text/plain": [
       "\u001b[2m╭─\u001b[0m\u001b[2m Options \u001b[0m\u001b[2m──────────────────────────────────────────────────────────────────────────────────────────────────────\u001b[0m\u001b[2m─╮\u001b[0m\n",
       "\u001b[2m│\u001b[0m \u001b[1;36m-\u001b[0m\u001b[1;36m-root\u001b[0m\u001b[1;36m-path\u001b[0m        \u001b[1;33mTEXT   \u001b[0m  root path under which documentation will be created \u001b[2m[default: .]\u001b[0m                    \u001b[2m│\u001b[0m\n",
       "\u001b[2m│\u001b[0m \u001b[1;36m-\u001b[0m\u001b[1;36m-bind\u001b[0m             \u001b[1;33mTEXT   \u001b[0m  Some info \u001b[2m[default: 127.0.0.1]\u001b[0m                                                      \u001b[2m│\u001b[0m\n",
       "\u001b[2m│\u001b[0m \u001b[1;36m-\u001b[0m\u001b[1;36m-port\u001b[0m             \u001b[1;33mINTEGER\u001b[0m  Some info \u001b[2m[default: 8000]\u001b[0m                                                           \u001b[2m│\u001b[0m\n",
       "\u001b[2m│\u001b[0m \u001b[1;36m-\u001b[0m\u001b[1;36m-help\u001b[0m             \u001b[1;33m       \u001b[0m  Show this message and exit.                                                         \u001b[2m│\u001b[0m\n",
       "\u001b[2m╰─────────────────────────────────────────────────────────────────────────────────────────────────────────────────╯\u001b[0m\n"
      ]
     },
     "metadata": {},
     "output_type": "display_data"
    }
   ],
   "source": [
    "result = runner.invoke(_app, [\"docs\", \"serve\", \"--help\"])"
   ]
  },
  {
   "cell_type": "code",
   "execution_count": null,
   "id": "d2a20790",
   "metadata": {},
   "outputs": [
    {
     "name": "stdout",
     "output_type": "stream",
     "text": [
      "[INFO] fastkafka._components.asyncapi: Old async specifications at '/tmp/tmpuk3k0f8o/asyncapi/spec/asyncapi.yml' does not exist.\n",
      "[INFO] fastkafka._components.asyncapi: New async specifications generated at: '/tmp/tmpuk3k0f8o/asyncapi/spec/asyncapi.yml'\n",
      "[INFO] fastkafka._components.asyncapi: Async docs generated at 'asyncapi/docs'\n",
      "[INFO] fastkafka._components.asyncapi: Output of '$ npx -y -p @asyncapi/generator ag asyncapi/spec/asyncapi.yml @asyncapi/html-template -o asyncapi/docs --force-write'\u001b[32m\n",
      "\n",
      "Done! ✨\u001b[0m\n",
      "\u001b[33mCheck out your shiny new generated files at \u001b[0m\u001b[35m/tmp/tmpuk3k0f8o/asyncapi/docs\u001b[0m\u001b[33m.\u001b[0m\n",
      "\n",
      "\n",
      "Serving documentation on http://127.0.0.1:48000\n",
      "Interupting serving of documentation and cleaning up...\n",
      "\n"
     ]
    }
   ],
   "source": [
    "with generate_app_in_tmp() as app:\n",
    "    proc = await asyncio.create_subprocess_exec(\n",
    "        \"fastkafka\",\n",
    "        \"docs\",\n",
    "        \"serve\",\n",
    "        \"--port=48000\",\n",
    "        app,\n",
    "        stdout=asyncio.subprocess.PIPE,\n",
    "    )\n",
    "    time.sleep(30)\n",
    "    await terminate_asyncio_process(proc)\n",
    "    outputs, errs = await proc.communicate()\n",
    "    assert proc.returncode == 0, proc.returncode\n",
    "    print(outputs.decode(\"utf-8\"))"
   ]
  },
  {
   "cell_type": "code",
   "execution_count": null,
   "id": "9f1ec310",
   "metadata": {},
   "outputs": [],
   "source": [
    "# | export\n",
    "\n",
    "\n",
    "_app.add_typer(_cli_testing._testing_app, name=\"testing\")"
   ]
  },
  {
   "cell_type": "code",
   "execution_count": null,
   "id": "447b94f1",
   "metadata": {},
   "outputs": [
    {
     "data": {
      "text/html": [
       "<pre style=\"white-space:pre;overflow-x:auto;line-height:normal;font-family:Menlo,'DejaVu Sans Mono',consolas,'Courier New',monospace\"><span style=\"font-weight: bold\">                                                                                                                   </span>\n",
       "<span style=\"font-weight: bold\"> </span><span style=\"color: #808000; text-decoration-color: #808000; font-weight: bold\">Usage: </span><span style=\"font-weight: bold\">root testing install_deps [OPTIONS]                                                                        </span>\n",
       "<span style=\"font-weight: bold\">                                                                                                                   </span>\n",
       "</pre>\n"
      ],
      "text/plain": [
       "\u001b[1m                                                                                                                   \u001b[0m\n",
       "\u001b[1m \u001b[0m\u001b[1;33mUsage: \u001b[0m\u001b[1mroot testing install_deps [OPTIONS]\u001b[0m\u001b[1m                                                                       \u001b[0m\u001b[1m \u001b[0m\n",
       "\u001b[1m                                                                                                                   \u001b[0m\n"
      ]
     },
     "metadata": {},
     "output_type": "display_data"
    },
    {
     "data": {
      "text/html": [
       "<pre style=\"white-space:pre;overflow-x:auto;line-height:normal;font-family:Menlo,'DejaVu Sans Mono',consolas,'Courier New',monospace\"> Installs dependencies for FastKafka app testing                                                                   \n",
       "                                                                                                                   \n",
       "</pre>\n"
      ],
      "text/plain": [
       " Installs dependencies for FastKafka app testing                                                                   \n",
       "                                                                                                                   \n"
      ]
     },
     "metadata": {},
     "output_type": "display_data"
    },
    {
     "data": {
      "text/html": [
       "<pre style=\"white-space:pre;overflow-x:auto;line-height:normal;font-family:Menlo,'DejaVu Sans Mono',consolas,'Courier New',monospace\"><span style=\"color: #7f7f7f; text-decoration-color: #7f7f7f\">╭─ Options ───────────────────────────────────────────────────────────────────────────────────────────────────────╮</span>\n",
       "<span style=\"color: #7f7f7f; text-decoration-color: #7f7f7f\">│</span> <span style=\"color: #008080; text-decoration-color: #008080; font-weight: bold\">--help</span>          Show this message and exit.                                                                     <span style=\"color: #7f7f7f; text-decoration-color: #7f7f7f\">│</span>\n",
       "<span style=\"color: #7f7f7f; text-decoration-color: #7f7f7f\">╰─────────────────────────────────────────────────────────────────────────────────────────────────────────────────╯</span>\n",
       "</pre>\n"
      ],
      "text/plain": [
       "\u001b[2m╭─\u001b[0m\u001b[2m Options \u001b[0m\u001b[2m──────────────────────────────────────────────────────────────────────────────────────────────────────\u001b[0m\u001b[2m─╮\u001b[0m\n",
       "\u001b[2m│\u001b[0m \u001b[1;36m-\u001b[0m\u001b[1;36m-help\u001b[0m          Show this message and exit.                                                                     \u001b[2m│\u001b[0m\n",
       "\u001b[2m╰─────────────────────────────────────────────────────────────────────────────────────────────────────────────────╯\u001b[0m\n"
      ]
     },
     "metadata": {},
     "output_type": "display_data"
    }
   ],
   "source": [
    "result = runner.invoke(_app, [\"testing\", \"install_deps\", \"--help\"])"
   ]
  },
  {
   "cell_type": "code",
   "execution_count": null,
   "id": "a5a0b955",
   "metadata": {},
   "outputs": [],
   "source": [
    "result = runner.invoke(_app, [\"testing\", \"install_deps\"])\n",
    "assert result.exit_code == 0"
   ]
  },
  {
   "cell_type": "code",
   "execution_count": null,
   "id": "ae410d46",
   "metadata": {},
   "outputs": [],
   "source": []
  },
  {
   "cell_type": "code",
   "execution_count": null,
   "id": "b3b1387e",
   "metadata": {},
   "outputs": [],
   "source": []
  }
 ],
 "metadata": {
  "kernelspec": {
   "display_name": "python3",
   "language": "python",
   "name": "python3"
  }
 },
 "nbformat": 4,
 "nbformat_minor": 5
}

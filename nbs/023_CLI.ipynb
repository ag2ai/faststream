{
 "cells": [
  {
   "cell_type": "code",
   "execution_count": null,
   "id": "a520a022",
   "metadata": {},
   "outputs": [],
   "source": [
    "# | default_exp _cli"
   ]
  },
  {
   "cell_type": "code",
   "execution_count": null,
   "id": "3f5a4483",
   "metadata": {},
   "outputs": [],
   "source": [
    "# | export\n",
    "\n",
    "import asyncio\n",
    "import multiprocessing\n",
    "from typing import *\n",
    "\n",
    "import typer\n",
    "\n",
    "from fastkafka._components.logger import get_logger, supress_timestamps\n",
    "\n",
    "from fastkafka import _cli_docs, _cli_testing\n",
    "from fastkafka._server import run_fastkafka_server"
   ]
  },
  {
   "cell_type": "code",
   "execution_count": null,
   "id": "347594e0",
   "metadata": {},
   "outputs": [],
   "source": [
    "import os\n",
    "import time\n",
    "\n",
    "from typer.testing import CliRunner\n",
    "\n",
    "from fastkafka._components.test_dependencies import generate_app_in_tmp\n",
    "from fastkafka._server import terminate_asyncio_process\n",
    "from fastkafka.testing import ApacheKafkaBroker"
   ]
  },
  {
   "cell_type": "code",
   "execution_count": null,
   "id": "6babc3b9",
   "metadata": {},
   "outputs": [],
   "source": [
    "# | notest\n",
    "\n",
    "# allows async calls in notebooks\n",
    "\n",
    "import nest_asyncio"
   ]
  },
  {
   "cell_type": "code",
   "execution_count": null,
   "id": "44a4e2d5",
   "metadata": {},
   "outputs": [],
   "source": [
    "# | notest\n",
    "\n",
    "nest_asyncio.apply()"
   ]
  },
  {
   "cell_type": "code",
   "execution_count": null,
   "id": "ae202a18",
   "metadata": {},
   "outputs": [],
   "source": [
    "# | export\n",
    "\n",
    "supress_timestamps(False)\n",
    "logger = get_logger(__name__, level=20)"
   ]
  },
  {
   "cell_type": "code",
   "execution_count": null,
   "id": "a5ec0fba",
   "metadata": {},
   "outputs": [
    {
     "name": "stdout",
     "output_type": "stream",
     "text": [
      "23-05-12 13:17:25.806 [INFO] __main__: ok\n"
     ]
    }
   ],
   "source": [
    "# supress_timestamps()\n",
    "# logger = get_logger(__name__, level=20)\n",
    "logger.info(\"ok\")"
   ]
  },
  {
   "cell_type": "code",
   "execution_count": null,
   "id": "a2bfc60c",
   "metadata": {},
   "outputs": [],
   "source": [
    "runner = CliRunner()"
   ]
  },
  {
   "cell_type": "code",
   "execution_count": null,
   "id": "bf57b082",
   "metadata": {},
   "outputs": [],
   "source": [
    "# | export\n",
    "\n",
    "_app = typer.Typer(help=\"\")"
   ]
  },
  {
   "cell_type": "code",
   "execution_count": null,
   "id": "b4830f45",
   "metadata": {},
   "outputs": [],
   "source": [
    "# | export\n",
    "\n",
    "\n",
    "@_app.command(\n",
    "    help=\"Runs Fast Kafka API application\",\n",
    ")\n",
    "def run(\n",
    "    num_workers: int = typer.Option(\n",
    "        multiprocessing.cpu_count(),\n",
    "        help=\"Number of FastKafka instances to run, defaults to number of CPU cores.\",\n",
    "    ),\n",
    "    app: str = typer.Argument(\n",
    "        ...,\n",
    "        help=\"input in the form of 'path:app', where **path** is the path to a python file and **app** is an object of type **FastKafka**.\",\n",
    "    ),\n",
    "    kafka_broker: str = typer.Option(\n",
    "        ...,\n",
    "        help=\"kafka_broker, one of the keys of the kafka_brokers dictionary passed in the constructor of FastaKafka class.\",\n",
    "    ),\n",
    ") -> None:\n",
    "    try:\n",
    "        asyncio.run(\n",
    "            run_fastkafka_server(\n",
    "                num_workers=num_workers, app=app, kafka_broker=kafka_broker\n",
    "            )\n",
    "        )\n",
    "    except Exception as e:\n",
    "        typer.secho(f\"Unexpected internal error: {e}\", err=True, fg=typer.colors.RED)\n",
    "        raise typer.Exit(1)"
   ]
  },
  {
   "cell_type": "code",
   "execution_count": null,
   "id": "e3328d21",
   "metadata": {},
   "outputs": [],
   "source": [
    "# | notest\n",
    "\n",
    "! nbdev_export"
   ]
  },
  {
   "cell_type": "code",
   "execution_count": null,
   "id": "f47cd927",
   "metadata": {},
   "outputs": [
    {
     "data": {
      "text/html": [
       "<pre style=\"white-space:pre;overflow-x:auto;line-height:normal;font-family:Menlo,'DejaVu Sans Mono',consolas,'Courier New',monospace\"><span style=\"font-weight: bold\">                                                                                                                   </span>\n",
       "<span style=\"font-weight: bold\"> </span><span style=\"color: #808000; text-decoration-color: #808000; font-weight: bold\">Usage: </span><span style=\"font-weight: bold\">run [OPTIONS] APP                                                                                          </span>\n",
       "<span style=\"font-weight: bold\">                                                                                                                   </span>\n",
       "</pre>\n"
      ],
      "text/plain": [
       "\u001b[1m                                                                                                                   \u001b[0m\n",
       "\u001b[1m \u001b[0m\u001b[1;33mUsage: \u001b[0m\u001b[1mrun [OPTIONS] APP\u001b[0m\u001b[1m                                                                                         \u001b[0m\u001b[1m \u001b[0m\n",
       "\u001b[1m                                                                                                                   \u001b[0m\n"
      ]
     },
     "metadata": {},
     "output_type": "display_data"
    },
    {
     "data": {
      "text/html": [
       "<pre style=\"white-space:pre;overflow-x:auto;line-height:normal;font-family:Menlo,'DejaVu Sans Mono',consolas,'Courier New',monospace\"> Runs Fast Kafka API application                                                                                   \n",
       "                                                                                                                   \n",
       "</pre>\n"
      ],
      "text/plain": [
       " Runs Fast Kafka API application                                                                                   \n",
       "                                                                                                                   \n"
      ]
     },
     "metadata": {},
     "output_type": "display_data"
    },
    {
     "data": {
      "text/html": [
       "<pre style=\"white-space:pre;overflow-x:auto;line-height:normal;font-family:Menlo,'DejaVu Sans Mono',consolas,'Courier New',monospace\"><span style=\"color: #7f7f7f; text-decoration-color: #7f7f7f\">╭─ Arguments ─────────────────────────────────────────────────────────────────────────────────────────────────────╮</span>\n",
       "<span style=\"color: #7f7f7f; text-decoration-color: #7f7f7f\">│</span> <span style=\"color: #800000; text-decoration-color: #800000\">*</span>    app      <span style=\"color: #808000; text-decoration-color: #808000; font-weight: bold\">TEXT</span>  input in the form of 'path:app', where **path** is the path to a python file and **app** is <span style=\"color: #7f7f7f; text-decoration-color: #7f7f7f\">│</span>\n",
       "<span style=\"color: #7f7f7f; text-decoration-color: #7f7f7f\">│</span>                     an object of type **FastKafka**.                                                            <span style=\"color: #7f7f7f; text-decoration-color: #7f7f7f\">│</span>\n",
       "<span style=\"color: #7f7f7f; text-decoration-color: #7f7f7f\">│</span>                     <span style=\"color: #7f7f7f; text-decoration-color: #7f7f7f\">[default: None]                                                                            </span> <span style=\"color: #7f7f7f; text-decoration-color: #7f7f7f\">│</span>\n",
       "<span style=\"color: #7f7f7f; text-decoration-color: #7f7f7f\">│</span>                     <span style=\"color: #bf7f7f; text-decoration-color: #bf7f7f\">[required]                                                                                 </span> <span style=\"color: #7f7f7f; text-decoration-color: #7f7f7f\">│</span>\n",
       "<span style=\"color: #7f7f7f; text-decoration-color: #7f7f7f\">╰─────────────────────────────────────────────────────────────────────────────────────────────────────────────────╯</span>\n",
       "</pre>\n"
      ],
      "text/plain": [
       "\u001b[2m╭─\u001b[0m\u001b[2m Arguments \u001b[0m\u001b[2m────────────────────────────────────────────────────────────────────────────────────────────────────\u001b[0m\u001b[2m─╮\u001b[0m\n",
       "\u001b[2m│\u001b[0m \u001b[31m*\u001b[0m    app      \u001b[1;33mTEXT\u001b[0m  input in the form of 'path:app', where **path** is the path to a python file and **app** is \u001b[2m│\u001b[0m\n",
       "\u001b[2m│\u001b[0m                     an object of type **FastKafka**.                                                            \u001b[2m│\u001b[0m\n",
       "\u001b[2m│\u001b[0m                     \u001b[2m[default: None]                                                                            \u001b[0m \u001b[2m│\u001b[0m\n",
       "\u001b[2m│\u001b[0m                     \u001b[2;31m[required]                                                                                 \u001b[0m \u001b[2m│\u001b[0m\n",
       "\u001b[2m╰─────────────────────────────────────────────────────────────────────────────────────────────────────────────────╯\u001b[0m\n"
      ]
     },
     "metadata": {},
     "output_type": "display_data"
    },
    {
     "data": {
      "text/html": [
       "<pre style=\"white-space:pre;overflow-x:auto;line-height:normal;font-family:Menlo,'DejaVu Sans Mono',consolas,'Courier New',monospace\"><span style=\"color: #7f7f7f; text-decoration-color: #7f7f7f\">╭─ Options ───────────────────────────────────────────────────────────────────────────────────────────────────────╮</span>\n",
       "<span style=\"color: #7f7f7f; text-decoration-color: #7f7f7f\">│</span>    <span style=\"color: #008080; text-decoration-color: #008080; font-weight: bold\">--num-workers</span>               <span style=\"color: #808000; text-decoration-color: #808000; font-weight: bold\">INTEGER</span>  Number of FastKafka instances to run, defaults to number of CPU cores.  <span style=\"color: #7f7f7f; text-decoration-color: #7f7f7f\">│</span>\n",
       "<span style=\"color: #7f7f7f; text-decoration-color: #7f7f7f\">│</span>                                         <span style=\"color: #7f7f7f; text-decoration-color: #7f7f7f\">[default: 64]                                                         </span>  <span style=\"color: #7f7f7f; text-decoration-color: #7f7f7f\">│</span>\n",
       "<span style=\"color: #7f7f7f; text-decoration-color: #7f7f7f\">│</span> <span style=\"color: #800000; text-decoration-color: #800000\">*</span>  <span style=\"color: #008080; text-decoration-color: #008080; font-weight: bold\">--kafka-broker</span>              <span style=\"color: #808000; text-decoration-color: #808000; font-weight: bold\">TEXT   </span>  kafka_broker, one of the keys of the kafka_brokers dictionary passed in <span style=\"color: #7f7f7f; text-decoration-color: #7f7f7f\">│</span>\n",
       "<span style=\"color: #7f7f7f; text-decoration-color: #7f7f7f\">│</span>                                         the constructor of FastaKafka class.                                    <span style=\"color: #7f7f7f; text-decoration-color: #7f7f7f\">│</span>\n",
       "<span style=\"color: #7f7f7f; text-decoration-color: #7f7f7f\">│</span>                                         <span style=\"color: #7f7f7f; text-decoration-color: #7f7f7f\">[default: None]                                                        </span> <span style=\"color: #7f7f7f; text-decoration-color: #7f7f7f\">│</span>\n",
       "<span style=\"color: #7f7f7f; text-decoration-color: #7f7f7f\">│</span>                                         <span style=\"color: #bf7f7f; text-decoration-color: #bf7f7f\">[required]                                                             </span> <span style=\"color: #7f7f7f; text-decoration-color: #7f7f7f\">│</span>\n",
       "<span style=\"color: #7f7f7f; text-decoration-color: #7f7f7f\">│</span>    <span style=\"color: #008080; text-decoration-color: #008080; font-weight: bold\">--install-completion</span>        <span style=\"color: #808000; text-decoration-color: #808000; font-weight: bold\">       </span>  Install completion for the current shell.                               <span style=\"color: #7f7f7f; text-decoration-color: #7f7f7f\">│</span>\n",
       "<span style=\"color: #7f7f7f; text-decoration-color: #7f7f7f\">│</span>    <span style=\"color: #008080; text-decoration-color: #008080; font-weight: bold\">--show-completion</span>           <span style=\"color: #808000; text-decoration-color: #808000; font-weight: bold\">       </span>  Show completion for the current shell, to copy it or customize the      <span style=\"color: #7f7f7f; text-decoration-color: #7f7f7f\">│</span>\n",
       "<span style=\"color: #7f7f7f; text-decoration-color: #7f7f7f\">│</span>                                         installation.                                                           <span style=\"color: #7f7f7f; text-decoration-color: #7f7f7f\">│</span>\n",
       "<span style=\"color: #7f7f7f; text-decoration-color: #7f7f7f\">│</span>    <span style=\"color: #008080; text-decoration-color: #008080; font-weight: bold\">--help</span>                      <span style=\"color: #808000; text-decoration-color: #808000; font-weight: bold\">       </span>  Show this message and exit.                                             <span style=\"color: #7f7f7f; text-decoration-color: #7f7f7f\">│</span>\n",
       "<span style=\"color: #7f7f7f; text-decoration-color: #7f7f7f\">╰─────────────────────────────────────────────────────────────────────────────────────────────────────────────────╯</span>\n",
       "</pre>\n"
      ],
      "text/plain": [
       "\u001b[2m╭─\u001b[0m\u001b[2m Options \u001b[0m\u001b[2m──────────────────────────────────────────────────────────────────────────────────────────────────────\u001b[0m\u001b[2m─╮\u001b[0m\n",
       "\u001b[2m│\u001b[0m    \u001b[1;36m-\u001b[0m\u001b[1;36m-num\u001b[0m\u001b[1;36m-workers\u001b[0m               \u001b[1;33mINTEGER\u001b[0m  Number of FastKafka instances to run, defaults to number of CPU cores.  \u001b[2m│\u001b[0m\n",
       "\u001b[2m│\u001b[0m                                         \u001b[2m[default: 64]                                                         \u001b[0m  \u001b[2m│\u001b[0m\n",
       "\u001b[2m│\u001b[0m \u001b[31m*\u001b[0m  \u001b[1;36m-\u001b[0m\u001b[1;36m-kafka\u001b[0m\u001b[1;36m-broker\u001b[0m              \u001b[1;33mTEXT   \u001b[0m  kafka_broker, one of the keys of the kafka_brokers dictionary passed in \u001b[2m│\u001b[0m\n",
       "\u001b[2m│\u001b[0m                                         the constructor of FastaKafka class.                                    \u001b[2m│\u001b[0m\n",
       "\u001b[2m│\u001b[0m                                         \u001b[2m[default: None]                                                        \u001b[0m \u001b[2m│\u001b[0m\n",
       "\u001b[2m│\u001b[0m                                         \u001b[2;31m[required]                                                             \u001b[0m \u001b[2m│\u001b[0m\n",
       "\u001b[2m│\u001b[0m    \u001b[1;36m-\u001b[0m\u001b[1;36m-install\u001b[0m\u001b[1;36m-completion\u001b[0m        \u001b[1;33m       \u001b[0m  Install completion for the current shell.                               \u001b[2m│\u001b[0m\n",
       "\u001b[2m│\u001b[0m    \u001b[1;36m-\u001b[0m\u001b[1;36m-show\u001b[0m\u001b[1;36m-completion\u001b[0m           \u001b[1;33m       \u001b[0m  Show completion for the current shell, to copy it or customize the      \u001b[2m│\u001b[0m\n",
       "\u001b[2m│\u001b[0m                                         installation.                                                           \u001b[2m│\u001b[0m\n",
       "\u001b[2m│\u001b[0m    \u001b[1;36m-\u001b[0m\u001b[1;36m-help\u001b[0m                      \u001b[1;33m       \u001b[0m  Show this message and exit.                                             \u001b[2m│\u001b[0m\n",
       "\u001b[2m╰─────────────────────────────────────────────────────────────────────────────────────────────────────────────────╯\u001b[0m\n"
      ]
     },
     "metadata": {},
     "output_type": "display_data"
    }
   ],
   "source": [
    "result = runner.invoke(_app, [\"run\", \"--help\"])"
   ]
  },
  {
   "cell_type": "code",
   "execution_count": null,
   "id": "46a27557",
   "metadata": {},
   "outputs": [
    {
     "name": "stdout",
     "output_type": "stream",
     "text": [
      "23-05-12 13:17:39.956 [INFO] fastkafka._components.test_dependencies: Java is already installed.\n",
      "23-05-12 13:17:39.957 [INFO] fastkafka._components.test_dependencies: But not exported to PATH, exporting...\n",
      "23-05-12 13:17:39.957 [INFO] fastkafka._components.test_dependencies: Kafka is installed.\n",
      "23-05-12 13:17:39.958 [INFO] fastkafka._components.test_dependencies: But not exported to PATH, exporting...\n",
      "23-05-12 13:17:39.959 [INFO] fastkafka._testing.apache_kafka_broker: Starting zookeeper...\n",
      "23-05-12 13:17:40.682 [INFO] fastkafka._testing.apache_kafka_broker: Starting kafka...\n",
      "23-05-12 13:17:42.536 [INFO] fastkafka._testing.apache_kafka_broker: Local Kafka broker up and running on 127.0.0.1:9092\n",
      "23-05-12 13:17:47.940 [INFO] fastkafka._server: terminate_asyncio_process(): Terminating the process 7570...\n",
      "23-05-12 13:17:50.251 [INFO] fastkafka._server: terminate_asyncio_process(): Process 7570 terminated.\n",
      "[7574]: 23-05-12 13:17:43.797 [INFO] fastkafka._application.app: set_kafka_broker() : Setting bootstrap_servers value to '127.0.0.1:9092'\n",
      "[7574]: 23-05-12 13:17:43.797 [INFO] fastkafka._application.app: _create_producer() : created producer using the config: '{'bootstrap_servers': '127.0.0.1:9092'}'\n",
      "[7572]: 23-05-12 13:17:43.798 [INFO] fastkafka._application.app: set_kafka_broker() : Setting bootstrap_servers value to '127.0.0.1:9092'\n",
      "[7572]: 23-05-12 13:17:43.798 [INFO] fastkafka._application.app: _create_producer() : created producer using the config: '{'bootstrap_servers': '127.0.0.1:9092'}'\n",
      "[7574]: 23-05-12 13:17:43.829 [INFO] fastkafka._application.app: _create_producer() : created producer using the config: '{'bootstrap_servers': '127.0.0.1:9092'}'\n",
      "[7572]: 23-05-12 13:17:43.829 [INFO] fastkafka._application.app: _create_producer() : created producer using the config: '{'bootstrap_servers': '127.0.0.1:9092'}'\n",
      "[7572]: 23-05-12 13:17:43.835 [INFO] fastkafka._application.app: _create_producer() : created producer using the config: '{'bootstrap_servers': '127.0.0.1:9092'}'\n",
      "[7574]: 23-05-12 13:17:43.836 [INFO] fastkafka._application.app: _create_producer() : created producer using the config: '{'bootstrap_servers': '127.0.0.1:9092'}'\n",
      "[7572]: 23-05-12 13:17:43.841 [INFO] fastkafka._application.app: _create_producer() : created producer using the config: '{'bootstrap_servers': '127.0.0.1:9092'}'\n",
      "[7574]: 23-05-12 13:17:43.841 [INFO] fastkafka._application.app: _create_producer() : created producer using the config: '{'bootstrap_servers': '127.0.0.1:9092'}'\n",
      "[7572]: 23-05-12 13:17:43.845 [INFO] fastkafka._components.aiokafka_consumer_loop: aiokafka_consumer_loop() starting...\n",
      "[7574]: 23-05-12 13:17:43.845 [INFO] fastkafka._components.aiokafka_consumer_loop: aiokafka_consumer_loop() starting...\n",
      "[7572]: 23-05-12 13:17:43.845 [INFO] fastkafka._components.aiokafka_consumer_loop: aiokafka_consumer_loop(): Consumer created using the following parameters: {'group_id': '127.0.0.1:9092_group', 'auto_offset_reset': 'earliest', 'bootstrap_servers': '127.0.0.1:9092', 'max_poll_records': 100}\n",
      "[7574]: 23-05-12 13:17:43.845 [INFO] fastkafka._components.aiokafka_consumer_loop: aiokafka_consumer_loop(): Consumer created using the following parameters: {'group_id': '127.0.0.1:9092_group', 'auto_offset_reset': 'earliest', 'bootstrap_servers': '127.0.0.1:9092', 'max_poll_records': 100}\n",
      "[7572]: 23-05-12 13:17:43.845 [INFO] fastkafka._components.aiokafka_consumer_loop: aiokafka_consumer_loop() starting...\n",
      "[7572]: 23-05-12 13:17:43.845 [INFO] fastkafka._components.aiokafka_consumer_loop: aiokafka_consumer_loop(): Consumer created using the following parameters: {'group_id': '127.0.0.1:9092_group', 'auto_offset_reset': 'earliest', 'bootstrap_servers': '127.0.0.1:9092', 'max_poll_records': 100}\n",
      "[7574]: 23-05-12 13:17:43.845 [INFO] fastkafka._components.aiokafka_consumer_loop: aiokafka_consumer_loop() starting...\n",
      "[7574]: 23-05-12 13:17:43.845 [INFO] fastkafka._components.aiokafka_consumer_loop: aiokafka_consumer_loop(): Consumer created using the following parameters: {'group_id': '127.0.0.1:9092_group', 'auto_offset_reset': 'earliest', 'bootstrap_servers': '127.0.0.1:9092', 'max_poll_records': 100}\n",
      "[7572]: 23-05-12 13:17:43.849 [INFO] fastkafka._components.aiokafka_consumer_loop: aiokafka_consumer_loop(): Consumer started.\n",
      "[7572]: 23-05-12 13:17:43.849 [INFO] aiokafka.consumer.subscription_state: Updating subscribed topics to: frozenset({'training_data'})\n",
      "[7572]: 23-05-12 13:17:43.849 [INFO] aiokafka.consumer.consumer: Subscribed to topic(s): {'training_data'}\n",
      "[7572]: 23-05-12 13:17:43.850 [INFO] fastkafka._components.aiokafka_consumer_loop: aiokafka_consumer_loop(): Consumer subscribed.\n",
      "[7574]: 23-05-12 13:17:43.850 [INFO] fastkafka._components.aiokafka_consumer_loop: aiokafka_consumer_loop(): Consumer started.\n",
      "[7574]: 23-05-12 13:17:43.850 [INFO] aiokafka.consumer.subscription_state: Updating subscribed topics to: frozenset({'training_data'})\n",
      "[7574]: 23-05-12 13:17:43.850 [INFO] aiokafka.consumer.consumer: Subscribed to topic(s): {'training_data'}\n",
      "[7574]: 23-05-12 13:17:43.850 [INFO] fastkafka._components.aiokafka_consumer_loop: aiokafka_consumer_loop(): Consumer subscribed.\n",
      "[7572]: 23-05-12 13:17:43.854 [INFO] fastkafka._components.aiokafka_consumer_loop: aiokafka_consumer_loop(): Consumer started.\n",
      "[7572]: 23-05-12 13:17:43.854 [INFO] aiokafka.consumer.subscription_state: Updating subscribed topics to: frozenset({'realitime_data'})\n",
      "[7572]: 23-05-12 13:17:43.854 [INFO] aiokafka.consumer.consumer: Subscribed to topic(s): {'realitime_data'}\n",
      "[7572]: 23-05-12 13:17:43.854 [INFO] fastkafka._components.aiokafka_consumer_loop: aiokafka_consumer_loop(): Consumer subscribed.\n",
      "[7574]: 23-05-12 13:17:43.855 [INFO] fastkafka._components.aiokafka_consumer_loop: aiokafka_consumer_loop(): Consumer started.\n",
      "[7574]: 23-05-12 13:17:43.855 [INFO] aiokafka.consumer.subscription_state: Updating subscribed topics to: frozenset({'realitime_data'})\n",
      "[7574]: 23-05-12 13:17:43.855 [INFO] aiokafka.consumer.consumer: Subscribed to topic(s): {'realitime_data'}\n",
      "[7574]: 23-05-12 13:17:43.855 [INFO] fastkafka._components.aiokafka_consumer_loop: aiokafka_consumer_loop(): Consumer subscribed.\n",
      "[7574]: 23-05-12 13:17:43.862 [ERROR] aiokafka.consumer.group_coordinator: Group Coordinator Request failed: [Error 15] CoordinatorNotAvailableError\n",
      "[7574]: 23-05-12 13:17:43.862 [ERROR] aiokafka.consumer.group_coordinator: Group Coordinator Request failed: [Error 15] CoordinatorNotAvailableError\n",
      "[7572]: 23-05-12 13:17:43.862 [ERROR] aiokafka.consumer.group_coordinator: Group Coordinator Request failed: [Error 15] CoordinatorNotAvailableError\n",
      "[7572]: 23-05-12 13:17:43.867 [ERROR] aiokafka.cluster: Topic training_data not found in cluster metadata\n",
      "[7572]: 23-05-12 13:17:43.900 [ERROR] aiokafka.consumer.group_coordinator: Group Coordinator Request failed: [Error 15] CoordinatorNotAvailableError\n",
      "[7574]: 23-05-12 13:17:43.901 [WARNING] aiokafka.cluster: Topic training_data is not available during auto-create initialization\n",
      "[7574]: 23-05-12 13:17:43.901 [WARNING] aiokafka.cluster: Topic realitime_data is not available during auto-create initialization\n",
      "[7572]: 23-05-12 13:17:43.904 [WARNING] aiokafka.cluster: Topic realitime_data is not available during auto-create initialization\n",
      "[7572]: 23-05-12 13:17:43.986 [ERROR] aiokafka.consumer.group_coordinator: Group Coordinator Request failed: [Error 15] CoordinatorNotAvailableError\n",
      "[7572]: 23-05-12 13:17:43.999 [WARNING] aiokafka.cluster: Topic training_data is not available during auto-create initialization\n",
      "[7574]: 23-05-12 13:17:44.002 [ERROR] aiokafka.consumer.group_coordinator: Group Coordinator Request failed: [Error 15] CoordinatorNotAvailableError\n",
      "[7574]: 23-05-12 13:17:44.004 [ERROR] aiokafka.consumer.group_coordinator: Group Coordinator Request failed: [Error 15] CoordinatorNotAvailableError\n",
      "[7574]: 23-05-12 13:17:44.005 [WARNING] aiokafka.cluster: Topic realitime_data is not available during auto-create initialization\n",
      "[7574]: 23-05-12 13:17:44.007 [WARNING] aiokafka.cluster: Topic training_data is not available during auto-create initialization\n",
      "[7572]: 23-05-12 13:17:44.008 [ERROR] aiokafka.consumer.group_coordinator: Group Coordinator Request failed: [Error 15] CoordinatorNotAvailableError\n",
      "[7572]: 23-05-12 13:17:44.010 [WARNING] aiokafka.cluster: Topic realitime_data is not available during auto-create initialization\n",
      "[7572]: 23-05-12 13:17:44.103 [ERROR] aiokafka.consumer.group_coordinator: Group Coordinator Request failed: [Error 15] CoordinatorNotAvailableError\n",
      "[7572]: 23-05-12 13:17:44.106 [WARNING] aiokafka.cluster: Topic training_data is not available during auto-create initialization\n",
      "[7574]: 23-05-12 13:17:44.108 [ERROR] aiokafka.consumer.group_coordinator: Group Coordinator Request failed: [Error 15] CoordinatorNotAvailableError\n",
      "[7574]: 23-05-12 13:17:44.110 [ERROR] aiokafka.consumer.group_coordinator: Group Coordinator Request failed: [Error 15] CoordinatorNotAvailableError\n",
      "[7574]: 23-05-12 13:17:44.111 [WARNING] aiokafka.cluster: Topic training_data is not available during auto-create initialization\n",
      "[7574]: 23-05-12 13:17:44.112 [WARNING] aiokafka.cluster: Topic realitime_data is not available during auto-create initialization\n",
      "[7572]: 23-05-12 13:17:44.113 [ERROR] aiokafka.consumer.group_coordinator: Group Coordinator Request failed: [Error 15] CoordinatorNotAvailableError\n",
      "[7572]: 23-05-12 13:17:44.115 [WARNING] aiokafka.cluster: Topic realitime_data is not available during auto-create initialization\n",
      "[7572]: 23-05-12 13:17:44.209 [ERROR] aiokafka.consumer.group_coordinator: Group Coordinator Request failed: [Error 15] CoordinatorNotAvailableError\n",
      "[7572]: 23-05-12 13:17:44.212 [WARNING] aiokafka.cluster: Topic training_data is not available during auto-create initialization\n",
      "[7574]: 23-05-12 13:17:44.214 [ERROR] aiokafka.consumer.group_coordinator: Group Coordinator Request failed: [Error 15] CoordinatorNotAvailableError\n",
      "[7574]: 23-05-12 13:17:44.214 [ERROR] aiokafka.consumer.group_coordinator: Group Coordinator Request failed: [Error 15] CoordinatorNotAvailableError\n",
      "[7574]: 23-05-12 13:17:44.217 [WARNING] aiokafka.cluster: Topic realitime_data is not available during auto-create initialization\n",
      "[7574]: 23-05-12 13:17:44.217 [WARNING] aiokafka.cluster: Topic training_data is not available during auto-create initialization\n",
      "[7572]: 23-05-12 13:17:44.218 [ERROR] aiokafka.consumer.group_coordinator: Group Coordinator Request failed: [Error 15] CoordinatorNotAvailableError\n",
      "[7572]: 23-05-12 13:17:44.220 [WARNING] aiokafka.cluster: Topic realitime_data is not available during auto-create initialization\n",
      "[7572]: 23-05-12 13:17:44.317 [ERROR] aiokafka.consumer.group_coordinator: Group Coordinator Request failed: [Error 15] CoordinatorNotAvailableError\n",
      "[7574]: 23-05-12 13:17:44.319 [ERROR] aiokafka.consumer.group_coordinator: Group Coordinator Request failed: [Error 15] CoordinatorNotAvailableError\n",
      "[7574]: 23-05-12 13:17:44.320 [ERROR] aiokafka.cluster: Topic training_data not found in cluster metadata\n",
      "[7572]: 23-05-12 13:17:44.320 [WARNING] aiokafka.cluster: Topic training_data is not available during auto-create initialization\n",
      "[7574]: 23-05-12 13:17:44.320 [ERROR] aiokafka.consumer.group_coordinator: Group Coordinator Request failed: [Error 15] CoordinatorNotAvailableError\n",
      "[7574]: 23-05-12 13:17:44.322 [WARNING] aiokafka.cluster: Topic realitime_data is not available during auto-create initialization\n",
      "[7572]: 23-05-12 13:17:44.324 [ERROR] aiokafka.consumer.group_coordinator: Group Coordinator Request failed: [Error 15] CoordinatorNotAvailableError\n",
      "[7572]: 23-05-12 13:17:44.326 [WARNING] aiokafka.cluster: Topic realitime_data is not available during auto-create initialization\n",
      "[7574]: 23-05-12 13:17:44.423 [ERROR] aiokafka.consumer.group_coordinator: Group Coordinator Request failed: [Error 15] CoordinatorNotAvailableError\n",
      "[7574]: 23-05-12 13:17:44.423 [ERROR] aiokafka.consumer.group_coordinator: Group Coordinator Request failed: [Error 15] CoordinatorNotAvailableError\n",
      "[7572]: 23-05-12 13:17:44.424 [ERROR] aiokafka.consumer.group_coordinator: Group Coordinator Request failed: [Error 15] CoordinatorNotAvailableError\n",
      "[7574]: 23-05-12 13:17:44.425 [WARNING] aiokafka.cluster: Topic training_data is not available during auto-create initialization\n",
      "[7574]: 23-05-12 13:17:44.426 [WARNING] aiokafka.cluster: Topic realitime_data is not available during auto-create initialization\n",
      "[7572]: 23-05-12 13:17:44.427 [WARNING] aiokafka.cluster: Topic training_data is not available during auto-create initialization\n",
      "[7572]: 23-05-12 13:17:44.429 [ERROR] aiokafka.consumer.group_coordinator: Group Coordinator Request failed: [Error 15] CoordinatorNotAvailableError\n",
      "[7572]: 23-05-12 13:17:44.431 [WARNING] aiokafka.cluster: Topic realitime_data is not available during auto-create initialization\n",
      "[7574]: 23-05-12 13:17:44.527 [ERROR] aiokafka.consumer.group_coordinator: Group Coordinator Request failed: [Error 15] CoordinatorNotAvailableError\n",
      "[7572]: 23-05-12 13:17:44.528 [ERROR] aiokafka.consumer.group_coordinator: Group Coordinator Request failed: [Error 15] CoordinatorNotAvailableError\n",
      "[7574]: 23-05-12 13:17:44.529 [ERROR] aiokafka.consumer.group_coordinator: Group Coordinator Request failed: [Error 15] CoordinatorNotAvailableError\n",
      "[7574]: 23-05-12 13:17:44.530 [WARNING] aiokafka.cluster: Topic realitime_data is not available during auto-create initialization\n",
      "[7574]: 23-05-12 13:17:44.530 [ERROR] aiokafka.cluster: Topic training_data not found in cluster metadata\n",
      "[7572]: 23-05-12 13:17:44.531 [WARNING] aiokafka.cluster: Topic training_data is not available during auto-create initialization\n",
      "[7572]: 23-05-12 13:17:44.535 [ERROR] aiokafka.consumer.group_coordinator: Group Coordinator Request failed: [Error 15] CoordinatorNotAvailableError\n",
      "[7572]: 23-05-12 13:17:44.537 [WARNING] aiokafka.cluster: Topic realitime_data is not available during auto-create initialization\n",
      "[7574]: 23-05-12 13:17:44.631 [ERROR] aiokafka.consumer.group_coordinator: Group Coordinator Request failed: [Error 15] CoordinatorNotAvailableError\n",
      "[7572]: 23-05-12 13:17:44.633 [ERROR] aiokafka.consumer.group_coordinator: Group Coordinator Request failed: [Error 15] CoordinatorNotAvailableError\n",
      "[7574]: 23-05-12 13:17:44.633 [ERROR] aiokafka.consumer.group_coordinator: Group Coordinator Request failed: [Error 15] CoordinatorNotAvailableError\n",
      "[7574]: 23-05-12 13:17:44.634 [WARNING] aiokafka.cluster: Topic realitime_data is not available during auto-create initialization\n",
      "[7572]: 23-05-12 13:17:44.634 [ERROR] aiokafka.cluster: Topic training_data not found in cluster metadata\n",
      "[7574]: 23-05-12 13:17:44.635 [WARNING] aiokafka.cluster: Topic training_data is not available during auto-create initialization\n",
      "[7572]: 23-05-12 13:17:44.641 [ERROR] aiokafka.consumer.group_coordinator: Group Coordinator Request failed: [Error 15] CoordinatorNotAvailableError\n",
      "[7572]: 23-05-12 13:17:44.643 [WARNING] aiokafka.cluster: Topic realitime_data is not available during auto-create initialization\n",
      "[7574]: 23-05-12 13:17:44.736 [ERROR] aiokafka.consumer.group_coordinator: Group Coordinator Request failed: [Error 15] CoordinatorNotAvailableError\n",
      "[7574]: 23-05-12 13:17:44.737 [ERROR] aiokafka.consumer.group_coordinator: Group Coordinator Request failed: [Error 15] CoordinatorNotAvailableError\n",
      "[7572]: 23-05-12 13:17:44.737 [ERROR] aiokafka.consumer.group_coordinator: Group Coordinator Request failed: [Error 15] CoordinatorNotAvailableError\n",
      "[7574]: 23-05-12 13:17:44.738 [WARNING] aiokafka.cluster: Topic realitime_data is not available during auto-create initialization\n",
      "[7572]: 23-05-12 13:17:44.738 [ERROR] aiokafka.cluster: Topic training_data not found in cluster metadata\n",
      "[7574]: 23-05-12 13:17:44.739 [WARNING] aiokafka.cluster: Topic training_data is not available during auto-create initialization\n",
      "[7572]: 23-05-12 13:17:44.746 [ERROR] aiokafka.consumer.group_coordinator: Group Coordinator Request failed: [Error 15] CoordinatorNotAvailableError\n",
      "[7572]: 23-05-12 13:17:44.748 [WARNING] aiokafka.cluster: Topic realitime_data is not available during auto-create initialization\n",
      "[7572]: 23-05-12 13:17:44.847 [INFO] aiokafka.consumer.group_coordinator: Discovered coordinator 0 for group 127.0.0.1:9092_group\n",
      "[7572]: 23-05-12 13:17:44.847 [INFO] aiokafka.consumer.group_coordinator: Revoking previously assigned partitions set() for group 127.0.0.1:9092_group\n",
      "[7572]: 23-05-12 13:17:44.847 [INFO] aiokafka.consumer.group_coordinator: (Re-)joining group 127.0.0.1:9092_group\n",
      "[7574]: 23-05-12 13:17:44.847 [INFO] aiokafka.consumer.group_coordinator: Discovered coordinator 0 for group 127.0.0.1:9092_group\n",
      "[7574]: 23-05-12 13:17:44.847 [INFO] aiokafka.consumer.group_coordinator: Revoking previously assigned partitions set() for group 127.0.0.1:9092_group\n",
      "[7574]: 23-05-12 13:17:44.847 [INFO] aiokafka.consumer.group_coordinator: (Re-)joining group 127.0.0.1:9092_group\n",
      "[7574]: 23-05-12 13:17:44.847 [INFO] aiokafka.consumer.group_coordinator: Discovered coordinator 0 for group 127.0.0.1:9092_group\n",
      "[7574]: 23-05-12 13:17:44.848 [INFO] aiokafka.consumer.group_coordinator: Revoking previously assigned partitions set() for group 127.0.0.1:9092_group\n",
      "[7574]: 23-05-12 13:17:44.848 [INFO] aiokafka.consumer.group_coordinator: (Re-)joining group 127.0.0.1:9092_group\n",
      "[7572]: 23-05-12 13:17:44.852 [WARNING] aiokafka.consumer.group_coordinator: Marking the coordinator dead (node 0)for group 127.0.0.1:9092_group.\n",
      "[7574]: 23-05-12 13:17:44.852 [WARNING] aiokafka.consumer.group_coordinator: Marking the coordinator dead (node 0)for group 127.0.0.1:9092_group.\n",
      "[7574]: 23-05-12 13:17:44.852 [WARNING] aiokafka.consumer.group_coordinator: Marking the coordinator dead (node 0)for group 127.0.0.1:9092_group.\n",
      "[7572]: 23-05-12 13:17:44.853 [INFO] aiokafka.consumer.group_coordinator: Discovered coordinator 0 for group 127.0.0.1:9092_group\n",
      "[7572]: 23-05-12 13:17:44.853 [INFO] aiokafka.consumer.group_coordinator: Revoking previously assigned partitions set() for group 127.0.0.1:9092_group\n",
      "[7572]: 23-05-12 13:17:44.853 [INFO] aiokafka.consumer.group_coordinator: (Re-)joining group 127.0.0.1:9092_group\n",
      "[7572]: 23-05-12 13:17:44.853 [WARNING] aiokafka.consumer.group_coordinator: Marking the coordinator dead (node 0)for group 127.0.0.1:9092_group.\n",
      "[7572]: 23-05-12 13:17:44.954 [INFO] aiokafka.consumer.group_coordinator: Discovered coordinator 0 for group 127.0.0.1:9092_group\n",
      "[7572]: 23-05-12 13:17:44.954 [INFO] aiokafka.consumer.group_coordinator: (Re-)joining group 127.0.0.1:9092_group\n",
      "[7574]: 23-05-12 13:17:44.955 [INFO] aiokafka.consumer.group_coordinator: Discovered coordinator 0 for group 127.0.0.1:9092_group\n",
      "[7574]: 23-05-12 13:17:44.955 [INFO] aiokafka.consumer.group_coordinator: (Re-)joining group 127.0.0.1:9092_group\n",
      "[7574]: 23-05-12 13:17:44.955 [INFO] aiokafka.consumer.group_coordinator: Discovered coordinator 0 for group 127.0.0.1:9092_group\n",
      "[7574]: 23-05-12 13:17:44.955 [INFO] aiokafka.consumer.group_coordinator: (Re-)joining group 127.0.0.1:9092_group\n",
      "[7572]: 23-05-12 13:17:44.955 [WARNING] aiokafka.consumer.group_coordinator: Marking the coordinator dead (node 0)for group 127.0.0.1:9092_group.\n",
      "[7572]: 23-05-12 13:17:44.955 [INFO] aiokafka.consumer.group_coordinator: Discovered coordinator 0 for group 127.0.0.1:9092_group\n",
      "[7572]: 23-05-12 13:17:44.955 [INFO] aiokafka.consumer.group_coordinator: (Re-)joining group 127.0.0.1:9092_group\n",
      "[7574]: 23-05-12 13:17:44.955 [WARNING] aiokafka.consumer.group_coordinator: Marking the coordinator dead (node 0)for group 127.0.0.1:9092_group.\n",
      "[7574]: 23-05-12 13:17:44.956 [WARNING] aiokafka.consumer.group_coordinator: Marking the coordinator dead (node 0)for group 127.0.0.1:9092_group.\n",
      "[7572]: 23-05-12 13:17:44.956 [WARNING] aiokafka.consumer.group_coordinator: Marking the coordinator dead (node 0)for group 127.0.0.1:9092_group.\n",
      "[7572]: 23-05-12 13:17:45.056 [INFO] aiokafka.consumer.group_coordinator: Discovered coordinator 0 for group 127.0.0.1:9092_group\n",
      "[7572]: 23-05-12 13:17:45.056 [INFO] aiokafka.consumer.group_coordinator: (Re-)joining group 127.0.0.1:9092_group\n",
      "[7574]: 23-05-12 13:17:45.057 [INFO] aiokafka.consumer.group_coordinator: Discovered coordinator 0 for group 127.0.0.1:9092_group\n",
      "[7574]: 23-05-12 13:17:45.057 [INFO] aiokafka.consumer.group_coordinator: (Re-)joining group 127.0.0.1:9092_group\n",
      "[7572]: 23-05-12 13:17:45.057 [WARNING] aiokafka.consumer.group_coordinator: Marking the coordinator dead (node 0)for group 127.0.0.1:9092_group.\n",
      "[7574]: 23-05-12 13:17:45.057 [INFO] aiokafka.consumer.group_coordinator: Discovered coordinator 0 for group 127.0.0.1:9092_group\n",
      "[7574]: 23-05-12 13:17:45.057 [INFO] aiokafka.consumer.group_coordinator: (Re-)joining group 127.0.0.1:9092_group\n",
      "[7572]: 23-05-12 13:17:45.057 [INFO] aiokafka.consumer.group_coordinator: Discovered coordinator 0 for group 127.0.0.1:9092_group\n",
      "[7572]: 23-05-12 13:17:45.057 [INFO] aiokafka.consumer.group_coordinator: (Re-)joining group 127.0.0.1:9092_group\n",
      "[7574]: 23-05-12 13:17:45.057 [WARNING] aiokafka.consumer.group_coordinator: Marking the coordinator dead (node 0)for group 127.0.0.1:9092_group.\n",
      "[7574]: 23-05-12 13:17:45.057 [WARNING] aiokafka.consumer.group_coordinator: Marking the coordinator dead (node 0)for group 127.0.0.1:9092_group.\n",
      "[7572]: 23-05-12 13:17:45.058 [WARNING] aiokafka.consumer.group_coordinator: Marking the coordinator dead (node 0)for group 127.0.0.1:9092_group.\n",
      "[7572]: 23-05-12 13:17:45.159 [INFO] aiokafka.consumer.group_coordinator: Discovered coordinator 0 for group 127.0.0.1:9092_group\n",
      "[7572]: 23-05-12 13:17:45.159 [INFO] aiokafka.consumer.group_coordinator: (Re-)joining group 127.0.0.1:9092_group\n",
      "[7574]: 23-05-12 13:17:45.160 [INFO] aiokafka.consumer.group_coordinator: Discovered coordinator 0 for group 127.0.0.1:9092_group\n",
      "[7574]: 23-05-12 13:17:45.160 [INFO] aiokafka.consumer.group_coordinator: (Re-)joining group 127.0.0.1:9092_group\n",
      "[7572]: 23-05-12 13:17:45.160 [INFO] aiokafka.consumer.group_coordinator: Discovered coordinator 0 for group 127.0.0.1:9092_group\n",
      "[7572]: 23-05-12 13:17:45.160 [INFO] aiokafka.consumer.group_coordinator: (Re-)joining group 127.0.0.1:9092_group\n",
      "[7574]: 23-05-12 13:17:45.160 [INFO] aiokafka.consumer.group_coordinator: Discovered coordinator 0 for group 127.0.0.1:9092_group\n",
      "[7574]: 23-05-12 13:17:45.160 [INFO] aiokafka.consumer.group_coordinator: (Re-)joining group 127.0.0.1:9092_group\n",
      "[7572]: 23-05-12 13:17:45.160 [WARNING] aiokafka.consumer.group_coordinator: Marking the coordinator dead (node 0)for group 127.0.0.1:9092_group.\n",
      "[7574]: 23-05-12 13:17:45.160 [WARNING] aiokafka.consumer.group_coordinator: Marking the coordinator dead (node 0)for group 127.0.0.1:9092_group.\n",
      "[7574]: 23-05-12 13:17:45.161 [WARNING] aiokafka.consumer.group_coordinator: Marking the coordinator dead (node 0)for group 127.0.0.1:9092_group.\n",
      "[7572]: 23-05-12 13:17:45.161 [WARNING] aiokafka.consumer.group_coordinator: Marking the coordinator dead (node 0)for group 127.0.0.1:9092_group.\n",
      "[7572]: 23-05-12 13:17:45.262 [INFO] aiokafka.consumer.group_coordinator: Discovered coordinator 0 for group 127.0.0.1:9092_group\n",
      "[7572]: 23-05-12 13:17:45.262 [INFO] aiokafka.consumer.group_coordinator: (Re-)joining group 127.0.0.1:9092_group\n",
      "[7574]: 23-05-12 13:17:45.262 [INFO] aiokafka.consumer.group_coordinator: Discovered coordinator 0 for group 127.0.0.1:9092_group\n",
      "[7574]: 23-05-12 13:17:45.262 [INFO] aiokafka.consumer.group_coordinator: (Re-)joining group 127.0.0.1:9092_group\n",
      "[7574]: 23-05-12 13:17:45.262 [INFO] aiokafka.consumer.group_coordinator: Discovered coordinator 0 for group 127.0.0.1:9092_group\n",
      "[7574]: 23-05-12 13:17:45.263 [INFO] aiokafka.consumer.group_coordinator: (Re-)joining group 127.0.0.1:9092_group\n",
      "[7572]: 23-05-12 13:17:45.263 [INFO] aiokafka.consumer.group_coordinator: Discovered coordinator 0 for group 127.0.0.1:9092_group\n",
      "[7572]: 23-05-12 13:17:45.263 [INFO] aiokafka.consumer.group_coordinator: (Re-)joining group 127.0.0.1:9092_group\n",
      "[7572]: 23-05-12 13:17:45.263 [WARNING] aiokafka.consumer.group_coordinator: Marking the coordinator dead (node 0)for group 127.0.0.1:9092_group.\n",
      "[7574]: 23-05-12 13:17:45.263 [WARNING] aiokafka.consumer.group_coordinator: Marking the coordinator dead (node 0)for group 127.0.0.1:9092_group.\n",
      "[7572]: 23-05-12 13:17:45.264 [WARNING] aiokafka.consumer.group_coordinator: Marking the coordinator dead (node 0)for group 127.0.0.1:9092_group.\n",
      "[7574]: 23-05-12 13:17:45.264 [WARNING] aiokafka.consumer.group_coordinator: Marking the coordinator dead (node 0)for group 127.0.0.1:9092_group.\n",
      "[7572]: 23-05-12 13:17:45.366 [INFO] aiokafka.consumer.group_coordinator: Discovered coordinator 0 for group 127.0.0.1:9092_group\n",
      "[7572]: 23-05-12 13:17:45.366 [INFO] aiokafka.consumer.group_coordinator: (Re-)joining group 127.0.0.1:9092_group\n",
      "[7574]: 23-05-12 13:17:45.366 [INFO] aiokafka.consumer.group_coordinator: Discovered coordinator 0 for group 127.0.0.1:9092_group\n",
      "[7572]: 23-05-12 13:17:45.366 [INFO] aiokafka.consumer.group_coordinator: Discovered coordinator 0 for group 127.0.0.1:9092_group\n",
      "[7572]: 23-05-12 13:17:45.366 [INFO] aiokafka.consumer.group_coordinator: (Re-)joining group 127.0.0.1:9092_group\n",
      "[7574]: 23-05-12 13:17:45.366 [INFO] aiokafka.consumer.group_coordinator: (Re-)joining group 127.0.0.1:9092_group\n",
      "[7574]: 23-05-12 13:17:45.366 [INFO] aiokafka.consumer.group_coordinator: Discovered coordinator 0 for group 127.0.0.1:9092_group\n",
      "[7574]: 23-05-12 13:17:45.366 [INFO] aiokafka.consumer.group_coordinator: (Re-)joining group 127.0.0.1:9092_group\n",
      "[7572]: 23-05-12 13:17:45.367 [WARNING] aiokafka.consumer.group_coordinator: Marking the coordinator dead (node 0)for group 127.0.0.1:9092_group.\n",
      "[7572]: 23-05-12 13:17:45.367 [WARNING] aiokafka.consumer.group_coordinator: Marking the coordinator dead (node 0)for group 127.0.0.1:9092_group.\n",
      "[7574]: 23-05-12 13:17:45.367 [WARNING] aiokafka.consumer.group_coordinator: Marking the coordinator dead (node 0)for group 127.0.0.1:9092_group.\n",
      "[7574]: 23-05-12 13:17:45.367 [WARNING] aiokafka.consumer.group_coordinator: Marking the coordinator dead (node 0)for group 127.0.0.1:9092_group.\n",
      "[7574]: 23-05-12 13:17:45.470 [INFO] aiokafka.consumer.group_coordinator: Discovered coordinator 0 for group 127.0.0.1:9092_group\n",
      "[7574]: 23-05-12 13:17:45.470 [INFO] aiokafka.consumer.group_coordinator: (Re-)joining group 127.0.0.1:9092_group\n",
      "[7572]: 23-05-12 13:17:45.470 [INFO] aiokafka.consumer.group_coordinator: Discovered coordinator 0 for group 127.0.0.1:9092_group\n",
      "[7572]: 23-05-12 13:17:45.470 [INFO] aiokafka.consumer.group_coordinator: (Re-)joining group 127.0.0.1:9092_group\n",
      "[7574]: 23-05-12 13:17:45.470 [INFO] aiokafka.consumer.group_coordinator: Discovered coordinator 0 for group 127.0.0.1:9092_group\n",
      "[7574]: 23-05-12 13:17:45.470 [INFO] aiokafka.consumer.group_coordinator: (Re-)joining group 127.0.0.1:9092_group\n",
      "[7572]: 23-05-12 13:17:45.470 [INFO] aiokafka.consumer.group_coordinator: Discovered coordinator 0 for group 127.0.0.1:9092_group\n",
      "[7572]: 23-05-12 13:17:45.470 [INFO] aiokafka.consumer.group_coordinator: (Re-)joining group 127.0.0.1:9092_group\n",
      "[7574]: 23-05-12 13:17:45.471 [WARNING] aiokafka.consumer.group_coordinator: Marking the coordinator dead (node 0)for group 127.0.0.1:9092_group.\n",
      "[7574]: 23-05-12 13:17:45.471 [WARNING] aiokafka.consumer.group_coordinator: Marking the coordinator dead (node 0)for group 127.0.0.1:9092_group.\n",
      "[7572]: 23-05-12 13:17:45.471 [WARNING] aiokafka.consumer.group_coordinator: Marking the coordinator dead (node 0)for group 127.0.0.1:9092_group.\n",
      "[7572]: 23-05-12 13:17:45.471 [WARNING] aiokafka.consumer.group_coordinator: Marking the coordinator dead (node 0)for group 127.0.0.1:9092_group.\n",
      "[7574]: 23-05-12 13:17:45.574 [INFO] aiokafka.consumer.group_coordinator: Discovered coordinator 0 for group 127.0.0.1:9092_group\n",
      "[7574]: 23-05-12 13:17:45.574 [INFO] aiokafka.consumer.group_coordinator: (Re-)joining group 127.0.0.1:9092_group\n",
      "[7572]: 23-05-12 13:17:45.574 [INFO] aiokafka.consumer.group_coordinator: Discovered coordinator 0 for group 127.0.0.1:9092_group\n",
      "[7572]: 23-05-12 13:17:45.574 [INFO] aiokafka.consumer.group_coordinator: (Re-)joining group 127.0.0.1:9092_group\n",
      "[7574]: 23-05-12 13:17:45.574 [INFO] aiokafka.consumer.group_coordinator: Discovered coordinator 0 for group 127.0.0.1:9092_group\n",
      "[7574]: 23-05-12 13:17:45.574 [INFO] aiokafka.consumer.group_coordinator: (Re-)joining group 127.0.0.1:9092_group\n",
      "[7572]: 23-05-12 13:17:45.574 [INFO] aiokafka.consumer.group_coordinator: Discovered coordinator 0 for group 127.0.0.1:9092_group\n",
      "[7572]: 23-05-12 13:17:45.574 [INFO] aiokafka.consumer.group_coordinator: (Re-)joining group 127.0.0.1:9092_group\n",
      "[7572]: 23-05-12 13:17:45.575 [WARNING] aiokafka.consumer.group_coordinator: Marking the coordinator dead (node 0)for group 127.0.0.1:9092_group.\n",
      "[7574]: 23-05-12 13:17:45.575 [WARNING] aiokafka.consumer.group_coordinator: Marking the coordinator dead (node 0)for group 127.0.0.1:9092_group.\n",
      "[7572]: 23-05-12 13:17:45.575 [WARNING] aiokafka.consumer.group_coordinator: Marking the coordinator dead (node 0)for group 127.0.0.1:9092_group.\n",
      "[7574]: 23-05-12 13:17:45.576 [WARNING] aiokafka.consumer.group_coordinator: Marking the coordinator dead (node 0)for group 127.0.0.1:9092_group.\n",
      "[7572]: 23-05-12 13:17:45.677 [INFO] aiokafka.consumer.group_coordinator: Discovered coordinator 0 for group 127.0.0.1:9092_group\n",
      "[7572]: 23-05-12 13:17:45.677 [INFO] aiokafka.consumer.group_coordinator: (Re-)joining group 127.0.0.1:9092_group\n",
      "[7574]: 23-05-12 13:17:45.677 [INFO] aiokafka.consumer.group_coordinator: Discovered coordinator 0 for group 127.0.0.1:9092_group\n",
      "[7574]: 23-05-12 13:17:45.677 [INFO] aiokafka.consumer.group_coordinator: (Re-)joining group 127.0.0.1:9092_group\n",
      "[7572]: 23-05-12 13:17:45.677 [INFO] aiokafka.consumer.group_coordinator: Discovered coordinator 0 for group 127.0.0.1:9092_group\n",
      "[7572]: 23-05-12 13:17:45.678 [INFO] aiokafka.consumer.group_coordinator: (Re-)joining group 127.0.0.1:9092_group\n",
      "[7574]: 23-05-12 13:17:45.678 [INFO] aiokafka.consumer.group_coordinator: Discovered coordinator 0 for group 127.0.0.1:9092_group\n",
      "[7574]: 23-05-12 13:17:45.678 [INFO] aiokafka.consumer.group_coordinator: (Re-)joining group 127.0.0.1:9092_group\n",
      "[7574]: 23-05-12 13:17:45.678 [WARNING] aiokafka.consumer.group_coordinator: Marking the coordinator dead (node 0)for group 127.0.0.1:9092_group.\n",
      "[7572]: 23-05-12 13:17:45.678 [WARNING] aiokafka.consumer.group_coordinator: Marking the coordinator dead (node 0)for group 127.0.0.1:9092_group.\n",
      "[7572]: 23-05-12 13:17:45.678 [WARNING] aiokafka.consumer.group_coordinator: Marking the coordinator dead (node 0)for group 127.0.0.1:9092_group.\n",
      "[7574]: 23-05-12 13:17:45.679 [WARNING] aiokafka.consumer.group_coordinator: Marking the coordinator dead (node 0)for group 127.0.0.1:9092_group.\n",
      "[7572]: 23-05-12 13:17:45.781 [INFO] aiokafka.consumer.group_coordinator: Discovered coordinator 0 for group 127.0.0.1:9092_group\n",
      "[7572]: 23-05-12 13:17:45.781 [INFO] aiokafka.consumer.group_coordinator: (Re-)joining group 127.0.0.1:9092_group\n",
      "[7574]: 23-05-12 13:17:45.781 [INFO] aiokafka.consumer.group_coordinator: Discovered coordinator 0 for group 127.0.0.1:9092_group\n",
      "[7574]: 23-05-12 13:17:45.781 [INFO] aiokafka.consumer.group_coordinator: (Re-)joining group 127.0.0.1:9092_group\n",
      "[7572]: 23-05-12 13:17:45.781 [INFO] aiokafka.consumer.group_coordinator: Discovered coordinator 0 for group 127.0.0.1:9092_group\n",
      "[7572]: 23-05-12 13:17:45.781 [INFO] aiokafka.consumer.group_coordinator: (Re-)joining group 127.0.0.1:9092_group\n",
      "[7574]: 23-05-12 13:17:45.781 [INFO] aiokafka.consumer.group_coordinator: Discovered coordinator 0 for group 127.0.0.1:9092_group\n",
      "[7574]: 23-05-12 13:17:45.781 [INFO] aiokafka.consumer.group_coordinator: (Re-)joining group 127.0.0.1:9092_group\n",
      "[7572]: 23-05-12 13:17:45.782 [WARNING] aiokafka.consumer.group_coordinator: Marking the coordinator dead (node 0)for group 127.0.0.1:9092_group.\n",
      "[7574]: 23-05-12 13:17:45.782 [WARNING] aiokafka.consumer.group_coordinator: Marking the coordinator dead (node 0)for group 127.0.0.1:9092_group.\n",
      "[7572]: 23-05-12 13:17:45.782 [WARNING] aiokafka.consumer.group_coordinator: Marking the coordinator dead (node 0)for group 127.0.0.1:9092_group.\n",
      "[7574]: 23-05-12 13:17:45.782 [WARNING] aiokafka.consumer.group_coordinator: Marking the coordinator dead (node 0)for group 127.0.0.1:9092_group.\n",
      "[7574]: 23-05-12 13:17:45.885 [INFO] aiokafka.consumer.group_coordinator: Discovered coordinator 0 for group 127.0.0.1:9092_group\n",
      "[7574]: 23-05-12 13:17:45.885 [INFO] aiokafka.consumer.group_coordinator: (Re-)joining group 127.0.0.1:9092_group\n",
      "[7572]: 23-05-12 13:17:45.885 [INFO] aiokafka.consumer.group_coordinator: Discovered coordinator 0 for group 127.0.0.1:9092_group\n",
      "[7572]: 23-05-12 13:17:45.885 [INFO] aiokafka.consumer.group_coordinator: (Re-)joining group 127.0.0.1:9092_group\n",
      "[7574]: 23-05-12 13:17:45.886 [INFO] aiokafka.consumer.group_coordinator: Discovered coordinator 0 for group 127.0.0.1:9092_group\n",
      "[7574]: 23-05-12 13:17:45.886 [INFO] aiokafka.consumer.group_coordinator: (Re-)joining group 127.0.0.1:9092_group\n",
      "[7572]: 23-05-12 13:17:45.886 [INFO] aiokafka.consumer.group_coordinator: Discovered coordinator 0 for group 127.0.0.1:9092_group\n",
      "[7572]: 23-05-12 13:17:45.886 [INFO] aiokafka.consumer.group_coordinator: (Re-)joining group 127.0.0.1:9092_group\n",
      "[7572]: 23-05-12 13:17:45.886 [WARNING] aiokafka.consumer.group_coordinator: Marking the coordinator dead (node 0)for group 127.0.0.1:9092_group.\n",
      "[7574]: 23-05-12 13:17:45.886 [WARNING] aiokafka.consumer.group_coordinator: Marking the coordinator dead (node 0)for group 127.0.0.1:9092_group.\n",
      "[7572]: 23-05-12 13:17:45.887 [WARNING] aiokafka.consumer.group_coordinator: Marking the coordinator dead (node 0)for group 127.0.0.1:9092_group.\n",
      "[7574]: 23-05-12 13:17:45.887 [WARNING] aiokafka.consumer.group_coordinator: Marking the coordinator dead (node 0)for group 127.0.0.1:9092_group.\n",
      "[7572]: 23-05-12 13:17:45.988 [INFO] aiokafka.consumer.group_coordinator: Discovered coordinator 0 for group 127.0.0.1:9092_group\n",
      "[7572]: 23-05-12 13:17:45.988 [INFO] aiokafka.consumer.group_coordinator: (Re-)joining group 127.0.0.1:9092_group\n",
      "[7574]: 23-05-12 13:17:45.988 [INFO] aiokafka.consumer.group_coordinator: Discovered coordinator 0 for group 127.0.0.1:9092_group\n",
      "[7574]: 23-05-12 13:17:45.988 [INFO] aiokafka.consumer.group_coordinator: (Re-)joining group 127.0.0.1:9092_group\n",
      "[7572]: 23-05-12 13:17:45.988 [INFO] aiokafka.consumer.group_coordinator: Discovered coordinator 0 for group 127.0.0.1:9092_group\n",
      "[7572]: 23-05-12 13:17:45.988 [INFO] aiokafka.consumer.group_coordinator: (Re-)joining group 127.0.0.1:9092_group\n",
      "[7574]: 23-05-12 13:17:45.988 [INFO] aiokafka.consumer.group_coordinator: Discovered coordinator 0 for group 127.0.0.1:9092_group\n",
      "[7574]: 23-05-12 13:17:45.988 [INFO] aiokafka.consumer.group_coordinator: (Re-)joining group 127.0.0.1:9092_group\n",
      "[7574]: 23-05-12 13:17:45.989 [WARNING] aiokafka.consumer.group_coordinator: Marking the coordinator dead (node 0)for group 127.0.0.1:9092_group.\n",
      "[7572]: 23-05-12 13:17:45.989 [WARNING] aiokafka.consumer.group_coordinator: Marking the coordinator dead (node 0)for group 127.0.0.1:9092_group.\n",
      "[7572]: 23-05-12 13:17:45.989 [WARNING] aiokafka.consumer.group_coordinator: Marking the coordinator dead (node 0)for group 127.0.0.1:9092_group.\n",
      "[7574]: 23-05-12 13:17:45.989 [WARNING] aiokafka.consumer.group_coordinator: Marking the coordinator dead (node 0)for group 127.0.0.1:9092_group.\n",
      "[7574]: 23-05-12 13:17:46.092 [INFO] aiokafka.consumer.group_coordinator: Discovered coordinator 0 for group 127.0.0.1:9092_group\n",
      "[7574]: 23-05-12 13:17:46.092 [INFO] aiokafka.consumer.group_coordinator: (Re-)joining group 127.0.0.1:9092_group\n",
      "[7572]: 23-05-12 13:17:46.092 [INFO] aiokafka.consumer.group_coordinator: Discovered coordinator 0 for group 127.0.0.1:9092_group\n",
      "[7572]: 23-05-12 13:17:46.092 [INFO] aiokafka.consumer.group_coordinator: (Re-)joining group 127.0.0.1:9092_group\n",
      "[7574]: 23-05-12 13:17:46.092 [INFO] aiokafka.consumer.group_coordinator: Discovered coordinator 0 for group 127.0.0.1:9092_group\n",
      "[7574]: 23-05-12 13:17:46.092 [INFO] aiokafka.consumer.group_coordinator: (Re-)joining group 127.0.0.1:9092_group\n",
      "[7572]: 23-05-12 13:17:46.093 [INFO] aiokafka.consumer.group_coordinator: Discovered coordinator 0 for group 127.0.0.1:9092_group\n",
      "[7572]: 23-05-12 13:17:46.093 [INFO] aiokafka.consumer.group_coordinator: (Re-)joining group 127.0.0.1:9092_group\n",
      "[7574]: 23-05-12 13:17:46.093 [WARNING] aiokafka.consumer.group_coordinator: Marking the coordinator dead (node 0)for group 127.0.0.1:9092_group.\n",
      "[7574]: 23-05-12 13:17:46.093 [WARNING] aiokafka.consumer.group_coordinator: Marking the coordinator dead (node 0)for group 127.0.0.1:9092_group.\n",
      "[7572]: 23-05-12 13:17:46.093 [WARNING] aiokafka.consumer.group_coordinator: Marking the coordinator dead (node 0)for group 127.0.0.1:9092_group.\n",
      "[7572]: 23-05-12 13:17:46.093 [WARNING] aiokafka.consumer.group_coordinator: Marking the coordinator dead (node 0)for group 127.0.0.1:9092_group.\n",
      "[7574]: 23-05-12 13:17:46.196 [INFO] aiokafka.consumer.group_coordinator: Discovered coordinator 0 for group 127.0.0.1:9092_group\n",
      "[7574]: 23-05-12 13:17:46.196 [INFO] aiokafka.consumer.group_coordinator: (Re-)joining group 127.0.0.1:9092_group\n",
      "[7572]: 23-05-12 13:17:46.197 [INFO] aiokafka.consumer.group_coordinator: Discovered coordinator 0 for group 127.0.0.1:9092_group\n",
      "[7572]: 23-05-12 13:17:46.197 [INFO] aiokafka.consumer.group_coordinator: (Re-)joining group 127.0.0.1:9092_group\n",
      "[7574]: 23-05-12 13:17:46.197 [INFO] aiokafka.consumer.group_coordinator: Discovered coordinator 0 for group 127.0.0.1:9092_group\n",
      "[7574]: 23-05-12 13:17:46.197 [INFO] aiokafka.consumer.group_coordinator: (Re-)joining group 127.0.0.1:9092_group\n",
      "[7572]: 23-05-12 13:17:46.197 [INFO] aiokafka.consumer.group_coordinator: Discovered coordinator 0 for group 127.0.0.1:9092_group\n",
      "[7572]: 23-05-12 13:17:46.197 [INFO] aiokafka.consumer.group_coordinator: (Re-)joining group 127.0.0.1:9092_group\n",
      "[7572]: 23-05-12 13:17:46.197 [WARNING] aiokafka.consumer.group_coordinator: Marking the coordinator dead (node 0)for group 127.0.0.1:9092_group.\n",
      "[7574]: 23-05-12 13:17:46.197 [WARNING] aiokafka.consumer.group_coordinator: Marking the coordinator dead (node 0)for group 127.0.0.1:9092_group.\n",
      "[7574]: 23-05-12 13:17:46.198 [WARNING] aiokafka.consumer.group_coordinator: Marking the coordinator dead (node 0)for group 127.0.0.1:9092_group.\n",
      "[7572]: 23-05-12 13:17:46.198 [WARNING] aiokafka.consumer.group_coordinator: Marking the coordinator dead (node 0)for group 127.0.0.1:9092_group.\n",
      "[7574]: 23-05-12 13:17:46.301 [INFO] aiokafka.consumer.group_coordinator: Discovered coordinator 0 for group 127.0.0.1:9092_group\n",
      "[7574]: 23-05-12 13:17:46.301 [INFO] aiokafka.consumer.group_coordinator: (Re-)joining group 127.0.0.1:9092_group\n",
      "[7572]: 23-05-12 13:17:46.301 [INFO] aiokafka.consumer.group_coordinator: Discovered coordinator 0 for group 127.0.0.1:9092_group\n",
      "[7572]: 23-05-12 13:17:46.301 [INFO] aiokafka.consumer.group_coordinator: (Re-)joining group 127.0.0.1:9092_group\n",
      "[7574]: 23-05-12 13:17:46.302 [INFO] aiokafka.consumer.group_coordinator: Discovered coordinator 0 for group 127.0.0.1:9092_group\n",
      "[7574]: 23-05-12 13:17:46.302 [INFO] aiokafka.consumer.group_coordinator: (Re-)joining group 127.0.0.1:9092_group\n",
      "[7572]: 23-05-12 13:17:46.302 [INFO] aiokafka.consumer.group_coordinator: Discovered coordinator 0 for group 127.0.0.1:9092_group\n",
      "[7572]: 23-05-12 13:17:46.302 [INFO] aiokafka.consumer.group_coordinator: (Re-)joining group 127.0.0.1:9092_group\n",
      "[7574]: 23-05-12 13:17:46.302 [WARNING] aiokafka.consumer.group_coordinator: Marking the coordinator dead (node 0)for group 127.0.0.1:9092_group.\n",
      "[7572]: 23-05-12 13:17:46.302 [WARNING] aiokafka.consumer.group_coordinator: Marking the coordinator dead (node 0)for group 127.0.0.1:9092_group.\n",
      "[7572]: 23-05-12 13:17:46.303 [WARNING] aiokafka.consumer.group_coordinator: Marking the coordinator dead (node 0)for group 127.0.0.1:9092_group.\n",
      "[7574]: 23-05-12 13:17:46.303 [WARNING] aiokafka.consumer.group_coordinator: Marking the coordinator dead (node 0)for group 127.0.0.1:9092_group.\n",
      "[7572]: 23-05-12 13:17:46.404 [INFO] aiokafka.consumer.group_coordinator: Discovered coordinator 0 for group 127.0.0.1:9092_group\n",
      "[7572]: 23-05-12 13:17:46.404 [INFO] aiokafka.consumer.group_coordinator: (Re-)joining group 127.0.0.1:9092_group\n",
      "[7572]: 23-05-12 13:17:46.404 [INFO] aiokafka.consumer.group_coordinator: Discovered coordinator 0 for group 127.0.0.1:9092_group\n",
      "[7572]: 23-05-12 13:17:46.404 [INFO] aiokafka.consumer.group_coordinator: (Re-)joining group 127.0.0.1:9092_group\n",
      "[7572]: 23-05-12 13:17:46.405 [WARNING] aiokafka.consumer.group_coordinator: Marking the coordinator dead (node 0)for group 127.0.0.1:9092_group.\n",
      "[7572]: 23-05-12 13:17:46.405 [WARNING] aiokafka.consumer.group_coordinator: Marking the coordinator dead (node 0)for group 127.0.0.1:9092_group.\n",
      "[7574]: 23-05-12 13:17:46.405 [INFO] aiokafka.consumer.group_coordinator: Discovered coordinator 0 for group 127.0.0.1:9092_group\n",
      "[7574]: 23-05-12 13:17:46.405 [INFO] aiokafka.consumer.group_coordinator: (Re-)joining group 127.0.0.1:9092_group\n",
      "[7574]: 23-05-12 13:17:46.405 [INFO] aiokafka.consumer.group_coordinator: Discovered coordinator 0 for group 127.0.0.1:9092_group\n",
      "[7574]: 23-05-12 13:17:46.405 [INFO] aiokafka.consumer.group_coordinator: (Re-)joining group 127.0.0.1:9092_group\n",
      "[7574]: 23-05-12 13:17:46.406 [WARNING] aiokafka.consumer.group_coordinator: Marking the coordinator dead (node 0)for group 127.0.0.1:9092_group.\n",
      "[7574]: 23-05-12 13:17:46.406 [WARNING] aiokafka.consumer.group_coordinator: Marking the coordinator dead (node 0)for group 127.0.0.1:9092_group.\n",
      "[7572]: 23-05-12 13:17:46.508 [INFO] aiokafka.consumer.group_coordinator: Discovered coordinator 0 for group 127.0.0.1:9092_group\n",
      "[7572]: 23-05-12 13:17:46.508 [INFO] aiokafka.consumer.group_coordinator: (Re-)joining group 127.0.0.1:9092_group\n",
      "[7572]: 23-05-12 13:17:46.508 [INFO] aiokafka.consumer.group_coordinator: Discovered coordinator 0 for group 127.0.0.1:9092_group\n",
      "[7572]: 23-05-12 13:17:46.508 [INFO] aiokafka.consumer.group_coordinator: (Re-)joining group 127.0.0.1:9092_group\n",
      "[7574]: 23-05-12 13:17:46.508 [INFO] aiokafka.consumer.group_coordinator: Discovered coordinator 0 for group 127.0.0.1:9092_group\n",
      "[7574]: 23-05-12 13:17:46.508 [INFO] aiokafka.consumer.group_coordinator: (Re-)joining group 127.0.0.1:9092_group\n",
      "[7574]: 23-05-12 13:17:46.508 [INFO] aiokafka.consumer.group_coordinator: Discovered coordinator 0 for group 127.0.0.1:9092_group\n",
      "[7574]: 23-05-12 13:17:46.508 [INFO] aiokafka.consumer.group_coordinator: (Re-)joining group 127.0.0.1:9092_group\n",
      "[7572]: 23-05-12 13:17:46.508 [WARNING] aiokafka.consumer.group_coordinator: Marking the coordinator dead (node 0)for group 127.0.0.1:9092_group.\n",
      "[7572]: 23-05-12 13:17:46.509 [WARNING] aiokafka.consumer.group_coordinator: Marking the coordinator dead (node 0)for group 127.0.0.1:9092_group.\n",
      "[7574]: 23-05-12 13:17:46.509 [WARNING] aiokafka.consumer.group_coordinator: Marking the coordinator dead (node 0)for group 127.0.0.1:9092_group.\n",
      "[7574]: 23-05-12 13:17:46.509 [WARNING] aiokafka.consumer.group_coordinator: Marking the coordinator dead (node 0)for group 127.0.0.1:9092_group.\n",
      "[7574]: 23-05-12 13:17:46.612 [INFO] aiokafka.consumer.group_coordinator: Discovered coordinator 0 for group 127.0.0.1:9092_group\n",
      "[7574]: 23-05-12 13:17:46.612 [INFO] aiokafka.consumer.group_coordinator: (Re-)joining group 127.0.0.1:9092_group\n",
      "[7572]: 23-05-12 13:17:46.612 [INFO] aiokafka.consumer.group_coordinator: Discovered coordinator 0 for group 127.0.0.1:9092_group\n",
      "[7572]: 23-05-12 13:17:46.612 [INFO] aiokafka.consumer.group_coordinator: (Re-)joining group 127.0.0.1:9092_group\n",
      "[7574]: 23-05-12 13:17:46.612 [INFO] aiokafka.consumer.group_coordinator: Discovered coordinator 0 for group 127.0.0.1:9092_group\n",
      "[7574]: 23-05-12 13:17:46.612 [INFO] aiokafka.consumer.group_coordinator: (Re-)joining group 127.0.0.1:9092_group\n",
      "[7572]: 23-05-12 13:17:46.612 [INFO] aiokafka.consumer.group_coordinator: Discovered coordinator 0 for group 127.0.0.1:9092_group\n",
      "[7572]: 23-05-12 13:17:46.612 [INFO] aiokafka.consumer.group_coordinator: (Re-)joining group 127.0.0.1:9092_group\n",
      "[7574]: 23-05-12 13:17:46.613 [WARNING] aiokafka.consumer.group_coordinator: Marking the coordinator dead (node 0)for group 127.0.0.1:9092_group.\n",
      "[7572]: 23-05-12 13:17:46.613 [WARNING] aiokafka.consumer.group_coordinator: Marking the coordinator dead (node 0)for group 127.0.0.1:9092_group.\n",
      "[7574]: 23-05-12 13:17:46.614 [WARNING] aiokafka.consumer.group_coordinator: Marking the coordinator dead (node 0)for group 127.0.0.1:9092_group.\n",
      "[7572]: 23-05-12 13:17:46.614 [WARNING] aiokafka.consumer.group_coordinator: Marking the coordinator dead (node 0)for group 127.0.0.1:9092_group.\n",
      "[7572]: 23-05-12 13:17:46.717 [INFO] aiokafka.consumer.group_coordinator: Discovered coordinator 0 for group 127.0.0.1:9092_group\n",
      "[7572]: 23-05-12 13:17:46.717 [INFO] aiokafka.consumer.group_coordinator: (Re-)joining group 127.0.0.1:9092_group\n",
      "[7574]: 23-05-12 13:17:46.717 [INFO] aiokafka.consumer.group_coordinator: Discovered coordinator 0 for group 127.0.0.1:9092_group\n",
      "[7574]: 23-05-12 13:17:46.717 [INFO] aiokafka.consumer.group_coordinator: (Re-)joining group 127.0.0.1:9092_group\n",
      "[7574]: 23-05-12 13:17:46.717 [INFO] aiokafka.consumer.group_coordinator: Discovered coordinator 0 for group 127.0.0.1:9092_group\n",
      "[7574]: 23-05-12 13:17:46.717 [INFO] aiokafka.consumer.group_coordinator: (Re-)joining group 127.0.0.1:9092_group\n",
      "[7572]: 23-05-12 13:17:46.717 [INFO] aiokafka.consumer.group_coordinator: Discovered coordinator 0 for group 127.0.0.1:9092_group\n",
      "[7572]: 23-05-12 13:17:46.717 [INFO] aiokafka.consumer.group_coordinator: (Re-)joining group 127.0.0.1:9092_group\n",
      "[7572]: 23-05-12 13:17:46.718 [WARNING] aiokafka.consumer.group_coordinator: Marking the coordinator dead (node 0)for group 127.0.0.1:9092_group.\n",
      "[7574]: 23-05-12 13:17:46.718 [WARNING] aiokafka.consumer.group_coordinator: Marking the coordinator dead (node 0)for group 127.0.0.1:9092_group.\n",
      "[7574]: 23-05-12 13:17:46.718 [WARNING] aiokafka.consumer.group_coordinator: Marking the coordinator dead (node 0)for group 127.0.0.1:9092_group.\n",
      "[7572]: 23-05-12 13:17:46.718 [WARNING] aiokafka.consumer.group_coordinator: Marking the coordinator dead (node 0)for group 127.0.0.1:9092_group.\n",
      "[7574]: 23-05-12 13:17:46.821 [INFO] aiokafka.consumer.group_coordinator: Discovered coordinator 0 for group 127.0.0.1:9092_group\n",
      "[7574]: 23-05-12 13:17:46.821 [INFO] aiokafka.consumer.group_coordinator: (Re-)joining group 127.0.0.1:9092_group\n",
      "[7574]: 23-05-12 13:17:46.821 [INFO] aiokafka.consumer.group_coordinator: Discovered coordinator 0 for group 127.0.0.1:9092_group\n",
      "[7574]: 23-05-12 13:17:46.821 [INFO] aiokafka.consumer.group_coordinator: (Re-)joining group 127.0.0.1:9092_group\n",
      "[7572]: 23-05-12 13:17:46.821 [INFO] aiokafka.consumer.group_coordinator: Discovered coordinator 0 for group 127.0.0.1:9092_group\n",
      "[7572]: 23-05-12 13:17:46.821 [INFO] aiokafka.consumer.group_coordinator: (Re-)joining group 127.0.0.1:9092_group\n",
      "[7572]: 23-05-12 13:17:46.822 [INFO] aiokafka.consumer.group_coordinator: Discovered coordinator 0 for group 127.0.0.1:9092_group\n",
      "[7574]: 23-05-12 13:17:46.822 [WARNING] aiokafka.consumer.group_coordinator: Marking the coordinator dead (node 0)for group 127.0.0.1:9092_group.\n",
      "[7572]: 23-05-12 13:17:46.822 [INFO] aiokafka.consumer.group_coordinator: (Re-)joining group 127.0.0.1:9092_group\n",
      "[7574]: 23-05-12 13:17:46.822 [WARNING] aiokafka.consumer.group_coordinator: Marking the coordinator dead (node 0)for group 127.0.0.1:9092_group.\n",
      "[7572]: 23-05-12 13:17:46.822 [WARNING] aiokafka.consumer.group_coordinator: Marking the coordinator dead (node 0)for group 127.0.0.1:9092_group.\n",
      "[7572]: 23-05-12 13:17:46.822 [WARNING] aiokafka.consumer.group_coordinator: Marking the coordinator dead (node 0)for group 127.0.0.1:9092_group.\n",
      "[7574]: 23-05-12 13:17:46.925 [INFO] aiokafka.consumer.group_coordinator: Discovered coordinator 0 for group 127.0.0.1:9092_group\n",
      "[7574]: 23-05-12 13:17:46.926 [INFO] aiokafka.consumer.group_coordinator: (Re-)joining group 127.0.0.1:9092_group\n",
      "[7572]: 23-05-12 13:17:46.925 [INFO] aiokafka.consumer.group_coordinator: Discovered coordinator 0 for group 127.0.0.1:9092_group\n",
      "[7572]: 23-05-12 13:17:46.926 [INFO] aiokafka.consumer.group_coordinator: (Re-)joining group 127.0.0.1:9092_group\n",
      "[7574]: 23-05-12 13:17:46.926 [INFO] aiokafka.consumer.group_coordinator: Discovered coordinator 0 for group 127.0.0.1:9092_group\n",
      "[7574]: 23-05-12 13:17:46.926 [INFO] aiokafka.consumer.group_coordinator: (Re-)joining group 127.0.0.1:9092_group\n",
      "[7572]: 23-05-12 13:17:46.926 [INFO] aiokafka.consumer.group_coordinator: Discovered coordinator 0 for group 127.0.0.1:9092_group\n",
      "[7572]: 23-05-12 13:17:46.926 [INFO] aiokafka.consumer.group_coordinator: (Re-)joining group 127.0.0.1:9092_group\n",
      "[7574]: 23-05-12 13:17:46.926 [WARNING] aiokafka.consumer.group_coordinator: Marking the coordinator dead (node 0)for group 127.0.0.1:9092_group.\n",
      "[7572]: 23-05-12 13:17:46.926 [WARNING] aiokafka.consumer.group_coordinator: Marking the coordinator dead (node 0)for group 127.0.0.1:9092_group.\n",
      "[7572]: 23-05-12 13:17:46.927 [WARNING] aiokafka.consumer.group_coordinator: Marking the coordinator dead (node 0)for group 127.0.0.1:9092_group.\n",
      "[7574]: 23-05-12 13:17:46.927 [WARNING] aiokafka.consumer.group_coordinator: Marking the coordinator dead (node 0)for group 127.0.0.1:9092_group.\n",
      "[7574]: 23-05-12 13:17:47.029 [INFO] aiokafka.consumer.group_coordinator: Discovered coordinator 0 for group 127.0.0.1:9092_group\n",
      "[7574]: 23-05-12 13:17:47.029 [INFO] aiokafka.consumer.group_coordinator: (Re-)joining group 127.0.0.1:9092_group\n",
      "[7572]: 23-05-12 13:17:47.029 [INFO] aiokafka.consumer.group_coordinator: Discovered coordinator 0 for group 127.0.0.1:9092_group\n",
      "[7572]: 23-05-12 13:17:47.029 [INFO] aiokafka.consumer.group_coordinator: (Re-)joining group 127.0.0.1:9092_group\n",
      "[7574]: 23-05-12 13:17:47.029 [INFO] aiokafka.consumer.group_coordinator: Discovered coordinator 0 for group 127.0.0.1:9092_group\n",
      "[7574]: 23-05-12 13:17:47.029 [INFO] aiokafka.consumer.group_coordinator: (Re-)joining group 127.0.0.1:9092_group\n",
      "[7572]: 23-05-12 13:17:47.029 [INFO] aiokafka.consumer.group_coordinator: Discovered coordinator 0 for group 127.0.0.1:9092_group\n",
      "[7572]: 23-05-12 13:17:47.029 [INFO] aiokafka.consumer.group_coordinator: (Re-)joining group 127.0.0.1:9092_group\n",
      "[7572]: 23-05-12 13:17:47.030 [WARNING] aiokafka.consumer.group_coordinator: Marking the coordinator dead (node 0)for group 127.0.0.1:9092_group.\n",
      "[7574]: 23-05-12 13:17:47.030 [WARNING] aiokafka.consumer.group_coordinator: Marking the coordinator dead (node 0)for group 127.0.0.1:9092_group.\n",
      "[7574]: 23-05-12 13:17:47.030 [WARNING] aiokafka.consumer.group_coordinator: Marking the coordinator dead (node 0)for group 127.0.0.1:9092_group.\n",
      "[7572]: 23-05-12 13:17:47.030 [WARNING] aiokafka.consumer.group_coordinator: Marking the coordinator dead (node 0)for group 127.0.0.1:9092_group.\n",
      "[7572]: 23-05-12 13:17:47.133 [INFO] aiokafka.consumer.group_coordinator: Discovered coordinator 0 for group 127.0.0.1:9092_group\n",
      "[7572]: 23-05-12 13:17:47.133 [INFO] aiokafka.consumer.group_coordinator: (Re-)joining group 127.0.0.1:9092_group\n",
      "[7574]: 23-05-12 13:17:47.133 [INFO] aiokafka.consumer.group_coordinator: Discovered coordinator 0 for group 127.0.0.1:9092_group\n",
      "[7574]: 23-05-12 13:17:47.133 [INFO] aiokafka.consumer.group_coordinator: (Re-)joining group 127.0.0.1:9092_group\n",
      "[7572]: 23-05-12 13:17:47.133 [INFO] aiokafka.consumer.group_coordinator: Discovered coordinator 0 for group 127.0.0.1:9092_group\n",
      "[7572]: 23-05-12 13:17:47.133 [INFO] aiokafka.consumer.group_coordinator: (Re-)joining group 127.0.0.1:9092_group\n",
      "[7574]: 23-05-12 13:17:47.133 [INFO] aiokafka.consumer.group_coordinator: Discovered coordinator 0 for group 127.0.0.1:9092_group\n",
      "[7574]: 23-05-12 13:17:47.133 [INFO] aiokafka.consumer.group_coordinator: (Re-)joining group 127.0.0.1:9092_group\n",
      "[7572]: 23-05-12 13:17:47.134 [WARNING] aiokafka.consumer.group_coordinator: Marking the coordinator dead (node 0)for group 127.0.0.1:9092_group.\n",
      "[7574]: 23-05-12 13:17:47.134 [WARNING] aiokafka.consumer.group_coordinator: Marking the coordinator dead (node 0)for group 127.0.0.1:9092_group.\n",
      "[7572]: 23-05-12 13:17:47.134 [WARNING] aiokafka.consumer.group_coordinator: Marking the coordinator dead (node 0)for group 127.0.0.1:9092_group.\n",
      "[7574]: 23-05-12 13:17:47.134 [WARNING] aiokafka.consumer.group_coordinator: Marking the coordinator dead (node 0)for group 127.0.0.1:9092_group.\n",
      "[7574]: 23-05-12 13:17:47.236 [INFO] aiokafka.consumer.group_coordinator: Discovered coordinator 0 for group 127.0.0.1:9092_group\n",
      "[7574]: 23-05-12 13:17:47.236 [INFO] aiokafka.consumer.group_coordinator: (Re-)joining group 127.0.0.1:9092_group\n",
      "[7572]: 23-05-12 13:17:47.236 [INFO] aiokafka.consumer.group_coordinator: Discovered coordinator 0 for group 127.0.0.1:9092_group\n",
      "[7572]: 23-05-12 13:17:47.236 [INFO] aiokafka.consumer.group_coordinator: (Re-)joining group 127.0.0.1:9092_group\n",
      "[7574]: 23-05-12 13:17:47.237 [INFO] aiokafka.consumer.group_coordinator: Discovered coordinator 0 for group 127.0.0.1:9092_group\n",
      "[7574]: 23-05-12 13:17:47.237 [INFO] aiokafka.consumer.group_coordinator: (Re-)joining group 127.0.0.1:9092_group\n",
      "[7572]: 23-05-12 13:17:47.237 [INFO] aiokafka.consumer.group_coordinator: Discovered coordinator 0 for group 127.0.0.1:9092_group\n",
      "[7572]: 23-05-12 13:17:47.237 [INFO] aiokafka.consumer.group_coordinator: (Re-)joining group 127.0.0.1:9092_group\n",
      "[7572]: 23-05-12 13:17:47.237 [WARNING] aiokafka.consumer.group_coordinator: Marking the coordinator dead (node 0)for group 127.0.0.1:9092_group.\n",
      "[7574]: 23-05-12 13:17:47.237 [WARNING] aiokafka.consumer.group_coordinator: Marking the coordinator dead (node 0)for group 127.0.0.1:9092_group.\n",
      "[7572]: 23-05-12 13:17:47.237 [WARNING] aiokafka.consumer.group_coordinator: Marking the coordinator dead (node 0)for group 127.0.0.1:9092_group.\n",
      "[7574]: 23-05-12 13:17:47.237 [WARNING] aiokafka.consumer.group_coordinator: Marking the coordinator dead (node 0)for group 127.0.0.1:9092_group.\n",
      "[7574]: 23-05-12 13:17:47.341 [INFO] aiokafka.consumer.group_coordinator: Discovered coordinator 0 for group 127.0.0.1:9092_group\n",
      "[7574]: 23-05-12 13:17:47.341 [INFO] aiokafka.consumer.group_coordinator: (Re-)joining group 127.0.0.1:9092_group\n",
      "[7572]: 23-05-12 13:17:47.341 [INFO] aiokafka.consumer.group_coordinator: Discovered coordinator 0 for group 127.0.0.1:9092_group\n",
      "[7572]: 23-05-12 13:17:47.341 [INFO] aiokafka.consumer.group_coordinator: (Re-)joining group 127.0.0.1:9092_group\n",
      "[7574]: 23-05-12 13:17:47.341 [INFO] aiokafka.consumer.group_coordinator: Discovered coordinator 0 for group 127.0.0.1:9092_group\n",
      "[7574]: 23-05-12 13:17:47.341 [INFO] aiokafka.consumer.group_coordinator: (Re-)joining group 127.0.0.1:9092_group\n",
      "[7572]: 23-05-12 13:17:47.341 [INFO] aiokafka.consumer.group_coordinator: Discovered coordinator 0 for group 127.0.0.1:9092_group\n",
      "[7572]: 23-05-12 13:17:47.341 [INFO] aiokafka.consumer.group_coordinator: (Re-)joining group 127.0.0.1:9092_group\n",
      "[7572]: 23-05-12 13:17:47.342 [WARNING] aiokafka.consumer.group_coordinator: Marking the coordinator dead (node 0)for group 127.0.0.1:9092_group.\n",
      "[7574]: 23-05-12 13:17:47.342 [WARNING] aiokafka.consumer.group_coordinator: Marking the coordinator dead (node 0)for group 127.0.0.1:9092_group.\n",
      "[7572]: 23-05-12 13:17:47.342 [WARNING] aiokafka.consumer.group_coordinator: Marking the coordinator dead (node 0)for group 127.0.0.1:9092_group.\n",
      "[7574]: 23-05-12 13:17:47.342 [WARNING] aiokafka.consumer.group_coordinator: Marking the coordinator dead (node 0)for group 127.0.0.1:9092_group.\n",
      "[7574]: 23-05-12 13:17:47.445 [INFO] aiokafka.consumer.group_coordinator: Discovered coordinator 0 for group 127.0.0.1:9092_group\n",
      "[7574]: 23-05-12 13:17:47.445 [INFO] aiokafka.consumer.group_coordinator: (Re-)joining group 127.0.0.1:9092_group\n",
      "[7574]: 23-05-12 13:17:47.445 [INFO] aiokafka.consumer.group_coordinator: Discovered coordinator 0 for group 127.0.0.1:9092_group\n",
      "[7574]: 23-05-12 13:17:47.445 [INFO] aiokafka.consumer.group_coordinator: (Re-)joining group 127.0.0.1:9092_group\n",
      "[7572]: 23-05-12 13:17:47.445 [INFO] aiokafka.consumer.group_coordinator: Discovered coordinator 0 for group 127.0.0.1:9092_group\n",
      "[7572]: 23-05-12 13:17:47.445 [INFO] aiokafka.consumer.group_coordinator: (Re-)joining group 127.0.0.1:9092_group\n",
      "[7572]: 23-05-12 13:17:47.445 [INFO] aiokafka.consumer.group_coordinator: Discovered coordinator 0 for group 127.0.0.1:9092_group\n",
      "[7572]: 23-05-12 13:17:47.445 [INFO] aiokafka.consumer.group_coordinator: (Re-)joining group 127.0.0.1:9092_group\n",
      "[7574]: 23-05-12 13:17:47.445 [WARNING] aiokafka.consumer.group_coordinator: Marking the coordinator dead (node 0)for group 127.0.0.1:9092_group.\n",
      "[7572]: 23-05-12 13:17:47.446 [WARNING] aiokafka.consumer.group_coordinator: Marking the coordinator dead (node 0)for group 127.0.0.1:9092_group.\n",
      "[7574]: 23-05-12 13:17:47.446 [WARNING] aiokafka.consumer.group_coordinator: Marking the coordinator dead (node 0)for group 127.0.0.1:9092_group.\n",
      "[7572]: 23-05-12 13:17:47.446 [WARNING] aiokafka.consumer.group_coordinator: Marking the coordinator dead (node 0)for group 127.0.0.1:9092_group.\n",
      "[7574]: 23-05-12 13:17:47.549 [INFO] aiokafka.consumer.group_coordinator: Discovered coordinator 0 for group 127.0.0.1:9092_group\n",
      "[7574]: 23-05-12 13:17:47.549 [INFO] aiokafka.consumer.group_coordinator: (Re-)joining group 127.0.0.1:9092_group\n",
      "[7572]: 23-05-12 13:17:47.549 [INFO] aiokafka.consumer.group_coordinator: Discovered coordinator 0 for group 127.0.0.1:9092_group\n",
      "[7572]: 23-05-12 13:17:47.549 [INFO] aiokafka.consumer.group_coordinator: (Re-)joining group 127.0.0.1:9092_group\n",
      "[7572]: 23-05-12 13:17:47.549 [INFO] aiokafka.consumer.group_coordinator: Discovered coordinator 0 for group 127.0.0.1:9092_group\n",
      "[7572]: 23-05-12 13:17:47.549 [INFO] aiokafka.consumer.group_coordinator: (Re-)joining group 127.0.0.1:9092_group\n",
      "[7574]: 23-05-12 13:17:47.549 [INFO] aiokafka.consumer.group_coordinator: Discovered coordinator 0 for group 127.0.0.1:9092_group\n",
      "[7574]: 23-05-12 13:17:47.549 [INFO] aiokafka.consumer.group_coordinator: (Re-)joining group 127.0.0.1:9092_group\n",
      "[7572]: 23-05-12 13:17:47.550 [WARNING] aiokafka.consumer.group_coordinator: Marking the coordinator dead (node 0)for group 127.0.0.1:9092_group.\n",
      "[7574]: 23-05-12 13:17:47.550 [WARNING] aiokafka.consumer.group_coordinator: Marking the coordinator dead (node 0)for group 127.0.0.1:9092_group.\n",
      "[7572]: 23-05-12 13:17:47.550 [WARNING] aiokafka.consumer.group_coordinator: Marking the coordinator dead (node 0)for group 127.0.0.1:9092_group.\n",
      "[7574]: 23-05-12 13:17:47.550 [WARNING] aiokafka.consumer.group_coordinator: Marking the coordinator dead (node 0)for group 127.0.0.1:9092_group.\n",
      "[7574]: 23-05-12 13:17:47.652 [INFO] aiokafka.consumer.group_coordinator: Discovered coordinator 0 for group 127.0.0.1:9092_group\n",
      "[7574]: 23-05-12 13:17:47.652 [INFO] aiokafka.consumer.group_coordinator: (Re-)joining group 127.0.0.1:9092_group\n",
      "[7572]: 23-05-12 13:17:47.652 [INFO] aiokafka.consumer.group_coordinator: Discovered coordinator 0 for group 127.0.0.1:9092_group\n",
      "[7572]: 23-05-12 13:17:47.652 [INFO] aiokafka.consumer.group_coordinator: (Re-)joining group 127.0.0.1:9092_group\n",
      "[7574]: 23-05-12 13:17:47.653 [INFO] aiokafka.consumer.group_coordinator: Discovered coordinator 0 for group 127.0.0.1:9092_group\n",
      "[7574]: 23-05-12 13:17:47.653 [INFO] aiokafka.consumer.group_coordinator: (Re-)joining group 127.0.0.1:9092_group\n",
      "[7572]: 23-05-12 13:17:47.653 [INFO] aiokafka.consumer.group_coordinator: Discovered coordinator 0 for group 127.0.0.1:9092_group\n",
      "[7572]: 23-05-12 13:17:47.653 [INFO] aiokafka.consumer.group_coordinator: (Re-)joining group 127.0.0.1:9092_group\n",
      "[7572]: 23-05-12 13:17:47.653 [WARNING] aiokafka.consumer.group_coordinator: Marking the coordinator dead (node 0)for group 127.0.0.1:9092_group.\n",
      "[7574]: 23-05-12 13:17:47.653 [WARNING] aiokafka.consumer.group_coordinator: Marking the coordinator dead (node 0)for group 127.0.0.1:9092_group.\n",
      "[7572]: 23-05-12 13:17:47.653 [WARNING] aiokafka.consumer.group_coordinator: Marking the coordinator dead (node 0)for group 127.0.0.1:9092_group.\n",
      "[7574]: 23-05-12 13:17:47.653 [WARNING] aiokafka.consumer.group_coordinator: Marking the coordinator dead (node 0)for group 127.0.0.1:9092_group.\n",
      "[7574]: 23-05-12 13:17:47.756 [INFO] aiokafka.consumer.group_coordinator: Discovered coordinator 0 for group 127.0.0.1:9092_group\n",
      "[7574]: 23-05-12 13:17:47.756 [INFO] aiokafka.consumer.group_coordinator: (Re-)joining group 127.0.0.1:9092_group\n",
      "[7572]: 23-05-12 13:17:47.756 [INFO] aiokafka.consumer.group_coordinator: Discovered coordinator 0 for group 127.0.0.1:9092_group\n",
      "[7572]: 23-05-12 13:17:47.756 [INFO] aiokafka.consumer.group_coordinator: (Re-)joining group 127.0.0.1:9092_group\n",
      "[7574]: 23-05-12 13:17:47.756 [INFO] aiokafka.consumer.group_coordinator: Discovered coordinator 0 for group 127.0.0.1:9092_group\n",
      "[7574]: 23-05-12 13:17:47.756 [INFO] aiokafka.consumer.group_coordinator: (Re-)joining group 127.0.0.1:9092_group\n",
      "[7572]: 23-05-12 13:17:47.756 [INFO] aiokafka.consumer.group_coordinator: Discovered coordinator 0 for group 127.0.0.1:9092_group\n",
      "[7572]: 23-05-12 13:17:47.756 [INFO] aiokafka.consumer.group_coordinator: (Re-)joining group 127.0.0.1:9092_group\n",
      "[7574]: 23-05-12 13:17:47.757 [WARNING] aiokafka.consumer.group_coordinator: Marking the coordinator dead (node 0)for group 127.0.0.1:9092_group.\n",
      "[7572]: 23-05-12 13:17:47.757 [WARNING] aiokafka.consumer.group_coordinator: Marking the coordinator dead (node 0)for group 127.0.0.1:9092_group.\n",
      "[7574]: 23-05-12 13:17:47.757 [WARNING] aiokafka.consumer.group_coordinator: Marking the coordinator dead (node 0)for group 127.0.0.1:9092_group.\n",
      "[7572]: 23-05-12 13:17:47.757 [WARNING] aiokafka.consumer.group_coordinator: Marking the coordinator dead (node 0)for group 127.0.0.1:9092_group.\n",
      "[7574]: 23-05-12 13:17:47.859 [INFO] aiokafka.consumer.group_coordinator: Discovered coordinator 0 for group 127.0.0.1:9092_group\n",
      "[7574]: 23-05-12 13:17:47.859 [INFO] aiokafka.consumer.group_coordinator: (Re-)joining group 127.0.0.1:9092_group\n",
      "[7572]: 23-05-12 13:17:47.859 [INFO] aiokafka.consumer.group_coordinator: Discovered coordinator 0 for group 127.0.0.1:9092_group\n",
      "[7572]: 23-05-12 13:17:47.859 [INFO] aiokafka.consumer.group_coordinator: (Re-)joining group 127.0.0.1:9092_group\n",
      "[7574]: 23-05-12 13:17:47.859 [INFO] aiokafka.consumer.group_coordinator: Discovered coordinator 0 for group 127.0.0.1:9092_group\n",
      "[7572]: 23-05-12 13:17:47.859 [INFO] aiokafka.consumer.group_coordinator: Discovered coordinator 0 for group 127.0.0.1:9092_group\n",
      "[7574]: 23-05-12 13:17:47.859 [INFO] aiokafka.consumer.group_coordinator: (Re-)joining group 127.0.0.1:9092_group\n",
      "[7572]: 23-05-12 13:17:47.859 [INFO] aiokafka.consumer.group_coordinator: (Re-)joining group 127.0.0.1:9092_group\n",
      "[7574]: 23-05-12 13:17:47.860 [WARNING] aiokafka.consumer.group_coordinator: Marking the coordinator dead (node 0)for group 127.0.0.1:9092_group.\n",
      "[7574]: 23-05-12 13:17:47.860 [WARNING] aiokafka.consumer.group_coordinator: Marking the coordinator dead (node 0)for group 127.0.0.1:9092_group.\n",
      "[7572]: 23-05-12 13:17:47.860 [WARNING] aiokafka.consumer.group_coordinator: Marking the coordinator dead (node 0)for group 127.0.0.1:9092_group.\n",
      "[7572]: 23-05-12 13:17:47.860 [WARNING] aiokafka.consumer.group_coordinator: Marking the coordinator dead (node 0)for group 127.0.0.1:9092_group.\n",
      "[7574]: 23-05-12 13:17:47.961 [INFO] aiokafka.consumer.group_coordinator: Discovered coordinator 0 for group 127.0.0.1:9092_group\n",
      "[7574]: 23-05-12 13:17:47.962 [INFO] aiokafka.consumer.group_coordinator: (Re-)joining group 127.0.0.1:9092_group\n",
      "[7574]: 23-05-12 13:17:47.962 [INFO] aiokafka.consumer.group_coordinator: Discovered coordinator 0 for group 127.0.0.1:9092_group\n",
      "[7574]: 23-05-12 13:17:47.962 [INFO] aiokafka.consumer.group_coordinator: (Re-)joining group 127.0.0.1:9092_group\n",
      "[7572]: 23-05-12 13:17:47.962 [INFO] aiokafka.consumer.group_coordinator: Discovered coordinator 0 for group 127.0.0.1:9092_group\n",
      "[7572]: 23-05-12 13:17:47.962 [INFO] aiokafka.consumer.group_coordinator: (Re-)joining group 127.0.0.1:9092_group\n",
      "[7572]: 23-05-12 13:17:47.963 [INFO] aiokafka.consumer.group_coordinator: Discovered coordinator 0 for group 127.0.0.1:9092_group\n",
      "[7572]: 23-05-12 13:17:47.963 [INFO] aiokafka.consumer.group_coordinator: (Re-)joining group 127.0.0.1:9092_group\n",
      "[7572]: 23-05-12 13:17:47.993 [INFO] aiokafka.consumer.group_coordinator: Joined group '127.0.0.1:9092_group' (generation 1) with member_id aiokafka-0.8.0-7602812a-8614-47dc-829a-113240aac110\n",
      "[7572]: 23-05-12 13:17:47.993 [INFO] aiokafka.consumer.group_coordinator: Joined group '127.0.0.1:9092_group' (generation 1) with member_id aiokafka-0.8.0-cee7a3ec-11a9-4503-81af-928b5841f388\n",
      "[7574]: 23-05-12 13:17:47.995 [INFO] aiokafka.consumer.group_coordinator: Joined group '127.0.0.1:9092_group' (generation 1) with member_id aiokafka-0.8.0-3a5ef4fe-abdc-479a-a4e2-0dc57838cd0f\n",
      "[7574]: 23-05-12 13:17:47.995 [INFO] aiokafka.consumer.group_coordinator: Elected group leader -- performing partition assignments using roundrobin\n",
      "[7574]: 23-05-12 13:17:47.996 [INFO] aiokafka.consumer.group_coordinator: Joined group '127.0.0.1:9092_group' (generation 1) with member_id aiokafka-0.8.0-8f9cb8f1-281b-4dde-974a-49add24bd673\n",
      "[7574]: 23-05-12 13:17:47.997 [INFO] aiokafka.consumer.group_coordinator: Metadata for topic has changed from {} to {'realitime_data': 1, 'training_data': 1}. \n",
      "[7572]: 23-05-12 13:17:48.032 [INFO] aiokafka.consumer.group_coordinator: Successfully synced group 127.0.0.1:9092_group with generation 1\n",
      "[7572]: 23-05-12 13:17:48.032 [INFO] aiokafka.consumer.group_coordinator: Setting newly assigned partitions set() for group 127.0.0.1:9092_group\n",
      "[7572]: 23-05-12 13:17:48.033 [INFO] aiokafka.consumer.group_coordinator: Successfully synced group 127.0.0.1:9092_group with generation 1\n",
      "[7572]: 23-05-12 13:17:48.033 [INFO] aiokafka.consumer.group_coordinator: Setting newly assigned partitions set() for group 127.0.0.1:9092_group\n",
      "[7574]: 23-05-12 13:17:48.033 [INFO] aiokafka.consumer.group_coordinator: Successfully synced group 127.0.0.1:9092_group with generation 1\n",
      "[7574]: 23-05-12 13:17:48.034 [INFO] aiokafka.consumer.group_coordinator: Setting newly assigned partitions {TopicPartition(topic='realitime_data', partition=0)} for group 127.0.0.1:9092_group\n",
      "[7574]: 23-05-12 13:17:48.034 [INFO] aiokafka.consumer.group_coordinator: Successfully synced group 127.0.0.1:9092_group with generation 1\n",
      "[7574]: 23-05-12 13:17:48.034 [INFO] aiokafka.consumer.group_coordinator: Setting newly assigned partitions {TopicPartition(topic='training_data', partition=0)} for group 127.0.0.1:9092_group\n",
      "Starting process cleanup, this may take a few seconds...\n",
      "23-05-12 13:17:48.985 [INFO] fastkafka._server: terminate_asyncio_process(): Terminating the process 7572...\n",
      "23-05-12 13:17:48.986 [INFO] fastkafka._server: terminate_asyncio_process(): Terminating the process 7574...\n",
      "[7572]: 23-05-12 13:17:50.065 [INFO] aiokafka.consumer.group_coordinator: LeaveGroup request succeeded\n",
      "[7572]: 23-05-12 13:17:50.066 [INFO] fastkafka._components.aiokafka_consumer_loop: aiokafka_consumer_loop(): Consumer stopped.\n",
      "[7572]: 23-05-12 13:17:50.066 [INFO] fastkafka._components.aiokafka_consumer_loop: aiokafka_consumer_loop() finished.\n",
      "[7572]: 23-05-12 13:17:50.066 [INFO] aiokafka.consumer.group_coordinator: LeaveGroup request succeeded\n",
      "[7572]: 23-05-12 13:17:50.066 [INFO] fastkafka._components.aiokafka_consumer_loop: aiokafka_consumer_loop(): Consumer stopped.\n",
      "[7572]: 23-05-12 13:17:50.066 [INFO] fastkafka._components.aiokafka_consumer_loop: aiokafka_consumer_loop() finished.\n",
      "[7574]: 23-05-12 13:17:50.067 [INFO] aiokafka.consumer.group_coordinator: LeaveGroup request succeeded\n",
      "[7574]: 23-05-12 13:17:50.068 [INFO] fastkafka._components.aiokafka_consumer_loop: aiokafka_consumer_loop(): Consumer stopped.\n",
      "[7574]: 23-05-12 13:17:50.068 [INFO] fastkafka._components.aiokafka_consumer_loop: aiokafka_consumer_loop() finished.\n",
      "[7574]: 23-05-12 13:17:50.069 [INFO] aiokafka.consumer.group_coordinator: LeaveGroup request succeeded\n",
      "[7574]: 23-05-12 13:17:50.070 [INFO] fastkafka._components.aiokafka_consumer_loop: aiokafka_consumer_loop(): Consumer stopped.\n",
      "[7574]: 23-05-12 13:17:50.070 [INFO] fastkafka._components.aiokafka_consumer_loop: aiokafka_consumer_loop() finished.\n",
      "23-05-12 13:17:50.160 [INFO] fastkafka._server: terminate_asyncio_process(): Process 7572 terminated.\n",
      "23-05-12 13:17:50.164 [INFO] fastkafka._server: terminate_asyncio_process(): Process 7574 terminated.\n",
      "\n",
      "23-05-12 13:17:50.253 [INFO] fastkafka._components._subprocess: terminate_asyncio_process(): Terminating the process 6974...\n"
     ]
    },
    {
     "name": "stdout",
     "output_type": "stream",
     "text": [
      "23-05-12 13:17:52.008 [INFO] fastkafka._components._subprocess: terminate_asyncio_process(): Process 6974 terminated.\n",
      "23-05-12 13:17:52.009 [INFO] fastkafka._components._subprocess: terminate_asyncio_process(): Terminating the process 6595...\n",
      "23-05-12 13:17:53.355 [INFO] fastkafka._components._subprocess: terminate_asyncio_process(): Process 6595 terminated.\n"
     ]
    }
   ],
   "source": [
    "async with ApacheKafkaBroker() as bootstrap_server:\n",
    "    os.environ[\"KAFKA_HOSTNAME\"], os.environ[\"KAFKA_PORT\"] = bootstrap_server.split(\":\")\n",
    "\n",
    "    with generate_app_in_tmp() as app:\n",
    "        proc = await asyncio.create_subprocess_exec(\n",
    "            \"fastkafka\",\n",
    "            \"run\",\n",
    "            \"--num-workers\",\n",
    "            f\"{2}\",\n",
    "            \"--kafka-broker\",\n",
    "            \"localhost\",\n",
    "            app,\n",
    "            stdout=asyncio.subprocess.PIPE,\n",
    "        )\n",
    "        time.sleep(5)\n",
    "        await terminate_asyncio_process(proc)\n",
    "        outputs, errs = await proc.communicate()\n",
    "\n",
    "        print(outputs.decode(\"utf-8\"))\n",
    "        assert proc.returncode == 0, proc.returncode"
   ]
  },
  {
   "cell_type": "code",
   "execution_count": null,
   "id": "942f780d",
   "metadata": {},
   "outputs": [],
   "source": [
    "# | export\n",
    "\n",
    "\n",
    "_app.add_typer(_cli_docs._docs_app, name=\"docs\")"
   ]
  },
  {
   "cell_type": "code",
   "execution_count": null,
   "id": "5fc53859",
   "metadata": {},
   "outputs": [],
   "source": [
    "# | notest\n",
    "\n",
    "! nbdev_export"
   ]
  },
  {
   "cell_type": "code",
   "execution_count": null,
   "id": "557347c7",
   "metadata": {},
   "outputs": [
    {
     "data": {
      "text/html": [
       "<pre style=\"white-space:pre;overflow-x:auto;line-height:normal;font-family:Menlo,'DejaVu Sans Mono',consolas,'Courier New',monospace\"><span style=\"font-weight: bold\">                                                                                                                   </span>\n",
       "<span style=\"font-weight: bold\"> </span><span style=\"color: #808000; text-decoration-color: #808000; font-weight: bold\">Usage: </span><span style=\"font-weight: bold\">root docs install_deps [OPTIONS]                                                                           </span>\n",
       "<span style=\"font-weight: bold\">                                                                                                                   </span>\n",
       "</pre>\n"
      ],
      "text/plain": [
       "\u001b[1m                                                                                                                   \u001b[0m\n",
       "\u001b[1m \u001b[0m\u001b[1;33mUsage: \u001b[0m\u001b[1mroot docs install_deps [OPTIONS]\u001b[0m\u001b[1m                                                                          \u001b[0m\u001b[1m \u001b[0m\n",
       "\u001b[1m                                                                                                                   \u001b[0m\n"
      ]
     },
     "metadata": {},
     "output_type": "display_data"
    },
    {
     "data": {
      "text/html": [
       "<pre style=\"white-space:pre;overflow-x:auto;line-height:normal;font-family:Menlo,'DejaVu Sans Mono',consolas,'Courier New',monospace\"> Installs dependencies for FastKafka documentation generation                                                      \n",
       "                                                                                                                   \n",
       "</pre>\n"
      ],
      "text/plain": [
       " Installs dependencies for FastKafka documentation generation                                                      \n",
       "                                                                                                                   \n"
      ]
     },
     "metadata": {},
     "output_type": "display_data"
    },
    {
     "data": {
      "text/html": [
       "<pre style=\"white-space:pre;overflow-x:auto;line-height:normal;font-family:Menlo,'DejaVu Sans Mono',consolas,'Courier New',monospace\"><span style=\"color: #7f7f7f; text-decoration-color: #7f7f7f\">╭─ Options ───────────────────────────────────────────────────────────────────────────────────────────────────────╮</span>\n",
       "<span style=\"color: #7f7f7f; text-decoration-color: #7f7f7f\">│</span> <span style=\"color: #008080; text-decoration-color: #008080; font-weight: bold\">--help</span>          Show this message and exit.                                                                     <span style=\"color: #7f7f7f; text-decoration-color: #7f7f7f\">│</span>\n",
       "<span style=\"color: #7f7f7f; text-decoration-color: #7f7f7f\">╰─────────────────────────────────────────────────────────────────────────────────────────────────────────────────╯</span>\n",
       "</pre>\n"
      ],
      "text/plain": [
       "\u001b[2m╭─\u001b[0m\u001b[2m Options \u001b[0m\u001b[2m──────────────────────────────────────────────────────────────────────────────────────────────────────\u001b[0m\u001b[2m─╮\u001b[0m\n",
       "\u001b[2m│\u001b[0m \u001b[1;36m-\u001b[0m\u001b[1;36m-help\u001b[0m          Show this message and exit.                                                                     \u001b[2m│\u001b[0m\n",
       "\u001b[2m╰─────────────────────────────────────────────────────────────────────────────────────────────────────────────────╯\u001b[0m\n"
      ]
     },
     "metadata": {},
     "output_type": "display_data"
    }
   ],
   "source": [
    "result = runner.invoke(_app, [\"docs\", \"install_deps\", \"--help\"])"
   ]
  },
  {
   "cell_type": "code",
   "execution_count": null,
   "id": "7ed5d781",
   "metadata": {},
   "outputs": [
    {
     "name": "stdout",
     "output_type": "stream",
     "text": [
      "23-05-12 13:20:16.355 [INFO] fastkafka._components.docs_dependencies: AsyncAPI generator installed\n"
     ]
    }
   ],
   "source": [
    "result = runner.invoke(_app, [\"docs\", \"install_deps\"])\n",
    "assert result.exit_code == 0"
   ]
  },
  {
   "cell_type": "code",
   "execution_count": null,
   "id": "1cc8e68a",
   "metadata": {},
   "outputs": [
    {
     "data": {
      "text/html": [
       "<pre style=\"white-space:pre;overflow-x:auto;line-height:normal;font-family:Menlo,'DejaVu Sans Mono',consolas,'Courier New',monospace\"><span style=\"font-weight: bold\">                                                                                                                   </span>\n",
       "<span style=\"font-weight: bold\"> </span><span style=\"color: #808000; text-decoration-color: #808000; font-weight: bold\">Usage: </span><span style=\"font-weight: bold\">root docs generate [OPTIONS] APP                                                                           </span>\n",
       "<span style=\"font-weight: bold\">                                                                                                                   </span>\n",
       "</pre>\n"
      ],
      "text/plain": [
       "\u001b[1m                                                                                                                   \u001b[0m\n",
       "\u001b[1m \u001b[0m\u001b[1;33mUsage: \u001b[0m\u001b[1mroot docs generate [OPTIONS] APP\u001b[0m\u001b[1m                                                                          \u001b[0m\u001b[1m \u001b[0m\n",
       "\u001b[1m                                                                                                                   \u001b[0m\n"
      ]
     },
     "metadata": {},
     "output_type": "display_data"
    },
    {
     "data": {
      "text/html": [
       "<pre style=\"white-space:pre;overflow-x:auto;line-height:normal;font-family:Menlo,'DejaVu Sans Mono',consolas,'Courier New',monospace\"> Generates documentation for a FastKafka application                                                               \n",
       "                                                                                                                   \n",
       "</pre>\n"
      ],
      "text/plain": [
       " Generates documentation for a FastKafka application                                                               \n",
       "                                                                                                                   \n"
      ]
     },
     "metadata": {},
     "output_type": "display_data"
    },
    {
     "data": {
      "text/html": [
       "<pre style=\"white-space:pre;overflow-x:auto;line-height:normal;font-family:Menlo,'DejaVu Sans Mono',consolas,'Courier New',monospace\"><span style=\"color: #7f7f7f; text-decoration-color: #7f7f7f\">╭─ Arguments ─────────────────────────────────────────────────────────────────────────────────────────────────────╮</span>\n",
       "<span style=\"color: #7f7f7f; text-decoration-color: #7f7f7f\">│</span> <span style=\"color: #800000; text-decoration-color: #800000\">*</span>    app      <span style=\"color: #808000; text-decoration-color: #808000; font-weight: bold\">TEXT</span>  input in the form of 'path:app', where **path** is the path to a python file and **app** is <span style=\"color: #7f7f7f; text-decoration-color: #7f7f7f\">│</span>\n",
       "<span style=\"color: #7f7f7f; text-decoration-color: #7f7f7f\">│</span>                     an object of type **FastKafka**.                                                            <span style=\"color: #7f7f7f; text-decoration-color: #7f7f7f\">│</span>\n",
       "<span style=\"color: #7f7f7f; text-decoration-color: #7f7f7f\">│</span>                     <span style=\"color: #7f7f7f; text-decoration-color: #7f7f7f\">[default: None]                                                                            </span> <span style=\"color: #7f7f7f; text-decoration-color: #7f7f7f\">│</span>\n",
       "<span style=\"color: #7f7f7f; text-decoration-color: #7f7f7f\">│</span>                     <span style=\"color: #bf7f7f; text-decoration-color: #bf7f7f\">[required]                                                                                 </span> <span style=\"color: #7f7f7f; text-decoration-color: #7f7f7f\">│</span>\n",
       "<span style=\"color: #7f7f7f; text-decoration-color: #7f7f7f\">╰─────────────────────────────────────────────────────────────────────────────────────────────────────────────────╯</span>\n",
       "</pre>\n"
      ],
      "text/plain": [
       "\u001b[2m╭─\u001b[0m\u001b[2m Arguments \u001b[0m\u001b[2m────────────────────────────────────────────────────────────────────────────────────────────────────\u001b[0m\u001b[2m─╮\u001b[0m\n",
       "\u001b[2m│\u001b[0m \u001b[31m*\u001b[0m    app      \u001b[1;33mTEXT\u001b[0m  input in the form of 'path:app', where **path** is the path to a python file and **app** is \u001b[2m│\u001b[0m\n",
       "\u001b[2m│\u001b[0m                     an object of type **FastKafka**.                                                            \u001b[2m│\u001b[0m\n",
       "\u001b[2m│\u001b[0m                     \u001b[2m[default: None]                                                                            \u001b[0m \u001b[2m│\u001b[0m\n",
       "\u001b[2m│\u001b[0m                     \u001b[2;31m[required]                                                                                 \u001b[0m \u001b[2m│\u001b[0m\n",
       "\u001b[2m╰─────────────────────────────────────────────────────────────────────────────────────────────────────────────────╯\u001b[0m\n"
      ]
     },
     "metadata": {},
     "output_type": "display_data"
    },
    {
     "data": {
      "text/html": [
       "<pre style=\"white-space:pre;overflow-x:auto;line-height:normal;font-family:Menlo,'DejaVu Sans Mono',consolas,'Courier New',monospace\"><span style=\"color: #7f7f7f; text-decoration-color: #7f7f7f\">╭─ Options ───────────────────────────────────────────────────────────────────────────────────────────────────────╮</span>\n",
       "<span style=\"color: #7f7f7f; text-decoration-color: #7f7f7f\">│</span> <span style=\"color: #008080; text-decoration-color: #008080; font-weight: bold\">--root-path</span>        <span style=\"color: #808000; text-decoration-color: #808000; font-weight: bold\">TEXT</span>  root path under which documentation will be created <span style=\"color: #7f7f7f; text-decoration-color: #7f7f7f\">[default: .]</span>                       <span style=\"color: #7f7f7f; text-decoration-color: #7f7f7f\">│</span>\n",
       "<span style=\"color: #7f7f7f; text-decoration-color: #7f7f7f\">│</span> <span style=\"color: #008080; text-decoration-color: #008080; font-weight: bold\">--help</span>             <span style=\"color: #808000; text-decoration-color: #808000; font-weight: bold\">    </span>  Show this message and exit.                                                            <span style=\"color: #7f7f7f; text-decoration-color: #7f7f7f\">│</span>\n",
       "<span style=\"color: #7f7f7f; text-decoration-color: #7f7f7f\">╰─────────────────────────────────────────────────────────────────────────────────────────────────────────────────╯</span>\n",
       "</pre>\n"
      ],
      "text/plain": [
       "\u001b[2m╭─\u001b[0m\u001b[2m Options \u001b[0m\u001b[2m──────────────────────────────────────────────────────────────────────────────────────────────────────\u001b[0m\u001b[2m─╮\u001b[0m\n",
       "\u001b[2m│\u001b[0m \u001b[1;36m-\u001b[0m\u001b[1;36m-root\u001b[0m\u001b[1;36m-path\u001b[0m        \u001b[1;33mTEXT\u001b[0m  root path under which documentation will be created \u001b[2m[default: .]\u001b[0m                       \u001b[2m│\u001b[0m\n",
       "\u001b[2m│\u001b[0m \u001b[1;36m-\u001b[0m\u001b[1;36m-help\u001b[0m             \u001b[1;33m    \u001b[0m  Show this message and exit.                                                            \u001b[2m│\u001b[0m\n",
       "\u001b[2m╰─────────────────────────────────────────────────────────────────────────────────────────────────────────────────╯\u001b[0m\n"
      ]
     },
     "metadata": {},
     "output_type": "display_data"
    }
   ],
   "source": [
    "result = runner.invoke(_app, [\"docs\", \"generate\", \"--help\"])"
   ]
  },
  {
   "cell_type": "code",
   "execution_count": null,
   "id": "4a759342",
   "metadata": {},
   "outputs": [
    {
     "name": "stdout",
     "output_type": "stream",
     "text": [
      "23-05-12 13:20:20.521 [INFO] fastkafka._components.asyncapi: Old async specifications at '/tmp/tmpkb79wdd3/asyncapi/spec/asyncapi.yml' does not exist.\n",
      "23-05-12 13:20:20.532 [INFO] fastkafka._components.asyncapi: New async specifications generated at: '/tmp/tmpkb79wdd3/asyncapi/spec/asyncapi.yml'\n",
      "23-05-12 13:20:27.363 [INFO] fastkafka._components.asyncapi: Async docs generated at 'asyncapi/docs'\n",
      "23-05-12 13:20:27.363 [INFO] fastkafka._components.asyncapi: Output of '$ npx -y -p @asyncapi/generator ag asyncapi/spec/asyncapi.yml @asyncapi/html-template -o asyncapi/docs --force-write'\u001b[32m\n",
      "\n",
      "Done! ✨\u001b[0m\n",
      "\u001b[33mCheck out your shiny new generated files at \u001b[0m\u001b[35m/tmp/tmpkb79wdd3/asyncapi/docs\u001b[0m\u001b[33m.\u001b[0m\n",
      "\n",
      "\n",
      "\n",
      "\n"
     ]
    }
   ],
   "source": [
    "with generate_app_in_tmp() as import_str:\n",
    "    result = runner.invoke(_app, [\"docs\", \"generate\", import_str])\n",
    "    typer.echo(result.output)\n",
    "    assert result.exit_code == 0\n",
    "\n",
    "    result = runner.invoke(_app, [\"docs\", \"generate\", import_str])\n",
    "    typer.echo(result.output)\n",
    "    assert result.exit_code == 0"
   ]
  },
  {
   "cell_type": "code",
   "execution_count": null,
   "id": "e81b95fe",
   "metadata": {},
   "outputs": [
    {
     "data": {
      "text/html": [
       "<pre style=\"white-space:pre;overflow-x:auto;line-height:normal;font-family:Menlo,'DejaVu Sans Mono',consolas,'Courier New',monospace\"><span style=\"font-weight: bold\">                                                                                                                   </span>\n",
       "<span style=\"font-weight: bold\"> </span><span style=\"color: #808000; text-decoration-color: #808000; font-weight: bold\">Usage: </span><span style=\"font-weight: bold\">root docs serve [OPTIONS] APP                                                                              </span>\n",
       "<span style=\"font-weight: bold\">                                                                                                                   </span>\n",
       "</pre>\n"
      ],
      "text/plain": [
       "\u001b[1m                                                                                                                   \u001b[0m\n",
       "\u001b[1m \u001b[0m\u001b[1;33mUsage: \u001b[0m\u001b[1mroot docs serve [OPTIONS] APP\u001b[0m\u001b[1m                                                                             \u001b[0m\u001b[1m \u001b[0m\n",
       "\u001b[1m                                                                                                                   \u001b[0m\n"
      ]
     },
     "metadata": {},
     "output_type": "display_data"
    },
    {
     "data": {
      "text/html": [
       "<pre style=\"white-space:pre;overflow-x:auto;line-height:normal;font-family:Menlo,'DejaVu Sans Mono',consolas,'Courier New',monospace\"> Generates and serves documentation for a FastKafka application                                                    \n",
       "                                                                                                                   \n",
       "</pre>\n"
      ],
      "text/plain": [
       " Generates and serves documentation for a FastKafka application                                                    \n",
       "                                                                                                                   \n"
      ]
     },
     "metadata": {},
     "output_type": "display_data"
    },
    {
     "data": {
      "text/html": [
       "<pre style=\"white-space:pre;overflow-x:auto;line-height:normal;font-family:Menlo,'DejaVu Sans Mono',consolas,'Courier New',monospace\"><span style=\"color: #7f7f7f; text-decoration-color: #7f7f7f\">╭─ Arguments ─────────────────────────────────────────────────────────────────────────────────────────────────────╮</span>\n",
       "<span style=\"color: #7f7f7f; text-decoration-color: #7f7f7f\">│</span> <span style=\"color: #800000; text-decoration-color: #800000\">*</span>    app      <span style=\"color: #808000; text-decoration-color: #808000; font-weight: bold\">TEXT</span>  input in the form of 'path:app', where **path** is the path to a python file and **app** is <span style=\"color: #7f7f7f; text-decoration-color: #7f7f7f\">│</span>\n",
       "<span style=\"color: #7f7f7f; text-decoration-color: #7f7f7f\">│</span>                     an object of type **FastKafka**.                                                            <span style=\"color: #7f7f7f; text-decoration-color: #7f7f7f\">│</span>\n",
       "<span style=\"color: #7f7f7f; text-decoration-color: #7f7f7f\">│</span>                     <span style=\"color: #7f7f7f; text-decoration-color: #7f7f7f\">[default: None]                                                                            </span> <span style=\"color: #7f7f7f; text-decoration-color: #7f7f7f\">│</span>\n",
       "<span style=\"color: #7f7f7f; text-decoration-color: #7f7f7f\">│</span>                     <span style=\"color: #bf7f7f; text-decoration-color: #bf7f7f\">[required]                                                                                 </span> <span style=\"color: #7f7f7f; text-decoration-color: #7f7f7f\">│</span>\n",
       "<span style=\"color: #7f7f7f; text-decoration-color: #7f7f7f\">╰─────────────────────────────────────────────────────────────────────────────────────────────────────────────────╯</span>\n",
       "</pre>\n"
      ],
      "text/plain": [
       "\u001b[2m╭─\u001b[0m\u001b[2m Arguments \u001b[0m\u001b[2m────────────────────────────────────────────────────────────────────────────────────────────────────\u001b[0m\u001b[2m─╮\u001b[0m\n",
       "\u001b[2m│\u001b[0m \u001b[31m*\u001b[0m    app      \u001b[1;33mTEXT\u001b[0m  input in the form of 'path:app', where **path** is the path to a python file and **app** is \u001b[2m│\u001b[0m\n",
       "\u001b[2m│\u001b[0m                     an object of type **FastKafka**.                                                            \u001b[2m│\u001b[0m\n",
       "\u001b[2m│\u001b[0m                     \u001b[2m[default: None]                                                                            \u001b[0m \u001b[2m│\u001b[0m\n",
       "\u001b[2m│\u001b[0m                     \u001b[2;31m[required]                                                                                 \u001b[0m \u001b[2m│\u001b[0m\n",
       "\u001b[2m╰─────────────────────────────────────────────────────────────────────────────────────────────────────────────────╯\u001b[0m\n"
      ]
     },
     "metadata": {},
     "output_type": "display_data"
    },
    {
     "data": {
      "text/html": [
       "<pre style=\"white-space:pre;overflow-x:auto;line-height:normal;font-family:Menlo,'DejaVu Sans Mono',consolas,'Courier New',monospace\"><span style=\"color: #7f7f7f; text-decoration-color: #7f7f7f\">╭─ Options ───────────────────────────────────────────────────────────────────────────────────────────────────────╮</span>\n",
       "<span style=\"color: #7f7f7f; text-decoration-color: #7f7f7f\">│</span> <span style=\"color: #008080; text-decoration-color: #008080; font-weight: bold\">--root-path</span>        <span style=\"color: #808000; text-decoration-color: #808000; font-weight: bold\">TEXT   </span>  root path under which documentation will be created <span style=\"color: #7f7f7f; text-decoration-color: #7f7f7f\">[default: .]</span>                    <span style=\"color: #7f7f7f; text-decoration-color: #7f7f7f\">│</span>\n",
       "<span style=\"color: #7f7f7f; text-decoration-color: #7f7f7f\">│</span> <span style=\"color: #008080; text-decoration-color: #008080; font-weight: bold\">--bind</span>             <span style=\"color: #808000; text-decoration-color: #808000; font-weight: bold\">TEXT   </span>  Some info <span style=\"color: #7f7f7f; text-decoration-color: #7f7f7f\">[default: 127.0.0.1]</span>                                                      <span style=\"color: #7f7f7f; text-decoration-color: #7f7f7f\">│</span>\n",
       "<span style=\"color: #7f7f7f; text-decoration-color: #7f7f7f\">│</span> <span style=\"color: #008080; text-decoration-color: #008080; font-weight: bold\">--port</span>             <span style=\"color: #808000; text-decoration-color: #808000; font-weight: bold\">INTEGER</span>  Some info <span style=\"color: #7f7f7f; text-decoration-color: #7f7f7f\">[default: 8000]</span>                                                           <span style=\"color: #7f7f7f; text-decoration-color: #7f7f7f\">│</span>\n",
       "<span style=\"color: #7f7f7f; text-decoration-color: #7f7f7f\">│</span> <span style=\"color: #008080; text-decoration-color: #008080; font-weight: bold\">--help</span>             <span style=\"color: #808000; text-decoration-color: #808000; font-weight: bold\">       </span>  Show this message and exit.                                                         <span style=\"color: #7f7f7f; text-decoration-color: #7f7f7f\">│</span>\n",
       "<span style=\"color: #7f7f7f; text-decoration-color: #7f7f7f\">╰─────────────────────────────────────────────────────────────────────────────────────────────────────────────────╯</span>\n",
       "</pre>\n"
      ],
      "text/plain": [
       "\u001b[2m╭─\u001b[0m\u001b[2m Options \u001b[0m\u001b[2m──────────────────────────────────────────────────────────────────────────────────────────────────────\u001b[0m\u001b[2m─╮\u001b[0m\n",
       "\u001b[2m│\u001b[0m \u001b[1;36m-\u001b[0m\u001b[1;36m-root\u001b[0m\u001b[1;36m-path\u001b[0m        \u001b[1;33mTEXT   \u001b[0m  root path under which documentation will be created \u001b[2m[default: .]\u001b[0m                    \u001b[2m│\u001b[0m\n",
       "\u001b[2m│\u001b[0m \u001b[1;36m-\u001b[0m\u001b[1;36m-bind\u001b[0m             \u001b[1;33mTEXT   \u001b[0m  Some info \u001b[2m[default: 127.0.0.1]\u001b[0m                                                      \u001b[2m│\u001b[0m\n",
       "\u001b[2m│\u001b[0m \u001b[1;36m-\u001b[0m\u001b[1;36m-port\u001b[0m             \u001b[1;33mINTEGER\u001b[0m  Some info \u001b[2m[default: 8000]\u001b[0m                                                           \u001b[2m│\u001b[0m\n",
       "\u001b[2m│\u001b[0m \u001b[1;36m-\u001b[0m\u001b[1;36m-help\u001b[0m             \u001b[1;33m       \u001b[0m  Show this message and exit.                                                         \u001b[2m│\u001b[0m\n",
       "\u001b[2m╰─────────────────────────────────────────────────────────────────────────────────────────────────────────────────╯\u001b[0m\n"
      ]
     },
     "metadata": {},
     "output_type": "display_data"
    }
   ],
   "source": [
    "result = runner.invoke(_app, [\"docs\", \"serve\", \"--help\"])"
   ]
  },
  {
   "cell_type": "code",
   "execution_count": null,
   "id": "d2a20790",
   "metadata": {},
   "outputs": [
    {
     "name": "stdout",
     "output_type": "stream",
     "text": [
      "23-05-12 13:20:40.411 [INFO] fastkafka._components.asyncapi: Old async specifications at '/tmp/tmp0yh7v782/asyncapi/spec/asyncapi.yml' does not exist.\n",
      "23-05-12 13:20:40.423 [INFO] fastkafka._components.asyncapi: New async specifications generated at: '/tmp/tmp0yh7v782/asyncapi/spec/asyncapi.yml'\n",
      "23-05-12 13:20:47.313 [INFO] fastkafka._components.asyncapi: Async docs generated at 'asyncapi/docs'\n",
      "23-05-12 13:20:47.313 [INFO] fastkafka._components.asyncapi: Output of '$ npx -y -p @asyncapi/generator ag asyncapi/spec/asyncapi.yml @asyncapi/html-template -o asyncapi/docs --force-write'\u001b[32m\n",
      "\n",
      "Done! ✨\u001b[0m\n",
      "\u001b[33mCheck out your shiny new generated files at \u001b[0m\u001b[35m/tmp/tmp0yh7v782/asyncapi/docs\u001b[0m\u001b[33m.\u001b[0m\n",
      "\n",
      "\n",
      "Serving documentation on http://127.0.0.1:48000\n",
      "Interupting serving of documentation and cleaning up...\n",
      "\n"
     ]
    }
   ],
   "source": [
    "with generate_app_in_tmp() as app:\n",
    "    proc = await asyncio.create_subprocess_exec(\n",
    "        \"fastkafka\",\n",
    "        \"docs\",\n",
    "        \"serve\",\n",
    "        \"--port=48000\",\n",
    "        app,\n",
    "        stdout=asyncio.subprocess.PIPE,\n",
    "    )\n",
    "    time.sleep(30)\n",
    "    await terminate_asyncio_process(proc)\n",
    "    outputs, errs = await proc.communicate()\n",
    "    assert proc.returncode == 0, proc.returncode\n",
    "    print(outputs.decode(\"utf-8\"))"
   ]
  },
  {
   "cell_type": "code",
   "execution_count": null,
   "id": "9f1ec310",
   "metadata": {},
   "outputs": [],
   "source": [
    "# | export\n",
    "\n",
    "\n",
    "_app.add_typer(_cli_testing._testing_app, name=\"testing\")"
   ]
  },
  {
   "cell_type": "code",
   "execution_count": null,
   "id": "447b94f1",
   "metadata": {},
   "outputs": [
    {
     "data": {
      "text/html": [
       "<pre style=\"white-space:pre;overflow-x:auto;line-height:normal;font-family:Menlo,'DejaVu Sans Mono',consolas,'Courier New',monospace\"><span style=\"font-weight: bold\">                                                                                                                   </span>\n",
       "<span style=\"font-weight: bold\"> </span><span style=\"color: #808000; text-decoration-color: #808000; font-weight: bold\">Usage: </span><span style=\"font-weight: bold\">root testing install_deps [OPTIONS]                                                                        </span>\n",
       "<span style=\"font-weight: bold\">                                                                                                                   </span>\n",
       "</pre>\n"
      ],
      "text/plain": [
       "\u001b[1m                                                                                                                   \u001b[0m\n",
       "\u001b[1m \u001b[0m\u001b[1;33mUsage: \u001b[0m\u001b[1mroot testing install_deps [OPTIONS]\u001b[0m\u001b[1m                                                                       \u001b[0m\u001b[1m \u001b[0m\n",
       "\u001b[1m                                                                                                                   \u001b[0m\n"
      ]
     },
     "metadata": {},
     "output_type": "display_data"
    },
    {
     "data": {
      "text/html": [
       "<pre style=\"white-space:pre;overflow-x:auto;line-height:normal;font-family:Menlo,'DejaVu Sans Mono',consolas,'Courier New',monospace\"> Installs dependencies for FastKafka app testing                                                                   \n",
       "                                                                                                                   \n",
       "</pre>\n"
      ],
      "text/plain": [
       " Installs dependencies for FastKafka app testing                                                                   \n",
       "                                                                                                                   \n"
      ]
     },
     "metadata": {},
     "output_type": "display_data"
    },
    {
     "data": {
      "text/html": [
       "<pre style=\"white-space:pre;overflow-x:auto;line-height:normal;font-family:Menlo,'DejaVu Sans Mono',consolas,'Courier New',monospace\"><span style=\"color: #7f7f7f; text-decoration-color: #7f7f7f\">╭─ Options ───────────────────────────────────────────────────────────────────────────────────────────────────────╮</span>\n",
       "<span style=\"color: #7f7f7f; text-decoration-color: #7f7f7f\">│</span> <span style=\"color: #008080; text-decoration-color: #008080; font-weight: bold\">--help</span>          Show this message and exit.                                                                     <span style=\"color: #7f7f7f; text-decoration-color: #7f7f7f\">│</span>\n",
       "<span style=\"color: #7f7f7f; text-decoration-color: #7f7f7f\">╰─────────────────────────────────────────────────────────────────────────────────────────────────────────────────╯</span>\n",
       "</pre>\n"
      ],
      "text/plain": [
       "\u001b[2m╭─\u001b[0m\u001b[2m Options \u001b[0m\u001b[2m──────────────────────────────────────────────────────────────────────────────────────────────────────\u001b[0m\u001b[2m─╮\u001b[0m\n",
       "\u001b[2m│\u001b[0m \u001b[1;36m-\u001b[0m\u001b[1;36m-help\u001b[0m          Show this message and exit.                                                                     \u001b[2m│\u001b[0m\n",
       "\u001b[2m╰─────────────────────────────────────────────────────────────────────────────────────────────────────────────────╯\u001b[0m\n"
      ]
     },
     "metadata": {},
     "output_type": "display_data"
    }
   ],
   "source": [
    "result = runner.invoke(_app, [\"testing\", \"install_deps\", \"--help\"])"
   ]
  },
  {
   "cell_type": "code",
   "execution_count": null,
   "id": "a5a0b955",
   "metadata": {},
   "outputs": [],
   "source": [
    "result = runner.invoke(_app, [\"testing\", \"install_deps\"])\n",
    "assert result.exit_code == 0"
   ]
  },
  {
   "cell_type": "code",
   "execution_count": null,
   "id": "08fdee85",
   "metadata": {},
   "outputs": [],
   "source": []
  }
 ],
 "metadata": {
  "kernelspec": {
   "display_name": "python3",
   "language": "python",
   "name": "python3"
  }
 },
 "nbformat": 4,
 "nbformat_minor": 5
}

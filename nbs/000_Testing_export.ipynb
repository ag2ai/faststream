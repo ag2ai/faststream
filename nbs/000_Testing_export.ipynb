{
 "cells": [
  {
   "cell_type": "code",
   "execution_count": null,
   "id": "8abf46a1",
   "metadata": {},
   "outputs": [],
   "source": [
    "# | default_exp testing"
   ]
  },
  {
   "cell_type": "code",
   "execution_count": null,
   "id": "ec481239",
   "metadata": {},
   "outputs": [],
   "source": [
    "# | export\n",
    "\n",
    "from fastkafka._testing.local_broker import LocalKafkaBroker\n",
    "from fastkafka._application.tester import Tester\n",
    "\n",
    "from fastkafka._testing.test_utils import (\n",
    "    mock_AIOKafkaProducer_send,\n",
    "    nb_safe_seed,\n",
    "    run_script_and_cancel,\n",
    "    true_after,\n",
    "    display_docs,\n",
    ")\n",
    "\n",
    "__all__ = [\n",
    "    \"LocalKafkaBroker\",\n",
    "    \"Tester\",\n",
    "    \"nb_safe_seed\",\n",
    "    \"true_after\",\n",
    "    \"mock_AIOKafkaProducer_send\",\n",
    "    \"run_script_and_cancel\",\n",
    "    \"display_docs\",\n",
    "]"
   ]
  },
  {
   "cell_type": "code",
   "execution_count": null,
   "id": "70fd14eb",
   "metadata": {},
   "outputs": [],
   "source": [
    "# | export\n",
    "\n",
    "\n",
    "def dummy() -> None:\n",
    "    pass\n",
    "\n",
    "\n",
    "dummy.__module__ = \"_dummy\""
   ]
  }
 ],
 "metadata": {
  "kernelspec": {
   "display_name": "python3",
   "language": "python",
   "name": "python3"
  }
 },
 "nbformat": 4,
 "nbformat_minor": 5
}

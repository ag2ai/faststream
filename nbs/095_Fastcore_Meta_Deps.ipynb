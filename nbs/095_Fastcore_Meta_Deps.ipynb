{
 "cells": [
  {
   "cell_type": "code",
   "execution_count": null,
   "id": "c31a3490",
   "metadata": {},
   "outputs": [],
   "source": [
    "# | default_exp _components.meta"
   ]
  },
  {
   "cell_type": "code",
   "execution_count": null,
   "id": "dc1adf18",
   "metadata": {},
   "outputs": [],
   "source": [
    "# | export \n",
    "\n",
    "import inspect\n",
    "from types import FunctionType"
   ]
  },
  {
   "cell_type": "code",
   "execution_count": null,
   "id": "95cafec7",
   "metadata": {},
   "outputs": [],
   "source": [
    "def test_sig(f, b):\n",
    "    \"Test the signature of an object\"\n",
    "    if str(inspect.signature(f)) != b:\n",
    "        raise ValueError(f\"{inspect.signature(f)} != {b}\")"
   ]
  },
  {
   "cell_type": "markdown",
   "id": "855fdd0a",
   "metadata": {},
   "source": [
    "# Fastcore meta deps\n",
    "\n",
    "> Copied from https://github.com/fastai/fastcore/blob/master/nbs/07_meta.ipynb"
   ]
  },
  {
   "cell_type": "code",
   "execution_count": null,
   "id": "6bb9c8b3",
   "metadata": {},
   "outputs": [],
   "source": [
    "#|export\n",
    "def delegates(to:FunctionType=None, # Delegatee\n",
    "              keep=False, # Keep `kwargs` in decorated function?\n",
    "              but:list=None): # Exclude these parameters from signature\n",
    "    \"Decorator: replace `**kwargs` in signature with params from `to`\"\n",
    "    if but is None: but = []\n",
    "    def _f(f):\n",
    "        if to is None: to_f,from_f = f.__base__.__init__,f.__init__\n",
    "        else:          to_f,from_f = to.__init__ if isinstance(to,type) else to,f\n",
    "        from_f = getattr(from_f,'__func__',from_f)\n",
    "        to_f = getattr(to_f,'__func__',to_f)\n",
    "        if hasattr(from_f,'__delwrap__'): return f\n",
    "        sig = inspect.signature(from_f)\n",
    "        sigd = dict(sig.parameters)\n",
    "        k = sigd.pop('kwargs')\n",
    "        s2 = {k:v.replace(kind=inspect.Parameter.KEYWORD_ONLY) for k,v in inspect.signature(to_f).parameters.items()\n",
    "              if v.default != inspect.Parameter.empty and k not in sigd and k not in but}\n",
    "        anno = {k:v for k,v in getattr(to_f, \"__annotations__\", {}).items() if k not in sigd and k not in but}\n",
    "        sigd.update(s2)\n",
    "        if keep: sigd['kwargs'] = k\n",
    "        else: from_f.__delwrap__ = to_f\n",
    "        from_f.__signature__ = sig.replace(parameters=sigd.values())\n",
    "        if hasattr(from_f, '__annotations__'): from_f.__annotations__.update(anno)\n",
    "        return f\n",
    "    return _f"
   ]
  },
  {
   "cell_type": "markdown",
   "id": "8cb1c2e5",
   "metadata": {},
   "source": [
    "A common Python idiom is to accept **kwargs in addition to named parameters that are passed onto other function calls. It is especially common to use **kwargs when you want to give the user an option to override default parameters of any functions or methods being called by the parent function.\n",
    "\n",
    "For example, suppose we have have a function foo that passes arguments to baz like so:"
   ]
  },
  {
   "cell_type": "code",
   "execution_count": null,
   "id": "9a80423a",
   "metadata": {},
   "outputs": [],
   "source": [
    "def baz(a, b:int=2, c:int=3): return a + b + c\n",
    "\n",
    "def foo(c, a, **kwargs):\n",
    "    return c + baz(a, **kwargs)\n",
    "\n",
    "assert foo(c=1, a=1) == 7\n",
    "     "
   ]
  },
  {
   "cell_type": "markdown",
   "id": "c9acda69",
   "metadata": {},
   "source": [
    "The problem with this approach is the api for foo is obfuscated. Users cannot introspect what the valid arguments for **kwargs are without reading the source code. When a user tries tries to introspect the signature of foo, they are presented with this:"
   ]
  },
  {
   "cell_type": "code",
   "execution_count": null,
   "id": "1ad04fa0",
   "metadata": {},
   "outputs": [
    {
     "data": {
      "text/plain": [
       "<Signature (c, a, **kwargs)>"
      ]
     },
     "execution_count": null,
     "metadata": {},
     "output_type": "execute_result"
    }
   ],
   "source": [
    "inspect.signature(foo)"
   ]
  },
  {
   "cell_type": "markdown",
   "id": "c1668d82",
   "metadata": {},
   "source": [
    "We can address this issue by using the decorator delegates to include parameters from other functions. For example, if we apply the delegates decorator to foo to include parameters from baz:"
   ]
  },
  {
   "cell_type": "code",
   "execution_count": null,
   "id": "5de7978e",
   "metadata": {},
   "outputs": [
    {
     "data": {
      "text/plain": [
       "<Signature (c, a, *, b: int = 2)>"
      ]
     },
     "execution_count": null,
     "metadata": {},
     "output_type": "execute_result"
    }
   ],
   "source": [
    "@delegates(baz)\n",
    "def foo(c, a, **kwargs):\n",
    "    \"\"\" Test doc \"\"\"\n",
    "    return c + baz(a, **kwargs)\n",
    "\n",
    "test_sig(foo, '(c, a, *, b: int = 2)')\n",
    "assert foo.__doc__ == \"\"\" Test doc \"\"\"\n",
    "inspect.signature(foo)"
   ]
  },
  {
   "cell_type": "markdown",
   "id": "d5f22fcf",
   "metadata": {},
   "source": [
    "We can optionally decide to keep **kwargs by setting keep=True:"
   ]
  },
  {
   "cell_type": "code",
   "execution_count": null,
   "id": "71c2fef6",
   "metadata": {},
   "outputs": [
    {
     "data": {
      "text/plain": [
       "<Signature (c, a, *, b: int = 2, **kwargs)>"
      ]
     },
     "execution_count": null,
     "metadata": {},
     "output_type": "execute_result"
    }
   ],
   "source": [
    "@delegates(baz, keep=True)\n",
    "def foo(c, a, **kwargs):\n",
    "    return c + baz(a, **kwargs)\n",
    "\n",
    "inspect.signature(foo)     "
   ]
  },
  {
   "cell_type": "markdown",
   "id": "53cde9c4",
   "metadata": {},
   "source": [
    "It is important to note that only parameters with default parameters are included. For example, in the below scenario only c, but NOT e and d are included in the signature of foo after applying delegates:"
   ]
  },
  {
   "cell_type": "code",
   "execution_count": null,
   "id": "8ac19ca4",
   "metadata": {},
   "outputs": [
    {
     "data": {
      "text/plain": [
       "<Signature (a, b=1, *, c=2)>"
      ]
     },
     "execution_count": null,
     "metadata": {},
     "output_type": "execute_result"
    }
   ],
   "source": [
    "def basefoo(e, d, c=2): pass\n",
    "\n",
    "@delegates(basefoo)\n",
    "def foo(a, b=1, **kwargs): pass\n",
    "inspect.signature(foo) # e and d are not included b/c they don't have default parameters.     "
   ]
  },
  {
   "cell_type": "markdown",
   "id": "25b99291",
   "metadata": {},
   "source": [
    "The reason that required arguments (i.e. those without default parameters) are automatically excluded is that you should be explicitly implementing required arguments into your function's signature rather than relying on delegates.\n",
    "\n",
    "Additionally, you can exclude specific parameters from being included in the signature with the but parameter. In the example below, we exclude the parameter d:"
   ]
  },
  {
   "cell_type": "code",
   "execution_count": null,
   "id": "90b04168",
   "metadata": {},
   "outputs": [
    {
     "data": {
      "text/plain": [
       "<Signature (a, b=1, *, c=2)>"
      ]
     },
     "execution_count": null,
     "metadata": {},
     "output_type": "execute_result"
    }
   ],
   "source": [
    "def basefoo(e, c=2, d=3): pass\n",
    "\n",
    "@delegates(basefoo, but= ['d'])\n",
    "def foo(a, b=1, **kwargs): pass\n",
    "\n",
    "test_sig(foo, '(a, b=1, *, c=2)')\n",
    "inspect.signature(foo)"
   ]
  },
  {
   "cell_type": "markdown",
   "id": "2961cb40",
   "metadata": {},
   "source": [
    "You can also use delegates between methods in a class. Here is an example of delegates with class methods:"
   ]
  },
  {
   "cell_type": "code",
   "execution_count": null,
   "id": "5a23bc7b",
   "metadata": {},
   "outputs": [],
   "source": [
    "# example 1: class methods\n",
    "class _T():\n",
    "    @classmethod\n",
    "    def foo(cls, a=1, b=2):\n",
    "        pass\n",
    "    \n",
    "    @classmethod\n",
    "    @delegates(foo)\n",
    "    def bar(cls, c=3, **kwargs):\n",
    "        pass\n",
    "\n",
    "test_sig(_T.bar, '(c=3, *, a=1, b=2)')\n",
    "     "
   ]
  },
  {
   "cell_type": "markdown",
   "id": "1d2bb41e",
   "metadata": {},
   "source": [
    "Here is the same example with instance methods:"
   ]
  },
  {
   "cell_type": "code",
   "execution_count": null,
   "id": "789a9cc3",
   "metadata": {},
   "outputs": [],
   "source": [
    "# example 2: instance methods\n",
    "class _T():\n",
    "    def foo(self, a=1, b=2):\n",
    "        pass\n",
    "    \n",
    "    @delegates(foo)\n",
    "    def bar(self, c=3, **kwargs):\n",
    "        pass\n",
    "\n",
    "t = _T()\n",
    "test_sig(t.bar, '(c=3, *, a=1, b=2)')\n",
    "     "
   ]
  },
  {
   "cell_type": "markdown",
   "id": "97b9eb07",
   "metadata": {},
   "source": [
    "You can also delegate between classes. By default, the delegates decorator will delegate to the superclass:"
   ]
  },
  {
   "cell_type": "code",
   "execution_count": null,
   "id": "3d397cd2",
   "metadata": {},
   "outputs": [],
   "source": [
    "class BaseFoo:\n",
    "    def __init__(self, e, c=2): pass\n",
    "\n",
    "@delegates()# since no argument was passsed here we delegate to the superclass\n",
    "class Foo(BaseFoo):\n",
    "    def __init__(self, a, b=1, **kwargs): super().__init__(**kwargs)\n",
    "\n",
    "test_sig(Foo, '(a, b=1, *, c=2)')"
   ]
  }
 ],
 "metadata": {
  "kernelspec": {
   "display_name": "python3",
   "language": "python",
   "name": "python3"
  }
 },
 "nbformat": 4,
 "nbformat_minor": 5
}

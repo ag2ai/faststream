{
 "cells": [
  {
   "cell_type": "markdown",
   "metadata": {},
   "source": [
    "# FastKafka\n",
    "\n",
    "This notebook will demonstrate the capabilities and developed functionalities in FastKafka project"
   ]
  },
  {
   "cell_type": "markdown",
   "metadata": {},
   "source": [
    "\n",
    "[![Open In Colab](https://colab.research.google.com/assets/colab-badge.svg)](https://colab.research.google.com/github/airtai/fastkafka/blob/64-colab-based-tutorial/nbs/guides/00_FastKafka_Demo.ipynb)"
   ]
  },
  {
   "cell_type": "markdown",
   "metadata": {},
   "source": [
    "## Installing fastkafka library\n",
    "\n",
    "To install fastkafka, run: `pip install fastkafka` in your terminal"
   ]
  },
  {
   "cell_type": "code",
   "execution_count": null,
   "metadata": {},
   "outputs": [],
   "source": [
    "try:\n",
    "    import fastkafka\n",
    "except ImportError:\n",
    "    !pip install fastkafka==0.1.0"
   ]
  },
  {
   "cell_type": "markdown",
   "metadata": {},
   "source": [
    "## LocalKafkaBroker\n",
    "\n",
    "To be able to test and demonstrate the use of FastKafka, we have developed a python wrapper for Zookeeper and Kafka broker which is demonstrated here and used later in the notebook. "
   ]
  },
  {
   "cell_type": "code",
   "execution_count": null,
   "metadata": {},
   "outputs": [],
   "source": [
    "from fastkafka.testing import LocalKafkaBroker"
   ]
  },
  {
   "cell_type": "markdown",
   "metadata": {},
   "source": [
    "First, start the LocalKafkaBroker\n",
    "\n",
    "When LocalKafkaBroker is started, it checks if there are Java and Kafka installed on the system, if not, it will install them and export them to path as it is necessary for it to function.\n",
    "\n",
    "Note: We use `apply_nest_asyncio=True` when creating the broker in the notebook to enable it to run in a nested async loop"
   ]
  },
  {
   "cell_type": "code",
   "execution_count": null,
   "metadata": {},
   "outputs": [
    {
     "name": "stdout",
     "output_type": "stream",
     "text": [
      "[INFO] fastkafka.testing: LocalKafkaBroker.start(): entering...\n",
      "[WARNING] fastkafka.testing: LocalKafkaBroker.start(): (<_UnixSelectorEventLoop running=True closed=False debug=False>) is already running!\n",
      "[WARNING] fastkafka.testing: LocalKafkaBroker.start(): calling nest_asyncio.apply()\n",
      "[INFO] fastkafka.testing: Java is already installed.\n",
      "[INFO] fastkafka.testing: But not exported to PATH, exporting...\n",
      "[INFO] fastkafka.testing: Kafka is already installed.\n",
      "[INFO] fastkafka.testing: But not exported to PATH, exporting...\n",
      "[INFO] fastkafka.testing: Starting zookeeper...\n",
      "[INFO] fastkafka.testing: {service} started, sleeping for 5 seconds...\n",
      "[INFO] fastkafka.testing: Starting kafka...\n",
      "[INFO] fastkafka.testing: {service} started, sleeping for 5 seconds...\n",
      "[INFO] fastkafka.testing: Local Kafka broker up and running on 127.0.0.1:9092\n",
      "[INFO] fastkafka.testing: <class 'fastkafka.testing.LocalKafkaBroker'>.start(): returning 127.0.0.1:9092\n",
      "[INFO] fastkafka.testing: LocalKafkaBroker.start(): exited.\n",
      "127.0.0.1:9092\n"
     ]
    }
   ],
   "source": [
    "local_broker = LocalKafkaBroker(apply_nest_asyncio=True)\n",
    "bootstrap_server = local_broker.start()\n",
    "print(bootstrap_server)"
   ]
  },
  {
   "cell_type": "markdown",
   "metadata": {},
   "source": [
    "Lets see if there are any topics in our fresh Kafka broker. If everything is okay, there should be none."
   ]
  },
  {
   "cell_type": "code",
   "execution_count": null,
   "metadata": {},
   "outputs": [
    {
     "name": "stdout",
     "output_type": "stream",
     "text": [
      "\r\n"
     ]
    }
   ],
   "source": [
    "! kafka-topics.sh --list --bootstrap-server {bootstrap_server}"
   ]
  },
  {
   "cell_type": "markdown",
   "metadata": {},
   "source": [
    "Lets now create a topic, list it, and describe it to see that our LocalKafkaBroker is really running."
   ]
  },
  {
   "cell_type": "code",
   "execution_count": null,
   "metadata": {},
   "outputs": [
    {
     "name": "stdout",
     "output_type": "stream",
     "text": [
      "Created topic quickstart-events.\r\n"
     ]
    }
   ],
   "source": [
    "! kafka-topics.sh --create --topic quickstart-events --bootstrap-server {bootstrap_server}"
   ]
  },
  {
   "cell_type": "code",
   "execution_count": null,
   "metadata": {},
   "outputs": [
    {
     "name": "stdout",
     "output_type": "stream",
     "text": [
      "quickstart-events\r\n"
     ]
    }
   ],
   "source": [
    "! kafka-topics.sh --list --bootstrap-server {bootstrap_server}"
   ]
  },
  {
   "cell_type": "code",
   "execution_count": null,
   "metadata": {},
   "outputs": [
    {
     "name": "stdout",
     "output_type": "stream",
     "text": [
      "Topic: quickstart-events\tTopicId: V3xrTMFrTFyx5SNPj4JJdQ\tPartitionCount: 1\tReplicationFactor: 1\tConfigs: flush.ms=1000,segment.bytes=1073741824,flush.messages=10000,retention.bytes=1073741824\r\n",
      "\tTopic: quickstart-events\tPartition: 0\tLeader: 0\tReplicas: 0\tIsr: 0\r\n"
     ]
    }
   ],
   "source": [
    "! kafka-topics.sh --describe --topic quickstart-events --bootstrap-server {bootstrap_server}"
   ]
  },
  {
   "cell_type": "markdown",
   "metadata": {},
   "source": [
    "Now we can stop the broker as it is no longer needed"
   ]
  },
  {
   "cell_type": "code",
   "execution_count": null,
   "metadata": {},
   "outputs": [
    {
     "name": "stdout",
     "output_type": "stream",
     "text": [
      "[INFO] fastkafka.testing: LocalKafkaBroker.stop(): entering...\n",
      "[INFO] fastkafka._components._subprocess: terminate_asyncio_process(): Terminating the process 69605...\n",
      "[INFO] fastkafka._components._subprocess: terminate_asyncio_process(): Process 69605 terminated.\n",
      "[INFO] fastkafka._components._subprocess: terminate_asyncio_process(): Terminating the process 69240...\n",
      "[INFO] fastkafka._components._subprocess: terminate_asyncio_process(): Process 69240 terminated.\n",
      "[INFO] fastkafka.testing: LocalKafkaBroker.stop(): exited.\n"
     ]
    }
   ],
   "source": [
    "local_broker.stop()"
   ]
  },
  {
   "cell_type": "markdown",
   "metadata": {},
   "source": [
    "LocalKafkaBroker can also be used as a context manager"
   ]
  },
  {
   "cell_type": "code",
   "execution_count": null,
   "metadata": {},
   "outputs": [
    {
     "name": "stdout",
     "output_type": "stream",
     "text": [
      "[INFO] fastkafka.testing: LocalKafkaBroker.start(): entering...\n",
      "[WARNING] fastkafka.testing: LocalKafkaBroker.start(): (<_UnixSelectorEventLoop running=True closed=False debug=False>) is already running!\n",
      "[WARNING] fastkafka.testing: LocalKafkaBroker.start(): calling nest_asyncio.apply()\n",
      "[INFO] fastkafka.testing: Java is already installed.\n",
      "[INFO] fastkafka.testing: Kafka is already installed.\n",
      "[INFO] fastkafka.testing: Starting zookeeper...\n",
      "[INFO] fastkafka.testing: {service} started, sleeping for 5 seconds...\n",
      "[INFO] fastkafka.testing: Starting kafka...\n",
      "[INFO] fastkafka.testing: {service} started, sleeping for 5 seconds...\n",
      "[INFO] fastkafka.testing: Local Kafka broker up and running on 127.0.0.1:9092\n",
      "[INFO] fastkafka.testing: <class 'fastkafka.testing.LocalKafkaBroker'>.start(): returning 127.0.0.1:9092\n",
      "[INFO] fastkafka.testing: LocalKafkaBroker.start(): exited.\n",
      "127.0.0.1:9092\n",
      "[INFO] fastkafka.testing: LocalKafkaBroker.stop(): entering...\n",
      "[INFO] fastkafka._components._subprocess: terminate_asyncio_process(): Terminating the process 71769...\n",
      "[INFO] fastkafka._components._subprocess: terminate_asyncio_process(): Process 71769 terminated.\n",
      "[INFO] fastkafka._components._subprocess: terminate_asyncio_process(): Terminating the process 71402...\n",
      "[INFO] fastkafka._components._subprocess: terminate_asyncio_process(): Process 71402 terminated.\n",
      "[INFO] fastkafka.testing: LocalKafkaBroker.stop(): exited.\n"
     ]
    }
   ],
   "source": [
    "with LocalKafkaBroker(apply_nest_asyncio=True) as bootstrap_server:\n",
    "    print(bootstrap_server)"
   ]
  },
  {
   "cell_type": "markdown",
   "metadata": {},
   "source": [
    "## FastKafka minimal demo\n",
    "\n",
    "We will first create one simple fastkafka producer and one consumer to demonstrate their capabiltiy to communicate over Kafka queues"
   ]
  },
  {
   "cell_type": "markdown",
   "metadata": {},
   "source": [
    "First, model the data that will be communicated between producer and consumer"
   ]
  },
  {
   "cell_type": "code",
   "execution_count": null,
   "metadata": {},
   "outputs": [],
   "source": [
    "from pydantic.main import BaseModel\n",
    "\n",
    "from pydantic import BaseModel, Field, NonNegativeInt"
   ]
  },
  {
   "cell_type": "code",
   "execution_count": null,
   "metadata": {},
   "outputs": [],
   "source": [
    "class Data(BaseModel):\n",
    "    data: NonNegativeInt = Field(..., example=202020, description=\"Sample data\")"
   ]
  },
  {
   "cell_type": "markdown",
   "metadata": {},
   "source": [
    "Now, we define our FastKafka consumer app and wrap it in a coroutine to be able to run it in the next steps"
   ]
  },
  {
   "cell_type": "code",
   "execution_count": null,
   "metadata": {},
   "outputs": [],
   "source": [
    "import asyncio\n",
    "from tqdm import tqdm, trange\n",
    "\n",
    "from fastkafka.application import FastKafka"
   ]
  },
  {
   "cell_type": "code",
   "execution_count": null,
   "metadata": {},
   "outputs": [],
   "source": [
    "async def fastkafka_consumer(msgs_count: int, topic: str, bootstrap_servers: str):\n",
    "    with tqdm(total=msgs_count, desc=f\"consuming from '{topic}'\") as consume_pbar:\n",
    "        kafka_app = FastKafka(bootstrap_servers=bootstrap_servers)\n",
    "\n",
    "        @kafka_app.consumes(topic=topic)\n",
    "        async def consume(msg: Data):\n",
    "            consume_pbar.update(1)\n",
    "\n",
    "        async with kafka_app:\n",
    "            while True:\n",
    "                await asyncio.sleep(0.1)\n",
    "                if consume_pbar.n >= consume_pbar.total:\n",
    "                    break"
   ]
  },
  {
   "cell_type": "markdown",
   "metadata": {},
   "source": [
    "We do the same preparation for the FastKafka producer"
   ]
  },
  {
   "cell_type": "code",
   "execution_count": null,
   "metadata": {},
   "outputs": [],
   "source": [
    "from typing import List"
   ]
  },
  {
   "cell_type": "code",
   "execution_count": null,
   "metadata": {},
   "outputs": [],
   "source": [
    "async def fastkafka_producer(msgs: List[Data], topic: str, bootstrap_servers: str):\n",
    "    with tqdm(total=len(msgs), desc=f\"producing to '{topic}'\") as produce_pbar:\n",
    "        kafka_app = FastKafka(bootstrap_servers=bootstrap_servers)\n",
    "\n",
    "        @kafka_app.produces(topic=topic)\n",
    "        def produce(msg: Data):\n",
    "            return msg\n",
    "\n",
    "        async with kafka_app:\n",
    "            for msg in msgs:\n",
    "                produce(msg)\n",
    "                produce_pbar.update(1)"
   ]
  },
  {
   "cell_type": "markdown",
   "metadata": {},
   "source": [
    "Finally, lets run the demo"
   ]
  },
  {
   "cell_type": "code",
   "execution_count": null,
   "metadata": {},
   "outputs": [],
   "source": [
    "import asyncer\n",
    "from time import sleep"
   ]
  },
  {
   "cell_type": "code",
   "execution_count": null,
   "metadata": {},
   "outputs": [
    {
     "name": "stderr",
     "output_type": "stream",
     "text": [
      "generating messages: 100%|██████████| 1000/1000 [00:00<00:00, 143390.11it/s]"
     ]
    },
    {
     "name": "stdout",
     "output_type": "stream",
     "text": [
      "[INFO] fastkafka.testing: Java is already installed.\n",
      "[INFO] fastkafka.testing: Kafka is already installed.\n",
      "[INFO] fastkafka.testing: Starting zookeeper...\n",
      "[INFO] fastkafka.testing: {service} started, sleeping for 5 seconds...\n"
     ]
    },
    {
     "name": "stderr",
     "output_type": "stream",
     "text": [
      "\n"
     ]
    },
    {
     "name": "stdout",
     "output_type": "stream",
     "text": [
      "[INFO] fastkafka.testing: Starting kafka...\n",
      "[INFO] fastkafka.testing: {service} started, sleeping for 5 seconds...\n",
      "[INFO] fastkafka.testing: Local Kafka broker up and running on 127.0.0.1:9092\n"
     ]
    },
    {
     "name": "stderr",
     "output_type": "stream",
     "text": [
      "\r",
      "consuming from 'test_data':   0%|          | 0/1000 [00:00<?, ?it/s]"
     ]
    },
    {
     "name": "stdout",
     "output_type": "stream",
     "text": [
      "[INFO] fastkafka._components.aiokafka_consumer_loop: aiokafka_consumer_loop() starting...\n",
      "[INFO] fastkafka._components.aiokafka_consumer_loop: aiokafka_consumer_loop(): Consumer created using the following parameters: {'bootstrap_servers': '127.0.0.1:9092', 'auto_offset_reset': 'earliest', 'max_poll_records': 100}\n",
      "[INFO] fastkafka._components.aiokafka_consumer_loop: aiokafka_consumer_loop(): Consumer started.\n",
      "[INFO] aiokafka.consumer.subscription_state: Updating subscribed topics to: frozenset({'test_data'})\n",
      "[INFO] aiokafka.consumer.consumer: Subscribed to topic(s): {'test_data'}\n",
      "[INFO] fastkafka._components.aiokafka_consumer_loop: aiokafka_consumer_loop(): Consumer subscribed.\n",
      "[INFO] aiokafka.consumer.group_coordinator: Metadata for topic has changed from {} to {'test_data': 1}. \n"
     ]
    },
    {
     "name": "stderr",
     "output_type": "stream",
     "text": [
      "\n",
      "producing to 'test_data':   0%|          | 0/1000 [00:00<?, ?it/s]\u001b[A"
     ]
    },
    {
     "name": "stdout",
     "output_type": "stream",
     "text": [
      "[INFO] fastkafka.application: _create_producer() : created producer using the config: '{'bootstrap_servers': '127.0.0.1:9092'}'\n",
      "[INFO] fastkafka._components.aiokafka_producer_manager: AIOKafkaProducerManager.start(): Entering...\n",
      "[INFO] fastkafka._components.aiokafka_producer_manager: _aiokafka_producer_manager(): Starting...\n",
      "[INFO] fastkafka._components.aiokafka_producer_manager: _aiokafka_producer_manager(): Starting task group\n",
      "[INFO] fastkafka._components.aiokafka_producer_manager: _aiokafka_producer_manager(): Starting send_stream\n",
      "[INFO] fastkafka._components.aiokafka_producer_manager: AIOKafkaProducerManager.start(): Finished.\n",
      "[INFO] fastkafka._components.aiokafka_producer_manager: AIOKafkaProducerManager.stop(): Entering...\n",
      "[INFO] fastkafka._components.aiokafka_producer_manager: _aiokafka_producer_manager(): Exiting send_stream\n",
      "[INFO] fastkafka._components.aiokafka_producer_manager: _aiokafka_producer_manager(): Exiting task group\n"
     ]
    },
    {
     "name": "stderr",
     "output_type": "stream",
     "text": [
      "consuming from 'test_data':  95%|█████████▌| 952/1000 [00:07<00:00, 602.56it/s]"
     ]
    },
    {
     "name": "stdout",
     "output_type": "stream",
     "text": [
      "[INFO] fastkafka._components.aiokafka_producer_manager: _aiokafka_producer_manager(): Finished.\n",
      "[INFO] fastkafka._components.aiokafka_producer_manager: AIOKafkaProducerManager.stop(): Stoping producer...\n",
      "[INFO] fastkafka._components.aiokafka_producer_manager: AIOKafkaProducerManager.stop(): Finished\n"
     ]
    },
    {
     "name": "stderr",
     "output_type": "stream",
     "text": [
      "producing to 'test_data': 100%|██████████| 1000/1000 [00:02<00:00, 396.52it/s]\n"
     ]
    },
    {
     "name": "stdout",
     "output_type": "stream",
     "text": [
      "[INFO] fastkafka._components.aiokafka_consumer_loop: aiokafka_consumer_loop(): Consumer stopped.\n",
      "[INFO] fastkafka._components.aiokafka_consumer_loop: aiokafka_consumer_loop() finished.\n"
     ]
    },
    {
     "name": "stderr",
     "output_type": "stream",
     "text": [
      "\r",
      "consuming from 'test_data': 100%|██████████| 1000/1000 [00:07<00:00, 131.11it/s]"
     ]
    },
    {
     "name": "stdout",
     "output_type": "stream",
     "text": [
      "[INFO] fastkafka._components._subprocess: terminate_asyncio_process(): Terminating the process 72567...\n"
     ]
    },
    {
     "name": "stderr",
     "output_type": "stream",
     "text": [
      "\n"
     ]
    },
    {
     "name": "stdout",
     "output_type": "stream",
     "text": [
      "[INFO] fastkafka._components._subprocess: terminate_asyncio_process(): Process 72567 terminated.\n",
      "[INFO] fastkafka._components._subprocess: terminate_asyncio_process(): Terminating the process 72201...\n",
      "[INFO] fastkafka._components._subprocess: terminate_asyncio_process(): Process 72201 terminated.\n"
     ]
    }
   ],
   "source": [
    "# Prepare the messages for the producer to send\n",
    "msgs = [Data(data=i) for i in trange(1_000, desc=\"generating messages\")]\n",
    "\n",
    "# Start the broker\n",
    "async with LocalKafkaBroker(topics=[\"test_data\"], apply_nest_asyncio=True) as bootstrap_server:\n",
    "    async with asyncer.create_task_group() as tg:\n",
    "        # Start the consumer FastKafka app\n",
    "        tg.soonify(fastkafka_consumer)(\n",
    "            msgs_count=len(msgs), topic=\"test_data\", bootstrap_servers=bootstrap_server\n",
    "        )\n",
    "\n",
    "        # Give the consumer some time to connect to Kafka topic before we start sending\n",
    "        await asyncio.sleep(5)\n",
    "\n",
    "        # Start the producer FastKafka app\n",
    "        tg.soonify(fastkafka_producer)(\n",
    "            msgs=msgs, topic=\"test_data\", bootstrap_servers=bootstrap_server\n",
    "        )"
   ]
  },
  {
   "cell_type": "markdown",
   "metadata": {},
   "source": [
    "### Recap\n",
    "\n",
    "We have created a simple FastKafka consumer that updates the progress when a message is received, a producer that sends the messages to the Kafka queue.\n",
    "\n",
    "In the previous cell we have started the LocalKafkaBroker instance and connected our producer and consumer to it. \n",
    "Finall, after the producer started producing the messages, we have consumed them with our consumer and when all of the messages have been consumed the consumer and producer stopped and our kafka broker has exited."
   ]
  },
  {
   "cell_type": "markdown",
   "metadata": {},
   "source": [
    "## FastKafka model predictions demo\n",
    "\n",
    "Now we will create a more fleshed out application containing a Model that will ingest data samples from one Kafka topic (input_data) and produce predictions to another Kafka topic (predictions)"
   ]
  },
  {
   "cell_type": "markdown",
   "metadata": {},
   "source": [
    "### Preparing the demo model\n",
    "\n",
    "First we will prepare our model with the Iris dataset so that we can demonstrate the preditions using FastKafka"
   ]
  },
  {
   "cell_type": "code",
   "execution_count": null,
   "metadata": {},
   "outputs": [
    {
     "data": {
      "text/plain": [
       "array([0])"
      ]
     },
     "execution_count": null,
     "metadata": {},
     "output_type": "execute_result"
    }
   ],
   "source": [
    "from sklearn.datasets import load_iris\n",
    "from sklearn.linear_model import LogisticRegression\n",
    "\n",
    "X, y = load_iris(return_X_y=True)\n",
    "model = LogisticRegression(random_state=0, max_iter=500).fit(X, y)\n",
    "model.predict(X[0].reshape(1, -1))"
   ]
  },
  {
   "cell_type": "markdown",
   "metadata": {},
   "source": [
    "Now, we need to model the input and prediction messages that will be sent to the Kafka broker"
   ]
  },
  {
   "cell_type": "code",
   "execution_count": null,
   "metadata": {},
   "outputs": [],
   "source": [
    "from pydantic import NonNegativeFloat"
   ]
  },
  {
   "cell_type": "code",
   "execution_count": null,
   "metadata": {},
   "outputs": [],
   "source": [
    "class IrisInputData(BaseModel):\n",
    "    sepal_length: NonNegativeFloat = (\n",
    "        Field(..., example=0.5, description=\"Sepal length in cm\"),\n",
    "    )\n",
    "    sepal_width: NonNegativeFloat = (\n",
    "        Field(..., example=0.5, description=\"Sepal width in cm\"),\n",
    "    )\n",
    "    petal_length: NonNegativeFloat = (\n",
    "        Field(..., example=0.5, description=\"Petal length in cm\"),\n",
    "    )\n",
    "    petal_width: NonNegativeFloat = Field(\n",
    "        ..., example=0.5, description=\"Petal width in cm\"\n",
    "    )\n",
    "\n",
    "\n",
    "class IrisPredictionData(BaseModel):\n",
    "    species: str = Field(..., example=\"Iris-setosa\", description=\"Predicted species\")"
   ]
  },
  {
   "cell_type": "markdown",
   "metadata": {},
   "source": [
    "Now, lets prepare our prediction FastKafka app."
   ]
  },
  {
   "cell_type": "code",
   "execution_count": null,
   "metadata": {},
   "outputs": [],
   "source": [
    "def create_app():\n",
    "    kafka_app = FastKafka()\n",
    "\n",
    "    iris_species = {\n",
    "        0: \"Iris-setosa\",\n",
    "        1: \"Iris-versicolor\",\n",
    "        2: \"Iris-virginica\"\n",
    "    }\n",
    "\n",
    "    @kafka_app.consumes(topic=\"input_data\", auto_offset_reset=\"latest\", group_id=\"my_group\")\n",
    "    async def on_input_data(msg: IrisInputData):\n",
    "        global model\n",
    "        species_class = model.predict([\n",
    "              [msg.sepal_length, msg.sepal_width, msg.petal_length, msg.petal_width]\n",
    "            ])[0]\n",
    "\n",
    "        to_predictions(species_class)\n",
    "\n",
    "\n",
    "    @kafka_app.produces(topic=\"predictions\")\n",
    "    def to_predictions(species_class: int) -> IrisPredictionData:\n",
    "        prediction = IrisPredictionData(species=iris_species[species_class])\n",
    "        return prediction\n",
    "    return kafka_app"
   ]
  },
  {
   "cell_type": "code",
   "execution_count": null,
   "metadata": {},
   "outputs": [],
   "source": [
    "from fastkafka.application import Tester\n",
    "from sklearn.utils import shuffle"
   ]
  },
  {
   "cell_type": "code",
   "execution_count": null,
   "metadata": {},
   "outputs": [
    {
     "name": "stdout",
     "output_type": "stream",
     "text": [
      "[INFO] fastkafka.testing: LocalKafkaBroker.start(): entering...\n",
      "[WARNING] fastkafka.testing: LocalKafkaBroker.start(): (<_UnixSelectorEventLoop running=True closed=False debug=False>) is already running!\n",
      "[WARNING] fastkafka.testing: LocalKafkaBroker.start(): calling nest_asyncio.apply()\n",
      "[INFO] fastkafka.testing: Java is already installed.\n",
      "[INFO] fastkafka.testing: Kafka is already installed.\n",
      "[INFO] fastkafka.testing: Starting zookeeper...\n",
      "[INFO] fastkafka.testing: {service} started, sleeping for 5 seconds...\n",
      "[INFO] fastkafka.testing: Starting kafka...\n",
      "[INFO] fastkafka.testing: {service} started, sleeping for 5 seconds...\n",
      "[INFO] fastkafka.testing: Local Kafka broker up and running on 127.0.0.1:9092\n",
      "[INFO] fastkafka.testing: <class 'fastkafka.testing.LocalKafkaBroker'>.start(): returning 127.0.0.1:9092\n",
      "[INFO] fastkafka.testing: LocalKafkaBroker.start(): exited.\n",
      "[INFO] fastkafka.application: _create_producer() : created producer using the config: '{'bootstrap_servers': '127.0.0.1:9092'}'\n",
      "[INFO] fastkafka._components.aiokafka_producer_manager: AIOKafkaProducerManager.start(): Entering...\n",
      "[INFO] fastkafka._components.aiokafka_producer_manager: _aiokafka_producer_manager(): Starting...\n",
      "[INFO] fastkafka._components.aiokafka_producer_manager: _aiokafka_producer_manager(): Starting task group\n",
      "[INFO] fastkafka._components.aiokafka_producer_manager: _aiokafka_producer_manager(): Starting send_stream\n",
      "[INFO] fastkafka._components.aiokafka_producer_manager: AIOKafkaProducerManager.start(): Finished.\n",
      "[INFO] fastkafka.application: _create_producer() : created producer using the config: '{'bootstrap_servers': '127.0.0.1:9092'}'\n",
      "[INFO] fastkafka._components.aiokafka_consumer_loop: aiokafka_consumer_loop() starting...\n",
      "[INFO] fastkafka._components.aiokafka_consumer_loop: aiokafka_consumer_loop(): Consumer created using the following parameters: {'bootstrap_servers': '127.0.0.1:9092', 'auto_offset_reset': 'latest', 'max_poll_records': 100, 'group_id': 'my_group'}\n",
      "[INFO] fastkafka._components.aiokafka_consumer_loop: aiokafka_consumer_loop(): Consumer started.\n",
      "[INFO] aiokafka.consumer.subscription_state: Updating subscribed topics to: frozenset({'input_data'})\n",
      "[INFO] aiokafka.consumer.consumer: Subscribed to topic(s): {'input_data'}\n",
      "[INFO] fastkafka._components.aiokafka_consumer_loop: aiokafka_consumer_loop(): Consumer subscribed.\n",
      "[INFO] fastkafka._components.aiokafka_consumer_loop: aiokafka_consumer_loop() starting...\n",
      "[INFO] fastkafka._components.aiokafka_consumer_loop: aiokafka_consumer_loop(): Consumer created using the following parameters: {'bootstrap_servers': '127.0.0.1:9092', 'auto_offset_reset': 'earliest', 'max_poll_records': 100}\n",
      "[INFO] fastkafka._components.aiokafka_consumer_loop: aiokafka_consumer_loop(): Consumer started.\n",
      "[INFO] aiokafka.consumer.subscription_state: Updating subscribed topics to: frozenset({'predictions'})\n",
      "[INFO] aiokafka.consumer.consumer: Subscribed to topic(s): {'predictions'}\n",
      "[INFO] fastkafka._components.aiokafka_consumer_loop: aiokafka_consumer_loop(): Consumer subscribed.\n",
      "[INFO] aiokafka.consumer.group_coordinator: Metadata for topic has changed from {} to {'predictions': 1}. \n",
      "[ERROR] aiokafka.consumer.group_coordinator: Group Coordinator Request failed: [Error 15] CoordinatorNotAvailableError\n",
      "[ERROR] aiokafka.consumer.group_coordinator: Group Coordinator Request failed: [Error 15] CoordinatorNotAvailableError\n",
      "[ERROR] aiokafka.consumer.group_coordinator: Group Coordinator Request failed: [Error 15] CoordinatorNotAvailableError\n",
      "[ERROR] aiokafka.consumer.group_coordinator: Group Coordinator Request failed: [Error 15] CoordinatorNotAvailableError\n",
      "[ERROR] aiokafka.consumer.group_coordinator: Group Coordinator Request failed: [Error 15] CoordinatorNotAvailableError\n",
      "[INFO] aiokafka.consumer.group_coordinator: Discovered coordinator 0 for group my_group\n",
      "[INFO] aiokafka.consumer.group_coordinator: Revoking previously assigned partitions set() for group my_group\n",
      "[INFO] aiokafka.consumer.group_coordinator: (Re-)joining group my_group\n",
      "[INFO] aiokafka.consumer.group_coordinator: Joined group 'my_group' (generation 1) with member_id aiokafka-0.8.0-5c6c1e95-1326-43fc-82c5-5dc5b094ad07\n",
      "[INFO] aiokafka.consumer.group_coordinator: Elected group leader -- performing partition assignments using roundrobin\n",
      "[INFO] aiokafka.consumer.group_coordinator: Successfully synced group my_group with generation 1\n",
      "[INFO] aiokafka.consumer.group_coordinator: Setting newly assigned partitions {TopicPartition(topic='input_data', partition=0)} for group my_group\n",
      "[INFO] fastkafka._components.aiokafka_consumer_loop: aiokafka_consumer_loop(): Consumer stopped.\n",
      "[INFO] fastkafka._components.aiokafka_consumer_loop: aiokafka_consumer_loop() finished.\n",
      "[INFO] aiokafka.consumer.group_coordinator: LeaveGroup request succeeded\n",
      "[INFO] fastkafka._components.aiokafka_consumer_loop: aiokafka_consumer_loop(): Consumer stopped.\n",
      "[INFO] fastkafka._components.aiokafka_consumer_loop: aiokafka_consumer_loop() finished.\n",
      "[INFO] fastkafka._components.aiokafka_producer_manager: AIOKafkaProducerManager.stop(): Entering...\n",
      "[INFO] fastkafka._components.aiokafka_producer_manager: _aiokafka_producer_manager(): Exiting send_stream\n",
      "[INFO] fastkafka._components.aiokafka_producer_manager: _aiokafka_producer_manager(): Exiting task group\n",
      "[INFO] fastkafka._components.aiokafka_producer_manager: _aiokafka_producer_manager(): Finished.\n",
      "[INFO] fastkafka._components.aiokafka_producer_manager: AIOKafkaProducerManager.stop(): Stoping producer...\n",
      "[INFO] fastkafka._components.aiokafka_producer_manager: AIOKafkaProducerManager.stop(): Finished\n",
      "[INFO] fastkafka.testing: LocalKafkaBroker.stop(): entering...\n",
      "[INFO] fastkafka._components._subprocess: terminate_asyncio_process(): Terminating the process 76679...\n",
      "[INFO] fastkafka._components._subprocess: terminate_asyncio_process(): Process 76679 terminated.\n",
      "[INFO] fastkafka._components._subprocess: terminate_asyncio_process(): Terminating the process 76313...\n",
      "[INFO] fastkafka._components._subprocess: terminate_asyncio_process(): Process 76313 terminated.\n",
      "[INFO] fastkafka.testing: LocalKafkaBroker.stop(): exited.\n",
      "**************************************************\n",
      "Sent data: sepal_length=5.1 sepal_width=3.5 petal_length=1.4 petal_width=0.2\n",
      "Received prediction: call(IrisPredictionData(species='Iris-setosa'))\n"
     ]
    }
   ],
   "source": [
    "app = create_app()\n",
    "msg = IrisInputData(\n",
    "    sepal_length=X[0][0],\n",
    "    sepal_width=X[0][1],\n",
    "    petal_length=X[0][2],\n",
    "    petal_width=X[0][3],\n",
    ")\n",
    "with LocalKafkaBroker(\n",
    "    topics=[\"input_data\", \"predictions\"], apply_nest_asyncio=True\n",
    ") as bootstrap_servers:\n",
    "    app.set_bootstrap_servers(bootstrap_servers=bootstrap_servers)\n",
    "    tester = Tester(app)\n",
    "    async with tester:\n",
    "        await tester.to_input_data(msg)\n",
    "        await tester.awaited_mocks.on_predictions.assert_awaited(timeout=2)\n",
    "        prediction = tester.mocks.on_predictions.call_args\n",
    "\n",
    "print(\"*\"*50)\n",
    "print(f\"Sent data: {msg}\")\n",
    "print(f\"Received prediction: {prediction}\")"
   ]
  },
  {
   "cell_type": "code",
   "execution_count": null,
   "metadata": {},
   "outputs": [],
   "source": []
  }
 ],
 "metadata": {
  "kernelspec": {
   "display_name": "python3",
   "language": "python",
   "name": "python3"
  }
 },
 "nbformat": 4,
 "nbformat_minor": 1
}

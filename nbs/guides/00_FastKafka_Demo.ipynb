{
 "cells": [
  {
   "cell_type": "markdown",
   "metadata": {},
   "source": [
    "# FastKafka\n",
    "\n",
    "This notebook will demonstrate the capabilities and developed functionalities in FastKafka project"
   ]
  },
  {
   "cell_type": "markdown",
   "metadata": {},
   "source": [
    "\n",
    "[![Open In Colab](https://colab.research.google.com/assets/colab-badge.svg)](https://colab.research.google.com/github/airtai/fastkafka/blob/64-colab-based-tutorial/nbs/guides/00_FastKafka_Demo.ipynb)"
   ]
  },
  {
   "cell_type": "markdown",
   "metadata": {},
   "source": [
    "## Installing fastkafka library\n",
    "\n",
    "To install fastkafka, run: `pip install fastkafka` in your terminal"
   ]
  },
  {
   "cell_type": "code",
   "execution_count": null,
   "metadata": {},
   "outputs": [],
   "source": [
    "try:\n",
    "    import fastkafka\n",
    "except ImportError:\n",
    "    !pip install fastkafka==0.1.0"
   ]
  },
  {
   "cell_type": "markdown",
   "metadata": {},
   "source": [
    "## LocalKafkaBroker\n",
    "\n",
    "To be able to test and demonstrate the use of FastKafka, we have developed a python wrapper for Zookeeper and Kafka broker which is demonstrated here and used later in the notebook. "
   ]
  },
  {
   "cell_type": "code",
   "execution_count": null,
   "metadata": {},
   "outputs": [],
   "source": [
    "from fastkafka.testing import LocalKafkaBroker"
   ]
  },
  {
   "cell_type": "raw",
   "metadata": {},
   "source": [
    "import asyncio\n",
    "import nest_asyncio\n",
    "\n",
    "loop = asyncio.get_event_loop()\n",
    "\n",
    "nest_asyncio.apply(loop)"
   ]
  },
  {
   "cell_type": "raw",
   "metadata": {},
   "source": [
    "asyncio.get_event_loop().runnning()\n"
   ]
  },
  {
   "cell_type": "markdown",
   "metadata": {},
   "source": [
    "First, start the LocalKafkaBroker\n",
    "\n",
    "When LocalKafkaBroker is started, it checks if there are Java and Kafka installed on the system, if not, it will install them and export them to path as it is necessary for it to function."
   ]
  },
  {
   "cell_type": "code",
   "execution_count": null,
   "metadata": {},
   "outputs": [
    {
     "name": "stdout",
     "output_type": "stream",
     "text": [
      "[INFO] fastkafka.testing: LocalKafkaBroker.start(): entering...\n",
      "[WARNING] fastkafka.testing: LocalKafkaBroker.start(): (<_UnixSelectorEventLoop running=True closed=False debug=False>) is already running!\n",
      "[WARNING] fastkafka.testing: LocalKafkaBroker.start(): calling nest_asyncio.apply()\n",
      "[INFO] fastkafka.testing: Java is already installed.\n",
      "[INFO] fastkafka.testing: But not exported to PATH, exporting...\n",
      "[INFO] fastkafka.testing: Kafka is already installed.\n",
      "[INFO] fastkafka.testing: But not exported to PATH, exporting...\n",
      "[INFO] fastkafka.testing: Starting zookeeper...\n",
      "[INFO] fastkafka.testing: {service} started, sleeping for 5 seconds...\n",
      "[INFO] fastkafka.testing: Starting kafka...\n",
      "[INFO] fastkafka.testing: {service} started, sleeping for 5 seconds...\n",
      "[INFO] fastkafka.testing: Local Kafka broker up and running on 127.0.0.1:9092\n",
      "[INFO] fastkafka.testing: <class 'fastkafka.testing.LocalKafkaBroker'>.start(): returning 127.0.0.1:9092\n",
      "[INFO] fastkafka.testing: LocalKafkaBroker.start(): exited.\n",
      "127.0.0.1:9092\n"
     ]
    }
   ],
   "source": [
    "local_broker = LocalKafkaBroker()\n",
    "bootstrap_server = local_broker.start()\n",
    "print(bootstrap_server)"
   ]
  },
  {
   "cell_type": "markdown",
   "metadata": {},
   "source": [
    "Lets see if there are any topics in our fresh Kafka broker. If everything is okay, there should be none."
   ]
  },
  {
   "cell_type": "code",
   "execution_count": null,
   "metadata": {},
   "outputs": [],
   "source": [
    "! kafka-topics.sh --list --bootstrap-server {bootstrap_server}"
   ]
  },
  {
   "cell_type": "markdown",
   "metadata": {},
   "source": [
    "Lets now create a topic, list it, and describe it to see that our LocalKafkaBroker is really running."
   ]
  },
  {
   "cell_type": "code",
   "execution_count": null,
   "metadata": {},
   "outputs": [],
   "source": [
    "! kafka-topics.sh --create --topic quickstart-events --bootstrap-server {bootstrap_server}"
   ]
  },
  {
   "cell_type": "code",
   "execution_count": null,
   "metadata": {},
   "outputs": [],
   "source": [
    "! kafka-topics.sh --list --bootstrap-server {bootstrap_server}"
   ]
  },
  {
   "cell_type": "code",
   "execution_count": null,
   "metadata": {},
   "outputs": [],
   "source": [
    "! kafka-topics.sh --describe --topic quickstart-events --bootstrap-server {bootstrap_server}"
   ]
  },
  {
   "cell_type": "markdown",
   "metadata": {},
   "source": [
    "Now we can stop the broker as it is no longer needed"
   ]
  },
  {
   "cell_type": "code",
   "execution_count": null,
   "metadata": {},
   "outputs": [],
   "source": [
    "local_broker.stop()"
   ]
  },
  {
   "cell_type": "markdown",
   "metadata": {},
   "source": [
    "LocalKafkaBroker can also be used as a context manager"
   ]
  },
  {
   "cell_type": "code",
   "execution_count": null,
   "metadata": {},
   "outputs": [],
   "source": [
    "with LocalKafkaBroker() as bootstrap_server:\n",
    "    print(bootstrap_server)"
   ]
  },
  {
   "cell_type": "markdown",
   "metadata": {},
   "source": [
    "## FastKafka minimal demo\n",
    "\n",
    "We will first create one simple fastkafka producer and one consumer to demonstrate their capabiltiy to communicate over Kafka queues"
   ]
  },
  {
   "cell_type": "markdown",
   "metadata": {},
   "source": [
    "First, model the data that will be communicated between producer and consumer"
   ]
  },
  {
   "cell_type": "code",
   "execution_count": null,
   "metadata": {},
   "outputs": [],
   "source": [
    "from pydantic.main import BaseModel\n",
    "\n",
    "from pydantic import BaseModel, Field, NonNegativeInt"
   ]
  },
  {
   "cell_type": "code",
   "execution_count": null,
   "metadata": {},
   "outputs": [],
   "source": [
    "class Data(BaseModel):\n",
    "    data: NonNegativeInt = Field(..., example=202020, description=\"Sample data\")"
   ]
  },
  {
   "cell_type": "markdown",
   "metadata": {},
   "source": [
    "Now, we define our FastKafka consumer app and wrap it in a coroutine to be able to run it in the next steps"
   ]
  },
  {
   "cell_type": "code",
   "execution_count": null,
   "metadata": {},
   "outputs": [],
   "source": [
    "import asyncio\n",
    "from tqdm import tqdm, trange\n",
    "\n",
    "from fastkafka.application import FastKafka"
   ]
  },
  {
   "cell_type": "code",
   "execution_count": null,
   "metadata": {},
   "outputs": [],
   "source": [
    "async def fastkafka_consumer(msgs_count: int, topic: str, bootstrap_servers: str):\n",
    "    with tqdm(total=msgs_count, desc=f\"consuming from '{topic}'\") as consume_pbar:\n",
    "        kafka_app = FastKafka(bootstrap_servers=bootstrap_servers)\n",
    "\n",
    "        @kafka_app.consumes(topic=topic)\n",
    "        async def consume(msg: Data):\n",
    "            consume_pbar.update(1)\n",
    "\n",
    "        async with kafka_app:\n",
    "            while True:\n",
    "                await asyncio.sleep(0.1)\n",
    "                if consume_pbar.n >= consume_pbar.total:\n",
    "                    break"
   ]
  },
  {
   "cell_type": "markdown",
   "metadata": {},
   "source": [
    "We do the same preparation for the FastKafka producer"
   ]
  },
  {
   "cell_type": "code",
   "execution_count": null,
   "metadata": {},
   "outputs": [],
   "source": [
    "from typing import List"
   ]
  },
  {
   "cell_type": "code",
   "execution_count": null,
   "metadata": {},
   "outputs": [],
   "source": [
    "async def fastkafka_producer(msgs: List[Data], topic: str, bootstrap_servers: str):\n",
    "    with tqdm(total=len(msgs), desc=f\"producing to '{topic}'\") as produce_pbar:\n",
    "        kafka_app = FastKafka(bootstrap_servers=bootstrap_servers)\n",
    "\n",
    "        @kafka_app.produces(topic=topic)\n",
    "        def produce(msg: Data):\n",
    "            return msg\n",
    "\n",
    "        async with kafka_app:\n",
    "            for msg in msgs:\n",
    "                produce(msg)\n",
    "                produce_pbar.update(1)"
   ]
  },
  {
   "cell_type": "markdown",
   "metadata": {},
   "source": [
    "Finally, lets run the demo"
   ]
  },
  {
   "cell_type": "code",
   "execution_count": null,
   "metadata": {},
   "outputs": [],
   "source": [
    "import asyncer\n",
    "from time import sleep\n",
    "\n",
    "from fastkafka.helpers import create_missing_topics"
   ]
  },
  {
   "cell_type": "code",
   "execution_count": null,
   "metadata": {},
   "outputs": [],
   "source": [
    "# Prepare the messages for the producer to send\n",
    "msgs = [Data(data=i) for i in trange(1_000, desc=\"generating messages\")]\n",
    "\n",
    "# Start the broker\n",
    "async with LocalKafkaBroker() as bootstrap_server:\n",
    "    create_missing_topics(\n",
    "        [\"test_data\"],\n",
    "        bootstrap_servers=bootstrap_server,\n",
    "        num_partitions=1,\n",
    "    )\n",
    "\n",
    "    async with asyncer.create_task_group() as tg:\n",
    "        # Start the consumer FastKafka app\n",
    "        tg.soonify(fastkafka_consumer)(\n",
    "            msgs_count=len(msgs), topic=\"test_data\", bootstrap_servers=bootstrap_server\n",
    "        )\n",
    "\n",
    "        # Give the consumer some time to connect to Kafka topic before we start sending\n",
    "        await asyncio.sleep(5)\n",
    "\n",
    "        # Start the producer FastKafka app\n",
    "        tg.soonify(fastkafka_producer)(\n",
    "            msgs=msgs, topic=\"test_data\", bootstrap_servers=bootstrap_server\n",
    "        )"
   ]
  },
  {
   "cell_type": "markdown",
   "metadata": {},
   "source": [
    "### Recap\n",
    "\n",
    "We have created a simple FastKafka consumer that updates the progress when a message is received, a producer that sends the messages to the Kafka queue.\n",
    "\n",
    "In the previous cell we have started the LocalKafkaBroker instance and connected our producer and consumer to it. \n",
    "Finall, after the producer started producing the messages, we have consumed them with our consumer and when all of the messages have been consumed the consumer and producer stopped and our kafka broker has exited."
   ]
  },
  {
   "cell_type": "markdown",
   "metadata": {},
   "source": [
    "## FastKafka model predictions demo\n",
    "\n",
    "Now we will create a more fleshed out application containing a Model that will ingest data samples from one Kafka topic (input_data) and produce predictions to another Kafka topic (predictions)"
   ]
  },
  {
   "cell_type": "markdown",
   "metadata": {},
   "source": [
    "### Preparing the demo model\n",
    "\n",
    "First we will prepare our model with the Iris dataset so that we can demonstrate the preditions using FastKafka"
   ]
  },
  {
   "cell_type": "code",
   "execution_count": null,
   "metadata": {},
   "outputs": [],
   "source": [
    "from sklearn.datasets import load_iris\n",
    "from sklearn.linear_model import LogisticRegression\n",
    "\n",
    "X, y = load_iris(return_X_y=True)\n",
    "model = LogisticRegression(random_state=0, max_iter=500).fit(X, y)\n",
    "model.predict(X[0].reshape(1, -1))"
   ]
  },
  {
   "cell_type": "markdown",
   "metadata": {},
   "source": [
    "Now, we need to model the input and prediction messages that will be sent to the Kafka broker"
   ]
  },
  {
   "cell_type": "code",
   "execution_count": null,
   "metadata": {},
   "outputs": [],
   "source": [
    "from pydantic import NonNegativeFloat"
   ]
  },
  {
   "cell_type": "code",
   "execution_count": null,
   "metadata": {},
   "outputs": [],
   "source": [
    "class IrisInputData(BaseModel):\n",
    "    sepal_length: NonNegativeFloat = (\n",
    "        Field(..., example=0.5, description=\"Sepal length in cm\"),\n",
    "    )\n",
    "    sepal_width: NonNegativeFloat = (\n",
    "        Field(..., example=0.5, description=\"Sepal width in cm\"),\n",
    "    )\n",
    "    petal_length: NonNegativeFloat = (\n",
    "        Field(..., example=0.5, description=\"Petal length in cm\"),\n",
    "    )\n",
    "    petal_width: NonNegativeFloat = Field(\n",
    "        ..., example=0.5, description=\"Petal width in cm\"\n",
    "    )\n",
    "\n",
    "\n",
    "class IrisPredictionData(BaseModel):\n",
    "    species: str = Field(..., example=\"Iris-setosa\", description=\"Predicted species\")"
   ]
  },
  {
   "cell_type": "markdown",
   "metadata": {},
   "source": [
    "Now, lets prepare our prediction FastKafka app.\n",
    "\n",
    "This time, we will demonstrate the `fastkafka run` CLI functionality so we will export the app_script to .py file and run it using `run_script_and_cancel` function."
   ]
  },
  {
   "cell_type": "code",
   "execution_count": null,
   "metadata": {},
   "outputs": [],
   "source": [
    "app_script = \"\"\"\n",
    "from pydantic import BaseModel, NonNegativeFloat, Field\n",
    "from sklearn.datasets import load_iris\n",
    "from sklearn.linear_model import LogisticRegression\n",
    "\n",
    "from fastkafka.application import FastKafka\n",
    "\n",
    "X, y = load_iris(return_X_y=True)\n",
    "model = LogisticRegression(random_state=0, max_iter=500).fit(X, y)\n",
    "\n",
    "class IrisInputData(BaseModel):\n",
    "  sepal_length: NonNegativeFloat = Field(..., example=0.5, description=\"Sepal length in cm\"),\n",
    "  sepal_width: NonNegativeFloat = Field(..., example=0.5, description=\"Sepal width in cm\"),\n",
    "  petal_length: NonNegativeFloat = Field(..., example=0.5, description=\"Petal length in cm\"),\n",
    "  petal_width: NonNegativeFloat = Field(..., example=0.5, description=\"Petal width in cm\")\n",
    "\n",
    "class IrisPredictionData(BaseModel):\n",
    "  species: str = Field(..., example=\"Iris-setosa\", description=\"Predicted species\")\n",
    "\n",
    "kafka_app = FastKafka(\n",
    "    bootstrap_servers={bootstrap_servers},\n",
    ")\n",
    "\n",
    "iris_species = {\n",
    "    0: \"Iris-setosa\",\n",
    "    1: \"Iris-versicolor\",\n",
    "    2: \"Iris-virginica\"\n",
    "}\n",
    "\n",
    "@kafka_app.consumes(topic=\"input_data\", auto_offset_reset=\"latest\", group_id=\"my_group\")\n",
    "async def on_input_data(msg: IrisInputData):\n",
    "    global model\n",
    "    species_class = model.predict([\n",
    "          [msg.sepal_length, msg.sepal_width, msg.petal_length, msg.petal_width]\n",
    "        ])[0]\n",
    "    \n",
    "    to_predictions(species_class)\n",
    "\n",
    "\n",
    "@kafka_app.produces(topic=\"predictions\")\n",
    "def to_predictions(species_class: int) -> IrisPredictionData:\n",
    "    prediction = IrisPredictionData(species=iris_species[species_class])\n",
    "    return prediction\n",
    "\"\"\""
   ]
  },
  {
   "cell_type": "markdown",
   "metadata": {},
   "source": [
    "Lets write a new consumer that will print out the predictions received and stop after a given number of messages."
   ]
  },
  {
   "cell_type": "code",
   "execution_count": null,
   "metadata": {},
   "outputs": [],
   "source": [
    "async def fastkafka_consumer(msgs_count: int, topic: str, bootstrap_servers: str):\n",
    "    kafka_app = FastKafka(bootstrap_servers=bootstrap_servers)\n",
    "\n",
    "    consumed = {\"total_consumed\": 0}\n",
    "\n",
    "    def increment_consumed(consumed=consumed):\n",
    "        consumed[\"total_consumed\"] = consumed[\"total_consumed\"] + 1\n",
    "\n",
    "    @kafka_app.consumes(topic=topic)\n",
    "    async def consume(msg: IrisPredictionData):\n",
    "        print(f\"Got prediction: {msg.species}\")\n",
    "        increment_consumed()\n",
    "\n",
    "    async with kafka_app:\n",
    "        while True:\n",
    "            await asyncio.sleep(0.1)\n",
    "            if consumed[\"total_consumed\"] >= msgs_count:\n",
    "                break"
   ]
  },
  {
   "cell_type": "markdown",
   "metadata": {},
   "source": [
    "Lets write a producer app that will send the iris samples to our LocalKafkaBroker."
   ]
  },
  {
   "cell_type": "code",
   "execution_count": null,
   "metadata": {},
   "outputs": [],
   "source": [
    "async def fastkafka_producer(msgs: List[Data], topic: str, bootstrap_servers: str):\n",
    "    kafka_app = FastKafka(bootstrap_servers=bootstrap_servers)\n",
    "\n",
    "    @kafka_app.produces(topic=topic)\n",
    "    def produce(msg: IrisInputData):\n",
    "        print(f\"Producing data: {msg}\")\n",
    "        return msg\n",
    "\n",
    "    async with kafka_app:\n",
    "        for msg in msgs:\n",
    "            produce(msg)\n",
    "            await asyncio.sleep(0.5)"
   ]
  },
  {
   "cell_type": "markdown",
   "metadata": {},
   "source": [
    "Finally, lets run the demo."
   ]
  },
  {
   "cell_type": "code",
   "execution_count": null,
   "metadata": {},
   "outputs": [],
   "source": [
    "from sklearn.utils import shuffle\n",
    "\n",
    "from fastkafka.testing import run_script_and_cancel"
   ]
  },
  {
   "cell_type": "code",
   "execution_count": null,
   "metadata": {},
   "outputs": [],
   "source": [
    "msgs = [\n",
    "    IrisInputData(\n",
    "        sepal_length=iris[0],\n",
    "        sepal_width=iris[1],\n",
    "        petal_length=iris[2],\n",
    "        petal_width=iris[3],\n",
    "    )\n",
    "    for iris in shuffle(X, n_samples=20, random_state=0)\n",
    "]\n",
    "\n",
    "async with LocalKafkaBroker() as bootstrap_server:\n",
    "    create_missing_topics(\n",
    "        [\"input_data\", \"predictions\"],\n",
    "        bootstrap_servers=bootstrap_server,\n",
    "        num_partitions=1,\n",
    "    )\n",
    "\n",
    "    async with asyncer.create_task_group() as tg:\n",
    "        output = tg.soonify(run_script_and_cancel)(\n",
    "            script=app_script.replace(\"{bootstrap_servers}\", f'\"{bootstrap_server}\"'),\n",
    "            script_file=f\"server.py\",\n",
    "            cmd=\"fastkafka run --num-workers=1 server:kafka_app\",\n",
    "            cancel_after=30,\n",
    "        )\n",
    "\n",
    "        # Start the consumer FastKafka app\n",
    "        consumer_task = tg.soonify(fastkafka_consumer)(\n",
    "            msgs_count=len(msgs),\n",
    "            topic=\"predictions\",\n",
    "            bootstrap_servers=bootstrap_server,\n",
    "        )\n",
    "\n",
    "        # Give the consumer and our app some time to connect to Kafka topic before we start sending\n",
    "        await asyncio.sleep(15)\n",
    "\n",
    "        # Start the producer FastKafka app\n",
    "        tg.soonify(fastkafka_producer)(\n",
    "            msgs=msgs, topic=\"input_data\", bootstrap_servers=bootstrap_server\n",
    "        )"
   ]
  },
  {
   "cell_type": "code",
   "execution_count": null,
   "metadata": {},
   "outputs": [],
   "source": []
  }
 ],
 "metadata": {
  "kernelspec": {
   "display_name": "python3",
   "language": "python",
   "name": "python3"
  }
 },
 "nbformat": 4,
 "nbformat_minor": 1
}

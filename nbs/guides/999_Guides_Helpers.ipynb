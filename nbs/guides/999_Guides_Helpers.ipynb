{
 "cells": [
  {
   "cell_type": "code",
   "execution_count": null,
   "id": "2de1dda4",
   "metadata": {},
   "outputs": [],
   "source": [
    "# | default_exp _documentation.helpers"
   ]
  },
  {
   "cell_type": "markdown",
   "id": "abacb23d",
   "metadata": {},
   "source": [
    "# Helper functions for documentations"
   ]
  },
  {
   "cell_type": "code",
   "execution_count": null,
   "id": "8d0e3686",
   "metadata": {},
   "outputs": [],
   "source": [
    "# | export\n",
    "\n",
    "from typing import *\n",
    "\n",
    "from fastkafka.testing import run_script_and_cancel"
   ]
  },
  {
   "cell_type": "code",
   "execution_count": null,
   "id": "b28b6daa",
   "metadata": {},
   "outputs": [],
   "source": [
    "# | export\n",
    "\n",
    "\n",
    "async def _run_example_app(\n",
    "    *, app_example: str, bootstrap_server: str, script_file: str, cmd: str\n",
    ") -> Tuple[int, str]:\n",
    "    server_url = bootstrap_server.split(\":\")[0]\n",
    "    server_port = bootstrap_server.split(\":\")[1]\n",
    "    exit_code, output = await run_script_and_cancel(\n",
    "        script=app_example.replace(\n",
    "            \"<url_of_your_kafka_bootstrap_server>\", server_url\n",
    "        ).replace(\"<port_of_your_kafka_bootstrap_server>\", server_port),\n",
    "        script_file=script_file,\n",
    "        cmd=cmd,\n",
    "        cancel_after=5,\n",
    "    )\n",
    "    return exit_code, output.decode(\"UTF-8\")"
   ]
  }
 ],
 "metadata": {
  "kernelspec": {
   "display_name": "python3",
   "language": "python",
   "name": "python3"
  }
 },
 "nbformat": 4,
 "nbformat_minor": 5
}

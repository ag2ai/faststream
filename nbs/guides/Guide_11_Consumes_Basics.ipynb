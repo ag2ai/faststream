{
 "cells": [
  {
   "cell_type": "markdown",
   "id": "84b22f68",
   "metadata": {},
   "source": [
    "# @consumes basics"
   ]
  },
  {
   "cell_type": "code",
   "execution_count": null,
   "id": "7a35b05c",
   "metadata": {},
   "outputs": [],
   "source": [
    "# | hide\n",
    "\n",
    "import asyncio\n",
    "from IPython.display import Markdown as md\n",
    "\n",
    "import asyncer\n",
    "\n",
    "from fastkafka.testing import LocalKafkaBroker, run_script_and_cancel\n",
    "from fastkafka._testing.local_broker import run_and_match\n",
    "from fastkafka._components._subprocess import terminate_asyncio_process"
   ]
  },
  {
   "cell_type": "markdown",
   "id": "8c655e4f",
   "metadata": {},
   "source": [
    "You can use `@consumes` decorator to consume messages from Kafka topics. \n",
    "\n",
    "In this guide we will create a simple FastKafka app that will consume hello world messages from hello_world topic."
   ]
  },
  {
   "cell_type": "markdown",
   "id": "18535f2f",
   "metadata": {},
   "source": [
    "## Import `FastKafka`"
   ]
  },
  {
   "cell_type": "markdown",
   "id": "b4ef969d",
   "metadata": {},
   "source": [
    "To use the `@consumes` decorator, first we need to import the base FastKafka app to create our application."
   ]
  },
  {
   "cell_type": "code",
   "execution_count": null,
   "id": "3d6a8fae",
   "metadata": {},
   "outputs": [
    {
     "data": {
      "text/markdown": [
       "```python\n",
       "from fastkafka import FastKafka\n",
       "\n",
       "```"
      ],
      "text/plain": [
       "<IPython.core.display.Markdown object>"
      ]
     },
     "execution_count": null,
     "metadata": {},
     "output_type": "execute_result"
    }
   ],
   "source": [
    "# | echo: false\n",
    "\n",
    "import_fastkafka = \"\"\"from fastkafka import FastKafka\n",
    "\"\"\"\n",
    "\n",
    "md(f\"```python\\n{import_fastkafka}\\n```\")"
   ]
  },
  {
   "cell_type": "markdown",
   "id": "09cb37e9",
   "metadata": {},
   "source": [
    "## Define the structure of the messages\n",
    "Next, you need to define the structure of the messages you want to consume from the topic using [pydantic](https://docs.pydantic.dev/). For the guide we'll stick to something basic, but you are free to define any complex message structure you wish in your project, just make sure it can be JSON encoded.\n",
    "\n",
    "Let's import `BaseModel` and `Field` from pydantic and create a simple `HelloWorld` class containing one string parameter `msg`"
   ]
  },
  {
   "cell_type": "code",
   "execution_count": null,
   "id": "f83265a1",
   "metadata": {},
   "outputs": [
    {
     "data": {
      "text/markdown": [
       "```python\n",
       "from pydantic import BaseModel, Field\n",
       "\n",
       "```"
      ],
      "text/plain": [
       "<IPython.core.display.Markdown object>"
      ]
     },
     "execution_count": null,
     "metadata": {},
     "output_type": "execute_result"
    }
   ],
   "source": [
    "# | echo: false\n",
    "\n",
    "import_pydantic = \"\"\"from pydantic import BaseModel, Field\n",
    "\"\"\"\n",
    "md(f\"```python\\n{import_pydantic}\\n```\")"
   ]
  },
  {
   "cell_type": "code",
   "execution_count": null,
   "id": "9c1e6ec8",
   "metadata": {},
   "outputs": [
    {
     "data": {
      "text/markdown": [
       "```python\n",
       "\n",
       "class HelloWorld(BaseModel):\n",
       "    msg: str = Field(\n",
       "        ...,\n",
       "        example=\"Hello\",\n",
       "        description=\"Demo hello world message\",\n",
       "    )\n",
       "\n",
       "```"
      ],
      "text/plain": [
       "<IPython.core.display.Markdown object>"
      ]
     },
     "execution_count": null,
     "metadata": {},
     "output_type": "execute_result"
    }
   ],
   "source": [
    "# | echo: false\n",
    "\n",
    "define_HelloWorld = \"\"\"\n",
    "class HelloWorld(BaseModel):\n",
    "    msg: str = Field(\n",
    "        ...,\n",
    "        example=\"Hello\",\n",
    "        description=\"Demo hello world message\",\n",
    "    )\n",
    "\"\"\"\n",
    "md(f\"```python\\n{define_HelloWorld}\\n```\")"
   ]
  },
  {
   "cell_type": "markdown",
   "id": "fc1d810c",
   "metadata": {},
   "source": [
    "## Create a base FastKafka app\n",
    "\n",
    "Now we will create and define a base FastKafka app, replace the \\<address_of_your_kafka_bootstrap_server\\> with the actual address of your Kafka bootstrap server"
   ]
  },
  {
   "cell_type": "code",
   "execution_count": null,
   "id": "2732642f",
   "metadata": {},
   "outputs": [
    {
     "data": {
      "text/markdown": [
       "```python\n",
       "app = FastKafka(bootstrap_servers=\"<address_of_your_kafka_bootstrap_server>\")\n",
       "\n",
       "```"
      ],
      "text/plain": [
       "<IPython.core.display.Markdown object>"
      ]
     },
     "execution_count": null,
     "metadata": {},
     "output_type": "execute_result"
    }
   ],
   "source": [
    "# | echo: false\n",
    "\n",
    "create_app = \"\"\"app = FastKafka(bootstrap_servers=\"<address_of_your_kafka_bootstrap_server>\")\n",
    "\"\"\"\n",
    "md(f\"```python\\n{create_app}\\n```\")"
   ]
  },
  {
   "cell_type": "markdown",
   "id": "6e41ebe6",
   "metadata": {},
   "source": [
    "## Create a consumer function and decorate it with `@consumes`\n",
    "\n",
    "Let's create a consumer function and explain its basic structure:"
   ]
  },
  {
   "cell_type": "code",
   "execution_count": null,
   "id": "93dd7a11",
   "metadata": {},
   "outputs": [
    {
     "data": {
      "text/markdown": [
       "```python\n",
       "\n",
       "from fastkafka._components.logger import get_logger\n",
       "\n",
       "logger = get_logger(__name__)\n",
       "\n",
       "@app.consumes()\n",
       "async def on_hello_world(msg: HelloWorld):\n",
       "    logger.info(f\"Got msg: {msg}\")\n",
       "\n",
       "```"
      ],
      "text/plain": [
       "<IPython.core.display.Markdown object>"
      ]
     },
     "execution_count": null,
     "metadata": {},
     "output_type": "execute_result"
    }
   ],
   "source": [
    "# | echo: false\n",
    "\n",
    "decorate_consumes = \"\"\"\n",
    "from fastkafka._components.logger import get_logger\n",
    "\n",
    "logger = get_logger(__name__)\n",
    "\n",
    "@app.consumes()\n",
    "async def on_hello_world(msg: HelloWorld):\n",
    "    logger.info(f\"Got msg: {msg}\")\n",
    "\"\"\"\n",
    "md(f\"```python\\n{decorate_consumes}\\n```\")"
   ]
  },
  {
   "cell_type": "markdown",
   "id": "9bdf5198",
   "metadata": {},
   "source": [
    "The function decorated with the `@consumes` decorator will be called when a message is produced to Kafka.\n",
    "\n",
    "The message will then be injected into the typed *msg* argument of the function and its type will be used to parse the message.\n",
    "\n",
    "In this example case, when the message is sent into a *hello_world* topic, it will be parsed into a HelloWorld class and `on_hello_world` function will be called with the parsed class as *msg* argument value."
   ]
  },
  {
   "cell_type": "markdown",
   "id": "b68c95f7",
   "metadata": {},
   "source": [
    "## Final app\n",
    "\n",
    "Your app code should look like this:"
   ]
  },
  {
   "cell_type": "code",
   "execution_count": null,
   "id": "cd7d88d3",
   "metadata": {},
   "outputs": [
    {
     "data": {
      "text/markdown": [
       "```python\n",
       "from fastkafka import FastKafka\n",
       "from pydantic import BaseModel, Field\n",
       "\n",
       "class HelloWorld(BaseModel):\n",
       "    msg: str = Field(\n",
       "        ...,\n",
       "        example=\"Hello\",\n",
       "        description=\"Demo hello world message\",\n",
       "    )\n",
       "app = FastKafka(bootstrap_servers=\"<address_of_your_kafka_bootstrap_server>\")\n",
       "\n",
       "from fastkafka._components.logger import get_logger\n",
       "\n",
       "logger = get_logger(__name__)\n",
       "\n",
       "@app.consumes()\n",
       "async def on_hello_world(msg: HelloWorld):\n",
       "    logger.info(f\"Got msg: {msg}\")\n",
       "\n",
       "```"
      ],
      "text/plain": [
       "<IPython.core.display.Markdown object>"
      ]
     },
     "execution_count": null,
     "metadata": {},
     "output_type": "execute_result"
    }
   ],
   "source": [
    "# | echo: false\n",
    "\n",
    "consumes_example = (\n",
    "    import_fastkafka\n",
    "    + import_pydantic\n",
    "    + define_HelloWorld\n",
    "    + create_app\n",
    "    + decorate_consumes\n",
    ")\n",
    "md(f\"```python\\n{consumes_example}\\n```\")"
   ]
  },
  {
   "cell_type": "markdown",
   "id": "8fa74215",
   "metadata": {},
   "source": [
    "## Run the app"
   ]
  },
  {
   "cell_type": "code",
   "execution_count": null,
   "id": "afe529ab",
   "metadata": {},
   "outputs": [
    {
     "data": {
      "text/markdown": [
       "Now we can run the app. Copy the code above in consumer_example.py and run it by running\n",
       "```shell\n",
       "fastkafka run --num-workers=1 consumer_example:app\n",
       "```"
      ],
      "text/plain": [
       "<IPython.core.display.Markdown object>"
      ]
     },
     "execution_count": null,
     "metadata": {},
     "output_type": "execute_result"
    }
   ],
   "source": [
    "script_file = \"consumer_example.py\"\n",
    "filename = script_file.split(\".py\")[0]\n",
    "cmd = f\"fastkafka run --num-workers=1 {filename}:app\"\n",
    "md(f\"Now we can run the app. Copy the code above in {script_file} and run it by running\\n```shell\\n{cmd}\\n```\")"
   ]
  },
  {
   "cell_type": "markdown",
   "id": "e66be2b9",
   "metadata": {},
   "source": [
    "After running the command, you should see this output in your terminal:"
   ]
  },
  {
   "cell_type": "code",
   "execution_count": null,
   "id": "335ec62d",
   "metadata": {},
   "outputs": [
    {
     "name": "stdout",
     "output_type": "stream",
     "text": [
      "[INFO] fastkafka._testing.local_broker: LocalKafkaBroker.start(): entering...\n",
      "[WARNING] fastkafka._testing.local_broker: LocalKafkaBroker.start(): (<_UnixSelectorEventLoop running=True closed=False debug=False>) is already running!\n",
      "[WARNING] fastkafka._testing.local_broker: LocalKafkaBroker.start(): calling nest_asyncio.apply()\n",
      "[INFO] fastkafka._components.test_dependencies: Java is already installed.\n",
      "[INFO] fastkafka._components.test_dependencies: But not exported to PATH, exporting...\n",
      "[INFO] fastkafka._components.test_dependencies: Kafka is installed.\n",
      "[INFO] fastkafka._components.test_dependencies: But not exported to PATH, exporting...\n",
      "[INFO] fastkafka._testing.local_broker: Starting zookeeper...\n",
      "[INFO] fastkafka._testing.local_broker: Starting kafka...\n",
      "[INFO] fastkafka._testing.local_broker: Local Kafka broker up and running on 127.0.0.1:9092\n",
      "[INFO] fastkafka._testing.local_broker: <class 'fastkafka.testing.LocalKafkaBroker'>.start(): returning 127.0.0.1:9092\n",
      "[INFO] fastkafka._testing.local_broker: LocalKafkaBroker.start(): exited.\n",
      "[INFO] fastkafka._testing.local_broker: LocalKafkaBroker.stop(): entering...\n",
      "[INFO] fastkafka._components._subprocess: terminate_asyncio_process(): Terminating the process 201347...\n",
      "[INFO] fastkafka._components._subprocess: terminate_asyncio_process(): Process 201347 terminated.\n",
      "[INFO] fastkafka._components._subprocess: terminate_asyncio_process(): Terminating the process 200986...\n",
      "[INFO] fastkafka._components._subprocess: terminate_asyncio_process(): Process 200986 terminated.\n",
      "[INFO] fastkafka._testing.local_broker: LocalKafkaBroker.stop(): exited.\n"
     ]
    }
   ],
   "source": [
    "# | hide\n",
    "\n",
    "with LocalKafkaBroker(topicas=[\"hello_world\"], apply_nest_asyncio=True) as bootstrap_server:\n",
    "    exit_code, output = await run_script_and_cancel(\n",
    "            script=consumes_example.replace(\"<address_of_your_kafka_bootstrap_server>\", bootstrap_server),\n",
    "            script_file=script_file,\n",
    "            cmd=cmd,\n",
    "            cancel_after=5,\n",
    "        )\n",
    "\n",
    "    assert exit_code == 0, output.decode(\"UTF-8\")"
   ]
  },
  {
   "cell_type": "code",
   "execution_count": null,
   "id": "e35f6e21",
   "metadata": {},
   "outputs": [
    {
     "name": "stdout",
     "output_type": "stream",
     "text": [
      "[201768]: [INFO] fastkafka._components.aiokafka_consumer_loop: aiokafka_consumer_loop() starting...\n",
      "[201768]: [INFO] fastkafka._components.aiokafka_consumer_loop: aiokafka_consumer_loop(): Consumer created using the following parameters: {'bootstrap_servers': '127.0.0.1:9092', 'auto_offset_reset': 'earliest', 'max_poll_records': 100}\n",
      "[201768]: [INFO] fastkafka._components.aiokafka_consumer_loop: aiokafka_consumer_loop(): Consumer started.\n",
      "[201768]: [INFO] aiokafka.consumer.subscription_state: Updating subscribed topics to: frozenset({'hello_world'})\n",
      "[201768]: [INFO] aiokafka.consumer.consumer: Subscribed to topic(s): {'hello_world'}\n",
      "[201768]: [INFO] fastkafka._components.aiokafka_consumer_loop: aiokafka_consumer_loop(): Consumer subscribed.\n",
      "[201768]: [WARNING] aiokafka.cluster: Topic hello_world is not available during auto-create initialization\n",
      "[201768]: [INFO] aiokafka.consumer.group_coordinator: Metadata for topic has changed from {} to {'hello_world': 0}. \n",
      "Starting process cleanup, this may take a few seconds...\n",
      "[INFO] fastkafka._server: terminate_asyncio_process(): Terminating the process 201768...\n",
      "[201768]: [INFO] fastkafka._components.aiokafka_consumer_loop: aiokafka_consumer_loop(): Consumer stopped.\n",
      "[201768]: [INFO] fastkafka._components.aiokafka_consumer_loop: aiokafka_consumer_loop() finished.\n",
      "[INFO] fastkafka._server: terminate_asyncio_process(): Process 201768 terminated.\n",
      "\n"
     ]
    }
   ],
   "source": [
    "# | echo: false\n",
    "\n",
    "print(output.decode(\"UTF-8\"))"
   ]
  },
  {
   "cell_type": "markdown",
   "id": "d4ec6dab",
   "metadata": {},
   "source": [
    "## Send the message to kafka topic"
   ]
  },
  {
   "cell_type": "markdown",
   "id": "c81e65bc",
   "metadata": {},
   "source": [
    "Lets check the topic and see if there is a \"Hello world!\" message in the hello_world topic. In your terminal run:"
   ]
  },
  {
   "cell_type": "code",
   "execution_count": null,
   "id": "6ef181f6",
   "metadata": {},
   "outputs": [
    {
     "data": {
      "text/markdown": [
       "```shell\n",
       "echo {\\\"msg\\\": \\\"Hello world\\\"} | kafka-console-producer.sh --topic=hello_world --bootstrap-server=<addr_of_your_kafka_bootstrap_server>\n",
       "```"
      ],
      "text/plain": [
       "<IPython.core.display.Markdown object>"
      ]
     },
     "execution_count": null,
     "metadata": {},
     "output_type": "execute_result"
    }
   ],
   "source": [
    "# | echo: false\n",
    "\n",
    "producer_cmd = 'echo {\\\\\"msg\\\\\": \\\\\"Hello world\\\\\"} | kafka-console-producer.sh --topic=hello_world --bootstrap-server=<addr_of_your_kafka_bootstrap_server>'\n",
    "md(f\"```shell\\n{producer_cmd}\\n```\")"
   ]
  },
  {
   "cell_type": "code",
   "execution_count": null,
   "id": "a66904c8",
   "metadata": {},
   "outputs": [
    {
     "name": "stdout",
     "output_type": "stream",
     "text": [
      "[INFO] fastkafka._testing.local_broker: LocalKafkaBroker.start(): entering...\n",
      "[WARNING] fastkafka._testing.local_broker: LocalKafkaBroker.start(): (<_UnixSelectorEventLoop running=True closed=False debug=False>) is already running!\n",
      "[WARNING] fastkafka._testing.local_broker: LocalKafkaBroker.start(): calling nest_asyncio.apply()\n",
      "[INFO] fastkafka._components.test_dependencies: Java is already installed.\n",
      "[INFO] fastkafka._components.test_dependencies: Kafka is installed.\n",
      "[INFO] fastkafka._testing.local_broker: Starting zookeeper...\n",
      "[INFO] fastkafka._testing.local_broker: Starting kafka...\n",
      "[INFO] fastkafka._testing.local_broker: Local Kafka broker up and running on 127.0.0.1:9092\n",
      "[INFO] fastkafka._testing.local_broker: <class 'fastkafka.testing.LocalKafkaBroker'>.start(): returning 127.0.0.1:9092\n",
      "[INFO] fastkafka._testing.local_broker: LocalKafkaBroker.start(): exited.\n",
      "[INFO] fastkafka._components._subprocess: terminate_asyncio_process(): Terminating the process 210809...\n",
      "[INFO] fastkafka._components._subprocess: terminate_asyncio_process(): Process 210809 terminated.\n",
      "[INFO] fastkafka._testing.local_broker: LocalKafkaBroker.stop(): entering...\n",
      "[INFO] fastkafka._components._subprocess: terminate_asyncio_process(): Terminating the process 210049...\n",
      "[INFO] fastkafka._components._subprocess: terminate_asyncio_process(): Process 210049 terminated.\n",
      "[INFO] fastkafka._components._subprocess: terminate_asyncio_process(): Terminating the process 209688...\n",
      "[INFO] fastkafka._components._subprocess: terminate_asyncio_process(): Process 209688 terminated.\n",
      "[INFO] fastkafka._testing.local_broker: LocalKafkaBroker.stop(): exited.\n"
     ]
    },
    {
     "name": "stderr",
     "output_type": "stream",
     "text": [
      "/usr/lib/python3.10/ast.py:50: RuntimeWarning: coroutine 'create_subprocess_shell' was never awaited\n",
      "  return compile(source, filename, mode, flags,\n",
      "RuntimeWarning: Enable tracemalloc to get the object allocation traceback\n"
     ]
    },
    {
     "ename": "TimeoutError",
     "evalue": "",
     "output_type": "error",
     "traceback": [
      "\u001b[0;31m---------------------------------------------------------------------------\u001b[0m",
      "\u001b[0;31mTimeoutError\u001b[0m                              Traceback (most recent call last)",
      "Cell \u001b[0;32mIn[28], line 15\u001b[0m\n\u001b[1;32m      4\u001b[0m consumes_example \u001b[38;5;241m=\u001b[39m (\n\u001b[1;32m      5\u001b[0m     import_fastkafka\n\u001b[1;32m      6\u001b[0m     \u001b[38;5;241m+\u001b[39m import_pydantic\n\u001b[0;32m   (...)\u001b[0m\n\u001b[1;32m      9\u001b[0m     \u001b[38;5;241m+\u001b[39m decorate_consumes\n\u001b[1;32m     10\u001b[0m )\n\u001b[1;32m     12\u001b[0m \u001b[38;5;28;01mwith\u001b[39;00m LocalKafkaBroker(\n\u001b[1;32m     13\u001b[0m     topics\u001b[38;5;241m=\u001b[39m[\u001b[38;5;124m\"\u001b[39m\u001b[38;5;124mhello_world\u001b[39m\u001b[38;5;124m\"\u001b[39m], apply_nest_asyncio\u001b[38;5;241m=\u001b[39m\u001b[38;5;28;01mTrue\u001b[39;00m\n\u001b[1;32m     14\u001b[0m ) \u001b[38;5;28;01mas\u001b[39;00m bootstrap_server:\n\u001b[0;32m---> 15\u001b[0m     \u001b[38;5;28;01masync\u001b[39;00m \u001b[38;5;28;01mwith\u001b[39;00m asyncer\u001b[38;5;241m.\u001b[39mcreate_task_group() \u001b[38;5;28;01mas\u001b[39;00m task_group:\n\u001b[1;32m     16\u001b[0m         consumer_task \u001b[38;5;241m=\u001b[39m task_group\u001b[38;5;241m.\u001b[39msoonify(run_and_match)(\n\u001b[1;32m     17\u001b[0m             \u001b[38;5;241m*\u001b[39mcmd\u001b[38;5;241m.\u001b[39msplit(\u001b[38;5;124m\"\u001b[39m\u001b[38;5;124m \u001b[39m\u001b[38;5;124m\"\u001b[39m),\n\u001b[1;32m     18\u001b[0m             pattern\u001b[38;5;241m=\u001b[39m\u001b[38;5;124m'\u001b[39m\u001b[38;5;124mGot msg: \u001b[39m\u001b[38;5;124m{\u001b[39m\u001b[38;5;124m\"\u001b[39m\u001b[38;5;124mmsg\u001b[39m\u001b[38;5;124m\"\u001b[39m\u001b[38;5;124m: \u001b[39m\u001b[38;5;124m\"\u001b[39m\u001b[38;5;124mHello world!\u001b[39m\u001b[38;5;124m\"\u001b[39m\u001b[38;5;124m}\u001b[39m\u001b[38;5;124m'\u001b[39m,\n\u001b[1;32m     19\u001b[0m             timeout\u001b[38;5;241m=\u001b[39m\u001b[38;5;241m15\u001b[39m,\n\u001b[1;32m     20\u001b[0m         )\n\u001b[1;32m     22\u001b[0m \u001b[38;5;66;03m#         consumer_task = task_group.soonify(run_script_and_cancel)(\u001b[39;00m\n\u001b[1;32m     23\u001b[0m \u001b[38;5;66;03m#             script=consumes_example.replace(\u001b[39;00m\n\u001b[1;32m     24\u001b[0m \u001b[38;5;66;03m#                 \"<address_of_your_kafka_bootstrap_server>\", bootstrap_server\u001b[39;00m\n\u001b[0;32m   (...)\u001b[0m\n\u001b[1;32m     28\u001b[0m \u001b[38;5;66;03m#             cancel_after=10,\u001b[39;00m\n\u001b[1;32m     29\u001b[0m \u001b[38;5;66;03m#         )\u001b[39;00m\n",
      "File \u001b[0;32m/usr/local/lib/python3.10/dist-packages/anyio/_backends/_asyncio.py:662\u001b[0m, in \u001b[0;36mTaskGroup.__aexit__\u001b[0;34m(self, exc_type, exc_val, exc_tb)\u001b[0m\n\u001b[1;32m    660\u001b[0m             \u001b[38;5;28;01mraise\u001b[39;00m ExceptionGroup(exceptions)\n\u001b[1;32m    661\u001b[0m     \u001b[38;5;28;01melif\u001b[39;00m exceptions \u001b[38;5;129;01mand\u001b[39;00m exceptions[\u001b[38;5;241m0\u001b[39m] \u001b[38;5;129;01mis\u001b[39;00m \u001b[38;5;129;01mnot\u001b[39;00m exc_val:\n\u001b[0;32m--> 662\u001b[0m         \u001b[38;5;28;01mraise\u001b[39;00m exceptions[\u001b[38;5;241m0\u001b[39m]\n\u001b[1;32m    663\u001b[0m \u001b[38;5;28;01mexcept\u001b[39;00m \u001b[38;5;167;01mBaseException\u001b[39;00m \u001b[38;5;28;01mas\u001b[39;00m exc:\n\u001b[1;32m    664\u001b[0m     \u001b[38;5;66;03m# Clear the context here, as it can only be done in-flight.\u001b[39;00m\n\u001b[1;32m    665\u001b[0m     \u001b[38;5;66;03m# If the context is not cleared, it can result in recursive tracebacks (see #145).\u001b[39;00m\n\u001b[1;32m    666\u001b[0m     exc\u001b[38;5;241m.\u001b[39m__context__ \u001b[38;5;241m=\u001b[39m \u001b[38;5;28;01mNone\u001b[39;00m\n",
      "File \u001b[0;32m/usr/lib/python3.10/asyncio/tasks.py:232\u001b[0m, in \u001b[0;36mTask.__step\u001b[0;34m(***failed resolving arguments***)\u001b[0m\n\u001b[1;32m    228\u001b[0m \u001b[38;5;28;01mtry\u001b[39;00m:\n\u001b[1;32m    229\u001b[0m     \u001b[38;5;28;01mif\u001b[39;00m exc \u001b[38;5;129;01mis\u001b[39;00m \u001b[38;5;28;01mNone\u001b[39;00m:\n\u001b[1;32m    230\u001b[0m         \u001b[38;5;66;03m# We use the `send` method directly, because coroutines\u001b[39;00m\n\u001b[1;32m    231\u001b[0m         \u001b[38;5;66;03m# don't have `__iter__` and `__next__` methods.\u001b[39;00m\n\u001b[0;32m--> 232\u001b[0m         result \u001b[38;5;241m=\u001b[39m \u001b[43mcoro\u001b[49m\u001b[38;5;241;43m.\u001b[39;49m\u001b[43msend\u001b[49m\u001b[43m(\u001b[49m\u001b[38;5;28;43;01mNone\u001b[39;49;00m\u001b[43m)\u001b[49m\n\u001b[1;32m    233\u001b[0m     \u001b[38;5;28;01melse\u001b[39;00m:\n\u001b[1;32m    234\u001b[0m         result \u001b[38;5;241m=\u001b[39m coro\u001b[38;5;241m.\u001b[39mthrow(exc)\n",
      "File \u001b[0;32m~/.local/lib/python3.10/site-packages/asyncer/_main.py:162\u001b[0m, in \u001b[0;36mTaskGroup.soonify.<locals>.wrapper.<locals>.value_wrapper\u001b[0;34m()\u001b[0m\n\u001b[1;32m    160\u001b[0m \u001b[38;5;129m@functools\u001b[39m\u001b[38;5;241m.\u001b[39mwraps(partial_f)\n\u001b[1;32m    161\u001b[0m \u001b[38;5;28;01masync\u001b[39;00m \u001b[38;5;28;01mdef\u001b[39;00m \u001b[38;5;21mvalue_wrapper\u001b[39m() \u001b[38;5;241m-\u001b[39m\u001b[38;5;241m>\u001b[39m \u001b[38;5;28;01mNone\u001b[39;00m:\n\u001b[0;32m--> 162\u001b[0m     value \u001b[38;5;241m=\u001b[39m \u001b[38;5;28;01mawait\u001b[39;00m partial_f()\n\u001b[1;32m    163\u001b[0m     soon_value\u001b[38;5;241m.\u001b[39m_stored_value \u001b[38;5;241m=\u001b[39m value\n",
      "File \u001b[0;32m/work/fastkafka/fastkafka/_testing/local_broker.py:346\u001b[0m, in \u001b[0;36mrun_and_match\u001b[0;34m(timeout, pattern, *args)\u001b[0m\n\u001b[1;32m    340\u001b[0m         \u001b[38;5;28;01mraise\u001b[39;00m \u001b[38;5;167;01mRuntimeError\u001b[39;00m(\n\u001b[1;32m    341\u001b[0m             \u001b[38;5;124mf\u001b[39m\u001b[38;5;124m\"\u001b[39m\u001b[38;5;124mstdout=\u001b[39m\u001b[38;5;132;01m{\u001b[39;00mdstdout\u001b[38;5;132;01m}\u001b[39;00m\u001b[38;5;124m, stderr=\u001b[39m\u001b[38;5;132;01m{\u001b[39;00mdstderr\u001b[38;5;132;01m}\u001b[39;00m\u001b[38;5;124m, returncode=\u001b[39m\u001b[38;5;132;01m{\u001b[39;00mproc\u001b[38;5;241m.\u001b[39mreturncode\u001b[38;5;132;01m}\u001b[39;00m\u001b[38;5;124m\"\u001b[39m\n\u001b[1;32m    342\u001b[0m         )\n\u001b[1;32m    344\u001b[0m \u001b[38;5;28;01mawait\u001b[39;00m terminate_asyncio_process(proc)\n\u001b[0;32m--> 346\u001b[0m \u001b[38;5;28;01mraise\u001b[39;00m \u001b[38;5;167;01mTimeoutError\u001b[39;00m()\n",
      "\u001b[0;31mTimeoutError\u001b[0m: "
     ]
    }
   ],
   "source": [
    "# | hide\n",
    "\n",
    "\n",
    "consumes_example = (\n",
    "    import_fastkafka\n",
    "    + import_pydantic\n",
    "    + define_HelloWorld\n",
    "    + create_app\n",
    "    + decorate_consumes\n",
    ")\n",
    "\n",
    "with LocalKafkaBroker(\n",
    "    topics=[\"hello_world\"], apply_nest_asyncio=True\n",
    ") as bootstrap_server:\n",
    "    async with asyncer.create_task_group() as task_group:\n",
    "        consumer_task = task_group.soonify(run_and_match)(\n",
    "            *cmd.split(\" \"),\n",
    "            pattern='Got msg: {\"msg\": \"Hello world!\"}',\n",
    "            timeout=15,\n",
    "        )\n",
    "\n",
    "#         consumer_task = task_group.soonify(run_script_and_cancel)(\n",
    "#             script=consumes_example.replace(\n",
    "#                 \"<address_of_your_kafka_bootstrap_server>\", bootstrap_server\n",
    "#             ),\n",
    "#             script_file=script_file,\n",
    "#             cmd=cmd,\n",
    "#             cancel_after=10,\n",
    "#         )\n",
    "\n",
    "        await asyncio.sleep(5)\n",
    "\n",
    "        producer_task = task_group.soonify(\n",
    "            asyncio.create_subprocess_shell)(\n",
    "                cmd=producer_cmd.replace(\n",
    "                    \"<addr_of_your_kafka_bootstrap_server>\", bootstrap_server\n",
    "                ),\n",
    "                stdout=asyncio.subprocess.PIPE,\n",
    "                stderr=asyncio.subprocess.PIPE,\n",
    "            )\n",
    "\n",
    "#     await terminate_asyncio_process(consumer_task.value)\n",
    "\n",
    "print(consumer_task.value[1].decode(\"UTF-8\"))"
   ]
  },
  {
   "cell_type": "code",
   "execution_count": null,
   "id": "2c9a6ea5",
   "metadata": {},
   "outputs": [
    {
     "data": {
      "text/plain": [
       "(b'', b'')"
      ]
     },
     "execution_count": null,
     "metadata": {},
     "output_type": "execute_result"
    }
   ],
   "source": [
    "await producer_task.value.communicate()"
   ]
  },
  {
   "cell_type": "markdown",
   "id": "9292901c",
   "metadata": {},
   "source": [
    "You should see the {\"msg\": \"Hello world!\"} messages in your topic."
   ]
  },
  {
   "cell_type": "markdown",
   "id": "49b9c46e",
   "metadata": {},
   "source": [
    "## Choosing a topic"
   ]
  },
  {
   "cell_type": "markdown",
   "id": "ed9e5f0c",
   "metadata": {},
   "source": [
    "You probably noticed that you didn't define which topic you are sending the message to, this is because the `@produces` decorator determines the topic by default from your function name.\n",
    "The decorator will take your function name and strip the default \"to_\" prefix from it and use the rest as the topic name. In this example case, the topic is *hello_world*."
   ]
  },
  {
   "cell_type": "markdown",
   "id": "4938a558",
   "metadata": {},
   "source": [
    "!!! warn \\\"New topics\\\"\n",
    "\n",
    "    Kafka producers and application startup will fail if the topics you are producing to don't yet exist. Before running the app, make sure that the topics are created."
   ]
  },
  {
   "cell_type": "markdown",
   "id": "dc3e9f8a",
   "metadata": {},
   "source": [
    "You can choose your custom prefix by defining the `prefix` parameter in produces decorator, like this:"
   ]
  },
  {
   "cell_type": "code",
   "execution_count": null,
   "id": "da734ca4",
   "metadata": {},
   "outputs": [],
   "source": [
    "# | echo: False\n",
    "decorate_produces_prefix = \"\"\"\n",
    "@app.produces(prefix=\"send_to_\")\n",
    "async def send_to_hello_world(msg: str) -> HelloWorld:\n",
    "    return HelloWorld(msg=msg)\n",
    "\"\"\"\n",
    "md(f\"```python\\n{decorate_produces_prefix}\\n```\")"
   ]
  },
  {
   "cell_type": "code",
   "execution_count": null,
   "id": "b7563b45",
   "metadata": {},
   "outputs": [],
   "source": [
    "# | hide\n",
    "\n",
    "\n",
    "produces_example = (\n",
    "    import_fastkafka\n",
    "    + import_pydantic\n",
    "    + define_HelloWorld\n",
    "    + create_app\n",
    "    + decorate_produces_prefix\n",
    "    + define_run.replace(\"to_hello_world\", \"send_to_hello_world\")\n",
    ")\n",
    "\n",
    "with LocalKafkaBroker(topics=[\"hello_world\"], apply_nest_asyncio=True) as bootstrap_server:\n",
    "    exit_code, output = await run_script_and_cancel(\n",
    "            script=produces_example.replace(\"<address_of_your_kafka_bootstrap_server>\", bootstrap_server),\n",
    "            script_file=script_file,\n",
    "            cmd=cmd,\n",
    "            cancel_after=5,\n",
    "        )\n",
    "\n",
    "    assert exit_code == 0 , output.decode(\"UTF-8\")\n",
    "\n",
    "    proc = await run_and_match(\n",
    "        *consumer_cmd.replace(\n",
    "            \"<addr_of_your_kafka_bootstrap_server>\", bootstrap_server\n",
    "        ).split(\" \"),\n",
    "        pattern='{\"msg\": \"Hello world!\"}',\n",
    "        timeout=10\n",
    "    )\n",
    "    \n",
    "    await terminate_asyncio_process(proc)"
   ]
  },
  {
   "cell_type": "markdown",
   "id": "0c4225dd",
   "metadata": {},
   "source": [
    "Also, you can define the topic name completely by defining the `topic` in parameter in produces decorator, like this:"
   ]
  },
  {
   "cell_type": "code",
   "execution_count": null,
   "id": "9bf881b6",
   "metadata": {},
   "outputs": [],
   "source": [
    "# | echo: False\n",
    "decorate_produces_topic = \"\"\"\n",
    "@app.produces(topic=\"my_special_topic\")\n",
    "async def to_hello_world(msg: str) -> HelloWorld:\n",
    "    return HelloWorld(msg=msg)\n",
    "\"\"\"\n",
    "md(f\"```python\\n{decorate_produces_topic}\\n```\")"
   ]
  },
  {
   "cell_type": "code",
   "execution_count": null,
   "id": "612baa8c",
   "metadata": {},
   "outputs": [],
   "source": [
    "# | hide\n",
    "\n",
    "produces_example = (\n",
    "    import_fastkafka\n",
    "    + import_pydantic\n",
    "    + define_HelloWorld\n",
    "    + create_app\n",
    "    + decorate_produces_topic\n",
    "    + define_run\n",
    ")\n",
    "\n",
    "with LocalKafkaBroker(\n",
    "    topics=[\"my_special_topic\"], apply_nest_asyncio=True\n",
    ") as bootstrap_server:\n",
    "    exit_code, output = await run_script_and_cancel(\n",
    "        script=produces_example.replace(\n",
    "            \"<address_of_your_kafka_bootstrap_server>\", bootstrap_server\n",
    "        ),\n",
    "        script_file=script_file,\n",
    "        cmd=cmd,\n",
    "        cancel_after=5,\n",
    "    )\n",
    "\n",
    "    assert exit_code == 0 , output.decode(\"UTF-8\")\n",
    "\n",
    "    proc = await run_and_match(\n",
    "        *consumer_cmd.replace(\"<addr_of_your_kafka_bootstrap_server>\", bootstrap_server)\n",
    "        .replace(\"hello_world\", \"my_special_topic\")\n",
    "        .split(\" \"),\n",
    "        pattern='{\"msg\": \"Hello world!\"}',\n",
    "        timeout=10\n",
    "    )\n",
    "\n",
    "    await terminate_asyncio_process(proc)"
   ]
  },
  {
   "cell_type": "markdown",
   "id": "da50972c",
   "metadata": {},
   "source": [
    "## Message data"
   ]
  },
  {
   "cell_type": "markdown",
   "id": "7e4e8052",
   "metadata": {},
   "source": [
    "What you return from your function will be translated to bytes and sent to defined Kafka topic. The typing of the return value is used for generating the documentation for your Kafka app.\n",
    "\n",
    "In this example case, the return value is HelloWorld class which will be translated into JSON formatted string and then to bytes. The translated data will then be sent to Kafka."
   ]
  },
  {
   "cell_type": "code",
   "execution_count": null,
   "id": "b2258bef",
   "metadata": {},
   "outputs": [],
   "source": []
  }
 ],
 "metadata": {
  "kernelspec": {
   "display_name": "python3",
   "language": "python",
   "name": "python3"
  }
 },
 "nbformat": 4,
 "nbformat_minor": 5
}

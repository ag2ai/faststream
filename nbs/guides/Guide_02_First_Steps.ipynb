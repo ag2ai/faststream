{
 "cells": [
  {
   "cell_type": "markdown",
   "id": "f48d0afd",
   "metadata": {},
   "source": [
    "# First Steps"
   ]
  },
  {
   "cell_type": "markdown",
   "id": "fd434418",
   "metadata": {},
   "source": [
    "## Creating a simple Kafka consumer app"
   ]
  },
  {
   "cell_type": "code",
   "execution_count": null,
   "id": "1482b8b9",
   "metadata": {},
   "outputs": [],
   "source": [
    "from IPython.display import Markdown as md"
   ]
  },
  {
   "cell_type": "code",
   "execution_count": null,
   "id": "4a18cdd7",
   "metadata": {},
   "outputs": [],
   "source": [
    "import nest_asyncio\n",
    "\n",
    "nest_asyncio.apply()"
   ]
  },
  {
   "cell_type": "markdown",
   "id": "1073bb3b",
   "metadata": {},
   "source": [
    "For our first demo we will create the simplest possible Kafka consumer and run it using uvicorn.\n",
    "\n",
    "The consumer will:\n",
    "\n",
    "    1. Connect to the Kafka Broker we setup in the Intro guide\n",
    "    2. Listen to the hello topic\n",
    "    3. Write any message received from the hello topic to stdout\n",
    "    \n",
    "To create the consumer, first, create a file named <b>hello_kafka_consumer.py</b> and copy the following code to it:"
   ]
  },
  {
   "cell_type": "code",
   "execution_count": null,
   "id": "825bf08a",
   "metadata": {},
   "outputs": [
    {
     "data": {
      "text/markdown": [
       "```python\n",
       "\n",
       "from fast_kafka_api.application import FastKafkaAPI\n",
       "from pydantic import BaseModel, Field\n",
       "from os import environ\n",
       "\n",
       "kafka_server_url = environ[\"KAFKA_HOSTNAME\"]\n",
       "kafka_server_port = environ[\"KAFKA_PORT\"]\n",
       "\n",
       "kafka_config = {\n",
       "        \"bootstrap_servers\": f\"{kafka_server_url}:{kafka_server_port}\",\n",
       "    }\n",
       "\n",
       "class HelloKafkaMsg(BaseModel):\n",
       "    msg: str = Field(\n",
       "        ...,\n",
       "        example=\"Hello\",\n",
       "        description=\"Demo hello world message\",\n",
       "    )\n",
       "\n",
       "app = FastKafkaAPI(\n",
       "        kafka_config=kafka_config\n",
       "    )\n",
       "\n",
       "@app.consumes()\n",
       "async def on_hello(msg: HelloKafkaMsg):\n",
       "    print(f\"Got data, msg={msg.msg}\")\n",
       "\n",
       "```"
      ],
      "text/plain": [
       "<IPython.core.display.Markdown object>"
      ]
     },
     "execution_count": null,
     "metadata": {},
     "output_type": "execute_result"
    }
   ],
   "source": [
    "#| hide_input\n",
    "app_script =\"\"\"\n",
    "from fast_kafka_api.application import FastKafkaAPI\n",
    "from pydantic import BaseModel, Field\n",
    "from os import environ\n",
    "\n",
    "kafka_server_url = environ[\"KAFKA_HOSTNAME\"]\n",
    "kafka_server_port = environ[\"KAFKA_PORT\"]\n",
    "\n",
    "kafka_config = {\n",
    "        \"bootstrap_servers\": f\"{kafka_server_url}:{kafka_server_port}\",\n",
    "    }\n",
    "\n",
    "class HelloKafkaMsg(BaseModel):\n",
    "    msg: str = Field(\n",
    "        ...,\n",
    "        example=\"Hello\",\n",
    "        description=\"Demo hello world message\",\n",
    "    )\n",
    "\n",
    "app = FastKafkaAPI(\n",
    "        kafka_config=kafka_config\n",
    "    )\n",
    "\n",
    "@app.consumes()\n",
    "async def on_hello(msg: HelloKafkaMsg):\n",
    "    print(f\"Got data, msg={msg.msg}\")\n",
    "\"\"\"\n",
    "\n",
    "md(f\"```python\\n{app_script}\\n```\")"
   ]
  },
  {
   "cell_type": "markdown",
   "id": "3efde628",
   "metadata": {},
   "source": [
    "To run this consumer, in your terminal, run:"
   ]
  },
  {
   "cell_type": "code",
   "execution_count": null,
   "id": "9b5100a2",
   "metadata": {},
   "outputs": [
    {
     "data": {
      "text/markdown": [
       "```shell\n",
       "python3 -m uvicorn hello_kafka_consumer:app\n",
       "```"
      ],
      "text/plain": [
       "<IPython.core.display.Markdown object>"
      ]
     },
     "execution_count": null,
     "metadata": {},
     "output_type": "execute_result"
    }
   ],
   "source": [
    "#|hide_input\n",
    "run_cmd = \"python3 -m uvicorn hello_kafka_consumer:app\"\n",
    "\n",
    "md(f\"```shell\\n{run_cmd}\\n```\")"
   ]
  },
  {
   "cell_type": "markdown",
   "id": "9f3770bc",
   "metadata": {},
   "source": [
    "After running the command, you should see something simmilar to the ouput below:"
   ]
  },
  {
   "cell_type": "code",
   "execution_count": null,
   "id": "a662aa11",
   "metadata": {},
   "outputs": [
    {
     "name": "stdout",
     "output_type": "stream",
     "text": [
      "[INFO] fast_kafka_api._components.asyncapi: ok\n",
      "\u001b[32mINFO\u001b[0m:     Started server process [\u001b[36m15137\u001b[0m]\n",
      "\u001b[32mINFO\u001b[0m:     Waiting for application startup.\n",
      "[INFO] fast_kafka_api._components.asyncapi: Async specifications generated at: 'asyncapi/spec/asyncapi.yml'\n",
      "[INFO] fast_kafka_api._components.asyncapi: Async docs generated at 'asyncapi/docs'\n",
      "[INFO] fast_kafka_api._components.asyncapi: Output of '$ npx -y -p @asyncapi/generator ag asyncapi/spec/asyncapi.yml @asyncapi/html-template -o asyncapi/docs --force-write'\u001b[32m\n",
      "\n",
      "Done! ✨\u001b[0m\n",
      "\u001b[33mCheck out your shiny new generated files at \u001b[0m\u001b[35m/tmp/tmpoqscot_4/asyncapi/docs\u001b[0m\u001b[33m.\u001b[0m\n",
      "\n",
      "\n",
      "[INFO] fast_kafka_api._components.aiokafka_consumer_loop: aiokafka_consumer_loop() starting..\n",
      "[INFO] fast_kafka_api._components.aiokafka_consumer_loop: aiokafka_consumer_loop(): Consumer created.\n",
      "\u001b[32mINFO\u001b[0m:     Application startup complete.\n",
      "\u001b[32mINFO\u001b[0m:     Uvicorn running on \u001b[1mhttp://127.0.0.1:8000\u001b[0m (Press CTRL+C to quit)\n",
      "[INFO] fast_kafka_api._components.aiokafka_consumer_loop: aiokafka_consumer_loop(): Consumer started.\n",
      "[INFO] aiokafka.consumer.subscription_state: Updating subscribed topics to: frozenset({'hello'})\n",
      "[INFO] aiokafka.consumer.consumer: Subscribed to topic(s): {'hello'}\n",
      "[INFO] fast_kafka_api._components.aiokafka_consumer_loop: aiokafka_consumer_loop(): Consumer subscribed.\n",
      "[INFO] aiokafka.consumer.group_coordinator: Metadata for topic has changed from {} to {'hello': 1}. \n",
      "^C\n",
      "\u001b[32mINFO\u001b[0m:     Shutting down\n",
      "\u001b[32mINFO\u001b[0m:     Waiting for application shutdown.\n",
      "[INFO] fast_kafka_api._components.aiokafka_consumer_loop: aiokafka_consumer_loop(): Consumer stopped.\n",
      "[INFO] fast_kafka_api._components.aiokafka_consumer_loop: aiokafka_consumer_loop() finished.\n",
      "\u001b[32mINFO\u001b[0m:     Application shutdown complete.\n",
      "\u001b[32mINFO\u001b[0m:     Finished server process [\u001b[36m15137\u001b[0m]\n"
     ]
    }
   ],
   "source": [
    "#| notest\n",
    "import os\n",
    "\n",
    "from tempfile import TemporaryDirectory\n",
    "from pathlib import Path\n",
    "\n",
    "with TemporaryDirectory() as d:\n",
    "    consumer_script = Path(d)/\"hello_kafka_consumer.py\"\n",
    "    with open(consumer_script, \"a+\") as file:\n",
    "        file.write(app_script)\n",
    "    os.chdir(d)\n",
    "    !{run_cmd}"
   ]
  },
  {
   "cell_type": "markdown",
   "id": "29f4df11",
   "metadata": {},
   "source": [
    "Now you can interact with your consumer, by sending the messages to the subscribed 'hello' topic, don't worry, we will cover this in the next step of this guide."
   ]
  },
  {
   "cell_type": "markdown",
   "id": "d28903bc",
   "metadata": {},
   "source": [
    "## Sending first message to your consumer"
   ]
  },
  {
   "cell_type": "markdown",
   "id": "62de2731",
   "metadata": {},
   "source": [
    "After we have created and run our first consumer, we should send a message to it, to make sure it is working properly.\n",
    "\n",
    "If you are using the Kafka setup as described in the Intro guide, you can follow the steps listed here to send a message to the hello topic.\n",
    "\n",
    "First, connect to your running kafka broker by running:\n",
    "\n",
    "``` shell\n",
    "docker run -it kafka /bin/bash\n",
    "```\n",
    "\n",
    "Then, when connected to the container, run:\n",
    "\n",
    "``` shell\n",
    "kafka-console-producer.sh --bootstrap-server=localhost:9092 --topic=hello\n",
    "```\n",
    "\n",
    "This will open an interactive connection to the hello topic, now you can write your mesages to the topic and they will be consumed by our consumer.\n",
    "\n",
    "In the shell, type:\n",
    "``` shell\n",
    "{\"msg\":\"hello\"}\n",
    "```\n",
    "and press enter. This will send a hello message to the topic which will be read by our running consumer and outputed to stdout.\n",
    "\n",
    "Check the output of your consumer (terminal where you run the uvicorn command) and confirm that your consumer has read the Kafka message. You shoud see something like this:\n",
    "``` shell\n",
    "Got data, msg=hello\n",
    "```"
   ]
  },
  {
   "cell_type": "markdown",
   "id": "fc013025",
   "metadata": {},
   "source": [
    "## Creating a hello producer"
   ]
  },
  {
   "cell_type": "markdown",
   "id": "8859e06e",
   "metadata": {},
   "source": [
    "Consuming messages is only a part of this Library functionality, the other big part is producing the messages. So, let's create our first kafka producer which will send it's greetings to our consumer periodically.\n",
    "\n",
    "The producer will:\n",
    "\n",
    "    1. Connect to the Kafka Broker we setup in the Intro guide\n",
    "    2. Connect to the hello topic\n",
    "    3. Periodically send a message to the hello world topic\n",
    "    \n",
    "To create the producer, first, create a file named <b>hello_kafka_producer.py</b> and copy the following code to it:\n",
    "\n",
    "```python\n",
    "from fast_kafka_api.application import FastKafkaAPI\n",
    "from fast_kafka_api.asyncapi import KafkaMessage\n",
    "from pydantic import Field\n",
    "\n",
    "kafka_config = {\n",
    "        \"bootstrap.servers\": \"localhost:9092\",\n",
    "        \"group.id\": \"hello_producer_group\"\n",
    "    }\n",
    "\n",
    "class HelloKafkaMsg(KafkaMessage):\n",
    "    msg: str = Field(\n",
    "        ...,\n",
    "        example=\"Hello\",\n",
    "        description=\"Demo hello world message\",\n",
    "    )\n",
    "\n",
    "app = FastKafkaAPI(\n",
    "        kafka_config=kafka_config\n",
    "    )\n",
    "\n",
    "@app.produces\n",
    "async def on_hello(msg: HelloKafkaMsg):\n",
    "    return msg\n",
    "\n",
    "while(True):\n",
    "    sleep(2000)\n",
    "    on_hello(HelloKafkaMsg(msg = \"hello\"))\n",
    "```\n",
    "\n",
    "To run this producer, in your terminal, run:\n",
    "\n",
    "``` shell\n",
    "python3 -m uvicorn hello_kafka_producer:app\n",
    "```\n",
    "\n",
    "After running the command, you should see something simmilar to the ouput below:\n",
    "\n",
    "``` shell\n",
    "[INFO] fast_kafka_api.asyncapi: ok\n",
    "INFO:     Started server process [942]\n",
    "INFO:     Waiting for application startup.\n",
    "[INFO] fast_kafka_api.asyncapi: Async specifications generated at: 'asyncapi/spec/asyncapi.yml'\n",
    "[INFO] fast_kafka_api.asyncapi: Async docs generated at 'asyncapi/docs'\n",
    "[INFO] fast_kafka_api.asyncapi: Output of '$ npx -y -p @asyncapi/generator ag asyncapi/spec/asyncapi.yml @asyncapi/html-template -o asyncapi/docs --force-write'\n",
    "\n",
    "Done! ✨\n",
    "Check out your shiny new generated files at /work/fast-kafka-api/demos/asyncapi/docs.\n",
    "\n",
    "\n",
    "%4|1670831653.286|CONFWARN|rdkafka#producer-1| [thrd:app]: Configuration property group.id is a consumer property and will be ignored by this producer instance\n",
    "[INFO] fast_kafka_api.application: consumers_async_loop(): Kafka admin created <confluent_kafka.admin.AdminClient object at 0x7fac996e7cc0>.\n",
    "[DEBUG] fast_kafka_api.confluent_kafka: create_missing_topics(['hello']): existing_topics=['prediction_request', '__consumer_offsets', 'hello', 'prediction_status', 'training_request', 'training_status', 'hello_world'], num_partitions=3, replication_factor=3\n",
    "[INFO] fast_kafka_api.application: consumers_async_loop(): Kafka topics ['hello'] created if needed.\n",
    "%4|1670831653.326|CONFWARN|rdkafka#producer-2| [thrd:app]: Configuration property group.id is a consumer property and will be ignored by this producer instance\n",
    "[INFO] fast_kafka_api.application: AIOProducer created.\n",
    "[INFO] fast_kafka_api.application: consumers_async_loop(topic=hello, config={'bootstrap.servers': 'tvrtko-fast-kafka-api-kafka-1:9092', 'group.id': 'hello_copnsumer_group'}, timeout=1.0) starting.\n",
    "[INFO] fast_kafka_api.application: consumers_async_loop(topic=hello): Kafka Consumer for topic created.\n",
    "[INFO] fast_kafka_api.application: consumers_async_loop(topic=hello): Kafka Consumer subscribed to topic.\n",
    "[DEBUG] fast_kafka_api.application: _consumer_pooling_step()\n",
    "INFO:     Application startup complete.\n",
    "INFO:     Uvicorn running on http://127.0.0.1:8000 (Press CTRL+C to quit)\n",
    "```\n",
    "\n",
    "Now you can interact with your consumer, by sending the messages to the subscribed 'hello' topic, don't worry, we will cover this in the next step of this guide."
   ]
  },
  {
   "cell_type": "markdown",
   "id": "1286a108",
   "metadata": {},
   "source": [
    "## Recap"
   ]
  },
  {
   "cell_type": "markdown",
   "id": "f3409cc2",
   "metadata": {},
   "source": [
    "In this guide we have:\n",
    "    \n",
    "    1. Created a simple Kafka consumer using FastKafkaAPI\n",
    "    2. Sent a message to our consumer trough Kafka\n",
    "    3. Created a simple Kafka producer using FastKafkaAPI"
   ]
  },
  {
   "cell_type": "code",
   "execution_count": null,
   "id": "92f364b4",
   "metadata": {},
   "outputs": [],
   "source": []
  }
 ],
 "metadata": {
  "kernelspec": {
   "display_name": "Python 3 (ipykernel)",
   "language": "python",
   "name": "python3"
  }
 },
 "nbformat": 4,
 "nbformat_minor": 5
}

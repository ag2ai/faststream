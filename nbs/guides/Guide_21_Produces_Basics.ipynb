{
 "cells": [
  {
   "cell_type": "markdown",
   "id": "84b22f68",
   "metadata": {},
   "source": [
    "# @produces basics"
   ]
  },
  {
   "cell_type": "code",
   "execution_count": null,
   "id": "7a35b05c",
   "metadata": {},
   "outputs": [],
   "source": [
    "# | hide\n",
    "\n",
    "from IPython.display import Markdown as md\n",
    "\n",
    "from fastkafka.testing import LocalKafkaBroker, run_script_and_cancel\n",
    "from fastkafka._testing.local_broker import run_and_match\n",
    "from fastkafka._components._subprocess import terminate_asyncio_process"
   ]
  },
  {
   "cell_type": "markdown",
   "id": "8c655e4f",
   "metadata": {},
   "source": [
    "You can use `@produces` decorator to produce messages to Kafka topics. \n",
    "\n",
    "In this guide we will create a simple FastKafka app that will produce hello world messages to hello_world topic."
   ]
  },
  {
   "cell_type": "markdown",
   "id": "18535f2f",
   "metadata": {},
   "source": [
    "## Import `FastKafka`"
   ]
  },
  {
   "cell_type": "markdown",
   "id": "b4ef969d",
   "metadata": {},
   "source": [
    "To use the `@produces` decorator, frist we need to import the base FastKafka app to create our application."
   ]
  },
  {
   "cell_type": "code",
   "execution_count": null,
   "id": "3d6a8fae",
   "metadata": {},
   "outputs": [
    {
     "data": {
      "text/markdown": [
       "```python\n",
       "from fastkafka import FastKafka\n",
       "\n",
       "```"
      ],
      "text/plain": [
       "<IPython.core.display.Markdown object>"
      ]
     },
     "execution_count": null,
     "metadata": {},
     "output_type": "execute_result"
    }
   ],
   "source": [
    "# | echo: false\n",
    "\n",
    "import_fastkafka = \"\"\"from fastkafka import FastKafka\n",
    "\"\"\"\n",
    "\n",
    "md(f\"```python\\n{import_fastkafka}\\n```\")"
   ]
  },
  {
   "cell_type": "markdown",
   "id": "09cb37e9",
   "metadata": {},
   "source": [
    "## Define the structure of the messages\n",
    "Next, you need to define the structure of the messages you want to send to the topic using [pydantic](https://docs.pydantic.dev/). For the guide we'll stick to something basic, but you are free to define any complex message structure you wish in your project, just make sure it can be JSON encoded.\n",
    "\n",
    "Let's import `BaseModel` and `Field` from pydantic and create a simple `HelloWorld` class containing one string parameter `msg`"
   ]
  },
  {
   "cell_type": "code",
   "execution_count": null,
   "id": "f83265a1",
   "metadata": {},
   "outputs": [
    {
     "data": {
      "text/markdown": [
       "```python\n",
       "from pydantic import BaseModel, Field\n",
       "\n",
       "```"
      ],
      "text/plain": [
       "<IPython.core.display.Markdown object>"
      ]
     },
     "execution_count": null,
     "metadata": {},
     "output_type": "execute_result"
    }
   ],
   "source": [
    "# | echo: false\n",
    "\n",
    "import_pydantic = \"\"\"from pydantic import BaseModel, Field\n",
    "\"\"\"\n",
    "md(f\"```python\\n{import_pydantic}\\n```\")"
   ]
  },
  {
   "cell_type": "code",
   "execution_count": null,
   "id": "9c1e6ec8",
   "metadata": {},
   "outputs": [
    {
     "data": {
      "text/markdown": [
       "```python\n",
       "\n",
       "class HelloWorld(BaseModel):\n",
       "    msg: str = Field(\n",
       "        ...,\n",
       "        example=\"Hello\",\n",
       "        description=\"Demo hello world message\",\n",
       "    )\n",
       "\n",
       "```"
      ],
      "text/plain": [
       "<IPython.core.display.Markdown object>"
      ]
     },
     "execution_count": null,
     "metadata": {},
     "output_type": "execute_result"
    }
   ],
   "source": [
    "# | echo: false\n",
    "\n",
    "define_HelloWorld = \"\"\"\n",
    "class HelloWorld(BaseModel):\n",
    "    msg: str = Field(\n",
    "        ...,\n",
    "        example=\"Hello\",\n",
    "        description=\"Demo hello world message\",\n",
    "    )\n",
    "\"\"\"\n",
    "md(f\"```python\\n{define_HelloWorld}\\n```\")"
   ]
  },
  {
   "cell_type": "markdown",
   "id": "fc1d810c",
   "metadata": {},
   "source": [
    "## Create a base FastKafka app\n",
    "\n",
    "Now we will create and define a base FastKafka app, replace the \\<address_of_your_kafka_bootstrap_server\\> with the actual address of your Kafka bootstrap server"
   ]
  },
  {
   "cell_type": "code",
   "execution_count": null,
   "id": "2732642f",
   "metadata": {},
   "outputs": [
    {
     "data": {
      "text/markdown": [
       "```python\n",
       "app = FastKafka(bootstrap_servers=\"<address_of_your_kafka_bootstrap_server>\")\n",
       "\n",
       "```"
      ],
      "text/plain": [
       "<IPython.core.display.Markdown object>"
      ]
     },
     "execution_count": null,
     "metadata": {},
     "output_type": "execute_result"
    }
   ],
   "source": [
    "# | echo: false\n",
    "\n",
    "create_app = \"\"\"app = FastKafka(bootstrap_servers=\"<address_of_your_kafka_bootstrap_server>\")\n",
    "\"\"\"\n",
    "md(f\"```python\\n{create_app}\\n```\")"
   ]
  },
  {
   "cell_type": "markdown",
   "id": "6e41ebe6",
   "metadata": {},
   "source": [
    "## Create a producer function and decorate it with `@produces`\n",
    "\n",
    "Let's create a producer function and explain its basic structure:"
   ]
  },
  {
   "cell_type": "code",
   "execution_count": null,
   "id": "93dd7a11",
   "metadata": {},
   "outputs": [
    {
     "data": {
      "text/markdown": [
       "```python\n",
       "\n",
       "@app.produces()\n",
       "async def to_hello_world(msg: str) -> HelloWorld:\n",
       "    return HelloWorld(msg=msg)\n",
       "\n",
       "```"
      ],
      "text/plain": [
       "<IPython.core.display.Markdown object>"
      ]
     },
     "execution_count": null,
     "metadata": {},
     "output_type": "execute_result"
    }
   ],
   "source": [
    "# | echo: false\n",
    "\n",
    "decorate_produces = \"\"\"\n",
    "@app.produces()\n",
    "async def to_hello_world(msg: str) -> HelloWorld:\n",
    "    return HelloWorld(msg=msg)\n",
    "\"\"\"\n",
    "md(f\"```python\\n{decorate_produces}\\n```\")"
   ]
  },
  {
   "cell_type": "markdown",
   "id": "4216f0f1",
   "metadata": {},
   "source": [
    "You can call your defined function as any normal python function in your code. The side effect of calling the function will be that the value you are returning will also be sent to a kafka topic."
   ]
  },
  {
   "cell_type": "markdown",
   "id": "f02f147e",
   "metadata": {},
   "source": [
    "## Instruct the app to start sending HelloWorld messages\n",
    "\n",
    "Let's use `@run_in_background` decorator to instruct our app to send HelloWorld messages to hello_world topic every second."
   ]
  },
  {
   "cell_type": "code",
   "execution_count": null,
   "id": "386ce09a",
   "metadata": {},
   "outputs": [
    {
     "data": {
      "text/markdown": [
       "```python\n",
       "\n",
       "import asyncio\n",
       "\n",
       "@app.run_in_background()\n",
       "async def hello_every_second():\n",
       "    while(True):\n",
       "        await to_hello_world(msg=\"Hello world!\")\n",
       "        await asyncio.sleep(1)\n",
       "\n",
       "```"
      ],
      "text/plain": [
       "<IPython.core.display.Markdown object>"
      ]
     },
     "execution_count": null,
     "metadata": {},
     "output_type": "execute_result"
    }
   ],
   "source": [
    "# | echo: false\n",
    "\n",
    "define_run = \"\"\"\n",
    "import asyncio\n",
    "\n",
    "@app.run_in_background()\n",
    "async def hello_every_second():\n",
    "    while(True):\n",
    "        await to_hello_world(msg=\"Hello world!\")\n",
    "        await asyncio.sleep(1)\n",
    "\"\"\"\n",
    "md(f\"```python\\n{define_run}\\n```\")"
   ]
  },
  {
   "cell_type": "markdown",
   "id": "b68c95f7",
   "metadata": {},
   "source": [
    "## Final app\n",
    "\n",
    "Your app code should look like this:"
   ]
  },
  {
   "cell_type": "code",
   "execution_count": null,
   "id": "cd7d88d3",
   "metadata": {},
   "outputs": [
    {
     "data": {
      "text/markdown": [
       "```python\n",
       "from fastkafka import FastKafka\n",
       "from pydantic import BaseModel, Field\n",
       "\n",
       "class HelloWorld(BaseModel):\n",
       "    msg: str = Field(\n",
       "        ...,\n",
       "        example=\"Hello\",\n",
       "        description=\"Demo hello world message\",\n",
       "    )\n",
       "app = FastKafka(bootstrap_servers=\"<address_of_your_kafka_bootstrap_server>\")\n",
       "\n",
       "@app.produces()\n",
       "async def to_hello_world(msg: str) -> HelloWorld:\n",
       "    return HelloWorld(msg=msg)\n",
       "\n",
       "import asyncio\n",
       "\n",
       "@app.run_in_background()\n",
       "async def hello_every_second():\n",
       "    while(True):\n",
       "        await to_hello_world(msg=\"Hello world!\")\n",
       "        await asyncio.sleep(1)\n",
       "\n",
       "```"
      ],
      "text/plain": [
       "<IPython.core.display.Markdown object>"
      ]
     },
     "execution_count": null,
     "metadata": {},
     "output_type": "execute_result"
    }
   ],
   "source": [
    "# | echo: false\n",
    "\n",
    "produces_example = (\n",
    "    import_fastkafka\n",
    "    + import_pydantic\n",
    "    + define_HelloWorld\n",
    "    + create_app\n",
    "    + decorate_produces\n",
    "    + define_run\n",
    ")\n",
    "md(f\"```python\\n{produces_example}\\n```\")"
   ]
  },
  {
   "cell_type": "markdown",
   "id": "8fa74215",
   "metadata": {},
   "source": [
    "## Run the app"
   ]
  },
  {
   "cell_type": "code",
   "execution_count": null,
   "id": "afe529ab",
   "metadata": {},
   "outputs": [
    {
     "data": {
      "text/markdown": [
       "Now we can run the app. Copy the code above in producer_example.py and run it by running\n",
       "```shell\n",
       "fastkafka run --num-workers=1 producer_example:app\n",
       "```"
      ],
      "text/plain": [
       "<IPython.core.display.Markdown object>"
      ]
     },
     "execution_count": null,
     "metadata": {},
     "output_type": "execute_result"
    }
   ],
   "source": [
    "script_file = \"producer_example.py\"\n",
    "cmd = \"fastkafka run --num-workers=1 producer_example:app\"\n",
    "md(f\"Now we can run the app. Copy the code above in producer_example.py and run it by running\\n```shell\\n{cmd}\\n```\")"
   ]
  },
  {
   "cell_type": "markdown",
   "id": "e66be2b9",
   "metadata": {},
   "source": [
    "After running the command, you should see this output in your terminal:"
   ]
  },
  {
   "cell_type": "code",
   "execution_count": null,
   "id": "335ec62d",
   "metadata": {},
   "outputs": [
    {
     "name": "stdout",
     "output_type": "stream",
     "text": [
      "[130979]: [INFO] fastkafka._application.app: run_in_background() : Adding function 'hello_every_second' as background task\n",
      "[130979]: [INFO] fastkafka._application.app: _create_producer() : created producer using the config: '{'bootstrap_servers': '127.0.0.1:9092'}'\n",
      "[130979]: [INFO] fastkafka._application.app: _populate_bg_tasks() : Starting background task 'hello_every_second'\n",
      "Starting process cleanup, this may take a few seconds...\n",
      "[INFO] fastkafka._server: terminate_asyncio_process(): Terminating the process 130979...\n",
      "[130979]: [INFO] fastkafka._application.app: _shutdown_bg_tasks() : Cancelling background task 'hello_every_second'\n",
      "[130979]: [INFO] fastkafka._application.app: _shutdown_bg_tasks() : Waiting for background task 'hello_every_second' to finish\n",
      "[130979]: [INFO] fastkafka._application.app: _shutdown_bg_tasks() : Execution finished for background task 'hello_every_second'\n",
      "[INFO] fastkafka._server: terminate_asyncio_process(): Process 130979 terminated.\n",
      "\n"
     ]
    }
   ],
   "source": [
    "# | echo: false\n",
    "\n",
    "with LocalKafkaBroker(topicas=[\"hello_world\"], apply_nest_asyncio=True) as bootstrap_server:\n",
    "    exit_code, output = await run_script_and_cancel(\n",
    "            script=produces_example.replace(\"<address_of_your_kafka_bootstrap_server>\", bootstrap_server),\n",
    "            script_file=script_file,\n",
    "            cmd=cmd,\n",
    "            cancel_after=5,\n",
    "        )\n",
    "\n",
    "    assert exit_code == 0\n",
    "\n",
    "    print(output.decode(\"UTF-8\"))"
   ]
  },
  {
   "cell_type": "markdown",
   "id": "d4ec6dab",
   "metadata": {},
   "source": [
    "## Check if the message was sent to the Kafka topic"
   ]
  },
  {
   "cell_type": "markdown",
   "id": "c81e65bc",
   "metadata": {},
   "source": [
    "Lets check the topic and see if there is a \"Hello world!\" message in the hello_world topic. In your terminal run:"
   ]
  },
  {
   "cell_type": "code",
   "execution_count": null,
   "id": "6ef181f6",
   "metadata": {},
   "outputs": [
    {
     "data": {
      "text/markdown": [
       "```shell\n",
       "kafka-console-consumer.sh -topic=hello_world --from-beginning -bootstrap-server=<addr_of_your_kafka_bootstrap_server>\n",
       "```"
      ],
      "text/plain": [
       "<IPython.core.display.Markdown object>"
      ]
     },
     "execution_count": null,
     "metadata": {},
     "output_type": "execute_result"
    }
   ],
   "source": [
    "# | echo: false\n",
    "\n",
    "consumer_cmd = f\"kafka-console-consumer.sh -topic=hello_world --from-beginning -bootstrap-server=<addr_of_your_kafka_bootstrap_server>\"\n",
    "md(f\"```shell\\n{consumer_cmd}\\n```\")"
   ]
  },
  {
   "cell_type": "code",
   "execution_count": null,
   "id": "a66904c8",
   "metadata": {},
   "outputs": [],
   "source": [
    "# | hide\n",
    "\n",
    "\n",
    "produces_example = (\n",
    "    import_fastkafka\n",
    "    + import_pydantic\n",
    "    + define_HelloWorld\n",
    "    + create_app\n",
    "    + decorate_produces\n",
    "    + define_run\n",
    ")\n",
    "\n",
    "with LocalKafkaBroker(topics=[\"hello_world\"], apply_nest_asyncio=True) as bootstrap_server:\n",
    "    exit_code, output = await run_script_and_cancel(\n",
    "            script=produces_example.replace(\"<address_of_your_kafka_bootstrap_server>\", bootstrap_server),\n",
    "            script_file=script_file,\n",
    "            cmd=cmd,\n",
    "            cancel_after=5,\n",
    "        )\n",
    "\n",
    "    assert exit_code == 0\n",
    "\n",
    "    proc = await run_and_match(\n",
    "        *consumer_cmd.replace(\n",
    "            \"<addr_of_your_kafka_bootstrap_server>\", bootstrap_server\n",
    "        ).split(\" \"),\n",
    "        pattern='{\"msg\": \"Hello world!\"}',\n",
    "        timeout=10\n",
    "    )\n",
    "    \n",
    "    await terminate_asyncio_process(proc)"
   ]
  },
  {
   "cell_type": "markdown",
   "id": "9292901c",
   "metadata": {},
   "source": [
    "You should see the {\"msg\": \"Hello world!\"} messages in your topic."
   ]
  },
  {
   "cell_type": "markdown",
   "id": "49b9c46e",
   "metadata": {},
   "source": [
    "## Choosing a topic"
   ]
  },
  {
   "cell_type": "markdown",
   "id": "ed9e5f0c",
   "metadata": {},
   "source": [
    "You probably noticed that you didn't define which topic you are sending the message to, this is because the `@produces` decorator determines the topic by default from your function name.\n",
    "The decorator will take your function name and strip the default \"to_\" prefix from it and use the rest as the topic name. In this example case, the topic is *hello_world*."
   ]
  },
  {
   "cell_type": "markdown",
   "id": "4938a558",
   "metadata": {},
   "source": [
    "!!! warn \\\"New topics\\\"\n",
    "\n",
    "    Kafka producers and application startup will fail if the topics you are producing to don't yet exist. Before running the app, make sure that the topics are created."
   ]
  },
  {
   "cell_type": "markdown",
   "id": "dc3e9f8a",
   "metadata": {},
   "source": [
    "You can choose your custom prefix by defining the `prefix` parameter in produces decorator, like this:"
   ]
  },
  {
   "cell_type": "code",
   "execution_count": null,
   "id": "da734ca4",
   "metadata": {},
   "outputs": [],
   "source": [
    "# | echo: False\n",
    "decorate_produces_prefix = \"\"\"\n",
    "@app.produces(prefix=\"send_to_\")\n",
    "async def send_to_hello_world(msg: str) -> HelloWorld:\n",
    "    return HelloWorld(msg=msg)\n",
    "\"\"\"\n",
    "md(f\"```python\\n{decorate_produces_prefix}\\n```\")"
   ]
  },
  {
   "cell_type": "code",
   "execution_count": null,
   "id": "b7563b45",
   "metadata": {},
   "outputs": [],
   "source": [
    "# | hide\n",
    "\n",
    "\n",
    "produces_example = (\n",
    "    import_fastkafka\n",
    "    + import_pydantic\n",
    "    + define_HelloWorld\n",
    "    + create_app\n",
    "    + decorate_produces_prefix\n",
    "    + define_run.replace(\"to_hello_world\", \"send_to_hello_world\")\n",
    ")\n",
    "\n",
    "with LocalKafkaBroker(topics=[\"hello_world\"], apply_nest_asyncio=True) as bootstrap_server:\n",
    "    exit_code, output = await run_script_and_cancel(\n",
    "            script=produces_example.replace(\"<address_of_your_kafka_bootstrap_server>\", bootstrap_server),\n",
    "            script_file=script_file,\n",
    "            cmd=cmd,\n",
    "            cancel_after=5,\n",
    "        )\n",
    "\n",
    "    assert exit_code == 0\n",
    "\n",
    "    proc = await run_and_match(\n",
    "        *consumer_cmd.replace(\n",
    "            \"<addr_of_your_kafka_bootstrap_server>\", bootstrap_server\n",
    "        ).split(\" \"),\n",
    "        pattern='{\"msg\": \"Hello world!\"}',\n",
    "        timeout=10\n",
    "    )\n",
    "    \n",
    "    await terminate_asyncio_process(proc)"
   ]
  },
  {
   "cell_type": "markdown",
   "id": "0c4225dd",
   "metadata": {},
   "source": [
    "Also, you can define the topic name completely by defining the `topic` in parameter in produces decorator, like this:"
   ]
  },
  {
   "cell_type": "code",
   "execution_count": null,
   "id": "9bf881b6",
   "metadata": {},
   "outputs": [],
   "source": [
    "# | echo: False\n",
    "decorate_produces_topic = \"\"\"\n",
    "@app.produces(topic=\"my_special_topic\")\n",
    "async def to_hello_world(msg: str) -> HelloWorld:\n",
    "    return HelloWorld(msg=msg)\n",
    "\"\"\"\n",
    "md(f\"```python\\n{decorate_produces_topic}\\n```\")"
   ]
  },
  {
   "cell_type": "code",
   "execution_count": null,
   "id": "612baa8c",
   "metadata": {},
   "outputs": [],
   "source": [
    "# | hide\n",
    "\n",
    "produces_example = (\n",
    "    import_fastkafka\n",
    "    + import_pydantic\n",
    "    + define_HelloWorld\n",
    "    + create_app\n",
    "    + decorate_produces_topic\n",
    "    + define_run\n",
    ")\n",
    "\n",
    "with LocalKafkaBroker(topics=[\"my_special_topic\"], apply_nest_asyncio=True) as bootstrap_server:\n",
    "    exit_code, output = await run_script_and_cancel(\n",
    "            script=produces_example.replace(\"<address_of_your_kafka_bootstrap_server>\", bootstrap_server),\n",
    "            script_file=script_file,\n",
    "            cmd=cmd,\n",
    "            cancel_after=5,\n",
    "        )\n",
    "\n",
    "    assert exit_code == 0\n",
    "\n",
    "    proc = await run_and_match(\n",
    "        *consumer_cmd.replace(\n",
    "            \"<addr_of_your_kafka_bootstrap_server>\", bootstrap_server\n",
    "        ).replace(\"hello_world\", \"my_special_topic\").split(\" \"),\n",
    "        pattern='{\"msg\": \"Hello world!\"}',\n",
    "        timeout=10\n",
    "    )\n",
    "    \n",
    "    await terminate_asyncio_process(proc)"
   ]
  },
  {
   "cell_type": "markdown",
   "id": "da50972c",
   "metadata": {},
   "source": [
    "## Message data"
   ]
  },
  {
   "cell_type": "markdown",
   "id": "7e4e8052",
   "metadata": {},
   "source": [
    "What you return from your function will be translated to bytes and sent to defined Kafka topic. The typing of the return value is used for generating the documentation for your Kafka app.\n",
    "\n",
    "In this example case, the return value is HelloWorld class which will be translated into JSON formatted string and then to bytes. The translated data will then be sent to Kafka."
   ]
  }
 ],
 "metadata": {
  "kernelspec": {
   "display_name": "python3",
   "language": "python",
   "name": "python3"
  }
 },
 "nbformat": 4,
 "nbformat_minor": 5
}

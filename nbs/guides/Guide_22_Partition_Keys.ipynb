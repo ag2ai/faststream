{
 "cells": [
  {
   "cell_type": "markdown",
   "id": "8e1ec46b",
   "metadata": {},
   "source": [
    "# Defining a partition key"
   ]
  },
  {
   "cell_type": "markdown",
   "id": "61526c5c",
   "metadata": {},
   "source": [
    "Partition keys are used in Apache Kafka to determine which partition a message should be written to. This ensures that related messages are kept together in the same partition, which can be useful for ensuring order or for grouping related messages together for efficient processing. Additionally, partitioning data across multiple partitions allows Kafka to distribute load across multiple brokers and scale horizontally, while replicating data across multiple brokers provides fault tolerance.\n",
    "\n",
    "You can define your partition keys when using the `@produces` decorator, this guide will demonstrate to you this feature."
   ]
  },
  {
   "cell_type": "code",
   "execution_count": null,
   "id": "c3cbd828",
   "metadata": {},
   "outputs": [],
   "source": [
    "# Define producer with partition key mechanism"
   ]
  },
  {
   "cell_type": "code",
   "execution_count": null,
   "id": "109cf37d",
   "metadata": {},
   "outputs": [],
   "source": []
  },
  {
   "cell_type": "code",
   "execution_count": null,
   "id": "87e29d7d",
   "metadata": {},
   "outputs": [],
   "source": [
    "# Kafka consumer read msgs and print partition key: msg.key to show that it has been set"
   ]
  },
  {
   "cell_type": "code",
   "execution_count": null,
   "id": "722808bd",
   "metadata": {},
   "outputs": [],
   "source": []
  },
  {
   "cell_type": "code",
   "execution_count": null,
   "id": "673c7f8a",
   "metadata": {},
   "outputs": [],
   "source": []
  },
  {
   "cell_type": "code",
   "execution_count": null,
   "id": "11fba86b",
   "metadata": {},
   "outputs": [],
   "source": []
  },
  {
   "cell_type": "code",
   "execution_count": null,
   "id": "2abb4c3d",
   "metadata": {},
   "outputs": [],
   "source": []
  }
 ],
 "metadata": {
  "kernelspec": {
   "display_name": "python3",
   "language": "python",
   "name": "python3"
  }
 },
 "nbformat": 4,
 "nbformat_minor": 5
}

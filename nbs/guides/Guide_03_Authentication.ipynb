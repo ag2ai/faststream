{
 "cells": [
  {
   "cell_type": "markdown",
   "id": "66642296",
   "metadata": {},
   "source": [
    "# Authentication"
   ]
  },
  {
   "cell_type": "markdown",
   "id": "126aa447",
   "metadata": {},
   "source": [
    "## TLS Authentication"
   ]
  },
  {
   "cell_type": "markdown",
   "id": "00dc91fc",
   "metadata": {},
   "source": [
    "sasl_mechanism (str) – Authentication mechanism when security_protocol is configured for SASL_PLAINTEXT or SASL_SSL. Valid values are: PLAIN, GSSAPI, SCRAM-SHA-256, SCRAM-SHA-512, OAUTHBEARER. Default: PLAIN\n",
    "\n",
    "sasl_plain_username (str) – username for SASL PLAIN authentication. Default: None\n",
    "\n",
    "sasl_plain_password (str) – password for SASL PLAIN authentication. Default: None\n",
    "\n",
    "sasl_oauth_token_provider (AbstractTokenProvider) – OAuthBearer token provider instance. (See kafka.oauth.abstract). Default: None"
   ]
  }
 ],
 "metadata": {
  "kernelspec": {
   "display_name": "Python 3 (ipykernel)",
   "language": "python",
   "name": "python3"
  }
 },
 "nbformat": 4,
 "nbformat_minor": 5
}

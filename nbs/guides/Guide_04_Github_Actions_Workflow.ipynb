{
 "cells": [
  {
   "cell_type": "markdown",
   "id": "aae8a764",
   "metadata": {},
   "source": [
    "# Deploy fastkafka docs to GitHub Pages"
   ]
  },
  {
   "cell_type": "markdown",
   "id": "665f266f",
   "metadata": {},
   "source": [
    "## Getting started\n",
    "\n",
    "\n"
   ]
  },
  {
   "cell_type": "markdown",
   "id": "c5a70f46",
   "metadata": {},
   "source": [
    "Add your workfow file `.github/workflows/fastkafka_docs_deploy.yml` and push it to your remote default branch.\n",
    "\n",
    "Here is an example worfklow\n",
    "\n",
    "```yaml\n",
    "name: Deploy fastkafka generated documentation to GitHub Pages\n",
    "\n",
    "on:\n",
    "  push:\n",
    "    branches: [ \"main\", \"master\" ]\n",
    "  workflow_dispatch:\n",
    "jobs:\n",
    "  deploy:\n",
    "    runs-on: ubuntu-latest\n",
    "    permissions:\n",
    "      contents: write\n",
    "    steps:\n",
    "      - uses: airtai/workflows/fastkafka-ghp@main\n",
    "        with:\n",
    "          app: \"test_fastkafka.application:kafka_app\"\n",
    "```"
   ]
  },
  {
   "cell_type": "markdown",
   "id": "b29b85be",
   "metadata": {},
   "source": [
    "## Options"
   ]
  },
  {
   "cell_type": "markdown",
   "id": "f5d2cf03",
   "metadata": {},
   "source": [
    "\n",
    "\n",
    "## Set app location\n",
    "\n",
    "Input in the form of `path:app`, where `path` is the path to a python file and `app` is an object of type `FastKafka`\n",
    "\n",
    "```yaml\n",
    "- name: Deploy\n",
    "  uses: airtai/workflows/fastkafka-ghp@main\n",
    "  with:\n",
    "    app: \"test_fastkafka.application:kafka_app\"\n",
    "```\n",
    "\n",
    "In the above example, `FastKafka` app is named as `kafka_app` and it is available in `application` which is a submodule of `test_fastkafka` module."
   ]
  }
 ],
 "metadata": {
  "kernelspec": {
   "display_name": "python3",
   "language": "python",
   "name": "python3"
  }
 },
 "nbformat": 4,
 "nbformat_minor": 5
}

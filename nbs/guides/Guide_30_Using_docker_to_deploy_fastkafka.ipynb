{
 "cells": [
  {
   "cell_type": "markdown",
   "id": "d773ebfe",
   "metadata": {},
   "source": [
    "# Deploying FastKafka using Docker"
   ]
  },
  {
   "cell_type": "markdown",
   "id": "66b46da8",
   "metadata": {},
   "source": [
    "## Building docker image\n",
    "\n",
    "To build a docker image for a FastKafka project we need following things,\n",
    "\n",
    "1. A library which is built using FastKafka.\n",
    "2. A file in which requirements are specified. It could be a requirements.txt file or a setup.py or it could even be a wheel file.\n",
    "3. A Dockerfile to build an image which will include above two files"
   ]
  },
  {
   "cell_type": "markdown",
   "id": "47d75b50",
   "metadata": {},
   "source": [
    "### Creating FastKafka code\n",
    "\n",
    "Lets create a FastKafka based application and write to application.py file based on the [tutorial](/#tutorial)\n",
    "\n",
    "```python\n",
    "# content of the \"application.py\" file\n",
    "\n",
    "from pydantic import BaseModel, NonNegativeFloat, Field\n",
    "\n",
    "class IrisInputData(BaseModel):\n",
    "    sepal_length: NonNegativeFloat = Field(\n",
    "        ..., example=0.5, description=\"Sepal length in cm\"\n",
    "    )\n",
    "    sepal_width: NonNegativeFloat = Field(\n",
    "        ..., example=0.5, description=\"Sepal width in cm\"\n",
    "    )\n",
    "    petal_length: NonNegativeFloat = Field(\n",
    "        ..., example=0.5, description=\"Petal length in cm\"\n",
    "    )\n",
    "    petal_width: NonNegativeFloat = Field(\n",
    "        ..., example=0.5, description=\"Petal width in cm\"\n",
    "    )\n",
    "\n",
    "\n",
    "class IrisPrediction(BaseModel):\n",
    "    species: str = Field(..., example=\"setosa\", description=\"Predicted species\")\n",
    "\n",
    "from fastkafka import FastKafka\n",
    "\n",
    "kafka_brokers = {\n",
    "    \"localhost\": {\n",
    "        \"url\": \"localhost\",\n",
    "        \"description\": \"local development kafka broker\",\n",
    "        \"port\": 9092,\n",
    "    },\n",
    "    \"production\": {\n",
    "        \"url\": \"kafka.airt.ai\",\n",
    "        \"description\": \"production kafka broker\",\n",
    "        \"port\": 9092,\n",
    "        \"protocol\": \"kafka-secure\",\n",
    "        \"security\": {\"type\": \"plain\"},\n",
    "    },\n",
    "}\n",
    "\n",
    "kafka_app = FastKafka(\n",
    "    title=\"Iris predictions\",\n",
    "    kafka_brokers=kafka_brokers,\n",
    "    bootstrap_servers=\"localhost:9092\",\n",
    ")\n",
    "\n",
    "iris_species = [\"setosa\", \"versicolor\", \"virginica\"]\n",
    "\n",
    "@kafka_app.consumes(topic=\"input_data\", auto_offset_reset=\"latest\")\n",
    "async def on_input_data(msg: IrisInputData):\n",
    "    global model\n",
    "    species_class = model.predict([\n",
    "          [msg.sepal_length, msg.sepal_width, msg.petal_length, msg.petal_width]\n",
    "        ])[0]\n",
    "\n",
    "    to_predictions(species_class)\n",
    "\n",
    "\n",
    "@kafka_app.produces(topic=\"predictions\")\n",
    "def to_predictions(species_class: int) -> IrisPrediction:\n",
    "    prediction = IrisPrediction(species=iris_species[species_class])\n",
    "    return prediction\n",
    "\n",
    "```"
   ]
  },
  {
   "cell_type": "markdown",
   "id": "41bb1330",
   "metadata": {},
   "source": [
    "### Creating Dockerfile\n",
    "\n",
    "```dockerfile\n",
    "\n",
    "FROM python:3.9-slim-bullseye # (1)!\n",
    "\n",
    "SHELL [\"/bin/bash\", \"-c\"]\n",
    "WORKDIR /project\n",
    "\n",
    "COPY application.py requirements.txt /project/\n",
    "\n",
    "RUN pip install --no-cache-dir -r /project/requirements.txt\n",
    "\n",
    "CMD [\"fastkafka\", \"run\", \"--num-workers\", \"2\", \"application:kafka_app\"]\n",
    "\n",
    "```\n",
    "\n",
    "1. Start from the official Python base image.\n"
   ]
  },
  {
   "cell_type": "markdown",
   "id": "53b2a570",
   "metadata": {},
   "source": [
    "## Example repo\n",
    "\n",
    "A `fastkafka` based library which uses above mentioned Dockerfile to build docker image can be found [here](https://github.com/airtai/sample_fastkafka_project/)"
   ]
  }
 ],
 "metadata": {
  "kernelspec": {
   "display_name": "python3",
   "language": "python",
   "name": "python3"
  }
 },
 "nbformat": 4,
 "nbformat_minor": 5
}

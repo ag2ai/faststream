{
 "cells": [
  {
   "cell_type": "markdown",
   "id": "d99f1cb7",
   "metadata": {},
   "source": [
    "# Using Tester to test FastKafka"
   ]
  },
  {
   "cell_type": "code",
   "execution_count": null,
   "id": "675bd571",
   "metadata": {},
   "outputs": [],
   "source": [
    "# | hide\n",
    "\n",
    "from fastkafka._application.app import FastKafka\n",
    "from fastkafka._application.tester import Tester\n",
    "from pydantic import BaseModel, Field\n",
    "from typing import List, Optional"
   ]
  },
  {
   "cell_type": "markdown",
   "id": "77293df7",
   "metadata": {},
   "source": [
    "In order to speed up development and make testing easier, we have implemented the `Tester` class. The `Tester` instance starts InMemory implementation of Kafka broker i.e. there is no need for starting localhost Kafka service for testing FastKafka apps.\n",
    "The Tester will redirect consumes and produces decorated functions to the InMemory Kafka broker so that you can quickly test FasKafka apps without the need for a running Kafka broker and all its dependencies."
   ]
  },
  {
   "cell_type": "markdown",
   "id": "d092fa22",
   "metadata": {},
   "source": [
    "`Note`: if you are using Jupyter Notebooks you need to allow the usage of nested event loops when working with asyncio. This can be done by adding the following code:"
   ]
  },
  {
   "cell_type": "code",
   "execution_count": null,
   "id": "9cde8241",
   "metadata": {},
   "outputs": [],
   "source": [
    "import nest_asyncio\n",
    "\n",
    "nest_asyncio.apply()"
   ]
  },
  {
   "cell_type": "markdown",
   "id": "1278854a",
   "metadata": {},
   "source": [
    "### Test message\n",
    "\n",
    "To showcase the functionalities of FastKafka and illustrate the concepts discussed, we can use a simple test message called `TestMsg`. Here's the definition of the `TestMsg` class:"
   ]
  },
  {
   "cell_type": "code",
   "execution_count": null,
   "id": "c7754a58",
   "metadata": {},
   "outputs": [],
   "source": [
    "class TestMsg(BaseModel):\n",
    "    msg: str = Field(...)\n",
    "\n",
    "\n",
    "test_msg = TestMsg(msg=\"signal\")"
   ]
  },
  {
   "cell_type": "markdown",
   "id": "d15934a5",
   "metadata": {},
   "source": [
    "### InMemory Producer and Consumer apps\n",
    "\n",
    "Let's create two simple `FastKafka` apps. `consumer_app` consumes from the `preprocessed_data` topic and `producer_app` produces messages to the `preprocessed_data` topic."
   ]
  },
  {
   "cell_type": "code",
   "execution_count": null,
   "id": "27b9417e",
   "metadata": {},
   "outputs": [],
   "source": [
    "from fastapi import FastAPI\n",
    "\n",
    "consumer_app = FastKafka()\n",
    "\n",
    "\n",
    "@consumer_app.consumes()\n",
    "async def on_preprocessed_data(msg: TestMsg):\n",
    "    print(msg)\n",
    "\n",
    "\n",
    "producer_app = FastKafka()\n",
    "\n",
    "\n",
    "@producer_app.produces()\n",
    "async def to_preprocessed_data(msg: TestMsg) -> TestMsg:\n",
    "    return msg"
   ]
  },
  {
   "cell_type": "markdown",
   "id": "c0155687",
   "metadata": {},
   "source": [
    "By using `Tester([consumer_app, producer_app])`, this two apps will use InMemory Kakfa broker.\n",
    "`Note`: it is necessary to define parameter and return types in the producer and consumer methods"
   ]
  },
  {
   "cell_type": "code",
   "execution_count": null,
   "id": "0371097d",
   "metadata": {},
   "outputs": [
    {
     "name": "stdout",
     "output_type": "stream",
     "text": [
      "23-07-04 00:28:17.992 [INFO] fastkafka._testing.in_memory_broker: InMemoryBroker._patch_consumers_and_producers(): Patching consumers and producers!\n",
      "23-07-04 00:28:17.994 [INFO] fastkafka._testing.in_memory_broker: InMemoryBroker starting\n",
      "23-07-04 00:28:17.995 [INFO] fastkafka._application.app: _create_producer() : created producer using the config: '{'bootstrap_servers': 'localhost:9092'}'\n",
      "23-07-04 00:28:17.996 [INFO] fastkafka._testing.in_memory_broker: AIOKafkaProducer patched start() called()\n",
      "23-07-04 00:28:18.025 [INFO] fastkafka._application.app: _create_producer() : created producer using the config: '{'bootstrap_servers': 'localhost:9092'}'\n",
      "23-07-04 00:28:18.026 [INFO] fastkafka._testing.in_memory_broker: AIOKafkaProducer patched start() called()\n",
      "23-07-04 00:28:18.027 [INFO] fastkafka._components.aiokafka_consumer_loop: aiokafka_consumer_loop() starting...\n",
      "23-07-04 00:28:18.028 [INFO] fastkafka._components.aiokafka_consumer_loop: aiokafka_consumer_loop(): Consumer created using the following parameters: {'auto_offset_reset': 'earliest', 'max_poll_records': 100, 'bootstrap_servers': 'localhost:9092'}\n",
      "23-07-04 00:28:18.029 [INFO] fastkafka._testing.in_memory_broker: AIOKafkaConsumer patched start() called()\n",
      "23-07-04 00:28:18.030 [INFO] fastkafka._components.aiokafka_consumer_loop: aiokafka_consumer_loop(): Consumer started.\n",
      "23-07-04 00:28:18.031 [INFO] fastkafka._testing.in_memory_broker: AIOKafkaConsumer patched subscribe() called\n",
      "23-07-04 00:28:18.032 [INFO] fastkafka._testing.in_memory_broker: AIOKafkaConsumer.subscribe(), subscribing to: ['preprocessed_data']\n",
      "23-07-04 00:28:18.032 [INFO] fastkafka._components.aiokafka_consumer_loop: aiokafka_consumer_loop(): Consumer subscribed.\n",
      "23-07-04 00:28:18.034 [INFO] fastkafka._components.aiokafka_consumer_loop: aiokafka_consumer_loop() starting...\n",
      "23-07-04 00:28:18.035 [INFO] fastkafka._components.aiokafka_consumer_loop: aiokafka_consumer_loop(): Consumer created using the following parameters: {'auto_offset_reset': 'earliest', 'max_poll_records': 100, 'bootstrap_servers': 'localhost:9092'}\n",
      "23-07-04 00:28:18.035 [INFO] fastkafka._testing.in_memory_broker: AIOKafkaConsumer patched start() called()\n",
      "23-07-04 00:28:18.036 [INFO] fastkafka._components.aiokafka_consumer_loop: aiokafka_consumer_loop(): Consumer started.\n",
      "23-07-04 00:28:18.037 [INFO] fastkafka._testing.in_memory_broker: AIOKafkaConsumer patched subscribe() called\n",
      "23-07-04 00:28:18.038 [INFO] fastkafka._testing.in_memory_broker: AIOKafkaConsumer.subscribe(), subscribing to: ['preprocessed_data']\n",
      "23-07-04 00:28:18.038 [INFO] fastkafka._components.aiokafka_consumer_loop: aiokafka_consumer_loop(): Consumer subscribed.\n",
      "msg='signal'\n",
      "23-07-04 00:28:22.029 [INFO] fastkafka._testing.in_memory_broker: AIOKafkaConsumer patched stop() called\n",
      "23-07-04 00:28:22.030 [INFO] fastkafka._components.aiokafka_consumer_loop: aiokafka_consumer_loop(): Consumer stopped.\n",
      "23-07-04 00:28:22.030 [INFO] fastkafka._components.aiokafka_consumer_loop: aiokafka_consumer_loop() finished.\n",
      "23-07-04 00:28:22.031 [INFO] fastkafka._testing.in_memory_broker: AIOKafkaProducer patched stop() called\n",
      "23-07-04 00:28:22.032 [INFO] fastkafka._testing.in_memory_broker: AIOKafkaProducer patched stop() called\n",
      "23-07-04 00:28:22.033 [INFO] fastkafka._testing.in_memory_broker: AIOKafkaConsumer patched stop() called\n",
      "23-07-04 00:28:22.033 [INFO] fastkafka._components.aiokafka_consumer_loop: aiokafka_consumer_loop(): Consumer stopped.\n",
      "23-07-04 00:28:22.034 [INFO] fastkafka._components.aiokafka_consumer_loop: aiokafka_consumer_loop() finished.\n",
      "23-07-04 00:28:22.035 [INFO] fastkafka._testing.in_memory_broker: InMemoryBroker stopping\n",
      "ok\n"
     ]
    }
   ],
   "source": [
    "test_msg = TestMsg(msg=\"signal\")\n",
    "async with Tester([consumer_app, producer_app]) as tester:\n",
    "    # producer_app produces message to the preprocessed_data topic\n",
    "    await producer_app.to_preprocessed_data(test_msg)\n",
    "    # assert that consumer_app consumed from the preprocessed_data topic and it was called with test_msg argument\n",
    "    await consumer_app.awaited_mocks.on_preprocessed_data.assert_called_with(\n",
    "        test_msg, timeout=5\n",
    "    )\n",
    "print(\"ok\")"
   ]
  },
  {
   "cell_type": "code",
   "execution_count": null,
   "id": "9b94ed56",
   "metadata": {},
   "outputs": [],
   "source": [
    "# | hide\n",
    "# Same e.g. for VSCode\n",
    "import asyncio\n",
    "\n",
    "\n",
    "async def async_tests():\n",
    "    ...\n",
    "\n",
    "\n",
    "if __name__ == \"__main__\":\n",
    "    loop = asyncio.get_event_loop()\n",
    "    loop.run_until_complete(async_tests())"
   ]
  },
  {
   "cell_type": "markdown",
   "id": "b3f5034a",
   "metadata": {},
   "source": [
    "### Consumer app + Tester (producer) app\n",
    "\n",
    "It is often necessary to implement only the Kakfa consumer, which then subscribes to an already existing topic. The `Tester` enables simple mirroring, i.e. if we have implemented consumer, the Tester will mock the producer methods (and the other way - if the producer is implemented, `Tester` will mock consumer methods).\n",
    "In this examle we have `consumer_app` which consumes from the `preprocessed_data` topic."
   ]
  },
  {
   "cell_type": "code",
   "execution_count": null,
   "id": "675448df",
   "metadata": {},
   "outputs": [],
   "source": [
    "consumer_app = FastKafka()\n",
    "\n",
    "\n",
    "@consumer_app.consumes()\n",
    "async def on_preprocessed_data(msg: TestMsg):\n",
    "    print(msg)"
   ]
  },
  {
   "cell_type": "markdown",
   "id": "3c93708b",
   "metadata": {},
   "source": [
    "Here `consumer_app` has implemented `on_preprocessed_data` and `tester` will have consumer mirrored methods i.e. `to_preprocessed_data` (the same way `producer_app` had `to_preprocessed_data` in the previous example)"
   ]
  },
  {
   "cell_type": "code",
   "execution_count": null,
   "id": "8eacac40",
   "metadata": {},
   "outputs": [
    {
     "name": "stdout",
     "output_type": "stream",
     "text": [
      "23-07-03 23:12:35.574 [INFO] fastkafka._testing.in_memory_broker: InMemoryBroker._patch_consumers_and_producers(): Patching consumers and producers!\n",
      "23-07-03 23:12:35.575 [INFO] fastkafka._testing.in_memory_broker: InMemoryBroker starting\n",
      "23-07-03 23:12:35.585 [INFO] fastkafka._application.app: _create_producer() : created producer using the config: '{'bootstrap_servers': 'localhost:9092'}'\n",
      "23-07-03 23:12:35.587 [INFO] fastkafka._testing.in_memory_broker: AIOKafkaProducer patched start() called()\n",
      "23-07-03 23:12:35.588 [INFO] fastkafka._components.aiokafka_consumer_loop: aiokafka_consumer_loop() starting...\n",
      "23-07-03 23:12:35.589 [INFO] fastkafka._components.aiokafka_consumer_loop: aiokafka_consumer_loop(): Consumer created using the following parameters: {'auto_offset_reset': 'earliest', 'max_poll_records': 100, 'bootstrap_servers': 'localhost:9092'}\n",
      "23-07-03 23:12:35.590 [INFO] fastkafka._testing.in_memory_broker: AIOKafkaConsumer patched start() called()\n",
      "23-07-03 23:12:35.591 [INFO] fastkafka._components.aiokafka_consumer_loop: aiokafka_consumer_loop(): Consumer started.\n",
      "23-07-03 23:12:35.591 [INFO] fastkafka._testing.in_memory_broker: AIOKafkaConsumer patched subscribe() called\n",
      "23-07-03 23:12:35.592 [INFO] fastkafka._testing.in_memory_broker: AIOKafkaConsumer.subscribe(), subscribing to: ['preprocessed_data']\n",
      "23-07-03 23:12:35.593 [INFO] fastkafka._components.aiokafka_consumer_loop: aiokafka_consumer_loop(): Consumer subscribed.\n",
      "msg='signal'\n",
      "23-07-03 23:12:39.588 [INFO] fastkafka._testing.in_memory_broker: AIOKafkaProducer patched stop() called\n",
      "23-07-03 23:12:39.589 [INFO] fastkafka._testing.in_memory_broker: AIOKafkaConsumer patched stop() called\n",
      "23-07-03 23:12:39.590 [INFO] fastkafka._components.aiokafka_consumer_loop: aiokafka_consumer_loop(): Consumer stopped.\n",
      "23-07-03 23:12:39.591 [INFO] fastkafka._components.aiokafka_consumer_loop: aiokafka_consumer_loop() finished.\n",
      "23-07-03 23:12:39.592 [INFO] fastkafka._testing.in_memory_broker: InMemoryBroker stopping\n",
      "ok\n"
     ]
    }
   ],
   "source": [
    "async with Tester(consumer_app) as tester:\n",
    "    # Send the message to the topic preprocessed_data\n",
    "    await tester.to_preprocessed_data(test_msg)\n",
    "    # await tester.mirrors[consumer_app.on_preprocessed_data](test_msg) # the same as previous line\n",
    "\n",
    "    # Tester mirrors consumer_app consumes() and produces() methods (in this example there is only on_preprocessed_data)\n",
    "    assert (\n",
    "        tester.to_preprocessed_data == tester.mirrors[consumer_app.on_preprocessed_data]\n",
    "    )\n",
    "\n",
    "    # Assert app consumed the message from the preprocessed_data topic\n",
    "    await consumer_app.awaited_mocks.on_preprocessed_data.assert_called_with(\n",
    "        test_msg, timeout=5\n",
    "    )\n",
    "print(\"ok\")"
   ]
  },
  {
   "cell_type": "markdown",
   "id": "67813e0b",
   "metadata": {},
   "source": [
    "### Producer app + Tester (consumer) app\n",
    "\n",
    "In this example `Tester` will mirror producer method the same way it mirrored the consumer method in the previous example"
   ]
  },
  {
   "cell_type": "code",
   "execution_count": null,
   "id": "e2fe762e",
   "metadata": {},
   "outputs": [],
   "source": [
    "producer_app = FastKafka()\n",
    "\n",
    "\n",
    "@producer_app.produces()\n",
    "async def to_preprocessed_data(msg: TestMsg) -> TestMsg:\n",
    "    return msg"
   ]
  },
  {
   "cell_type": "code",
   "execution_count": null,
   "id": "06cf912e",
   "metadata": {},
   "outputs": [
    {
     "name": "stdout",
     "output_type": "stream",
     "text": [
      "23-07-03 23:12:39.636 [INFO] fastkafka._testing.in_memory_broker: InMemoryBroker._patch_consumers_and_producers(): Patching consumers and producers!\n",
      "23-07-03 23:12:39.637 [INFO] fastkafka._testing.in_memory_broker: InMemoryBroker starting\n",
      "23-07-03 23:12:39.638 [INFO] fastkafka._application.app: _create_producer() : created producer using the config: '{'bootstrap_servers': 'localhost:9092'}'\n",
      "23-07-03 23:12:39.638 [INFO] fastkafka._testing.in_memory_broker: AIOKafkaProducer patched start() called()\n",
      "23-07-03 23:12:39.650 [INFO] fastkafka._components.aiokafka_consumer_loop: aiokafka_consumer_loop() starting...\n",
      "23-07-03 23:12:39.651 [INFO] fastkafka._components.aiokafka_consumer_loop: aiokafka_consumer_loop(): Consumer created using the following parameters: {'auto_offset_reset': 'earliest', 'max_poll_records': 100, 'bootstrap_servers': 'localhost:9092'}\n",
      "23-07-03 23:12:39.652 [INFO] fastkafka._testing.in_memory_broker: AIOKafkaConsumer patched start() called()\n",
      "23-07-03 23:12:39.653 [INFO] fastkafka._components.aiokafka_consumer_loop: aiokafka_consumer_loop(): Consumer started.\n",
      "23-07-03 23:12:39.654 [INFO] fastkafka._testing.in_memory_broker: AIOKafkaConsumer patched subscribe() called\n",
      "23-07-03 23:12:39.654 [INFO] fastkafka._testing.in_memory_broker: AIOKafkaConsumer.subscribe(), subscribing to: ['preprocessed_data']\n",
      "23-07-03 23:12:39.655 [INFO] fastkafka._components.aiokafka_consumer_loop: aiokafka_consumer_loop(): Consumer subscribed.\n",
      "23-07-03 23:12:43.650 [INFO] fastkafka._testing.in_memory_broker: AIOKafkaConsumer patched stop() called\n",
      "23-07-03 23:12:43.656 [INFO] fastkafka._components.aiokafka_consumer_loop: aiokafka_consumer_loop(): Consumer stopped.\n",
      "23-07-03 23:12:43.657 [INFO] fastkafka._components.aiokafka_consumer_loop: aiokafka_consumer_loop() finished.\n",
      "23-07-03 23:12:43.658 [INFO] fastkafka._testing.in_memory_broker: AIOKafkaProducer patched stop() called\n",
      "23-07-03 23:12:43.659 [INFO] fastkafka._testing.in_memory_broker: InMemoryBroker stopping\n",
      "ok\n"
     ]
    }
   ],
   "source": [
    "async with Tester(producer_app) as tester:\n",
    "    # Send the message to the topic preprocessed_data\n",
    "    await producer_app.to_preprocessed_data(test_msg)\n",
    "\n",
    "    # Assert app consumed the message from the preprocessed_data topic\n",
    "    await tester.awaited_mocks.on_preprocessed_data.assert_called_with(\n",
    "        test_msg, timeout=5\n",
    "    )\n",
    "print(\"ok\")"
   ]
  },
  {
   "cell_type": "markdown",
   "id": "f8f43ade",
   "metadata": {},
   "source": [
    "### App (producer & consumer)  + Tester (ptoducer & consumer) app #1\n",
    "\n",
    "In this example `Tester` will mirror producer and consumer methods."
   ]
  },
  {
   "cell_type": "code",
   "execution_count": null,
   "id": "e16623cf",
   "metadata": {},
   "outputs": [],
   "source": [
    "app = FastKafka()\n",
    "\n",
    "\n",
    "@app.consumes()\n",
    "async def on_preprocessed_data(msg: TestMsg):\n",
    "    await to_predictions(TestMsg(msg=\"prediction\"))\n",
    "\n",
    "\n",
    "@app.produces()\n",
    "async def to_predictions(prediction: TestMsg) -> List[TestMsg]:\n",
    "    print(f\"Sending prediction: {prediction}\")\n",
    "    return [prediction]"
   ]
  },
  {
   "cell_type": "markdown",
   "id": "e9bf21be",
   "metadata": {},
   "source": [
    "The `app` has `on_preprocessed_data` and `to_predictions` method defined and `tester` will have their mirrored methods: `to_preprocessed_data` and `on_predictions`."
   ]
  },
  {
   "cell_type": "code",
   "execution_count": null,
   "id": "890b95e1",
   "metadata": {},
   "outputs": [
    {
     "name": "stdout",
     "output_type": "stream",
     "text": [
      "23-07-03 23:30:07.840 [INFO] fastkafka._testing.in_memory_broker: InMemoryBroker._patch_consumers_and_producers(): Patching consumers and producers!\n",
      "23-07-03 23:30:07.842 [INFO] fastkafka._testing.in_memory_broker: InMemoryBroker starting\n",
      "23-07-03 23:30:07.845 [INFO] fastkafka._application.app: _create_producer() : created producer using the config: '{'bootstrap_servers': 'localhost:9092'}'\n",
      "23-07-03 23:30:07.846 [INFO] fastkafka._testing.in_memory_broker: AIOKafkaProducer patched start() called()\n",
      "23-07-03 23:30:07.876 [INFO] fastkafka._application.app: _create_producer() : created producer using the config: '{'bootstrap_servers': 'localhost:9092'}'\n",
      "23-07-03 23:30:07.877 [INFO] fastkafka._testing.in_memory_broker: AIOKafkaProducer patched start() called()\n",
      "23-07-03 23:30:07.878 [INFO] fastkafka._components.aiokafka_consumer_loop: aiokafka_consumer_loop() starting...\n",
      "23-07-03 23:30:07.879 [INFO] fastkafka._components.aiokafka_consumer_loop: aiokafka_consumer_loop(): Consumer created using the following parameters: {'auto_offset_reset': 'earliest', 'max_poll_records': 100, 'bootstrap_servers': 'localhost:9092'}\n",
      "23-07-03 23:30:07.880 [INFO] fastkafka._testing.in_memory_broker: AIOKafkaConsumer patched start() called()\n",
      "23-07-03 23:30:07.881 [INFO] fastkafka._components.aiokafka_consumer_loop: aiokafka_consumer_loop(): Consumer started.\n",
      "23-07-03 23:30:07.882 [INFO] fastkafka._testing.in_memory_broker: AIOKafkaConsumer patched subscribe() called\n",
      "23-07-03 23:30:07.883 [INFO] fastkafka._testing.in_memory_broker: AIOKafkaConsumer.subscribe(), subscribing to: ['preprocessed_data']\n",
      "23-07-03 23:30:07.884 [INFO] fastkafka._components.aiokafka_consumer_loop: aiokafka_consumer_loop(): Consumer subscribed.\n",
      "23-07-03 23:30:07.885 [INFO] fastkafka._components.aiokafka_consumer_loop: aiokafka_consumer_loop() starting...\n",
      "23-07-03 23:30:07.885 [INFO] fastkafka._components.aiokafka_consumer_loop: aiokafka_consumer_loop(): Consumer created using the following parameters: {'auto_offset_reset': 'earliest', 'max_poll_records': 100, 'bootstrap_servers': 'localhost:9092'}\n",
      "23-07-03 23:30:07.886 [INFO] fastkafka._testing.in_memory_broker: AIOKafkaConsumer patched start() called()\n",
      "23-07-03 23:30:07.887 [INFO] fastkafka._components.aiokafka_consumer_loop: aiokafka_consumer_loop(): Consumer started.\n",
      "23-07-03 23:30:07.887 [INFO] fastkafka._testing.in_memory_broker: AIOKafkaConsumer patched subscribe() called\n",
      "23-07-03 23:30:07.888 [INFO] fastkafka._testing.in_memory_broker: AIOKafkaConsumer.subscribe(), subscribing to: ['predictions']\n",
      "23-07-03 23:30:07.888 [INFO] fastkafka._components.aiokafka_consumer_loop: aiokafka_consumer_loop(): Consumer subscribed.\n",
      "Sending prediction: msg='prediction'\n",
      "Sending prediction: msg='prediction'\n",
      "23-07-03 23:30:12.879 [INFO] fastkafka._testing.in_memory_broker: AIOKafkaConsumer patched stop() called\n",
      "23-07-03 23:30:12.880 [INFO] fastkafka._components.aiokafka_consumer_loop: aiokafka_consumer_loop(): Consumer stopped.\n",
      "23-07-03 23:30:12.880 [INFO] fastkafka._components.aiokafka_consumer_loop: aiokafka_consumer_loop() finished.\n",
      "23-07-03 23:30:12.881 [INFO] fastkafka._testing.in_memory_broker: AIOKafkaProducer patched stop() called\n",
      "23-07-03 23:30:12.881 [INFO] fastkafka._testing.in_memory_broker: AIOKafkaConsumer patched stop() called\n",
      "23-07-03 23:30:12.882 [INFO] fastkafka._components.aiokafka_consumer_loop: aiokafka_consumer_loop(): Consumer stopped.\n",
      "23-07-03 23:30:12.882 [INFO] fastkafka._components.aiokafka_consumer_loop: aiokafka_consumer_loop() finished.\n",
      "23-07-03 23:30:12.883 [INFO] fastkafka._testing.in_memory_broker: AIOKafkaProducer patched stop() called\n",
      "23-07-03 23:30:12.883 [INFO] fastkafka._testing.in_memory_broker: InMemoryBroker stopping\n",
      "ok\n"
     ]
    }
   ],
   "source": [
    "async with Tester(app) as tester:\n",
    "    # inside on_preprocessed_data, to_predictions method is called i.e. app will produce message to predictions topic\n",
    "    await app.on_preprocessed_data(test_msg)\n",
    "    # Now we can check if tester consumed from the predictions topic\n",
    "    await tester.awaited_mocks.on_predictions.assert_called(timeout=5)\n",
    "\n",
    "    # produce message to preprocessed_data topic\n",
    "    await tester.to_preprocessed_data(test_msg)\n",
    "    # app will consume from the preprocessed_data topic\n",
    "    await app.awaited_mocks.on_preprocessed_data.assert_called_with(test_msg, timeout=5)\n",
    "    # while consuming from the preprocessed_data topic (in the line above), app will produce a message to predictions topic\n",
    "    # and tester will cosume this message\n",
    "    tester.mocks.on_predictions.assert_called()\n",
    "print(\"ok\")"
   ]
  },
  {
   "cell_type": "code",
   "execution_count": null,
   "id": "ca3df713",
   "metadata": {},
   "outputs": [],
   "source": []
  },
  {
   "cell_type": "markdown",
   "id": "97f3ea6b",
   "metadata": {},
   "source": [
    "### App (producer & consumer)  + Tester (ptoducer & consumer) app #2\n",
    "\n",
    "In this example, our `app` has one consumes and two produces methods.\n",
    "Every time a company hires new `Employee`, the new employee needs to get email address `on_new_employee`. Also, we want to send a welcome to the new employee `to_welcome_message`"
   ]
  },
  {
   "cell_type": "code",
   "execution_count": null,
   "id": "f7f51841",
   "metadata": {},
   "outputs": [],
   "source": [
    "class Employee(BaseModel):\n",
    "    name: str\n",
    "    surname: str\n",
    "    email: Optional[str]\n",
    "\n",
    "\n",
    "class EmaiMessage(BaseModel):\n",
    "    sender: str = \"info@gmail.com\"\n",
    "    receiver: str\n",
    "    subject: str\n",
    "    message: str\n",
    "\n",
    "\n",
    "app = FastKafka()\n",
    "\n",
    "\n",
    "@app.consumes()\n",
    "async def on_new_employee(msg: Employee):\n",
    "    employee = await to_employee_email(msg)\n",
    "    await to_welcome_message(employee)\n",
    "\n",
    "\n",
    "@app.produces()\n",
    "async def to_employee_email(employee: Employee) -> Employee:\n",
    "    # generate new email\n",
    "    employee.email = employee.name + \".\" + employee.surname + \"@gmail.com\"\n",
    "    return employee\n",
    "\n",
    "\n",
    "@app.produces()\n",
    "async def to_welcome_message(employee: Employee) -> EmaiMessage:\n",
    "    message = f\"Dear {employee.name},\\nWelcome to the company\"\n",
    "    return EmaiMessage(receiver=employee.email, subject=\"Welcome\", message=message)"
   ]
  },
  {
   "cell_type": "code",
   "execution_count": null,
   "id": "a30c540a",
   "metadata": {},
   "outputs": [
    {
     "name": "stdout",
     "output_type": "stream",
     "text": [
      "23-07-03 23:58:16.962 [INFO] fastkafka._testing.in_memory_broker: InMemoryBroker._patch_consumers_and_producers(): Patching consumers and producers!\n",
      "23-07-03 23:58:16.968 [INFO] fastkafka._testing.in_memory_broker: InMemoryBroker starting\n",
      "23-07-03 23:58:16.969 [INFO] fastkafka._application.app: _create_producer() : created producer using the config: '{'bootstrap_servers': 'localhost:9092'}'\n",
      "23-07-03 23:58:16.970 [INFO] fastkafka._testing.in_memory_broker: AIOKafkaProducer patched start() called()\n",
      "23-07-03 23:58:16.972 [INFO] fastkafka._application.app: _create_producer() : created producer using the config: '{'bootstrap_servers': 'localhost:9092'}'\n",
      "23-07-03 23:58:16.973 [INFO] fastkafka._testing.in_memory_broker: AIOKafkaProducer patched start() called()\n",
      "23-07-03 23:58:17.025 [INFO] fastkafka._application.app: _create_producer() : created producer using the config: '{'bootstrap_servers': 'localhost:9092'}'\n",
      "23-07-03 23:58:17.026 [INFO] fastkafka._testing.in_memory_broker: AIOKafkaProducer patched start() called()\n",
      "23-07-03 23:58:17.027 [INFO] fastkafka._components.aiokafka_consumer_loop: aiokafka_consumer_loop() starting...\n",
      "23-07-03 23:58:17.028 [INFO] fastkafka._components.aiokafka_consumer_loop: aiokafka_consumer_loop(): Consumer created using the following parameters: {'auto_offset_reset': 'earliest', 'max_poll_records': 100, 'bootstrap_servers': 'localhost:9092'}\n",
      "23-07-03 23:58:17.029 [INFO] fastkafka._testing.in_memory_broker: AIOKafkaConsumer patched start() called()\n",
      "23-07-03 23:58:17.029 [INFO] fastkafka._components.aiokafka_consumer_loop: aiokafka_consumer_loop(): Consumer started.\n",
      "23-07-03 23:58:17.030 [INFO] fastkafka._testing.in_memory_broker: AIOKafkaConsumer patched subscribe() called\n",
      "23-07-03 23:58:17.031 [INFO] fastkafka._testing.in_memory_broker: AIOKafkaConsumer.subscribe(), subscribing to: ['new_employee']\n",
      "23-07-03 23:58:17.032 [INFO] fastkafka._components.aiokafka_consumer_loop: aiokafka_consumer_loop(): Consumer subscribed.\n",
      "23-07-03 23:58:17.033 [INFO] fastkafka._components.aiokafka_consumer_loop: aiokafka_consumer_loop() starting...\n",
      "23-07-03 23:58:17.034 [INFO] fastkafka._components.aiokafka_consumer_loop: aiokafka_consumer_loop(): Consumer created using the following parameters: {'auto_offset_reset': 'earliest', 'max_poll_records': 100, 'bootstrap_servers': 'localhost:9092'}\n",
      "23-07-03 23:58:17.035 [INFO] fastkafka._testing.in_memory_broker: AIOKafkaConsumer patched start() called()\n",
      "23-07-03 23:58:17.035 [INFO] fastkafka._components.aiokafka_consumer_loop: aiokafka_consumer_loop(): Consumer started.\n",
      "23-07-03 23:58:17.036 [INFO] fastkafka._testing.in_memory_broker: AIOKafkaConsumer patched subscribe() called\n",
      "23-07-03 23:58:17.037 [INFO] fastkafka._testing.in_memory_broker: AIOKafkaConsumer.subscribe(), subscribing to: ['employee_email']\n",
      "23-07-03 23:58:17.037 [INFO] fastkafka._components.aiokafka_consumer_loop: aiokafka_consumer_loop(): Consumer subscribed.\n",
      "23-07-03 23:58:17.038 [INFO] fastkafka._components.aiokafka_consumer_loop: aiokafka_consumer_loop() starting...\n",
      "23-07-03 23:58:17.039 [INFO] fastkafka._components.aiokafka_consumer_loop: aiokafka_consumer_loop(): Consumer created using the following parameters: {'auto_offset_reset': 'earliest', 'max_poll_records': 100, 'bootstrap_servers': 'localhost:9092'}\n",
      "23-07-03 23:58:17.039 [INFO] fastkafka._testing.in_memory_broker: AIOKafkaConsumer patched start() called()\n",
      "23-07-03 23:58:17.040 [INFO] fastkafka._components.aiokafka_consumer_loop: aiokafka_consumer_loop(): Consumer started.\n",
      "23-07-03 23:58:17.040 [INFO] fastkafka._testing.in_memory_broker: AIOKafkaConsumer patched subscribe() called\n",
      "23-07-03 23:58:17.041 [INFO] fastkafka._testing.in_memory_broker: AIOKafkaConsumer.subscribe(), subscribing to: ['welcome_message']\n",
      "23-07-03 23:58:17.042 [INFO] fastkafka._components.aiokafka_consumer_loop: aiokafka_consumer_loop(): Consumer subscribed.\n",
      "23-07-03 23:58:21.028 [INFO] fastkafka._testing.in_memory_broker: AIOKafkaConsumer patched stop() called\n",
      "23-07-03 23:58:21.028 [INFO] fastkafka._components.aiokafka_consumer_loop: aiokafka_consumer_loop(): Consumer stopped.\n",
      "23-07-03 23:58:21.029 [INFO] fastkafka._components.aiokafka_consumer_loop: aiokafka_consumer_loop() finished.\n",
      "23-07-03 23:58:21.030 [INFO] fastkafka._testing.in_memory_broker: AIOKafkaConsumer patched stop() called\n",
      "23-07-03 23:58:21.031 [INFO] fastkafka._components.aiokafka_consumer_loop: aiokafka_consumer_loop(): Consumer stopped.\n",
      "23-07-03 23:58:21.031 [INFO] fastkafka._components.aiokafka_consumer_loop: aiokafka_consumer_loop() finished.\n",
      "23-07-03 23:58:21.032 [INFO] fastkafka._testing.in_memory_broker: AIOKafkaProducer patched stop() called\n",
      "23-07-03 23:58:21.033 [INFO] fastkafka._testing.in_memory_broker: AIOKafkaConsumer patched stop() called\n",
      "23-07-03 23:58:21.033 [INFO] fastkafka._components.aiokafka_consumer_loop: aiokafka_consumer_loop(): Consumer stopped.\n",
      "23-07-03 23:58:21.034 [INFO] fastkafka._components.aiokafka_consumer_loop: aiokafka_consumer_loop() finished.\n",
      "23-07-03 23:58:21.035 [INFO] fastkafka._testing.in_memory_broker: AIOKafkaProducer patched stop() called\n",
      "23-07-03 23:58:21.036 [INFO] fastkafka._testing.in_memory_broker: AIOKafkaProducer patched stop() called\n",
      "23-07-03 23:58:21.036 [INFO] fastkafka._testing.in_memory_broker: InMemoryBroker stopping\n",
      "ok\n"
     ]
    }
   ],
   "source": [
    "employee = Employee(name=\"John\", surname=\"Jones\")\n",
    "\n",
    "async with Tester(app) as tester:\n",
    "    # while consuming from the new_employee topic, app writes to the employee_email and welcome_message topic\n",
    "    await app.on_new_employee(employee)\n",
    "\n",
    "    # Now we can check if the methods were called\n",
    "    await tester.awaited_mocks.on_employee_email.assert_called(timeout=5)\n",
    "    await tester.awaited_mocks.on_welcome_message.assert_called(timeout=5)\n",
    "\n",
    "print(\"ok\")"
   ]
  },
  {
   "cell_type": "code",
   "execution_count": null,
   "id": "fc0d7c25",
   "metadata": {},
   "outputs": [
    {
     "name": "stdout",
     "output_type": "stream",
     "text": [
      "23-07-04 00:19:59.882 [INFO] fastkafka._testing.in_memory_broker: InMemoryBroker._patch_consumers_and_producers(): Patching consumers and producers!\n",
      "23-07-04 00:19:59.883 [INFO] fastkafka._testing.in_memory_broker: InMemoryBroker starting\n",
      "23-07-04 00:19:59.885 [INFO] fastkafka._application.app: _create_producer() : created producer using the config: '{'bootstrap_servers': 'localhost:9092'}'\n",
      "23-07-04 00:19:59.886 [INFO] fastkafka._testing.in_memory_broker: AIOKafkaProducer patched start() called()\n",
      "23-07-04 00:19:59.887 [INFO] fastkafka._application.app: _create_producer() : created producer using the config: '{'bootstrap_servers': 'localhost:9092'}'\n",
      "23-07-04 00:19:59.888 [INFO] fastkafka._testing.in_memory_broker: AIOKafkaProducer patched start() called()\n",
      "23-07-04 00:20:00.100 [INFO] fastkafka._application.app: _create_producer() : created producer using the config: '{'bootstrap_servers': 'localhost:9092'}'\n",
      "23-07-04 00:20:00.101 [INFO] fastkafka._testing.in_memory_broker: AIOKafkaProducer patched start() called()\n",
      "23-07-04 00:20:00.103 [INFO] fastkafka._components.aiokafka_consumer_loop: aiokafka_consumer_loop() starting...\n",
      "23-07-04 00:20:00.104 [INFO] fastkafka._components.aiokafka_consumer_loop: aiokafka_consumer_loop(): Consumer created using the following parameters: {'auto_offset_reset': 'earliest', 'max_poll_records': 100, 'bootstrap_servers': 'localhost:9092'}\n",
      "23-07-04 00:20:00.104 [INFO] fastkafka._testing.in_memory_broker: AIOKafkaConsumer patched start() called()\n",
      "23-07-04 00:20:00.105 [INFO] fastkafka._components.aiokafka_consumer_loop: aiokafka_consumer_loop(): Consumer started.\n",
      "23-07-04 00:20:00.106 [INFO] fastkafka._testing.in_memory_broker: AIOKafkaConsumer patched subscribe() called\n",
      "23-07-04 00:20:00.107 [INFO] fastkafka._testing.in_memory_broker: AIOKafkaConsumer.subscribe(), subscribing to: ['new_employee']\n",
      "23-07-04 00:20:00.107 [INFO] fastkafka._components.aiokafka_consumer_loop: aiokafka_consumer_loop(): Consumer subscribed.\n",
      "23-07-04 00:20:00.108 [INFO] fastkafka._components.aiokafka_consumer_loop: aiokafka_consumer_loop() starting...\n",
      "23-07-04 00:20:00.109 [INFO] fastkafka._components.aiokafka_consumer_loop: aiokafka_consumer_loop(): Consumer created using the following parameters: {'auto_offset_reset': 'earliest', 'max_poll_records': 100, 'bootstrap_servers': 'localhost:9092'}\n",
      "23-07-04 00:20:00.110 [INFO] fastkafka._testing.in_memory_broker: AIOKafkaConsumer patched start() called()\n",
      "23-07-04 00:20:00.110 [INFO] fastkafka._components.aiokafka_consumer_loop: aiokafka_consumer_loop(): Consumer started.\n",
      "23-07-04 00:20:00.111 [INFO] fastkafka._testing.in_memory_broker: AIOKafkaConsumer patched subscribe() called\n",
      "23-07-04 00:20:00.112 [INFO] fastkafka._testing.in_memory_broker: AIOKafkaConsumer.subscribe(), subscribing to: ['employee_email']\n",
      "23-07-04 00:20:00.112 [INFO] fastkafka._components.aiokafka_consumer_loop: aiokafka_consumer_loop(): Consumer subscribed.\n",
      "23-07-04 00:20:00.113 [INFO] fastkafka._components.aiokafka_consumer_loop: aiokafka_consumer_loop() starting...\n",
      "23-07-04 00:20:00.114 [INFO] fastkafka._components.aiokafka_consumer_loop: aiokafka_consumer_loop(): Consumer created using the following parameters: {'auto_offset_reset': 'earliest', 'max_poll_records': 100, 'bootstrap_servers': 'localhost:9092'}\n",
      "23-07-04 00:20:00.115 [INFO] fastkafka._testing.in_memory_broker: AIOKafkaConsumer patched start() called()\n",
      "23-07-04 00:20:00.115 [INFO] fastkafka._components.aiokafka_consumer_loop: aiokafka_consumer_loop(): Consumer started.\n",
      "23-07-04 00:20:00.116 [INFO] fastkafka._testing.in_memory_broker: AIOKafkaConsumer patched subscribe() called\n",
      "23-07-04 00:20:00.116 [INFO] fastkafka._testing.in_memory_broker: AIOKafkaConsumer.subscribe(), subscribing to: ['welcome_message']\n",
      "23-07-04 00:20:00.117 [INFO] fastkafka._components.aiokafka_consumer_loop: aiokafka_consumer_loop(): Consumer subscribed.\n",
      "23-07-04 00:20:08.105 [INFO] fastkafka._testing.in_memory_broker: AIOKafkaConsumer patched stop() called\n",
      "23-07-04 00:20:08.107 [INFO] fastkafka._components.aiokafka_consumer_loop: aiokafka_consumer_loop(): Consumer stopped.\n",
      "23-07-04 00:20:08.108 [INFO] fastkafka._components.aiokafka_consumer_loop: aiokafka_consumer_loop() finished.\n",
      "23-07-04 00:20:08.108 [INFO] fastkafka._testing.in_memory_broker: AIOKafkaConsumer patched stop() called\n",
      "23-07-04 00:20:08.109 [INFO] fastkafka._components.aiokafka_consumer_loop: aiokafka_consumer_loop(): Consumer stopped.\n",
      "23-07-04 00:20:08.110 [INFO] fastkafka._components.aiokafka_consumer_loop: aiokafka_consumer_loop() finished.\n",
      "23-07-04 00:20:08.111 [INFO] fastkafka._testing.in_memory_broker: AIOKafkaProducer patched stop() called\n",
      "23-07-04 00:20:08.111 [INFO] fastkafka._testing.in_memory_broker: AIOKafkaConsumer patched stop() called\n",
      "23-07-04 00:20:08.112 [INFO] fastkafka._components.aiokafka_consumer_loop: aiokafka_consumer_loop(): Consumer stopped.\n",
      "23-07-04 00:20:08.113 [INFO] fastkafka._components.aiokafka_consumer_loop: aiokafka_consumer_loop() finished.\n",
      "23-07-04 00:20:08.113 [INFO] fastkafka._testing.in_memory_broker: AIOKafkaProducer patched stop() called\n",
      "23-07-04 00:20:08.114 [INFO] fastkafka._testing.in_memory_broker: AIOKafkaProducer patched stop() called\n",
      "23-07-04 00:20:08.115 [INFO] fastkafka._testing.in_memory_broker: InMemoryBroker stopping\n"
     ]
    },
    {
     "ename": "AssertionError",
     "evalue": "expected call not found.\nExpected: mock(Employee(name='Mickey', surname='Mouse', email=None))\nActual: mock(Employee(name='Mickey', surname='Mouse', email='Mickey.Mouse@gmail.com'))",
     "output_type": "error",
     "traceback": [
      "\u001b[0;31m---------------------------------------------------------------------------\u001b[0m",
      "\u001b[0;31mAssertionError\u001b[0m                            Traceback (most recent call last)",
      "Cell \u001b[0;32mIn[36], line 6\u001b[0m\n\u001b[1;32m      4\u001b[0m \u001b[38;5;28;01mawait\u001b[39;00m tester\u001b[38;5;241m.\u001b[39mto_new_employee(employee)\n\u001b[1;32m      5\u001b[0m \u001b[38;5;66;03m# Assert app consumed the message\u001b[39;00m\n\u001b[0;32m----> 6\u001b[0m \u001b[38;5;28;01mawait\u001b[39;00m app\u001b[38;5;241m.\u001b[39mawaited_mocks\u001b[38;5;241m.\u001b[39mon_new_employee\u001b[38;5;241m.\u001b[39massert_called_with(employee, timeout\u001b[38;5;241m=\u001b[39m\u001b[38;5;241m5\u001b[39m)\n\u001b[1;32m      8\u001b[0m \u001b[38;5;66;03m# If the the previous assert is true (on_new_employee was called),\u001b[39;00m\n\u001b[1;32m      9\u001b[0m \u001b[38;5;66;03m# to_employee_email and to_welcome_message were called inside on_new_employee method\u001b[39;00m\n\u001b[1;32m     10\u001b[0m \n\u001b[1;32m     11\u001b[0m \u001b[38;5;66;03m# Now we can check if this two messages were consumed\u001b[39;00m\n\u001b[1;32m     12\u001b[0m \u001b[38;5;28;01mawait\u001b[39;00m tester\u001b[38;5;241m.\u001b[39mawaited_mocks\u001b[38;5;241m.\u001b[39mon_employee_email\u001b[38;5;241m.\u001b[39massert_called(timeout\u001b[38;5;241m=\u001b[39m\u001b[38;5;241m5\u001b[39m)\n",
      "File \u001b[0;32m/work/fastkafka/fastkafka/_application/app.py:1010\u001b[0m, in \u001b[0;36mAwaitedMock._await_for.<locals>.inner\u001b[0;34m(f, timeout, *args, **kwargs)\u001b[0m\n\u001b[1;32m   1007\u001b[0m     \u001b[38;5;28;01mif\u001b[39;00m datetime\u001b[38;5;241m.\u001b[39mnow() \u001b[38;5;241m-\u001b[39m t0 \u001b[38;5;241m>\u001b[39m timedelta(seconds\u001b[38;5;241m=\u001b[39mtimeout):\n\u001b[1;32m   1008\u001b[0m         \u001b[38;5;28;01mbreak\u001b[39;00m\n\u001b[0;32m-> 1010\u001b[0m \u001b[38;5;28;01mraise\u001b[39;00m e\n",
      "File \u001b[0;32m/work/fastkafka/fastkafka/_application/app.py:1002\u001b[0m, in \u001b[0;36mAwaitedMock._await_for.<locals>.inner\u001b[0;34m(f, timeout, *args, **kwargs)\u001b[0m\n\u001b[1;32m   1000\u001b[0m \u001b[38;5;28;01mwhile\u001b[39;00m \u001b[38;5;28;01mTrue\u001b[39;00m:\n\u001b[1;32m   1001\u001b[0m     \u001b[38;5;28;01mtry\u001b[39;00m:\n\u001b[0;32m-> 1002\u001b[0m         \u001b[38;5;28;01mreturn\u001b[39;00m \u001b[43mf\u001b[49m\u001b[43m(\u001b[49m\u001b[38;5;241;43m*\u001b[39;49m\u001b[43margs\u001b[49m\u001b[43m,\u001b[49m\u001b[43m \u001b[49m\u001b[38;5;241;43m*\u001b[39;49m\u001b[38;5;241;43m*\u001b[39;49m\u001b[43mkwargs\u001b[49m\u001b[43m)\u001b[49m\n\u001b[1;32m   1003\u001b[0m     \u001b[38;5;28;01mexcept\u001b[39;00m \u001b[38;5;167;01mException\u001b[39;00m \u001b[38;5;28;01mas\u001b[39;00m _e:\n\u001b[1;32m   1004\u001b[0m         \u001b[38;5;28;01mawait\u001b[39;00m asyncio\u001b[38;5;241m.\u001b[39msleep(\u001b[38;5;241m1\u001b[39m)\n",
      "File \u001b[0;32m/usr/lib/python3.11/unittest/mock.py:939\u001b[0m, in \u001b[0;36mNonCallableMock.assert_called_with\u001b[0;34m(self, *args, **kwargs)\u001b[0m\n\u001b[1;32m    937\u001b[0m \u001b[38;5;28;01mif\u001b[39;00m actual \u001b[38;5;241m!=\u001b[39m expected:\n\u001b[1;32m    938\u001b[0m     cause \u001b[38;5;241m=\u001b[39m expected \u001b[38;5;28;01mif\u001b[39;00m \u001b[38;5;28misinstance\u001b[39m(expected, \u001b[38;5;167;01mException\u001b[39;00m) \u001b[38;5;28;01melse\u001b[39;00m \u001b[38;5;28;01mNone\u001b[39;00m\n\u001b[0;32m--> 939\u001b[0m     \u001b[38;5;28;01mraise\u001b[39;00m \u001b[38;5;167;01mAssertionError\u001b[39;00m(_error_message()) \u001b[38;5;28;01mfrom\u001b[39;00m \u001b[38;5;21;01mcause\u001b[39;00m\n",
      "\u001b[0;31mAssertionError\u001b[0m: expected call not found.\nExpected: mock(Employee(name='Mickey', surname='Mouse', email=None))\nActual: mock(Employee(name='Mickey', surname='Mouse', email='Mickey.Mouse@gmail.com'))"
     ]
    }
   ],
   "source": [
    "employee = Employee(name=\"Mickey\", surname=\"Mouse\")\n",
    "async with Tester(app) as tester:\n",
    "    # produce the message to new_employee topic\n",
    "    await tester.to_new_employee(employee)\n",
    "    # Assert app consumed the message\n",
    "    await app.awaited_mocks.on_new_employee.assert_called_with(employee, timeout=5)\n",
    "\n",
    "    # If the the previous assert is true (on_new_employee was called),\n",
    "    # to_employee_email and to_welcome_message were called inside on_new_employee method\n",
    "\n",
    "    # Now we can check if this two messages were consumed\n",
    "    await tester.awaited_mocks.on_employee_email.assert_called(timeout=5)\n",
    "    await tester.awaited_mocks.on_welcome_message.assert_called(timeout=5)\n",
    "\n",
    "print(\"ok\")"
   ]
  },
  {
   "cell_type": "code",
   "execution_count": null,
   "id": "9da1c56f",
   "metadata": {},
   "outputs": [],
   "source": []
  }
 ],
 "metadata": {
  "kernelspec": {
   "display_name": "python3",
   "language": "python",
   "name": "python3"
  }
 },
 "nbformat": 4,
 "nbformat_minor": 5
}

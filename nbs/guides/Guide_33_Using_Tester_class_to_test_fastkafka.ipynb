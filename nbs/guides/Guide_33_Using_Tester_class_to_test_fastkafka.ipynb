{
 "cells": [
  {
   "cell_type": "markdown",
   "id": "d99f1cb7",
   "metadata": {},
   "source": [
    "# Using Tester to test FastKafka"
   ]
  },
  {
   "cell_type": "code",
   "execution_count": null,
   "id": "675bd571",
   "metadata": {},
   "outputs": [],
   "source": [
    "# | hide\n",
    "\n",
    "from fastkafka._application.app import FastKafka\n",
    "from fastkafka._application.tester import Tester\n",
    "from pydantic import BaseModel, Field\n",
    "from typing import List, Optional"
   ]
  },
  {
   "cell_type": "markdown",
   "id": "77293df7",
   "metadata": {},
   "source": [
    "In order to speed up development and make testing easier, we have implemented the [Tester](../../api/fastkafka/testing/Tester/) class. The [Tester](../../api/fastkafka/testing/Tester/) instance starts InMemory implementation of Kafka broker i.e. there is no need for starting localhost Kafka service for testing FastKafka apps.\n",
    "The [Tester](../../api/fastkafka/testing/Tester/) will redirect consumes and produces decorated functions to the InMemory Kafka broker so that you can quickly test FasKafka apps without the need of a running Kafka broker and all its dependencies."
   ]
  },
  {
   "cell_type": "markdown",
   "id": "d092fa22",
   "metadata": {},
   "source": [
    "**Note**: if you are using Jupyter Notebooks you need to allow the usage of nested event loops when working with asyncio. This can be done by adding the following code:"
   ]
  },
  {
   "cell_type": "code",
   "execution_count": null,
   "id": "9cde8241",
   "metadata": {},
   "outputs": [],
   "source": [
    "import nest_asyncio\n",
    "\n",
    "nest_asyncio.apply()"
   ]
  },
  {
   "cell_type": "markdown",
   "id": "1278854a",
   "metadata": {},
   "source": [
    "### Test message\n",
    "\n",
    "To showcase the functionalities of FastKafka and illustrate the concepts discussed, we can use a simple test message called `TestMsg`. Here's the definition of the `TestMsg` class:"
   ]
  },
  {
   "cell_type": "code",
   "execution_count": null,
   "id": "c7754a58",
   "metadata": {},
   "outputs": [],
   "source": [
    "class TestMsg(BaseModel):\n",
    "    msg: str = Field(...)\n",
    "\n",
    "test_msg = TestMsg(msg=\"signal\")"
   ]
  },
  {
   "cell_type": "markdown",
   "id": "d15934a5",
   "metadata": {},
   "source": [
    "### InMemory Producer and Consumer apps\n",
    "\n",
    "Let's create two simple `FastKafka` apps. `consumer_app` consumes from the `preprocessed_data` topic and `producer_app` produces messages to the `preprocessed_data` topic."
   ]
  },
  {
   "cell_type": "code",
   "execution_count": null,
   "id": "27b9417e",
   "metadata": {},
   "outputs": [],
   "source": [
    "from pydantic import BaseModel, Field\n",
    "\n",
    "consumer_app = FastKafka()\n",
    "\n",
    "\n",
    "@consumer_app.consumes()\n",
    "async def on_preprocessed_data(msg: TestMsg):\n",
    "    print(msg)\n",
    "\n",
    "\n",
    "producer_app = FastKafka()\n",
    "\n",
    "\n",
    "@producer_app.produces()\n",
    "async def to_preprocessed_data(msg: TestMsg) -> TestMsg:\n",
    "    return msg"
   ]
  },
  {
   "cell_type": "markdown",
   "id": "c0155687",
   "metadata": {},
   "source": [
    "By using `Tester([consumer_app, producer_app])`, this two apps will use InMemory Kakfa broker.\n",
    "\n",
    "**Note**: it is necessary to define parameter and return types in the producer and consumer methods"
   ]
  },
  {
   "cell_type": "code",
   "execution_count": null,
   "id": "0371097d",
   "metadata": {},
   "outputs": [],
   "source": [
    "test_msg = TestMsg(msg=\"signal\")\n",
    "async with Tester([consumer_app, producer_app]) as tester:\n",
    "    # producer_app produces message to the preprocessed_data topic\n",
    "    await producer_app.to_preprocessed_data(test_msg)\n",
    "    # assert that consumer_app consumed from the preprocessed_data topic and it was called with test_msg argument\n",
    "    await consumer_app.awaited_mocks.on_preprocessed_data.assert_called_with(\n",
    "        test_msg, timeout=5\n",
    "    )\n",
    "print(\"ok\")"
   ]
  },
  {
   "cell_type": "markdown",
   "id": "1b612c56",
   "metadata": {},
   "source": [
    "### Final script\n",
    "\n",
    "**Note**: If you are running these examples in `.py` files, [Tester](../../api/fastkafka/testing/Tester/) needs to be in the `async` function (you can't run async code in the sync function), for Jupyther Notebooks this isn't necessary. Testing `.py` script example:"
   ]
  },
  {
   "cell_type": "code",
   "execution_count": null,
   "id": "9b94ed56",
   "metadata": {},
   "outputs": [],
   "source": [
    "import asyncio\n",
    "from fastkafka._application.app import FastKafka\n",
    "from fastkafka._application.tester import Tester\n",
    "from pydantic import BaseModel, Field\n",
    "\n",
    "\n",
    "class TestMsg(BaseModel):\n",
    "    msg: str = Field(...)\n",
    "\n",
    "consumer_app = FastKafka()\n",
    "\n",
    "@consumer_app.consumes()\n",
    "async def on_preprocessed_data(msg: TestMsg):\n",
    "    print(msg)\n",
    "\n",
    "\n",
    "producer_app = FastKafka()\n",
    "\n",
    "\n",
    "@producer_app.produces()\n",
    "async def to_preprocessed_data(msg: TestMsg) -> TestMsg:\n",
    "    return msg\n",
    "\n",
    "\n",
    "async def async_tests():\n",
    "    test_msg = TestMsg(msg=\"signal\")\n",
    "    async with Tester([consumer_app, producer_app]) as tester:\n",
    "        # producer_app produces message to the preprocessed_data topic\n",
    "        await producer_app.to_preprocessed_data(test_msg)\n",
    "        # assert that consumer_app consumed from the preprocessed_data topic and it was called with test_msg argument\n",
    "        await consumer_app.awaited_mocks.on_preprocessed_data.assert_called_with(\n",
    "            test_msg, timeout=5\n",
    "    )\n",
    "    print(\"ok\")\n",
    "\n",
    "if __name__ == \"__main__\":\n",
    "    loop = asyncio.get_event_loop()\n",
    "    loop.run_until_complete(async_tests())"
   ]
  },
  {
   "cell_type": "markdown",
   "id": "b3f5034a",
   "metadata": {},
   "source": [
    "### Consumer app + Tester (producer) app\n",
    "\n",
    "It is often necessary to implement only the Kakfa consumer, which then subscribes to an already existing topic. The [Tester](../../api/fastkafka/testing/Tester/) enables simple mirroring, i.e. if we have implemented consumer, the [Tester](../../api/fastkafka/testing/Tester/) will mock the producer methods (and the other way - if the producer is implemented, [Tester](../../api/fastkafka/testing/Tester/) will mock consumer methods).\n",
    "In this examle we have `consumer_app` which consumes from the `preprocessed_data` topic."
   ]
  },
  {
   "cell_type": "code",
   "execution_count": null,
   "id": "675448df",
   "metadata": {},
   "outputs": [],
   "source": [
    "consumer_app = FastKafka()\n",
    "\n",
    "\n",
    "@consumer_app.consumes()\n",
    "async def on_preprocessed_data(msg: TestMsg):\n",
    "    print(msg)"
   ]
  },
  {
   "cell_type": "markdown",
   "id": "3c93708b",
   "metadata": {},
   "source": [
    "Here `consumer_app` has implemented `on_preprocessed_data` and `tester` will have consumer mirrored methods i.e. `to_preprocessed_data` (the same way `producer_app` had `to_preprocessed_data` in the previous example)"
   ]
  },
  {
   "cell_type": "code",
   "execution_count": null,
   "id": "8eacac40",
   "metadata": {},
   "outputs": [],
   "source": [
    "async with Tester(consumer_app) as tester:\n",
    "    # Send the message to the topic preprocessed_data\n",
    "    await tester.to_preprocessed_data(test_msg)\n",
    "    # await tester.mirrors[consumer_app.on_preprocessed_data](test_msg) # the same as previous line\n",
    "\n",
    "    # Tester mirrors consumer_app consumes() and produces() methods (in this example there is only on_preprocessed_data)\n",
    "    assert (\n",
    "        tester.to_preprocessed_data == tester.mirrors[consumer_app.on_preprocessed_data]\n",
    "    )\n",
    "\n",
    "    # Assert app consumed the message from the preprocessed_data topic\n",
    "    await consumer_app.awaited_mocks.on_preprocessed_data.assert_called_with(\n",
    "        test_msg, timeout=5\n",
    "    )\n",
    "print(\"ok\")"
   ]
  },
  {
   "cell_type": "markdown",
   "id": "b155ff3f",
   "metadata": {},
   "source": [
    "### Final script"
   ]
  },
  {
   "cell_type": "code",
   "execution_count": null,
   "id": "da2779f7",
   "metadata": {},
   "outputs": [],
   "source": [
    "import asyncio\n",
    "from fastkafka._application.app import FastKafka\n",
    "from fastkafka._application.tester import Tester\n",
    "from pydantic import BaseModel, Field\n",
    "\n",
    "\n",
    "class TestMsg(BaseModel):\n",
    "    msg: str = Field(...)\n",
    "\n",
    "consumer_app = FastKafka()\n",
    "\n",
    "@consumer_app.consumes()\n",
    "async def on_preprocessed_data(msg: TestMsg):\n",
    "    print(msg)\n",
    "\n",
    "async def async_tests():\n",
    "    test_msg = TestMsg(msg=\"signal\")\n",
    "    async with Tester(consumer_app) as tester:\n",
    "        # Send the message to the topic preprocessed_data\n",
    "        await tester.to_preprocessed_data(test_msg)\n",
    "        # await tester.mirrors[consumer_app.on_preprocessed_data](test_msg) # the same as previous line\n",
    "\n",
    "        # Tester mirrors consumer_app consumes() and produces() methods (in this example there is only on_preprocessed_data)\n",
    "        assert (\n",
    "            tester.to_preprocessed_data == tester.mirrors[consumer_app.on_preprocessed_data]\n",
    "        )\n",
    "\n",
    "        # Assert app consumed the message from the preprocessed_data topic\n",
    "        await consumer_app.awaited_mocks.on_preprocessed_data.assert_called_with(\n",
    "            test_msg, timeout=5\n",
    "        )\n",
    "    print(\"ok\")\n",
    "    \n",
    "\n",
    "if __name__ == \"__main__\":\n",
    "    loop = asyncio.get_event_loop()\n",
    "    loop.run_until_complete(async_tests())"
   ]
  },
  {
   "cell_type": "markdown",
   "id": "67813e0b",
   "metadata": {},
   "source": [
    "### Producer app + Tester (consumer) app\n",
    "\n",
    "In this example [Tester](../../api/fastkafka/testing/Tester/) will mirror producer method the same way it mirrored the consumer method in the previous example"
   ]
  },
  {
   "cell_type": "code",
   "execution_count": null,
   "id": "e2fe762e",
   "metadata": {},
   "outputs": [],
   "source": [
    "producer_app = FastKafka()\n",
    "\n",
    "\n",
    "@producer_app.produces()\n",
    "async def to_preprocessed_data(msg: TestMsg) -> TestMsg:\n",
    "    return msg"
   ]
  },
  {
   "cell_type": "code",
   "execution_count": null,
   "id": "06cf912e",
   "metadata": {},
   "outputs": [],
   "source": [
    "async with Tester(producer_app) as tester:\n",
    "    # Send the message to the topic preprocessed_data\n",
    "    await producer_app.to_preprocessed_data(test_msg)\n",
    "\n",
    "    # Assert app consumed the message from the preprocessed_data topic\n",
    "    await tester.awaited_mocks.on_preprocessed_data.assert_called_with(\n",
    "        test_msg, timeout=5\n",
    "    )\n",
    "print(\"ok\")"
   ]
  },
  {
   "cell_type": "markdown",
   "id": "2a5f1bec",
   "metadata": {},
   "source": [
    "### Final script"
   ]
  },
  {
   "cell_type": "code",
   "execution_count": null,
   "id": "201234d5",
   "metadata": {},
   "outputs": [],
   "source": [
    "import asyncio\n",
    "from fastkafka._application.app import FastKafka\n",
    "from fastkafka._application.tester import Tester\n",
    "from pydantic import BaseModel, Field\n",
    "\n",
    "\n",
    "class TestMsg(BaseModel):\n",
    "    msg: str = Field(...)\n",
    "\n",
    "producer_app = FastKafka()\n",
    "\n",
    "@producer_app.produces()\n",
    "async def to_preprocessed_data(msg: TestMsg) -> TestMsg:\n",
    "    return msg\n",
    "\n",
    "async def async_tests():\n",
    "    test_msg = TestMsg(msg=\"signal\")\n",
    "    async with Tester(producer_app) as tester:\n",
    "        # Send the message to the topic preprocessed_data\n",
    "        await producer_app.to_preprocessed_data(test_msg)\n",
    "\n",
    "        # Assert app consumed the message from the preprocessed_data topic\n",
    "        await tester.awaited_mocks.on_preprocessed_data.assert_called_with(\n",
    "            test_msg, timeout=5\n",
    "        )\n",
    "    print(\"ok\")\n",
    "    \n",
    "\n",
    "if __name__ == \"__main__\":\n",
    "    loop = asyncio.get_event_loop()\n",
    "    loop.run_until_complete(async_tests())"
   ]
  },
  {
   "cell_type": "markdown",
   "id": "f8f43ade",
   "metadata": {},
   "source": [
    "### App (producer & consumer)  + Tester (producer & consumer) app #1\n",
    "\n",
    "In this example [Tester](../../api/fastkafka/testing/Tester/) will mirror producer and consumer methods."
   ]
  },
  {
   "cell_type": "code",
   "execution_count": null,
   "id": "e16623cf",
   "metadata": {},
   "outputs": [],
   "source": [
    "app = FastKafka()\n",
    "\n",
    "\n",
    "@app.consumes()\n",
    "async def on_preprocessed_data(msg: TestMsg):\n",
    "    await to_predictions(TestMsg(msg=\"prediction\"))\n",
    "\n",
    "\n",
    "@app.produces()\n",
    "async def to_predictions(prediction: TestMsg) -> List[TestMsg]:\n",
    "    print(f\"Sending prediction: {prediction}\")\n",
    "    return [prediction]"
   ]
  },
  {
   "cell_type": "markdown",
   "id": "e9bf21be",
   "metadata": {},
   "source": [
    "The `app` has `on_preprocessed_data` and `to_predictions` method defined and `tester` will have their mirrored methods: `to_preprocessed_data` and `on_predictions`."
   ]
  },
  {
   "cell_type": "code",
   "execution_count": null,
   "id": "890b95e1",
   "metadata": {},
   "outputs": [],
   "source": [
    "async with Tester(app) as tester:\n",
    "    # inside on_preprocessed_data, to_predictions method is called i.e. app will produce message to predictions topic\n",
    "    await app.on_preprocessed_data(test_msg)\n",
    "    # Now we can check if tester consumed from the predictions topic\n",
    "    await tester.awaited_mocks.on_predictions.assert_called(timeout=5)\n",
    "\n",
    "    # produce message to preprocessed_data topic\n",
    "    await tester.to_preprocessed_data(test_msg)\n",
    "    # app will consume from the preprocessed_data topic\n",
    "    await app.awaited_mocks.on_preprocessed_data.assert_called_with(test_msg, timeout=5)\n",
    "    # while consuming from the preprocessed_data topic (in the line above), app will produce a message to predictions topic\n",
    "    # and tester will cosume this message\n",
    "    tester.mocks.on_predictions.assert_called()\n",
    "print(\"ok\")"
   ]
  },
  {
   "cell_type": "markdown",
   "id": "a842e016",
   "metadata": {},
   "source": [
    "### Final script"
   ]
  },
  {
   "cell_type": "code",
   "execution_count": null,
   "id": "a8dfd04a",
   "metadata": {},
   "outputs": [],
   "source": [
    "import asyncio\n",
    "from fastkafka._application.app import FastKafka\n",
    "from fastkafka._application.tester import Tester\n",
    "from pydantic import BaseModel, Field\n",
    "from typing import List\n",
    "\n",
    "class TestMsg(BaseModel):\n",
    "    msg: str = Field(...)\n",
    "\n",
    "app = FastKafka()\n",
    "\n",
    "\n",
    "@app.consumes()\n",
    "async def on_preprocessed_data(msg: TestMsg):\n",
    "    await to_predictions(TestMsg(msg=\"prediction\"))\n",
    "\n",
    "\n",
    "@app.produces()\n",
    "async def to_predictions(prediction: TestMsg) -> List[TestMsg]:\n",
    "    print(f\"Sending prediction: {prediction}\")\n",
    "    return [prediction]\n",
    "\n",
    "\n",
    "async def async_tests():\n",
    "    test_msg = TestMsg(msg=\"signal\")\n",
    "    async with Tester(app) as tester:\n",
    "        # inside on_preprocessed_data, to_predictions method is called i.e. app will produce message to predictions topic\n",
    "        await app.on_preprocessed_data(test_msg)\n",
    "        # Now we can check if tester consumed from the predictions topic\n",
    "        await tester.awaited_mocks.on_predictions.assert_called(timeout=5)\n",
    "\n",
    "        # produce message to preprocessed_data topic\n",
    "        await tester.to_preprocessed_data(test_msg)\n",
    "        # app will consume from the preprocessed_data topic\n",
    "        await app.awaited_mocks.on_preprocessed_data.assert_called_with(test_msg, timeout=5)\n",
    "        # while consuming from the preprocessed_data topic (in the line above), app will produce a message to predictions topic\n",
    "        # and tester will cosume this message\n",
    "        tester.mocks.on_predictions.assert_called()\n",
    "    print(\"ok\")\n",
    "\n",
    "if __name__ == \"__main__\":\n",
    "    loop = asyncio.get_event_loop()\n",
    "    loop.run_until_complete(async_tests())"
   ]
  },
  {
   "cell_type": "markdown",
   "id": "97f3ea6b",
   "metadata": {},
   "source": [
    "### App (producer & consumer)  + Tester (producer & consumer) app #2\n",
    "\n",
    "In this example, our `app` has one consumes and two produces methods.\n",
    "Every time a company hires new `Employee`, the new employee needs to get email address `on_new_employee`. Also, we want to send a welcome mail to the new employee `to_welcome_message`\n",
    "\n",
    "\n",
    "**Note**: [Tester](../../api/fastkafka/testing/Tester/) uses `unittest.mock` module for the creation of mirrored methods. In this example, we defined `on_new_employee(msg: Employee)`, `tester` will create `to_new_employee(msg: Employee) -> Employee` and both methods will have a POINTER TO THE SAME OBJECT `msg: Employee`. This problem can be solved easily by creating a copy of `msg` object at the beggining of `on_new_employee` method -> `msg_copy = msg.copy()`"
   ]
  },
  {
   "cell_type": "code",
   "execution_count": null,
   "id": "f7f51841",
   "metadata": {},
   "outputs": [],
   "source": [
    "class Employee(BaseModel):\n",
    "    name: str\n",
    "    surname: str\n",
    "    email: Optional[str]\n",
    "\n",
    "\n",
    "class EmaiMessage(BaseModel):\n",
    "    sender: str = \"info@gmail.com\"\n",
    "    receiver: str\n",
    "    subject: str\n",
    "    message: str\n",
    "\n",
    "\n",
    "app = FastKafka()\n",
    "\n",
    "\n",
    "@app.consumes()\n",
    "async def on_new_employee(msg: Employee):\n",
    "    msg_copy = msg.copy()\n",
    "    employee = await to_employee_email(msg_copy)\n",
    "    await to_welcome_message(employee)\n",
    "\n",
    "\n",
    "@app.produces()\n",
    "async def to_employee_email(employee: Employee) -> Employee:\n",
    "    # generate new email\n",
    "    employee.email = employee.name + \".\" + employee.surname + \"@gmail.com\"\n",
    "    return employee\n",
    "\n",
    "\n",
    "@app.produces()\n",
    "async def to_welcome_message(employee: Employee) -> EmaiMessage:\n",
    "    message = f\"Dear {employee.name},\\nWelcome to the company\"\n",
    "    return EmaiMessage(receiver=employee.email, subject=\"Welcome\", message=message)"
   ]
  },
  {
   "cell_type": "code",
   "execution_count": null,
   "id": "a30c540a",
   "metadata": {},
   "outputs": [],
   "source": [
    "async with Tester(app) as tester:\n",
    "    # while consuming from the new_employee topic, app writes to the employee_email and welcome_message topic\n",
    "    await app.on_new_employee(Employee(name=\"John\", surname=\"Jones\"))\n",
    "\n",
    "    # Now we can check if the methods were called\n",
    "    await tester.awaited_mocks.on_employee_email.assert_called(timeout=5)\n",
    "    await tester.awaited_mocks.on_welcome_message.assert_called(timeout=5)\n",
    "\n",
    "print(\"ok\")"
   ]
  },
  {
   "cell_type": "code",
   "execution_count": null,
   "id": "fc0d7c25",
   "metadata": {},
   "outputs": [],
   "source": [
    "async with Tester(app) as tester:\n",
    "    # produce the message to new_employee topic\n",
    "    await tester.to_new_employee(Employee(name=\"Mickey\", surname=\"Mouse\"))\n",
    "    # Assert app consumed the message\n",
    "    await app.awaited_mocks.on_new_employee.assert_called_with(\n",
    "        Employee(name=\"Mickey\", surname=\"Mouse\"), timeout=5\n",
    "    )\n",
    "\n",
    "    # If the the previous assert is true (on_new_employee was called),\n",
    "    # to_employee_email and to_welcome_message were called inside on_new_employee method\n",
    "\n",
    "    # Now we can check if this two messages were consumed\n",
    "    await tester.awaited_mocks.on_employee_email.assert_called(timeout=5)\n",
    "    await tester.awaited_mocks.on_welcome_message.assert_called(timeout=5)\n",
    "\n",
    "print(\"ok\")"
   ]
  },
  {
   "cell_type": "markdown",
   "id": "547d3632",
   "metadata": {},
   "source": [
    "### Final script"
   ]
  },
  {
   "cell_type": "code",
   "execution_count": null,
   "id": "9da1c56f",
   "metadata": {},
   "outputs": [],
   "source": [
    "import asyncio\n",
    "from fastkafka._application.app import FastKafka\n",
    "from fastkafka._application.tester import Tester\n",
    "from pydantic import BaseModel, Field\n",
    "from typing import Optional\n",
    "\n",
    "\n",
    "class Employee(BaseModel):\n",
    "    name: str\n",
    "    surname: str\n",
    "    email: Optional[str]\n",
    "\n",
    "\n",
    "class EmaiMessage(BaseModel):\n",
    "    sender: str = \"info@gmail.com\"\n",
    "    receiver: str\n",
    "    subject: str\n",
    "    message: str\n",
    "\n",
    "\n",
    "app = FastKafka()\n",
    "\n",
    "\n",
    "@app.consumes()\n",
    "async def on_new_employee(msg: Employee):\n",
    "    msg_copy = msg.copy()\n",
    "    employee = await to_employee_email(msg_copy)\n",
    "    await to_welcome_message(employee)\n",
    "\n",
    "\n",
    "@app.produces()\n",
    "async def to_employee_email(employee: Employee) -> Employee:\n",
    "    # generate new email\n",
    "    employee.email = employee.name + \".\" + employee.surname + \"@gmail.com\"\n",
    "    return employee\n",
    "\n",
    "\n",
    "@app.produces()\n",
    "async def to_welcome_message(employee: Employee) -> EmaiMessage:\n",
    "    message = f\"Dear {employee.name},\\nWelcome to the company\"\n",
    "    return EmaiMessage(receiver=employee.email, subject=\"Welcome\", message=message)\n",
    "\n",
    "async def async_tests():\n",
    "    async with Tester(app) as tester:\n",
    "        # while consuming from the new_employee topic, app writes to the employee_email and welcome_message topic\n",
    "        await app.on_new_employee(Employee(name=\"John\", surname=\"Jones\"))\n",
    "\n",
    "        # Now we can check if the methods were called\n",
    "        await tester.awaited_mocks.on_employee_email.assert_called(timeout=5)\n",
    "        await tester.awaited_mocks.on_welcome_message.assert_called(timeout=5)\n",
    "\n",
    "    print(\"ok 1\")\n",
    "\n",
    "    async with Tester(app) as tester:\n",
    "        # produce the message to new_employee topic\n",
    "        await tester.to_new_employee(Employee(name=\"Mickey\", surname=\"Mouse\"))\n",
    "        # Assert app consumed the message\n",
    "        await app.awaited_mocks.on_new_employee.assert_called_with(\n",
    "            Employee(name=\"Mickey\", surname=\"Mouse\"), timeout=5\n",
    "        )\n",
    "\n",
    "        # If the the previous assert is true (on_new_employee was called),\n",
    "        # to_employee_email and to_welcome_message were called inside on_new_employee method\n",
    "\n",
    "        # Now we can check if this two messages were consumed\n",
    "        await tester.awaited_mocks.on_employee_email.assert_called(timeout=5)\n",
    "        await tester.awaited_mocks.on_welcome_message.assert_called(timeout=5)\n",
    "\n",
    "    print(\"ok 2\")\n",
    "\n",
    "if __name__ == \"__main__\":\n",
    "    loop = asyncio.get_event_loop()\n",
    "    loop.run_until_complete(async_tests())"
   ]
  },
  {
   "cell_type": "code",
   "execution_count": null,
   "id": "dca285c3",
   "metadata": {},
   "outputs": [],
   "source": []
  }
 ],
 "metadata": {
  "kernelspec": {
   "display_name": "Python 3 (ipykernel)",
   "language": "python",
   "name": "python3"
  },
  "language_info": {
   "codemirror_mode": {
    "name": "ipython",
    "version": 3
   },
   "file_extension": ".py",
   "mimetype": "text/x-python",
   "name": "python",
   "nbconvert_exporter": "python",
   "pygments_lexer": "ipython3",
   "version": "3.11.4"
  }
 },
 "nbformat": 4,
 "nbformat_minor": 5
}

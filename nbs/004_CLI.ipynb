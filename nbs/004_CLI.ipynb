{
 "cells": [
  {
   "cell_type": "code",
   "execution_count": null,
   "id": "a520a022",
   "metadata": {},
   "outputs": [],
   "source": [
    "# | default_exp _cli"
   ]
  },
  {
   "cell_type": "code",
   "execution_count": null,
   "id": "3f5a4483",
   "metadata": {},
   "outputs": [],
   "source": [
    "# | export\n",
    "\n",
    "import importlib\n",
    "import sys\n",
    "import asyncio\n",
    "from pathlib import Path\n",
    "from typing import *\n",
    "import signal\n",
    "from os import getpid\n",
    "import time\n",
    "import anyio\n",
    "import threading\n",
    "import copy\n",
    "from contextlib import contextmanager\n",
    "\n",
    "import typer\n",
    "from fastapi import FastAPI\n",
    "\n",
    "from fastkafka.application import FastKafka\n",
    "from fastkafka._components.logger import get_logger, supress_timestamps\n",
    "from fastkafka._components.helpers import _import_from_string\n",
    "from fastkafka.server import Server, run_in_process_until_terminate"
   ]
  },
  {
   "cell_type": "code",
   "execution_count": null,
   "id": "347594e0",
   "metadata": {},
   "outputs": [],
   "source": [
    "import os\n",
    "from contextlib import contextmanager\n",
    "from tempfile import TemporaryDirectory\n",
    "\n",
    "import nbformat\n",
    "from nbconvert import PythonExporter\n",
    "from typer.testing import CliRunner\n",
    "\n",
    "from fastkafka.testing import change_dir\n",
    "from fastkafka._components.helpers import generate_app_src"
   ]
  },
  {
   "cell_type": "code",
   "execution_count": null,
   "id": "6babc3b9",
   "metadata": {},
   "outputs": [],
   "source": [
    "# | notest\n",
    "\n",
    "# allows async calls in notebooks\n",
    "\n",
    "import nest_asyncio"
   ]
  },
  {
   "cell_type": "code",
   "execution_count": null,
   "id": "44a4e2d5",
   "metadata": {},
   "outputs": [],
   "source": [
    "# | notest\n",
    "\n",
    "nest_asyncio.apply()"
   ]
  },
  {
   "cell_type": "code",
   "execution_count": null,
   "id": "ae202a18",
   "metadata": {},
   "outputs": [],
   "source": [
    "# | export\n",
    "\n",
    "logger = get_logger(__name__)"
   ]
  },
  {
   "cell_type": "code",
   "execution_count": null,
   "id": "a5ec0fba",
   "metadata": {},
   "outputs": [],
   "source": [
    "supress_timestamps()\n",
    "logger = get_logger(__name__, level=20)\n",
    "logger.info(\"ok\")"
   ]
  },
  {
   "cell_type": "code",
   "execution_count": null,
   "id": "a2bfc60c",
   "metadata": {},
   "outputs": [],
   "source": [
    "runner = CliRunner()"
   ]
  },
  {
   "cell_type": "code",
   "execution_count": null,
   "id": "942f780d",
   "metadata": {},
   "outputs": [],
   "source": [
    "# | export\n",
    "\n",
    "_app = typer.Typer(help=\"\")\n",
    "\n",
    "\n",
    "@_app.command(\n",
    "    help=\"Runs Fast Kafka API application\",\n",
    ")\n",
    "def run(\n",
    "    num_workers: int = typer.Option(\n",
    "        1, help=\"Number of FastKafka instances to run\"\n",
    "    ),\n",
    "    app: str = typer.Argument(\n",
    "        ...,\n",
    "        help=\"input in the form of 'path:app', where **path** is the path to a python file and **app** is an object of type **FastKafka**.\",\n",
    "    ),\n",
    ") -> None:\n",
    "    async def main_loop(num_workers: int=num_workers, app: str=app):\n",
    "        logger.info(\"Entering whatever()\")\n",
    "        try:\n",
    "            application = _import_from_string(app)\n",
    "            logger.info(f\"{application=}\")\n",
    "            server = Server(app=application, num_workers=num_workers)\n",
    "            logger.info(\"Server object created\")\n",
    "\n",
    "            loop = asyncio.get_event_loop()\n",
    "\n",
    "            HANDLED_SIGNALS = (\n",
    "                signal.SIGINT,  # Unix signal 2. Sent by Ctrl+C.\n",
    "                signal.SIGTERM,  # Unix signal 15. Sent by `kill <pid>`.\n",
    "            )\n",
    "\n",
    "            def handle_exit(sig: int) -> None:\n",
    "                global should_exit\n",
    "                should_exit = True\n",
    "\n",
    "            for sig in HANDLED_SIGNALS:\n",
    "                loop.add_signal_handler(sig, handle_exit, sig)\n",
    "\n",
    "            should_exit = False\n",
    "\n",
    "            logger.info(\"Entering waiting loop...\")\n",
    "            with server.run_in_process():\n",
    "                while not should_exit:\n",
    "                    await asyncio.sleep(0.2)\n",
    "                    print(\".\", end=\"\")\n",
    "                    \n",
    "        except Exception as e:\n",
    "            typer.secho(f\"Unexpected internal error: {e}\", err=True, fg=typer.colors.RED)\n",
    "            raise typer.Exit(1)\n",
    "                    \n",
    "#     logger.info(\"Entering run()\")\n",
    "    asyncio.run(main_loop())\n",
    "#     logger.info(\"Exiting run()\")\n",
    "\n",
    "@_app.command(\n",
    "    help=\"Creates documentation for a Fast Kafka API application \",\n",
    ")\n",
    "def generate_docs(\n",
    "    root_path: str = typer.Option(\n",
    "        \".\", help=\"root path under which documentation will be created\"\n",
    "    ),\n",
    "    app: str = typer.Argument(\n",
    "        ...,\n",
    "        help=\"input in the form of 'path:app', where **path** is the path to a python file and **app** is an object of type **FastKafka**.\",\n",
    "    ),\n",
    ") -> None:\n",
    "    try:\n",
    "        application = _import_from_string(app)\n",
    "        application.skip_docs = False\n",
    "        application.create_docs()\n",
    "    except Exception as e:\n",
    "\n",
    "        typer.secho(f\"Unexpected internal error: {e}\", err=True, fg=typer.colors.RED)\n",
    "        raise typer.Exit(1)"
   ]
  },
  {
   "cell_type": "code",
   "execution_count": null,
   "id": "c35ec1c5",
   "metadata": {},
   "outputs": [],
   "source": [
    "@contextmanager\n",
    "def generate_app_in_tmp() -> Generator[None, None, None]:\n",
    "    with TemporaryDirectory() as d:\n",
    "        src_path = Path(d) / \"main.py\"\n",
    "        generate_app_src(src_path)\n",
    "        print(f\"{src_path=}\")\n",
    "        with change_dir(d):\n",
    "            import_str = f\"{src_path.stem}:kafka_app\"\n",
    "            yield import_str"
   ]
  },
  {
   "cell_type": "code",
   "execution_count": null,
   "id": "f47cd927",
   "metadata": {},
   "outputs": [],
   "source": [
    "result = runner.invoke(_app, [\"run\", \"--help\"])"
   ]
  },
  {
   "cell_type": "code",
   "execution_count": null,
   "id": "577c7163",
   "metadata": {},
   "outputs": [],
   "source": [
    "with generate_app_in_tmp() as import_str:\n",
    "        def target(result=result):\n",
    "            runner = CliRunner()\n",
    "            runner.invoke(_app, [\"run\", import_str])\n",
    "            \n",
    "        with run_in_process_until_terminate(target):\n",
    "            time.sleep(5)\n",
    "            print(\"Done sleeping..\")"
   ]
  },
  {
   "cell_type": "code",
   "execution_count": null,
   "id": "22ab7c78",
   "metadata": {},
   "outputs": [],
   "source": [
    "result = runner.invoke(_app, [\"--help\"])"
   ]
  },
  {
   "cell_type": "code",
   "execution_count": null,
   "id": "1cc8e68a",
   "metadata": {},
   "outputs": [],
   "source": [
    "result = runner.invoke(_app, [\"generate-docs\", \"--help\"])"
   ]
  },
  {
   "cell_type": "code",
   "execution_count": null,
   "id": "4a759342",
   "metadata": {},
   "outputs": [],
   "source": [
    "with generate_app_in_tmp() as import_str:\n",
    "        result = runner.invoke(_app, [\"generate-docs\", import_str])\n",
    "        typer.echo(result.output)\n",
    "        assert result.exit_code == 0\n",
    "\n",
    "        result = runner.invoke(_app, [\"generate-docs\", import_str])\n",
    "        typer.echo(result.output)\n",
    "        assert result.exit_code == 0"
   ]
  },
  {
   "cell_type": "code",
   "execution_count": null,
   "id": "e81b95fe",
   "metadata": {},
   "outputs": [],
   "source": []
  }
 ],
 "metadata": {
  "kernelspec": {
   "display_name": "Python 3 (ipykernel)",
   "language": "python",
   "name": "python3"
  }
 },
 "nbformat": 4,
 "nbformat_minor": 5
}

{
 "cells": [
  {
   "cell_type": "code",
   "execution_count": null,
   "id": "a520a022",
   "metadata": {},
   "outputs": [],
   "source": [
    "# | default_exp _cli"
   ]
  },
  {
   "cell_type": "code",
   "execution_count": null,
   "id": "3f5a4483",
   "metadata": {},
   "outputs": [],
   "source": [
    "# | export\n",
    "\n",
    "import importlib\n",
    "import sys\n",
    "import asyncio\n",
    "from pathlib import Path\n",
    "from typing import *\n",
    "import signal\n",
    "from os import getpid\n",
    "import time\n",
    "import anyio\n",
    "import threading\n",
    "import copy\n",
    "from contextlib import contextmanager\n",
    "import multiprocessing\n",
    "import subprocess\n",
    "from http.server import HTTPServer, SimpleHTTPRequestHandler\n",
    "import socketserver\n",
    "\n",
    "import typer\n",
    "from fastapi import FastAPI\n",
    "\n",
    "from fastkafka.application import FastKafka\n",
    "from fastkafka._components.logger import get_logger, supress_timestamps\n",
    "from fastkafka._components.helpers import _import_from_string\n",
    "from fastkafka.server import run_fastkafka_server, terminate_asyncio_process, run_in_process\n",
    "from fastkafka.testing import change_dir"
   ]
  },
  {
   "cell_type": "code",
   "execution_count": null,
   "id": "347594e0",
   "metadata": {},
   "outputs": [],
   "source": [
    "import os\n",
    "from contextlib import contextmanager\n",
    "from tempfile import TemporaryDirectory\n",
    "\n",
    "import nbformat\n",
    "from nbconvert import PythonExporter\n",
    "from typer.testing import CliRunner\n",
    "\n",
    "from fastkafka.testing import change_dir\n",
    "from fastkafka.server import generate_app_in_tmp"
   ]
  },
  {
   "cell_type": "code",
   "execution_count": null,
   "id": "6babc3b9",
   "metadata": {},
   "outputs": [],
   "source": [
    "# | notest\n",
    "\n",
    "# allows async calls in notebooks\n",
    "\n",
    "import nest_asyncio"
   ]
  },
  {
   "cell_type": "code",
   "execution_count": null,
   "id": "44a4e2d5",
   "metadata": {},
   "outputs": [],
   "source": [
    "# | notest\n",
    "\n",
    "nest_asyncio.apply()"
   ]
  },
  {
   "cell_type": "code",
   "execution_count": null,
   "id": "ae202a18",
   "metadata": {},
   "outputs": [],
   "source": [
    "# | export\n",
    "\n",
    "logger = get_logger(__name__)"
   ]
  },
  {
   "cell_type": "code",
   "execution_count": null,
   "id": "a5ec0fba",
   "metadata": {},
   "outputs": [],
   "source": [
    "supress_timestamps()\n",
    "logger = get_logger(__name__, level=20)\n",
    "logger.info(\"ok\")"
   ]
  },
  {
   "cell_type": "code",
   "execution_count": null,
   "id": "a2bfc60c",
   "metadata": {},
   "outputs": [],
   "source": [
    "runner = CliRunner()"
   ]
  },
  {
   "cell_type": "code",
   "execution_count": null,
   "id": "b4830f45",
   "metadata": {},
   "outputs": [],
   "source": [
    "# | export\n",
    "\n",
    "_app = typer.Typer(help=\"\")\n",
    "_run_app = typer.Typer(help=\"\")\n",
    "#_app.add_typer(_run_app, name=\"run\")\n",
    "_docs_app = typer.Typer(help=\"Collection of functions for managing fastkafka app documentation\")\n",
    "_app.add_typer(_docs_app, name=\"docs\")\n",
    "\n",
    "@_app.command(\n",
    "    help=\"Runs Fast Kafka API application\",\n",
    ")\n",
    "def run(\n",
    "    num_workers: int = typer.Option(multiprocessing.cpu_count(), help=\"Number of FastKafka instances to run, defaults to number of CPU cores.\"),\n",
    "    app: str = typer.Argument(\n",
    "        ...,\n",
    "        help=\"input in the form of 'path:app', where **path** is the path to a python file and **app** is an object of type **FastKafka**.\",\n",
    "    ),\n",
    ") -> None:\n",
    "    try:\n",
    "        asyncio.run(run_fastkafka_server(num_workers=num_workers, app=app))\n",
    "    except Exception as e:\n",
    "        typer.secho(f\"Unexpected internal error: {e}\", err=True, fg=typer.colors.RED)\n",
    "        raise typer.Exit(1)"
   ]
  },
  {
   "cell_type": "code",
   "execution_count": null,
   "id": "e3328d21",
   "metadata": {},
   "outputs": [],
   "source": [
    "! nbdev_export"
   ]
  },
  {
   "cell_type": "code",
   "execution_count": null,
   "id": "f47cd927",
   "metadata": {},
   "outputs": [],
   "source": [
    "result = runner.invoke(_app, [\"run\", \"--help\"])"
   ]
  },
  {
   "cell_type": "code",
   "execution_count": null,
   "id": "46a27557",
   "metadata": {},
   "outputs": [],
   "source": [
    "with generate_app_in_tmp() as app:\n",
    "    proc = await asyncio.create_subprocess_exec(\n",
    "                \"fastkafka\", \"run\", app, stdout=asyncio.subprocess.PIPE\n",
    "            )\n",
    "    time.sleep(5)\n",
    "    proc.terminate()\n",
    "    await proc.wait()\n",
    "    outputs, errs = await proc.communicate()\n",
    "    \n",
    "    print(outputs.decode(\"utf-8\"))\n",
    "    assert proc.returncode == 0, proc.returncode"
   ]
  },
  {
   "cell_type": "code",
   "execution_count": null,
   "id": "942f780d",
   "metadata": {},
   "outputs": [],
   "source": [
    "# | export\n",
    "\n",
    "@_docs_app.command(\n",
    "    \"generate\",\n",
    "    help=\"Creates documentation for a Fast Kafka API application \",\n",
    ")\n",
    "def generate_docs(\n",
    "    root_path: str = typer.Option(\n",
    "        \".\", help=\"root path under which documentation will be created\"\n",
    "    ),\n",
    "    app: str = typer.Argument(\n",
    "        ...,\n",
    "        help=\"input in the form of 'path:app', where **path** is the path to a python file and **app** is an object of type **FastKafka**.\",\n",
    "    ),\n",
    ") -> None:\n",
    "    try:\n",
    "        application = _import_from_string(app)\n",
    "        application.skip_docs = False\n",
    "        application.create_docs()\n",
    "    except Exception as e:\n",
    "\n",
    "        typer.secho(f\"Unexpected internal error: {e}\", err=True, fg=typer.colors.RED)\n",
    "        raise typer.Exit(1)\n",
    "\n",
    "@_docs_app.command(\n",
    "    \"serve\",\n",
    "    help=\"Creates documentation for a Fast Kafka API application \",\n",
    ")\n",
    "def serve_docs(\n",
    "    root_path: str = typer.Option(\n",
    "        \".\", help=\"root path under which documentation will be created\"\n",
    "    ),\n",
    "    bind: str = typer.Option(\n",
    "        \"0.0.0.0\", help=\"Some info\"\n",
    "    ),\n",
    "    port: int = typer.Option(\n",
    "        8000, help=\"Some info\"\n",
    "    ),\n",
    "    app: str = typer.Argument(\n",
    "        ...,\n",
    "        help=\"input in the form of 'path:app', where **path** is the path to a python file and **app** is an object of type **FastKafka**.\",\n",
    "    ),\n",
    ") -> None:\n",
    "    try:\n",
    "        application = _import_from_string(app)\n",
    "        application.skip_docs = False\n",
    "        application.create_docs()\n",
    "        with change_dir(\"asyncapi/docs/\"):\n",
    "            server_address = (bind,  port)\n",
    "            handler = SimpleHTTPRequestHandler\n",
    "            \n",
    "            #httpd = HTTPServer(server_address, handler)\n",
    "            \n",
    "            d = {\"should_stop\": False}\n",
    "            \n",
    "            def sigint_handler(signal, frame, d:Dict[str, bool]=d):\n",
    "                d[\"should_stop\"] = True\n",
    "            \n",
    "            signal.signal(signal.SIGINT, sigint_handler)\n",
    "            signal.signal(signal.SIGTERM, sigint_handler)\n",
    "            \n",
    "            with socketserver.TCPServer(server_address, handler) as httpd:\n",
    "                httpd.timeout = 0.1\n",
    "                typer.secho(f\"Serving documentation on http://{server_address[0]}:{server_address[1]}\")\n",
    "                while not d[\"should_stop\"]:\n",
    "                    httpd.handle_request()\n",
    "                typer.secho(f\"Interupting serving of documentation and cleaning up...\")\n",
    "    except Exception as e:\n",
    "\n",
    "        typer.secho(f\"Unexpected internal error: {e}\", err=True, fg=typer.colors.RED)\n",
    "        raise typer.Exit(1)"
   ]
  },
  {
   "cell_type": "code",
   "execution_count": null,
   "id": "7ed5d781",
   "metadata": {},
   "outputs": [],
   "source": [
    "! nbdev_export"
   ]
  },
  {
   "cell_type": "code",
   "execution_count": null,
   "id": "1cc8e68a",
   "metadata": {},
   "outputs": [],
   "source": [
    "result = runner.invoke(_app, [\"docs\", \"generate\", \"--help\"])"
   ]
  },
  {
   "cell_type": "code",
   "execution_count": null,
   "id": "4a759342",
   "metadata": {},
   "outputs": [],
   "source": [
    "with generate_app_in_tmp() as import_str:\n",
    "        result = runner.invoke(_app, [\"docs\", \"generate\", import_str])\n",
    "        typer.echo(result.output)\n",
    "        assert result.exit_code == 0\n",
    "\n",
    "        result = runner.invoke(_app, [\"docs\", \"generate\", import_str])\n",
    "        typer.echo(result.output)\n",
    "        assert result.exit_code == 0"
   ]
  },
  {
   "cell_type": "code",
   "execution_count": null,
   "id": "e81b95fe",
   "metadata": {},
   "outputs": [],
   "source": [
    "result = runner.invoke(_app, [\"docs\", \"serve\", \"--help\"])"
   ]
  },
  {
   "cell_type": "code",
   "execution_count": null,
   "id": "d2a20790",
   "metadata": {},
   "outputs": [],
   "source": [
    "with generate_app_in_tmp() as app:\n",
    "    proc = await asyncio.create_subprocess_exec(\n",
    "                \"fastkafka\", \"docs\", \"serve\",  \"--port=48000\", app, stdout=asyncio.subprocess.PIPE\n",
    "            )\n",
    "    time.sleep(30)\n",
    "    proc.terminate()\n",
    "    await proc.wait()\n",
    "    outputs, errs = await proc.communicate()\n",
    "    assert proc.returncode == 0, proc.returncode\n",
    "    print(outputs.decode(\"utf-8\"))"
   ]
  },
  {
   "cell_type": "code",
   "execution_count": null,
   "id": "9f1ec310",
   "metadata": {},
   "outputs": [],
   "source": []
  }
 ],
 "metadata": {
  "kernelspec": {
   "display_name": "Python 3 (ipykernel)",
   "language": "python",
   "name": "python3"
  }
 },
 "nbformat": 4,
 "nbformat_minor": 5
}

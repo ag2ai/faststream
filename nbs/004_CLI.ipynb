{
 "cells": [
  {
   "cell_type": "code",
   "execution_count": null,
   "id": "a520a022",
   "metadata": {},
   "outputs": [],
   "source": [
    "# | default_exp _cli"
   ]
  },
  {
   "cell_type": "code",
   "execution_count": null,
   "id": "3f5a4483",
   "metadata": {},
   "outputs": [],
   "source": [
    "# | export\n",
    "\n",
    "import importlib\n",
    "import sys\n",
    "import asyncio\n",
    "from pathlib import Path\n",
    "from typing import *\n",
    "import signal\n",
    "from os import getpid\n",
    "import time\n",
    "import anyio\n",
    "import threading\n",
    "import copy\n",
    "from contextlib import contextmanager\n",
    "import multiprocessing\n",
    "import subprocess\n",
    "from http.server import HTTPServer, SimpleHTTPRequestHandler\n",
    "import socketserver\n",
    "\n",
    "import typer\n",
    "from fastapi import FastAPI\n",
    "\n",
    "from fastkafka.application import FastKafka\n",
    "from fastkafka._components.logger import get_logger, supress_timestamps\n",
    "from fastkafka._components.helpers import _import_from_string\n",
    "from fastkafka.server import run_fastkafka_server, terminate_asyncio_process, run_in_process\n",
    "from fastkafka.testing import change_dir"
   ]
  },
  {
   "cell_type": "code",
   "execution_count": null,
   "id": "347594e0",
   "metadata": {},
   "outputs": [],
   "source": [
    "import os\n",
    "from contextlib import contextmanager\n",
    "from tempfile import TemporaryDirectory\n",
    "\n",
    "import nbformat\n",
    "from nbconvert import PythonExporter\n",
    "from typer.testing import CliRunner\n",
    "\n",
    "from fastkafka.testing import change_dir\n",
    "from fastkafka.server import generate_app_in_tmp"
   ]
  },
  {
   "cell_type": "code",
   "execution_count": null,
   "id": "6babc3b9",
   "metadata": {},
   "outputs": [],
   "source": [
    "# | notest\n",
    "\n",
    "# allows async calls in notebooks\n",
    "\n",
    "import nest_asyncio"
   ]
  },
  {
   "cell_type": "code",
   "execution_count": null,
   "id": "44a4e2d5",
   "metadata": {},
   "outputs": [],
   "source": [
    "# | notest\n",
    "\n",
    "nest_asyncio.apply()"
   ]
  },
  {
   "cell_type": "code",
   "execution_count": null,
   "id": "ae202a18",
   "metadata": {},
   "outputs": [],
   "source": [
    "# | export\n",
    "\n",
    "logger = get_logger(__name__)"
   ]
  },
  {
   "cell_type": "code",
   "execution_count": null,
   "id": "a5ec0fba",
   "metadata": {},
   "outputs": [
    {
     "name": "stdout",
     "output_type": "stream",
     "text": [
      "[INFO] __main__: ok\n"
     ]
    }
   ],
   "source": [
    "supress_timestamps()\n",
    "logger = get_logger(__name__, level=20)\n",
    "logger.info(\"ok\")"
   ]
  },
  {
   "cell_type": "code",
   "execution_count": null,
   "id": "a2bfc60c",
   "metadata": {},
   "outputs": [],
   "source": [
    "runner = CliRunner()"
   ]
  },
  {
   "cell_type": "code",
   "execution_count": null,
   "id": "b4830f45",
   "metadata": {},
   "outputs": [],
   "source": [
    "# | export\n",
    "\n",
    "_app = typer.Typer(help=\"\")\n",
    "_run_app = typer.Typer(help=\"\")\n",
    "#_app.add_typer(_run_app, name=\"run\")\n",
    "_docs_app = typer.Typer(help=\"Collection of functions for managing fastkafka app documentation\")\n",
    "_app.add_typer(_docs_app, name=\"docs\")\n",
    "\n",
    "@_app.command(\n",
    "    help=\"Runs Fast Kafka API application\",\n",
    ")\n",
    "def run(\n",
    "    num_workers: int = typer.Option(multiprocessing.cpu_count(), help=\"Number of FastKafka instances to run, defaults to number of CPU cores.\"),\n",
    "    app: str = typer.Argument(\n",
    "        ...,\n",
    "        help=\"input in the form of 'path:app', where **path** is the path to a python file and **app** is an object of type **FastKafka**.\",\n",
    "    ),\n",
    ") -> None:\n",
    "    try:\n",
    "        asyncio.run(run_fastkafka_server(num_workers=num_workers, app=app))\n",
    "    except Exception as e:\n",
    "        typer.secho(f\"Unexpected internal error: {e}\", err=True, fg=typer.colors.RED)\n",
    "        raise typer.Exit(1)"
   ]
  },
  {
   "cell_type": "code",
   "execution_count": null,
   "id": "e3328d21",
   "metadata": {},
   "outputs": [],
   "source": [
    "! nbdev_export"
   ]
  },
  {
   "cell_type": "code",
   "execution_count": null,
   "id": "f47cd927",
   "metadata": {},
   "outputs": [
    {
     "data": {
      "text/html": [
       "<pre style=\"white-space:pre;overflow-x:auto;line-height:normal;font-family:Menlo,'DejaVu Sans Mono',consolas,'Courier New',monospace\"><span style=\"font-weight: bold\">                                                                                                                   </span>\n",
       "<span style=\"font-weight: bold\"> </span><span style=\"color: #808000; text-decoration-color: #808000; font-weight: bold\">Usage: </span><span style=\"font-weight: bold\">root run [OPTIONS] APP                                                                                     </span>\n",
       "<span style=\"font-weight: bold\">                                                                                                                   </span>\n",
       "</pre>\n"
      ],
      "text/plain": [
       "\u001b[1m                                                                                                                   \u001b[0m\n",
       "\u001b[1m \u001b[0m\u001b[1;33mUsage: \u001b[0m\u001b[1mroot run [OPTIONS] APP\u001b[0m\u001b[1m                                                                                    \u001b[0m\u001b[1m \u001b[0m\n",
       "\u001b[1m                                                                                                                   \u001b[0m\n"
      ]
     },
     "metadata": {},
     "output_type": "display_data"
    },
    {
     "data": {
      "text/html": [
       "<pre style=\"white-space:pre;overflow-x:auto;line-height:normal;font-family:Menlo,'DejaVu Sans Mono',consolas,'Courier New',monospace\"> Runs Fast Kafka API application                                                                                   \n",
       "                                                                                                                   \n",
       "</pre>\n"
      ],
      "text/plain": [
       " Runs Fast Kafka API application                                                                                   \n",
       "                                                                                                                   \n"
      ]
     },
     "metadata": {},
     "output_type": "display_data"
    },
    {
     "data": {
      "text/html": [
       "<pre style=\"white-space:pre;overflow-x:auto;line-height:normal;font-family:Menlo,'DejaVu Sans Mono',consolas,'Courier New',monospace\"><span style=\"color: #7f7f7f; text-decoration-color: #7f7f7f\">╭─ Arguments ─────────────────────────────────────────────────────────────────────────────────────────────────────╮</span>\n",
       "<span style=\"color: #7f7f7f; text-decoration-color: #7f7f7f\">│</span> <span style=\"color: #800000; text-decoration-color: #800000\">*</span>    app      <span style=\"color: #808000; text-decoration-color: #808000; font-weight: bold\">TEXT</span>  input in the form of 'path:app', where **path** is the path to a python file and **app** is <span style=\"color: #7f7f7f; text-decoration-color: #7f7f7f\">│</span>\n",
       "<span style=\"color: #7f7f7f; text-decoration-color: #7f7f7f\">│</span>                     an object of type **FastKafka**.                                                            <span style=\"color: #7f7f7f; text-decoration-color: #7f7f7f\">│</span>\n",
       "<span style=\"color: #7f7f7f; text-decoration-color: #7f7f7f\">│</span>                     <span style=\"color: #7f7f7f; text-decoration-color: #7f7f7f\">[default: None]                                                                            </span> <span style=\"color: #7f7f7f; text-decoration-color: #7f7f7f\">│</span>\n",
       "<span style=\"color: #7f7f7f; text-decoration-color: #7f7f7f\">│</span>                     <span style=\"color: #bf7f7f; text-decoration-color: #bf7f7f\">[required]                                                                                 </span> <span style=\"color: #7f7f7f; text-decoration-color: #7f7f7f\">│</span>\n",
       "<span style=\"color: #7f7f7f; text-decoration-color: #7f7f7f\">╰─────────────────────────────────────────────────────────────────────────────────────────────────────────────────╯</span>\n",
       "</pre>\n"
      ],
      "text/plain": [
       "\u001b[2m╭─\u001b[0m\u001b[2m Arguments \u001b[0m\u001b[2m────────────────────────────────────────────────────────────────────────────────────────────────────\u001b[0m\u001b[2m─╮\u001b[0m\n",
       "\u001b[2m│\u001b[0m \u001b[31m*\u001b[0m    app      \u001b[1;33mTEXT\u001b[0m  input in the form of 'path:app', where **path** is the path to a python file and **app** is \u001b[2m│\u001b[0m\n",
       "\u001b[2m│\u001b[0m                     an object of type **FastKafka**.                                                            \u001b[2m│\u001b[0m\n",
       "\u001b[2m│\u001b[0m                     \u001b[2m[default: None]                                                                            \u001b[0m \u001b[2m│\u001b[0m\n",
       "\u001b[2m│\u001b[0m                     \u001b[2;31m[required]                                                                                 \u001b[0m \u001b[2m│\u001b[0m\n",
       "\u001b[2m╰─────────────────────────────────────────────────────────────────────────────────────────────────────────────────╯\u001b[0m\n"
      ]
     },
     "metadata": {},
     "output_type": "display_data"
    },
    {
     "data": {
      "text/html": [
       "<pre style=\"white-space:pre;overflow-x:auto;line-height:normal;font-family:Menlo,'DejaVu Sans Mono',consolas,'Courier New',monospace\"><span style=\"color: #7f7f7f; text-decoration-color: #7f7f7f\">╭─ Options ───────────────────────────────────────────────────────────────────────────────────────────────────────╮</span>\n",
       "<span style=\"color: #7f7f7f; text-decoration-color: #7f7f7f\">│</span> <span style=\"color: #008080; text-decoration-color: #008080; font-weight: bold\">--num-workers</span>        <span style=\"color: #808000; text-decoration-color: #808000; font-weight: bold\">INTEGER</span>  Number of FastKafka instances to run, defaults to number of CPU cores.            <span style=\"color: #7f7f7f; text-decoration-color: #7f7f7f\">│</span>\n",
       "<span style=\"color: #7f7f7f; text-decoration-color: #7f7f7f\">│</span>                               <span style=\"color: #7f7f7f; text-decoration-color: #7f7f7f\">[default: 4]                                                          </span>            <span style=\"color: #7f7f7f; text-decoration-color: #7f7f7f\">│</span>\n",
       "<span style=\"color: #7f7f7f; text-decoration-color: #7f7f7f\">│</span> <span style=\"color: #008080; text-decoration-color: #008080; font-weight: bold\">--help</span>               <span style=\"color: #808000; text-decoration-color: #808000; font-weight: bold\">       </span>  Show this message and exit.                                                       <span style=\"color: #7f7f7f; text-decoration-color: #7f7f7f\">│</span>\n",
       "<span style=\"color: #7f7f7f; text-decoration-color: #7f7f7f\">╰─────────────────────────────────────────────────────────────────────────────────────────────────────────────────╯</span>\n",
       "</pre>\n"
      ],
      "text/plain": [
       "\u001b[2m╭─\u001b[0m\u001b[2m Options \u001b[0m\u001b[2m──────────────────────────────────────────────────────────────────────────────────────────────────────\u001b[0m\u001b[2m─╮\u001b[0m\n",
       "\u001b[2m│\u001b[0m \u001b[1;36m-\u001b[0m\u001b[1;36m-num\u001b[0m\u001b[1;36m-workers\u001b[0m        \u001b[1;33mINTEGER\u001b[0m  Number of FastKafka instances to run, defaults to number of CPU cores.            \u001b[2m│\u001b[0m\n",
       "\u001b[2m│\u001b[0m                               \u001b[2m[default: 4]                                                          \u001b[0m            \u001b[2m│\u001b[0m\n",
       "\u001b[2m│\u001b[0m \u001b[1;36m-\u001b[0m\u001b[1;36m-help\u001b[0m               \u001b[1;33m       \u001b[0m  Show this message and exit.                                                       \u001b[2m│\u001b[0m\n",
       "\u001b[2m╰─────────────────────────────────────────────────────────────────────────────────────────────────────────────────╯\u001b[0m\n"
      ]
     },
     "metadata": {},
     "output_type": "display_data"
    }
   ],
   "source": [
    "result = runner.invoke(_app, [\"run\", \"--help\"])"
   ]
  },
  {
   "cell_type": "code",
   "execution_count": null,
   "id": "46a27557",
   "metadata": {},
   "outputs": [
    {
     "name": "stdout",
     "output_type": "stream",
     "text": [
      "[5719]: [INFO] main: check\n",
      "[5719]: [INFO] fastkafka._components.asyncapi: Old async specifications at '/tmp/tmph1thu_de/asyncapi/spec/asyncapi.yml' does not exist.\n",
      "[5725]: [INFO] main: check\n",
      "[5723]: [INFO] main: check\n",
      "[5719]: [INFO] fastkafka._components.asyncapi: New async specifications generated at: '/tmp/tmph1thu_de/asyncapi/spec/asyncapi.yml'\n",
      "[5719]: [INFO] fastkafka.application: _create_producer() : created producer using the config: '{'bootstrap_servers': 'tvrtko-fastkafka-kafka-1:9092'}'\n",
      "[5719]: [INFO] fastkafka.application: _create_producer() : created producer using the config: '{'bootstrap_servers': 'tvrtko-fastkafka-kafka-1:9092'}'\n",
      "[5719]: [INFO] fastkafka.application: _create_producer() : created producer using the config: '{'bootstrap_servers': 'tvrtko-fastkafka-kafka-1:9092'}'\n",
      "[5719]: [INFO] fastkafka.application: _create_producer() : created producer using the config: '{'bootstrap_servers': 'tvrtko-fastkafka-kafka-1:9092'}'\n",
      "[5719]: [INFO] fastkafka._components.aiokafka_consumer_loop: aiokafka_consumer_loop() starting...\n",
      "[5719]: [INFO] fastkafka._components.aiokafka_consumer_loop: aiokafka_consumer_loop(): Consumer created using the following parameters: {'bootstrap_servers': 'tvrtko-fastkafka-kafka-1:9092', 'group_id': 'tvrtko-fastkafka-kafka-1:9092_group', 'auto_offset_reset': 'earliest', 'max_poll_records': 100}\n",
      "[5719]: [INFO] fastkafka._components.aiokafka_consumer_loop: aiokafka_consumer_loop() starting...\n",
      "[5719]: [INFO] fastkafka._components.aiokafka_consumer_loop: aiokafka_consumer_loop(): Consumer created using the following parameters: {'bootstrap_servers': 'tvrtko-fastkafka-kafka-1:9092', 'group_id': 'tvrtko-fastkafka-kafka-1:9092_group', 'auto_offset_reset': 'earliest', 'max_poll_records': 100}\n",
      "[5719]: [INFO] fastkafka._components.aiokafka_consumer_loop: aiokafka_consumer_loop(): Consumer started.\n",
      "[5719]: [INFO] aiokafka.consumer.subscription_state: Updating subscribed topics to: frozenset({'training_data'})\n",
      "[5719]: [INFO] aiokafka.consumer.consumer: Subscribed to topic(s): {'training_data'}\n",
      "[5719]: [INFO] fastkafka._components.aiokafka_consumer_loop: aiokafka_consumer_loop(): Consumer subscribed.\n",
      "[5719]: [INFO] fastkafka._components.aiokafka_consumer_loop: aiokafka_consumer_loop(): Consumer started.\n",
      "[5719]: [INFO] aiokafka.consumer.subscription_state: Updating subscribed topics to: frozenset({'realitime_data'})\n",
      "[5719]: [INFO] aiokafka.consumer.consumer: Subscribed to topic(s): {'realitime_data'}\n",
      "[5719]: [INFO] fastkafka._components.aiokafka_consumer_loop: aiokafka_consumer_loop(): Consumer subscribed.\n",
      "[5719]: [INFO] aiokafka.consumer.group_coordinator: Discovered coordinator 1001 for group tvrtko-fastkafka-kafka-1:9092_group\n",
      "[5719]: [INFO] aiokafka.consumer.group_coordinator: Revoking previously assigned partitions set() for group tvrtko-fastkafka-kafka-1:9092_group\n",
      "[5719]: [INFO] aiokafka.consumer.group_coordinator: (Re-)joining group tvrtko-fastkafka-kafka-1:9092_group\n",
      "[5719]: [INFO] aiokafka.consumer.group_coordinator: Joined group 'tvrtko-fastkafka-kafka-1:9092_group' (generation 161) with member_id aiokafka-0.8.0-dee1d719-4c2c-45b8-b10a-b1343b979ec6\n",
      "[5719]: [INFO] aiokafka.consumer.group_coordinator: Elected group leader -- performing partition assignments using roundrobin\n",
      "[5719]: [INFO] aiokafka.consumer.group_coordinator: Successfully synced group tvrtko-fastkafka-kafka-1:9092_group with generation 161\n",
      "[5719]: [INFO] aiokafka.consumer.group_coordinator: Setting newly assigned partitions {TopicPartition(topic='training_data', partition=0)} for group tvrtko-fastkafka-kafka-1:9092_group\n",
      "[5719]: [INFO] aiokafka.consumer.group_coordinator: Discovered coordinator 1001 for group tvrtko-fastkafka-kafka-1:9092_group\n",
      "[5719]: [INFO] aiokafka.consumer.group_coordinator: Revoking previously assigned partitions set() for group tvrtko-fastkafka-kafka-1:9092_group\n",
      "[5719]: [INFO] aiokafka.consumer.group_coordinator: (Re-)joining group tvrtko-fastkafka-kafka-1:9092_group\n",
      "[5725]: [INFO] fastkafka._components.asyncapi: Keeping the old async specifications at: '/tmp/tmph1thu_de/asyncapi/spec/asyncapi.yml'\n",
      "[5725]: [INFO] fastkafka.application: _create_producer() : created producer using the config: '{'bootstrap_servers': 'tvrtko-fastkafka-kafka-1:9092'}'\n",
      "[5723]: [INFO] fastkafka._components.asyncapi: Keeping the old async specifications at: '/tmp/tmph1thu_de/asyncapi/spec/asyncapi.yml'\n",
      "[5723]: [INFO] fastkafka.application: _create_producer() : created producer using the config: '{'bootstrap_servers': 'tvrtko-fastkafka-kafka-1:9092'}'\n",
      "[5721]: [INFO] main: check\n",
      "[5725]: [INFO] fastkafka.application: _create_producer() : created producer using the config: '{'bootstrap_servers': 'tvrtko-fastkafka-kafka-1:9092'}'\n",
      "[5723]: [INFO] fastkafka.application: _create_producer() : created producer using the config: '{'bootstrap_servers': 'tvrtko-fastkafka-kafka-1:9092'}'\n",
      "[5725]: [INFO] fastkafka.application: _create_producer() : created producer using the config: '{'bootstrap_servers': 'tvrtko-fastkafka-kafka-1:9092'}'\n",
      "[5723]: [INFO] fastkafka.application: _create_producer() : created producer using the config: '{'bootstrap_servers': 'tvrtko-fastkafka-kafka-1:9092'}'\n",
      "[5725]: [INFO] fastkafka.application: _create_producer() : created producer using the config: '{'bootstrap_servers': 'tvrtko-fastkafka-kafka-1:9092'}'\n",
      "[5723]: [INFO] fastkafka.application: _create_producer() : created producer using the config: '{'bootstrap_servers': 'tvrtko-fastkafka-kafka-1:9092'}'\n",
      "[5725]: [INFO] fastkafka._components.aiokafka_consumer_loop: aiokafka_consumer_loop() starting...\n",
      "[5725]: [INFO] fastkafka._components.aiokafka_consumer_loop: aiokafka_consumer_loop(): Consumer created using the following parameters: {'bootstrap_servers': 'tvrtko-fastkafka-kafka-1:9092', 'group_id': 'tvrtko-fastkafka-kafka-1:9092_group', 'auto_offset_reset': 'earliest', 'max_poll_records': 100}\n",
      "[5725]: [INFO] fastkafka._components.aiokafka_consumer_loop: aiokafka_consumer_loop() starting...\n",
      "[5725]: [INFO] fastkafka._components.aiokafka_consumer_loop: aiokafka_consumer_loop(): Consumer created using the following parameters: {'bootstrap_servers': 'tvrtko-fastkafka-kafka-1:9092', 'group_id': 'tvrtko-fastkafka-kafka-1:9092_group', 'auto_offset_reset': 'earliest', 'max_poll_records': 100}\n",
      "[5723]: [INFO] fastkafka._components.aiokafka_consumer_loop: aiokafka_consumer_loop() starting...\n",
      "[5723]: [INFO] fastkafka._components.aiokafka_consumer_loop: aiokafka_consumer_loop(): Consumer created using the following parameters: {'bootstrap_servers': 'tvrtko-fastkafka-kafka-1:9092', 'group_id': 'tvrtko-fastkafka-kafka-1:9092_group', 'auto_offset_reset': 'earliest', 'max_poll_records': 100}\n",
      "[5723]: [INFO] fastkafka._components.aiokafka_consumer_loop: aiokafka_consumer_loop() starting...\n",
      "[5723]: [INFO] fastkafka._components.aiokafka_consumer_loop: aiokafka_consumer_loop(): Consumer created using the following parameters: {'bootstrap_servers': 'tvrtko-fastkafka-kafka-1:9092', 'group_id': 'tvrtko-fastkafka-kafka-1:9092_group', 'auto_offset_reset': 'earliest', 'max_poll_records': 100}\n",
      "[5725]: [INFO] fastkafka._components.aiokafka_consumer_loop: aiokafka_consumer_loop(): Consumer started.\n",
      "[5725]: [INFO] aiokafka.consumer.subscription_state: Updating subscribed topics to: frozenset({'training_data'})\n",
      "[5725]: [INFO] aiokafka.consumer.consumer: Subscribed to topic(s): {'training_data'}\n",
      "[5725]: [INFO] fastkafka._components.aiokafka_consumer_loop: aiokafka_consumer_loop(): Consumer subscribed.\n",
      "[5725]: [INFO] fastkafka._components.aiokafka_consumer_loop: aiokafka_consumer_loop(): Consumer started.\n",
      "[5725]: [INFO] aiokafka.consumer.subscription_state: Updating subscribed topics to: frozenset({'realitime_data'})\n",
      "[5725]: [INFO] aiokafka.consumer.consumer: Subscribed to topic(s): {'realitime_data'}\n",
      "[5725]: [INFO] fastkafka._components.aiokafka_consumer_loop: aiokafka_consumer_loop(): Consumer subscribed.\n",
      "[5723]: [INFO] fastkafka._components.aiokafka_consumer_loop: aiokafka_consumer_loop(): Consumer started.\n",
      "[5723]: [INFO] aiokafka.consumer.subscription_state: Updating subscribed topics to: frozenset({'training_data'})\n",
      "[5723]: [INFO] aiokafka.consumer.consumer: Subscribed to topic(s): {'training_data'}\n",
      "[5723]: [INFO] fastkafka._components.aiokafka_consumer_loop: aiokafka_consumer_loop(): Consumer subscribed.\n",
      "[5725]: [INFO] aiokafka.consumer.group_coordinator: Discovered coordinator 1001 for group tvrtko-fastkafka-kafka-1:9092_group\n",
      "[5725]: [INFO] aiokafka.consumer.group_coordinator: Revoking previously assigned partitions set() for group tvrtko-fastkafka-kafka-1:9092_group\n",
      "[5725]: [INFO] aiokafka.consumer.group_coordinator: (Re-)joining group tvrtko-fastkafka-kafka-1:9092_group\n",
      "[5723]: [INFO] fastkafka._components.aiokafka_consumer_loop: aiokafka_consumer_loop(): Consumer started.\n",
      "[5723]: [INFO] aiokafka.consumer.subscription_state: Updating subscribed topics to: frozenset({'realitime_data'})\n",
      "[5723]: [INFO] aiokafka.consumer.consumer: Subscribed to topic(s): {'realitime_data'}\n",
      "[5723]: [INFO] fastkafka._components.aiokafka_consumer_loop: aiokafka_consumer_loop(): Consumer subscribed.\n",
      "[5725]: [INFO] aiokafka.consumer.group_coordinator: Discovered coordinator 1001 for group tvrtko-fastkafka-kafka-1:9092_group\n",
      "[5725]: [INFO] aiokafka.consumer.group_coordinator: Revoking previously assigned partitions set() for group tvrtko-fastkafka-kafka-1:9092_group\n",
      "[5725]: [INFO] aiokafka.consumer.group_coordinator: (Re-)joining group tvrtko-fastkafka-kafka-1:9092_group\n",
      "[5723]: [INFO] aiokafka.consumer.group_coordinator: Discovered coordinator 1001 for group tvrtko-fastkafka-kafka-1:9092_group\n",
      "[5723]: [INFO] aiokafka.consumer.group_coordinator: Revoking previously assigned partitions set() for group tvrtko-fastkafka-kafka-1:9092_group\n",
      "[5723]: [INFO] aiokafka.consumer.group_coordinator: (Re-)joining group tvrtko-fastkafka-kafka-1:9092_group\n",
      "[5723]: [INFO] aiokafka.consumer.group_coordinator: Discovered coordinator 1001 for group tvrtko-fastkafka-kafka-1:9092_group\n",
      "[5723]: [INFO] aiokafka.consumer.group_coordinator: Revoking previously assigned partitions set() for group tvrtko-fastkafka-kafka-1:9092_group\n",
      "[5723]: [INFO] aiokafka.consumer.group_coordinator: (Re-)joining group tvrtko-fastkafka-kafka-1:9092_group\n",
      "[5721]: [INFO] fastkafka._components.asyncapi: Keeping the old async specifications at: '/tmp/tmph1thu_de/asyncapi/spec/asyncapi.yml'\n",
      "[5721]: [INFO] fastkafka.application: _create_producer() : created producer using the config: '{'bootstrap_servers': 'tvrtko-fastkafka-kafka-1:9092'}'\n",
      "[5721]: [INFO] fastkafka.application: _create_producer() : created producer using the config: '{'bootstrap_servers': 'tvrtko-fastkafka-kafka-1:9092'}'\n",
      "[5721]: [INFO] fastkafka.application: _create_producer() : created producer using the config: '{'bootstrap_servers': 'tvrtko-fastkafka-kafka-1:9092'}'\n",
      "[5721]: [INFO] fastkafka.application: _create_producer() : created producer using the config: '{'bootstrap_servers': 'tvrtko-fastkafka-kafka-1:9092'}'\n",
      "[5721]: [INFO] fastkafka._components.aiokafka_consumer_loop: aiokafka_consumer_loop() starting...\n",
      "[5721]: [INFO] fastkafka._components.aiokafka_consumer_loop: aiokafka_consumer_loop(): Consumer created using the following parameters: {'bootstrap_servers': 'tvrtko-fastkafka-kafka-1:9092', 'group_id': 'tvrtko-fastkafka-kafka-1:9092_group', 'auto_offset_reset': 'earliest', 'max_poll_records': 100}\n",
      "[5721]: [INFO] fastkafka._components.aiokafka_consumer_loop: aiokafka_consumer_loop() starting...\n",
      "[5721]: [INFO] fastkafka._components.aiokafka_consumer_loop: aiokafka_consumer_loop(): Consumer created using the following parameters: {'bootstrap_servers': 'tvrtko-fastkafka-kafka-1:9092', 'group_id': 'tvrtko-fastkafka-kafka-1:9092_group', 'auto_offset_reset': 'earliest', 'max_poll_records': 100}\n",
      "[5721]: [INFO] fastkafka._components.aiokafka_consumer_loop: aiokafka_consumer_loop(): Consumer started.\n",
      "[5721]: [INFO] aiokafka.consumer.subscription_state: Updating subscribed topics to: frozenset({'training_data'})\n",
      "[5721]: [INFO] aiokafka.consumer.consumer: Subscribed to topic(s): {'training_data'}\n",
      "[5721]: [INFO] fastkafka._components.aiokafka_consumer_loop: aiokafka_consumer_loop(): Consumer subscribed.\n",
      "[5721]: [INFO] fastkafka._components.aiokafka_consumer_loop: aiokafka_consumer_loop(): Consumer started.\n",
      "[5721]: [INFO] aiokafka.consumer.subscription_state: Updating subscribed topics to: frozenset({'realitime_data'})\n",
      "[5721]: [INFO] aiokafka.consumer.consumer: Subscribed to topic(s): {'realitime_data'}\n",
      "[5721]: [INFO] fastkafka._components.aiokafka_consumer_loop: aiokafka_consumer_loop(): Consumer subscribed.\n",
      "[5721]: [INFO] aiokafka.consumer.group_coordinator: Discovered coordinator 1001 for group tvrtko-fastkafka-kafka-1:9092_group\n",
      "[5721]: [INFO] aiokafka.consumer.group_coordinator: Revoking previously assigned partitions set() for group tvrtko-fastkafka-kafka-1:9092_group\n",
      "[5721]: [INFO] aiokafka.consumer.group_coordinator: (Re-)joining group tvrtko-fastkafka-kafka-1:9092_group\n",
      "[5721]: [INFO] aiokafka.consumer.group_coordinator: Discovered coordinator 1001 for group tvrtko-fastkafka-kafka-1:9092_group\n",
      "[5721]: [INFO] aiokafka.consumer.group_coordinator: Revoking previously assigned partitions set() for group tvrtko-fastkafka-kafka-1:9092_group\n",
      "[5721]: [INFO] aiokafka.consumer.group_coordinator: (Re-)joining group tvrtko-fastkafka-kafka-1:9092_group\n",
      "Starting process cleanup, this may take a few seconds...\n",
      "[INFO] fastkafka.server: terminate_asyncio_process(): Terminating the process 5719...\n",
      "[INFO] fastkafka.server: terminate_asyncio_process(): Terminating the process 5721...\n",
      "[INFO] fastkafka.server: terminate_asyncio_process(): Terminating the process 5723...\n",
      "[INFO] fastkafka.server: terminate_asyncio_process(): Terminating the process 5725...\n",
      "[5719]: [WARNING] aiokafka.consumer.group_coordinator: Heartbeat failed for group tvrtko-fastkafka-kafka-1:9092_group because it is rebalancing\n",
      "[5719]: [INFO] aiokafka.consumer.group_coordinator: Revoking previously assigned partitions frozenset({TopicPartition(topic='training_data', partition=0)}) for group tvrtko-fastkafka-kafka-1:9092_group\n",
      "[5719]: [INFO] aiokafka.consumer.group_coordinator: (Re-)joining group tvrtko-fastkafka-kafka-1:9092_group\n",
      "[5725]: [INFO] aiokafka.consumer.group_coordinator: Joined group 'tvrtko-fastkafka-kafka-1:9092_group' (generation 162) with member_id aiokafka-0.8.0-b06f30b8-ad2c-42e0-ab28-f3784afc4b1c\n",
      "[5721]: [INFO] aiokafka.consumer.group_coordinator: Joined group 'tvrtko-fastkafka-kafka-1:9092_group' (generation 162) with member_id aiokafka-0.8.0-418d069a-e206-46c1-9074-309862e3e4a2\n",
      "[5723]: [INFO] aiokafka.consumer.group_coordinator: Joined group 'tvrtko-fastkafka-kafka-1:9092_group' (generation 162) with member_id aiokafka-0.8.0-78945e10-8ca4-4435-88a0-f0874f0fbc64\n",
      "[5721]: [INFO] aiokafka.consumer.group_coordinator: Joined group 'tvrtko-fastkafka-kafka-1:9092_group' (generation 162) with member_id aiokafka-0.8.0-27fc526b-c63c-4430-a05e-f9a6c36592c4\n",
      "[5723]: [INFO] aiokafka.consumer.group_coordinator: Joined group 'tvrtko-fastkafka-kafka-1:9092_group' (generation 162) with member_id aiokafka-0.8.0-458f3b8f-6ae8-41bd-9484-b03df870e31b\n",
      "[5725]: [INFO] aiokafka.consumer.group_coordinator: Joined group 'tvrtko-fastkafka-kafka-1:9092_group' (generation 162) with member_id aiokafka-0.8.0-3e621f45-588f-4d84-9d79-5046eb0be9ab\n",
      "[5719]: [INFO] aiokafka.consumer.group_coordinator: Joined group 'tvrtko-fastkafka-kafka-1:9092_group' (generation 162) with member_id aiokafka-0.8.0-17affea3-ef51-4fa9-9917-54b434f8798c\n",
      "[5719]: [INFO] aiokafka.consumer.group_coordinator: Joined group 'tvrtko-fastkafka-kafka-1:9092_group' (generation 162) with member_id aiokafka-0.8.0-dee1d719-4c2c-45b8-b10a-b1343b979ec6\n",
      "[5719]: [INFO] aiokafka.consumer.group_coordinator: Elected group leader -- performing partition assignments using roundrobin\n",
      "[5719]: [INFO] aiokafka.consumer.group_coordinator: Metadata for topic has changed from {'training_data': 1} to {'training_data': 1, 'realitime_data': 1}. \n",
      "[5725]: [INFO] aiokafka.consumer.group_coordinator: Successfully synced group tvrtko-fastkafka-kafka-1:9092_group with generation 162\n",
      "[5719]: [INFO] aiokafka.consumer.group_coordinator: Successfully synced group tvrtko-fastkafka-kafka-1:9092_group with generation 162\n",
      "[5723]: [INFO] aiokafka.consumer.group_coordinator: Successfully synced group tvrtko-fastkafka-kafka-1:9092_group with generation 162\n",
      "[5725]: [INFO] aiokafka.consumer.group_coordinator: Setting newly assigned partitions set() for group tvrtko-fastkafka-kafka-1:9092_group\n",
      "[5719]: [INFO] aiokafka.consumer.group_coordinator: Setting newly assigned partitions {TopicPartition(topic='realitime_data', partition=0)} for group tvrtko-fastkafka-kafka-1:9092_group\n",
      "[5719]: [INFO] aiokafka.consumer.group_coordinator: Successfully synced group tvrtko-fastkafka-kafka-1:9092_group with generation 162\n",
      "[5725]: [INFO] aiokafka.consumer.group_coordinator: Successfully synced group tvrtko-fastkafka-kafka-1:9092_group with generation 162\n",
      "[5723]: [INFO] aiokafka.consumer.group_coordinator: Setting newly assigned partitions set() for group tvrtko-fastkafka-kafka-1:9092_group\n",
      "[5725]: [INFO] aiokafka.consumer.group_coordinator: Setting newly assigned partitions set() for group tvrtko-fastkafka-kafka-1:9092_group\n",
      "[5719]: [INFO] aiokafka.consumer.group_coordinator: Setting newly assigned partitions set() for group tvrtko-fastkafka-kafka-1:9092_group\n",
      "[5723]: [INFO] aiokafka.consumer.group_coordinator: Successfully synced group tvrtko-fastkafka-kafka-1:9092_group with generation 162\n",
      "[5723]: [INFO] aiokafka.consumer.group_coordinator: Setting newly assigned partitions set() for group tvrtko-fastkafka-kafka-1:9092_group\n",
      "[5721]: [INFO] aiokafka.consumer.group_coordinator: Successfully synced group tvrtko-fastkafka-kafka-1:9092_group with generation 162\n",
      "[5721]: [INFO] aiokafka.consumer.group_coordinator: Setting newly assigned partitions {TopicPartition(topic='training_data', partition=0)} for group tvrtko-fastkafka-kafka-1:9092_group\n",
      "[5721]: [INFO] aiokafka.consumer.group_coordinator: Successfully synced group tvrtko-fastkafka-kafka-1:9092_group with generation 162\n",
      "[5721]: [INFO] aiokafka.consumer.group_coordinator: Setting newly assigned partitions set() for group tvrtko-fastkafka-kafka-1:9092_group\n",
      "[5723]: [INFO] aiokafka.consumer.group_coordinator: LeaveGroup request succeeded\n",
      "[5723]: [INFO] aiokafka.consumer.group_coordinator: LeaveGroup request succeeded\n",
      "[5723]: [INFO] fastkafka._components.aiokafka_consumer_loop: aiokafka_consumer_loop(): Consumer stopped.\n",
      "[5723]: [INFO] fastkafka._components.aiokafka_consumer_loop: aiokafka_consumer_loop() finished.\n",
      "[5723]: [INFO] fastkafka._components.aiokafka_consumer_loop: aiokafka_consumer_loop(): Consumer stopped.\n",
      "[5723]: [INFO] fastkafka._components.aiokafka_consumer_loop: aiokafka_consumer_loop() finished.\n",
      "[5725]: [INFO] aiokafka.consumer.group_coordinator: LeaveGroup request succeeded\n",
      "[5725]: [INFO] aiokafka.consumer.group_coordinator: LeaveGroup request succeeded\n",
      "[5725]: [INFO] fastkafka._components.aiokafka_consumer_loop: aiokafka_consumer_loop(): Consumer stopped.\n",
      "[5725]: [INFO] fastkafka._components.aiokafka_consumer_loop: aiokafka_consumer_loop() finished.\n",
      "[5725]: [INFO] fastkafka._components.aiokafka_consumer_loop: aiokafka_consumer_loop(): Consumer stopped.\n",
      "[5725]: [INFO] fastkafka._components.aiokafka_consumer_loop: aiokafka_consumer_loop() finished.\n",
      "[5719]: [INFO] aiokafka.consumer.group_coordinator: LeaveGroup request succeeded\n",
      "[5719]: [INFO] fastkafka._components.aiokafka_consumer_loop: aiokafka_consumer_loop(): Consumer stopped.\n",
      "[5719]: [INFO] fastkafka._components.aiokafka_consumer_loop: aiokafka_consumer_loop() finished.\n",
      "[5719]: [INFO] aiokafka.consumer.group_coordinator: LeaveGroup request succeeded\n",
      "[5719]: [INFO] fastkafka._components.aiokafka_consumer_loop: aiokafka_consumer_loop(): Consumer stopped.\n",
      "[5719]: [INFO] fastkafka._components.aiokafka_consumer_loop: aiokafka_consumer_loop() finished.\n",
      "[5721]: [INFO] aiokafka.consumer.group_coordinator: LeaveGroup request succeeded\n",
      "[5721]: [INFO] aiokafka.consumer.group_coordinator: LeaveGroup request succeeded\n",
      "[5721]: [INFO] fastkafka._components.aiokafka_consumer_loop: aiokafka_consumer_loop(): Consumer stopped.\n",
      "[5721]: [INFO] fastkafka._components.aiokafka_consumer_loop: aiokafka_consumer_loop() finished.\n",
      "[5721]: [INFO] fastkafka._components.aiokafka_consumer_loop: aiokafka_consumer_loop(): Consumer stopped.\n",
      "[5721]: [INFO] fastkafka._components.aiokafka_consumer_loop: aiokafka_consumer_loop() finished.\n",
      "[INFO] fastkafka.server: terminate_asyncio_process(): Process 5723 terminated.\n",
      "[INFO] fastkafka.server: terminate_asyncio_process(): Process 5721 terminated.\n",
      "[INFO] fastkafka.server: terminate_asyncio_process(): Process 5725 terminated.\n",
      "[INFO] fastkafka.server: terminate_asyncio_process(): Process 5719 terminated.\n",
      "\n"
     ]
    }
   ],
   "source": [
    "with generate_app_in_tmp() as app:\n",
    "    proc = await asyncio.create_subprocess_exec(\n",
    "                \"fastkafka\", \"run\", app, stdout=asyncio.subprocess.PIPE\n",
    "            )\n",
    "    time.sleep(5)\n",
    "    proc.terminate()\n",
    "    await proc.wait()\n",
    "    outputs, errs = await proc.communicate()\n",
    "    \n",
    "    print(outputs.decode(\"utf-8\"))\n",
    "    assert proc.returncode == 0, proc.returncode"
   ]
  },
  {
   "cell_type": "code",
   "execution_count": null,
   "id": "942f780d",
   "metadata": {},
   "outputs": [],
   "source": [
    "# | export\n",
    "\n",
    "@_docs_app.command(\n",
    "    \"generate\",\n",
    "    help=\"Creates documentation for a Fast Kafka API application \",\n",
    ")\n",
    "def generate_docs(\n",
    "    root_path: str = typer.Option(\n",
    "        \".\", help=\"root path under which documentation will be created\"\n",
    "    ),\n",
    "    app: str = typer.Argument(\n",
    "        ...,\n",
    "        help=\"input in the form of 'path:app', where **path** is the path to a python file and **app** is an object of type **FastKafka**.\",\n",
    "    ),\n",
    ") -> None:\n",
    "    try:\n",
    "        application = _import_from_string(app)\n",
    "        application.skip_docs = False\n",
    "        application.create_docs()\n",
    "    except Exception as e:\n",
    "\n",
    "        typer.secho(f\"Unexpected internal error: {e}\", err=True, fg=typer.colors.RED)\n",
    "        raise typer.Exit(1)\n",
    "\n",
    "@_docs_app.command(\n",
    "    \"serve\",\n",
    "    help=\"Creates documentation for a Fast Kafka API application \",\n",
    ")\n",
    "def serve_docs(\n",
    "    root_path: str = typer.Option(\n",
    "        \".\", help=\"root path under which documentation will be created\"\n",
    "    ),\n",
    "    bind: str = typer.Option(\n",
    "        \"0.0.0.0\", help=\"Some info\"\n",
    "    ),\n",
    "    port: int = typer.Option(\n",
    "        8000, help=\"Some info\"\n",
    "    ),\n",
    "    app: str = typer.Argument(\n",
    "        ...,\n",
    "        help=\"input in the form of 'path:app', where **path** is the path to a python file and **app** is an object of type **FastKafka**.\",\n",
    "    ),\n",
    ") -> None:\n",
    "    try:\n",
    "        application = _import_from_string(app)\n",
    "        application.skip_docs = False\n",
    "        application.create_docs()\n",
    "        with change_dir(\"asyncapi/docs/\"):\n",
    "            server_address = (bind,  port)\n",
    "            handler = SimpleHTTPRequestHandler\n",
    "            \n",
    "            #httpd = HTTPServer(server_address, handler)\n",
    "            \n",
    "            d = {\"should_stop\": False}\n",
    "            \n",
    "            def sigint_handler(signal, frame, d:Dict[str, bool]=d):\n",
    "                d[\"should_stop\"] = True\n",
    "            \n",
    "            signal.signal(signal.SIGINT, sigint_handler)\n",
    "            signal.signal(signal.SIGTERM, sigint_handler)\n",
    "            \n",
    "            with socketserver.TCPServer(server_address, handler) as httpd:\n",
    "                httpd.timeout = 0.1\n",
    "                typer.secho(f\"Serving documentation on http://{server_address[0]}:{server_address[1]}\")\n",
    "                while not d[\"should_stop\"]:\n",
    "                    httpd.handle_request()\n",
    "                typer.secho(f\"Interupting serving of documentation and cleaning up...\")\n",
    "    except Exception as e:\n",
    "\n",
    "        typer.secho(f\"Unexpected internal error: {e}\", err=True, fg=typer.colors.RED)\n",
    "        raise typer.Exit(1)"
   ]
  },
  {
   "cell_type": "code",
   "execution_count": null,
   "id": "7ed5d781",
   "metadata": {},
   "outputs": [],
   "source": [
    "! nbdev_export"
   ]
  },
  {
   "cell_type": "code",
   "execution_count": null,
   "id": "1cc8e68a",
   "metadata": {},
   "outputs": [
    {
     "data": {
      "text/html": [
       "<pre style=\"white-space:pre;overflow-x:auto;line-height:normal;font-family:Menlo,'DejaVu Sans Mono',consolas,'Courier New',monospace\"><span style=\"font-weight: bold\">                                                                                                                   </span>\n",
       "<span style=\"font-weight: bold\"> </span><span style=\"color: #808000; text-decoration-color: #808000; font-weight: bold\">Usage: </span><span style=\"font-weight: bold\">root docs generate [OPTIONS] APP                                                                           </span>\n",
       "<span style=\"font-weight: bold\">                                                                                                                   </span>\n",
       "</pre>\n"
      ],
      "text/plain": [
       "\u001b[1m                                                                                                                   \u001b[0m\n",
       "\u001b[1m \u001b[0m\u001b[1;33mUsage: \u001b[0m\u001b[1mroot docs generate [OPTIONS] APP\u001b[0m\u001b[1m                                                                          \u001b[0m\u001b[1m \u001b[0m\n",
       "\u001b[1m                                                                                                                   \u001b[0m\n"
      ]
     },
     "metadata": {},
     "output_type": "display_data"
    },
    {
     "data": {
      "text/html": [
       "<pre style=\"white-space:pre;overflow-x:auto;line-height:normal;font-family:Menlo,'DejaVu Sans Mono',consolas,'Courier New',monospace\"> Creates documentation for a Fast Kafka API application                                                            \n",
       "                                                                                                                   \n",
       "</pre>\n"
      ],
      "text/plain": [
       " Creates documentation for a Fast Kafka API application                                                            \n",
       "                                                                                                                   \n"
      ]
     },
     "metadata": {},
     "output_type": "display_data"
    },
    {
     "data": {
      "text/html": [
       "<pre style=\"white-space:pre;overflow-x:auto;line-height:normal;font-family:Menlo,'DejaVu Sans Mono',consolas,'Courier New',monospace\"><span style=\"color: #7f7f7f; text-decoration-color: #7f7f7f\">╭─ Arguments ─────────────────────────────────────────────────────────────────────────────────────────────────────╮</span>\n",
       "<span style=\"color: #7f7f7f; text-decoration-color: #7f7f7f\">│</span> <span style=\"color: #800000; text-decoration-color: #800000\">*</span>    app      <span style=\"color: #808000; text-decoration-color: #808000; font-weight: bold\">TEXT</span>  input in the form of 'path:app', where **path** is the path to a python file and **app** is <span style=\"color: #7f7f7f; text-decoration-color: #7f7f7f\">│</span>\n",
       "<span style=\"color: #7f7f7f; text-decoration-color: #7f7f7f\">│</span>                     an object of type **FastKafka**.                                                            <span style=\"color: #7f7f7f; text-decoration-color: #7f7f7f\">│</span>\n",
       "<span style=\"color: #7f7f7f; text-decoration-color: #7f7f7f\">│</span>                     <span style=\"color: #7f7f7f; text-decoration-color: #7f7f7f\">[default: None]                                                                            </span> <span style=\"color: #7f7f7f; text-decoration-color: #7f7f7f\">│</span>\n",
       "<span style=\"color: #7f7f7f; text-decoration-color: #7f7f7f\">│</span>                     <span style=\"color: #bf7f7f; text-decoration-color: #bf7f7f\">[required]                                                                                 </span> <span style=\"color: #7f7f7f; text-decoration-color: #7f7f7f\">│</span>\n",
       "<span style=\"color: #7f7f7f; text-decoration-color: #7f7f7f\">╰─────────────────────────────────────────────────────────────────────────────────────────────────────────────────╯</span>\n",
       "</pre>\n"
      ],
      "text/plain": [
       "\u001b[2m╭─\u001b[0m\u001b[2m Arguments \u001b[0m\u001b[2m────────────────────────────────────────────────────────────────────────────────────────────────────\u001b[0m\u001b[2m─╮\u001b[0m\n",
       "\u001b[2m│\u001b[0m \u001b[31m*\u001b[0m    app      \u001b[1;33mTEXT\u001b[0m  input in the form of 'path:app', where **path** is the path to a python file and **app** is \u001b[2m│\u001b[0m\n",
       "\u001b[2m│\u001b[0m                     an object of type **FastKafka**.                                                            \u001b[2m│\u001b[0m\n",
       "\u001b[2m│\u001b[0m                     \u001b[2m[default: None]                                                                            \u001b[0m \u001b[2m│\u001b[0m\n",
       "\u001b[2m│\u001b[0m                     \u001b[2;31m[required]                                                                                 \u001b[0m \u001b[2m│\u001b[0m\n",
       "\u001b[2m╰─────────────────────────────────────────────────────────────────────────────────────────────────────────────────╯\u001b[0m\n"
      ]
     },
     "metadata": {},
     "output_type": "display_data"
    },
    {
     "data": {
      "text/html": [
       "<pre style=\"white-space:pre;overflow-x:auto;line-height:normal;font-family:Menlo,'DejaVu Sans Mono',consolas,'Courier New',monospace\"><span style=\"color: #7f7f7f; text-decoration-color: #7f7f7f\">╭─ Options ───────────────────────────────────────────────────────────────────────────────────────────────────────╮</span>\n",
       "<span style=\"color: #7f7f7f; text-decoration-color: #7f7f7f\">│</span> <span style=\"color: #008080; text-decoration-color: #008080; font-weight: bold\">--root-path</span>        <span style=\"color: #808000; text-decoration-color: #808000; font-weight: bold\">TEXT</span>  root path under which documentation will be created <span style=\"color: #7f7f7f; text-decoration-color: #7f7f7f\">[default: .]</span>                       <span style=\"color: #7f7f7f; text-decoration-color: #7f7f7f\">│</span>\n",
       "<span style=\"color: #7f7f7f; text-decoration-color: #7f7f7f\">│</span> <span style=\"color: #008080; text-decoration-color: #008080; font-weight: bold\">--help</span>             <span style=\"color: #808000; text-decoration-color: #808000; font-weight: bold\">    </span>  Show this message and exit.                                                            <span style=\"color: #7f7f7f; text-decoration-color: #7f7f7f\">│</span>\n",
       "<span style=\"color: #7f7f7f; text-decoration-color: #7f7f7f\">╰─────────────────────────────────────────────────────────────────────────────────────────────────────────────────╯</span>\n",
       "</pre>\n"
      ],
      "text/plain": [
       "\u001b[2m╭─\u001b[0m\u001b[2m Options \u001b[0m\u001b[2m──────────────────────────────────────────────────────────────────────────────────────────────────────\u001b[0m\u001b[2m─╮\u001b[0m\n",
       "\u001b[2m│\u001b[0m \u001b[1;36m-\u001b[0m\u001b[1;36m-root\u001b[0m\u001b[1;36m-path\u001b[0m        \u001b[1;33mTEXT\u001b[0m  root path under which documentation will be created \u001b[2m[default: .]\u001b[0m                       \u001b[2m│\u001b[0m\n",
       "\u001b[2m│\u001b[0m \u001b[1;36m-\u001b[0m\u001b[1;36m-help\u001b[0m             \u001b[1;33m    \u001b[0m  Show this message and exit.                                                            \u001b[2m│\u001b[0m\n",
       "\u001b[2m╰─────────────────────────────────────────────────────────────────────────────────────────────────────────────────╯\u001b[0m\n"
      ]
     },
     "metadata": {},
     "output_type": "display_data"
    }
   ],
   "source": [
    "result = runner.invoke(_app, [\"docs\", \"generate\", \"--help\"])"
   ]
  },
  {
   "cell_type": "code",
   "execution_count": null,
   "id": "4a759342",
   "metadata": {},
   "outputs": [
    {
     "name": "stdout",
     "output_type": "stream",
     "text": [
      "[INFO] main: check\n",
      "[INFO] fastkafka._components.asyncapi: Old async specifications at '/tmp/tmphi_sbea4/asyncapi/spec/asyncapi.yml' does not exist.\n",
      "[INFO] fastkafka._components.asyncapi: New async specifications generated at: '/tmp/tmphi_sbea4/asyncapi/spec/asyncapi.yml'\n",
      "[INFO] fastkafka._components.asyncapi: Async docs generated at 'asyncapi/docs'\n",
      "[INFO] fastkafka._components.asyncapi: Output of '$ npx -y -p @asyncapi/generator ag asyncapi/spec/asyncapi.yml @asyncapi/html-template -o asyncapi/docs --force-write'\u001b[32m\n",
      "\n",
      "Done! ✨\u001b[0m\n",
      "\u001b[33mCheck out your shiny new generated files at \u001b[0m\u001b[35m/tmp/tmphi_sbea4/asyncapi/docs\u001b[0m\u001b[33m.\u001b[0m\n",
      "\n",
      "\n",
      "\n",
      "\n"
     ]
    }
   ],
   "source": [
    "with generate_app_in_tmp() as import_str:\n",
    "        result = runner.invoke(_app, [\"docs\", \"generate\", import_str])\n",
    "        typer.echo(result.output)\n",
    "        assert result.exit_code == 0\n",
    "\n",
    "        result = runner.invoke(_app, [\"docs\", \"generate\", import_str])\n",
    "        typer.echo(result.output)\n",
    "        assert result.exit_code == 0"
   ]
  },
  {
   "cell_type": "code",
   "execution_count": null,
   "id": "e81b95fe",
   "metadata": {},
   "outputs": [
    {
     "data": {
      "text/html": [
       "<pre style=\"white-space:pre;overflow-x:auto;line-height:normal;font-family:Menlo,'DejaVu Sans Mono',consolas,'Courier New',monospace\"><span style=\"font-weight: bold\">                                                                                                                   </span>\n",
       "<span style=\"font-weight: bold\"> </span><span style=\"color: #808000; text-decoration-color: #808000; font-weight: bold\">Usage: </span><span style=\"font-weight: bold\">root docs serve [OPTIONS] APP                                                                              </span>\n",
       "<span style=\"font-weight: bold\">                                                                                                                   </span>\n",
       "</pre>\n"
      ],
      "text/plain": [
       "\u001b[1m                                                                                                                   \u001b[0m\n",
       "\u001b[1m \u001b[0m\u001b[1;33mUsage: \u001b[0m\u001b[1mroot docs serve [OPTIONS] APP\u001b[0m\u001b[1m                                                                             \u001b[0m\u001b[1m \u001b[0m\n",
       "\u001b[1m                                                                                                                   \u001b[0m\n"
      ]
     },
     "metadata": {},
     "output_type": "display_data"
    },
    {
     "data": {
      "text/html": [
       "<pre style=\"white-space:pre;overflow-x:auto;line-height:normal;font-family:Menlo,'DejaVu Sans Mono',consolas,'Courier New',monospace\"> Creates documentation for a Fast Kafka API application                                                            \n",
       "                                                                                                                   \n",
       "</pre>\n"
      ],
      "text/plain": [
       " Creates documentation for a Fast Kafka API application                                                            \n",
       "                                                                                                                   \n"
      ]
     },
     "metadata": {},
     "output_type": "display_data"
    },
    {
     "data": {
      "text/html": [
       "<pre style=\"white-space:pre;overflow-x:auto;line-height:normal;font-family:Menlo,'DejaVu Sans Mono',consolas,'Courier New',monospace\"><span style=\"color: #7f7f7f; text-decoration-color: #7f7f7f\">╭─ Arguments ─────────────────────────────────────────────────────────────────────────────────────────────────────╮</span>\n",
       "<span style=\"color: #7f7f7f; text-decoration-color: #7f7f7f\">│</span> <span style=\"color: #800000; text-decoration-color: #800000\">*</span>    app      <span style=\"color: #808000; text-decoration-color: #808000; font-weight: bold\">TEXT</span>  input in the form of 'path:app', where **path** is the path to a python file and **app** is <span style=\"color: #7f7f7f; text-decoration-color: #7f7f7f\">│</span>\n",
       "<span style=\"color: #7f7f7f; text-decoration-color: #7f7f7f\">│</span>                     an object of type **FastKafka**.                                                            <span style=\"color: #7f7f7f; text-decoration-color: #7f7f7f\">│</span>\n",
       "<span style=\"color: #7f7f7f; text-decoration-color: #7f7f7f\">│</span>                     <span style=\"color: #7f7f7f; text-decoration-color: #7f7f7f\">[default: None]                                                                            </span> <span style=\"color: #7f7f7f; text-decoration-color: #7f7f7f\">│</span>\n",
       "<span style=\"color: #7f7f7f; text-decoration-color: #7f7f7f\">│</span>                     <span style=\"color: #bf7f7f; text-decoration-color: #bf7f7f\">[required]                                                                                 </span> <span style=\"color: #7f7f7f; text-decoration-color: #7f7f7f\">│</span>\n",
       "<span style=\"color: #7f7f7f; text-decoration-color: #7f7f7f\">╰─────────────────────────────────────────────────────────────────────────────────────────────────────────────────╯</span>\n",
       "</pre>\n"
      ],
      "text/plain": [
       "\u001b[2m╭─\u001b[0m\u001b[2m Arguments \u001b[0m\u001b[2m────────────────────────────────────────────────────────────────────────────────────────────────────\u001b[0m\u001b[2m─╮\u001b[0m\n",
       "\u001b[2m│\u001b[0m \u001b[31m*\u001b[0m    app      \u001b[1;33mTEXT\u001b[0m  input in the form of 'path:app', where **path** is the path to a python file and **app** is \u001b[2m│\u001b[0m\n",
       "\u001b[2m│\u001b[0m                     an object of type **FastKafka**.                                                            \u001b[2m│\u001b[0m\n",
       "\u001b[2m│\u001b[0m                     \u001b[2m[default: None]                                                                            \u001b[0m \u001b[2m│\u001b[0m\n",
       "\u001b[2m│\u001b[0m                     \u001b[2;31m[required]                                                                                 \u001b[0m \u001b[2m│\u001b[0m\n",
       "\u001b[2m╰─────────────────────────────────────────────────────────────────────────────────────────────────────────────────╯\u001b[0m\n"
      ]
     },
     "metadata": {},
     "output_type": "display_data"
    },
    {
     "data": {
      "text/html": [
       "<pre style=\"white-space:pre;overflow-x:auto;line-height:normal;font-family:Menlo,'DejaVu Sans Mono',consolas,'Courier New',monospace\"><span style=\"color: #7f7f7f; text-decoration-color: #7f7f7f\">╭─ Options ───────────────────────────────────────────────────────────────────────────────────────────────────────╮</span>\n",
       "<span style=\"color: #7f7f7f; text-decoration-color: #7f7f7f\">│</span> <span style=\"color: #008080; text-decoration-color: #008080; font-weight: bold\">--root-path</span>        <span style=\"color: #808000; text-decoration-color: #808000; font-weight: bold\">TEXT   </span>  root path under which documentation will be created <span style=\"color: #7f7f7f; text-decoration-color: #7f7f7f\">[default: .]</span>                    <span style=\"color: #7f7f7f; text-decoration-color: #7f7f7f\">│</span>\n",
       "<span style=\"color: #7f7f7f; text-decoration-color: #7f7f7f\">│</span> <span style=\"color: #008080; text-decoration-color: #008080; font-weight: bold\">--bind</span>             <span style=\"color: #808000; text-decoration-color: #808000; font-weight: bold\">TEXT   </span>  Some info <span style=\"color: #7f7f7f; text-decoration-color: #7f7f7f\">[default: 0.0.0.0]</span>                                                        <span style=\"color: #7f7f7f; text-decoration-color: #7f7f7f\">│</span>\n",
       "<span style=\"color: #7f7f7f; text-decoration-color: #7f7f7f\">│</span> <span style=\"color: #008080; text-decoration-color: #008080; font-weight: bold\">--port</span>             <span style=\"color: #808000; text-decoration-color: #808000; font-weight: bold\">INTEGER</span>  Some info <span style=\"color: #7f7f7f; text-decoration-color: #7f7f7f\">[default: 8000]</span>                                                           <span style=\"color: #7f7f7f; text-decoration-color: #7f7f7f\">│</span>\n",
       "<span style=\"color: #7f7f7f; text-decoration-color: #7f7f7f\">│</span> <span style=\"color: #008080; text-decoration-color: #008080; font-weight: bold\">--help</span>             <span style=\"color: #808000; text-decoration-color: #808000; font-weight: bold\">       </span>  Show this message and exit.                                                         <span style=\"color: #7f7f7f; text-decoration-color: #7f7f7f\">│</span>\n",
       "<span style=\"color: #7f7f7f; text-decoration-color: #7f7f7f\">╰─────────────────────────────────────────────────────────────────────────────────────────────────────────────────╯</span>\n",
       "</pre>\n"
      ],
      "text/plain": [
       "\u001b[2m╭─\u001b[0m\u001b[2m Options \u001b[0m\u001b[2m──────────────────────────────────────────────────────────────────────────────────────────────────────\u001b[0m\u001b[2m─╮\u001b[0m\n",
       "\u001b[2m│\u001b[0m \u001b[1;36m-\u001b[0m\u001b[1;36m-root\u001b[0m\u001b[1;36m-path\u001b[0m        \u001b[1;33mTEXT   \u001b[0m  root path under which documentation will be created \u001b[2m[default: .]\u001b[0m                    \u001b[2m│\u001b[0m\n",
       "\u001b[2m│\u001b[0m \u001b[1;36m-\u001b[0m\u001b[1;36m-bind\u001b[0m             \u001b[1;33mTEXT   \u001b[0m  Some info \u001b[2m[default: 0.0.0.0]\u001b[0m                                                        \u001b[2m│\u001b[0m\n",
       "\u001b[2m│\u001b[0m \u001b[1;36m-\u001b[0m\u001b[1;36m-port\u001b[0m             \u001b[1;33mINTEGER\u001b[0m  Some info \u001b[2m[default: 8000]\u001b[0m                                                           \u001b[2m│\u001b[0m\n",
       "\u001b[2m│\u001b[0m \u001b[1;36m-\u001b[0m\u001b[1;36m-help\u001b[0m             \u001b[1;33m       \u001b[0m  Show this message and exit.                                                         \u001b[2m│\u001b[0m\n",
       "\u001b[2m╰─────────────────────────────────────────────────────────────────────────────────────────────────────────────────╯\u001b[0m\n"
      ]
     },
     "metadata": {},
     "output_type": "display_data"
    }
   ],
   "source": [
    "result = runner.invoke(_app, [\"docs\", \"serve\", \"--help\"])"
   ]
  },
  {
   "cell_type": "code",
   "execution_count": null,
   "id": "d2a20790",
   "metadata": {},
   "outputs": [
    {
     "name": "stdout",
     "output_type": "stream",
     "text": [
      "[INFO] main: check\n",
      "[INFO] fastkafka._components.asyncapi: Old async specifications at '/tmp/tmpzpjm0ycc/asyncapi/spec/asyncapi.yml' does not exist.\n",
      "[INFO] fastkafka._components.asyncapi: New async specifications generated at: '/tmp/tmpzpjm0ycc/asyncapi/spec/asyncapi.yml'\n",
      "[INFO] fastkafka._components.asyncapi: Async docs generated at 'asyncapi/docs'\n",
      "[INFO] fastkafka._components.asyncapi: Output of '$ npx -y -p @asyncapi/generator ag asyncapi/spec/asyncapi.yml @asyncapi/html-template -o asyncapi/docs --force-write'\u001b[32m\n",
      "\n",
      "Done! ✨\u001b[0m\n",
      "\u001b[33mCheck out your shiny new generated files at \u001b[0m\u001b[35m/tmp/tmpzpjm0ycc/asyncapi/docs\u001b[0m\u001b[33m.\u001b[0m\n",
      "\n",
      "\n",
      "Serving documentation on http://0.0.0.0:39234\n",
      "Interupting serving of documentation and cleaning up...\n",
      "\n"
     ]
    }
   ],
   "source": [
    "with generate_app_in_tmp() as app:\n",
    "    proc = await asyncio.create_subprocess_exec(\n",
    "                \"fastkafka\", \"docs\", \"serve\",  \"--port=48000\", app, stdout=asyncio.subprocess.PIPE\n",
    "            )\n",
    "    time.sleep(10)\n",
    "    proc.terminate()\n",
    "    await proc.wait()\n",
    "    outputs, errs = await proc.communicate()\n",
    "    assert proc.returncode == 0, proc.returncode\n",
    "    print(outputs.decode(\"utf-8\"))"
   ]
  },
  {
   "cell_type": "code",
   "execution_count": null,
   "id": "9f1ec310",
   "metadata": {},
   "outputs": [],
   "source": []
  }
 ],
 "metadata": {
  "kernelspec": {
   "display_name": "Python 3 (ipykernel)",
   "language": "python",
   "name": "python3"
  }
 },
 "nbformat": 4,
 "nbformat_minor": 5
}
